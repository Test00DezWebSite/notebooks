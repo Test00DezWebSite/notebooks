{
 "cells": [
  {
   "cell_type": "code",
   "execution_count": 89,
   "metadata": {
    "collapsed": false
   },
   "outputs": [
    {
     "name": "stdout",
     "output_type": "stream",
     "text": [
      "Populating the interactive namespace from numpy and matplotlib\n",
      "The autoreload extension is already loaded. To reload it, use:\n",
      "  %reload_ext autoreload\n"
     ]
    }
   ],
   "source": [
    "%pylab inline\n",
    "%load_ext autoreload\n",
    "%autoreload 2"
   ]
  },
  {
   "cell_type": "code",
   "execution_count": 90,
   "metadata": {
    "collapsed": false
   },
   "outputs": [],
   "source": [
    "import sys,os\n",
    "sys.path.append('..')\n",
    "sys.path.append('../..')\n",
    "from backtester import matlab, backtester\n",
    "from backtester.analysis import *\n",
    "from backtester.swarms.swarm import Swarm\n",
    "from backtester.exoinfo import EXOInfo\n",
    "from exobuilder.data.exostorage import EXOStorage\n",
    "from IPython.core.display import display, HTML\n",
    "\n",
    "import pandas as pd\n",
    "import numpy as np\n",
    "import scipy\n",
    "import pprint"
   ]
  },
  {
   "cell_type": "code",
   "execution_count": 91,
   "metadata": {
    "collapsed": true
   },
   "outputs": [],
   "source": [
    "# Loading global setting for MongoDB etc.\n",
    "from scripts.settings import *\n",
    "\n",
    "try:\n",
    "    from scripts.settings_local import *\n",
    "except:\n",
    "    pass"
   ]
  },
  {
   "cell_type": "code",
   "execution_count": 92,
   "metadata": {
    "collapsed": false
   },
   "outputs": [],
   "source": [
    "storage = EXOStorage(MONGO_CONNSTR, MONGO_EXO_DB)\n",
    "pp = pprint.PrettyPrinter(indent=4)\n"
   ]
  },
  {
   "cell_type": "markdown",
   "metadata": {},
   "source": [
    "## View EXO data"
   ]
  },
  {
   "cell_type": "code",
   "execution_count": 93,
   "metadata": {
    "collapsed": false
   },
   "outputs": [],
   "source": [
    "exo_list = storage.exo_list()"
   ]
  },
  {
   "cell_type": "code",
   "execution_count": 94,
   "metadata": {
    "collapsed": false
   },
   "outputs": [
    {
     "name": "stdout",
     "output_type": "stream",
     "text": [
      "[   'ES_BullishCollarBW',\n",
      "    'ES_BearishCollarBW',\n",
      "    'ES_CallSpread',\n",
      "    'ES_PutSpread',\n",
      "    'ES_ContFut',\n",
      "    'ZS_BullishCollarBW',\n",
      "    'ZS_BearishCollarBW',\n",
      "    'ZS_CallSpread',\n",
      "    'ZS_PutSpread',\n",
      "    'ZS_ContFut',\n",
      "    'CL_BullishCollarBW',\n",
      "    'CL_BearishCollarBW',\n",
      "    'CL_CallSpread',\n",
      "    'CL_PutSpread',\n",
      "    'CL_ContFut',\n",
      "    'ZW_BullishCollarBW',\n",
      "    'ZW_BearishCollarBW',\n",
      "    'ZW_CallSpread',\n",
      "    'ZW_PutSpread',\n",
      "    'ZW_ContFut',\n",
      "    'ZN_BullishCollarBW',\n",
      "    'ZN_BearishCollarBW',\n",
      "    'ZN_CallSpread',\n",
      "    'ZN_PutSpread',\n",
      "    'ZN_ContFut',\n",
      "    'NG_BullishCollarBW',\n",
      "    'NG_BearishCollarBW',\n",
      "    'NG_CallSpread',\n",
      "    'NG_PutSpread',\n",
      "    'NG_ContFut',\n",
      "    'ZC_BullishCollarBW',\n",
      "    'ZC_BearishCollarBW',\n",
      "    'ZC_CallSpread',\n",
      "    'ZC_PutSpread',\n",
      "    'ZC_ContFut',\n",
      "    'CL_SMART_Ichimoku_Long',\n",
      "    'ES_SMART_Ichimoku_Long',\n",
      "    'NG_SMART_Ichimoku_Long',\n",
      "    'ZC_SMART_Ichimoku_Long',\n",
      "    'ZS_SMART_Ichimoku_Long',\n",
      "    'ZW_SMART_Ichimoku_Long',\n",
      "    'ZN_SMART_Ichimoku_Long']\n"
     ]
    }
   ],
   "source": [
    "pp.pprint(exo_list)"
   ]
  },
  {
   "cell_type": "markdown",
   "metadata": {},
   "source": [
    "### View single EXO"
   ]
  },
  {
   "cell_type": "code",
   "execution_count": 110,
   "metadata": {
    "collapsed": true
   },
   "outputs": [],
   "source": [
    "exo_series, exo_dict = storage.load_series('NG_SMART_Ichimoku_Long')"
   ]
  },
  {
   "cell_type": "code",
   "execution_count": 111,
   "metadata": {
    "collapsed": false
   },
   "outputs": [
    {
     "name": "stdout",
     "output_type": "stream",
     "text": [
      "{   'margin': 0,\n",
      "    'name': 'NG_SMART_Ichimoku_Long',\n",
      "    'pcf': [],\n",
      "    'pcfqty': [],\n",
      "    'underlying': ''}\n"
     ]
    }
   ],
   "source": [
    "# Exo meta-information\n",
    "pp.pprint(exo_dict)"
   ]
  },
  {
   "cell_type": "code",
   "execution_count": 112,
   "metadata": {
    "collapsed": false
   },
   "outputs": [
    {
     "data": {
      "text/plain": [
       "<matplotlib.axes._subplots.AxesSubplot at 0x7fb649256358>"
      ]
     },
     "execution_count": 112,
     "metadata": {},
     "output_type": "execute_result"
    },
    {
     "data": {
      "image/png": "[encoded data removed]",
      "text/plain": [
       "<matplotlib.figure.Figure at 0x7fb649448ba8>"
      ]
     },
     "metadata": {},
     "output_type": "display_data"
    }
   ],
   "source": [
    "exo_series['exo'].plot()"
   ]
  },
  {
   "cell_type": "markdown",
   "metadata": {},
   "source": [
    "### Save EXO data to CSVs"
   ]
  },
  {
   "cell_type": "code",
   "execution_count": 10,
   "metadata": {
    "collapsed": false
   },
   "outputs": [
    {
     "data": {
      "text/html": [
       "<h3>EXO list available for downloading</h3>"
      ],
      "text/plain": [
       "<IPython.core.display.HTML object>"
      ]
     },
     "metadata": {},
     "output_type": "display_data"
    },
    {
     "data": {
      "text/html": [
       "<a href=\"export/exo/CL_BearishCollarBW.csv\" target=\"_blank\">CL_BearishCollarBW</a><br><a href=\"export/exo/CL_BullishCollarBW.csv\" target=\"_blank\">CL_BullishCollarBW</a><br><a href=\"export/exo/CL_CallSpread.csv\" target=\"_blank\">CL_CallSpread</a><br><a href=\"export/exo/CL_ContFut.csv\" target=\"_blank\">CL_ContFut</a><br><a href=\"export/exo/CL_PutSpread.csv\" target=\"_blank\">CL_PutSpread</a><br><a href=\"export/exo/CL_SMART_Ichimoku_Long.csv\" target=\"_blank\">CL_SMART_Ichimoku_Long</a><br><a href=\"export/exo/CL_SMART_Ichimoku_Short.csv\" target=\"_blank\">CL_SMART_Ichimoku_Short</a><br><a href=\"export/exo/ES_BearishCollarBW.csv\" target=\"_blank\">ES_BearishCollarBW</a><br><a href=\"export/exo/ES_BullishCollarBW.csv\" target=\"_blank\">ES_BullishCollarBW</a><br><a href=\"export/exo/ES_CallSpread.csv\" target=\"_blank\">ES_CallSpread</a><br><a href=\"export/exo/ES_ContFut.csv\" target=\"_blank\">ES_ContFut</a><br><a href=\"export/exo/ES_PutSpread.csv\" target=\"_blank\">ES_PutSpread</a><br><a href=\"export/exo/ES_SMART_Ichimoku_Long.csv\" target=\"_blank\">ES_SMART_Ichimoku_Long</a><br><a href=\"export/exo/ES_SMART_Ichimoku_Short.csv\" target=\"_blank\">ES_SMART_Ichimoku_Short</a><br><a href=\"export/exo/NG_BearishCollarBW.csv\" target=\"_blank\">NG_BearishCollarBW</a><br><a href=\"export/exo/NG_BullishCollarBW.csv\" target=\"_blank\">NG_BullishCollarBW</a><br><a href=\"export/exo/NG_CallSpread.csv\" target=\"_blank\">NG_CallSpread</a><br><a href=\"export/exo/NG_ContFut.csv\" target=\"_blank\">NG_ContFut</a><br><a href=\"export/exo/NG_PutSpread.csv\" target=\"_blank\">NG_PutSpread</a><br><a href=\"export/exo/NG_SMART_Ichimoku_Long.csv\" target=\"_blank\">NG_SMART_Ichimoku_Long</a><br><a href=\"export/exo/NG_SMART_Ichimoku_Short.csv\" target=\"_blank\">NG_SMART_Ichimoku_Short</a><br><a href=\"export/exo/ZC_BearishCollarBW.csv\" target=\"_blank\">ZC_BearishCollarBW</a><br><a href=\"export/exo/ZC_BullishCollarBW.csv\" target=\"_blank\">ZC_BullishCollarBW</a><br><a href=\"export/exo/ZC_CallSpread.csv\" target=\"_blank\">ZC_CallSpread</a><br><a href=\"export/exo/ZC_ContFut.csv\" target=\"_blank\">ZC_ContFut</a><br><a href=\"export/exo/ZC_PutSpread.csv\" target=\"_blank\">ZC_PutSpread</a><br><a href=\"export/exo/ZC_SMART_Ichimoku_Long.csv\" target=\"_blank\">ZC_SMART_Ichimoku_Long</a><br><a href=\"export/exo/ZC_SMART_Ichimoku_Short.csv\" target=\"_blank\">ZC_SMART_Ichimoku_Short</a><br><a href=\"export/exo/ZN_BearishCollarBW.csv\" target=\"_blank\">ZN_BearishCollarBW</a><br><a href=\"export/exo/ZN_BullishCollarBW.csv\" target=\"_blank\">ZN_BullishCollarBW</a><br><a href=\"export/exo/ZN_CallSpread.csv\" target=\"_blank\">ZN_CallSpread</a><br><a href=\"export/exo/ZN_ContFut.csv\" target=\"_blank\">ZN_ContFut</a><br><a href=\"export/exo/ZN_PutSpread.csv\" target=\"_blank\">ZN_PutSpread</a><br><a href=\"export/exo/ZN_SMART_Ichimoku_Long.csv\" target=\"_blank\">ZN_SMART_Ichimoku_Long</a><br><a href=\"export/exo/ZN_SMART_Ichimoku_Short.csv\" target=\"_blank\">ZN_SMART_Ichimoku_Short</a><br><a href=\"export/exo/ZS_BearishCollarBW.csv\" target=\"_blank\">ZS_BearishCollarBW</a><br><a href=\"export/exo/ZS_BullishCollarBW.csv\" target=\"_blank\">ZS_BullishCollarBW</a><br><a href=\"export/exo/ZS_CallSpread.csv\" target=\"_blank\">ZS_CallSpread</a><br><a href=\"export/exo/ZS_ContFut.csv\" target=\"_blank\">ZS_ContFut</a><br><a href=\"export/exo/ZS_PutSpread.csv\" target=\"_blank\">ZS_PutSpread</a><br><a href=\"export/exo/ZS_SMART_Ichimoku_Long.csv\" target=\"_blank\">ZS_SMART_Ichimoku_Long</a><br><a href=\"export/exo/ZS_SMART_Ichimoku_Short.csv\" target=\"_blank\">ZS_SMART_Ichimoku_Short</a><br><a href=\"export/exo/ZW_BearishCollarBW.csv\" target=\"_blank\">ZW_BearishCollarBW</a><br><a href=\"export/exo/ZW_BullishCollarBW.csv\" target=\"_blank\">ZW_BullishCollarBW</a><br><a href=\"export/exo/ZW_CallSpread.csv\" target=\"_blank\">ZW_CallSpread</a><br><a href=\"export/exo/ZW_ContFut.csv\" target=\"_blank\">ZW_ContFut</a><br><a href=\"export/exo/ZW_PutSpread.csv\" target=\"_blank\">ZW_PutSpread</a><br><a href=\"export/exo/ZW_SMART_Ichimoku_Long.csv\" target=\"_blank\">ZW_SMART_Ichimoku_Long</a><br><a href=\"export/exo/ZW_SMART_Ichimoku_Short.csv\" target=\"_blank\">ZW_SMART_Ichimoku_Short</a><br>"
      ],
      "text/plain": [
       "<IPython.core.display.HTML object>"
      ]
     },
     "metadata": {},
     "output_type": "display_data"
    }
   ],
   "source": [
    "links = ''\n",
    "if not os.path.exists('export'):\n",
    "    os.mkdir('export')\n",
    "if not os.path.exists(os.path.join('export', 'exo')):\n",
    "    os.mkdir(os.path.join('export', 'exo'))\n",
    "    \n",
    "for exo_name in sorted(exo_list):\n",
    "    exo_series, exo_dict = storage.load_series(exo_name)\n",
    "    exo_series['exo'].to_csv(os.path.join('export', 'exo', exo_name+'.csv'))    \n",
    "    links += '<a href=\"export/exo/{0}.csv\" target=\"_blank\">{0}</a><br>'.format(exo_name)\n",
    "\n",
    "display(HTML('<h3>EXO list available for downloading</h3>'))\n",
    "display(HTML(links))"
   ]
  },
  {
   "cell_type": "markdown",
   "metadata": {},
   "source": [
    "# Alpha export"
   ]
  },
  {
   "cell_type": "markdown",
   "metadata": {},
   "source": [
    "### List of available products in Mongo"
   ]
  },
  {
   "cell_type": "code",
   "execution_count": 11,
   "metadata": {
    "collapsed": false
   },
   "outputs": [
    {
     "name": "stdout",
     "output_type": "stream",
     "text": [
      "{   '_id': None,\n",
      "    'alphas': [   'RenkoPatternsNoExits',\n",
      "                  'SwingPoint',\n",
      "                  'EXO',\n",
      "                  'PointAndFigure',\n",
      "                  'IchimokuCloud',\n",
      "                  'MACross',\n",
      "                  'BolllingerBands'],\n",
      "    'exo_types': [   'CallSpread',\n",
      "                     'PutSpread',\n",
      "                     'ContFut',\n",
      "                     'BullishCollarBW',\n",
      "                     'BearishCollarBW'],\n",
      "    'instruments': ['ZC', 'NG', 'ZN', 'ES', 'ZS', 'CL', 'ZW']}\n"
     ]
    }
   ],
   "source": [
    "swm_info = storage.swarms_info()\n",
    "pp.pprint(swm_info)"
   ]
  },
  {
   "cell_type": "markdown",
   "metadata": {},
   "source": [
    "### Getting swarm using filter"
   ]
  },
  {
   "cell_type": "code",
   "execution_count": 12,
   "metadata": {
    "collapsed": false
   },
   "outputs": [],
   "source": [
    "instruments_filter = ['*']  # Select ALL\n",
    "#instruments_filter = ['ES', 'CL']\n",
    "\n",
    "exo_filter = ['*'] # Select ALL\n",
    "exo_filter = ['BullishCollar']\n",
    "\n",
    "direction_filter = [0, -1, 1] # Select ALL\n",
    "direction_filter = [1]\n",
    "\n",
    "alpha_filter = ['*']  # Select ALL\n",
    "#alpha_filter = ['MaCross', 'PointAndFigurePatterns']\n",
    "\n",
    "swmdf, swm_data = storage.swarms_list(instruments_filter, direction_filter, alpha_filter, exo_filter)"
   ]
  },
  {
   "cell_type": "markdown",
   "metadata": {},
   "source": [
    "## Swarms loaded"
   ]
  },
  {
   "cell_type": "code",
   "execution_count": 13,
   "metadata": {
    "collapsed": false
   },
   "outputs": [
    {
     "name": "stdout",
     "output_type": "stream",
     "text": [
      "CL_BullishCollarBW_Long_EXO\n",
      "ES_BullishCollarBW_Long_EXO\n",
      "NG_BullishCollarBW_Long_EXO\n",
      "ZC_BullishCollarBW_Long_EXO\n",
      "ZN_BullishCollarBW_Long_EXO\n",
      "ZS_BullishCollarBW_Long_EXO\n",
      "ZW_BullishCollarBW_Long_EXO\n"
     ]
    }
   ],
   "source": [
    "[print(s) for s in sorted(swmdf.columns)];"
   ]
  },
  {
   "cell_type": "markdown",
   "metadata": {},
   "source": [
    "### Saving swarm equities (picked_equity lines)"
   ]
  },
  {
   "cell_type": "code",
   "execution_count": 14,
   "metadata": {
    "collapsed": false
   },
   "outputs": [
    {
     "data": {
      "text/html": [
       "<h3>Swarms list available for downloading</h3>"
      ],
      "text/plain": [
       "<IPython.core.display.HTML object>"
      ]
     },
     "metadata": {},
     "output_type": "display_data"
    },
    {
     "data": {
      "text/html": [
       "<a href=\"export/swarms/CL_BullishCollarBW_Long_EXO.csv\" target=\"_blank\">CL_BullishCollarBW_Long_EXO</a><br><a href=\"export/swarms/ES_BullishCollarBW_Long_EXO.csv\" target=\"_blank\">ES_BullishCollarBW_Long_EXO</a><br><a href=\"export/swarms/NG_BullishCollarBW_Long_EXO.csv\" target=\"_blank\">NG_BullishCollarBW_Long_EXO</a><br><a href=\"export/swarms/ZC_BullishCollarBW_Long_EXO.csv\" target=\"_blank\">ZC_BullishCollarBW_Long_EXO</a><br><a href=\"export/swarms/ZN_BullishCollarBW_Long_EXO.csv\" target=\"_blank\">ZN_BullishCollarBW_Long_EXO</a><br><a href=\"export/swarms/ZS_BullishCollarBW_Long_EXO.csv\" target=\"_blank\">ZS_BullishCollarBW_Long_EXO</a><br><a href=\"export/swarms/ZW_BullishCollarBW_Long_EXO.csv\" target=\"_blank\">ZW_BullishCollarBW_Long_EXO</a><br>"
      ],
      "text/plain": [
       "<IPython.core.display.HTML object>"
      ]
     },
     "metadata": {},
     "output_type": "display_data"
    }
   ],
   "source": [
    "\n",
    "\n",
    "links = ''\n",
    "if not os.path.exists('export'):\n",
    "    os.mkdir('export')\n",
    "if not os.path.exists(os.path.join('export', 'swarms')):\n",
    "    os.mkdir(os.path.join('export', 'swarms'))\n",
    "    \n",
    "for swm_name in sorted(sorted(swmdf.columns)):\n",
    "    \n",
    "    swmdf[swm_name].to_csv(os.path.join('export', 'swarms', swm_name+'.csv'))    \n",
    "    \n",
    "    links += '<a href=\"export/swarms/{0}.csv\" target=\"_blank\">{0}</a><br>'.format(swm_name)\n",
    "\n",
    "display(HTML('<h3>Swarms list available for downloading</h3>'))\n",
    "display(HTML(links))"
   ]
  },
  {
   "cell_type": "markdown",
   "metadata": {
    "collapsed": true
   },
   "source": [
    "# Add all files to the ZIP archive"
   ]
  },
  {
   "cell_type": "code",
   "execution_count": 15,
   "metadata": {
    "collapsed": false
   },
   "outputs": [
    {
     "data": {
      "text/html": [
       "<a href=\"export.zip\" target=\"_blank\">Download all files (.zip archive)</a>"
      ],
      "text/plain": [
       "<IPython.core.display.HTML object>"
      ]
     },
     "metadata": {},
     "output_type": "display_data"
    }
   ],
   "source": [
    "import shutil\n",
    "shutil.make_archive('export', 'zip', 'export');\n",
    "display(HTML('<a href=\"export.zip\" target=\"_blank\">Download all files (.zip archive)</a>'))"
   ]
  },
  {
   "cell_type": "code",
   "execution_count": null,
   "metadata": {
    "collapsed": true
   },
   "outputs": [],
   "source": []
  }
 ],
 "metadata": {
  "kernelspec": {
   "display_name": "Python 3",
   "language": "python",
   "name": "python3"
  },
  "language_info": {
   "codemirror_mode": {
    "name": "ipython",
    "version": 3
   },
   "file_extension": ".py",
   "mimetype": "text/x-python",
   "name": "python",
   "nbconvert_exporter": "python",
   "pygments_lexer": "ipython3",
   "version": "3.5.2"
  }
 },
 "nbformat": 4,
 "nbformat_minor": 0
}
