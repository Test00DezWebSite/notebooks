{
 "cells": [
  {
   "cell_type": "code",
   "execution_count": null,
   "metadata": {
    "collapsed": false
   },
   "outputs": [],
   "source": [
    "%pylab inline\n",
    "%load_ext autoreload\n",
    "%autoreload 2"
   ]
  },
  {
   "cell_type": "code",
   "execution_count": null,
   "metadata": {
    "collapsed": false
   },
   "outputs": [],
   "source": [
    "import sys,os\n",
    "sys.path.append('..')\n",
    "from backtester import matlab, backtester\n",
    "from backtester.analysis import *\n",
    "from backtester.strategy import StrategyBase, OptParam, OptParamArray\n",
    "from backtester.swarms.ranking import SwarmRanker\n",
    "from backtester.swarms.rebalancing import SwarmRebalance\n",
    "from backtester.swarms.filters import SwarmFilter\n",
    "from backtester.costs import CostsManagerEXOFixed\n",
    "from backtester.exoinfo import EXOInfo\n",
    "from backtester.swarms.rankingclasses import *\n",
    "from backtester.swarms.swarm import Swarm\n",
    "\n",
    "import statsmodels.tsa.api as smt\n",
    "\n",
    "import pandas as pd\n",
    "import numpy as np\n",
    "import scipy"
   ]
  },
  {
   "cell_type": "code",
   "execution_count": null,
   "metadata": {
    "collapsed": false
   },
   "outputs": [],
   "source": [
    "from scripts.settings import *\n",
    "try:\n",
    "    from scripts.settings_local import *\n",
    "except:\n",
    "    pass\n",
    "\n",
    "from exobuilder.data.exostorage import EXOStorage\n",
    "\n",
    "storage = EXOStorage(MONGO_CONNSTR, MONGO_EXO_DB)\n",
    "\n",
    "\n",
    "exo_filter = '*'     # All \n",
    "#exo_filter = 'ES_'  # ES only\n",
    "exo_filter = 'CL'  # ES Collars (incl Bearish, Bullish, BW and vanilla)\n",
    "\n",
    "[print(exo) for exo in storage.exo_list(exo_filter)];"
   ]
  },
  {
   "cell_type": "code",
   "execution_count": null,
   "metadata": {
    "collapsed": false
   },
   "outputs": [],
   "source": [
    "class Strategy_SeasDecomp_Residuals(StrategyBase):\n",
    "    name = 'Strategy_SeasDecomp_Residuals'\n",
    "\n",
    "\n",
    "    def __init__(self, strategy_context):\n",
    "        # Initialize parent class\n",
    "        super().__init__(strategy_context)\n",
    "   \n",
    "    def calc_entry_rules(self, pctrank_value, z_score_value, z_score_period, rules_index):\n",
    "\n",
    "        #sd = smt.seasonal_decompose(self.data.exo.asfreq('B').ffill().dropna().iloc[:])#.plot()\n",
    "        \n",
    "        # Lamb values can be an optimized value\n",
    "        \n",
    "        #resid = self.data.exo - smt.filters.hpfilter(self.data.exo, lamb=50000)[1]\n",
    "        #resid = self.data.exo - self.data.exo.ewm(10).mean()\n",
    "        \n",
    "        resid = pd.Series(NaN, index=self.data.exo.index)\n",
    "\n",
    "        window = 10\n",
    "        \n",
    "        for i in range(window, len(self.data.exo)):\n",
    "            hpfilt_slice = smt.filters.hpfilter(self.data.exo.iloc[:i], lamb=50000)[0]\n",
    "            resid.iloc[i] = np.mean(hpfilt_slice[-1:])\n",
    "        \n",
    "        resid_pctrank = resid.rank(pct=True)\n",
    "        \n",
    "        resid_zscore = (resid - resid.rolling(z_score_period).mean()) / resid.rolling(z_score_period).std()\n",
    "        \n",
    "        signals_df = pd.DataFrame()\n",
    "        signals_df['exo'] = self.data.exo\n",
    "        \n",
    "        if rules_index == 0:\n",
    "            entry_signal = pd.Series(resid_pctrank >= pctrank_value, name='entry_signal')\n",
    "            return signals_df.join(entry_signal).fillna(False).entry_signal\n",
    "        \n",
    "        if rules_index == 1:\n",
    "            entry_signal = pd.Series(resid_pctrank <= pctrank_value, name='entry_signal')\n",
    "            return signals_df.join(entry_signal).fillna(False).entry_signal\n",
    "        \n",
    "        if rules_index == 2:\n",
    "            entry_signal = pd.Series(resid_zscore >= z_score_value, name='entry_signal')\n",
    "            return signals_df.join(entry_signal).fillna(False).entry_signal\n",
    "        \n",
    "        if rules_index == 3:\n",
    "            entry_signal = pd.Series(resid_zscore <= -z_score_value, name='entry_signal')\n",
    "            return signals_df.join(entry_signal).fillna(False).entry_signal\n",
    "        \n",
    "        if rules_index > 3:\n",
    "            raise ValueError('Rules index parameter must be in range of 0-3')\n",
    "\n",
    "    def calc_exit_rules(self, pctrank_value, exit_rules_index):\n",
    "\n",
    "        #sd = smt.seasonal_decompose(self.data.exo.asfreq('B').ffill().dropna().iloc[:])#.plot()\n",
    "        \n",
    "        #resid = self.data.exo - smt.filters.hpfilter(self.data.exo, lamb=50000)[1]\n",
    "        resid = self.data.exo - self.data.exo.ewm(10).mean()\n",
    "        \n",
    "        signals_df = pd.DataFrame()\n",
    "        signals_df['exo'] = self.data.exo\n",
    "        \n",
    "        resid_pctrank = resid.rank(pct=True)\n",
    "        \n",
    "        resid_zero_line = pd.Series(0.0, index=resid.index)\n",
    "        \n",
    "        signals_df = pd.DataFrame()\n",
    "        signals_df['exo'] = self.data.exo\n",
    "        \n",
    "        if exit_rules_index == 0:\n",
    "            exit_signal = pd.Series(resid_pctrank >= pctrank_value, name='exit_signal')\n",
    "            return signals_df.join(exit_signal).fillna(False).exit_signal\n",
    "        \n",
    "        if exit_rules_index == 1:\n",
    "            exit_signal = pd.Series(resid_pctrank <= pctrank_value, name='exit_signal')\n",
    "            return signals_df.join(exit_signal).fillna(False).exit_signal      \n",
    "        \n",
    "        if exit_rules_index == 2:\n",
    "            exit_signal = pd.Series((CrossDown(resid, resid_zero_line)) | (CrossUp(resid, resid_zero_line)), name='exit_signal')\n",
    "            return signals_df.join(exit_signal).fillna(False).exit_signal\n",
    "        \n",
    "            \n",
    "    def calculate(self, params=None, save_info=False):\n",
    "    #\n",
    "    #\n",
    "    #  Params is a tripple like (50, 10, 15), where:\n",
    "    #   50 - slow MA period\n",
    "    #   10 - fast MA period\n",
    "    #   15 - median period\n",
    "    #\n",
    "    #  On every iteration of swarming algorithm, parameter set will be different.\n",
    "    #  For more information look inside: /notebooks/tmp/Swarming engine research.ipynb\n",
    "    #\n",
    "\n",
    "        if params is None:\n",
    "            # Return default parameters\n",
    "            direction, pctrank_value, z_score_value, z_score_period, rules_index, exit_rules_index = self.default_opts()\n",
    "        else:\n",
    "            # Unpacking optimization params\n",
    "            #  in order in self.opts definition\n",
    "            direction, pctrank_value, z_score_value, z_score_period, rules_index, exit_rules_index = params\n",
    "\n",
    "        # Defining EXO price\n",
    "        px = self.data.exo\n",
    "                \n",
    "        entry_rule = self.calc_entry_rules(pctrank_value, z_score_value, z_score_period, rules_index)\n",
    "\n",
    "        if direction == 1:\n",
    "            #exit_rule = (CrossDown(px, trailing_stop))  # Cross down for longs\n",
    "            exit_rule = self.calc_exit_rules(pctrank_value, exit_rules_index)\n",
    "            \n",
    "        elif direction == -1:\n",
    "            \n",
    "            #exit_rule = (CrossUp(px, trailing_stop))  # Cross up for shorts, Cross down for longs\n",
    "            exit_rule = self.calc_exit_rules(pctrank_value, exit_rules_index)\n",
    "        # Swarm_member_name must be *unique* for every swarm member\n",
    "        # We use params values for uniqueness\n",
    "        swarm_member_name = self.get_member_name(params)\n",
    "\n",
    "        #\n",
    "        # Calculation info\n",
    "        #\n",
    "        calc_info = None\n",
    "        if save_info:\n",
    "            calc_info = {'trailing_stop': trailing_stop}\n",
    "\n",
    "        return swarm_member_name, entry_rule, exit_rule, calc_info"
   ]
  },
  {
   "cell_type": "markdown",
   "metadata": {},
   "source": [
    "## Script settings"
   ]
  },
  {
   "cell_type": "code",
   "execution_count": null,
   "metadata": {
    "collapsed": false
   },
   "outputs": [],
   "source": [
    "STRATEGY_CONTEXT = {\n",
    "    'strategy': { \n",
    "        'class': Strategy_SeasDecomp_Residuals,\n",
    "        'exo_name': 'CL_SmartEXO_Ichi_Put_Spread_150Delta_Bi',        # <---- Select and paste EXO name from cell above\n",
    "        'exo_storage': storage,          \n",
    "        'opt_params': [\n",
    "                        #OptParam(name, default_value, min_value, max_value, step)\n",
    "                        OptParamArray('Direction', [-1]),\n",
    "                        #OptParam('Pct rank value', 9, 0, 1, 0.2),\n",
    "                        OptParamArray('Pct rank value', [0.1,0.9,0.8,0.2,0.3,0.7]),\n",
    "                        OptParam('Z Score value', 9, 3, 3, 1),\n",
    "                        OptParam('Z Score period', 9, 50, 50, 50),\n",
    "                        #OptParam('Rolling_period', 9, 30, 30, 10),\n",
    "                        OptParamArray('Entry rules index', np.arange(2)),\n",
    "                        OptParamArray('Exit rules index', np.arange(2)),\n",
    "            ],\n",
    "    },\n",
    "    'swarm': {\n",
    "        'members_count': 2,\n",
    "        'ranking_class': RankerBestWithCorrel(window_size=-1, correl_threshold=0.5),\n",
    "        'rebalance_time_function': SwarmRebalance.every_friday,\n",
    "\n",
    "    },\n",
    "    'costs':{\n",
    "        'manager': CostsManagerEXOFixed,\n",
    "        'context': {\n",
    "            'costs_options': 3.0,\n",
    "            'costs_futures': 3.0,\n",
    "        }\n",
    "    }\n",
    "}"
   ]
  },
  {
   "cell_type": "markdown",
   "metadata": {},
   "source": [
    "# Backtest class based strategy"
   ]
  },
  {
   "cell_type": "code",
   "execution_count": null,
   "metadata": {
    "collapsed": false
   },
   "outputs": [],
   "source": [
    "smgr = Swarm(STRATEGY_CONTEXT)\n",
    "smgr.run_swarm()\n",
    "smgr.pick()\n",
    "\n",
    "# Saving results to swarms directory\n",
    "smgr.save('./swarms/')"
   ]
  },
  {
   "cell_type": "markdown",
   "metadata": {},
   "source": [
    "### WARNING! Loading swarm from file (don't run next cell if you want new swarm instance)"
   ]
  },
  {
   "cell_type": "code",
   "execution_count": null,
   "metadata": {
    "collapsed": false
   },
   "outputs": [],
   "source": [
    "smgr.strategy.data.exo.plot()"
   ]
  },
  {
   "cell_type": "code",
   "execution_count": null,
   "metadata": {
    "collapsed": false,
    "scrolled": false
   },
   "outputs": [],
   "source": [
    "figsize(10,10)\n",
    "smgr.picked_equity.plot(label='Picked swarm equity');\n",
    "smgr.raw_equity.plot(label='Average swarm equity');\n",
    "legend(loc=2);"
   ]
  },
  {
   "cell_type": "code",
   "execution_count": null,
   "metadata": {
    "collapsed": false,
    "scrolled": false
   },
   "outputs": [],
   "source": [
    "smgr.raw_swarm.plot(legend=False)"
   ]
  },
  {
   "cell_type": "code",
   "execution_count": null,
   "metadata": {
    "collapsed": false
   },
   "outputs": [],
   "source": [
    "smgr.picked_swarm.plot()\n",
    "\n",
    "smgr.picked_swarm.sum(1).plot(label='smgr.picked_swarm-sum')\n",
    "smgr.picked_equity.plot(label='Picked swarm equity')"
   ]
  },
  {
   "cell_type": "code",
   "execution_count": null,
   "metadata": {
    "collapsed": false
   },
   "outputs": [],
   "source": [
    "smgr.picked_swarm.diff().mean()"
   ]
  },
  {
   "cell_type": "markdown",
   "metadata": {},
   "source": [
    "# Swarm exposure"
   ]
  },
  {
   "cell_type": "code",
   "execution_count": null,
   "metadata": {
    "collapsed": false
   },
   "outputs": [],
   "source": [
    "smgr.picked_exposure.sum(axis=1).rolling(10).mean().plot()"
   ]
  },
  {
   "cell_type": "markdown",
   "metadata": {},
   "source": [
    "# Swarm statistics"
   ]
  },
  {
   "cell_type": "markdown",
   "metadata": {},
   "source": [
    "#### Non-picked swarm stats"
   ]
  },
  {
   "cell_type": "code",
   "execution_count": null,
   "metadata": {
    "collapsed": false
   },
   "outputs": [],
   "source": [
    "smgr.picked_stats"
   ]
  },
  {
   "cell_type": "markdown",
   "metadata": {},
   "source": [
    "## Exo information"
   ]
  },
  {
   "cell_type": "code",
   "execution_count": null,
   "metadata": {
    "collapsed": false
   },
   "outputs": [],
   "source": [
    "smgr.strategy.exoinfo.exo_info"
   ]
  },
  {
   "cell_type": "code",
   "execution_count": null,
   "metadata": {
    "collapsed": false
   },
   "outputs": [],
   "source": [
    "smgr.strategy.exoinfo.data.exo.plot()"
   ]
  },
  {
   "cell_type": "markdown",
   "metadata": {},
   "source": [
    "### Global filter information (obsolete)\n"
   ]
  },
  {
   "cell_type": "markdown",
   "metadata": {},
   "source": [
    "## Costs information (per 1-exo unit)"
   ]
  },
  {
   "cell_type": "code",
   "execution_count": null,
   "metadata": {
    "collapsed": false
   },
   "outputs": [],
   "source": [
    "figsize(10,5)\n",
    "smgr.strategy.costs.plot()"
   ]
  },
  {
   "cell_type": "markdown",
   "metadata": {
    "collapsed": false
   },
   "source": [
    "## Margin graphs"
   ]
  },
  {
   "cell_type": "markdown",
   "metadata": {},
   "source": [
    "### EXO Margin (per 1 EXO unit)"
   ]
  },
  {
   "cell_type": "code",
   "execution_count": null,
   "metadata": {
    "collapsed": false
   },
   "outputs": [],
   "source": [
    "smgr.strategy.exoinfo.margin().plot()"
   ]
  },
  {
   "cell_type": "markdown",
   "metadata": {
    "collapsed": false
   },
   "source": [
    "# Saving results"
   ]
  },
  {
   "cell_type": "code",
   "execution_count": null,
   "metadata": {
    "collapsed": false
   },
   "outputs": [],
   "source": [
    "smgr.save('./swarms/')"
   ]
  },
  {
   "cell_type": "code",
   "execution_count": null,
   "metadata": {
    "collapsed": false
   },
   "outputs": [],
   "source": [
    "smgr.raw_swarm#.plot()"
   ]
  },
  {
   "cell_type": "code",
   "execution_count": null,
   "metadata": {
    "collapsed": false
   },
   "outputs": [],
   "source": []
  }
 ],
 "metadata": {
  "kernelspec": {
   "display_name": "Python 3",
   "language": "python",
   "name": "python3"
  },
  "language_info": {
   "codemirror_mode": {
    "name": "ipython",
    "version": 3
   },
   "file_extension": ".py",
   "mimetype": "text/x-python",
   "name": "python",
   "nbconvert_exporter": "python",
   "pygments_lexer": "ipython3",
   "version": "3.5.2"
  }
 },
 "nbformat": 4,
 "nbformat_minor": 0
}
