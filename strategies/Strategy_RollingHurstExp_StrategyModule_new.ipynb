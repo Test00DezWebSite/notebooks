{
 "cells": [
  {
   "cell_type": "code",
   "execution_count": null,
   "metadata": {
    "collapsed": false
   },
   "outputs": [],
   "source": [
    "%pylab inline\n",
    "%load_ext autoreload\n",
    "%autoreload 2"
   ]
  },
  {
   "cell_type": "code",
   "execution_count": null,
   "metadata": {
    "collapsed": false
   },
   "outputs": [],
   "source": [
    "import sys,os\n",
    "sys.path.append('..')\n",
    "from backtester import matlab, backtester\n",
    "from backtester.analysis import *\n",
    "from backtester.strategy import StrategyBase, OptParam, OptParamArray\n",
    "from backtester.swarms.ranking import SwarmRanker\n",
    "from backtester.swarms.rebalancing import SwarmRebalance\n",
    "from backtester.swarms.filters import SwarmFilter\n",
    "from backtester.costs import CostsManagerEXOFixed\n",
    "from backtester.exoinfo import EXOInfo\n",
    "from backtester.swarms.rankingclasses import *\n",
    "from backtester.swarms.swarm import Swarm\n",
    "\n",
    "import statsmodels.tsa.api as smt\n",
    "\n",
    "import pandas as pd\n",
    "import numpy as np\n",
    "import scipy"
   ]
  },
  {
   "cell_type": "code",
   "execution_count": null,
   "metadata": {
    "collapsed": false
   },
   "outputs": [],
   "source": [
    "from scripts.settings import *\n",
    "try:\n",
    "    from scripts.settings_local import *\n",
    "except:\n",
    "    pass\n",
    "\n",
    "from exobuilder.data.exostorage import EXOStorage\n",
    "\n",
    "storage = EXOStorage(MONGO_CONNSTR, MONGO_EXO_DB)\n",
    "\n",
    "\n",
    "exo_filter = '*'     # All \n",
    "#exo_filter = 'ES_'  # ES only\n",
    "exo_filter = ''  # ES Collars (incl Bearish, Bullish, BW and vanilla)\n",
    "\n",
    "[print(exo) for exo in storage.exo_list(exo_filter)];"
   ]
  },
  {
   "cell_type": "code",
   "execution_count": null,
   "metadata": {
    "collapsed": false
   },
   "outputs": [],
   "source": [
    "class Strategy_RollingHurstExp(StrategyBase):\n",
    "    name = 'Strategy_RollingHurstExp'\n",
    "\n",
    "\n",
    "    def __init__(self, strategy_context):\n",
    "        # Initialize parent class\n",
    "        super().__init__(strategy_context)\n",
    "   \n",
    "    \n",
    "\n",
    "    def calc_entryexit_rules(self, hurst_window, hurst_value, hurst_median_window, rules_index):\n",
    "        def hurst(ts):\n",
    "            \"\"\"Returns the Hurst Exponent of the time series vector ts\"\"\"\n",
    "            # Create the range of lag values\n",
    "            lags = range(2, 20)\n",
    "            # Calculate the array of the variances of the lagged differences\n",
    "            tau = [sqrt(std(subtract(ts[lag:], ts[:-lag]))) for lag in lags]\n",
    "            # Use a linear fit to estimate the Hurst Exponent\n",
    "            poly = polyfit(log(lags), log(tau), 1)\n",
    "            # Return the Hurst exponent from the polyfit output\n",
    "            return poly[0]*2.0\n",
    "    \n",
    "        i = 1\n",
    "        px_ser = self.data.exo\n",
    "        \n",
    "        #print(px_ser.size)\n",
    "        rolling_hurst = px_ser.dropna().rolling(hurst_window).apply(lambda x: hurst(x))\n",
    "        \n",
    "        if rules_index == 0:\n",
    "            entry_rule = (rolling_hurst <= hurst_value)\n",
    "\n",
    "            exit_rule = (rolling_hurst < rolling_hurst.rolling(hurst_median_window).median())\n",
    "            return entry_rule, exit_rule\n",
    "        \n",
    "        if rules_index == 1:\n",
    "            entry_rule = (rolling_hurst >= hurst_value)\n",
    "\n",
    "            exit_rule = (rolling_hurst > rolling_hurst.rolling(hurst_median_window).median())\n",
    "            return entry_rule, exit_rule\n",
    "        \n",
    "        if rules_index == 2:\n",
    "            entry_rule = (rolling_hurst <= hurst_value)\n",
    "\n",
    "            exit_rule = (rolling_hurst > rolling_hurst.rolling(hurst_median_window).median())\n",
    "            return entry_rule, exit_rule\n",
    "        \n",
    "        if rules_index == 3:\n",
    "            entry_rule = (rolling_hurst >= hurst_value)\n",
    "\n",
    "            exit_rule = (rolling_hurst < rolling_hurst.rolling(hurst_median_window).median())\n",
    "            return entry_rule, exit_rule\n",
    "    \n",
    "    def calculate(self, params=None, save_info=False):\n",
    "    #\n",
    "    #\n",
    "    #  Params is a tripple like (50, 10, 15), where:\n",
    "    #   50 - slow MA period\n",
    "    #   10 - fast MA period\n",
    "    #   15 - median period\n",
    "    #\n",
    "    #  On every iteration of swarming algorithm, parameter set will be different.\n",
    "    #  For more information look inside: /notebooks/tmp/Swarming engine research.ipynb\n",
    "    #\n",
    "\n",
    "        if params is None:\n",
    "            # Return default parameters\n",
    "            direction, hurst_window, hurst_value, hurst_median_window, rules_index = self.default_opts()\n",
    "        else:\n",
    "            # Unpacking optimization params\n",
    "            #  in order in self.opts definition\n",
    "            direction, hurst_window, hurst_value, hurst_median_window, rules_index = params\n",
    "\n",
    "        # Defining EXO price\n",
    "        px = self.data.exo\n",
    "                \n",
    "        entry_rule, exit_rule = self.calc_entryexit_rules(hurst_window, hurst_value, hurst_median_window, rules_index)\n",
    "\n",
    "        # Swarm_member_name must be *unique* for every swarm member\n",
    "        # We use params values for uniqueness\n",
    "        swarm_member_name = self.get_member_name(params)\n",
    "\n",
    "        #\n",
    "        # Calculation info\n",
    "        #\n",
    "        calc_info = None\n",
    "        if save_info:\n",
    "            calc_info = {'trailing_stop': trailing_stop}\n",
    "\n",
    "        return swarm_member_name, entry_rule, exit_rule, calc_info"
   ]
  },
  {
   "cell_type": "markdown",
   "metadata": {},
   "source": [
    "## Script settings"
   ]
  },
  {
   "cell_type": "code",
   "execution_count": null,
   "metadata": {
    "collapsed": false
   },
   "outputs": [],
   "source": [
    "STRATEGY_CONTEXT = {\n",
    "    'strategy': { \n",
    "        'class': Strategy_RollingHurstExp,\n",
    "        'exo_name': 'NG_SmartEXO_Ichi_Put_Spread_150Delta_Bi',        # <---- Select and paste EXO name from cell above\n",
    "        'exo_storage': storage,          \n",
    "        'opt_params': [\n",
    "                        #OptParam(name, default_value, min_value, max_value, step)\n",
    "                        OptParamArray('Direction', [1]),\n",
    "                        #OptParam('Pct rank value', 9, 0, 1, 0.2),\n",
    "                        OptParam('Roll. Hurst window', 2, 30, 60, 5),\n",
    "                        OptParam('Hurst value', 0, 0.51, 0.91, 0.11),\n",
    "                        OptParam('Hurst median window', 2, 25, 25, 10),\n",
    "                        OptParamArray('Rules index', np.arange(1)),\n",
    "                        \n",
    "            ],\n",
    "    },\n",
    "    'swarm': {\n",
    "        'members_count': 1,\n",
    "        'ranking_class': RankerBestWithCorrel(window_size=-1, correl_threshold=0.5),\n",
    "        'rebalance_time_function': SwarmRebalance.every_friday,\n",
    "\n",
    "    },\n",
    "    'costs':{\n",
    "        'manager': CostsManagerEXOFixed,\n",
    "        'context': {\n",
    "            'costs_options': 3.0,\n",
    "            'costs_futures': 3.0,\n",
    "        }\n",
    "    }\n",
    "}"
   ]
  },
  {
   "cell_type": "markdown",
   "metadata": {},
   "source": [
    "# Backtest class based strategy"
   ]
  },
  {
   "cell_type": "code",
   "execution_count": null,
   "metadata": {
    "collapsed": false,
    "scrolled": false
   },
   "outputs": [],
   "source": [
    "smgr = Swarm(STRATEGY_CONTEXT)\n",
    "smgr.run_swarm()\n",
    "smgr.pick()\n",
    "\n",
    "# Saving results to swarms directory\n",
    "smgr.save('./swarms/')"
   ]
  },
  {
   "cell_type": "markdown",
   "metadata": {},
   "source": [
    "### WARNING! Loading swarm from file (don't run next cell if you want new swarm instance)"
   ]
  },
  {
   "cell_type": "code",
   "execution_count": null,
   "metadata": {
    "collapsed": false
   },
   "outputs": [],
   "source": [
    "smgr.strategy.data.exo.plot()"
   ]
  },
  {
   "cell_type": "code",
   "execution_count": null,
   "metadata": {
    "collapsed": false,
    "scrolled": false
   },
   "outputs": [],
   "source": [
    "figsize(10,10)\n",
    "smgr.picked_equity.plot(label='Picked swarm equity');\n",
    "smgr.raw_equity.plot(label='Average swarm equity');\n",
    "legend(loc=2);"
   ]
  },
  {
   "cell_type": "code",
   "execution_count": null,
   "metadata": {
    "collapsed": false,
    "scrolled": false
   },
   "outputs": [],
   "source": [
    "smgr.raw_swarm.plot(legend=True)\n",
    "(smgr.strategy.data.exo*-1).plot(linewidth=4, color='red')\n",
    "legend(loc=2);"
   ]
  },
  {
   "cell_type": "code",
   "execution_count": null,
   "metadata": {
    "collapsed": false
   },
   "outputs": [],
   "source": [
    "smgr.picked_swarm.plot()\n",
    "\n",
    "smgr.picked_swarm.sum(1).plot(label='smgr.picked_swarm-sum')\n",
    "smgr.picked_equity.plot(label='Picked swarm equity')"
   ]
  },
  {
   "cell_type": "markdown",
   "metadata": {},
   "source": [
    "# Swarm exposure"
   ]
  },
  {
   "cell_type": "code",
   "execution_count": null,
   "metadata": {
    "collapsed": false
   },
   "outputs": [],
   "source": [
    "smgr.picked_exposure.sum(axis=1).rolling(10).mean().plot()"
   ]
  },
  {
   "cell_type": "markdown",
   "metadata": {},
   "source": [
    "# Swarm statistics"
   ]
  },
  {
   "cell_type": "markdown",
   "metadata": {},
   "source": [
    "#### Non-picked swarm stats"
   ]
  },
  {
   "cell_type": "code",
   "execution_count": null,
   "metadata": {
    "collapsed": false
   },
   "outputs": [],
   "source": [
    "smgr.picked_stats"
   ]
  },
  {
   "cell_type": "markdown",
   "metadata": {},
   "source": [
    "## Exo information"
   ]
  },
  {
   "cell_type": "code",
   "execution_count": null,
   "metadata": {
    "collapsed": false
   },
   "outputs": [],
   "source": [
    "smgr.strategy.exoinfo.exo_info"
   ]
  },
  {
   "cell_type": "code",
   "execution_count": null,
   "metadata": {
    "collapsed": false
   },
   "outputs": [],
   "source": [
    "smgr.strategy.exoinfo.data.exo.plot()"
   ]
  },
  {
   "cell_type": "markdown",
   "metadata": {},
   "source": [
    "### Global filter information (obsolete)\n"
   ]
  },
  {
   "cell_type": "markdown",
   "metadata": {},
   "source": [
    "## Costs information (per 1-exo unit)"
   ]
  },
  {
   "cell_type": "code",
   "execution_count": null,
   "metadata": {
    "collapsed": false
   },
   "outputs": [],
   "source": [
    "figsize(10,5)\n",
    "smgr.strategy.costs.plot()"
   ]
  },
  {
   "cell_type": "markdown",
   "metadata": {
    "collapsed": false
   },
   "source": [
    "## Margin graphs"
   ]
  },
  {
   "cell_type": "markdown",
   "metadata": {},
   "source": [
    "### EXO Margin (per 1 EXO unit)"
   ]
  },
  {
   "cell_type": "code",
   "execution_count": null,
   "metadata": {
    "collapsed": false
   },
   "outputs": [],
   "source": [
    "smgr.strategy.exoinfo.margin().plot()"
   ]
  },
  {
   "cell_type": "markdown",
   "metadata": {
    "collapsed": false
   },
   "source": [
    "# Saving results"
   ]
  },
  {
   "cell_type": "code",
   "execution_count": null,
   "metadata": {
    "collapsed": false
   },
   "outputs": [],
   "source": [
    "smgr.save('./swarms/')"
   ]
  },
  {
   "cell_type": "code",
   "execution_count": null,
   "metadata": {
    "collapsed": false
   },
   "outputs": [],
   "source": [
    "smgr.raw_swarm#.plot()"
   ]
  },
  {
   "cell_type": "code",
   "execution_count": null,
   "metadata": {
    "collapsed": false
   },
   "outputs": [],
   "source": []
  },
  {
   "cell_type": "code",
   "execution_count": null,
   "metadata": {
    "collapsed": false
   },
   "outputs": [],
   "source": []
  }
 ],
 "metadata": {
  "kernelspec": {
   "display_name": "Python 3",
   "language": "python",
   "name": "python3"
  },
  "language_info": {
   "codemirror_mode": {
    "name": "ipython",
    "version": 3
   },
   "file_extension": ".py",
   "mimetype": "text/x-python",
   "name": "python",
   "nbconvert_exporter": "python",
   "pygments_lexer": "ipython3",
   "version": "3.5.2"
  }
 },
 "nbformat": 4,
 "nbformat_minor": 0
}
