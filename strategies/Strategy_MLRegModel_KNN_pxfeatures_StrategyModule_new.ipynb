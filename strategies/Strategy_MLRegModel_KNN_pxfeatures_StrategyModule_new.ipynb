{
 "cells": [
  {
   "cell_type": "code",
   "execution_count": null,
   "metadata": {
    "collapsed": false
   },
   "outputs": [],
   "source": [
    "%pylab inline\n",
    "%load_ext autoreload\n",
    "%autoreload 2"
   ]
  },
  {
   "cell_type": "code",
   "execution_count": null,
   "metadata": {
    "collapsed": false
   },
   "outputs": [],
   "source": [
    "import sys,os\n",
    "sys.path.append('..')\n",
    "from backtester import matlab, backtester\n",
    "from backtester.analysis import *\n",
    "from backtester.strategy import StrategyBase, OptParam, OptParamArray\n",
    "from backtester.swarms.ranking import SwarmRanker\n",
    "from backtester.swarms.rebalancing import SwarmRebalance\n",
    "from backtester.swarms.filters import SwarmFilter\n",
    "from backtester.costs import CostsManagerEXOFixed\n",
    "from backtester.exoinfo import EXOInfo\n",
    "from backtester.swarms.rankingclasses import *\n",
    "from backtester.swarms.swarm import Swarm\n",
    "\n",
    "import statsmodels.tsa.api as smt\n",
    "from sklearn import neighbors\n",
    "\n",
    "from pandas.tseries.offsets import BDay\n",
    "\n",
    "import pandas as pd\n",
    "import numpy as np\n",
    "import scipy"
   ]
  },
  {
   "cell_type": "code",
   "execution_count": null,
   "metadata": {
    "collapsed": false
   },
   "outputs": [],
   "source": [
    "from scripts.settings import *\n",
    "try:\n",
    "    from scripts.settings_local import *\n",
    "except:\n",
    "    pass\n",
    "\n",
    "from exobuilder.data.exostorage import EXOStorage\n",
    "\n",
    "storage = EXOStorage(MONGO_CONNSTR, MONGO_EXO_DB)\n",
    "\n",
    "\n",
    "exo_filter = '*'     # All \n",
    "#exo_filter = 'ES_'  # ES only\n",
    "exo_filter = 'CL'  # ES Collars (incl Bearish, Bullish, BW and vanilla)\n",
    "\n",
    "[print(exo) for exo in storage.exo_list(exo_filter)];"
   ]
  },
  {
   "cell_type": "code",
   "execution_count": null,
   "metadata": {
    "collapsed": false
   },
   "outputs": [],
   "source": [
    "class Strategy_MLRegModel_KNN_pxfeatures(StrategyBase):\n",
    "    name = 'Strategy_MLRegModel_KNN_pxfeatures'\n",
    "\n",
    "\n",
    "    def __init__(self, strategy_context):\n",
    "        # Initialize parent class\n",
    "        super().__init__(strategy_context)\n",
    "   \n",
    "    def calc_entryexit_rules(self, prediction_days, rolling_median_window, rules_index):\n",
    "        i = 100\n",
    "        px_ser = self.data.exo\n",
    "        empty_ser = pd.Series(False, index=px_ser.dropna().index)\n",
    "\n",
    "        signals_df = pd.DataFrame()\n",
    "\n",
    "        signals_df['entry_rule'] = empty_ser\n",
    "        signals_df['exit_rule'] = empty_ser\n",
    "\n",
    "        while True:\n",
    "            dataset_df = pd.DataFrame(index=px_ser.dropna().iloc[:i].index)\n",
    "\n",
    "            px_ser_slice = px_ser[dataset_df.index].rolling(rolling_median_window).median()\n",
    "\n",
    "            dataset_df['target'] = px_ser_slice.shift(-prediction_days)\n",
    "\n",
    "            #dataset_df['features_px'] = px_ser_slice\n",
    "            dataset_df['features_shift1'] = px_ser_slice.shift(1)\n",
    "            #dataset_df['features_shift2'] = px_ser_slice.shift(2)\n",
    "            #dataset_df['features_shift3'] = px_ser_slice.shift(3)\n",
    "            #dataset_df['features_shift5'] = px_ser_slice.shift(5)\n",
    "            #dataset_df['features_shift10'] = px_ser_slice.shift(10)\n",
    "\n",
    "            dataset_df['features_ma5'] = px_ser_slice.rolling(5).mean()\n",
    "            #dataset_df['features_ma10'] = px_ser_slice.rolling(10).mean()\n",
    "            #dataset_df['features_ma20'] = px_ser_slice.rolling(20).mean()\n",
    "            #dataset_df['features_ma30'] = px_ser_slice.rolling(30).mean()\n",
    "\n",
    "            dataset_df['features_relstr5'] = px_ser_slice - px_ser_slice.rolling(5).mean()\n",
    "            #dataset_df['features_relstr10'] = px_ser_slice - px_ser_slice.rolling(10).mean()\n",
    "            #dataset_df['features_relstr20'] = px_ser_slice - px_ser_slice.rolling(20).mean()\n",
    "            #dataset_df['features_relstra30'] = px_ser_slice - px_ser_slice.rolling(30).mean()\n",
    "\n",
    "            predict_features = dataset_df.filter(like='features').dropna()\n",
    "\n",
    "            dataset_df.dropna(inplace=True)\n",
    "\n",
    "            target = dataset_df.target\n",
    "\n",
    "            features = dataset_df.filter(like='features')\n",
    "\n",
    "            #model = linear_model.LinearRegression()\n",
    "            #model = linear_model.ElasticNet()\n",
    "            #model = linear_model.RANSACRegressor()\n",
    "\n",
    "            #knn = neighbors.KNeighborsRegressor(5)\n",
    "            #lr = linear_model.LinearRegression()\n",
    "            #model = ensemble.BaggingRegressor(base_estimator=None, n_estimators=50)\n",
    "\n",
    "            #model = linear_model.RANSACRegressor()\n",
    "            #model = tree.DecisionTreeRegressor(max_depth=4)\n",
    "            #model = svm.NuSVR()\n",
    "            #model = ensemble.AdaBoostRegressor(n_estimators=10)\n",
    "            #model = ensemble.GradientBoostingRegressor()\n",
    "            #model = ensemble.RandomForestRegressor(n_estimators=50, max_depth=5, n_jobs=-1)\n",
    "            model = neighbors.KNeighborsRegressor(5, algorithm='auto')\n",
    "            #model = neighbors.RadiusNeighborsRegressor(5, n_jobs=1, algorithm='auto')\n",
    "\n",
    "            model.fit(features.iloc[:i], target.iloc[:i])\n",
    "\n",
    "            prediction_series = pd.Series(model.predict(features.iloc[:i]), \n",
    "                                          index=features.iloc[:i].index, name='Prediction') \n",
    "\n",
    "            if rules_index == 0:\n",
    "                if prediction_series[-1] > prediction_series[-2]:\n",
    "                    signals_df['entry_rule'].ix[px_ser_slice.index[-1]] = True\n",
    "\n",
    "\n",
    "                    signals_df['exit_rule'].ix[px_ser_slice.index[-1] + BDay(1)] = True\n",
    "\n",
    "\n",
    "            if rules_index == 1:\n",
    "                if prediction_series[-1] < prediction_series[-2]:\n",
    "                    signals_df['entry_rule'].ix[px_ser_slice.index[-1]] = True\n",
    "\n",
    "\n",
    "                    signals_df['exit_rule'].ix[px_ser_slice.index[-1]+ BDay(1)] = True\n",
    "\n",
    "            if i >= px_ser.dropna().size:\n",
    "                break\n",
    "\n",
    "            i += 1\n",
    "        \n",
    "        return signals_df.entry_rule, signals_df.exit_rule\n",
    "    \n",
    "    def calculate(self, params=None, save_info=False):\n",
    "    #\n",
    "    #\n",
    "    #  Params is a tripple like (50, 10, 15), where:\n",
    "    #   50 - slow MA period\n",
    "    #   10 - fast MA period\n",
    "    #   15 - median period\n",
    "    #\n",
    "    #  On every iteration of swarming algorithm, parameter set will be different.\n",
    "    #  For more information look inside: /notebooks/tmp/Swarming engine research.ipynb\n",
    "    #\n",
    "\n",
    "        if params is None:\n",
    "            # Return default parameters\n",
    "            direction, prediction_days, rolling_median_window, rules_index = self.default_opts()\n",
    "        else:\n",
    "            # Unpacking optimization params\n",
    "            #  in order in self.opts definition\n",
    "            direction, prediction_days, rolling_median_window, rules_index = params\n",
    "\n",
    "        # Defining EXO price\n",
    "        px = self.data.exo\n",
    "                \n",
    "        entry_rule, exit_rule = self.calc_entryexit_rules(prediction_days, rolling_median_window, rules_index)\n",
    "\n",
    "        # Swarm_member_name must be *unique* for every swarm member\n",
    "        # We use params values for uniqueness\n",
    "        swarm_member_name = self.get_member_name(params)\n",
    "\n",
    "        #\n",
    "        # Calculation info\n",
    "        #\n",
    "        calc_info = None\n",
    "        if save_info:\n",
    "            calc_info = {'trailing_stop': trailing_stop}\n",
    "\n",
    "        return swarm_member_name, entry_rule, exit_rule, calc_info"
   ]
  },
  {
   "cell_type": "markdown",
   "metadata": {},
   "source": [
    "## Script settings"
   ]
  },
  {
   "cell_type": "code",
   "execution_count": null,
   "metadata": {
    "collapsed": false
   },
   "outputs": [],
   "source": [
    "STRATEGY_CONTEXT = {\n",
    "    'strategy': { \n",
    "        'class': Strategy_MLRegModel_KNN_pxfeatures,\n",
    "        'exo_name': 'CL_PutSpread',        # <---- Select and paste EXO name from cell above\n",
    "        'exo_storage': storage,          \n",
    "        'opt_params': [\n",
    "                        #OptParam(name, default_value, min_value, max_value, step)\n",
    "                        OptParamArray('Direction', [1]),\n",
    "                        OptParam('n Prediction Days', 1, 4, 10, 2),\n",
    "                        OptParamArray('Price smoothing rolling median window', [1,5,7]),\n",
    "                        OptParamArray('Rules index', np.arange(2)),\n",
    "                        \n",
    "            ],\n",
    "    },\n",
    "    'swarm': {\n",
    "        'members_count': 2,\n",
    "        'ranking_class': RankerBestWithCorrel(window_size=-1, correl_threshold=0.5),\n",
    "        'rebalance_time_function': SwarmRebalance.every_friday,\n",
    "\n",
    "    },\n",
    "    'costs':{\n",
    "        'manager': CostsManagerEXOFixed,\n",
    "        'context': {\n",
    "            'costs_options': 3.0,\n",
    "            'costs_futures': 3.0,\n",
    "        }\n",
    "    }\n",
    "}"
   ]
  },
  {
   "cell_type": "markdown",
   "metadata": {},
   "source": [
    "# Backtest class based strategy"
   ]
  },
  {
   "cell_type": "code",
   "execution_count": null,
   "metadata": {
    "collapsed": false,
    "scrolled": false
   },
   "outputs": [],
   "source": [
    "smgr = Swarm(STRATEGY_CONTEXT)\n",
    "smgr.run_swarm()\n",
    "smgr.pick()\n",
    "\n",
    "# Saving results to swarms directory\n",
    "smgr.save('./swarms/')"
   ]
  },
  {
   "cell_type": "markdown",
   "metadata": {},
   "source": [
    "### WARNING! Loading swarm from file (don't run next cell if you want new swarm instance)"
   ]
  },
  {
   "cell_type": "code",
   "execution_count": null,
   "metadata": {
    "collapsed": false,
    "scrolled": false
   },
   "outputs": [],
   "source": [
    "smgr.strategy.data.exo.plot()"
   ]
  },
  {
   "cell_type": "code",
   "execution_count": null,
   "metadata": {
    "collapsed": false,
    "scrolled": false
   },
   "outputs": [],
   "source": [
    "figsize(10,10)\n",
    "smgr.picked_equity.plot(label='Picked swarm equity');\n",
    "smgr.raw_equity.plot(label='Average swarm equity');\n",
    "legend(loc=2);"
   ]
  },
  {
   "cell_type": "code",
   "execution_count": null,
   "metadata": {
    "collapsed": false,
    "scrolled": false
   },
   "outputs": [],
   "source": [
    "smgr.raw_swarm.plot(legend=False)\n",
    "\n",
    "(smgr.strategy.data.exo*1).plot(linewidth=2, color='red')"
   ]
  },
  {
   "cell_type": "code",
   "execution_count": null,
   "metadata": {
    "collapsed": false
   },
   "outputs": [],
   "source": [
    "smgr.picked_swarm.plot()\n",
    "\n",
    "smgr.picked_swarm.sum(1).plot(label='smgr.picked_swarm-sum')\n",
    "smgr.picked_equity.plot(label='Picked swarm equity')"
   ]
  },
  {
   "cell_type": "markdown",
   "metadata": {},
   "source": [
    "# Swarm exposure"
   ]
  },
  {
   "cell_type": "code",
   "execution_count": null,
   "metadata": {
    "collapsed": false
   },
   "outputs": [],
   "source": [
    "smgr.picked_exposure.sum(axis=1).rolling(10).mean().plot()"
   ]
  },
  {
   "cell_type": "markdown",
   "metadata": {},
   "source": [
    "# Swarm statistics"
   ]
  },
  {
   "cell_type": "markdown",
   "metadata": {},
   "source": [
    "#### Non-picked swarm stats"
   ]
  },
  {
   "cell_type": "code",
   "execution_count": null,
   "metadata": {
    "collapsed": false
   },
   "outputs": [],
   "source": [
    "smgr.picked_stats"
   ]
  },
  {
   "cell_type": "markdown",
   "metadata": {},
   "source": [
    "## Exo information"
   ]
  },
  {
   "cell_type": "code",
   "execution_count": null,
   "metadata": {
    "collapsed": false
   },
   "outputs": [],
   "source": [
    "smgr.strategy.exoinfo.exo_info"
   ]
  },
  {
   "cell_type": "code",
   "execution_count": null,
   "metadata": {
    "collapsed": false
   },
   "outputs": [],
   "source": [
    "smgr.strategy.exoinfo.data.exo.plot()"
   ]
  },
  {
   "cell_type": "markdown",
   "metadata": {},
   "source": [
    "### Global filter information (obsolete)\n"
   ]
  },
  {
   "cell_type": "markdown",
   "metadata": {},
   "source": [
    "## Costs information (per 1-exo unit)"
   ]
  },
  {
   "cell_type": "code",
   "execution_count": null,
   "metadata": {
    "collapsed": false
   },
   "outputs": [],
   "source": [
    "figsize(10,5)\n",
    "smgr.strategy.costs.plot()"
   ]
  },
  {
   "cell_type": "markdown",
   "metadata": {
    "collapsed": false
   },
   "source": [
    "## Margin graphs"
   ]
  },
  {
   "cell_type": "markdown",
   "metadata": {},
   "source": [
    "### EXO Margin (per 1 EXO unit)"
   ]
  },
  {
   "cell_type": "code",
   "execution_count": null,
   "metadata": {
    "collapsed": false
   },
   "outputs": [],
   "source": [
    "smgr.strategy.exoinfo.margin().plot()"
   ]
  },
  {
   "cell_type": "markdown",
   "metadata": {
    "collapsed": false
   },
   "source": [
    "# Saving results"
   ]
  },
  {
   "cell_type": "code",
   "execution_count": null,
   "metadata": {
    "collapsed": false
   },
   "outputs": [],
   "source": [
    "smgr.save('./swarms/')"
   ]
  },
  {
   "cell_type": "code",
   "execution_count": null,
   "metadata": {
    "collapsed": false
   },
   "outputs": [],
   "source": [
    "smgr.raw_swarm#.plot()"
   ]
  },
  {
   "cell_type": "code",
   "execution_count": null,
   "metadata": {
    "collapsed": false
   },
   "outputs": [],
   "source": []
  },
  {
   "cell_type": "code",
   "execution_count": null,
   "metadata": {
    "collapsed": false
   },
   "outputs": [],
   "source": []
  }
 ],
 "metadata": {
  "kernelspec": {
   "display_name": "Python 3",
   "language": "python",
   "name": "python3"
  },
  "language_info": {
   "codemirror_mode": {
    "name": "ipython",
    "version": 3
   },
   "file_extension": ".py",
   "mimetype": "text/x-python",
   "name": "python",
   "nbconvert_exporter": "python",
   "pygments_lexer": "ipython3",
   "version": "3.5.2"
  }
 },
 "nbformat": 4,
 "nbformat_minor": 0
}
