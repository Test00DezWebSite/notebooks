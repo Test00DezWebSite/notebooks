{
 "cells": [
  {
   "cell_type": "code",
   "execution_count": null,
   "metadata": {
    "collapsed": false
   },
   "outputs": [],
   "source": [
    "%pylab inline\n",
    "%load_ext autoreload\n",
    "%autoreload 2"
   ]
  },
  {
   "cell_type": "code",
   "execution_count": null,
   "metadata": {
    "collapsed": false
   },
   "outputs": [],
   "source": [
    "import sys,os\n",
    "sys.path.append('..')\n",
    "from backtester import matlab, backtester\n",
    "from backtester.analysis import *\n",
    "from backtester.strategy import StrategyBase, OptParam, OptParamArray\n",
    "from backtester.swarms.ranking import SwarmRanker\n",
    "from backtester.swarms.rebalancing import SwarmRebalance\n",
    "from backtester.swarms.filters import SwarmFilter\n",
    "from backtester.costs import CostsManagerEXOFixed\n",
    "from backtester.exoinfo import EXOInfo\n",
    "from backtester.swarms.rankingclasses import *\n",
    "from backtester.swarms.swarm import Swarm\n",
    "\n",
    "import statsmodels.tsa.api as smt\n",
    "from sklearn import neighbors\n",
    "\n",
    "from pandas.tseries.offsets import BDay\n",
    "\n",
    "import pandas as pd\n",
    "import numpy as np\n",
    "import scipy"
   ]
  },
  {
   "cell_type": "code",
   "execution_count": null,
   "metadata": {
    "collapsed": false
   },
   "outputs": [],
   "source": [
    "from scripts.settings import *\n",
    "try:\n",
    "    from scripts.settings_local import *\n",
    "except:\n",
    "    pass\n",
    "\n",
    "from exobuilder.data.exostorage import EXOStorage\n",
    "\n",
    "storage = EXOStorage(MONGO_CONNSTR, MONGO_EXO_DB)\n",
    "\n",
    "\n",
    "exo_filter = '*'     # All \n",
    "#exo_filter = 'ES_'  # ES only\n",
    "exo_filter = 'CL'  # ES Collars (incl Bearish, Bullish, BW and vanilla)\n",
    "\n",
    "[print(exo) for exo in storage.exo_list(exo_filter)];"
   ]
  },
  {
   "cell_type": "code",
   "execution_count": null,
   "metadata": {
    "collapsed": false
   },
   "outputs": [],
   "source": [
    "class Strategy_DMI(StrategyBase):\n",
    "    name = 'Strategy_DMI'\n",
    "\n",
    "\n",
    "    def __init__(self, strategy_context):\n",
    "        # Initialize parent class\n",
    "        super().__init__(strategy_context)\n",
    "   \n",
    "    def calc_entry_rules(self, H, L, C, di_ema_period, atr_period, pct_rank_value, adx_period, rules_index):\n",
    "        i = 100\n",
    "        px_ser = self.data.exo\n",
    "        '''\n",
    "        https://ru.tradingview.com/stock-charts-support/index.php/Directional_Movement_(DMI)\n",
    "\n",
    "        Calculating the DMI can actually be broken down into two parts. \n",
    "        First, calculating the +DI and -DI, and second, calculating the ADX.\n",
    "\n",
    "        To calculate the +DI and -DI you need to find the +DM and -DM (Directional Movement). \n",
    "        +DM and -DM are calculated using the High, Low and Close for each period. \n",
    "        You can then calculate the following:\n",
    "\n",
    "        Current High - Previous High = UpMove\n",
    "        Current Low - Previous Low = DownMove\n",
    "\n",
    "        If UpMove > DownMove and UpMove > 0, then +DM = UpMove, else +DM = 0\n",
    "        If DownMove > Upmove and Downmove > 0, then -DM = DownMove, else -DM = 0\n",
    "\n",
    "        Once you have the current +DM and -DM calculated, the +DM and -DM lines can be \n",
    "        calculated and plotted based on the number of user defined periods.\n",
    "\n",
    "        +DI = 100 times Exponential Moving Average of (+DM / Average True Range)\n",
    "        -DI = 100 times Exponential Moving Average of (-DM / Average True Range)\n",
    "\n",
    "        Now that -+DX and -DX have been calculated, the last step is calculating the ADX.\n",
    "\n",
    "        ADX = 100 times the Exponential Moving Average of the Absolute Value of (+DI- -DI) / (+DI + -DI)'''\n",
    "        \n",
    "        #\n",
    "        # Since there is no HL data, i will use a rolling max of C as High and rolling min of C as Low\n",
    "        #\n",
    "        hl_data_available = False\n",
    "\n",
    "        #\n",
    "\n",
    "        if hl_data_available == False:\n",
    "\n",
    "            H = C.rolling(2).max().dropna()\n",
    "            L = C.rolling(2).min().dropna()\n",
    "\n",
    "            C = C[H.index]\n",
    "\n",
    "        if hl_data_available == True:\n",
    "            H = H\n",
    "            L = L\n",
    "   \n",
    "        \n",
    "        prev_high = H.shift(1)\n",
    "        prev_low = L.shift(1)\n",
    "\n",
    "        dm_pos = pd.Series(0.0, index=C.index)\n",
    "        dm_neg = pd.Series(0.0, index=C.index)\n",
    "\n",
    "        atr = ATR(H,L,C, atr_period)\n",
    "\n",
    "        for i in range(C.size):\n",
    "            upmove = H[i] - prev_high[i]\n",
    "            downmove =  prev_low[i] - L[i]\n",
    "            #print(upmove > downmove)\n",
    "\n",
    "            if (upmove > downmove) & (upmove > 0):\n",
    "                dm_pos[i] = upmove\n",
    "                #print(dm_pos.iloc[i])\n",
    "\n",
    "            if (downmove > upmove) & (downmove > 0):\n",
    "                dm_neg[i] = downmove\n",
    "\n",
    "        di_pos = ((dm_pos.ewm(di_ema_period).mean() / atr).ewm(di_ema_period).mean()) * 100\n",
    "        di_neg = ((dm_neg.ewm(di_ema_period).mean() / atr).ewm(di_ema_period).mean()) * 100\n",
    "        \n",
    "        di_pos_pctrank = di_pos.rank(pct=True)\n",
    "        di_neg_pctrank = di_pos.rank(pct=True)\n",
    "        \n",
    "        adx = ((di_pos - di_neg) / (di_pos + di_neg)).abs().ewm(adx_period).mean() * 100\n",
    "\n",
    "        #adx_expandingquantile20 = adx.expanding(60).quantile(0.2)\n",
    "        #adx_expandingquantile80 = adx.expanding(60).quantile(0.8)\n",
    "        \n",
    "        adx_pctchange5_pctrank = adx.pct_change(5).rank(pct=True)\n",
    "        \n",
    "        \n",
    "        if rules_index == 0:\n",
    "            return di_pos > di_neg\n",
    "        \n",
    "        if rules_index == 1:\n",
    "            return di_neg > di_pos\n",
    "        \n",
    "        if rules_index == 2:\n",
    "            return CrossDown(di_pos,di_neg)\n",
    "        \n",
    "        if rules_index == 3:\n",
    "            return CrossUp(di_pos,di_neg)\n",
    "        \n",
    "        if rules_index == 4:\n",
    "            return CrossUp(di_neg,di_pos)\n",
    "        \n",
    "        if rules_index == 5:\n",
    "            return CrossDown(di_neg,di_pos)\n",
    "        \n",
    "        if rules_index == 6:\n",
    "            return di_pos_pctrank >= pct_rank_value\n",
    "        \n",
    "        if rules_index == 7:\n",
    "            return di_pos_pctrank <= pct_rank_value\n",
    "        \n",
    "        if rules_index == 8:\n",
    "            return di_neg_pctrank >= pct_rank_value\n",
    "        \n",
    "        if rules_index == 9:\n",
    "            return di_neg_pctrank <= pct_rank_value\n",
    "        \n",
    "        \n",
    "        if rules_index == 10:\n",
    "            return (di_pos > di_neg) & (adx_pctchange5_pctrank >= pct_rank_value)\n",
    "        \n",
    "        if rules_index == 11:\n",
    "            return (di_pos > di_neg) & (adx_pctchange5_pctrank <= pct_rank_value)\n",
    "        \n",
    "        \n",
    "        if rules_index == 12:\n",
    "            return (di_neg > di_pos) & (adx_pctchange5_pctrank >= pct_rank_value)\n",
    "        \n",
    "        if rules_index == 13:\n",
    "            return (di_neg > di_pos) & (adx_pctchange5_pctrank <= pct_rank_value)\n",
    "    \n",
    "    def calculate(self, params=None, save_info=False):\n",
    "    #\n",
    "    #\n",
    "    #  Params is a tripple like (50, 10, 15), where:\n",
    "    #   50 - slow MA period\n",
    "    #   10 - fast MA period\n",
    "    #   15 - median period\n",
    "    #\n",
    "    #  On every iteration of swarming algorithm, parameter set will be different.\n",
    "    #  For more information look inside: /notebooks/tmp/Swarming engine research.ipynb\n",
    "    #\n",
    "\n",
    "        if params is None:\n",
    "            # Return default parameters\n",
    "            direction, di_ema_period, atr_period, pct_rank_value, adx_period, rules_index, period_median = self.default_opts()\n",
    "        else:\n",
    "            # Unpacking optimization params\n",
    "            #  in order in self.opts definition\n",
    "            direction, di_ema_period, atr_period, pct_rank_value, adx_period, rules_index, period_median = params\n",
    "\n",
    "        # Defining EXO price\n",
    "        px = self.data.exo\n",
    "                \n",
    "        # Median based trailing stop\n",
    "        trailing_stop = px.rolling(period_median).median().shift(1)\n",
    "\n",
    "        H = L = C = px\n",
    "        \n",
    "        # Enry/exit rules\n",
    "        entry_rule = self.calc_entry_rules(H, L, C, di_ema_period, atr_period, pct_rank_value, adx_period, rules_index)\n",
    "\n",
    "        if direction == 1:\n",
    "            exit_rule = (CrossDown(px, trailing_stop))  # Cross down for longs\n",
    "\n",
    "        elif direction == -1:\n",
    "            exit_rule = (CrossUp(px, trailing_stop))\n",
    "            \n",
    "\n",
    "        # Swarm_member_name must be *unique* for every swarm member\n",
    "        # We use params values for uniqueness\n",
    "        swarm_member_name = self.get_member_name(params)\n",
    "\n",
    "        #\n",
    "        # Calculation info\n",
    "        #\n",
    "        calc_info = None\n",
    "        if save_info:\n",
    "            calc_info = {'trailing_stop': trailing_stop}\n",
    "\n",
    "        return swarm_member_name, entry_rule, exit_rule, calc_info"
   ]
  },
  {
   "cell_type": "markdown",
   "metadata": {},
   "source": [
    "## Script settings"
   ]
  },
  {
   "cell_type": "code",
   "execution_count": null,
   "metadata": {
    "collapsed": false
   },
   "outputs": [],
   "source": [
    "STRATEGY_CONTEXT = {\n",
    "    'strategy': { \n",
    "        'class': Strategy_DMI,\n",
    "        'exo_name': 'ZN_PutSpread',        # <---- Select and paste EXO name from cell above\n",
    "        'exo_storage': storage,          \n",
    "        'opt_params': [\n",
    "                        #OptParam(name, default_value, min_value, max_value, step)\n",
    "                        OptParamArray('Direction', [-1]),\n",
    "                        OptParam('DI EMA period', 1, 5, 30, 10),\n",
    "                        OptParamArray('ATR period', [14]),\n",
    "                        OptParamArray('Pct. rank values', [0.05, 0.1, 0.9, 0.95]),\n",
    "                        OptParamArray('ADX', [20,40]),\n",
    "                        OptParamArray('Rules index', np.arange(13)),\n",
    "                        OptParam('MedianPeriod', 1, 5, 30, 10),\n",
    "                        \n",
    "            ],\n",
    "    },\n",
    "    'swarm': {\n",
    "        'members_count': 2,\n",
    "        'ranking_class': RankerBestWithCorrel(window_size=-1, correl_threshold=0.5),\n",
    "        'rebalance_time_function': SwarmRebalance.every_friday,\n",
    "\n",
    "    },\n",
    "    'costs':{\n",
    "        'manager': CostsManagerEXOFixed,\n",
    "        'context': {\n",
    "            'costs_options': 3.0,\n",
    "            'costs_futures': 3.0,\n",
    "        }\n",
    "    }\n",
    "}"
   ]
  },
  {
   "cell_type": "markdown",
   "metadata": {},
   "source": [
    "# Backtest class based strategy"
   ]
  },
  {
   "cell_type": "code",
   "execution_count": null,
   "metadata": {
    "collapsed": false,
    "scrolled": false
   },
   "outputs": [],
   "source": [
    "smgr = Swarm(STRATEGY_CONTEXT)\n",
    "smgr.run_swarm()\n",
    "smgr.pick()\n",
    "\n",
    "# Saving results to swarms directory\n",
    "smgr.save('./swarms/')"
   ]
  },
  {
   "cell_type": "markdown",
   "metadata": {},
   "source": [
    "### WARNING! Loading swarm from file (don't run next cell if you want new swarm instance)"
   ]
  },
  {
   "cell_type": "code",
   "execution_count": null,
   "metadata": {
    "collapsed": false,
    "scrolled": false
   },
   "outputs": [],
   "source": [
    "smgr.strategy.data.exo.plot()"
   ]
  },
  {
   "cell_type": "code",
   "execution_count": null,
   "metadata": {
    "collapsed": false,
    "scrolled": false
   },
   "outputs": [],
   "source": [
    "figsize(10,10)\n",
    "smgr.picked_equity.plot(label='Picked swarm equity');\n",
    "smgr.raw_equity.plot(label='Average swarm equity');\n",
    "legend(loc=2);"
   ]
  },
  {
   "cell_type": "code",
   "execution_count": null,
   "metadata": {
    "collapsed": false,
    "scrolled": false
   },
   "outputs": [],
   "source": [
    "smgr.raw_swarm.plot(legend=False)\n",
    "\n",
    "(smgr.strategy.data.exo*-1).plot(linewidth=3, color='red')"
   ]
  },
  {
   "cell_type": "code",
   "execution_count": null,
   "metadata": {
    "collapsed": false
   },
   "outputs": [],
   "source": [
    "smgr.picked_swarm.plot()\n",
    "\n",
    "smgr.picked_swarm.sum(1).plot(label='smgr.picked_swarm-sum')\n",
    "smgr.picked_equity.plot(label='Picked swarm equity')"
   ]
  },
  {
   "cell_type": "markdown",
   "metadata": {},
   "source": [
    "# Swarm exposure"
   ]
  },
  {
   "cell_type": "code",
   "execution_count": null,
   "metadata": {
    "collapsed": false
   },
   "outputs": [],
   "source": [
    "smgr.picked_exposure.sum(axis=1).rolling(10).mean().plot()"
   ]
  },
  {
   "cell_type": "markdown",
   "metadata": {},
   "source": [
    "# Swarm statistics"
   ]
  },
  {
   "cell_type": "markdown",
   "metadata": {},
   "source": [
    "#### Non-picked swarm stats"
   ]
  },
  {
   "cell_type": "code",
   "execution_count": null,
   "metadata": {
    "collapsed": false
   },
   "outputs": [],
   "source": [
    "smgr.picked_stats"
   ]
  },
  {
   "cell_type": "markdown",
   "metadata": {},
   "source": [
    "## Exo information"
   ]
  },
  {
   "cell_type": "code",
   "execution_count": null,
   "metadata": {
    "collapsed": false
   },
   "outputs": [],
   "source": [
    "smgr.strategy.exoinfo.exo_info"
   ]
  },
  {
   "cell_type": "code",
   "execution_count": null,
   "metadata": {
    "collapsed": false
   },
   "outputs": [],
   "source": [
    "smgr.strategy.exoinfo.data.exo.plot()"
   ]
  },
  {
   "cell_type": "markdown",
   "metadata": {},
   "source": [
    "### Global filter information (obsolete)\n"
   ]
  },
  {
   "cell_type": "markdown",
   "metadata": {},
   "source": [
    "## Costs information (per 1-exo unit)"
   ]
  },
  {
   "cell_type": "code",
   "execution_count": null,
   "metadata": {
    "collapsed": false
   },
   "outputs": [],
   "source": [
    "figsize(10,5)\n",
    "smgr.strategy.costs.plot()"
   ]
  },
  {
   "cell_type": "markdown",
   "metadata": {
    "collapsed": false
   },
   "source": [
    "## Margin graphs"
   ]
  },
  {
   "cell_type": "markdown",
   "metadata": {},
   "source": [
    "### EXO Margin (per 1 EXO unit)"
   ]
  },
  {
   "cell_type": "code",
   "execution_count": null,
   "metadata": {
    "collapsed": false
   },
   "outputs": [],
   "source": [
    "smgr.strategy.exoinfo.margin().plot()"
   ]
  },
  {
   "cell_type": "markdown",
   "metadata": {
    "collapsed": false
   },
   "source": [
    "# Saving results"
   ]
  },
  {
   "cell_type": "code",
   "execution_count": null,
   "metadata": {
    "collapsed": false
   },
   "outputs": [],
   "source": [
    "smgr.save('./swarms/')"
   ]
  },
  {
   "cell_type": "code",
   "execution_count": null,
   "metadata": {
    "collapsed": false
   },
   "outputs": [],
   "source": [
    "smgr.raw_swarm#.plot()"
   ]
  },
  {
   "cell_type": "code",
   "execution_count": null,
   "metadata": {
    "collapsed": false
   },
   "outputs": [],
   "source": []
  },
  {
   "cell_type": "code",
   "execution_count": null,
   "metadata": {
    "collapsed": false
   },
   "outputs": [],
   "source": []
  }
 ],
 "metadata": {
  "kernelspec": {
   "display_name": "Python 3",
   "language": "python",
   "name": "python3"
  },
  "language_info": {
   "codemirror_mode": {
    "name": "ipython",
    "version": 3
   },
   "file_extension": ".py",
   "mimetype": "text/x-python",
   "name": "python",
   "nbconvert_exporter": "python",
   "pygments_lexer": "ipython3",
   "version": "3.5.2"
  }
 },
 "nbformat": 4,
 "nbformat_minor": 0
}
