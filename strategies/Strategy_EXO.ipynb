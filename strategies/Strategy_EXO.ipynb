{
 "cells": [
  {
   "cell_type": "code",
   "execution_count": null,
   "metadata": {
    "collapsed": false
   },
   "outputs": [],
   "source": [
    "%pylab inline\n",
    "%load_ext autoreload\n",
    "%autoreload 2"
   ]
  },
  {
   "cell_type": "code",
   "execution_count": null,
   "metadata": {
    "collapsed": false
   },
   "outputs": [],
   "source": [
    "import sys,os\n",
    "sys.path.append('..')\n",
    "from backtester import matlab, backtester\n",
    "from backtester.analysis import *\n",
    "from backtester.strategy import StrategyBase, OptParam, OptParamArray\n",
    "from backtester.swarms.ranking import SwarmRanker\n",
    "from backtester.swarms.rebalancing import SwarmRebalance\n",
    "from backtester.swarms.filters import SwarmFilter\n",
    "from backtester.costs import CostsManagerEXOFixed\n",
    "from backtester.exoinfo import EXOInfo\n",
    "from backtester.swarms.rankingclasses import *\n",
    "from backtester.swarms.swarm import Swarm\n",
    "\n",
    "\n",
    "import pandas as pd\n",
    "import numpy as np\n",
    "import scipy"
   ]
  },
  {
   "cell_type": "code",
   "execution_count": null,
   "metadata": {
    "collapsed": false
   },
   "outputs": [],
   "source": [
    "from strategies.strategy_exo import StrategyEXO"
   ]
  },
  {
   "cell_type": "code",
   "execution_count": null,
   "metadata": {
    "collapsed": false
   },
   "outputs": [],
   "source": [
    "from scripts.settings import *\n",
    "try:\n",
    "    from scripts.settings_local import *\n",
    "except:\n",
    "    pass\n",
    "\n",
    "from exobuilder.data.exostorage import EXOStorage\n",
    "\n",
    "storage = EXOStorage(MONGO_CONNSTR, MONGO_EXO_DB)\n",
    "\n",
    "\n",
    "exo_filter = '*'     # All \n",
    "#exo_filter = 'ES_'  # ES only\n",
    "exo_filter = '*'  # ES Collars (incl Bearish, Bullish, BW and vanilla)\n",
    "\n",
    "[print(exo) for exo in storage.exo_list(exo_filter)];"
   ]
  },
  {
   "cell_type": "markdown",
   "metadata": {},
   "source": [
    "## Script settings"
   ]
  },
  {
   "cell_type": "code",
   "execution_count": null,
   "metadata": {
    "collapsed": false
   },
   "outputs": [],
   "source": [
    "STRATEGY_CONTEXT = {\n",
    "    'strategy': { \n",
    "        'class': StrategyEXO,\n",
    "        'exo_name': 'ES_SMART_Ichimoku_Long',        # <---- Select and paste EXO name from cell above\n",
    "        'exo_storage': storage,        \n",
    "        'opt_params': [\n",
    "                        #OptParam(name, default_value, min_value, max_value, step)\n",
    "                        OptParamArray('Direction', [1]),\n",
    "                        \n",
    "            ],\n",
    "    },\n",
    "    'swarm': {\n",
    "        'members_count': 1,\n",
    "        'ranking_class': RankingNoRanking(),\n",
    "        'rebalance_time_function': SwarmRebalance.every_friday,\n",
    "\n",
    "    },\n",
    "    'costs':{\n",
    "        'manager': CostsManagerEXOFixed,\n",
    "        'context': {\n",
    "            'costs_options': 3.0,\n",
    "            'costs_futures': 3.0,\n",
    "        }\n",
    "    }\n",
    "}"
   ]
  },
  {
   "cell_type": "markdown",
   "metadata": {},
   "source": [
    "# Backtest class based strategy"
   ]
  },
  {
   "cell_type": "markdown",
   "metadata": {},
   "source": [
    "### WARNING! Do not run next block if you want to load swarm from file!"
   ]
  },
  {
   "cell_type": "code",
   "execution_count": null,
   "metadata": {
    "collapsed": false
   },
   "outputs": [],
   "source": [
    "smgr = Swarm(STRATEGY_CONTEXT)\n",
    "smgr.run_swarm()\n",
    "smgr.pick()\n",
    "\n",
    "# Saving results to swarms directory\n",
    "smgr.save('./swarms/')"
   ]
  },
  {
   "cell_type": "markdown",
   "metadata": {},
   "source": [
    "### WARNING! Loading swarm from file (don't run next cell if you want new swarm instance)"
   ]
  },
  {
   "cell_type": "code",
   "execution_count": null,
   "metadata": {
    "collapsed": false
   },
   "outputs": [],
   "source": [
    "#smgr = Swarm.load(strategy_context=STRATEGY_CONTEXT, directory='./swarms/')\n",
    "#print('Loading: '+smgr.get_swarm_name())"
   ]
  },
  {
   "cell_type": "code",
   "execution_count": null,
   "metadata": {
    "collapsed": false,
    "scrolled": false
   },
   "outputs": [],
   "source": [
    "figsize(10,10)\n",
    "smgr.picked_equity.plot(label='Picked swarm equity');\n",
    "smgr.raw_equity.plot(label='Average swarm equity');\n",
    "legend(loc=2);"
   ]
  },
  {
   "cell_type": "code",
   "execution_count": null,
   "metadata": {
    "collapsed": false,
    "scrolled": false
   },
   "outputs": [],
   "source": [
    "exo_price, exo_info = storage.load_series(smgr.exo_name)"
   ]
  },
  {
   "cell_type": "code",
   "execution_count": null,
   "metadata": {
    "collapsed": false,
    "scrolled": false
   },
   "outputs": [],
   "source": [
    "exo_price"
   ]
  },
  {
   "cell_type": "markdown",
   "metadata": {
    "collapsed": false
   },
   "source": [
    "# Compare pure exo price and EXO strategy equity"
   ]
  },
  {
   "cell_type": "code",
   "execution_count": null,
   "metadata": {
    "collapsed": false
   },
   "outputs": [],
   "source": [
    "smgr.picked_equity.plot()\n",
    "exo_price.exo.plot()"
   ]
  },
  {
   "cell_type": "markdown",
   "metadata": {
    "collapsed": false
   },
   "source": [
    "# EXO strategy and EXO index difference"
   ]
  },
  {
   "cell_type": "code",
   "execution_count": null,
   "metadata": {
    "collapsed": false
   },
   "outputs": [],
   "source": [
    "(smgr.picked_equity-exo_price.exo).plot()"
   ]
  },
  {
   "cell_type": "code",
   "execution_count": null,
   "metadata": {
    "collapsed": false
   },
   "outputs": [],
   "source": []
  }
 ],
 "metadata": {
  "anaconda-cloud": {},
  "kernelspec": {
   "display_name": "Python 3",
   "language": "python",
   "name": "python3"
  },
  "language_info": {
   "codemirror_mode": {
    "name": "ipython",
    "version": 3
   },
   "file_extension": ".py",
   "mimetype": "text/x-python",
   "name": "python",
   "nbconvert_exporter": "python",
   "pygments_lexer": "ipython3",
   "version": "3.5.2"
  }
 },
 "nbformat": 4,
 "nbformat_minor": 0
}
