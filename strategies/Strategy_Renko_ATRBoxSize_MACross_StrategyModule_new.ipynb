{
 "cells": [
  {
   "cell_type": "code",
   "execution_count": null,
   "metadata": {
    "collapsed": false
   },
   "outputs": [],
   "source": [
    "%pylab inline\n",
    "%load_ext autoreload\n",
    "%autoreload 2"
   ]
  },
  {
   "cell_type": "code",
   "execution_count": null,
   "metadata": {
    "collapsed": false
   },
   "outputs": [],
   "source": [
    "import sys,os\n",
    "sys.path.append('..')\n",
    "from backtester import matlab, backtester\n",
    "from backtester.analysis import *\n",
    "from backtester.strategy import StrategyBase, OptParam, OptParamArray\n",
    "from backtester.swarms.ranking import SwarmRanker\n",
    "from backtester.swarms.rebalancing import SwarmRebalance\n",
    "from backtester.swarms.filters import SwarmFilter\n",
    "from backtester.costs import CostsManagerEXOFixed\n",
    "from backtester.exoinfo import EXOInfo\n",
    "from backtester.swarms.rankingclasses import *\n",
    "from backtester.swarms.swarm import Swarm\n",
    "\n",
    "\n",
    "import pandas as pd\n",
    "import numpy as np\n",
    "import scipy"
   ]
  },
  {
   "cell_type": "code",
   "execution_count": null,
   "metadata": {
    "collapsed": false
   },
   "outputs": [],
   "source": [
    "from scripts.settings import *\n",
    "try:\n",
    "    from scripts.settings_local import *\n",
    "except:\n",
    "    pass\n",
    "\n",
    "from exobuilder.data.exostorage import EXOStorage\n",
    "\n",
    "storage = EXOStorage(MONGO_CONNSTR, MONGO_EXO_DB)\n",
    "\n",
    "\n",
    "exo_filter = '*'     # All \n",
    "#exo_filter = 'ES_'  # ES only\n",
    "exo_filter = 'ES*'  # ES Collars (incl Bearish, Bullish, BW and vanilla)\n",
    "\n",
    "[print(exo) for exo in storage.exo_list(exo_filter)];"
   ]
  },
  {
   "cell_type": "code",
   "execution_count": null,
   "metadata": {
    "collapsed": false
   },
   "outputs": [],
   "source": [
    "class StrategyRenko_MACross_ATRBoxSize(StrategyBase):\n",
    "    name = 'Renko_MACross_ATRBoxSize'\n",
    "\n",
    "\n",
    "    def __init__(self, strategy_context):\n",
    "        # Initialize parent class\n",
    "        super().__init__(strategy_context)\n",
    "\n",
    "    def calc_entry_rules(self, atr_period, period_slow, period_fast, rules_index):\n",
    "\n",
    "        box_start = 0\n",
    "        box_start_idx = None\n",
    "\n",
    "        box_end = 0\n",
    "        box_quantity = 0\n",
    "\n",
    "        temp_l = []\n",
    "\n",
    "        # Simple renko algorihtm\n",
    "\n",
    "        df = pd.DataFrame()\n",
    "        df['close'] = self.data.exo\n",
    "\n",
    "        O = L = H = C = df['close']\n",
    "\n",
    "        atr = ATR(H, L, C, atr_period)\n",
    "\n",
    "        for i in range(len(df)):\n",
    "            box_size = (atr).shift(1)[i]\n",
    "\n",
    "            if box_start == 0:\n",
    "                box_start = df.close[i]\n",
    "\n",
    "            else:\n",
    "                box_start = box_start\n",
    "                price_move = df.close[i] - box_start\n",
    "\n",
    "                # First of all we need to set box size. \n",
    "                # Then calculate price movement. \n",
    "                # If price movement is more or equal than box size - renko bar(or bars) will be added\n",
    "\n",
    "                if np.abs(price_move) >= box_size:\n",
    "\n",
    "                    # After we calculate box_quantity(price move divided by box size)\n",
    "                    # This number defines how much renko bars will be registred\n",
    "                    box_quantity = np.int32(np.floor(np.abs(price_move / box_size)))\n",
    "                    box_index = df.close.index[i]\n",
    "\n",
    "                    for b in range(int(box_quantity)):\n",
    "                    # Let say, index is 2015-01-01, box_start = 100, box_quantity = 3, box size = 10, price move > 0\n",
    "                    # So renko bar 1 will have next parameters - \n",
    "                    # 1)index 2015-01-01\n",
    "                    # 2)open = 100\n",
    "                    # 3)close = 110(box_start + box_size)\n",
    "                    # 4)type = up\n",
    "\n",
    "                    # Next renko bar will have next parameters -\n",
    "                    # 1)index 2015-01-01\n",
    "                    # 2)open = 110(previous renko bar close)\n",
    "                    # 3)close = 120(open + box_size)\n",
    "                    # 4)type = up\n",
    "\n",
    "                    # And so on..\n",
    "\n",
    "                    # After all we adding renko bars dict to list and convert it to DF\n",
    "\n",
    "                        if price_move > 0:\n",
    "                            if box_end == 0:\n",
    "                                d = {'date': box_index, 'open': box_start, 'close': box_start + box_size, 'type': 'up'}\n",
    "                                box_end = d['close']\n",
    "                                temp_l.append(d)\n",
    "\n",
    "                            else:\n",
    "                                d = {'date': box_index, 'open': box_end, 'close': box_end + box_size,\n",
    "                                    'type': 'up'}\n",
    "\n",
    "                                box_end = d['close']\n",
    "                                temp_l.append(d)\n",
    "\n",
    "                        if price_move < 0:\n",
    "                            if box_end == 0:\n",
    "                                d = {'date': box_index, 'open': box_start, 'close': box_start - box_size, 'type': 'down'}\n",
    "                                box_end = d['close']\n",
    "                                temp_l.append(d)\n",
    "\n",
    "                            else:           \n",
    "                                d = {'date': box_index, 'open': box_end, 'close': box_end - box_size, \n",
    "                                     'type': 'down'}\n",
    "\n",
    "                                box_end = d['close']\n",
    "                                temp_l.append(d)\n",
    "\n",
    "                    box_start = df.close[i]\n",
    "\n",
    "        renko_df = pd.DataFrame(temp_l)\n",
    "\n",
    "        del temp_l\n",
    "\n",
    "\n",
    "        slow_ma = renko_df.close.rolling(period_slow).mean()\n",
    "        fast_ma = renko_df.close.rolling(period_fast).mean()\n",
    "\n",
    "        # Enry/exit rules\n",
    "        renko_df['crossdown'] = CrossDown(fast_ma, slow_ma)\n",
    "        renko_df['crossup'] = CrossUp(fast_ma, slow_ma)\n",
    "\n",
    "        df = df.join(renko_df.set_index('date')[['crossdown','crossup']])\n",
    "        df = df.fillna(False).groupby(df.index).any()\n",
    "        \n",
    "        if rules_index == 0:\n",
    "            return df.crossdown\n",
    "        \n",
    "        if rules_index == 1:\n",
    "            return df.crossdown\n",
    "        \n",
    "        if rules_index > 1:\n",
    "            raise ValueError('Rules index parameter must be in range of 0-1')\n",
    "            \n",
    "    def calc_exit_rules(self, atr_period, period_median, exit_rules_index):\n",
    "\n",
    "        box_start = 0\n",
    "        box_start_idx = None\n",
    "\n",
    "        box_end = 0\n",
    "        box_quantity = 0\n",
    "\n",
    "        temp_l = []\n",
    "\n",
    "        # Simple renko algorihtm\n",
    "\n",
    "        df = pd.DataFrame()\n",
    "        df['close'] = self.data.exo\n",
    "\n",
    "        O = L = H = C = df['close']\n",
    "\n",
    "        atr = ATR(H, L, C, atr_period)\n",
    "\n",
    "        for i in range(len(df)):\n",
    "            box_size = (atr).shift(1)[i]\n",
    "\n",
    "            if box_start == 0:\n",
    "                box_start = df.close[i]\n",
    "\n",
    "            else:\n",
    "                box_start = box_start\n",
    "                price_move = df.close[i] - box_start\n",
    "\n",
    "                # First of all we need to set box size. \n",
    "                # Then calculate price movement. \n",
    "                # If price movement is more or equal than box size - renko bar(or bars) will be added\n",
    "\n",
    "                if np.abs(price_move) >= box_size:\n",
    "\n",
    "                    # After we calculate box_quantity(price move divided by box size)\n",
    "                    # This number defines how much renko bars will be registred\n",
    "                    box_quantity = np.int32(np.floor(np.abs(price_move / box_size)))\n",
    "                    box_index = df.close.index[i]\n",
    "\n",
    "                    for b in range(int(box_quantity)):\n",
    "                    # Let say, index is 2015-01-01, box_start = 100, box_quantity = 3, box size = 10, price move > 0\n",
    "                    # So renko bar 1 will have next parameters - \n",
    "                    # 1)index 2015-01-01\n",
    "                    # 2)open = 100\n",
    "                    # 3)close = 110(box_start + box_size)\n",
    "                    # 4)type = up\n",
    "\n",
    "                    # Next renko bar will have next parameters -\n",
    "                    # 1)index 2015-01-01\n",
    "                    # 2)open = 110(previous renko bar close)\n",
    "                    # 3)close = 120(open + box_size)\n",
    "                    # 4)type = up\n",
    "\n",
    "                    # And so on..\n",
    "\n",
    "                    # After all we adding renko bars dict to list and convert it to DF\n",
    "\n",
    "                        if price_move > 0:\n",
    "                            if box_end == 0:\n",
    "                                d = {'date': box_index, 'open': box_start, 'close': box_start + box_size, 'type': 'up'}\n",
    "                                box_end = d['close']\n",
    "                                temp_l.append(d)\n",
    "\n",
    "                            else:\n",
    "                                d = {'date': box_index, 'open': box_end, 'close': box_end + box_size,\n",
    "                                    'type': 'up'}\n",
    "\n",
    "                                box_end = d['close']\n",
    "                                temp_l.append(d)\n",
    "\n",
    "                        if price_move < 0:\n",
    "                            if box_end == 0:\n",
    "                                d = {'date': box_index, 'open': box_start, 'close': box_start - box_size, 'type': 'down'}\n",
    "                                box_end = d['close']\n",
    "                                temp_l.append(d)\n",
    "\n",
    "                            else:           \n",
    "                                d = {'date': box_index, 'open': box_end, 'close': box_end - box_size, \n",
    "                                     'type': 'down'}\n",
    "\n",
    "                                box_end = d['close']\n",
    "                                temp_l.append(d)\n",
    "\n",
    "                    box_start = df.close[i]\n",
    "\n",
    "        renko_df = pd.DataFrame(temp_l)\n",
    "\n",
    "        del temp_l\n",
    "\n",
    "        trailing_stop = renko_df.close.rolling(period_median).median().shift(1)\n",
    "        \n",
    "        if exit_rules_index == 0:\n",
    "            renko_df['exit_signal']  = CrossDown(renko_df.close, trailing_stop)\n",
    "            df = df.join(renko_df.set_index('date')['exit_signal'])\n",
    "            df = df.fillna(False).groupby(df.index).any()\n",
    "            \n",
    "            return df.exit_signal\n",
    "        \n",
    "        elif exit_rules_index == 1:\n",
    "            renko_df['exit_signal']  = CrossUp(renko_df.close, trailing_stop)\n",
    "            df = df.join(renko_df.set_index('date')['exit_signal'])\n",
    "            df = df.fillna(False).groupby(df.index).any()\n",
    "            \n",
    "            return df.exit_signal\n",
    "        \n",
    "    def calculate(self, params=None, save_info=False):\n",
    "    #\n",
    "    #\n",
    "    #  Params is a tripple like (50, 10, 15), where:\n",
    "    #   50 - slow MA period\n",
    "    #   10 - fast MA period\n",
    "    #   15 - median period\n",
    "    #\n",
    "    #  On every iteration of swarming algorithm, parameter set will be different.\n",
    "    #  For more information look inside: /notebooks/tmp/Swarming engine research.ipynb\n",
    "    #\n",
    "\n",
    "        if params is None:\n",
    "            # Return default parameters\n",
    "            direction, atr_period, period_slow, period_fast, rules_index, exit_rules_index, period_median = self.default_opts()\n",
    "        else:\n",
    "            # Unpacking optimization params\n",
    "            #  in order in self.opts definition\n",
    "            direction, atr_period, period_slow, period_fast, rules_index, exit_rules_index, period_median = params\n",
    "\n",
    "        # Defining EXO price\n",
    "        px = self.data.exo\n",
    "\n",
    "        # Median based trailing stop\n",
    "        trailing_stop = px.rolling(period_median).median().shift(1)\n",
    "\n",
    "        # Enry/exit rules\n",
    "        entry_rule = self.calc_entry_rules(atr_period, period_slow, period_fast, rules_index)\n",
    "\n",
    "        if direction == 1:\n",
    "            #exit_rule = (CrossDown(px, trailing_stop))  # Cross down for longs\n",
    "            exit_rule = self.calc_exit_rules(atr_period, period_median, exit_rules_index)\n",
    "            # exit_rule = pd.Series(rules_list[exit_rules_index])\n",
    "        elif direction == -1:\n",
    "            exit_rule = self.calc_exit_rules(atr_period, period_median, exit_rules_index)\n",
    "            #exit_rule = (CrossUp(px, trailing_stop))  # Cross up for shorts, Cross down for longs\n",
    "\n",
    "        # Swarm_member_name must be *unique* for every swarm member\n",
    "        # We use params values for uniqueness\n",
    "        swarm_member_name = self.get_member_name(params)\n",
    "\n",
    "        #\n",
    "        # Calculation info\n",
    "        #\n",
    "        calc_info = None\n",
    "        if save_info:\n",
    "            calc_info = {'trailing_stop': trailing_stop}\n",
    "\n",
    "        return swarm_member_name, entry_rule, exit_rule, calc_info"
   ]
  },
  {
   "cell_type": "code",
   "execution_count": null,
   "metadata": {
    "collapsed": false,
    "scrolled": false
   },
   "outputs": [],
   "source": [
    "StrategyRenko_MACross_ATRBoxSize"
   ]
  },
  {
   "cell_type": "markdown",
   "metadata": {},
   "source": [
    "## Script settings"
   ]
  },
  {
   "cell_type": "code",
   "execution_count": null,
   "metadata": {
    "collapsed": false
   },
   "outputs": [],
   "source": [
    "STRATEGY_CONTEXT = {\n",
    "    'strategy': { \n",
    "        'class': StrategyRenko_MACross_ATRBoxSize,\n",
    "        'exo_name': 'ZC_PutSpread',        # <---- Select and paste EXO name from cell above\n",
    "        'exo_storage': storage,          \n",
    "        'opt_params': [\n",
    "                        #OptParam(name, default_value, min_value, max_value, step)\n",
    "                        OptParamArray('Direction', [1]),\n",
    "                        OptParamArray('ATR period', [105,105,10]),\n",
    "                        OptParam('Slow MA period', 15, 10, 90, 20), \n",
    "                        OptParam('Fast MA period', 15, 2, 2, 20), \n",
    "                        OptParamArray('RulesIndex', np.arange(2)),\n",
    "                        OptParamArray('Exit_rules_index', np.arange(2)),\n",
    "                        OptParam('MedianPeriod', 5, 20, 20, 10)\n",
    "            \n",
    "            ],\n",
    "    },\n",
    "    'swarm': {\n",
    "        'members_count': 1,\n",
    "        'ranking_class': RankerBestWithCorrel(window_size=-1, correl_threshold=0.5),\n",
    "        'rebalance_time_function': SwarmRebalance.every_friday,\n",
    "\n",
    "    },\n",
    "    'costs':{\n",
    "        'manager': CostsManagerEXOFixed,\n",
    "        'context': {\n",
    "            'costs_options': 3.0,\n",
    "            'costs_futures': 3.0,\n",
    "        }\n",
    "    }\n",
    "}"
   ]
  },
  {
   "cell_type": "markdown",
   "metadata": {},
   "source": [
    "# Backtest class based strategy"
   ]
  },
  {
   "cell_type": "code",
   "execution_count": null,
   "metadata": {
    "collapsed": false
   },
   "outputs": [],
   "source": [
    "smgr = Swarm(STRATEGY_CONTEXT)\n",
    "smgr.run_swarm()\n",
    "smgr.pick()\n",
    "\n",
    "# Saving results to swarms directory\n",
    "smgr.save('./swarms/')"
   ]
  },
  {
   "cell_type": "markdown",
   "metadata": {},
   "source": [
    "### WARNING! Loading swarm from file (don't run next cell if you want new swarm instance)"
   ]
  },
  {
   "cell_type": "code",
   "execution_count": null,
   "metadata": {
    "collapsed": false
   },
   "outputs": [],
   "source": [
    "#smgr = Swarm.load(strategy_context=STRATEGY_CONTEXT, directory='./swarms/')\n",
    "#print('Loading: '+smgr.get_swarm_name())"
   ]
  },
  {
   "cell_type": "code",
   "execution_count": null,
   "metadata": {
    "collapsed": false,
    "scrolled": false
   },
   "outputs": [],
   "source": [
    "figsize(10,10)\n",
    "smgr.picked_equity.plot(label='Picked swarm equity');\n",
    "#smgr.raw_equity.plot(label='Average swarm equity');\n",
    "smgr.strategy.exoinfo.data.exo.plot()\n",
    "legend(loc=2);"
   ]
  },
  {
   "cell_type": "code",
   "execution_count": null,
   "metadata": {
    "collapsed": false,
    "scrolled": false
   },
   "outputs": [],
   "source": [
    "smgr.raw_swarm.plot(legend=False)"
   ]
  },
  {
   "cell_type": "code",
   "execution_count": null,
   "metadata": {
    "collapsed": false
   },
   "outputs": [],
   "source": [
    "figsize(10,10)\n",
    "smgr.picked_equity.plot(label='Picked swarm equity');\n",
    "smgr.raw_equity.plot(label='Average swarm equity');\n",
    "legend(loc=2);"
   ]
  },
  {
   "cell_type": "code",
   "execution_count": null,
   "metadata": {
    "collapsed": false
   },
   "outputs": [],
   "source": [
    "smgr.picked_swarm.plot()"
   ]
  },
  {
   "cell_type": "markdown",
   "metadata": {},
   "source": [
    "# Swarm exposure"
   ]
  },
  {
   "cell_type": "code",
   "execution_count": null,
   "metadata": {
    "collapsed": false
   },
   "outputs": [],
   "source": [
    "smgr.picked_exposure.sum(axis=1).rolling(10).mean().plot()"
   ]
  },
  {
   "cell_type": "markdown",
   "metadata": {},
   "source": [
    "# Swarm statistics"
   ]
  },
  {
   "cell_type": "markdown",
   "metadata": {},
   "source": [
    "#### Non-picked swarm stats"
   ]
  },
  {
   "cell_type": "code",
   "execution_count": null,
   "metadata": {
    "collapsed": false
   },
   "outputs": [],
   "source": [
    "smgr.picked_stats"
   ]
  },
  {
   "cell_type": "markdown",
   "metadata": {},
   "source": [
    "## Exo information"
   ]
  },
  {
   "cell_type": "code",
   "execution_count": null,
   "metadata": {
    "collapsed": false
   },
   "outputs": [],
   "source": [
    "smgr.strategy.exoinfo.exo_info"
   ]
  },
  {
   "cell_type": "code",
   "execution_count": null,
   "metadata": {
    "collapsed": false
   },
   "outputs": [],
   "source": [
    "smgr.strategy.exoinfo.data.exo.plot()"
   ]
  },
  {
   "cell_type": "markdown",
   "metadata": {},
   "source": [
    "### Global filter information (obsolete)\n"
   ]
  },
  {
   "cell_type": "markdown",
   "metadata": {},
   "source": [
    "## Costs information (per 1-exo unit)"
   ]
  },
  {
   "cell_type": "code",
   "execution_count": null,
   "metadata": {
    "collapsed": false
   },
   "outputs": [],
   "source": [
    "figsize(10,5)\n",
    "smgr.strategy.costs.plot()"
   ]
  },
  {
   "cell_type": "markdown",
   "metadata": {
    "collapsed": false
   },
   "source": [
    "## Margin graphs"
   ]
  },
  {
   "cell_type": "markdown",
   "metadata": {},
   "source": [
    "### EXO Margin (per 1 EXO unit)"
   ]
  },
  {
   "cell_type": "code",
   "execution_count": null,
   "metadata": {
    "collapsed": false
   },
   "outputs": [],
   "source": [
    "smgr.strategy.exoinfo.margin().plot()"
   ]
  },
  {
   "cell_type": "markdown",
   "metadata": {
    "collapsed": false
   },
   "source": [
    "# Saving results"
   ]
  },
  {
   "cell_type": "code",
   "execution_count": null,
   "metadata": {
    "collapsed": false
   },
   "outputs": [],
   "source": [
    "smgr.save('./swarms/')"
   ]
  },
  {
   "cell_type": "code",
   "execution_count": null,
   "metadata": {
    "collapsed": false
   },
   "outputs": [],
   "source": []
  }
 ],
 "metadata": {
  "kernelspec": {
   "display_name": "Python 3",
   "language": "python",
   "name": "python3"
  },
  "language_info": {
   "codemirror_mode": {
    "name": "ipython",
    "version": 3
   },
   "file_extension": ".py",
   "mimetype": "text/x-python",
   "name": "python",
   "nbconvert_exporter": "python",
   "pygments_lexer": "ipython3",
   "version": "3.5.2"
  }
 },
 "nbformat": 4,
 "nbformat_minor": 0
}
