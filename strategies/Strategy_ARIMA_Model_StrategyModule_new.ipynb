{
 "cells": [
  {
   "cell_type": "code",
   "execution_count": null,
   "metadata": {
    "collapsed": false
   },
   "outputs": [],
   "source": [
    "%pylab inline\n",
    "%load_ext autoreload\n",
    "%autoreload 2"
   ]
  },
  {
   "cell_type": "code",
   "execution_count": null,
   "metadata": {
    "collapsed": false
   },
   "outputs": [],
   "source": [
    "import sys,os\n",
    "sys.path.append('..')\n",
    "from backtester import matlab, backtester\n",
    "from backtester.analysis import *\n",
    "from backtester.strategy import StrategyBase, OptParam, OptParamArray\n",
    "from backtester.swarms.ranking import SwarmRanker\n",
    "from backtester.swarms.rebalancing import SwarmRebalance\n",
    "from backtester.swarms.filters import SwarmFilter\n",
    "from backtester.costs import CostsManagerEXOFixed\n",
    "from backtester.exoinfo import EXOInfo\n",
    "from backtester.swarms.rankingclasses import *\n",
    "from backtester.swarms.swarm import Swarm\n",
    "\n",
    "import statsmodels.tsa.api as smt\n",
    "\n",
    "from pandas.tseries.offsets import BDay\n",
    "\n",
    "import pandas as pd\n",
    "import numpy as np\n",
    "import scipy"
   ]
  },
  {
   "cell_type": "code",
   "execution_count": null,
   "metadata": {
    "collapsed": false
   },
   "outputs": [],
   "source": [
    "from scripts.settings import *\n",
    "try:\n",
    "    from scripts.settings_local import *\n",
    "except:\n",
    "    pass\n",
    "\n",
    "from exobuilder.data.exostorage import EXOStorage\n",
    "\n",
    "storage = EXOStorage(MONGO_CONNSTR, MONGO_EXO_DB)\n",
    "\n",
    "\n",
    "exo_filter = '*'     # All \n",
    "#exo_filter = 'ES_'  # ES only\n",
    "exo_filter = ''  # ES Collars (incl Bearish, Bullish, BW and vanilla)\n",
    "\n",
    "[print(exo) for exo in storage.exo_list(exo_filter)];"
   ]
  },
  {
   "cell_type": "code",
   "execution_count": null,
   "metadata": {
    "collapsed": false
   },
   "outputs": [],
   "source": [
    "class Strategy_ARIMA_Model(StrategyBase):\n",
    "    name = 'Strategy_ARIMA_Model'\n",
    "\n",
    "\n",
    "    def __init__(self, strategy_context):\n",
    "        # Initialize parent class\n",
    "        super().__init__(strategy_context)\n",
    "   \n",
    "    def calc_entryexit_rules(self, forecast_period, ar_p, i_d, ma_q, rules_index):\n",
    "        i = 1\n",
    "        px_ser = self.data.exo\n",
    "        empty_ser = pd.Series(False, index=px_ser.dropna().index)\n",
    "        signals_df = pd.DataFrame()\n",
    "        \n",
    "        \n",
    "        ts = (px_ser - px_ser.shift(1)).dropna()\n",
    "        #ts = px_ser.ewm(50).mean().dropna()\n",
    "        \n",
    "        signals_df['entry_rule'] = empty_ser\n",
    "        signals_df['exit_rule'] = empty_ser\n",
    "        \n",
    "        while True:\n",
    "            forecast_period = forecast_period\n",
    "\n",
    "            try:\n",
    "                model = smt.ARIMA(ts.iloc[:i], order=(ar_p,i_d,ma_q)).fit()\n",
    "\n",
    "            except Exception:\n",
    "                i += forecast_period\n",
    "                continue\n",
    "\n",
    "\n",
    "            forecast_daterange = pd.date_range(start=ts.iloc[:i].index[-1] + BDay(1), periods=forecast_period)\n",
    "            #forecast_daterange = pd.date_range(start=ts.iloc[:i].index[-1] + pd.DateOffset(1), freq='B')\n",
    "\n",
    "            # Handling missing dates\n",
    "            if (forecast_daterange.isin(px_ser.dropna().index).all() == False) & (forecast_daterange[-1] < ts.index[-1]):\n",
    "                i += forecast_period\n",
    "                continue\n",
    "\n",
    "            # If daterange is out of TSeries index, break while loop\n",
    "            if forecast_daterange[-1] > ts.index[-1]:\n",
    "                break\n",
    "\n",
    "            forecast_values = model.forecast(forecast_period)\n",
    "\n",
    "            forecast_series = pd.Series(forecast_values[0], index=forecast_daterange)\n",
    "\n",
    "            if rules_index == 0:\n",
    "                signals_df['entry_rule'].ix[ts.iloc[:i].index[-1]: \n",
    "                                                   forecast_series.index[-1]] = forecast_series[0] > forecast_series[-1]\n",
    "\n",
    "                if (signals_df['entry_rule'].ix[forecast_series.index[-1]] == True):\n",
    "                    signals_df['exit_rule'].ix[forecast_series.index[-1] + BDay(1)] = True\n",
    "\n",
    "\n",
    "            if rules_index == 1:\n",
    "                signals_df['entry_rule'].ix[ts.iloc[:i].index[-1]: \n",
    "                                                   forecast_series.index[-1]] = forecast_series[0] < forecast_series[-1]\n",
    "\n",
    "                if (signals_df['entry_rule'].ix[forecast_series.index[-1]] == True):\n",
    "                    signals_df['exit_rule'].ix[forecast_series.index[-1] + BDay(1)] = True\n",
    "\n",
    "            i += forecast_period\n",
    "        \n",
    "        return signals_df.entry_rule, signals_df.exit_rule\n",
    "    \n",
    "    def calculate(self, params=None, save_info=False):\n",
    "    #\n",
    "    #\n",
    "    #  Params is a tripple like (50, 10, 15), where:\n",
    "    #   50 - slow MA period\n",
    "    #   10 - fast MA period\n",
    "    #   15 - median period\n",
    "    #\n",
    "    #  On every iteration of swarming algorithm, parameter set will be different.\n",
    "    #  For more information look inside: /notebooks/tmp/Swarming engine research.ipynb\n",
    "    #\n",
    "\n",
    "        if params is None:\n",
    "            # Return default parameters\n",
    "            direction, forecast_period, ar_p, i_d, ma_q, rules_index = self.default_opts()\n",
    "        else:\n",
    "            # Unpacking optimization params\n",
    "            #  in order in self.opts definition\n",
    "            direction, forecast_period, ar_p, i_d, ma_q, rules_index = params\n",
    "\n",
    "        # Defining EXO price\n",
    "        px = self.data.exo\n",
    "                \n",
    "        entry_rule, exit_rule = self.calc_entryexit_rules(forecast_period, ar_p, i_d, ma_q, rules_index)\n",
    "\n",
    "        # Swarm_member_name must be *unique* for every swarm member\n",
    "        # We use params values for uniqueness\n",
    "        swarm_member_name = self.get_member_name(params)\n",
    "\n",
    "        #\n",
    "        # Calculation info\n",
    "        #\n",
    "        calc_info = None\n",
    "        if save_info:\n",
    "            calc_info = {'trailing_stop': trailing_stop}\n",
    "\n",
    "        return swarm_member_name, entry_rule, exit_rule, calc_info"
   ]
  },
  {
   "cell_type": "markdown",
   "metadata": {},
   "source": [
    "## Script settings"
   ]
  },
  {
   "cell_type": "code",
   "execution_count": null,
   "metadata": {
    "collapsed": false
   },
   "outputs": [],
   "source": [
    "STRATEGY_CONTEXT = {\n",
    "    'strategy': { \n",
    "        'class': Strategy_ARIMA_Model,\n",
    "        'exo_name': 'ZN_PutSpread',        # <---- Select and paste EXO name from cell above\n",
    "        'exo_storage': storage,          \n",
    "        'opt_params': [\n",
    "                        #OptParam(name, default_value, min_value, max_value, step)\n",
    "                        OptParamArray('Direction', [-1]),\n",
    "                        #OptParam('Pct rank value', 9, 0, 1, 0.2),\n",
    "                        OptParam('Forecast period', 1, 2, 30, 2),\n",
    "                        OptParamArray('AR p', [1]),\n",
    "                        OptParamArray('I d', [1]),\n",
    "                        OptParamArray('MA q', [0]),\n",
    "                        #OptParam('Rolling_period', 9, 30, 30, 10),\n",
    "                        OptParamArray('Rules index', np.arange(2)),\n",
    "                        \n",
    "            ],\n",
    "    },\n",
    "    'swarm': {\n",
    "        'members_count': 2,\n",
    "        'ranking_class': RankerBestWithCorrel(window_size=-1, correl_threshold=0.5),\n",
    "        'rebalance_time_function': SwarmRebalance.every_friday,\n",
    "\n",
    "    },\n",
    "    'costs':{\n",
    "        'manager': CostsManagerEXOFixed,\n",
    "        'context': {\n",
    "            'costs_options': 3.0,\n",
    "            'costs_futures': 3.0,\n",
    "        }\n",
    "    }\n",
    "}"
   ]
  },
  {
   "cell_type": "markdown",
   "metadata": {},
   "source": [
    "# Backtest class based strategy"
   ]
  },
  {
   "cell_type": "code",
   "execution_count": null,
   "metadata": {
    "collapsed": false,
    "scrolled": false
   },
   "outputs": [],
   "source": [
    "smgr = Swarm(STRATEGY_CONTEXT)\n",
    "smgr.run_swarm()\n",
    "smgr.pick()\n",
    "\n",
    "# Saving results to swarms directory\n",
    "smgr.save('./swarms/')"
   ]
  },
  {
   "cell_type": "markdown",
   "metadata": {},
   "source": [
    "### WARNING! Loading swarm from file (don't run next cell if you want new swarm instance)"
   ]
  },
  {
   "cell_type": "code",
   "execution_count": null,
   "metadata": {
    "collapsed": false
   },
   "outputs": [],
   "source": [
    "smgr.strategy.data.exo.plot()"
   ]
  },
  {
   "cell_type": "code",
   "execution_count": null,
   "metadata": {
    "collapsed": false,
    "scrolled": false
   },
   "outputs": [],
   "source": [
    "figsize(10,10)\n",
    "smgr.picked_equity.plot(label='Picked swarm equity');\n",
    "smgr.raw_equity.plot(label='Average swarm equity');\n",
    "legend(loc=2);"
   ]
  },
  {
   "cell_type": "code",
   "execution_count": null,
   "metadata": {
    "collapsed": false,
    "scrolled": false
   },
   "outputs": [],
   "source": [
    "smgr.raw_swarm.plot(legend=True)\n",
    "legend(loc=2);"
   ]
  },
  {
   "cell_type": "code",
   "execution_count": null,
   "metadata": {
    "collapsed": false
   },
   "outputs": [],
   "source": [
    "smgr.picked_swarm.plot()\n",
    "\n",
    "smgr.picked_swarm.sum(1).plot(label='smgr.picked_swarm-sum')\n",
    "smgr.picked_equity.plot(label='Picked swarm equity')"
   ]
  },
  {
   "cell_type": "markdown",
   "metadata": {},
   "source": [
    "# Swarm exposure"
   ]
  },
  {
   "cell_type": "code",
   "execution_count": null,
   "metadata": {
    "collapsed": false
   },
   "outputs": [],
   "source": [
    "smgr.picked_exposure.sum(axis=1).rolling(10).mean().plot()"
   ]
  },
  {
   "cell_type": "markdown",
   "metadata": {},
   "source": [
    "# Swarm statistics"
   ]
  },
  {
   "cell_type": "markdown",
   "metadata": {},
   "source": [
    "#### Non-picked swarm stats"
   ]
  },
  {
   "cell_type": "code",
   "execution_count": null,
   "metadata": {
    "collapsed": false
   },
   "outputs": [],
   "source": [
    "smgr.picked_stats"
   ]
  },
  {
   "cell_type": "markdown",
   "metadata": {},
   "source": [
    "## Exo information"
   ]
  },
  {
   "cell_type": "code",
   "execution_count": null,
   "metadata": {
    "collapsed": false
   },
   "outputs": [],
   "source": [
    "smgr.strategy.exoinfo.exo_info"
   ]
  },
  {
   "cell_type": "code",
   "execution_count": null,
   "metadata": {
    "collapsed": false
   },
   "outputs": [],
   "source": [
    "smgr.strategy.exoinfo.data.exo.plot()"
   ]
  },
  {
   "cell_type": "markdown",
   "metadata": {},
   "source": [
    "### Global filter information (obsolete)\n"
   ]
  },
  {
   "cell_type": "markdown",
   "metadata": {},
   "source": [
    "## Costs information (per 1-exo unit)"
   ]
  },
  {
   "cell_type": "code",
   "execution_count": null,
   "metadata": {
    "collapsed": false
   },
   "outputs": [],
   "source": [
    "figsize(10,5)\n",
    "smgr.strategy.costs.plot()"
   ]
  },
  {
   "cell_type": "markdown",
   "metadata": {
    "collapsed": false
   },
   "source": [
    "## Margin graphs"
   ]
  },
  {
   "cell_type": "markdown",
   "metadata": {},
   "source": [
    "### EXO Margin (per 1 EXO unit)"
   ]
  },
  {
   "cell_type": "code",
   "execution_count": null,
   "metadata": {
    "collapsed": false
   },
   "outputs": [],
   "source": [
    "smgr.strategy.exoinfo.margin().plot()"
   ]
  },
  {
   "cell_type": "markdown",
   "metadata": {
    "collapsed": false
   },
   "source": [
    "# Saving results"
   ]
  },
  {
   "cell_type": "code",
   "execution_count": null,
   "metadata": {
    "collapsed": false
   },
   "outputs": [],
   "source": [
    "smgr.save('./swarms/')"
   ]
  },
  {
   "cell_type": "code",
   "execution_count": null,
   "metadata": {
    "collapsed": false
   },
   "outputs": [],
   "source": [
    "smgr.raw_swarm#.plot()"
   ]
  },
  {
   "cell_type": "code",
   "execution_count": null,
   "metadata": {
    "collapsed": false
   },
   "outputs": [],
   "source": []
  },
  {
   "cell_type": "code",
   "execution_count": null,
   "metadata": {
    "collapsed": false
   },
   "outputs": [],
   "source": []
  }
 ],
 "metadata": {
  "kernelspec": {
   "display_name": "Python 3",
   "language": "python",
   "name": "python3"
  },
  "language_info": {
   "codemirror_mode": {
    "name": "ipython",
    "version": 3
   },
   "file_extension": ".py",
   "mimetype": "text/x-python",
   "name": "python",
   "nbconvert_exporter": "python",
   "pygments_lexer": "ipython3",
   "version": "3.5.2"
  }
 },
 "nbformat": 4,
 "nbformat_minor": 0
}
