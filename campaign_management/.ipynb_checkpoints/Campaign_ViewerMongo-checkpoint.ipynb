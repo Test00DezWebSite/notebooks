{
 "cells": [
  {
   "cell_type": "code",
   "execution_count": null,
   "metadata": {
    "collapsed": false
   },
   "outputs": [],
   "source": [
    "%pylab inline\n",
    "%load_ext autoreload\n",
    "%autoreload 2"
   ]
  },
  {
   "cell_type": "code",
   "execution_count": null,
   "metadata": {
    "collapsed": false
   },
   "outputs": [],
   "source": [
    "import sys,os\n",
    "sys.path.append('..')\n",
    "sys.path.append('../..')\n",
    "from backtester import matlab, backtester\n",
    "from backtester.analysis import *\n",
    "from backtester.swarms.swarm import Swarm\n",
    "from backtester.exoinfo import EXOInfo\n",
    "from exobuilder.data.exostorage import EXOStorage\n",
    "\n",
    "\n",
    "import pandas as pd\n",
    "import numpy as np\n",
    "import scipy\n",
    "import pprint"
   ]
  },
  {
   "cell_type": "code",
   "execution_count": null,
   "metadata": {
    "collapsed": false
   },
   "outputs": [],
   "source": [
    "# Loading global setting for MongoDB etc.\n",
    "from scripts.settings import *\n",
    "\n",
    "try:\n",
    "    from scripts.settings_local import *\n",
    "except:\n",
    "    pass"
   ]
  },
  {
   "cell_type": "code",
   "execution_count": null,
   "metadata": {
    "collapsed": false
   },
   "outputs": [],
   "source": [
    "storage = EXOStorage(MONGO_CONNSTR, MONGO_EXO_DB)"
   ]
  },
  {
   "cell_type": "markdown",
   "metadata": {},
   "source": [
    "## List of available products in Mongo"
   ]
  },
  {
   "cell_type": "code",
   "execution_count": null,
   "metadata": {
    "collapsed": false
   },
   "outputs": [],
   "source": [
    "swm_info = storage.swarms_info()\n",
    "pp = pprint.PrettyPrinter(indent=4)\n",
    "pp.pprint(swm_info)"
   ]
  },
  {
   "cell_type": "markdown",
   "metadata": {},
   "source": [
    "## Getting swarm using filter"
   ]
  },
  {
   "cell_type": "code",
   "execution_count": null,
   "metadata": {
    "collapsed": false
   },
   "outputs": [],
   "source": [
    "instruments_filter = ['*']  # Select ALL\n",
    "#instruments_filter = ['ES', 'CL']\n",
    "\n",
    "exo_filter = ['*'] # Select ALL\n",
    "exo_filter = ['BullishCollar']\n",
    "\n",
    "direction_filter = [0, -1, 1] # Select ALL\n",
    "direction_filter = [1]\n",
    "\n",
    "alpha_filter = ['*']  # Select ALL\n",
    "#alpha_filter = ['MaCross', 'PointAndFigurePatterns']\n",
    "\n",
    "swmdf, swm_data = storage.swarms_list(instruments_filter, direction_filter, alpha_filter, exo_filter)"
   ]
  },
  {
   "cell_type": "markdown",
   "metadata": {},
   "source": [
    "## Swarms loaded"
   ]
  },
  {
   "cell_type": "code",
   "execution_count": null,
   "metadata": {
    "collapsed": false
   },
   "outputs": [],
   "source": [
    "[print(s) for s in sorted(swmdf.columns)];"
   ]
  },
  {
   "cell_type": "markdown",
   "metadata": {},
   "source": [
    "### Swarms equities"
   ]
  },
  {
   "cell_type": "code",
   "execution_count": null,
   "metadata": {
    "collapsed": false
   },
   "outputs": [],
   "source": [
    "swmdf.plot().legend(loc='best', bbox_to_anchor=(1, 0.5));"
   ]
  },
  {
   "cell_type": "markdown",
   "metadata": {},
   "source": [
    "## Individual swarm equity"
   ]
  },
  {
   "cell_type": "code",
   "execution_count": null,
   "metadata": {
    "collapsed": false
   },
   "outputs": [],
   "source": [
    "#_swarm_name = \"ES_BullishCollarBW_Long_BollingerBands\"\n",
    "_swarm_name = \"ES_BullishCollarBW_Long_VolatilityCompression\"\n",
    "\n",
    "swmdf[_swarm_name].plot();\n",
    "title(_swarm_name);"
   ]
  },
  {
   "cell_type": "markdown",
   "metadata": {},
   "source": [
    "### Available products EXOs"
   ]
  },
  {
   "cell_type": "code",
   "execution_count": null,
   "metadata": {
    "collapsed": false
   },
   "outputs": [],
   "source": [
    "passive_exo = {}\n",
    "\n",
    "exo_filter = '*'     # All \n",
    "#exo_filter = 'ES_'  # ES only\n",
    "exo_filter = 'ES*Collar'  # ES Collars (incl Bearish, Bullish, BW and vanilla)\n",
    "\n",
    "\n",
    "print('==== Passive EXO list')\n",
    "for exo_name in storage.exo_list(exo_filter):\n",
    "    passive_exo[exo_name], exo_dict = storage.load_series(exo_name)\n",
    "\n",
    "for exo in sorted(passive_exo.keys()):\n",
    "    print(exo)\n",
    "    \n",
    "print('==== Alphas EXO list')\n",
    "[print(s) for s in sorted(swmdf.columns)];"
   ]
  },
  {
   "cell_type": "code",
   "execution_count": null,
   "metadata": {
    "collapsed": false
   },
   "outputs": [],
   "source": [
    "storage.load_series('ZN_PutSpread')"
   ]
  },
  {
   "cell_type": "markdown",
   "metadata": {},
   "source": [
    "# Campaign composition"
   ]
  },
  {
   "cell_type": "markdown",
   "metadata": {},
   "source": [
    "Copy/paste EXO or swarm names to the 'campaign_exposure' dictionary from lists above"
   ]
  },
  {
   "cell_type": "code",
   "execution_count": null,
   "metadata": {
    "collapsed": false
   },
   "outputs": [],
   "source": [
    "campaign_exposure = {\n",
    "     'ES_BullishCollarBW_Long_BollingerBands': 1,\n",
    "     'ES_BullishCollarBW_Long_VolatilityCompression': 1,\n",
    "     'ES_BullishCollarBW_Long_IchimokuCloud': 1,\n",
    "     \n",
    "     #\n",
    "     # Passive EXO positions\n",
    "     #\n",
    "     'ES_BearishCollarBW': -1, # Short 1 EXO units\n",
    "     \n",
    "}"
   ]
  },
  {
   "cell_type": "code",
   "execution_count": null,
   "metadata": {
    "collapsed": false
   },
   "outputs": [],
   "source": [
    "#def campaign_equity(swarms, exposure):\n",
    "\n",
    "campaign_dict = {}\n",
    "campaign_stats = {'NetProfit': 0.0, 'TradesCount': 0, 'CommissionSum': 0.0}\n",
    "\n",
    "for camp_name, exposure in campaign_exposure.items():\n",
    "    if camp_name in swmdf:\n",
    "        swarm_name = camp_name\n",
    "        campaign_dict[swarm_name] = swmdf[swarm_name] * exposure\n",
    "        \n",
    "        # TODO: implement swarm statistics\n",
    "        '''\n",
    "        s = smgr.picked_stats        \n",
    "        campaign_stats['NetProfit'] += s['NetProfit']\n",
    "        campaign_stats['TradesCount'] += s['TradesCount']\n",
    "        campaign_stats['CommissionSum'] += s['CommissionSum']\n",
    "        '''\n",
    "        \n",
    "    elif camp_name in passive_exo:\n",
    "        exo_equity = passive_exo[camp_name]\n",
    "        campaign_dict[camp_name] = exo_equity.diff() * exposure\n",
    "    \n",
    "    \n",
    "campaign_portfolio = pd.DataFrame(campaign_dict)\n",
    "campaign_equity = campaign_portfolio.sum(axis=1)"
   ]
  },
  {
   "cell_type": "markdown",
   "metadata": {},
   "source": [
    "### Campaign members equities"
   ]
  },
  {
   "cell_type": "code",
   "execution_count": null,
   "metadata": {
    "collapsed": false
   },
   "outputs": [],
   "source": [
    "figsize(10,10)\n",
    "campaign_portfolio.plot()"
   ]
  },
  {
   "cell_type": "markdown",
   "metadata": {},
   "source": [
    "### Cumulative campaign equity"
   ]
  },
  {
   "cell_type": "code",
   "execution_count": null,
   "metadata": {
    "collapsed": false
   },
   "outputs": [],
   "source": [
    "campaign_portfolio.sum(axis=1).plot()"
   ]
  },
  {
   "cell_type": "markdown",
   "metadata": {},
   "source": [
    "# Campaign statistics"
   ]
  },
  {
   "cell_type": "code",
   "execution_count": null,
   "metadata": {
    "collapsed": false
   },
   "outputs": [],
   "source": [
    "print(campaign_stats)"
   ]
  },
  {
   "cell_type": "code",
   "execution_count": null,
   "metadata": {
    "collapsed": false
   },
   "outputs": [],
   "source": []
  }
 ],
 "metadata": {
  "kernelspec": {
   "display_name": "Python 3",
   "language": "python",
   "name": "python3"
  },
  "language_info": {
   "codemirror_mode": {
    "name": "ipython",
    "version": 3
   },
   "file_extension": ".py",
   "mimetype": "text/x-python",
   "name": "python",
   "nbconvert_exporter": "python",
   "pygments_lexer": "ipython3",
   "version": "3.5.2"
  }
 },
 "nbformat": 4,
 "nbformat_minor": 0
}
