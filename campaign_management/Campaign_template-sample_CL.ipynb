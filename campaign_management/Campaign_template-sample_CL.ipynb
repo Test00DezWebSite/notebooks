{
 "cells": [
  {
   "cell_type": "code",
   "execution_count": null,
   "metadata": {
    "collapsed": false
   },
   "outputs": [],
   "source": [
    "%pylab inline\n",
    "%load_ext autoreload\n",
    "%autoreload 2"
   ]
  },
  {
   "cell_type": "code",
   "execution_count": null,
   "metadata": {
    "collapsed": false
   },
   "outputs": [],
   "source": [
    "import sys,os\n",
    "from backtester.analysis import *\n",
    "from backtester.swarms.swarm import Swarm\n",
    "from backtester.exoinfo import EXOInfo\n",
    "from exobuilder.data.exostorage import EXOStorage\n",
    "\n",
    "\n",
    "import pandas as pd\n",
    "import numpy as np\n",
    "import scipy\n",
    "import pprint"
   ]
  },
  {
   "cell_type": "code",
   "execution_count": null,
   "metadata": {
    "collapsed": false
   },
   "outputs": [],
   "source": [
    "# Loading global setting for MongoDB etc.\n",
    "from scripts.settings import *\n",
    "\n",
    "try:\n",
    "    from scripts.settings_local import *\n",
    "except:\n",
    "    pass"
   ]
  },
  {
   "cell_type": "code",
   "execution_count": null,
   "metadata": {
    "collapsed": false
   },
   "outputs": [],
   "source": [
    "storage = EXOStorage(MONGO_CONNSTR, MONGO_EXO_DB)"
   ]
  },
  {
   "cell_type": "markdown",
   "metadata": {},
   "source": [
    "# Stage 1: Campaign composition"
   ]
  },
  {
   "cell_type": "markdown",
   "metadata": {},
   "source": [
    "### List of available products in Mongo"
   ]
  },
  {
   "cell_type": "code",
   "execution_count": null,
   "metadata": {
    "collapsed": false,
    "scrolled": false
   },
   "outputs": [],
   "source": [
    "swm_info = storage.swarms_info()\n",
    "pp = pprint.PrettyPrinter(indent=4)\n",
    "pp.pprint(swm_info)"
   ]
  },
  {
   "cell_type": "markdown",
   "metadata": {},
   "source": [
    "## Select product"
   ]
  },
  {
   "cell_type": "code",
   "execution_count": null,
   "metadata": {
    "collapsed": false
   },
   "outputs": [],
   "source": [
    "product_name = 'ES'"
   ]
  },
  {
   "cell_type": "markdown",
   "metadata": {},
   "source": [
    "## Getting swarm using filter"
   ]
  },
  {
   "cell_type": "code",
   "execution_count": null,
   "metadata": {
    "collapsed": false
   },
   "outputs": [],
   "source": [
    "instruments_filter = [product_name]  # Select ALL\n",
    "#instruments_filter = ['ES', 'CL']\n",
    "\n",
    "exo_filter = ['*'] # Select ALL\n",
    "#exo_filter = ['BullishCollar']\n",
    "\n",
    "direction_filter = [0, -1, 1] # Select ALL\n",
    "#direction_filter = [1]\n",
    "\n",
    "alpha_filter = ['-custom', 'SMART', '_EXO']  # Select ALL\n",
    "#alpha_filter = ['*']\n",
    "\n",
    "swmdf, swm_data = storage.swarms_list(instruments_filter, direction_filter, alpha_filter, exo_filter)"
   ]
  },
  {
   "cell_type": "markdown",
   "metadata": {},
   "source": [
    "## Swarms loaded"
   ]
  },
  {
   "cell_type": "code",
   "execution_count": null,
   "metadata": {
    "collapsed": false
   },
   "outputs": [],
   "source": [
    "[print(s) for s in sorted(swmdf.columns)];"
   ]
  },
  {
   "cell_type": "markdown",
   "metadata": {},
   "source": [
    "### Swarms equities"
   ]
  },
  {
   "cell_type": "markdown",
   "metadata": {},
   "source": [
    "#### All-on-one"
   ]
  },
  {
   "cell_type": "code",
   "execution_count": null,
   "metadata": {
    "collapsed": false
   },
   "outputs": [],
   "source": [
    "swmdf.plot(legend=False);"
   ]
  },
  {
   "cell_type": "markdown",
   "metadata": {},
   "source": [
    "#### Individual plots"
   ]
  },
  {
   "cell_type": "code",
   "execution_count": null,
   "metadata": {
    "collapsed": false
   },
   "outputs": [],
   "source": [
    "figsize(15, 8)\n",
    "for s in swm_data:    \n",
    "    series = s['swarm_series']\n",
    "    \n",
    "    if 'delta' in series:\n",
    "        # Two subplots, the axes array is 1-d\n",
    "        f, axarr = plt.subplots(2, gridspec_kw = {'height_ratios':[3, 1, 1]})\n",
    "        \n",
    "        series['equity'].plot(ax=axarr[0])\n",
    "        axarr[0].set_title('Alpha name: {0}'.format(s['swarm_name']))\n",
    "        series['delta'].plot(ax=axarr[1])\n",
    "        axarr[1].set_title('Delta')\n",
    "    else:\n",
    "        series['equity'].plot(title='Alpha name: {0}'.format(s['swarm_name']))\n",
    "        \n",
    "        \n",
    "    plt.show()"
   ]
  },
  {
   "cell_type": "markdown",
   "metadata": {},
   "source": [
    "## Individual swarm equity"
   ]
  },
  {
   "cell_type": "code",
   "execution_count": null,
   "metadata": {
    "collapsed": false
   },
   "outputs": [],
   "source": [
    "_swarm_name = \"CL_PutSpread_Short_SwingPoint_bearish-custom\"\n",
    "\n",
    "swmdf[_swarm_name].plot();\n",
    "title(_swarm_name);"
   ]
  },
  {
   "cell_type": "markdown",
   "metadata": {},
   "source": [
    "### Available products EXOs"
   ]
  },
  {
   "cell_type": "markdown",
   "metadata": {},
   "source": [
    "#### Alpha names help\n",
    "\n",
    "* 'CL_CallSpread_Long_EXO' - vanilla long EXO\n",
    "* 'CL_ContFut_Long_EXO' - continuous futures EXO\n",
    "* 'CL_SmartEXO_Ichi_Put_Spread_150Delta_Bi_Long_EXO' - smart EXO (as is, without alphas)"
   ]
  },
  {
   "cell_type": "code",
   "execution_count": null,
   "metadata": {
    "collapsed": false,
    "scrolled": false
   },
   "outputs": [],
   "source": [
    "print('==== Alphas EXO list')\n",
    "[print(\"'{0}': 1.0,\".format(s)) for s in sorted(swmdf.columns)];"
   ]
  },
  {
   "cell_type": "markdown",
   "metadata": {},
   "source": [
    "# Stage2: Campaign building"
   ]
  },
  {
   "cell_type": "markdown",
   "metadata": {},
   "source": [
    "Copy/paste EXO or swarm names to the 'campaign_exposure' dictionary from list above"
   ]
  },
  {
   "cell_type": "code",
   "execution_count": null,
   "metadata": {
    "collapsed": false
   },
   "outputs": [],
   "source": [
    "campaign_exposure = {'ES_BullishCollarBW_Short_EXO': 1.0,\n",
    "'ES_CallSpread_Long_EXO': 1.0,\n",
    "'ES_CallSpread_Long_SwingPoint_bullish-custom': 1.0,\n",
    "'ES_CallSpread_Short_EXO': 1.0,\n",
    "'ES_ContFut_Short_EXO': 1.0,\n",
    "'ES_PutSpread_Long_BollingerBands_bearish-custom': 1.0,\n",
    "'ES_PutSpread_Long_EXO': 1.0,\n",
    "}"
   ]
  },
  {
   "cell_type": "code",
   "execution_count": null,
   "metadata": {
    "collapsed": false
   },
   "outputs": [],
   "source": [
    "campaign_dict = {}\n",
    "campaign_stats = {'NetProfit': 0.0, 'TradesCount': 0, 'CommissionSum': 0.0}\n",
    "campaign_deltas_dict = {}\n",
    "\n",
    "for camp_name, exposure in campaign_exposure.items():\n",
    "    if camp_name in swmdf:\n",
    "        swarm_name = camp_name\n",
    "        campaign_dict[swarm_name] = swmdf[swarm_name] * exposure\n",
    "        \n",
    "        # TODO: implement swarm statistics\n",
    "        for s in swm_data:            \n",
    "            if s['swarm_name'] != swarm_name:\n",
    "                continue\n",
    "            series = s['swarm_series']\n",
    "            \n",
    "            _delta_arr = campaign_deltas_dict.setdefault(s['instrument'], pd.Series(0, index=series['delta'].index))                                    \n",
    "            campaign_deltas_dict[s['instrument']] = pd.concat([_delta_arr, series['delta']], axis=1).sum(axis=1)\n",
    "    \n",
    "campaign_portfolio = pd.DataFrame(campaign_dict).ffill()\n",
    "campaign_equity = campaign_portfolio.sum(axis=1)\n",
    "campaign_deltas = pd.DataFrame(campaign_deltas_dict)"
   ]
  },
  {
   "cell_type": "markdown",
   "metadata": {},
   "source": [
    "### Campaign members equities"
   ]
  },
  {
   "cell_type": "code",
   "execution_count": null,
   "metadata": {
    "collapsed": false
   },
   "outputs": [],
   "source": [
    "figsize(10,10)\n",
    "campaign_portfolio.plot();"
   ]
  },
  {
   "cell_type": "markdown",
   "metadata": {},
   "source": [
    "### Campaign deltas by product"
   ]
  },
  {
   "cell_type": "code",
   "execution_count": null,
   "metadata": {
    "collapsed": false
   },
   "outputs": [],
   "source": [
    "campaign_deltas.plot();"
   ]
  },
  {
   "cell_type": "markdown",
   "metadata": {},
   "source": [
    "### Cumulative campaign equity"
   ]
  },
  {
   "cell_type": "code",
   "execution_count": null,
   "metadata": {
    "collapsed": false
   },
   "outputs": [],
   "source": [
    "campaign_portfolio.sum(axis=1).plot()"
   ]
  },
  {
   "cell_type": "markdown",
   "metadata": {
    "collapsed": false
   },
   "source": [
    "# Stage 3: Campaign save"
   ]
  },
  {
   "cell_type": "code",
   "execution_count": null,
   "metadata": {
    "collapsed": false
   },
   "outputs": [],
   "source": [
    "from tradingcore.execution_manager import ExecutionManager\n",
    "from tradingcore.campaign import Campaign\n",
    "from exobuilder.data.datasource_mongo import DataSourceMongo\n",
    "from exobuilder.data.assetindex_mongo import AssetIndexMongo\n",
    "\n",
    "assetindex = AssetIndexMongo(MONGO_CONNSTR, MONGO_EXO_DB)\n",
    "datasource = DataSourceMongo(MONGO_CONNSTR, MONGO_EXO_DB, assetindex, futures_limit=10, options_limit=10, exostorage=storage)\n",
    "exmgr = ExecutionManager(MONGO_CONNSTR, datasource, dbname=MONGO_EXO_DB)"
   ]
  },
  {
   "cell_type": "markdown",
   "metadata": {},
   "source": [
    "### Set campaign values"
   ]
  },
  {
   "cell_type": "code",
   "execution_count": null,
   "metadata": {
    "collapsed": false
   },
   "outputs": [],
   "source": [
    "CAMPAIGN_NAME = 'CL_BEAR_TEST'\n",
    "CAMPAIGN_DESCRIPTION = 'Bearish Expression of Crude Oil'"
   ]
  },
  {
   "cell_type": "markdown",
   "metadata": {},
   "source": [
    "### Run to save campaign to DB"
   ]
  },
  {
   "cell_type": "markdown",
   "metadata": {},
   "source": [
    "#### Warning: old campaign data will be overwritten"
   ]
  },
  {
   "cell_type": "code",
   "execution_count": null,
   "metadata": {
    "collapsed": false
   },
   "outputs": [],
   "source": [
    "campaign_dict = {\n",
    "    'name': CAMPAIGN_NAME,\n",
    "    'description': CAMPAIGN_DESCRIPTION,\n",
    "    'alphas': {}\n",
    "}\n",
    "\n",
    "for k,v in campaign_exposure.items():\n",
    "    campaign_dict['alphas'][k] = {'qty': v,},\n",
    "\n",
    "cmp = Campaign(campaign_dict, datasource)\n",
    "exmgr.campaign_save(cmp)"
   ]
  },
  {
   "cell_type": "code",
   "execution_count": null,
   "metadata": {
    "collapsed": false
   },
   "outputs": [],
   "source": []
  }
 ],
 "metadata": {
  "anaconda-cloud": {},
  "kernelspec": {
   "display_name": "Python 3",
   "language": "python",
   "name": "python3"
  },
  "language_info": {
   "codemirror_mode": {
    "name": "ipython",
    "version": 3
   },
   "file_extension": ".py",
   "mimetype": "text/x-python",
   "name": "python",
   "nbconvert_exporter": "python",
   "pygments_lexer": "ipython3",
   "version": "3.5.2"
  }
 },
 "nbformat": 4,
 "nbformat_minor": 0
}
