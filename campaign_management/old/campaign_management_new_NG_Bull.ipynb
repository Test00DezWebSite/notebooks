{
 "cells": [
  {
   "cell_type": "code",
   "execution_count": null,
   "metadata": {
    "collapsed": false
   },
   "outputs": [],
   "source": [
    "%pylab inline\n",
    "%load_ext autoreload\n",
    "%autoreload 2"
   ]
  },
  {
   "cell_type": "code",
   "execution_count": null,
   "metadata": {
    "collapsed": false
   },
   "outputs": [],
   "source": [
    "from tradingcore.execution_manager import ExecutionManager\n",
    "from tradingcore.campaign import Campaign\n",
    "from tradingcore.account import Account\n",
    "from tradingcore.moneymanagement import PlainMM\n",
    "\n",
    "from exobuilder.data.datasource_mongo import DataSourceMongo\n",
    "from exobuilder.data.datasource_sql import DataSourceSQL\n",
    "from exobuilder.data.assetindex_mongo import AssetIndexMongo\n",
    "from exobuilder.data.exostorage import EXOStorage\n",
    "\n",
    "import pprint"
   ]
  },
  {
   "cell_type": "code",
   "execution_count": null,
   "metadata": {
    "collapsed": false
   },
   "outputs": [],
   "source": [
    "try:\n",
    "    from .settings import *\n",
    "except SystemError:\n",
    "    from scripts.settings import *\n",
    "\n",
    "try:\n",
    "    from .settings_local import *\n",
    "except SystemError:\n",
    "    try:\n",
    "        from scripts.settings_local import *\n",
    "    except ImportError:\n",
    "        pass\n",
    "    pass"
   ]
  },
  {
   "cell_type": "code",
   "execution_count": null,
   "metadata": {
    "collapsed": false
   },
   "outputs": [],
   "source": [
    "assetindex = AssetIndexMongo(MONGO_CONNSTR, MONGO_EXO_DB)\n",
    "storage = EXOStorage(MONGO_CONNSTR, MONGO_EXO_DB)\n",
    "#datasource = DataSourceSQL(SQL_HOST, SQL_USER, SQL_PASS, assetindex, futures_limit=10, options_limit=10)\n",
    "datasource = DataSourceMongo(MONGO_CONNSTR, MONGO_EXO_DB, assetindex, futures_limit=10, options_limit=10, exostorage=storage)\n"
   ]
  },
  {
   "cell_type": "code",
   "execution_count": null,
   "metadata": {
    "collapsed": false
   },
   "outputs": [],
   "source": [
    "exmgr = ExecutionManager(MONGO_CONNSTR, datasource, dbname=MONGO_EXO_DB)"
   ]
  },
  {
   "cell_type": "code",
   "execution_count": null,
   "metadata": {
    "collapsed": false
   },
   "outputs": [],
   "source": [
    "campaigns = exmgr.campaign_load_all()\n",
    "accounts = exmgr.account_load_all()\n",
    "pp = pprint.PrettyPrinter(indent=4)"
   ]
  },
  {
   "cell_type": "markdown",
   "metadata": {},
   "source": [
    "## List of available campaigns"
   ]
  },
  {
   "cell_type": "code",
   "execution_count": null,
   "metadata": {
    "collapsed": false
   },
   "outputs": [],
   "source": [
    "[print(x) for x in campaigns.keys()];"
   ]
  },
  {
   "cell_type": "code",
   "execution_count": null,
   "metadata": {
    "collapsed": false
   },
   "outputs": [],
   "source": [
    "swm_info = storage.swarms_info()\n",
    "pp.pprint(swm_info)"
   ]
  },
  {
   "cell_type": "markdown",
   "metadata": {},
   "source": [
    "# Alphas list"
   ]
  },
  {
   "cell_type": "code",
   "execution_count": null,
   "metadata": {
    "collapsed": false
   },
   "outputs": [],
   "source": [
    "instruments_filter = ['NG']  # Select ALL\n",
    "#instruments_filter = ['ES', 'CL']\n",
    "\n",
    "exo_filter = ['*'] # Select ALL\n",
    "#exo_filter = ['BullishCollar']\n",
    "\n",
    "direction_filter = [0, -1, 1] # Select ALL\n",
    "#direction_filter = [1]\n",
    "\n",
    "alpha_filter = ['']  # Select ALL\n",
    "#alpha_filter = ['MaCross', 'PointAndFigurePatterns']\n",
    "\n",
    "swmdf, swm_data = storage.swarms_list(instruments_filter, direction_filter, alpha_filter, exo_filter)\n",
    "\n",
    "[print(s) for s in sorted(swmdf.columns)];"
   ]
  },
  {
   "cell_type": "code",
   "execution_count": null,
   "metadata": {
    "collapsed": false
   },
   "outputs": [],
   "source": [
    "passive_exo = {}\n",
    "\n",
    "exo_filter = '*'     # All \n",
    "#exo_filter = 'ES_'  # ES only\n",
    "exo_filter = 'NG*'  # ES Collars (incl Bearish, Bullish, BW and vanilla)\n",
    "\n",
    "\n",
    "print('==== Passive EXO list')\n",
    "for exo_name in storage.exo_list(exo_filter):\n",
    "    passive_exo[exo_name], exo_dict = storage.load_series(exo_name)\n",
    "\n",
    "for exo in sorted(passive_exo.keys()):\n",
    "    print(exo)\n",
    "    \n",
    "print('==== Alphas EXO list')\n",
    "[print(s) for s in sorted(swmdf.columns)];"
   ]
  },
  {
   "cell_type": "code",
   "execution_count": null,
   "metadata": {
    "collapsed": false
   },
   "outputs": [],
   "source": [
    "swmdf.plot().legend(loc='best', bbox_to_anchor=(1, 0.5));"
   ]
  },
  {
   "cell_type": "markdown",
   "metadata": {},
   "source": [
    "# Campaign composition"
   ]
  },
  {
   "cell_type": "code",
   "execution_count": null,
   "metadata": {
    "collapsed": false
   },
   "outputs": [],
   "source": [
    " campaign_dict = {\n",
    "            'name': 'NG_Bull',\n",
    "            'description': 'Bullish Expression of Natural Gas',\n",
    "            'alphas': {\n",
    "                'NG_CallSpread_Long_BolllingerBands_alt2-bullish-custom': {\n",
    "                    'qty': 1.0,\n",
    "                },\n",
    "             'NG_CallSpread_Long_BolllingerBands_alt3-bullish-custom': {\n",
    "                    'qty': 1.0,\n",
    "                },\n",
    "             'NG_CallSpread_Long_BolllingerBands_bullish-custom': {\n",
    "                    'qty': 1.0,\n",
    "                },\n",
    "             'NG_CallSpread_Long_IchimokuCloud_bullish-custom': {\n",
    "                    'qty': 1.0,\n",
    "                },\n",
    "             'NG_CallSpread_Long_SwingPoint_bullish-custom': {\n",
    "                    'qty': 1.0,\n",
    "                },\n",
    "            'NG_CallSpread_Short_SwingPoint_bearish-custom': {\n",
    "                    'qty': 1.0,\n",
    "                },\n",
    "            'NG_PutSpread_Long_IchimokuCloud_alt3-bullish-custom': {\n",
    "                    'qty': 1.0,\n",
    "                },\n",
    "            'NG_PutSpread_Long_IchimokuCloud_bullish-custom': {\n",
    "                    'qty': 1.0,\n",
    "                },\n",
    "            'NG_PutSpread_Short_EXO': {\n",
    "                    'qty': 1.0,\n",
    "                },\n",
    "            \n",
    "            \n",
    "            }\n",
    "        }"
   ]
  },
  {
   "cell_type": "code",
   "execution_count": null,
   "metadata": {
    "collapsed": false
   },
   "outputs": [],
   "source": [
    "cmp = Campaign(campaign_dict, datasource)"
   ]
  },
  {
   "cell_type": "markdown",
   "metadata": {},
   "source": [
    "### Save campaign"
   ]
  },
  {
   "cell_type": "code",
   "execution_count": null,
   "metadata": {
    "collapsed": false
   },
   "outputs": [],
   "source": [
    "exmgr.campaign_save(cmp)"
   ]
  },
  {
   "cell_type": "markdown",
   "metadata": {},
   "source": [
    "## Campaign positions"
   ]
  },
  {
   "cell_type": "markdown",
   "metadata": {},
   "source": [
    "### Alphas positions"
   ]
  },
  {
   "cell_type": "code",
   "execution_count": null,
   "metadata": {
    "collapsed": false
   },
   "outputs": [],
   "source": [
    "pp.pprint(cmp.alphas_positions)"
   ]
  },
  {
   "cell_type": "markdown",
   "metadata": {},
   "source": [
    "### EXO net positions"
   ]
  },
  {
   "cell_type": "code",
   "execution_count": null,
   "metadata": {
    "collapsed": false
   },
   "outputs": [],
   "source": [
    "pp.pprint(cmp.exo_positions)"
   ]
  },
  {
   "cell_type": "markdown",
   "metadata": {},
   "source": [
    "### Contracts positions"
   ]
  },
  {
   "cell_type": "code",
   "execution_count": null,
   "metadata": {
    "collapsed": false
   },
   "outputs": [],
   "source": [
    "pp.pprint(cmp.positions)"
   ]
  },
  {
   "cell_type": "code",
   "execution_count": null,
   "metadata": {
    "collapsed": false
   },
   "outputs": [],
   "source": []
  },
  {
   "cell_type": "code",
   "execution_count": null,
   "metadata": {
    "collapsed": false
   },
   "outputs": [],
   "source": []
  },
  {
   "cell_type": "code",
   "execution_count": null,
   "metadata": {
    "collapsed": false
   },
   "outputs": [],
   "source": []
  }
 ],
 "metadata": {
  "kernelspec": {
   "display_name": "Python 3",
   "language": "python",
   "name": "python3"
  },
  "language_info": {
   "codemirror_mode": {
    "name": "ipython",
    "version": 3
   },
   "file_extension": ".py",
   "mimetype": "text/x-python",
   "name": "python",
   "nbconvert_exporter": "python",
   "pygments_lexer": "ipython3",
   "version": "3.5.2"
  }
 },
 "nbformat": 4,
 "nbformat_minor": 0
}
