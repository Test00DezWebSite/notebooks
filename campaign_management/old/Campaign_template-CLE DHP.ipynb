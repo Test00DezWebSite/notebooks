{
 "cells": [
  {
   "cell_type": "code",
   "execution_count": null,
   "metadata": {
    "collapsed": false
   },
   "outputs": [],
   "source": [
    "%pylab inline\n",
    "%load_ext autoreload\n",
    "%autoreload 2"
   ]
  },
  {
   "cell_type": "code",
   "execution_count": null,
   "metadata": {
    "collapsed": false
   },
   "outputs": [],
   "source": [
    "import sys,os\n",
    "sys.path.append('..')\n",
    "sys.path.append('../..')\n",
    "from backtester import matlab, backtester\n",
    "from backtester.analysis import *\n",
    "from backtester.swarms.swarm import Swarm\n",
    "from backtester.exoinfo import EXOInfo\n",
    "\n",
    "import pandas as pd\n",
    "import numpy as np\n",
    "import scipy"
   ]
  },
  {
   "cell_type": "code",
   "execution_count": null,
   "metadata": {
    "collapsed": false
   },
   "outputs": [],
   "source": [
    "TMQRPATH = os.getenv(\"TMQRPATH\", '')\n",
    "\n",
    "swarms = {}\n",
    "for file in os.listdir(os.path.join(TMQRPATH, 'swarms')):\n",
    "    swarm_name = file.replace('.swm','')\n",
    "    print('Loading: '+ swarm_name)\n",
    "    swarms[swarm_name] = Swarm.load(os.path.join(TMQRPATH, 'swarms', file))"
   ]
  },
  {
   "cell_type": "markdown",
   "metadata": {},
   "source": [
    "### Available swarms"
   ]
  },
  {
   "cell_type": "code",
   "execution_count": null,
   "metadata": {
    "collapsed": false
   },
   "outputs": [],
   "source": [
    "print(\"Swarms list:\")\n",
    "for swarm_name in sorted(swarms.keys()):\n",
    "    print(swarm_name)"
   ]
  },
  {
   "cell_type": "markdown",
   "metadata": {},
   "source": [
    "### Available EXOs"
   ]
  },
  {
   "cell_type": "code",
   "execution_count": null,
   "metadata": {
    "collapsed": false
   },
   "outputs": [],
   "source": [
    "passive_exo = {}\n",
    "\n",
    "\n",
    "print('Passive EXO list')\n",
    "for matfile in os.listdir(os.path.join(TMQRPATH, 'mat')):    \n",
    "    if 'strategy_' in matfile and '.mat' in matfile:\n",
    "        exo = EXOInfo.from_matfile(os.path.join(TMQRPATH, 'mat', matfile))\n",
    "        passive_exo[exo.exo_name()] = exo.exo_price_index()    \n",
    "\n",
    "for exo in sorted(passive_exo.keys()):\n",
    "    print(exo)"
   ]
  },
  {
   "cell_type": "markdown",
   "metadata": {},
   "source": [
    "# Campaign composition"
   ]
  },
  {
   "cell_type": "markdown",
   "metadata": {},
   "source": [
    "Copy/paste EXO or swarm names to the 'campaign_exposure' dictionary from lists above"
   ]
  },
  {
   "cell_type": "code",
   "execution_count": null,
   "metadata": {
    "collapsed": false
   },
   "outputs": [],
   "source": [
    "campaign_exposure = {\n",
    "     'CL_PutSpread_Short_IchimokuCloud': 1,     ## .5,90\n",
    "     'CL_PutSpread_Short_SwingPoint': 1,        ## .5,90\n",
    "     'CL_PutSpread_Short_BollingerBands': 1,    ## .5,90\n",
    "     \n",
    "     'CL_PutSpread_Long_SwingPoint': 1,         ## .5,90 \n",
    "     'CL_PutSpread_Long_RenkoPatterns_no_exit_on_patterns': 1,         ## .5,90 \n",
    "     'CL_PutSpread_Long_PointAndFigurePatterns': 1,         ## .5,90 \n",
    "    \n",
    "    \n",
    "     #\n",
    "     # Passive EXO positions\n",
    "     #\n",
    "     #'EP_BullishCollar_EXO': -1, # Short 1 EXO units\n",
    "     \n",
    "}"
   ]
  },
  {
   "cell_type": "code",
   "execution_count": null,
   "metadata": {
    "collapsed": false
   },
   "outputs": [],
   "source": [
    "#def campaign_equity(swarms, exposure):\n",
    "\n",
    "campaign_dict = {}\n",
    "campaign_stats = {'NetProfit': 0.0, 'TradesCount': 0, 'CommissionSum': 0.0}\n",
    "\n",
    "for camp_name, exposure in campaign_exposure.items():\n",
    "    if camp_name in swarms:\n",
    "        swarm_name = camp_name\n",
    "        smgr = swarms[swarm_name]\n",
    "        campaign_dict[swarm_name] = smgr.picked_equity\n",
    "        \n",
    "        # TODO: implement swarm statistics\n",
    "        '''\n",
    "        s = smgr.picked_stats        \n",
    "        campaign_stats['NetProfit'] += s['NetProfit']\n",
    "        campaign_stats['TradesCount'] += s['TradesCount']\n",
    "        campaign_stats['CommissionSum'] += s['CommissionSum']\n",
    "        '''\n",
    "        \n",
    "    elif camp_name in passive_exo:\n",
    "        exo_equity = passive_exo[camp_name]\n",
    "        campaign_dict[camp_name] = exo_equity.diff() * exposure\n",
    "    \n",
    "    \n",
    "campaign_portfolio = pd.DataFrame(campaign_dict)\n",
    "campaign_equity = campaign_portfolio.sum(axis=1)"
   ]
  },
  {
   "cell_type": "markdown",
   "metadata": {},
   "source": [
    "### Campaign members equities"
   ]
  },
  {
   "cell_type": "code",
   "execution_count": null,
   "metadata": {
    "collapsed": false
   },
   "outputs": [],
   "source": [
    "figsize(10,10)\n",
    "campaign_portfolio.plot()"
   ]
  },
  {
   "cell_type": "markdown",
   "metadata": {},
   "source": [
    "### Cumulative campaign equity"
   ]
  },
  {
   "cell_type": "code",
   "execution_count": null,
   "metadata": {
    "collapsed": false
   },
   "outputs": [],
   "source": [
    "campaign_portfolio.sum(axis=1).plot()"
   ]
  },
  {
   "cell_type": "markdown",
   "metadata": {},
   "source": [
    "# Campaign statistics"
   ]
  },
  {
   "cell_type": "code",
   "execution_count": null,
   "metadata": {
    "collapsed": false
   },
   "outputs": [],
   "source": [
    "print(campaign_stats)"
   ]
  },
  {
   "cell_type": "code",
   "execution_count": null,
   "metadata": {
    "collapsed": false
   },
   "outputs": [],
   "source": []
  }
 ],
 "metadata": {
  "kernelspec": {
   "display_name": "Python 3",
   "language": "python",
   "name": "python3"
  },
  "language_info": {
   "codemirror_mode": {
    "name": "ipython",
    "version": 3
   },
   "file_extension": ".py",
   "mimetype": "text/x-python",
   "name": "python",
   "nbconvert_exporter": "python",
   "pygments_lexer": "ipython3",
   "version": "3.5.2"
  }
 },
 "nbformat": 4,
 "nbformat_minor": 0
}
