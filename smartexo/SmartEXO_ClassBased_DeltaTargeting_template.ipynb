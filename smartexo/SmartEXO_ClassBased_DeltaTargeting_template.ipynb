{
 "cells": [
  {
   "cell_type": "code",
   "execution_count": null,
   "metadata": {
    "collapsed": false
   },
   "outputs": [],
   "source": [
    "%pylab inline\n",
    "%load_ext autoreload\n",
    "%autoreload 2"
   ]
  },
  {
   "cell_type": "code",
   "execution_count": null,
   "metadata": {
    "collapsed": false
   },
   "outputs": [],
   "source": [
    "from exobuilder.contracts.futureschain import FuturesChain\n",
    "from exobuilder.contracts.futurecontract import FutureContract\n",
    "from exobuilder.tests.assetindexdict import AssetIndexDicts\n",
    "from datetime import datetime, date, timedelta, time as dttime\n",
    "from exobuilder.contracts.instrument import Instrument\n",
    "from exobuilder.data.datasource_mongo import DataSourceMongo\n",
    "from exobuilder.data.datasource_sql import DataSourceSQL\n",
    "from exobuilder.data.assetindex_mongo import AssetIndexMongo\n",
    "from exobuilder.data.exostorage import EXOStorage\n",
    "from exobuilder.exo.exoenginebase import ExoEngineBase\n",
    "from exobuilder.exo.transaction import Transaction\n",
    "import time\n",
    "from exobuilder.algorithms.rollover_helper import RolloverHelper\n",
    "from exobuilder.smartexo.utils import SmartEXOUtils\n",
    "\n",
    "import importlib\n",
    "import logging\n",
    "importlib.reload(logging);\n",
    "import matplotlib.pyplot as plt"
   ]
  },
  {
   "cell_type": "code",
   "execution_count": null,
   "metadata": {
    "collapsed": false
   },
   "outputs": [],
   "source": [
    "SMARTUTILS_CONFIG = {\n",
    "    'futures_limit': 3,           # How many futures expirations to load \n",
    "    'options_limit': 20,          # Increase this value if you are getting too many warnings about absent strikes\n",
    "    'verbosive_logging': False    # Enable extra debug information\n",
    "}\n",
    "\n",
    "EXO_CONFIG = {\n",
    "    # Pick existing directory for log file\n",
    "    'log_file_path': ''          # Disable logging\n",
    "    #'log_file_path': '~/'       # Linux home dir\n",
    "    #'log_file_path': 'C:\\'      # Windows C:\\\n",
    "}\n",
    "\n",
    "# TODO: select start date for SmartEXO calculation\n",
    "base_date = datetime(2015, 1, 1, 12, 45, 0)"
   ]
  },
  {
   "cell_type": "markdown",
   "metadata": {},
   "source": [
    "# Define SmartEXO class"
   ]
  },
  {
   "cell_type": "markdown",
   "metadata": {},
   "source": [
    "#### TODO:\n",
    "1. Change EXO_NAME property inside class to reflect EXO features\n",
    "2. Change ASSET_LIST to select pool of products\n",
    "3. Change regime picking algorithm parameters in '__def init__' to customize SmartEXO regime switching\n",
    "4. Change new_position_bullish_zone() / new_position_bearish_zone() / new_position_neutral_zone / manage_opened_position to customize position management\n",
    "\n",
    "**Warning**: please do not change SmartEXOGeneric inside the notebook it could be done after deployment"
   ]
  },
  {
   "cell_type": "code",
   "execution_count": null,
   "metadata": {
    "collapsed": false
   },
   "outputs": [],
   "source": [
    "from exobuilder.smartexo.smartexo_ichi import SmartEXOIchi\n",
    "\n",
    "class SmartEXOGeneric(SmartEXOIchi):\n",
    "    \n",
    "    # Change the EXO name to reflect SmartEXO behavior\n",
    "    EXO_NAME = 'SmartEXO_Bullish_Ichi__class_based_test'\n",
    "    \n",
    "    # select instruments list for SMART EXO calculation\n",
    "    # ASSET_LIST  = ['CL', 'ES', 'NG', 'ZC', 'ZS', 'ZW', 'ZN']    \n",
    "    ASSET_LIST = ['ES']\n",
    "    \n",
    "    def __init__(self, symbol, direction, date, datasource, **kwargs):        \n",
    "        super().__init__(symbol, direction, date, datasource,\n",
    "                         #\n",
    "                         # Change following values if you need to customize Ichimoku settings\n",
    "                         #\n",
    "                         conversion_line_period = 9,\n",
    "                         base_line_period=26,\n",
    "                         leading_spans_lookahead_period=52,\n",
    "                         leading_span_b_period=52\n",
    "                        )\n",
    "    \n",
    "    @staticmethod  \n",
    "    def new_position_bullish_zone(date, fut, opt_chain):\n",
    "        \"\"\"\n",
    "        opt_chain.get_by_delta(delta_value) help:\n",
    "\n",
    "        Search option contract by delta value:\n",
    "        If delta ==  0.5 - returns ATM call\n",
    "        If delta == -0.5 - returns ATM put\n",
    "\n",
    "        If delta > 0.5 - returns ITM call near target delta\n",
    "        If delta < -0.5 - returns ITM put near target delta\n",
    "\n",
    "        If delta > 0 and < 0.5 - returns OTM call\n",
    "        If delta < 0 and > -0.5 - returns OTM put\n",
    "\n",
    "        If delta <= -1 or >= 1 or 0 - raises error\n",
    "\n",
    "        Examples:\n",
    "        # ATM put (delta = -0.5)\n",
    "        Transaction(opt_chain.get_by_delta(-0.5), date, 1.0),\n",
    "        # OTM put (delta = -0.25)\n",
    "        Transaction(opt_chain.get_by_delta(-0.25), date, 1.0),\n",
    "        # ITM put (delta = -0.75)\n",
    "        Transaction(opt_chain.get_by_delta(-0.75), date, 1.0),\n",
    "\n",
    "        # ATM call (delta = 0.5)\n",
    "        Transaction(opt_chain.get_by_delta(0.5), date, 1.0),\n",
    "        # OTM call (delta = 0.25)\n",
    "        Transaction(opt_chain.get_by_delta(0.25), date, 1.0),\n",
    "        # ITM call (delta = 0.75)\n",
    "        Transaction(opt_chain.get_by_delta(0.75), date, 1.0),\n",
    "        \"\"\"\n",
    "        \n",
    "        # Edit transactions to trade\n",
    "        trans_list = [\n",
    "                #Transaction(asset, date, qty, price=[MktPrice], leg_name=['' or unique name])\n",
    "                #\n",
    "                #\n",
    "                Transaction(opt_chain.get_by_delta(0.15), date, 1.0),\n",
    "                Transaction(opt_chain.get_by_delta(-0.25), date, -1.0),\n",
    "                Transaction(opt_chain.get_by_delta(0.25), date, 0.0),\n",
    "                Transaction(opt_chain.get_by_delta(0.6), date, -0.0),\n",
    "                Transaction(opt_chain.get_by_delta(0.20), date, 0.0),\n",
    "                Transaction(opt_chain.get_by_delta(0.05), date, 0.0),\n",
    "                ]\n",
    "        return trans_list\n",
    "    \n",
    "    @staticmethod\n",
    "    def new_position_bearish_zone(date, fut, opt_chain):\n",
    "        trans_list = [\n",
    "                #Transaction(asset, date, qty, price=[MktPrice], leg_name=['' or unique name])\n",
    "                #\n",
    "                #\n",
    "                Transaction(opt_chain.get_by_delta(0.15), date, 1.0),\n",
    "                Transaction(opt_chain.get_by_delta(-0.25), date, -1.0),\n",
    "                Transaction(opt_chain.get_by_delta(0.25), date, 0.0),\n",
    "                Transaction(opt_chain.get_by_delta(0.6), date, -0.0),\n",
    "                Transaction(opt_chain.get_by_delta(0.20), date, 0.0),\n",
    "                Transaction(opt_chain.get_by_delta(0.05), date, 0.0),\n",
    "                \n",
    "                ]\n",
    "\n",
    "        return trans_list\n",
    "    \n",
    "    @staticmethod\n",
    "    def new_position_neutral_zone(date, fut, opt_chain):\n",
    "        # Edit transactions to trade\n",
    "        trans_list = [\n",
    "                    #Transaction(asset, date, qty, price=[MktPrice], leg_name=['' or unique name])\n",
    "                    #\n",
    "                    #\n",
    "                    Transaction(opt_chain.get_by_delta(0.15), date, 1.0),\n",
    "                    Transaction(opt_chain.get_by_delta(-0.25), date, -1.0),\n",
    "                    Transaction(opt_chain.get_by_delta(-0.6), date, 0.0),\n",
    "                    Transaction(opt_chain.get_by_delta(0.6), date, 0.0),\n",
    "                    Transaction(opt_chain.get_by_delta(0.20), date, 0.0),\n",
    "                    Transaction(opt_chain.get_by_delta(0.05), date, 0.0),           \n",
    "                    ]\n",
    "        return trans_list\n",
    "    \n",
    "\n",
    "    def manage_opened_position(self, date, fut, opt_chain, regime, opened_position):\n",
    "        logging.debug('Current position delta: {0}'.format(opened_position.delta))   \n",
    "    \n",
    "        delta = opened_position.delta\n",
    "\n",
    "        trans_list = []\n",
    "\n",
    "        if regime == 1:\n",
    "            # Delta bounds checks for BULLISH regime        \n",
    "            # Check required delta bounds values for position \n",
    "            if delta < 0.25 or delta > 0.75:\n",
    "                # Do not change next\n",
    "                logging.debug('Rebalancing bullish position')   \n",
    "                trans_list += opened_position.close_all_translist()\n",
    "                trans_list += self.new_position_bullish_zone(date, fut, opt_chain)\n",
    "                return trans_list\n",
    "        if regime == -1:\n",
    "            # Delta bounds checks for BEARISH regime        \n",
    "            # Check required delta bounds values for position \n",
    "            if delta < -0.75 or delta > -0.25:\n",
    "                # Do not change next\n",
    "                logging.debug('Rebalancing bearish position')   \n",
    "                trans_list += opened_position.close_all_translist()\n",
    "                trans_list += self.new_position_bearish_zone(date, fut, opt_chain)\n",
    "                return trans_list\n",
    "        if regime == 0:          \n",
    "            # Delta bounds checks for NEUTRAL regime        \n",
    "            # Check required delta bounds values for position \n",
    "            if delta < -0.25 or delta > 0.25:\n",
    "                # Do not change next\n",
    "                logging.debug('Rebalancing neutral position')   \n",
    "                trans_list += opened_position.close_all_translist()\n",
    "                trans_list += self.new_position_neutral_zone(date, fut, opt_chain)\n",
    "                return trans_list         \n"
   ]
  },
  {
   "cell_type": "code",
   "execution_count": null,
   "metadata": {
    "collapsed": false
   },
   "outputs": [],
   "source": [
    "smart_utils = SmartEXOUtils(SmartEXOGeneric, **SMARTUTILS_CONFIG)"
   ]
  },
  {
   "cell_type": "markdown",
   "metadata": {},
   "source": [
    "# WhatIF analysis"
   ]
  },
  {
   "cell_type": "code",
   "execution_count": null,
   "metadata": {
    "collapsed": false
   },
   "outputs": [],
   "source": [
    "analysis_date = datetime(2015, 1, 2, 23, 59)\n",
    "analysis_instrument = \"CL\"\n",
    "\n",
    "WHATIF_CONFIG = {\n",
    "    'strikes_on_graph': 80,\n",
    "\n",
    "    # What if scenarios\n",
    "    'whatif_iv_change': 0.0,               # Change in IV level ( -0.01 - means IV drop in 1% )\n",
    "    'whatif_days_to_expiration': None,     # Custom days to expiration, if None - use current (i.e. ignored)\n",
    "}\n",
    "\n",
    "figsize(10, 5)"
   ]
  },
  {
   "cell_type": "markdown",
   "metadata": {},
   "source": [
    "### Bullish zone position"
   ]
  },
  {
   "cell_type": "code",
   "execution_count": null,
   "metadata": {
    "collapsed": false
   },
   "outputs": [],
   "source": [
    "smart_utils.plot_transactions_payoff(SmartEXOGeneric.new_position_bullish_zone, analysis_date, analysis_instrument, **WHATIF_CONFIG )"
   ]
  },
  {
   "cell_type": "markdown",
   "metadata": {},
   "source": [
    "### Bearish zone position"
   ]
  },
  {
   "cell_type": "code",
   "execution_count": null,
   "metadata": {
    "collapsed": false
   },
   "outputs": [],
   "source": [
    "smart_utils.plot_transactions_payoff(SmartEXOGeneric.new_position_bearish_zone, analysis_date, analysis_instrument, **WHATIF_CONFIG )"
   ]
  },
  {
   "cell_type": "markdown",
   "metadata": {},
   "source": [
    "### Neutral zone position"
   ]
  },
  {
   "cell_type": "code",
   "execution_count": null,
   "metadata": {
    "collapsed": false
   },
   "outputs": [],
   "source": [
    "smart_utils.plot_transactions_payoff(SmartEXOGeneric.new_position_neutral_zone, analysis_date, analysis_instrument, **WHATIF_CONFIG )"
   ]
  },
  {
   "cell_type": "markdown",
   "metadata": {},
   "source": [
    "# SmartEXO building"
   ]
  },
  {
   "cell_type": "code",
   "execution_count": null,
   "metadata": {
    "collapsed": false,
    "scrolled": false
   },
   "outputs": [],
   "source": [
    "smart_utils.build_smartexo(base_date, **EXO_CONFIG)"
   ]
  },
  {
   "cell_type": "code",
   "execution_count": null,
   "metadata": {
    "collapsed": false
   },
   "outputs": [],
   "source": [
    "smart_utils.plot_smartexo_price()"
   ]
  },
  {
   "cell_type": "markdown",
   "metadata": {},
   "source": [
    "# Deployment"
   ]
  },
  {
   "cell_type": "markdown",
   "metadata": {},
   "source": [
    "Uncomment next line to clear temporary SmartEXO data from DB, and start EXO backfilling process from beginning."
   ]
  },
  {
   "cell_type": "code",
   "execution_count": null,
   "metadata": {
    "collapsed": false
   },
   "outputs": [],
   "source": [
    "#smart_utils.clear_smartexo()"
   ]
  },
  {
   "cell_type": "code",
   "execution_count": null,
   "metadata": {
    "collapsed": false
   },
   "outputs": [],
   "source": []
  }
 ],
 "metadata": {
  "kernelspec": {
   "display_name": "Python 3",
   "language": "python",
   "name": "python3"
  },
  "language_info": {
   "codemirror_mode": {
    "name": "ipython",
    "version": 3
   },
   "file_extension": ".py",
   "mimetype": "text/x-python",
   "name": "python",
   "nbconvert_exporter": "python",
   "pygments_lexer": "ipython3",
   "version": "3.5.2"
  }
 },
 "nbformat": 4,
 "nbformat_minor": 0
}
