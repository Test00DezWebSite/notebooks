{
 "cells": [
  {
   "cell_type": "code",
   "execution_count": null,
   "metadata": {
    "collapsed": false
   },
   "outputs": [],
   "source": [
    "%pylab inline\n",
    "%load_ext autoreload\n",
    "%autoreload 2"
   ]
  },
  {
   "cell_type": "code",
   "execution_count": null,
   "metadata": {
    "collapsed": false
   },
   "outputs": [],
   "source": [
    "from tradingcore.execution_manager import ExecutionManager\n",
    "from tradingcore.campaign import Campaign\n",
    "from tradingcore.account import Account\n",
    "from tradingcore.moneymanagement import PlainMM\n",
    "\n",
    "from exobuilder.data.datasource_mongo import DataSourceMongo\n",
    "from exobuilder.data.datasource_sql import DataSourceSQL\n",
    "from exobuilder.data.assetindex_mongo import AssetIndexMongo\n",
    "from exobuilder.data.exostorage import EXOStorage\n",
    "\n",
    "import pprint"
   ]
  },
  {
   "cell_type": "code",
   "execution_count": null,
   "metadata": {
    "collapsed": false
   },
   "outputs": [],
   "source": [
    "try:\n",
    "    from .settings import *\n",
    "except SystemError:\n",
    "    from scripts.settings import *\n",
    "\n",
    "try:\n",
    "    from .settings_local import *\n",
    "except SystemError:\n",
    "    try:\n",
    "        from scripts.settings_local import *\n",
    "    except ImportError:\n",
    "        pass\n",
    "    pass"
   ]
  },
  {
   "cell_type": "code",
   "execution_count": null,
   "metadata": {
    "collapsed": false
   },
   "outputs": [],
   "source": [
    "assetindex = AssetIndexMongo(MONGO_CONNSTR, MONGO_EXO_DB)\n",
    "storage = EXOStorage(MONGO_CONNSTR, MONGO_EXO_DB)\n",
    "#datasource = DataSourceSQL(SQL_HOST, SQL_USER, SQL_PASS, assetindex, futures_limit=10, options_limit=10)\n",
    "datasource = DataSourceMongo(MONGO_CONNSTR, MONGO_EXO_DB, assetindex, futures_limit=10, options_limit=10, exostorage=storage)\n"
   ]
  },
  {
   "cell_type": "code",
   "execution_count": null,
   "metadata": {
    "collapsed": false
   },
   "outputs": [],
   "source": [
    "exmgr = ExecutionManager(MONGO_CONNSTR, datasource, dbname=MONGO_EXO_DB)"
   ]
  },
  {
   "cell_type": "code",
   "execution_count": null,
   "metadata": {
    "collapsed": false
   },
   "outputs": [],
   "source": [
    "campaigns = exmgr.campaign_load_all()\n",
    "accounts = exmgr.account_load_all()\n",
    "pp = pprint.PrettyPrinter(indent=2)"
   ]
  },
  {
   "cell_type": "markdown",
   "metadata": {},
   "source": [
    "## List of available accounts"
   ]
  },
  {
   "cell_type": "code",
   "execution_count": null,
   "metadata": {
    "collapsed": false
   },
   "outputs": [],
   "source": [
    "[pp.pprint(x.as_dict()) for x in accounts.values()];"
   ]
  },
  {
   "cell_type": "markdown",
   "metadata": {},
   "source": [
    "## View accounts positions (just for demonstration)"
   ]
  },
  {
   "cell_type": "code",
   "execution_count": null,
   "metadata": {
    "collapsed": false
   },
   "outputs": [],
   "source": [
    "\n",
    "positions = exmgr.account_positions_process(write_to_db=False)\n",
    "\n",
    "for acc_name, value in positions.items():\n",
    "    \n",
    "    print('Account: {0} / {1}'.format(acc_name, value['client_name']))\n",
    "    print('Last update date: {0}'.format(value['date_now']))\n",
    "    print('Account\\'s campaign: {0}'.format(value['campaign_name']))\n",
    "    print('Position:\\n')\n",
    "    \n",
    "    print('\\t{0:<20}\\t{1:>5}'.format('Asset', 'Qty'))\n",
    "    for p in sorted(value['positions'], key=lambda k: k['asset']['name']):\n",
    "\n",
    "        print('\\t{0:<20}\\t{1:>5}'.format(p['asset']['name'], p['qty']))\n",
    "    \n",
    "    \n",
    "    print('======================\\n\\n')"
   ]
  },
  {
   "cell_type": "markdown",
   "metadata": {
    "collapsed": false
   },
   "source": [
    "## Refresh and rewrite account positions into DB"
   ]
  },
  {
   "cell_type": "markdown",
   "metadata": {},
   "source": [
    "Uncomment next line"
   ]
  },
  {
   "cell_type": "code",
   "execution_count": null,
   "metadata": {
    "collapsed": false
   },
   "outputs": [],
   "source": [
    "#positions = exmgr.account_positions_process(write_to_db=True)"
   ]
  },
  {
   "cell_type": "code",
   "execution_count": null,
   "metadata": {
    "collapsed": false
   },
   "outputs": [],
   "source": []
  }
 ],
 "metadata": {
  "kernelspec": {
   "display_name": "Python 3",
   "language": "python",
   "name": "python3"
  },
  "language_info": {
   "codemirror_mode": {
    "name": "ipython",
    "version": 3
   },
   "file_extension": ".py",
   "mimetype": "text/x-python",
   "name": "python",
   "nbconvert_exporter": "python",
   "pygments_lexer": "ipython3",
   "version": "3.5.2"
  }
 },
 "nbformat": 4,
 "nbformat_minor": 0
}
