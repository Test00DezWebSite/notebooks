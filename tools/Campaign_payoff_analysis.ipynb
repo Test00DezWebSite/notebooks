{
 "cells": [
  {
   "cell_type": "code",
   "execution_count": null,
   "metadata": {
    "collapsed": false
   },
   "outputs": [],
   "source": [
    "%pylab inline\n",
    "%load_ext autoreload\n",
    "%autoreload 2"
   ]
  },
  {
   "cell_type": "code",
   "execution_count": null,
   "metadata": {
    "collapsed": false
   },
   "outputs": [],
   "source": [
    "from exobuilder.contracts.futureschain import FuturesChain\n",
    "from exobuilder.contracts.futurecontract import FutureContract\n",
    "from exobuilder.tests.assetindexdict import AssetIndexDicts\n",
    "from datetime import datetime, date, timedelta, time as dttime\n",
    "from exobuilder.contracts.instrument import Instrument\n",
    "from exobuilder.data.datasource_mongo import DataSourceMongo\n",
    "from exobuilder.data.datasource_sql import DataSourceSQL\n",
    "from exobuilder.data.assetindex_mongo import AssetIndexMongo\n",
    "from exobuilder.data.exostorage import EXOStorage\n",
    "from exobuilder.exo.exoenginebase import ExoEngineBase\n",
    "from exobuilder.exo.transaction import Transaction\n",
    "import time\n",
    "from exobuilder.algorithms.rollover_helper import RolloverHelper\n",
    "\n",
    "import importlib\n",
    "\n",
    "from datetime import datetime\n",
    "from scripts.settings import *\n"
   ]
  },
  {
   "cell_type": "code",
   "execution_count": null,
   "metadata": {
    "collapsed": false
   },
   "outputs": [],
   "source": [
    "from backtester.reports.payoffs import PayoffAnalyzer"
   ]
  },
  {
   "cell_type": "code",
   "execution_count": null,
   "metadata": {
    "collapsed": false
   },
   "outputs": [],
   "source": [
    "assetindex = AssetIndexMongo(MONGO_CONNSTR, MONGO_EXO_DB)\n",
    "storage = EXOStorage(MONGO_CONNSTR, MONGO_EXO_DB)\n",
    "\n",
    "\n",
    "futures_limit = 3\n",
    "options_limit = 10\n",
    "\n",
    "datasource = DataSourceSQL(SQL_HOST, SQL_USER, SQL_PASS, assetindex, futures_limit, options_limit, storage)\n",
    "\n",
    "\n"
   ]
  },
  {
   "cell_type": "code",
   "execution_count": null,
   "metadata": {
    "collapsed": false
   },
   "outputs": [],
   "source": [
    "exo_filter = '*'     # All \n",
    "#exo_filter = 'ES_'  # ES only\n",
    "exo_filter = '*'  # ES Collars (incl Bearish, Bullish, BW and vanilla)\n",
    "\n",
    "[print(cmp['name']) for cmp in storage.campaign_load(None)];"
   ]
  },
  {
   "cell_type": "markdown",
   "metadata": {},
   "source": [
    "### Load EXO data on particular date"
   ]
  },
  {
   "cell_type": "code",
   "execution_count": null,
   "metadata": {
    "collapsed": false
   },
   "outputs": [],
   "source": [
    "CAMPAIGN_NAME = 'NG_Bidirectional'\n",
    "strikes_on_graph = 50\n",
    "\n",
    "payoff = PayoffAnalyzer(datasource)\n",
    "analysis_date = None              \n",
    "\n",
    "# Edit (or comment) next line to change analysis date\n",
    "analysis_date = datetime(2015, 1, 2, 23, 59)\n",
    "\n",
    "\n",
    "payoff.load_campaign(CAMPAIGN_NAME, date=analysis_date)"
   ]
  },
  {
   "cell_type": "markdown",
   "metadata": {},
   "source": [
    "### Draw payoff diagrams"
   ]
  },
  {
   "cell_type": "code",
   "execution_count": null,
   "metadata": {
    "collapsed": false,
    "scrolled": false
   },
   "outputs": [],
   "source": [
    "figsize(15, 8)\n",
    "\n",
    "# What if scenarios\n",
    "# Default values (do not change!)\n",
    "whatif_iv_change = 0.0            \n",
    "whatif_days_to_expiration = None  \n",
    "\n",
    "\n",
    "# Change or comment WhatIf scenario values\n",
    "whatif_iv_change = 0.3           # Change in IV level ( -0.01 - means IV drop in 1% )\n",
    "whatif_days_to_expiration = 5   # Custom days to expiration\n",
    "\n",
    "\n",
    "\n",
    "payoff.plot(strikes_on_graph, whatif_iv_change, whatif_days_to_expiration)\n",
    "payoff.show_report(whatif_iv_change, whatif_days_to_expiration)"
   ]
  },
  {
   "cell_type": "code",
   "execution_count": null,
   "metadata": {
    "collapsed": false
   },
   "outputs": [],
   "source": []
  },
  {
   "cell_type": "code",
   "execution_count": null,
   "metadata": {
    "collapsed": false
   },
   "outputs": [],
   "source": []
  }
 ],
 "metadata": {
  "kernelspec": {
   "display_name": "Python 3",
   "language": "python",
   "name": "python3"
  },
  "language_info": {
   "codemirror_mode": {
    "name": "ipython",
    "version": 3
   },
   "file_extension": ".py",
   "mimetype": "text/x-python",
   "name": "python",
   "nbconvert_exporter": "python",
   "pygments_lexer": "ipython3",
   "version": "3.5.2"
  }
 },
 "nbformat": 4,
 "nbformat_minor": 0
}
