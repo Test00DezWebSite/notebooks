{
 "cells": [
  {
   "cell_type": "code",
   "execution_count": null,
   "metadata": {
    "collapsed": false
   },
   "outputs": [],
   "source": [
    "%pylab inline\n",
    "%load_ext autoreload\n",
    "%autoreload 2"
   ]
  },
  {
   "cell_type": "code",
   "execution_count": null,
   "metadata": {
    "collapsed": false
   },
   "outputs": [],
   "source": [
    "import sys,os\n",
    "sys.path.append('..')\n",
    "from backtester.analysis import *\n",
    "from backtester.strategy import StrategyBase, OptParam, OptParamArray\n",
    "from backtester.swarms.ranking import SwarmRanker\n",
    "from backtester.swarms.rebalancing import SwarmRebalance\n",
    "from backtester.swarms.filters import SwarmFilter\n",
    "from backtester.costs import CostsManagerEXOFixed\n",
    "from backtester.exoinfo import EXOInfo\n",
    "from backtester.swarms.rankingclasses import *\n",
    "from backtester.swarms.swarm import Swarm\n",
    "\n",
    "\n",
    "import pandas as pd\n",
    "import numpy as np\n",
    "import scipy"
   ]
  },
  {
   "cell_type": "code",
   "execution_count": null,
   "metadata": {
    "collapsed": false,
    "scrolled": false
   },
   "outputs": [],
   "source": [
    "from scripts.settings import *\n",
    "try:\n",
    "    from scripts.settings_local import *\n",
    "except:\n",
    "    pass\n",
    "\n",
    "from exobuilder.data.exostorage import EXOStorage\n",
    "\n",
    "storage = EXOStorage(MONGO_CONNSTR, MONGO_EXO_DB)\n",
    "\n",
    "\n",
    "\n",
    "\n",
    "figsize(15,10)\n"
   ]
  },
  {
   "cell_type": "markdown",
   "metadata": {
    "collapsed": false
   },
   "source": [
    "## Filter EXO names if necessary "
   ]
  },
  {
   "cell_type": "code",
   "execution_count": null,
   "metadata": {
    "collapsed": false,
    "scrolled": false
   },
   "outputs": [],
   "source": [
    "exo_filter = '*'     # All \n",
    "#exo_filter = 'ES_'  # ES only\n",
    "\n",
    "\n",
    "for exo_name in sorted(storage.exo_list(exo_filter)):\n",
    "    exo_df, exo_info = storage.load_series(exo_name)\n",
    "    \n",
    "    f, (ax1, ax2) = plt.subplots(2, gridspec_kw = {'height_ratios':[3, 1]})\n",
    "    exo_df['exo'].plot(ax=ax1);\n",
    "    ax1.set_title('EXO: {0}'.format(exo_name));\n",
    "\n",
    "    exo_df['delta'].plot(ax=ax2);\n",
    "    ax2.set_title('Delta');\n",
    "    \n",
    "    plt.show()    "
   ]
  },
  {
   "cell_type": "code",
   "execution_count": null,
   "metadata": {
    "collapsed": false
   },
   "outputs": [],
   "source": []
  }
 ],
 "metadata": {
  "kernelspec": {
   "display_name": "Python 3",
   "language": "python",
   "name": "python3"
  },
  "language_info": {
   "codemirror_mode": {
    "name": "ipython",
    "version": 3
   },
   "file_extension": ".py",
   "mimetype": "text/x-python",
   "name": "python",
   "nbconvert_exporter": "python",
   "pygments_lexer": "ipython3",
   "version": "3.5.2"
  }
 },
 "nbformat": 4,
 "nbformat_minor": 0
}
