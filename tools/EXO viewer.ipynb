{
 "cells": [
  {
   "cell_type": "code",
   "execution_count": null,
   "metadata": {
    "collapsed": false
   },
   "outputs": [],
   "source": [
    "%pylab inline\n",
    "%load_ext autoreload\n",
    "%autoreload 2"
   ]
  },
  {
   "cell_type": "code",
   "execution_count": null,
   "metadata": {
    "collapsed": false
   },
   "outputs": [],
   "source": [
    "import sys,os\n",
    "sys.path.append('..')\n",
    "from backtester.analysis import *\n",
    "from backtester.strategy import StrategyBase, OptParam, OptParamArray\n",
    "from backtester.swarms.ranking import SwarmRanker\n",
    "from backtester.swarms.rebalancing import SwarmRebalance\n",
    "from backtester.swarms.filters import SwarmFilter\n",
    "from backtester.costs import CostsManagerEXOFixed\n",
    "from backtester.exoinfo import EXOInfo\n",
    "from backtester.swarms.rankingclasses import *\n",
    "from backtester.swarms.swarm import Swarm\n",
    "\n",
    "\n",
    "import pandas as pd\n",
    "import numpy as np\n",
    "import scipy"
   ]
  },
  {
   "cell_type": "code",
   "execution_count": null,
   "metadata": {
    "collapsed": false
   },
   "outputs": [],
   "source": [
    "from scripts.settings import *\n",
    "try:\n",
    "    from scripts.settings_local import *\n",
    "except:\n",
    "    pass\n",
    "\n",
    "from exobuilder.data.exostorage import EXOStorage\n",
    "\n",
    "storage = EXOStorage(MONGO_CONNSTR, MONGO_EXO_DB)\n",
    "\n",
    "\n",
    "exo_filter = '*'     # All \n",
    "#exo_filter = 'ES_'  # ES only\n",
    "exo_filter = '*'  # ES Collars (incl Bearish, Bullish, BW and vanilla)\n",
    "\n",
    "[print(exo) for exo in storage.exo_list(exo_filter)];"
   ]
  },
  {
   "cell_type": "markdown",
   "metadata": {},
   "source": [
    "# Single EXO analysis"
   ]
  },
  {
   "cell_type": "code",
   "execution_count": null,
   "metadata": {
    "collapsed": false
   },
   "outputs": [],
   "source": [
    "EXO_NAME = 'NG_BullishCollarBW'"
   ]
  },
  {
   "cell_type": "code",
   "execution_count": null,
   "metadata": {
    "collapsed": false
   },
   "outputs": [],
   "source": [
    "exo_df, exo_info = storage.load_series(EXO_NAME)"
   ]
  },
  {
   "cell_type": "code",
   "execution_count": null,
   "metadata": {
    "collapsed": false
   },
   "outputs": [],
   "source": [
    "figsize(15,10)\n",
    "f, (ax1, ax2, ax3) = plt.subplots(3, gridspec_kw = {'height_ratios':[3, 1, 1]})\n",
    "exo_df['exo'].plot(ax=ax1);\n",
    "ax1.set_title('EXO: {0}'.format(EXO_NAME));\n",
    "\n",
    "exo_df['delta'].plot(ax=ax2);\n",
    "ax2.set_title('Delta');\n",
    "\n",
    "exo_df['is_rollover'].plot(ax=ax3);\n",
    "ax3.set_title('Rollover occured');"
   ]
  },
  {
   "cell_type": "markdown",
   "metadata": {},
   "source": [
    "## EXO statistics"
   ]
  },
  {
   "cell_type": "code",
   "execution_count": null,
   "metadata": {
    "collapsed": false
   },
   "outputs": [],
   "source": [
    "stdev_monthly = exo_df['exo'].diff(22).std()\n",
    "stdev_daily = exo_df['exo'].diff(1).std()\n",
    "avg_delta = exo_df['delta'].mean()\n",
    "contracts_executed_per_year = (exo_df['nfutures_executed'].sum() + exo_df['noptions_executed'].sum()) / nyears\n",
    "nyears = (exo_df.index[-1] - exo_df.index[0]).days / 365.25\n",
    "rollovers_per_year = exo_df['is_rollover'].sum() / nyears\n",
    "\n",
    "print(\"EXO statistics\")\n",
    "print(\"{0:<20} {1:>10.3}\".format('Avg. Delta', avg_delta))\n",
    "print(\"{0:<20} {1:>10.1f}\".format('Daily StDev', stdev_daily))\n",
    "print(\"{0:<20} {1:>10.1f}\".format('Monthly StDev', stdev_monthly))\n",
    "print(\"{0:<20} {1:>10.1f}\".format('Rollovers / yr.', rollovers_per_year))\n",
    "print(\"{0:<20} {1:>10.1f}\".format('Contracts exec./ yr.', contracts_executed_per_year))"
   ]
  },
  {
   "cell_type": "markdown",
   "metadata": {},
   "source": [
    "## Volatility analysis"
   ]
  },
  {
   "cell_type": "code",
   "execution_count": null,
   "metadata": {
    "collapsed": false
   },
   "outputs": [],
   "source": [
    "figsize(10, 5)\n",
    "f, (ax1, ax2) = plt.subplots(2)\n",
    "\n",
    "diff1 = exo_df['exo'].diff(1).dropna()\n",
    "diff20 = exo_df['exo'].diff(20).dropna()\n",
    "\n",
    "diff1.dropna().hist(bins=50, ax=ax1);\n",
    "ax1.set_title('1-day changes histogram');\n",
    "\n",
    "\n",
    "diff20.dropna().hist(bins=50, ax=ax2);\n",
    "ax2.set_title('20-day changes histogram');\n"
   ]
  },
  {
   "cell_type": "markdown",
   "metadata": {},
   "source": [
    "## Delta distribution"
   ]
  },
  {
   "cell_type": "code",
   "execution_count": null,
   "metadata": {
    "collapsed": false
   },
   "outputs": [],
   "source": [
    "exo_df['delta'].hist(bins=50);"
   ]
  },
  {
   "cell_type": "code",
   "execution_count": null,
   "metadata": {
    "collapsed": false
   },
   "outputs": [],
   "source": []
  }
 ],
 "metadata": {
  "kernelspec": {
   "display_name": "Python 3",
   "language": "python",
   "name": "python3"
  },
  "language_info": {
   "codemirror_mode": {
    "name": "ipython",
    "version": 3
   },
   "file_extension": ".py",
   "mimetype": "text/x-python",
   "name": "python",
   "nbconvert_exporter": "python",
   "pygments_lexer": "ipython3",
   "version": "3.5.2"
  }
 },
 "nbformat": 4,
 "nbformat_minor": 0
}
