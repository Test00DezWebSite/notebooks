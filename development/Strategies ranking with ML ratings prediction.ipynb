{
 "cells": [
  {
   "cell_type": "code",
   "execution_count": null,
   "metadata": {
    "collapsed": false
   },
   "outputs": [],
   "source": [
    "import sys,os\n",
    "sys.path.append('..')\n",
    "sys.path.append('../..')\n",
    "from backtester import matlab, backtester\n",
    "from backtester.analysis import *\n",
    "from backtester.swarms.swarm import Swarm\n",
    "from backtester.exoinfo import EXOInfo\n",
    "from exobuilder.data.exostorage import EXOStorage\n",
    "from IPython.core.display import display, HTML\n",
    "\n",
    "from sklearn import linear_model, cross_validation, naive_bayes, ensemble, tree, neighbors, cluster, preprocessing\n",
    "\n",
    "import pandas as pd\n",
    "import numpy as np\n",
    "import scipy\n",
    "import pprint\n",
    "\n",
    "import glob\n",
    "from pandas.tseries.offsets import *"
   ]
  },
  {
   "cell_type": "code",
   "execution_count": null,
   "metadata": {
    "collapsed": false,
    "scrolled": false
   },
   "outputs": [],
   "source": [
    "%pylab inline\n",
    "%load_ext autoreload\n",
    "%autoreload 2\n",
    "\n",
    "figsize(20,10)"
   ]
  },
  {
   "cell_type": "markdown",
   "metadata": {},
   "source": [
    "## Rng strategies"
   ]
  },
  {
   "cell_type": "code",
   "execution_count": null,
   "metadata": {
    "collapsed": false
   },
   "outputs": [],
   "source": [
    "#\n",
    "# random time series\n",
    "#\n",
    "df = pd.DataFrame()\n",
    "for i in range(1000):\n",
    "    \n",
    "    date = pd.date_range(start='2015-01', end='2016-10', freq='D')\n",
    "    price = np.random.randint(-100, 101, size=len(date))\n",
    "    \n",
    "    ser = pd.Series(price, index=date, name='rng_system'+str(i))\n",
    "    df['rng_system'+str(i)] = ser.cumsum()"
   ]
  },
  {
   "cell_type": "markdown",
   "metadata": {},
   "source": [
    "# Set EXO name here"
   ]
  },
  {
   "cell_type": "code",
   "execution_count": null,
   "metadata": {
    "collapsed": false
   },
   "outputs": [],
   "source": [
    "# Loading global setting for MongoDB etc.\n",
    "from scripts.settings import *\n",
    "\n",
    "try:\n",
    "    from scripts.settings_local import *\n",
    "except:\n",
    "    pass\n",
    "\n",
    "storage = EXOStorage(MONGO_CONNSTR, MONGO_EXO_DB)\n",
    "pp = pprint.PrettyPrinter(indent=4)\n",
    "\n",
    "exo_list = storage.exo_list()\n",
    "pp.pprint(exo_list)\n",
    "\n",
    "\n",
    "exo_series, exo_dict = storage.load_series('ES_CallSpread')\n",
    "exo_series = exo_series[exo_series.columns[0]]\n",
    "\n",
    "exo_series.plot()"
   ]
  },
  {
   "cell_type": "markdown",
   "metadata": {},
   "source": [
    "# Saved Swarm universes as input"
   ]
  },
  {
   "cell_type": "code",
   "execution_count": null,
   "metadata": {
    "collapsed": false
   },
   "outputs": [],
   "source": [
    "df = pd.DataFrame()\n",
    "exoname = 'ES'\n",
    "direction = 'Long' # Long short\n",
    "exostrategy = 'PutSpread' # CallSpread .. etc\n",
    "\n",
    "for file in glob.glob(\"../swarms/*.swm\"):\n",
    "    swarmname = file.split('/')[-1]\n",
    "    \n",
    "    if (exoname in swarmname) and (direction in swarmname) and (exostrategy in swarmname):\n",
    "        if df.size == 0:\n",
    "            df = Swarm.load('../swarms/'+swarmname).raw_swarm\n",
    "        else:\n",
    "            df = pd.concat([df, Swarm.load('../swarms/'+swarmname).raw_swarm], axis=1)\n",
    "    #print(file.split('/')[-1])\n",
    "    #break\n",
    "    \n",
    "df = df.dropna(how='all')"
   ]
  },
  {
   "cell_type": "markdown",
   "metadata": {},
   "source": [
    "## Single swarm"
   ]
  },
  {
   "cell_type": "code",
   "execution_count": null,
   "metadata": {
    "collapsed": false
   },
   "outputs": [],
   "source": [
    "\n",
    "# set file name here\n",
    "swarm_file = 'CL_CallSpread_Short_RenkoPatterns_no_exit_on_patterns'\n",
    "\n",
    "# Real swarm from .swm\n",
    "df = Swarm.load('../swarms/'+swarm_file+'.swm').raw_swarm\n",
    "#df = df"
   ]
  },
  {
   "cell_type": "markdown",
   "metadata": {},
   "source": [
    "# Alphas"
   ]
  },
  {
   "cell_type": "code",
   "execution_count": null,
   "metadata": {
    "collapsed": false
   },
   "outputs": [],
   "source": [
    "instruments_filter = ['ES']  # Select ALL\n",
    "#instruments_filter = ['ES']\n",
    "\n",
    "exo_filter = ['*'] # Select ALL\n",
    "#exo_filter = ['CallSpread']\n",
    "\n",
    "#direction_filter = [0, -1, 1] # Select ALL\n",
    "direction_filter = [-1]\n",
    "\n",
    "alpha_filter = ['*']  # Select ALL\n",
    "#alpha_filter = ['MaCross', 'PointAndFigurePatterns']\n",
    "\n",
    "swmdf, swm_data = storage.swarms_list(instruments_filter, direction_filter, alpha_filter, exo_filter)\n",
    "\n",
    "df = swmdf"
   ]
  },
  {
   "cell_type": "code",
   "execution_count": null,
   "metadata": {
    "collapsed": false
   },
   "outputs": [],
   "source": [
    "#swarm = Swarm.load('../swarms/'+swarm_file+'.swm')"
   ]
  },
  {
   "cell_type": "code",
   "execution_count": null,
   "metadata": {
    "collapsed": false
   },
   "outputs": [],
   "source": [
    "df.plot(legend=False)"
   ]
  },
  {
   "cell_type": "markdown",
   "metadata": {},
   "source": [
    "## Systems overall performance estimation"
   ]
  },
  {
   "cell_type": "code",
   "execution_count": null,
   "metadata": {
    "collapsed": false
   },
   "outputs": [],
   "source": [
    "temp_l = []\n",
    "\n",
    "dynamic_exo_selection_flag = True\n",
    "\n",
    "for strat in df.columns:\n",
    "        input_strategy_data = df[strat] # This data is used in metrics calc\n",
    "        \n",
    "        if dynamic_exo_selection_flag == True:\n",
    "            \n",
    "            # Dynamic EXO selection\n",
    "            try:\n",
    "                exo_series, exo_dict = storage.load_series(strat.split('_')[0]+'_'+strat.split('_')[1])\n",
    "                exo_series = exo_series[exo_series.columns[0]]\n",
    "\n",
    "            except IndexError:\n",
    "                print('Seems like a swarm universes or single swarm are used as input. Dynamic EXO selection is disabled. Select a proper EXO series in the block above')\n",
    "                dynamic_exo_selection_flag = False\n",
    "        \n",
    "        \n",
    "        price_change = input_strategy_data.diff()\n",
    "        max_dd = (input_strategy_data - input_strategy_data.expanding().max()).min()\n",
    "        netprofit = df[strat].ix[-1] - df[strat].ix[0]\n",
    "\n",
    "        # Since swarm PnL statistics is not trade-by-trade\n",
    "        # For PF calc I used cumulative values of positive and negatives price changes\n",
    "        # Same for winrate\n",
    "        profit_factor = price_change[price_change > 0].sum() / np.abs(price_change[price_change < 0].sum())\n",
    "\n",
    "        winrate = (price_change[price_change > 0].count() / price_change.count()) * 100               \n",
    "\n",
    "        try:\n",
    "            modsharpe = np.mean(price_change) / np.std(price_change)\n",
    "\n",
    "        except ZeroDivisionError:\n",
    "            modsharpe = np.nan\n",
    "        \n",
    "        strategy_pctchange = input_strategy_data.pct_change(1).replace([np.inf, -np.inf], np.nan)\n",
    "        exo_series_pctchange = exo_series.pct_change(1).replace([np.inf, -np.inf], np.nan)\n",
    "\n",
    "\n",
    "        strategy_pos_pctchange = strategy_pctchange[strategy_pctchange > 0]\n",
    "        exo_series_pos_pctchange = exo_series_pctchange[exo_series_pctchange > 0]\n",
    "\n",
    "        strategy_neg_pctchange = strategy_pctchange[strategy_pctchange < 0]\n",
    "        exo_series_neg_pctchange = exo_series_pctchange[exo_series_pctchange < 0]\n",
    "        \n",
    "        try:\n",
    "            d = {'strategy': strat,\n",
    "                'stats_pricechange_modsharpe': modsharpe.values[0],\n",
    "                'stats_up_beta': strategy_pos_pctchange.ix[:,0].cov(exo_series_pos_pctchange) / exo_series_pos_pctchange.var(),\n",
    "                'stats_down_beta': strategy_neg_pctchange.ix[:,0].cov(exo_series_neg_pctchange) / exo_series_neg_pctchange.var(),\n",
    "                #'stats_netprofit': netprofit,\n",
    "                #'stats_max_dd': max_dd, \n",
    "                'stats_recovery_factor': (netprofit / np.abs(max_dd)).values[0],\n",
    "                'stats_profit_factor': (profit_factor).values[0]\n",
    "                 }\n",
    "                 #'stats_winrate': winrate }\n",
    "\n",
    "            temp_l.append(d)\n",
    "        \n",
    "        except:\n",
    "            d = {'strategy': strat,\n",
    "                'stats_pricechange_modsharpe': modsharpe,\n",
    "                'stats_up_beta': strategy_pos_pctchange.cov(exo_series_pos_pctchange) / exo_series_pos_pctchange.var(),\n",
    "                'stats_down_beta': strategy_neg_pctchange.cov(exo_series_neg_pctchange) / exo_series_neg_pctchange.var(),\n",
    "                #'stats_netprofit': netprofit,\n",
    "                #'stats_max_dd': max_dd, \n",
    "                'stats_recovery_factor': (netprofit / np.abs(max_dd)),\n",
    "                'stats_profit_factor': (profit_factor)\n",
    "                 }\n",
    "                 #'stats_winrate': winrate }\n",
    "\n",
    "            temp_l.append(d)\n",
    "            \n",
    "        #print(strat.split('_')[0]+'_'+strat.split('_')[1])"
   ]
  },
  {
   "cell_type": "code",
   "execution_count": null,
   "metadata": {
    "collapsed": false
   },
   "outputs": [],
   "source": [
    "strategies_performance_df = pd.DataFrame(temp_l).dropna()\n",
    "strategies_performance_df['rating'] = np.zeros_like(len(strategies_performance_df))\n",
    "\n",
    "strategies_performance_df['stats_betas_ratio'] = strategies_performance_df.stats_up_beta / strategies_performance_df.stats_down_beta\n",
    "strategies_performance_df['stats_betas_difference'] = strategies_performance_df.stats_up_beta - strategies_performance_df.stats_down_beta\n",
    "\n",
    "strategies_performance_df.set_index('strategy', inplace=True)\n",
    "\n",
    "strategies_performance_df = pd.DataFrame(preprocessing.scale(strategies_performance_df), index=strategies_performance_df.index,\n",
    "                                         columns=strategies_performance_df.columns)\n",
    "\n",
    "#strategies_performance_df.stats_profit_factor.plot()"
   ]
  },
  {
   "cell_type": "markdown",
   "metadata": {},
   "source": [
    "# Rating\n",
    "# Proceed to the next block if you already have a dataset "
   ]
  },
  {
   "cell_type": "code",
   "execution_count": null,
   "metadata": {
    "collapsed": false
   },
   "outputs": [],
   "source": [
    "#\n",
    "# 1) Pick a random equity\n",
    "#\n",
    "figsize(10,5)\n",
    "\n",
    "sample = strategies_performance_df[strategies_performance_df.rating == 0].sample(1)\n",
    "\n",
    "print('Up Beta',sample.stats_up_beta.values[0])\n",
    "print('Down Beta',sample.stats_down_beta.values[0])\n",
    "print('------------------------------Betas ratio',sample.stats_betas_ratio.values[0])\n",
    "print('------------------------------Betas diff',sample.stats_betas_difference.values[0])\n",
    "\n",
    "df[sample.index].plot()\n",
    "exo_series.plot(legend='EXO')"
   ]
  },
  {
   "cell_type": "code",
   "execution_count": null,
   "metadata": {
    "collapsed": false
   },
   "outputs": [],
   "source": [
    "#\n",
    "# 2) Rate this equity from 1 to 5 in a field below. Repeat\n",
    "#\n",
    "rating = input('Rate this equity from 1 to 5 -- ')\n",
    "\n",
    "while True:\n",
    "    \n",
    "    try:\n",
    "        if (int(rating) > 0 and int(rating) <= 5):\n",
    "            strategies_performance_df.loc[strategies_performance_df.index.isin(sample.index), 'rating'] = int(rating)\n",
    "            break\n",
    "        else:\n",
    "            print('Invalid value!')\n",
    "            rating = input('Rate this equity from 1 to 5 -- ')\n",
    "            \n",
    "    except:\n",
    "        print('Invalid value!')\n",
    "        rating = input('Rate this equity from 1 to 5 -- ')"
   ]
  },
  {
   "cell_type": "code",
   "execution_count": null,
   "metadata": {
    "collapsed": false,
    "scrolled": false
   },
   "outputs": [],
   "source": [
    "#\n",
    "# 3) Run this block to see your dataset\n",
    "#\n",
    "print(strategies_performance_df[strategies_performance_df.rating != 0].drop('rating', 1).shape)\n",
    "strategies_performance_df[strategies_performance_df.rating != 0]"
   ]
  },
  {
   "cell_type": "code",
   "execution_count": null,
   "metadata": {
    "collapsed": false
   },
   "outputs": [],
   "source": [
    "#\n",
    "# 4) If you satisfied with a dataset - Uncomment to save dataset\n",
    "# ! This will overwrite an existing dataset\n",
    "#\n",
    "#strategies_performance_df[strategies_performance_df.rating != 0].to_csv('dataset.csv')"
   ]
  },
  {
   "cell_type": "markdown",
   "metadata": {},
   "source": [
    "# Clustering by all performance stats series"
   ]
  },
  {
   "cell_type": "code",
   "execution_count": null,
   "metadata": {
    "collapsed": false
   },
   "outputs": [],
   "source": [
    "clustering_model = cluster.KMeans(n_clusters=5, precompute_distances=True)\n",
    "clustering_model.fit(strategies_performance_df.as_matrix())"
   ]
  },
  {
   "cell_type": "code",
   "execution_count": null,
   "metadata": {
    "collapsed": false
   },
   "outputs": [],
   "source": [
    "strategies_performance_df['cluster'] = clustering_model.labels_"
   ]
  },
  {
   "cell_type": "code",
   "execution_count": null,
   "metadata": {
    "collapsed": false,
    "scrolled": false
   },
   "outputs": [],
   "source": [
    "#exo_series.plot(kind='area',legend='EXO', stacked=False, secondary_y=True)\n",
    "df[strategies_performance_df[strategies_performance_df.cluster == 1].index].sum(1).plot(legend=False)\n",
    "df[strategies_performance_df[strategies_performance_df.cluster == 1].index].plot(legend=False)"
   ]
  },
  {
   "cell_type": "markdown",
   "metadata": {},
   "source": [
    "# Clustering every performance stats metrics separately"
   ]
  },
  {
   "cell_type": "code",
   "execution_count": null,
   "metadata": {
    "collapsed": false,
    "scrolled": false
   },
   "outputs": [],
   "source": [
    "clustering_model = cluster.KMeans(n_clusters=10, precompute_distances=True)\n",
    "\n",
    "for i in strategies_performance_df.columns:\n",
    "    strategies_performance_df[i+'_cluster'] = clustering_model.fit_predict(strategies_performance_df[i].values.reshape(-1, 1))\n",
    "    \n",
    "    strategies_performance_df[i+'_clustercenter'] = np.zeros_like(strategies_performance_df.stats_pricechange_modsharpe)\n",
    "    \n",
    "    for cc in range(len(clustering_model.cluster_centers_)):\n",
    "        strategies_performance_df.loc[strategies_performance_df[i+'_cluster'] == cc,\n",
    "                                      i+'_clustercenter'] = clustering_model.cluster_centers_[cc] "
   ]
  },
  {
   "cell_type": "code",
   "execution_count": null,
   "metadata": {
    "collapsed": false
   },
   "outputs": [],
   "source": [
    "clusters_rank_d = {}\n",
    "for i in strategies_performance_df.columns:\n",
    "    if 'cluster' not in i:\n",
    "        clusters_rank_d[i] = strategies_performance_df.sort_values(i+'_clustercenter', ascending=False)[i+'_cluster'].unique()"
   ]
  },
  {
   "cell_type": "code",
   "execution_count": null,
   "metadata": {
    "collapsed": false
   },
   "outputs": [],
   "source": [
    "clusters_rank_d"
   ]
  },
  {
   "cell_type": "code",
   "execution_count": null,
   "metadata": {
    "collapsed": false,
    "scrolled": false
   },
   "outputs": [],
   "source": [
    "scatter(strategies_performance_df.stats_down_beta_cluster, strategies_performance_df.stats_down_beta)"
   ]
  },
  {
   "cell_type": "code",
   "execution_count": null,
   "metadata": {
    "collapsed": false,
    "scrolled": false
   },
   "outputs": [],
   "source": [
    "df[strategies_performance_df[strategies_performance_df.stats_up_beta_cluster.isin([2])].index].plot(legend=False)\n",
    "exo_series.plot(kind='area',legend='EXO', stacked=False)"
   ]
  },
  {
   "cell_type": "markdown",
   "metadata": {},
   "source": [
    "# Model"
   ]
  },
  {
   "cell_type": "code",
   "execution_count": null,
   "metadata": {
    "collapsed": false
   },
   "outputs": [],
   "source": [
    "dataset = pd.read_csv('cl_callspread_swarms_dataset.csv', index_col=[0])\n",
    "#dataset = dataset.drop(['stats_pricechange_modsharpe','stats_profit_factor','stats_recovery_factor'], 1)\n",
    "\n",
    "train_features = dataset.drop('rating', 1)\n",
    "train_target = dataset.rating\n",
    "\n",
    "test_features = strategies_performance_df[strategies_performance_df.rating == 0].drop('rating', 1)"
   ]
  },
  {
   "cell_type": "code",
   "execution_count": null,
   "metadata": {
    "collapsed": false
   },
   "outputs": [],
   "source": [
    "#model = linear_model.LogisticRegressionCV(Cs=[0.01,0.1,1,10])\n",
    "#model = linear_model.LogisticRegressionCV(Cs=[10])\n",
    "#model = neighbors.KNeighborsClassifier(n_neighbors=5)\n",
    "#model = naive_bayes.GaussianNB()\n",
    "#model = tree.DecisionTreeClassifier(max_depth=300)\n",
    "#model = ensemble.RandomForestClassifier(max_depth=3)\n",
    "\n",
    "\n",
    "logreg = linear_model.LogisticRegressionCV(Cs=[10])\n",
    "knn = neighbors.KNeighborsClassifier(n_neighbors=7)\n",
    "gausnb = naive_bayes.GaussianNB()\n",
    "dt = tree.DecisionTreeClassifier(max_depth=5)\n",
    "randforest = ensemble.RandomForestClassifier(max_depth=3)\n",
    "\n",
    "model = ensemble.VotingClassifier(estimators=[('logreg',logreg), ('knn',knn), ('gausnb',gausnb), ('dt',dt), ('randforest',randforest)])\n",
    "\n",
    "model.fit(train_features, train_target)"
   ]
  },
  {
   "cell_type": "code",
   "execution_count": null,
   "metadata": {
    "collapsed": false
   },
   "outputs": [],
   "source": [
    "model.score(train_features, train_target)"
   ]
  },
  {
   "cell_type": "code",
   "execution_count": null,
   "metadata": {
    "collapsed": false
   },
   "outputs": [],
   "source": [
    "#model.feature_importances_"
   ]
  },
  {
   "cell_type": "code",
   "execution_count": null,
   "metadata": {
    "collapsed": false
   },
   "outputs": [],
   "source": [
    "cross_validation.cross_val_score(model, train_features, train_target, cv=3).mean()"
   ]
  },
  {
   "cell_type": "code",
   "execution_count": null,
   "metadata": {
    "collapsed": false
   },
   "outputs": [],
   "source": [
    "strategies_performance_df.loc[strategies_performance_df.rating != None , 'rating'] = model.predict(test_features)"
   ]
  },
  {
   "cell_type": "code",
   "execution_count": null,
   "metadata": {
    "collapsed": false
   },
   "outputs": [],
   "source": [
    "df[strategies_performance_df[strategies_performance_df.rating == 5].index].plot(legend=False)\n",
    "exo_series.plot(kind='area',legend='EXO', stacked=False)"
   ]
  },
  {
   "cell_type": "code",
   "execution_count": null,
   "metadata": {
    "collapsed": false
   },
   "outputs": [],
   "source": [
    "df[strategies_performance_df[strategies_performance_df.rating == 4].index].plot(legend=False)\n",
    "exo_series.plot(kind='area',legend='EXO', stacked=False)"
   ]
  },
  {
   "cell_type": "code",
   "execution_count": null,
   "metadata": {
    "collapsed": false,
    "scrolled": false
   },
   "outputs": [],
   "source": [
    "df[strategies_performance_df[strategies_performance_df.rating == 3].index].plot(legend=False)\n",
    "exo_series.plot(kind='area',legend='EXO', stacked=False)"
   ]
  },
  {
   "cell_type": "code",
   "execution_count": null,
   "metadata": {
    "collapsed": false
   },
   "outputs": [],
   "source": [
    "df[strategies_performance_df[strategies_performance_df.rating == 2].index].plot(legend=False)\n",
    "exo_series.plot(kind='area',legend='EXO', stacked=False)"
   ]
  },
  {
   "cell_type": "code",
   "execution_count": null,
   "metadata": {
    "collapsed": false
   },
   "outputs": [],
   "source": [
    "df[strategies_performance_df[strategies_performance_df.rating == 1].index].plot(legend=False)\n",
    "exo_series.plot(kind='area',legend='EXO', stacked=False)"
   ]
  },
  {
   "cell_type": "markdown",
   "metadata": {},
   "source": [
    "# Rating and performance metrics dependencies\n",
    "\n",
    "## X - Predicted rating\n",
    "## Y - Performance metrics(1 - mod.sharpe, 2 - profit factor, 3 - recovery factor, 4 - betas ratio)"
   ]
  },
  {
   "cell_type": "code",
   "execution_count": null,
   "metadata": {
    "collapsed": false
   },
   "outputs": [],
   "source": [
    "scatter(strategies_performance_df.rating, strategies_performance_df.stats_pricechange_modsharpe)"
   ]
  },
  {
   "cell_type": "code",
   "execution_count": null,
   "metadata": {
    "collapsed": false
   },
   "outputs": [],
   "source": [
    "scatter(strategies_performance_df.rating, strategies_performance_df.stats_profit_factor)"
   ]
  },
  {
   "cell_type": "code",
   "execution_count": null,
   "metadata": {
    "collapsed": false
   },
   "outputs": [],
   "source": [
    "scatter(strategies_performance_df.rating, strategies_performance_df.stats_recovery_factor)"
   ]
  },
  {
   "cell_type": "code",
   "execution_count": null,
   "metadata": {
    "collapsed": false
   },
   "outputs": [],
   "source": [
    "scatter(strategies_performance_df.rating, strategies_performance_df.stats_betas_ratio)"
   ]
  },
  {
   "cell_type": "code",
   "execution_count": null,
   "metadata": {
    "collapsed": false,
    "scrolled": false
   },
   "outputs": [],
   "source": [
    "strategies_performance_df.sort_values('rating', ascending=False)\n",
    "#strategies_performance_df.sort_values('stats_netprofit', ascending=False)"
   ]
  },
  {
   "cell_type": "markdown",
   "metadata": {},
   "source": [
    "## Drop all strategies which have rank score less than n predicted rating"
   ]
  },
  {
   "cell_type": "code",
   "execution_count": null,
   "metadata": {
    "collapsed": false
   },
   "outputs": [],
   "source": [
    "df = df[strategies_performance_df[strategies_performance_df.rating == 5].index]"
   ]
  },
  {
   "cell_type": "code",
   "execution_count": null,
   "metadata": {
    "collapsed": false,
    "scrolled": false
   },
   "outputs": [],
   "source": [
    "df.dropna().plot(legend=False)"
   ]
  },
  {
   "cell_type": "markdown",
   "metadata": {},
   "source": [
    "## Filter those strategies by correlation"
   ]
  },
  {
   "cell_type": "code",
   "execution_count": null,
   "metadata": {
    "collapsed": false
   },
   "outputs": [],
   "source": [
    "# Rearrange columns from best to worst strategies\n",
    "df = df.reindex_axis(strategies_performance_df.sort_values('rating', ascending=False).index, axis=1).dropna(axis=1).asfreq(BDay())"
   ]
  },
  {
   "cell_type": "code",
   "execution_count": null,
   "metadata": {
    "collapsed": false,
    "scrolled": false
   },
   "outputs": [],
   "source": [
    "df.corr()"
   ]
  },
  {
   "cell_type": "code",
   "execution_count": null,
   "metadata": {
    "collapsed": false,
    "scrolled": false
   },
   "outputs": [],
   "source": [
    "corr_df = df.corr()\n",
    "\n",
    "while_loop_break_flag = False\n",
    "\n",
    "while True:   \n",
    "    if while_loop_break_flag == False:\n",
    "        \n",
    "        for i in range(len(corr_df)):\n",
    "\n",
    "            try:       \n",
    "                strat_corr = corr_df[corr_df.columns[i]]\n",
    "            \n",
    "            except IndexError:               \n",
    "                strat_corr = corr_df[corr_df.columns[-1]]\n",
    "            \n",
    "            df = df.drop(strat_corr[(strat_corr.index != strat_corr.name) & (strat_corr >= 0.5)].index, axis=1)\n",
    "\n",
    "            # Check if previous DF are the same as current DF\n",
    "            # If they are different - continue the loop\n",
    "\n",
    "            df_comparison_array = np.array_equal(corr_df,df.corr())\n",
    "            \n",
    "            #print(strat_corr[(strat_corr.index != strat_corr.name) & (strat_corr >= 0.5)].index)\n",
    "            #print(i)\n",
    "            #print(len(corr_df))\n",
    "            #print(len(corr_df))\n",
    "            \n",
    "            if df_comparison_array  == False and i < len(corr_df):\n",
    "                corr_df = df.corr()\n",
    "\n",
    "            elif df_comparison_array  == True and i == len(corr_df)-1:\n",
    "                while_loop_break_flag = True\n",
    "                break\n",
    "                    \n",
    "    if while_loop_break_flag == True:\n",
    "        break"
   ]
  },
  {
   "cell_type": "code",
   "execution_count": null,
   "metadata": {
    "collapsed": false,
    "scrolled": false
   },
   "outputs": [],
   "source": [
    "df.corr()"
   ]
  },
  {
   "cell_type": "code",
   "execution_count": null,
   "metadata": {
    "collapsed": false
   },
   "outputs": [],
   "source": [
    "df.dropna().plot(legend=False)"
   ]
  },
  {
   "cell_type": "markdown",
   "metadata": {},
   "source": [
    "# Metrics calculation"
   ]
  },
  {
   "cell_type": "code",
   "execution_count": null,
   "metadata": {
    "collapsed": false,
    "scrolled": false
   },
   "outputs": [],
   "source": [
    "#\n",
    "# Rebalance triggers\n",
    "#\n",
    "# Rebalance trigger must be array of Datetime indexes when event occurred, like date of monday or new month\n",
    "# \n",
    "newmonth = df[df.index.month != df.index.shift(1).month].index\n",
    "\n",
    "monday = df[df.index.weekday == 0].index\n",
    "\n",
    "norebalance = [df.index[-1]]\n",
    "\n",
    "newyear = df[df.index.year != df.index.shift(1).year].index\n",
    "#\n",
    "#\n",
    "#\n",
    "\n",
    "# note: I think more performance metrics for strategies is better\n",
    "# https://www.amibroker.com/guide/h_report.html for reference\n",
    "\n",
    "rebalance_index = 1\n",
    "rebalance_date_start = None\n",
    "\n",
    "rebalance_trigger = monday # set rebalance trigger here\n",
    "\n",
    "temp_l = []\n",
    "\n",
    "for reb_idx in rebalance_trigger:\n",
    "    \n",
    "    for strat in df.columns:\n",
    "\n",
    "        if rebalance_index == 1:\n",
    "            rebalance_date_start = df.index[0]\n",
    "           \n",
    "        for i in range(len(df[strat])):\n",
    "\n",
    "            if df[strat].index[i] == reb_idx:\n",
    "\n",
    "                input_strategy_data = df[strat].ix[rebalance_date_start:reb_idx] # This data is used in metrics calc\n",
    "                \n",
    "                price_change = input_strategy_data.diff()\n",
    "                max_dd = (input_strategy_data - input_strategy_data.expanding().max()).min()\n",
    "                netprofit = df[strat].ix[reb_idx] - df[strat].ix[rebalance_date_start]\n",
    "                \n",
    "                # Since swarm PnL statistics is not trade-by-trade\n",
    "                # For PF calc I used cumulative values of positive and negatives price changes\n",
    "                # Same for winrate\n",
    "                profit_factor = price_change[price_change > 0].sum() / np.abs(price_change[price_change < 0].sum())\n",
    "                \n",
    "                winrate = (price_change[price_change > 0].count() / price_change.count()) * 100               \n",
    "                # If all trades are negative, PF is 0. But later all 0s is replaced with NaN. \n",
    "                # To avoid replacing true 0.0 PF set it to 0.000001\n",
    "                # This made for handling missing data \n",
    "                \n",
    "                # Also winrate can be 0.0, but if PF is NaN - no trades were made\n",
    "                # This made for handling missing data \n",
    "                \n",
    "                if winrate == 0.0 and np.isnan(profit_factor) == False:\n",
    "                    winrate = 0.000001\n",
    "                \n",
    "                elif winrate == 0.0 and np.isnan(profit_factor) == True:\n",
    "                    winrate = np.nan\n",
    "                                \n",
    "                if profit_factor == 0.0:\n",
    "                    profit_factor = 0.000001                \n",
    "                          \n",
    "                try:\n",
    "                    modsharpe = np.mean(price_change) / np.std(price_change)\n",
    "                    \n",
    "                except ZeroDivisionError:\n",
    "                    modsharpe = np.nan\n",
    "            \n",
    "                \n",
    "                d = {'strategy': strat,'rebalance_date_start': rebalance_date_start,\n",
    "                    'rebalance_date_end': reb_idx, 'rebalance_index': rebalance_index,\n",
    "                    'stats_pricechange_modsharpe': modsharpe, \n",
    "                    'stats_netprofit': netprofit,\n",
    "                    'stats_max_dd': max_dd, 'stats_recovery_factor': netprofit / np.abs(max_dd),\n",
    "                    'stats_profit_factor': profit_factor, 'stats_winrate': winrate, \n",
    "                     'equity_below_zero': df[strat].ix[rebalance_date_start] < 0}\n",
    "                \n",
    "                '''\n",
    "                d = {'strategy': strat,'rebalance_date_start': rebalance_date_start,\n",
    "                    'rebalance_date_end': reb_idx, 'rebalance_index': rebalance_index,\n",
    "                    'stats_pricechange_modsharpe': modsharpe, \n",
    "                    'stats_recovery_factor': netprofit / np.abs(max_dd)}\n",
    "                '''\n",
    "                \n",
    "                temp_l.append(d)\n",
    "    \n",
    "    rebalance_index += 1\n",
    "    rebalance_date_start = reb_idx # set new start rebalance date to current rebalance trigger date"
   ]
  },
  {
   "cell_type": "markdown",
   "metadata": {},
   "source": [
    "### Data cleaning"
   ]
  },
  {
   "cell_type": "code",
   "execution_count": null,
   "metadata": {
    "collapsed": false,
    "scrolled": false
   },
   "outputs": [],
   "source": [
    "# Replacing 0 values with NaNs\n",
    "# If strategy stats is 0 means that no trades were made\n",
    "stats_df = pd.DataFrame(temp_l).replace(0, np.nan)\n",
    "\n",
    "# Filling NaNs with last avaible values\n",
    "for s in stats_df.strategy.unique():\n",
    "    stats_df[stats_df.strategy == s] = stats_df[stats_df.strategy == s].fillna(method='pad')\n",
    "\n",
    "stats_df = stats_df.dropna(how='any')"
   ]
  },
  {
   "cell_type": "code",
   "execution_count": null,
   "metadata": {
    "collapsed": false,
    "scrolled": false
   },
   "outputs": [],
   "source": [
    "stats_df.tail(10)"
   ]
  },
  {
   "cell_type": "markdown",
   "metadata": {},
   "source": [
    "## Statistics rank calculation"
   ]
  },
  {
   "cell_type": "code",
   "execution_count": null,
   "metadata": {
    "collapsed": false,
    "scrolled": false
   },
   "outputs": [],
   "source": [
    "ranks_d = {}\n",
    "ranks_rebidx_d = {}\n",
    "\n",
    "for i in stats_df.rebalance_index.unique():\n",
    "\n",
    "    for col in stats_df[stats_df.rebalance_index == i].columns:\n",
    "        \n",
    "        stats_col_flag = False\n",
    "    \n",
    "        if 'stats' in col:\n",
    "\n",
    "            # Define 0-10-20-30-40-50-60-70-80-90-100 quantiles values of certain strategy statistics\n",
    "            metric_quantile0 = stats_df[col].quantile(0.0)\n",
    "            metric_quantile10 = stats_df[col].quantile(0.1)\n",
    "            metric_quantile20 = stats_df[col].quantile(0.2)\n",
    "            metric_quantile30 = stats_df[col].quantile(0.3)\n",
    "            metric_quantile40 = stats_df[col].quantile(0.4)\n",
    "            metric_quantile50 = stats_df[col].quantile(0.5)\n",
    "            metric_quantile60 = stats_df[col].quantile(0.6)\n",
    "            metric_quantile70 = stats_df[col].quantile(0.7)\n",
    "            metric_quantile80 = stats_df[col].quantile(0.8)\n",
    "            metric_quantile90 = stats_df[col].quantile(0.9)\n",
    "            metric_quantile100 = stats_df[col].quantile(1)\n",
    "\n",
    "            stats_col_flag = True\n",
    "\n",
    "        if stats_col_flag == True:\n",
    "    \n",
    "            for strat in stats_df[stats_df.rebalance_index == i].strategy:\n",
    "\n",
    "                # Define strategy statistics rank of certain strategy\n",
    "\n",
    "                strategy_stats_metric = stats_df[(stats_df.rebalance_index == i) \n",
    "                                                 & (stats_df.strategy == strat)][col].values[0]\n",
    "\n",
    "                if strategy_stats_metric >= metric_quantile0 and strategy_stats_metric <= metric_quantile10:\n",
    "                    rank_score = 0\n",
    "\n",
    "                elif strategy_stats_metric >= metric_quantile10 and strategy_stats_metric <= metric_quantile20:\n",
    "                    rank_score = 1\n",
    "\n",
    "                elif strategy_stats_metric >= metric_quantile20 and strategy_stats_metric <= metric_quantile30:\n",
    "                    rank_score = 2\n",
    "\n",
    "                elif strategy_stats_metric >= metric_quantile30 and strategy_stats_metric <= metric_quantile40:\n",
    "                    rank_score = 3\n",
    "\n",
    "                elif strategy_stats_metric >= metric_quantile40 and strategy_stats_metric <= metric_quantile50:\n",
    "                    rank_score = 4\n",
    "\n",
    "                elif strategy_stats_metric >= metric_quantile50 and strategy_stats_metric <= metric_quantile60:\n",
    "                    rank_score = 5\n",
    "\n",
    "                elif strategy_stats_metric >= metric_quantile60 and strategy_stats_metric <= metric_quantile70:\n",
    "                    rank_score = 6\n",
    "\n",
    "                elif strategy_stats_metric >= metric_quantile70 and strategy_stats_metric <= metric_quantile80:\n",
    "                    rank_score = 7\n",
    "\n",
    "                elif strategy_stats_metric >= metric_quantile80 and strategy_stats_metric <= metric_quantile90:\n",
    "                    rank_score = 8\n",
    "\n",
    "                elif strategy_stats_metric >= metric_quantile90 and strategy_stats_metric <= metric_quantile100:\n",
    "                    rank_score = 9\n",
    "\n",
    "                elif strategy_stats_metric == metric_quantile100:\n",
    "                    rank_score = 10\n",
    "\n",
    "                    \n",
    "                if strat not in ranks_d.keys():               \n",
    "                    ranks_d[strat] = rank_score\n",
    "                    \n",
    "                elif strat in ranks_d.keys():                \n",
    "                    ranks_d[strat] = ranks_d[strat] + rank_score\n",
    "            #ranks_d['rebalance_idx_'+str(i)] = i\n",
    "\n",
    "                    \n",
    "                # For debugging purposes\n",
    "\n",
    "                #print('strategy---',strat,'\\n')\n",
    "                #print(col)\n",
    "                #print('10 quantile---',metric_quantile10)\n",
    "                #print(strategy_stats_metric)\n",
    "                #print('60 quantile---',metric_quantile60)\n",
    "                #print(strategy_stats_metric > metric_quantile40 and strategy_stats_metric < metric_quantile50)\n",
    "                #print('rank_score------', rank_score, '\\n')\n",
    "\n",
    "    \n",
    "    print('rebalance index ---', i)\n",
    "    #break\n",
    "    for k in ranks_d:\n",
    "\n",
    "        strat_index = stats_df[(stats_df.strategy == k) & ((stats_df.rebalance_index == i))].index\n",
    "        #print(strat_index)\n",
    "        stats_df = stats_df.set_value(strat_index, 'rank_score', ranks_d[k])\n",
    "        \n",
    "    ranks_d = {}"
   ]
  },
  {
   "cell_type": "code",
   "execution_count": null,
   "metadata": {
    "collapsed": false,
    "scrolled": false
   },
   "outputs": [],
   "source": [
    "stats_df.tail(10)"
   ]
  },
  {
   "cell_type": "markdown",
   "metadata": {},
   "source": [
    "### Strategies picker"
   ]
  },
  {
   "cell_type": "code",
   "execution_count": null,
   "metadata": {
    "collapsed": false,
    "scrolled": false
   },
   "outputs": [],
   "source": [
    "# Trade-by-trade pnl\n",
    "pnl_df = df.diff()\n",
    "\n",
    "summary_best_eqty = pd.Series()\n",
    "summary_worst_eqty = pd.Series()\n",
    "benchmark_eqty = pd.Series()\n",
    "\n",
    "rebalance_history_l = []\n",
    "\n",
    "# We can set start rebalance index value to \n",
    "for i in range(stats_df.rebalance_index.unique().min(),stats_df.rebalance_index.unique().max()):\n",
    "    \n",
    "    if i < 2:\n",
    "        # We must estimate strategies preformance at least on one rebalance window\n",
    "        continue\n",
    "        \n",
    "    else:\n",
    "\n",
    "        # Pick strats from previous rebalance, but trade them until next rebalance\n",
    "                        \n",
    "        start_date = stats_df[stats_df.rebalance_index == i].rebalance_date_start.values[0]  \n",
    "        end_date = stats_df[stats_df.rebalance_index == i].rebalance_date_end.values[0]\n",
    "        \n",
    "        # Number of picked strats defined by .strategy.values[:number]\n",
    "        # Remove -1 from 'i - 1' to get holy grail :D (future reference)\n",
    "        \n",
    "        picked_best_strats = stats_df[(stats_df.rebalance_index == i - 1) & (stats_df.equity_below_zero == False)].sort_values('rank_score', \n",
    "                                                                                ascending=False).strategy.values[:3]\n",
    "        \n",
    "        picked_worst_strats = stats_df[(stats_df.rebalance_index == i - 1) & (stats_df.equity_below_zero == False)].sort_values('rank_score', \n",
    "                                                                                ascending=False).strategy.values[-3:]\n",
    "        \n",
    "        all_strats = stats_df[stats_df.rebalance_index == i - 1].sort_values('rank_score', \n",
    "                                                                                ascending=False).strategy.values[:]\n",
    "        \n",
    "        if len(summary_best_eqty) == 0 and len(summary_worst_eqty) == 0 and len(benchmark_eqty) == 0:\n",
    "            summary_best_eqty = pnl_df[picked_best_strats].ix[start_date : end_date].sum(axis=1)           \n",
    "            summary_worst_eqty = pnl_df[picked_worst_strats].ix[start_date : end_date].sum(axis=1)\n",
    "            \n",
    "            benchmark_eqty = pnl_df[all_strats].ix[start_date : end_date].sum(axis=1)      \n",
    "            \n",
    "        else:\n",
    "            summary_best_eqty = summary_best_eqty.append(pnl_df[picked_best_strats].ix[start_date : end_date].sum(axis=1))\n",
    "            summary_worst_eqty = summary_worst_eqty.append(pnl_df[picked_worst_strats].ix[start_date : end_date].sum(axis=1))\n",
    "            \n",
    "            benchmark_eqty = benchmark_eqty.append(pnl_df[all_strats].ix[start_date : end_date].sum(axis=1))\n",
    "        \n",
    "        d = {'rebalance_index': i, 'best_strategies_list': picked_best_strats}\n",
    "        \n",
    "        for s in range(len(picked_best_strats)):\n",
    "            d['strategy_'+str(s)] = picked_best_strats[s]\n",
    "        \n",
    "        rebalance_history_l.append(d)\n",
    "        \n",
    "        \n",
    "best_portfolio = summary_best_eqty.cumsum()\n",
    "worst_portfolio = summary_worst_eqty.cumsum() * -1 # Reversed\n",
    "\n",
    "summary_portfolio = best_portfolio + worst_portfolio\n",
    "\n",
    "benchmark_portfolio = benchmark_eqty.cumsum()"
   ]
  },
  {
   "cell_type": "markdown",
   "metadata": {},
   "source": [
    "## Comparing portfolios stats with benchmark(all strategies equity)"
   ]
  },
  {
   "cell_type": "code",
   "execution_count": null,
   "metadata": {
    "collapsed": false
   },
   "outputs": [],
   "source": [
    "def portfolio_stats(portfolio_ser,label):\n",
    "    input_data = portfolio_ser # This data is used in metrics calc\n",
    "                \n",
    "    price_change = input_data.diff()\n",
    "    max_dd = (input_data - input_data.expanding().max()).min()\n",
    "    netprofit = input_data.ix[input_data.index[-1]] - input_data.ix[input_data.index[0]]\n",
    "\n",
    "    # Since swarm PnL statistics is not trade-by-trade\n",
    "    # For PF calc I used cumulative values of positive and negatives price changes\n",
    "    # Same for winrate\n",
    "    profit_factor = price_change[price_change > 0].sum() / np.abs(price_change[price_change < 0].sum())\n",
    "\n",
    "    winrate = (price_change[price_change > 0].count() / price_change.count()) * 100               \n",
    "\n",
    "    modsharpe = np.mean(price_change) / np.std(price_change)\n",
    "\n",
    "    recovery_factor = netprofit / np.abs(max_dd)\n",
    "\n",
    "    print('Portfolio name ---', str(label))\n",
    "    print('\\n')\n",
    "    print('PriceChange Mod. Sharpe', modsharpe)\n",
    "    print('Netprofit',netprofit)\n",
    "    print('Max DD', max_dd)\n",
    "    print('Recovery Factor', recovery_factor)\n",
    "    print('Profit factor', profit_factor)\n",
    "    print('Winrate', winrate)\n",
    "\n",
    "    input_data.plot(kind='area', stacked=False)"
   ]
  },
  {
   "cell_type": "code",
   "execution_count": null,
   "metadata": {
    "collapsed": false,
    "scrolled": false
   },
   "outputs": [],
   "source": [
    "portfolio_stats(best_portfolio, 'Best')"
   ]
  },
  {
   "cell_type": "code",
   "execution_count": null,
   "metadata": {
    "collapsed": false
   },
   "outputs": [],
   "source": [
    "portfolio_stats(worst_portfolio, 'Worst(reversed)')"
   ]
  },
  {
   "cell_type": "code",
   "execution_count": null,
   "metadata": {
    "collapsed": false
   },
   "outputs": [],
   "source": [
    "portfolio_stats(summary_portfolio, 'Summary(Best + Worst)')"
   ]
  },
  {
   "cell_type": "code",
   "execution_count": null,
   "metadata": {
    "collapsed": false
   },
   "outputs": [],
   "source": [
    "portfolio_stats(benchmark_portfolio, 'Benchmark(Trade all strategies)')"
   ]
  },
  {
   "cell_type": "code",
   "execution_count": null,
   "metadata": {
    "collapsed": false
   },
   "outputs": [],
   "source": [
    "portfolio_stats(swarm.picked_equity, 'Picked swarm with current approach')"
   ]
  },
  {
   "cell_type": "code",
   "execution_count": null,
   "metadata": {
    "collapsed": false
   },
   "outputs": [],
   "source": []
  }
 ],
 "metadata": {
  "kernelspec": {
   "display_name": "Python 3",
   "language": "python",
   "name": "python3"
  },
  "language_info": {
   "codemirror_mode": {
    "name": "ipython",
    "version": 3
   },
   "file_extension": ".py",
   "mimetype": "text/x-python",
   "name": "python",
   "nbconvert_exporter": "python",
   "pygments_lexer": "ipython3",
   "version": "3.5.2"
  }
 },
 "nbformat": 4,
 "nbformat_minor": 0
}
