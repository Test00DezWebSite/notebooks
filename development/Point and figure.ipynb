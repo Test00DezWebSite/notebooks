{
 "cells": [
  {
   "cell_type": "code",
   "execution_count": null,
   "metadata": {
    "collapsed": false
   },
   "outputs": [],
   "source": [
    "import pandas as pd\n",
    "import numpy as np\n",
    "import scipy\n",
    "\n",
    "from pandas_datareader import data, wb\n",
    "\n",
    "import sys\n",
    "sys.path.append('../..')\n",
    "from backtester import matlab, backtester\n",
    "from backtester.analysis import *\n",
    "from pandas.tseries.offsets import *"
   ]
  },
  {
   "cell_type": "code",
   "execution_count": null,
   "metadata": {
    "collapsed": false
   },
   "outputs": [],
   "source": [
    "%pylab inline\n",
    "%load_ext autoreload\n",
    "%autoreload 2"
   ]
  },
  {
   "cell_type": "code",
   "execution_count": null,
   "metadata": {
    "collapsed": false
   },
   "outputs": [],
   "source": [
    "#\n",
    "# Real ticker data\n",
    "#\n",
    "start = datetime.datetime(2006, 1, 1)\n",
    "end = datetime.datetime.now()\n",
    "\n",
    "#price_data = data.DataReader('AAPL', 'yahoo', start, end)\n",
    "#adjclose_series = price_data['Adj Close']\n",
    "#adjclose_series.name = 'close'\n",
    "\n",
    "#df = pd.DataFrame(adjclose_series)\n",
    "#\n",
    "#\n",
    "\n",
    "strategyname = 'strategy_880131'\n",
    "d, info = matlab.loaddata('../../mat/'+strategyname+'.mat')\n",
    "\n",
    "df = pd.DataFrame()\n",
    "df['close'] = d.exo\n",
    "\n",
    "box_size = 50\n",
    "\n",
    "box_start = 0\n",
    "box_start_idx = None\n",
    "\n",
    "box_end = 0\n",
    "box_quantity = 0\n",
    "\n",
    "temp_l = []\n",
    "\n",
    "column_flag = None\n",
    "\n",
    "\n",
    "reversal_multiplier = 3\n",
    "reversal_value = box_size * reversal_multiplier\n",
    "\n",
    "reversal_flag = False\n",
    "\n",
    "column_index = 0\n",
    "\n",
    "# Simple point and figure algorihtm\n",
    "\n",
    "for i in range(len(df)):\n",
    "    if box_start == 0:\n",
    "        box_start = df.close[i]\n",
    "\n",
    "    else:\n",
    "        box_start = box_start\n",
    "        price_move = df.close[i] - box_start\n",
    "\n",
    "        # First of all we need to set box size.\n",
    "        # Then calculate price movement.\n",
    "        # If price movement is more or equal than box size - renko bar(or bars) will be added\n",
    "\n",
    "        if np.abs(price_move) >= box_size:\n",
    "\n",
    "            # After we calculate box_quantity(price move divided by box size)\n",
    "            # This number defines how much pnf boxes will be registred\n",
    "            box_quantity = np.int32(np.floor(np.abs(price_move / box_size)))\n",
    "            box_date = df.close.index[i]\n",
    "\n",
    "            if column_flag == 'x' and reversal_flag == False:\n",
    "\n",
    "                # Reversal check\n",
    "                if price_move < 0 and price_move <= -reversal_value:\n",
    "                    reversal_flag = True\n",
    "                    box_start = temp_l[-1]['open']\n",
    "                    \n",
    "\n",
    "                elif price_move > 0:\n",
    "                    reversal_flag = False\n",
    "\n",
    "                    for b in range(int(box_quantity)):\n",
    "                            d = {'date': box_date, 'open': box_end, 'close': box_end + box_size,\n",
    "                                 'type': column_flag, 'column_index': column_index}\n",
    "\n",
    "                            box_end = d['close']\n",
    "                            temp_l.append(d)\n",
    "\n",
    "            if column_flag == 'o' and reversal_flag == False:\n",
    "\n",
    "                # Reversal check\n",
    "                if price_move > 0 and price_move >= reversal_value:\n",
    "                    reversal_flag = True\n",
    "                    box_start = temp_l[-1]['open']\n",
    "                    \n",
    "\n",
    "                elif price_move < 0:\n",
    "                    reversal_flag = False\n",
    "\n",
    "                    for b in range(int(box_quantity)):\n",
    "                        d = {'date': box_date, 'open': box_end, 'close': box_end - box_size,\n",
    "                             'type': column_flag, 'column_index': column_index}\n",
    "\n",
    "                        box_end = d['close']\n",
    "                        temp_l.append(d)\n",
    "\n",
    "            if column_flag == None and reversal_flag == False:\n",
    "\n",
    "                # Adding first column\n",
    "\n",
    "                if price_move > 0:\n",
    "                    column_flag = 'x'\n",
    "\n",
    "                if price_move < 0:\n",
    "                    column_flag = 'o'\n",
    "\n",
    "                for b in range(int(box_quantity)):\n",
    "                    if column_flag == 'x':\n",
    "\n",
    "                        if box_end == 0:\n",
    "                            d = {'date': box_date, 'open': box_start, 'close': box_start + box_size, 'type': column_flag,\n",
    "                                 'column_index': column_index}\n",
    "\n",
    "                            box_end = d['close']\n",
    "                            temp_l.append(d)\n",
    "\n",
    "                        else:\n",
    "                            d = {'date': box_date, 'open': box_end, 'close': box_end + box_size, 'type': column_flag,\n",
    "                                 'column_index': column_index}\n",
    "\n",
    "                            box_end = d['close']\n",
    "                            temp_l.append(d)\n",
    "\n",
    "                    if column_flag == 'o':\n",
    "\n",
    "                        if box_end == 0:\n",
    "                            d = {'date': box_date, 'open': box_start, 'close': box_start - box_size,\n",
    "                                 'type': column_flag, 'column_index': column_index}\n",
    "\n",
    "                            box_end = d['close']\n",
    "                            temp_l.append(d)\n",
    "\n",
    "                        else:\n",
    "                            d = {'date': box_date, 'open': box_end, 'close': box_end - box_size, 'type': column_flag,\n",
    "                                 'column_index': column_index}\n",
    "\n",
    "                            box_end = d['close']\n",
    "                            temp_l.append(d)\n",
    "\n",
    "            # Handling the reversals\n",
    "            if reversal_flag == True:\n",
    "                column_index += 1\n",
    "                \n",
    "                if column_flag == 'x':\n",
    "\n",
    "                    column_flag = 'o'\n",
    "\n",
    "                    for b in range(int(box_quantity)):\n",
    "                            d = {'date': box_date, 'open': box_end, 'close': box_end - box_size,\n",
    "                                 'type': column_flag, 'column_index': column_index}\n",
    "\n",
    "                            box_end = d['close']\n",
    "                            temp_l.append(d)\n",
    "\n",
    "                elif column_flag == 'o':\n",
    "\n",
    "                    column_flag = 'x'\n",
    "\n",
    "                    for b in range(int(box_quantity)):\n",
    "                        d = {'date': box_date, 'open': box_end, 'close': box_end + box_size,\n",
    "                             'type': column_flag, 'column_index': column_index}\n",
    "\n",
    "                        box_end = d['close']\n",
    "                        temp_l.append(d)\n",
    "\n",
    "                reversal_flag = False\n",
    "        try:\n",
    "            box_start = temp_l[-1]['close']\n",
    "            \n",
    "        except IndexError:\n",
    "            box_start = df.close[i]\n",
    "            \n",
    "pnf_df = pd.DataFrame(temp_l)                \n",
    "pnf_df.index = pnf_df.column_index\n",
    "\n",
    "pnf_last_column_value_df = pnf_df.groupby(pnf_df.index).last()\n",
    "pnf_first_column_value_df = pnf_df.groupby(pnf_df.index).first()"
   ]
  },
  {
   "cell_type": "code",
   "execution_count": null,
   "metadata": {
    "collapsed": false
   },
   "outputs": [],
   "source": [
    "pnf_df.close.plot()\n",
    "pnf_df.o_col_downmove_count.dropna().plot(secondary_y=True)\n",
    "pnf_df.x_col_downmove_count.dropna().plot(secondary_y=True)"
   ]
  },
  {
   "cell_type": "markdown",
   "metadata": {},
   "source": [
    "# Patterns"
   ]
  },
  {
   "cell_type": "code",
   "execution_count": null,
   "metadata": {
    "collapsed": false,
    "scrolled": false
   },
   "outputs": [],
   "source": [
    "# New x column\n",
    "\n",
    "pnf_df['new_x_col'] = (pnf_df.type == 'x') & (pnf_df.type.shift(1) == 'o')\n",
    "pnf_df['new_o_col'] = (pnf_df.type == 'o') & (pnf_df.type.shift(1) == 'x')"
   ]
  },
  {
   "cell_type": "code",
   "execution_count": null,
   "metadata": {
    "collapsed": false,
    "scrolled": false
   },
   "outputs": [],
   "source": [
    "pnf_df['tripple_top'] = pnf_last_column_value_df[pnf_last_column_value_df.type == 'x'].close == \\\n",
    "                            pnf_last_column_value_df[pnf_last_column_value_df.type == 'x'].close.shift(1)\n",
    "\n",
    "pnf_df['tripple_top'] = pnf_df['tripple_top'].fillna(False)\n",
    "\n",
    "pnf_df['tripple_top_price_level'] = pnf_df[pnf_df.tripple_top == True].groupby(pnf_df[pnf_df.tripple_top == True].index).last().close\n",
    "pnf_df['tripple_top_price_level'] = pnf_df['tripple_top_price_level'].ffill()\n",
    "\n",
    "pnf_df['tripple_top_breakout'] =((pnf_df.close == pnf_df.tripple_top_price_level) & (pnf_df.close.shift(1) < pnf_df.tripple_top_price_level) \n",
    "                                & (pnf_df.tripple_top==False))"
   ]
  },
  {
   "cell_type": "code",
   "execution_count": null,
   "metadata": {
    "collapsed": false
   },
   "outputs": [],
   "source": [
    "pnf_df['tripple_bot'] = pnf_last_column_value_df[pnf_last_column_value_df.type == 'o'].close == \\\n",
    "                            pnf_last_column_value_df[pnf_last_column_value_df.type == 'o'].close.shift(1)\n",
    "    \n",
    "pnf_df['tripple_bot'] = pnf_df['tripple_bot'].fillna(False)\n",
    "\n",
    "pnf_df['tripple_bot_price_level'] = pnf_df[pnf_df.tripple_bot == True].groupby(pnf_df[pnf_df.tripple_bot == True].index).last().close\n",
    "pnf_df['tripple_bot_price_level'] = pnf_df['tripple_bot_price_level'].ffill()\n",
    "\n",
    "pnf_df['tripple_bot_breakout'] =((pnf_df.close == pnf_df.tripple_bot_price_level) & (pnf_df.close.shift(1) > pnf_df.tripple_bot_price_level) \n",
    "                                & (pnf_df.tripple_bot==False))"
   ]
  },
  {
   "cell_type": "markdown",
   "metadata": {
    "collapsed": false,
    "scrolled": false
   },
   "source": [
    "## Removing a duplicated breakouts\n",
    "### Optional, because these breakouts can be treated as support/resistance levels breakouts"
   ]
  },
  {
   "cell_type": "code",
   "execution_count": null,
   "metadata": {
    "collapsed": false
   },
   "outputs": [],
   "source": [
    "tripple_top_breakout_dup = pnf_df[pnf_df.tripple_top_breakout == True]['tripple_top_price_level'].duplicated() \n",
    "\n",
    "pnf_df.loc[tripple_top_breakout_dup[tripple_top_breakout_dup == True].index, 'tripple_top_breakout'] = pnf_df.tripple_top_breakout.ix[\n",
    "    tripple_top_breakout_dup[tripple_top_breakout_dup == True].index].replace(True,False)\n",
    "\n",
    "tripple_bot_breakout_dup = pnf_df[pnf_df.tripple_top_breakout == True]['tripple_top_price_level'].duplicated() \n",
    "\n",
    "pnf_df.loc[tripple_bot_breakout_dup[tripple_bot_breakout_dup == True].index, 'tripple_bot_breakout'] = pnf_df.tripple_bot_breakout.ix[\n",
    "    tripple_bot_breakout_dup[tripple_bot_breakout_dup == True].index].replace(True,False)"
   ]
  },
  {
   "cell_type": "markdown",
   "metadata": {},
   "source": [
    "## Consecutive column price up/down move"
   ]
  },
  {
   "cell_type": "code",
   "execution_count": null,
   "metadata": {
    "collapsed": false
   },
   "outputs": [],
   "source": [
    "up_move_count = [0]\n",
    "up_move_counter = 0\n",
    "\n",
    "down_move_count = [0]\n",
    "down_move_counter = 0\n",
    "\n",
    "same_move_count = [0]\n",
    "same_move_counter = 0\n",
    "\n",
    "x_col_upmove = pnf_last_column_value_df[pnf_last_column_value_df.type == 'x'].close > \\\n",
    "                            pnf_last_column_value_df[pnf_last_column_value_df.type == 'x'].close.shift(1)\n",
    "    \n",
    "x_col_downmove = pnf_last_column_value_df[pnf_last_column_value_df.type == 'x'].close < \\\n",
    "                            pnf_last_column_value_df[pnf_last_column_value_df.type == 'x'].close.shift(1)\n",
    "    \n",
    "x_col_samemove = pnf_last_column_value_df[pnf_last_column_value_df.type == 'x'].close < \\\n",
    "                            pnf_last_column_value_df[pnf_last_column_value_df.type == 'x'].close.shift(1)\n",
    "    \n",
    "for i in x_col_upmove.index.unique():\n",
    "    if x_col_upmove[i] == True and x_col_upmove.shift(1)[i] == False:\n",
    "        up_move_counter = 1\n",
    "        up_move_count.append(up_move_counter)\n",
    "        \n",
    "    elif x_col_upmove[i] == True and x_col_upmove.shift(1)[i] == True:\n",
    "        up_move_counter += 1\n",
    "        up_move_count.append(up_move_counter)\n",
    "        \n",
    "    elif x_col_upmove[i] == False and x_col_upmove.shift(1)[i] == True:\n",
    "        up_move_counter = 0\n",
    "        up_move_count.append(up_move_counter)\n",
    "        \n",
    "    elif x_col_upmove[i] == False and x_col_upmove.shift(1)[i] == False:\n",
    "        up_move_counter = 0\n",
    "        up_move_count.append(up_move_counter)\n",
    "      \n",
    "    \n",
    "    \n",
    "    if x_col_downmove[i] == True and x_col_downmove.shift(1)[i] == False:\n",
    "        down_move_counter = 1\n",
    "        down_move_count.append(down_move_counter)\n",
    "        \n",
    "    elif x_col_downmove[i] == True and x_col_downmove.shift(1)[i] == True:\n",
    "        down_move_counter += 1\n",
    "        down_move_count.append(down_move_counter)\n",
    "        \n",
    "    elif x_col_downmove[i] == False and x_col_downmove.shift(1)[i] == True:\n",
    "        down_move_counter = 0\n",
    "        down_move_count.append(down_move_counter)\n",
    "        \n",
    "    elif x_col_downmove[i] == False and x_col_downmove.shift(1)[i] == False:\n",
    "        down_move_counter = 0\n",
    "        down_move_count.append(down_move_counter)  \n",
    "      \n",
    "    \n",
    "    \n",
    "    if x_col_samemove[i] == True and x_col_samemove.shift(1)[i] == False:\n",
    "        same_move_counter = 1\n",
    "        same_move_count.append(same_move_counter)\n",
    "        \n",
    "    elif x_col_samemove[i] == True and x_col_samemove.shift(1)[i] == True:\n",
    "        same_move_counter += 1\n",
    "        same_move_count.append(same_move_counter)\n",
    "        \n",
    "    elif x_col_samemove[i] == False and x_col_samemove.shift(1)[i] == True:\n",
    "        same_move_counter = 0\n",
    "        same_move_count.append(same_move_counter)\n",
    "        \n",
    "    elif x_col_samemove[i] == False and x_col_samemove.shift(1)[i] == False:\n",
    "        same_move_counter = 0\n",
    "        same_move_count.append(same_move_counter)\n",
    "        \n",
    "pnf_df['x_col_upmove_count'] = pd.Series(up_move_count, index=x_col_upmove.index)\n",
    "pnf_df['x_col_downmove_count'] = pd.Series(down_move_count, index=x_col_upmove.index)\n",
    "pnf_df['x_col_samemove_count'] = pd.Series(same_move_count, index=x_col_upmove.index)"
   ]
  },
  {
   "cell_type": "code",
   "execution_count": null,
   "metadata": {
    "collapsed": false
   },
   "outputs": [],
   "source": [
    "up_move_count = [0]\n",
    "up_move_counter = 0\n",
    "\n",
    "down_move_count = [0]\n",
    "down_move_counter = 0\n",
    "\n",
    "same_move_count = [0]\n",
    "same_move_counter = 0\n",
    "\n",
    "o_col_upmove = pnf_last_column_value_df[pnf_last_column_value_df.type == 'o'].close > \\\n",
    "                            pnf_last_column_value_df[pnf_last_column_value_df.type == 'o'].close.shift(1)\n",
    "    \n",
    "o_col_downmove = pnf_last_column_value_df[pnf_last_column_value_df.type == 'o'].close < \\\n",
    "                            pnf_last_column_value_df[pnf_last_column_value_df.type == 'o'].close.shift(1)\n",
    "    \n",
    "o_col_samemove = pnf_last_column_value_df[pnf_last_column_value_df.type == 'o'].close < \\\n",
    "                            pnf_last_column_value_df[pnf_last_column_value_df.type == 'o'].close.shift(1)\n",
    "    \n",
    "for i in o_col_upmove.index.unique():\n",
    "    if o_col_upmove[i] == True and o_col_upmove.shift(1)[i] == False:\n",
    "        up_move_counter = 1\n",
    "        up_move_count.append(up_move_counter)\n",
    "        \n",
    "    elif o_col_upmove[i] == True and o_col_upmove.shift(1)[i] == True:\n",
    "        up_move_counter += 1\n",
    "        up_move_count.append(up_move_counter)\n",
    "        \n",
    "    elif o_col_upmove[i] == False and o_col_upmove.shift(1)[i] == True:\n",
    "        up_move_counter = 0\n",
    "        up_move_count.append(up_move_counter)\n",
    "        \n",
    "    elif o_col_upmove[i] == False and o_col_upmove.shift(1)[i] == False:\n",
    "        up_move_counter = 0\n",
    "        up_move_count.append(up_move_counter)\n",
    "      \n",
    "    \n",
    "    \n",
    "    if o_col_downmove[i] == True and o_col_downmove.shift(1)[i] == False:\n",
    "        down_move_counter = 1\n",
    "        down_move_count.append(down_move_counter)\n",
    "        \n",
    "    elif o_col_downmove[i] == True and o_col_downmove.shift(1)[i] == True:\n",
    "        down_move_counter += 1\n",
    "        down_move_count.append(down_move_counter)\n",
    "        \n",
    "    elif o_col_downmove[i] == False and o_col_downmove.shift(1)[i] == True:\n",
    "        down_move_counter = 0\n",
    "        down_move_count.append(down_move_counter)\n",
    "        \n",
    "    elif o_col_downmove[i] == False and o_col_downmove.shift(1)[i] == False:\n",
    "        down_move_counter = 0\n",
    "        down_move_count.append(down_move_counter)  \n",
    "      \n",
    "    \n",
    "    \n",
    "    if o_col_samemove[i] == True and o_col_samemove.shift(1)[i] == False:\n",
    "        same_move_counter = 1\n",
    "        same_move_count.append(same_move_counter)\n",
    "        \n",
    "    elif o_col_samemove[i] == True and o_col_samemove.shift(1)[i] == True:\n",
    "        same_move_counter += 1\n",
    "        same_move_count.append(same_move_counter)\n",
    "        \n",
    "    elif o_col_samemove[i] == False and o_col_samemove.shift(1)[i] == True:\n",
    "        same_move_counter = 0\n",
    "        same_move_count.append(same_move_counter)\n",
    "        \n",
    "    elif o_col_samemove[i] == False and o_col_samemove.shift(1)[i] == False:\n",
    "        same_move_counter = 0\n",
    "        same_move_count.append(same_move_counter)\n",
    "        \n",
    "pnf_df['o_col_upmove_count'] = pd.Series(up_move_count, index=o_col_upmove.index)\n",
    "pnf_df['o_col_downmove_count'] = pd.Series(down_move_count, index=o_col_upmove.index)\n",
    "pnf_df['o_col_samemove_count'] = pd.Series(same_move_count, index=o_col_upmove.index)"
   ]
  },
  {
   "cell_type": "markdown",
   "metadata": {},
   "source": [
    "## Column box count"
   ]
  },
  {
   "cell_type": "code",
   "execution_count": null,
   "metadata": {
    "collapsed": false
   },
   "outputs": [],
   "source": [
    "for i in pnf_df.index.unique():\n",
    "    pnf_df.loc[i,'box_count'] = pnf_df.close.ix[i].count()"
   ]
  },
  {
   "cell_type": "code",
   "execution_count": null,
   "metadata": {
    "collapsed": false,
    "scrolled": false
   },
   "outputs": [],
   "source": [
    "bull_fail = ((pnf_df.box_count == reversal_multiplier) & (pnf_df.type == 'x')).groupby(((pnf_df.box_count == reversal_multiplier)\n",
    "                                                                                   & (pnf_df.type == 'x')).index).last()\n",
    "\n",
    "pnf_first_column_value_df['bullish_failure'] = (bull_fail.shift(1) == True).groupby((bull_fail.shift(1) == True).index).first()\n",
    "\n",
    "\n",
    "bear_fail = ((pnf_df.box_count == reversal_multiplier) & (pnf_df.type == 'o')).groupby(((pnf_df.box_count == reversal_multiplier)\n",
    "                                                                                   & (pnf_df.type == 'o')).index).last()\n",
    "\n",
    "pnf_first_column_value_df['bearish_failure'] = (bear_fail.shift(1) == True).groupby((bear_fail.shift(1) == True).index).first()"
   ]
  },
  {
   "cell_type": "code",
   "execution_count": null,
   "metadata": {
    "collapsed": false,
    "scrolled": false
   },
   "outputs": [],
   "source": [
    "pnf_df.close.plot()\n",
    "pnf_df.box_count.plot(secondary_y=True)\n",
    "pnf_df.box_count.rolling(len(pnf_last_column_value_df.close) * 0.25).mean().plot(secondary_y=True)"
   ]
  },
  {
   "cell_type": "markdown",
   "metadata": {},
   "source": [
    "## Projection count"
   ]
  },
  {
   "cell_type": "code",
   "execution_count": null,
   "metadata": {
    "collapsed": false
   },
   "outputs": [],
   "source": [
    "pnf_df['pc_low'] = pnf_last_column_value_df.close == pnf_last_column_value_df.close.rolling(len(pnf_last_column_value_df.close) * 0.05).min()\n",
    "\n",
    "pnf_df['pc_low_lastprice'] = pnf_last_column_value_df[pnf_last_column_value_df.close == \n",
    "                                                      pnf_last_column_value_df.close.rolling(len(pnf_last_column_value_df.close) * 0.05).min()].close\n",
    "\n",
    "pnf_df['pc_low_lastprice'] = pnf_df['pc_low_lastprice'].ffill()\n",
    "\n",
    "pnf_df['pc_low_boxcount'] = np.zeros_like(pnf_df.index)\n",
    "\n",
    "\n",
    "for i in pnf_df[(pnf_df.pc_low == False) & (pnf_df.pc_low.shift(1) == True)].index.unique():\n",
    "    pnf_df.loc[i,'pc_low_boxcount'] = pnf_df.ix[i].close.count()\n",
    "\n",
    "pnf_df['pc_low_entry'] = (pnf_df.pc_low_boxcount.shift(1) != 0) & (pnf_df.pc_low_boxcount == 0) & (pnf_df.pc_low != True) & \\\n",
    "                            (pnf_df.index != 0)\n",
    "\n",
    "for i in pnf_df[(pnf_df.pc_low_boxcount != 0)].index.unique():\n",
    "    pnf_df.loc[i,'pc_low_profittarget'] = (box_size * reversal_multiplier * pnf_df.pc_low_boxcount.ix[i]) + pnf_df.pc_low_lastprice.ix[i] \n",
    "    \n",
    "pnf_df['pc_low_profittarget'] = pnf_df['pc_low_profittarget'].ffill()"
   ]
  },
  {
   "cell_type": "code",
   "execution_count": null,
   "metadata": {
    "collapsed": false
   },
   "outputs": [],
   "source": [
    "pnf_df['pc_high'] = pnf_last_column_value_df.close == pnf_last_column_value_df.close.rolling(len(pnf_last_column_value_df.close) * 0.05).max()\n",
    "\n",
    "pnf_df['pc_high_lastprice'] = pnf_last_column_value_df[pnf_last_column_value_df.close == \n",
    "                                                      pnf_last_column_value_df.close.rolling(len(pnf_last_column_value_df.close) * 0.05).max()].close\n",
    "\n",
    "pnf_df['pc_high_lastprice'] = pnf_df['pc_high_lastprice'].ffill()\n",
    "\n",
    "pnf_df['pc_high_boxcount'] = np.zeros_like(pnf_df.index)\n",
    "\n",
    "\n",
    "for i in pnf_df[(pnf_df.pc_high == False) & (pnf_df.pc_high.shift(1) == True)].index.unique():\n",
    "    pnf_df.loc[i,'pc_high_boxcount'] = pnf_df.ix[i].close.count()\n",
    "\n",
    "pnf_df['pc_high_entry'] = (pnf_df.pc_high_boxcount.shift(1) != 0) & (pnf_df.pc_high_boxcount == 0) & (pnf_df.pc_high != True) & \\\n",
    "                            (pnf_df.index != 0)\n",
    "\n",
    "\n",
    "for i in pnf_df[(pnf_df.pc_high_boxcount != 0)].index.unique():\n",
    "    pnf_df.loc[i,'pc_high_profittarget'] =  pnf_df.pc_high_lastprice.ix[i] - (box_size * reversal_multiplier * pnf_df.pc_high_boxcount.ix[i]) \n",
    "    \n",
    "pnf_df['pc_high_profittarget'] = pnf_df['pc_high_profittarget'].ffill()"
   ]
  },
  {
   "cell_type": "markdown",
   "metadata": {},
   "source": [
    "## Local high/low"
   ]
  },
  {
   "cell_type": "code",
   "execution_count": null,
   "metadata": {
    "collapsed": false
   },
   "outputs": [],
   "source": [
    "pnf_first_column_value_df['local_high'] = (pnf_last_column_value_df.close == pnf_last_column_value_df.close.rolling(len(\n",
    "                                            pnf_last_column_value_df.close) * 0.05).max()).shift(1) == True\n",
    "\n",
    "\n",
    "pnf_first_column_value_df['local_low'] = (pnf_last_column_value_df.close == pnf_last_column_value_df.close.rolling(\n",
    "                                            len(pnf_last_column_value_df.close) * 0.05).min()).shift(1) == True"
   ]
  },
  {
   "cell_type": "code",
   "execution_count": null,
   "metadata": {
    "collapsed": false,
    "scrolled": false
   },
   "outputs": [],
   "source": [
    "pnf_first_column_value_df"
   ]
  },
  {
   "cell_type": "code",
   "execution_count": null,
   "metadata": {
    "collapsed": false
   },
   "outputs": [],
   "source": [
    "figsize(20,10)\n",
    "\n",
    "pnf_df.close.plot()\n",
    "#pnf_df.local_high.plot(secondary_y=True)\n",
    "#pnf_df.box_count.rolling(len(pnf_last_column_value_df.close) * 0.5).mean().plot(secondary_y=True)\n",
    "\n",
    "pnf_last_column_value_df[(pnf_last_column_value_df.close == pnf_last_column_value_df.close.rolling(len(pnf_last_column_value_df.close) * 0.01).max()\n",
    "                         ) == True].close.plot()\n",
    "\n",
    "((pnf_last_column_value_df.close == pnf_last_column_value_df.close.rolling(len(pnf_last_column_value_df.close) * 0.01).max()) == True).plot(secondary_y=True)"
   ]
  },
  {
   "cell_type": "code",
   "execution_count": null,
   "metadata": {
    "collapsed": false
   },
   "outputs": [],
   "source": [
    "pnf_df[pnf_df.local_high == True]"
   ]
  },
  {
   "cell_type": "code",
   "execution_count": null,
   "metadata": {
    "collapsed": false
   },
   "outputs": [],
   "source": [
    "pnf_df.close.plot()\n",
    "pnf_df.pc_high_entry.plot(secondary_y=True)\n",
    "pnf_df.pc_high_profittarget.plot()"
   ]
  },
  {
   "cell_type": "code",
   "execution_count": null,
   "metadata": {
    "collapsed": false,
    "scrolled": false
   },
   "outputs": [],
   "source": [
    "pnf_first_column_value_df"
   ]
  },
  {
   "cell_type": "code",
   "execution_count": null,
   "metadata": {
    "collapsed": false,
    "scrolled": false
   },
   "outputs": [],
   "source": [
    "d, info = matlab.loaddata('../../mat/'+strategyname+'.mat')\n",
    "\n",
    "ddd = d.join(pnf_df.set_index('date')[['new_x_col', 'new_o_col', 'tripple_bot_breakout', 'tripple_top_breakout']])\n",
    "ddd = ddd.join(pnf_first_column_value_df.set_index('date')[['bearish_failure', 'bearish_failure', 'local_high', 'local_low']])"
   ]
  },
  {
   "cell_type": "code",
   "execution_count": null,
   "metadata": {
    "collapsed": false,
    "scrolled": false
   },
   "outputs": [],
   "source": [
    "ddd.local_low == True"
   ]
  },
  {
   "cell_type": "code",
   "execution_count": null,
   "metadata": {
    "collapsed": false
   },
   "outputs": [],
   "source": [
    "ddd.exo.ix['2016-04-15':'2016-04-30'].plot()"
   ]
  },
  {
   "cell_type": "code",
   "execution_count": null,
   "metadata": {
    "collapsed": false,
    "scrolled": false
   },
   "outputs": [],
   "source": [
    "var = pnf_df[(pnf_df.close == pnf_df.close.rolling(len(pnf_df.close) * 0.01).min()) == True]\n",
    "#var.index.unique()\n",
    "\n",
    "#var = pnf_df[(pnf_df.close == pnf_df.close.expanding().max()) == True]\n",
    "\n",
    "for i in var.index.unique():\n",
    "    \n",
    "    if i > 0:\n",
    "                  \n",
    "        pnf_df['test_trendline_'+str(i)] = np.array([np.NaN] * len(pnf_df.index))\n",
    "        pnf_df.loc[i-1, 'test_trendline_'+str(i)] = pnf_df.close[i-1]\n",
    "\n",
    "        pnf_df.loc[i, 'test_trendline_'+str(i)] = pnf_first_column_value_df.close[i]\n",
    "\n",
    "        pnf_df['test_trendline_'+str(i)] = pnf_df['test_trendline_'+str(i)].groupby(\n",
    "            pnf_df['test_trendline_'+str(i)].index).last().interpolate('barycentric')"
   ]
  },
  {
   "cell_type": "code",
   "execution_count": null,
   "metadata": {
    "collapsed": false,
    "scrolled": false
   },
   "outputs": [],
   "source": [
    "figsize(20,10)\n",
    "\n",
    "pnf_first_column_value_df[pnf_first_column_value_df.type == 'o'].close.expanding().max().plot(legend=False)\n",
    "\n",
    "pnf_first_column_value_df[pnf_first_column_value_df.type == 'o'].close.plot(legend=False)"
   ]
  },
  {
   "cell_type": "code",
   "execution_count": null,
   "metadata": {
    "collapsed": false,
    "scrolled": false
   },
   "outputs": [],
   "source": [
    "pnf_df[(pnf_df.date > '2015-12-31') & (pnf_df.date < '2016-12-31')]"
   ]
  },
  {
   "cell_type": "code",
   "execution_count": null,
   "metadata": {
    "collapsed": false
   },
   "outputs": [],
   "source": [
    "close_prices_occurance = pnf_last_column_value_df.close.groupby(pnf_last_column_value_df.close).count()\n",
    "close_prices_occurance[close_prices_occurance == 4]"
   ]
  },
  {
   "cell_type": "code",
   "execution_count": null,
   "metadata": {
    "collapsed": false
   },
   "outputs": [],
   "source": [
    "pnf_df.close.plot()\n",
    "\n",
    "axhline(-1786.8125)\n",
    "#axhline(-146.5625)\n",
    "#axhline(207.434017)\n",
    "#axhline(-4920.0)"
   ]
  },
  {
   "cell_type": "code",
   "execution_count": null,
   "metadata": {
    "collapsed": false
   },
   "outputs": [],
   "source": [
    "pnf_df.close.plot()\n",
    "#(pnf_df.close.rolling(len(pnf_df.close) * 0.05).min()).plot(secondary_y=True)\n",
    "#pnf_df[(pnf_df.date > '2014-12-31') & (pnf_df.date < '2015-12-31')].close.expanding(min_periods=10).max().plot()\n",
    "#(pnf_df.close == pnf_df[(pnf_df.date > '2014-12-31') & (pnf_df.date < '2015-12-31')].close.max()).plot(secondary_y=True)\n",
    "#(pnf_first_column_value_df.close.expanding(min_periods=10).min()).plot()\n",
    "pnf_df['px_low'].plot(secondary_y=True)"
   ]
  },
  {
   "cell_type": "code",
   "execution_count": null,
   "metadata": {
    "collapsed": false,
    "scrolled": false
   },
   "outputs": [],
   "source": [
    "pnf_df[pnf_df.close == pnf_df.close.max()]"
   ]
  },
  {
   "cell_type": "code",
   "execution_count": null,
   "metadata": {
    "collapsed": false,
    "scrolled": false
   },
   "outputs": [],
   "source": [
    "i=18\n",
    "\n",
    "pnf_df['test_trendline'+str(i)] = np.array([np.NaN] * len(pnf_df.index))\n",
    "pnf_df.loc[i-1, 'test_trendline'+str(i)] = pnf_df.close[i-1]\n",
    "pnf_df.loc[i, 'test_trendline'+str(i)] = pnf_first_column_value_df.close[i]\n",
    "\n",
    "pnf_df['test_trendline'+str(i)] = pnf_df['test_trendline'+str(i)].groupby(\n",
    "    pnf_df['test_trendline'+str(i)].index).last().interpolate('barycentric')\n",
    "\n",
    "#pnf_df.drop(['open', 'column_index'],1).plot(ylim=[30,220])\n",
    "#(pnf_df.close == pnf_df.close.rolling(len(pnf_df.close) * 0.05).max()).plot(secondary_y=True)7\n",
    "(pnf_df['test_trendline'+str(i)]).plot()\n",
    "(pnf_df.close).plot()"
   ]
  },
  {
   "cell_type": "code",
   "execution_count": null,
   "metadata": {
    "collapsed": false
   },
   "outputs": [],
   "source": [
    "import plotly.plotly as py\n",
    "import plotly.graph_objs as go\n",
    "\n",
    "# Create random data with numpy\n",
    "import numpy as np\n",
    "\n",
    "py.sign_in('tmqr', '8rctfyu197')\n",
    "\n",
    "\n",
    "trace1 = go.Scatter(\n",
    "    x = pnf_df[pnf_df.type == 'o'].index,\n",
    "    y = pnf_df[pnf_df.type == 'o'].close,\n",
    "    name='Down',\n",
    "    mode = 'markers',\n",
    "    marker = dict(symbol=\"o\", size=5, color = 'rgba(255, 0, 0, 0.9)'),\n",
    "    text = pnf_df[pnf_df.type == 'o'].date\n",
    ")\n",
    "\n",
    "trace2 = go.Scatter(\n",
    "    x = pnf_df[pnf_df.type == 'x'].index,\n",
    "    y = pnf_df[pnf_df.type == 'x'].close,\n",
    "    name = 'Up',\n",
    "    mode = 'markers',\n",
    "    marker = dict(symbol=\"x\", size=5, color = 'rgba(0, 255, 0, 0.9)'),\n",
    "    text = pnf_df[pnf_df.type == 'x'].date\n",
    "    ) \n",
    "\n",
    "xo = [trace1, trace2]\n",
    "\n",
    "layout = go.Layout(\n",
    "    title=\"Point And Figure\",\n",
    "    xaxis=dict( autotick=True, autorange=True\n",
    "        )\n",
    "    )\n",
    "fig = go.Figure(data=xo, layout=layout)\n",
    "# Plot and embed in ipython notebook!\n",
    "py.iplot(fig, filename='basic-scatter')"
   ]
  },
  {
   "cell_type": "code",
   "execution_count": null,
   "metadata": {
    "collapsed": false
   },
   "outputs": [],
   "source": [
    "trace = go.Scatter(\n",
    "    x = df.index,\n",
    "    y = df.close\n",
    ")\n",
    "\n",
    "data = [trace]\n",
    "\n",
    "# Plot and embed in ipython notebook!\n",
    "py.iplot(data, filename='basic-line')"
   ]
  },
  {
   "cell_type": "code",
   "execution_count": null,
   "metadata": {
    "collapsed": false
   },
   "outputs": [],
   "source": [
    "pnf_df.ix[27]"
   ]
  },
  {
   "cell_type": "code",
   "execution_count": null,
   "metadata": {
    "collapsed": false
   },
   "outputs": [],
   "source": [
    "9"
   ]
  },
  {
   "cell_type": "code",
   "execution_count": null,
   "metadata": {
    "collapsed": false
   },
   "outputs": [],
   "source": [
    "34+23"
   ]
  },
  {
   "cell_type": "code",
   "execution_count": null,
   "metadata": {
    "collapsed": false
   },
   "outputs": [],
   "source": []
  }
 ],
 "metadata": {
  "kernelspec": {
   "display_name": "Python 3",
   "language": "python",
   "name": "python3"
  },
  "language_info": {
   "codemirror_mode": {
    "name": "ipython",
    "version": 3
   },
   "file_extension": ".py",
   "mimetype": "text/x-python",
   "name": "python",
   "nbconvert_exporter": "python",
   "pygments_lexer": "ipython3",
   "version": "3.5.1"
  }
 },
 "nbformat": 4,
 "nbformat_minor": 0
}
