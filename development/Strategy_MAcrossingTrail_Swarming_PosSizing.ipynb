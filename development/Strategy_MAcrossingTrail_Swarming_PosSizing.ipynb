{
 "cells": [
  {
   "cell_type": "code",
   "execution_count": null,
   "metadata": {
    "collapsed": false
   },
   "outputs": [],
   "source": [
    "import sys,os\n",
    "sys.path.append('..')\n",
    "from backtester import matlab, backtester\n",
    "from backtester.analysis import *\n",
    "from backtester.strategy import StrategyBase, OptParam\n",
    "from backtester.swarms import SwarmManager, SwarmRanker\n",
    "\n",
    "import pandas as pd\n",
    "import numpy as np\n",
    "import scipy"
   ]
  },
  {
   "cell_type": "code",
   "execution_count": null,
   "metadata": {
    "collapsed": false
   },
   "outputs": [],
   "source": [
    "%pylab inline\n",
    "%load_ext autoreload\n",
    "%autoreload 2"
   ]
  },
  {
   "cell_type": "code",
   "execution_count": null,
   "metadata": {
    "collapsed": false
   },
   "outputs": [],
   "source": [
    "strategyname = 'strategy_880131'\n",
    "d, info = matlab.loaddata('../mat/'+strategyname+'.mat')"
   ]
  },
  {
   "cell_type": "code",
   "execution_count": null,
   "metadata": {
    "collapsed": false
   },
   "outputs": [],
   "source": [
    "d.plot()"
   ]
  },
  {
   "cell_type": "code",
   "execution_count": null,
   "metadata": {
    "collapsed": false
   },
   "outputs": [],
   "source": [
    "info"
   ]
  },
  {
   "cell_type": "markdown",
   "metadata": {},
   "source": [
    "# Class based strategy\n",
    "\n",
    "* Enter short when fast MA crosses down slow MA\n",
    "* Exit when fast MA crosses up slow MA + median trailing stop\n"
   ]
  },
  {
   "cell_type": "code",
   "execution_count": null,
   "metadata": {
    "collapsed": false
   },
   "outputs": [],
   "source": [
    "class StrategyMACrossTrail(StrategyBase):\n",
    "    def __init__(self):\n",
    "        # Initialize parent class\n",
    "        super().__init__()\n",
    "        \n",
    "        # Define system's name\n",
    "        self.name = 'MA Crossing with trailing stop'\n",
    "        \n",
    "        # This is a short strategy\n",
    "        self.direction = 1\n",
    "        \n",
    "        # Define optimized params\n",
    "        self.opts = [\n",
    "            #OptParam(name, default_value, min_value, max_value, step)\n",
    "            OptParam('SlowMAPeriod', 20, 10, 30, 2),\n",
    "            OptParam('FastMAPeriod', 2, 2, 20, 1),\n",
    "            OptParam('MedianPeriod', 5, 5, 20, 3)\n",
    "        ]\n",
    "        \n",
    "        self.initialize()\n",
    "        \n",
    "    def initialize(self):\n",
    "        #\n",
    "        #  Loading EXO quotes from .mat file\n",
    "        #\n",
    "        strategyname = 'strategy_880131'\n",
    "        self.data, info = matlab.loaddata('../mat/'+strategyname+'.mat')\n",
    "        \n",
    "        #\n",
    "        # Estimating transaction costs in base points of price\n",
    "        #\n",
    "        \n",
    "        # No costs\n",
    "        self.costs = pd.Series(0, self.data.index)\n",
    "        \n",
    "        # Flat costs / 1 point of EXO price per side / 2 roundtrip\n",
    "        #self.costs = pd.Series(1, self.data.index)\n",
    "        \n",
    "        # Dynamic costs (we could utilize dynamic costs models)\n",
    "        #  Like slippage calculation on bid/ask data / etc\n",
    "        # Some meta code (just in my imagination)\n",
    "        # costmanager = CostManager('EXO.Ticker').LoadSlippageFromDB('2000-01-01', now)\n",
    "        # self.costs = costmanager.getslippage() + pd.Series(0.1, self.data.index) # Slippage + commission\n",
    "        \n",
    "    @property\n",
    "    def positionsize(self):\n",
    "        \"\"\"\n",
    "        Returns volatility adjuster positions size for strategy\n",
    "        :return:\n",
    "        \"\"\"\n",
    "        # Defining EXO price\n",
    "        px = self.data.exo\n",
    "\n",
    "        # Calculate position size adjusted to volatility of EXO\n",
    "        # Dollar risk per 1 volatility unit\n",
    "        risk_perunit = 100\n",
    "        risk_vola_period = 60\n",
    "\n",
    "        # Calculate volatility unit\n",
    "        # In this case we use 10-period rolling median of EXO changes\n",
    "        vola = abs(px.diff()).rolling(risk_vola_period).median()\n",
    "        # We want to risk 100$ per 1 volatility unit\n",
    "        #\n",
    "        # This type of position sizing used for calibration of swarm members\n",
    "        # After swarm generation and picking we will use portfolio based MM by Van Tharp\n",
    "        # Tailored for portfolio size and risks of particular client\n",
    "        return risk_perunit / vola\n",
    "    \n",
    "    def calculate(self, params=None):\n",
    "        #        \n",
    "        #\n",
    "        #  Params is a tripple like (50, 10, 15), where:\n",
    "        #   50 - slow MA period\n",
    "        #   10 - fast MA period\n",
    "        #   15 - median period\n",
    "        #\n",
    "        #  On every iteration of swarming algorithm, parameter set will be different.\n",
    "        #  For more information look inside: /notebooks/tmp/Swarming engine research.ipynb\n",
    "        #       \n",
    "        \n",
    "        if params is None:\n",
    "            # Return default parameters\n",
    "            period_slow, period_fast, period_median = self.default_opts()\n",
    "        else:\n",
    "            # Unpacking optimization params\n",
    "            #  in order in self.opts definition\n",
    "            period_slow, period_fast, period_median = params\n",
    "        \n",
    "        # Defining EXO price\n",
    "        px = self.data.exo\n",
    "        \n",
    "        #\n",
    "        #\n",
    "        # Indicator calculation\n",
    "        #\n",
    "        #\n",
    "        slow_ma = px.rolling(period_slow).mean()\n",
    "        fast_ma = px.rolling(period_fast).mean()\n",
    "        # Median based trailing stop\n",
    "        trailing_stop = px.rolling(period_median).median().shift(1)        \n",
    "    \n",
    "        # Enry/exit rules\n",
    "        entry_rule = CrossDown(fast_ma, slow_ma)\n",
    "        exit_rule = (CrossUp(fast_ma, slow_ma) ) | (CrossUp(px, trailing_stop))\n",
    "        \n",
    "        # Swarm_member_name must be *unique* for every swarm member\n",
    "        # We use params values for uniqueness \n",
    "        swarm_member_name = str((period_slow, period_fast, period_median))        \n",
    "        \n",
    "        return swarm_member_name, entry_rule, exit_rule\n",
    "        "
   ]
  },
  {
   "cell_type": "markdown",
   "metadata": {},
   "source": [
    "<h1>Backtest results</h2>"
   ]
  },
  {
   "cell_type": "code",
   "execution_count": null,
   "metadata": {
    "collapsed": false
   },
   "outputs": [],
   "source": [
    "# Initiate the strategy\n",
    "\n",
    "strategy = StrategyMACrossTrail()"
   ]
  },
  {
   "cell_type": "code",
   "execution_count": null,
   "metadata": {
    "collapsed": false,
    "scrolled": false
   },
   "outputs": [],
   "source": [
    "# Running all parameters permutations in swarm\n",
    "swarm, swarm_stats, swarm_inposition = strategy.run_swarm()"
   ]
  },
  {
   "cell_type": "code",
   "execution_count": null,
   "metadata": {
    "collapsed": false
   },
   "outputs": [],
   "source": [
    "# Saving swarm for future use\n",
    "swarm.to_hdf('../swarms/macross_trailing.h5', 'swarm')"
   ]
  },
  {
   "cell_type": "markdown",
   "metadata": {
    "collapsed": false
   },
   "source": [
    "# Analyze the swarm"
   ]
  },
  {
   "cell_type": "code",
   "execution_count": null,
   "metadata": {
    "collapsed": false
   },
   "outputs": [],
   "source": [
    "swarm = pd.read_hdf('../swarms/macross_trailing.h5', 'swarm')"
   ]
  },
  {
   "cell_type": "markdown",
   "metadata": {},
   "source": [
    "### Exploriong swarm bounds"
   ]
  },
  {
   "cell_type": "code",
   "execution_count": null,
   "metadata": {
    "collapsed": false
   },
   "outputs": [],
   "source": [
    "figsize(15,10)\n",
    "title(strategy.name)\n",
    "swarm.apply(lambda x: np.percentile(x, q=95), axis=1).plot(label='Top 5%', c='g')\n",
    "swarm.apply(lambda x: np.percentile(x, q=66), axis=1).plot(label='Top 66%', c='g', style='k--')\n",
    "swarm.apply(np.median, axis=1).plot(label='Median member')\n",
    "swarm.apply(lambda x: np.percentile(x, q=33), axis=1).plot(label='Bottom 33%', c='r', style='k--')\n",
    "swarm.apply(lambda x: np.percentile(x, q=5), axis=1).plot(label='Bottom 5%', c='r')\n",
    "\n",
    "legend(loc=2);"
   ]
  },
  {
   "cell_type": "markdown",
   "metadata": {},
   "source": [
    "## Picking the swarm members and compose a portfolio\n"
   ]
  },
  {
   "cell_type": "code",
   "execution_count": null,
   "metadata": {
    "collapsed": false
   },
   "outputs": [],
   "source": [
    "# Swarm Manager context (settings)\n",
    "context = {\n",
    "    'nsystems': 5, # Number of swarm members to pick\n",
    "}\n",
    "\n",
    "# Rebalance the swarm every Monday\n",
    "rebalance_time = swarm.index.dayofweek == 0\n",
    "# We can use smart rebalancing logics (like event driven logics)\n",
    "# rebalance_time = (5 days before contracts expiration)\n",
    "# rebalance_time = (rebalance if something changed in EXO behavior)\n",
    "# rebalance_time = (picked systems has shown degradation)\n",
    "\n",
    "\n",
    "#\n",
    "# Swarm ranking algorithm setup\n",
    "#\n",
    "\n",
    "# Rank systems by 14 days returns of equity\n",
    "# FYI: ranking_func must me assigned without () at the end of line!\n",
    "ranking_func =  SwarmRanker.highestreturns_14days\n",
    "# ranking_func = (any ranking logics we want!)\n",
    "# ranfing_func = (pick members with the best sharpe ratio)\n",
    "# ranfing_func = (pick most stable members all time)\n",
    "# ranfing_func = (pick most profitables members, which is currently in drawdown)\n"
   ]
  },
  {
   "cell_type": "markdown",
   "metadata": {},
   "source": [
    "### Setting up SwarmManager"
   ]
  },
  {
   "cell_type": "code",
   "execution_count": null,
   "metadata": {
    "collapsed": false
   },
   "outputs": [],
   "source": [
    "swarm_manager = SwarmManager(rebalancetime=rebalance_time,    # Every week\n",
    "                             rankerfunc=ranking_func,         # Rank - 14 days returns\n",
    "                             context=context,                 # Backtester settings / params\n",
    "                            )"
   ]
  },
  {
   "cell_type": "code",
   "execution_count": null,
   "metadata": {
    "collapsed": false
   },
   "outputs": [],
   "source": [
    "# Getting average swarm member equity\n",
    "avg_swarm = SwarmManager.get_average_swarm(swarm)"
   ]
  },
  {
   "cell_type": "markdown",
   "metadata": {},
   "source": [
    "### Swarm global filtering algorithms\n",
    "\n"
   ]
  },
  {
   "cell_type": "code",
   "execution_count": null,
   "metadata": {
    "collapsed": false
   },
   "outputs": [],
   "source": [
    "#\n",
    "# We can analyse avg_swarm equity or apply EXO based logics, everything we want\n",
    "#\n",
    "\n",
    "global_filter = None\n",
    "\n",
    "# Simple logic: trade if avg_swarm equity greater then moving_average(100)\n",
    "global_filter = avg_swarm < avg_swarm.rolling(100).mean()\n",
    "\n",
    "# For example\n",
    "# global_filter = (swing point global filter)\n",
    "# global_filter = (global volatility index (like VIX, for each asset) filter)\n"
   ]
  },
  {
   "cell_type": "markdown",
   "metadata": {},
   "source": [
    "### Swarm picking without global filter"
   ]
  },
  {
   "cell_type": "code",
   "execution_count": null,
   "metadata": {
    "collapsed": false
   },
   "outputs": [],
   "source": [
    "eq_changes = swarm.diff()\n",
    "\n",
    "\n",
    "is_picked_df = swarm_manager.backtest(swarm)\n",
    "avg_picked_equity = eq_changes[is_picked_df == 1.0].mean(axis=1).cumsum().ffill()\n",
    "avg_all_equity = eq_changes.mean(axis=1).cumsum()\n",
    "\n",
    "\n",
    "avg_all_equity.plot(label='Avg Swarm equity');\n",
    "\n",
    "swarm.apply(lambda x: np.percentile(x, q=95), axis=1).plot(label='Top 5%', c='g')\n",
    "swarm.apply(lambda x: np.percentile(x, q=66), axis=1).plot(label='Top 66%', c='g', style='k--')\n",
    "\n",
    "avg_picked_equity.plot(label='Picked Swarm equity', c='black',linewidth=2)\n",
    "title('Average swarm member equity');\n",
    "legend(loc=2)"
   ]
  },
  {
   "cell_type": "markdown",
   "metadata": {},
   "source": [
    "### Comparing of swarms w/without global filter"
   ]
  },
  {
   "cell_type": "code",
   "execution_count": null,
   "metadata": {
    "collapsed": false
   },
   "outputs": [],
   "source": [
    "eq_changes = swarm.diff()\n",
    "\n",
    "\n",
    "is_picked_df_no_filter = swarm_manager.backtest(swarm)\n",
    "is_picked_df_with_filter = swarm_manager.backtest(swarm, global_filter)\n",
    "\n",
    "avg_picked_equity_no_filter = eq_changes[is_picked_df_no_filter == 1.0].mean(axis=1).cumsum().ffill()\n",
    "avg_picked_equity_with_filter = eq_changes[is_picked_df_with_filter == 1.0].mean(axis=1).cumsum().ffill()\n",
    "\n",
    "avg_all_equity = avg_swarm\n",
    "\n",
    "\n",
    "avg_all_equity.plot(label='Avg Swarm equity');\n",
    "avg_picked_equity_no_filter.plot(label='Picked Swarm equity NO Filter')\n",
    "avg_picked_equity_with_filter.plot(label='Picked Swarm equity WITH Filter')\n",
    "avg_swarm.rolling(100).mean().plot(label='Avg Swarm MovingAvg filter')\n",
    "title('Average swarm member equity');\n",
    "legend(loc=2)"
   ]
  },
  {
   "cell_type": "markdown",
   "metadata": {
    "collapsed": false
   },
   "source": [
    "# Money Management and Position sizing reasoning"
   ]
  },
  {
   "cell_type": "markdown",
   "metadata": {},
   "source": [
    "Let we have 100k USD in account, we are ready to risk about 10% of our cash. \n",
    "We should be able to construct portfolio of swarm members which is meets risk constraints.\n",
    "My envision for such kind work flow:\n",
    "1.\tWe should backtest portfolio of swarm members \n",
    "2.\tLet our R is 1000 USD per 1 volatility unit, to meet risk constraints of 10% of cash we should apply some additional factor Rf (Risk-factor)\n",
    "3.\tWe should to do Monte-Carlo simulations to estimate true/fair risk of particular EXO, to know how our swarm portfolio estimates fair risk with its MAE and drawdown. Let simulation estimates fair risk as 20R. That means that generic trading system in our framework potentially will have risk 20R or 20 000 USD.\n",
    "4.\tAt next we should calculate Rf =  [Acceptable risk] /  [Fair EXO risk] = 100 000 * 10%  /  20 000 = 0.5 . Rf equal to 0.5 means that we have to open 0.5 of our volatility adjusted size to meet 10% risk constraints.\n",
    "5.\tWhen we get some profit, for example 10% or 10 000 USD we should increase our size to reinvest the profit, all what we should do is to increase Rf on 10%. New Rf should become 0.55 of our volatility adjusted size. The point is in increasing of Rf when gaining profits and deceasing Rf when we have a losses.\n"
   ]
  },
  {
   "cell_type": "markdown",
   "metadata": {},
   "source": [
    "### Money management is not necessary at this stage by design"
   ]
  },
  {
   "cell_type": "markdown",
   "metadata": {},
   "source": [
    "#### The main reasons"
   ]
  },
  {
   "cell_type": "markdown",
   "metadata": {},
   "source": [
    "*\tEach client’s portfolio can contain many alpha style swarms and EXOs\n",
    "*\tEach client’s portfolio has a different size and risk profile\n",
    "*\tTo know size of particular position we should know the risk, to know the risk we should do a backtest, to do a backtest (with Money Management) we should know position size (this is a vicious circle)\n",
    "*\tIt is not convenient to compare different backtest results with each other\n"
   ]
  },
  {
   "cell_type": "markdown",
   "metadata": {},
   "source": [
    "### The solution"
   ]
  },
  {
   "cell_type": "markdown",
   "metadata": {},
   "source": [
    "We should create another layer which manages portfolios and calculates position size (i.e. Rf (risk-factor) for each portfolio."
   ]
  },
  {
   "cell_type": "markdown",
   "metadata": {
    "collapsed": false
   },
   "source": [
    "# Generate different starting capital based alpha that demonstrate position sizing effects"
   ]
  },
  {
   "cell_type": "markdown",
   "metadata": {},
   "source": [
    "### I assume that EXO dollar point values equal to 10.0 USD"
   ]
  },
  {
   "cell_type": "code",
   "execution_count": null,
   "metadata": {
    "collapsed": false
   },
   "outputs": [],
   "source": [
    "#\n",
    "# Let EXO dollar point values equal to 10.0 USD\n",
    "#\n",
    "point_value = 10.0\n",
    "\n",
    "#\n",
    "# Let default R=100.0 per vola\n",
    "#\n",
    "base_pos_size = strategy.positionsize\n",
    "\n",
    "#\n",
    "# Let portfolio 100 000\n",
    "#\n",
    "portfolio_size = 100000\n",
    "\n",
    "#\n",
    "# Let acceptable risk is 10%\n",
    "#\n",
    "portfolio_risk = 0.1\n",
    "\n",
    "#\n",
    "# Let the expected Max DrawDown for this type of swarm is 3000\n",
    "#   (based on MC simulations)\n",
    "#\n",
    "expected_dd = 3000"
   ]
  },
  {
   "cell_type": "markdown",
   "metadata": {},
   "source": [
    "## Calculate Rf (Risk-factor) to fit risk constraints"
   ]
  },
  {
   "cell_type": "code",
   "execution_count": null,
   "metadata": {
    "collapsed": false
   },
   "outputs": [],
   "source": [
    "Rf = (portfolio_size * portfolio_risk ) / expected_dd / point_value"
   ]
  },
  {
   "cell_type": "code",
   "execution_count": null,
   "metadata": {
    "collapsed": false
   },
   "outputs": [],
   "source": [
    "Rf"
   ]
  },
  {
   "cell_type": "markdown",
   "metadata": {},
   "source": [
    "## Applying Rf and calculating rounded position size"
   ]
  },
  {
   "cell_type": "code",
   "execution_count": null,
   "metadata": {
    "collapsed": false
   },
   "outputs": [],
   "source": [
    "true_pos_size = (strategy.positionsize * Rf).round()"
   ]
  },
  {
   "cell_type": "code",
   "execution_count": null,
   "metadata": {
    "collapsed": false
   },
   "outputs": [],
   "source": [
    "true_pos_size.plot()"
   ]
  },
  {
   "cell_type": "code",
   "execution_count": null,
   "metadata": {
    "collapsed": false
   },
   "outputs": [],
   "source": [
    "true_pos_size.describe()"
   ]
  },
  {
   "cell_type": "code",
   "execution_count": null,
   "metadata": {
    "collapsed": false
   },
   "outputs": [],
   "source": [
    "sizes = [100000, 200000, 300000, 500000]\n",
    "\n",
    "print(\"Position size estimation\\n\\n\")\n",
    "\n",
    "for s in sizes:\n",
    "    _Rf = (s * portfolio_risk ) / expected_dd / point_value\n",
    "    _true_pos_size = (strategy.positionsize * _Rf).round()\n",
    "    \n",
    "    print('Stats for $'+str(s)+\" portfolio\")\n",
    "    print(_true_pos_size.describe())\n",
    "    print('------------------\\n')\n",
    "    "
   ]
  },
  {
   "cell_type": "code",
   "execution_count": null,
   "metadata": {
    "collapsed": false
   },
   "outputs": [],
   "source": []
  },
  {
   "cell_type": "code",
   "execution_count": null,
   "metadata": {
    "collapsed": false
   },
   "outputs": [],
   "source": []
  }
 ],
 "metadata": {
  "kernelspec": {
   "display_name": "Python 3",
   "language": "python",
   "name": "python3"
  },
  "language_info": {
   "codemirror_mode": {
    "name": "ipython",
    "version": 3
   },
   "file_extension": ".py",
   "mimetype": "text/x-python",
   "name": "python",
   "nbconvert_exporter": "python",
   "pygments_lexer": "ipython3",
   "version": "3.5.1"
  }
 },
 "nbformat": 4,
 "nbformat_minor": 0
}
