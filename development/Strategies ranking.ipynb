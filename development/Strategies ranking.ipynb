{
 "cells": [
  {
   "cell_type": "code",
   "execution_count": null,
   "metadata": {
    "collapsed": false
   },
   "outputs": [],
   "source": [
    "import sys,os\n",
    "sys.path.append('..')\n",
    "sys.path.append('../..')\n",
    "from backtester import matlab, backtester\n",
    "from backtester.analysis import *\n",
    "from backtester.swarms.swarm import Swarm\n",
    "from backtester.exoinfo import EXOInfo\n",
    "\n",
    "import pandas as pd\n",
    "import numpy as np\n",
    "import scipy\n",
    "\n",
    "import glob\n",
    "from pandas.tseries.offsets import *"
   ]
  },
  {
   "cell_type": "code",
   "execution_count": null,
   "metadata": {
    "collapsed": false,
    "scrolled": false
   },
   "outputs": [],
   "source": [
    "%pylab inline\n",
    "%load_ext autoreload\n",
    "%autoreload 2\n",
    "\n",
    "figsize(20,10)"
   ]
  },
  {
   "cell_type": "markdown",
   "metadata": {},
   "source": [
    "## Rng strategies"
   ]
  },
  {
   "cell_type": "code",
   "execution_count": null,
   "metadata": {
    "collapsed": false
   },
   "outputs": [],
   "source": [
    "#\n",
    "# random time series\n",
    "#\n",
    "df = pd.DataFrame()\n",
    "for i in range(100):\n",
    "    \n",
    "    date = pd.date_range(start='2015-01', end='2016-10', freq='D')\n",
    "    price = np.random.randint(-100, 101, size=len(date))\n",
    "    \n",
    "    ser = pd.Series(price, index=date, name='rng_system'+str(i))\n",
    "    df['rng_system'+str(i)] = ser.cumsum()"
   ]
  },
  {
   "cell_type": "markdown",
   "metadata": {},
   "source": [
    "## Select input DF. Real swarms or RNG pseudo strategies"
   ]
  },
  {
   "cell_type": "code",
   "execution_count": null,
   "metadata": {
    "collapsed": false
   },
   "outputs": [],
   "source": [
    "# set file name here\n",
    "swarm_file = 'CL_CallSpread_Long_BollingerBands'\n",
    "\n",
    "# Real swarm from .swm\n",
    "df = Swarm.load('../swarms/'+swarm_file+'.swm').raw_swarm\n",
    "#df = df"
   ]
  },
  {
   "cell_type": "markdown",
   "metadata": {},
   "source": [
    "## Systems overall performance estimation"
   ]
  },
  {
   "cell_type": "code",
   "execution_count": null,
   "metadata": {
    "collapsed": false
   },
   "outputs": [],
   "source": [
    "temp_l = []\n",
    "\n",
    "for strat in df.columns:\n",
    "\n",
    "        input_strategy_data = df[strat] # This data is used in metrics calc\n",
    "\n",
    "        price_change = input_strategy_data.diff()\n",
    "        max_dd = (input_strategy_data - input_strategy_data.expanding().max()).min()\n",
    "        netprofit = df[strat].ix[-1] - df[strat].ix[0]\n",
    "\n",
    "        # Since swarm PnL statistics is not trade-by-trade\n",
    "        # For PF calc I used cumulative values of positive and negatives price changes\n",
    "        # Same for winrate\n",
    "        profit_factor = price_change[price_change > 0].sum() / np.abs(price_change[price_change < 0].sum())\n",
    "\n",
    "        winrate = (price_change[price_change > 0].count() / price_change.count()) * 100               \n",
    "\n",
    "        try:\n",
    "            modsharpe = np.mean(price_change) / np.std(price_change)\n",
    "\n",
    "        except ZeroDivisionError:\n",
    "            modsharpe = np.nan\n",
    "\n",
    "        d = {'strategy': strat,\n",
    "            'stats_pricechange_modsharpe': modsharpe, \n",
    "            'stats_netprofit': netprofit,\n",
    "            'stats_max_dd': max_dd, 'stats_recovery_factor': netprofit / np.abs(max_dd),\n",
    "            'stats_profit_factor': profit_factor, 'stats_winrate': winrate }\n",
    "\n",
    "        temp_l.append(d)"
   ]
  },
  {
   "cell_type": "code",
   "execution_count": null,
   "metadata": {
    "collapsed": false
   },
   "outputs": [],
   "source": [
    "strategies_performance_df = pd.DataFrame(temp_l).dropna()\n",
    "strategies_performance_df['rank_score'] = np.zeros_like(len(strategies_performance_df))"
   ]
  },
  {
   "cell_type": "code",
   "execution_count": null,
   "metadata": {
    "collapsed": false
   },
   "outputs": [],
   "source": [
    "strategies_performance_df"
   ]
  },
  {
   "cell_type": "markdown",
   "metadata": {},
   "source": [
    "## Strategies overall performance ranking"
   ]
  },
  {
   "cell_type": "code",
   "execution_count": null,
   "metadata": {
    "collapsed": false,
    "scrolled": false
   },
   "outputs": [],
   "source": [
    "ranks_d = {}\n",
    "\n",
    "for col in strategies_performance_df.columns:\n",
    "    \n",
    "    stats_col_flag = False\n",
    "    \n",
    "    if 'stats' in col:\n",
    "\n",
    "        # Define 0-10-20-30-40-50-60-70-80-90-100 quantiles values of certain strategy statistics\n",
    "        metric_quantile0 = strategies_performance_df[col].quantile(0.0)\n",
    "        metric_quantile10 = strategies_performance_df[col].quantile(0.1)\n",
    "        metric_quantile20 = strategies_performance_df[col].quantile(0.2)\n",
    "        metric_quantile30 = strategies_performance_df[col].quantile(0.3)\n",
    "        metric_quantile40 = strategies_performance_df[col].quantile(0.4)\n",
    "        metric_quantile50 = strategies_performance_df[col].quantile(0.5)\n",
    "        metric_quantile60 = strategies_performance_df[col].quantile(0.6)\n",
    "        metric_quantile70 = strategies_performance_df[col].quantile(0.7)\n",
    "        metric_quantile80 = strategies_performance_df[col].quantile(0.8)\n",
    "        metric_quantile90 = strategies_performance_df[col].quantile(0.9)\n",
    "        metric_quantile100 = strategies_performance_df[col].quantile(1)\n",
    "        \n",
    "        stats_col_flag = True\n",
    "    \n",
    "    if stats_col_flag == True:\n",
    "        \n",
    "        for strat in strategies_performance_df.strategy:\n",
    "        \n",
    "            # Define strategy statistics rank of certain strategy\n",
    "\n",
    "            strategy_stats_metric = strategies_performance_df[strategies_performance_df.strategy == strat][col].values[0]\n",
    "\n",
    "            if strategy_stats_metric >= metric_quantile0 and strategy_stats_metric <= metric_quantile10:\n",
    "                rank_score = 0\n",
    "\n",
    "            elif strategy_stats_metric >= metric_quantile10 and strategy_stats_metric <= metric_quantile20:\n",
    "                rank_score = 1\n",
    "\n",
    "            elif strategy_stats_metric >= metric_quantile20 and strategy_stats_metric <= metric_quantile30:\n",
    "                rank_score = 2\n",
    "\n",
    "            elif strategy_stats_metric >= metric_quantile30 and strategy_stats_metric <= metric_quantile40:\n",
    "                rank_score = 3\n",
    "\n",
    "            elif strategy_stats_metric >= metric_quantile40 and strategy_stats_metric <= metric_quantile50:\n",
    "                rank_score = 4\n",
    "\n",
    "            elif strategy_stats_metric >= metric_quantile50 and strategy_stats_metric <= metric_quantile60:\n",
    "                rank_score = 5\n",
    "\n",
    "            elif strategy_stats_metric >= metric_quantile60 and strategy_stats_metric <= metric_quantile70:\n",
    "                rank_score = 6\n",
    "\n",
    "            elif strategy_stats_metric >= metric_quantile70 and strategy_stats_metric <= metric_quantile80:\n",
    "                rank_score = 7\n",
    "\n",
    "            elif strategy_stats_metric >= metric_quantile80 and strategy_stats_metric <= metric_quantile90:\n",
    "                rank_score = 8\n",
    "\n",
    "            elif strategy_stats_metric >= metric_quantile90 and strategy_stats_metric <= metric_quantile100:\n",
    "                rank_score = 9\n",
    "\n",
    "            elif strategy_stats_metric == metric_quantile100:\n",
    "                rank_score = 10\n",
    "\n",
    "                \n",
    "            if strat not in ranks_d.keys():               \n",
    "                ranks_d[strat] = rank_score\n",
    "                \n",
    "            elif strat in ranks_d.keys():                \n",
    "                ranks_d[strat] = ranks_d[strat] + rank_score\n",
    "                          \n",
    "            # For debugging purposes\n",
    "\n",
    "            #print('strategy---',strat,'\\n')\n",
    "            #print(col)\n",
    "            #print('10 quantile---',metric_quantile10)\n",
    "            #print(strategy_stats_metric)\n",
    "            #print('60 quantile---',metric_quantile60)\n",
    "            #print(strategy_stats_metric > metric_quantile40 and strategy_stats_metric < metric_quantile50)\n",
    "            #print('rank_score------', rank_score, '\\n')\n",
    "\n",
    "        #print(\"NEXT----------------------- \\n\")\n",
    "\n",
    "# Set rank scores for strategies from dict\n",
    "\n",
    "for k in ranks_d:\n",
    "    \n",
    "    strat_index = strategies_performance_df[strategies_performance_df.strategy == k].index\n",
    "    strategies_performance_df = strategies_performance_df.set_value(strat_index, 'rank_score', ranks_d[k])"
   ]
  },
  {
   "cell_type": "code",
   "execution_count": null,
   "metadata": {
    "collapsed": false,
    "scrolled": false
   },
   "outputs": [],
   "source": [
    "strategies_performance_df.sort_values('rank_score', ascending=False)"
   ]
  },
  {
   "cell_type": "markdown",
   "metadata": {},
   "source": [
    "## Drop all strategies which have rank score less than n quantile value "
   ]
  },
  {
   "cell_type": "code",
   "execution_count": null,
   "metadata": {
    "collapsed": false
   },
   "outputs": [],
   "source": [
    "df = df[strategies_performance_df[strategies_performance_df.rank_score >= strategies_performance_df.rank_score.quantile(0.0)].strategy]"
   ]
  },
  {
   "cell_type": "code",
   "execution_count": null,
   "metadata": {
    "collapsed": false,
    "scrolled": false
   },
   "outputs": [],
   "source": [
    "df.dropna().plot(legend=False)"
   ]
  },
  {
   "cell_type": "markdown",
   "metadata": {},
   "source": [
    "## Filter those strategies by correlation"
   ]
  },
  {
   "cell_type": "code",
   "execution_count": null,
   "metadata": {
    "collapsed": false
   },
   "outputs": [],
   "source": [
    "# Rearrange columns from best to worst strategies\n",
    "df = df.reindex_axis(strategies_performance_df.sort_values('rank_score', ascending=False).strategy, axis=1).dropna(axis=1).asfreq(BDay())"
   ]
  },
  {
   "cell_type": "code",
   "execution_count": null,
   "metadata": {
    "collapsed": false
   },
   "outputs": [],
   "source": [
    "df.corr()"
   ]
  },
  {
   "cell_type": "code",
   "execution_count": null,
   "metadata": {
    "collapsed": false,
    "scrolled": false
   },
   "outputs": [],
   "source": [
    "corr_df = df.corr()\n",
    "\n",
    "while_loop_break_flag = False\n",
    "\n",
    "while True:   \n",
    "    if while_loop_break_flag == False:\n",
    "        \n",
    "        for i in range(len(corr_df)):\n",
    "\n",
    "            try:       \n",
    "                strat_corr = corr_df[corr_df.columns[i]]\n",
    "            \n",
    "            except IndexError:               \n",
    "                strat_corr = corr_df[corr_df.columns[-1]]\n",
    "            \n",
    "            df = df.drop(strat_corr[(strat_corr.index != strat_corr.name) & (strat_corr >= 0.5)].index, axis=1)\n",
    "\n",
    "            # Check if previous DF are the same as current DF\n",
    "            # If they are different - continue the loop\n",
    "\n",
    "            df_comparison_array = np.array_equal(corr_df,df.corr())\n",
    "            \n",
    "            #print(strat_corr[(strat_corr.index != strat_corr.name) & (strat_corr >= 0.5)].index)\n",
    "            #print(i)\n",
    "            #print(len(corr_df))\n",
    "            #print(len(corr_df))\n",
    "            \n",
    "            if df_comparison_array  == False and i < len(corr_df):\n",
    "                corr_df = df.corr()\n",
    "\n",
    "            elif df_comparison_array  == True and i == len(corr_df)-1:\n",
    "                while_loop_break_flag = True\n",
    "                break\n",
    "                    \n",
    "    if while_loop_break_flag == True:\n",
    "        break"
   ]
  },
  {
   "cell_type": "code",
   "execution_count": null,
   "metadata": {
    "collapsed": false,
    "scrolled": false
   },
   "outputs": [],
   "source": [
    "df.corr()"
   ]
  },
  {
   "cell_type": "code",
   "execution_count": null,
   "metadata": {
    "collapsed": false
   },
   "outputs": [],
   "source": [
    "df.dropna().plot(legend=False)"
   ]
  },
  {
   "cell_type": "markdown",
   "metadata": {},
   "source": [
    "# Metrics calculation"
   ]
  },
  {
   "cell_type": "code",
   "execution_count": null,
   "metadata": {
    "collapsed": false,
    "scrolled": false
   },
   "outputs": [],
   "source": [
    "#\n",
    "# Rebalance triggers\n",
    "#\n",
    "# Rebalance trigger must be array of Datetime indexes when event occurred, like date of monday or new month\n",
    "# \n",
    "newmonth = df[df.index.month != df.index.shift(1).month].index\n",
    "\n",
    "monday = df[df.index.weekday == 0].index\n",
    "\n",
    "norebalance = [df.index[-1]]\n",
    "\n",
    "newyear = df[df.index.year != df.index.shift(1).year].index\n",
    "#\n",
    "#\n",
    "#\n",
    "\n",
    "# note: I think more performance metrics for strategies is better\n",
    "# https://www.amibroker.com/guide/h_report.html for reference\n",
    "\n",
    "rebalance_index = 1\n",
    "rebalance_date_start = None\n",
    "\n",
    "rebalance_trigger = monday # set rebalance trigger here\n",
    "\n",
    "temp_l = []\n",
    "\n",
    "for reb_idx in rebalance_trigger:\n",
    "    \n",
    "    for strat in df.columns:\n",
    "\n",
    "        if rebalance_index == 1:\n",
    "            rebalance_date_start = df.index[0]\n",
    "           \n",
    "        for i in range(len(df[strat])):\n",
    "\n",
    "            if df[strat].index[i] == reb_idx:\n",
    "\n",
    "                input_strategy_data = df[strat].ix[rebalance_date_start:reb_idx] # This data is used in metrics calc\n",
    "                \n",
    "                price_change = input_strategy_data.diff()\n",
    "                max_dd = (input_strategy_data - input_strategy_data.expanding().max()).min()\n",
    "                netprofit = df[strat].ix[reb_idx] - df[strat].ix[rebalance_date_start]\n",
    "                \n",
    "                # Since swarm PnL statistics is not trade-by-trade\n",
    "                # For PF calc I used cumulative values of positive and negatives price changes\n",
    "                # Same for winrate\n",
    "                profit_factor = price_change[price_change > 0].sum() / np.abs(price_change[price_change < 0].sum())\n",
    "                \n",
    "                winrate = (price_change[price_change > 0].count() / price_change.count()) * 100               \n",
    "                # If all trades are negative, PF is 0. But later all 0s is replaced with NaN. \n",
    "                # To avoid replacing true 0.0 PF set it to 0.000001\n",
    "                # This made for handling missing data \n",
    "                \n",
    "                # Also winrate can be 0.0, but if PF is NaN - no trades were made\n",
    "                # This made for handling missing data \n",
    "                \n",
    "                if winrate == 0.0 and np.isnan(profit_factor) == False:\n",
    "                    winrate = 0.000001\n",
    "                \n",
    "                elif winrate == 0.0 and np.isnan(profit_factor) == True:\n",
    "                    winrate = np.nan\n",
    "                                \n",
    "                if profit_factor == 0.0:\n",
    "                    profit_factor = 0.000001                \n",
    "                          \n",
    "                try:\n",
    "                    modsharpe = np.mean(price_change) / np.std(price_change)\n",
    "                    \n",
    "                except ZeroDivisionError:\n",
    "                    modsharpe = np.nan\n",
    "            \n",
    "                \n",
    "                d = {'strategy': strat,'rebalance_date_start': rebalance_date_start,\n",
    "                    'rebalance_date_end': reb_idx, 'rebalance_index': rebalance_index,\n",
    "                    'stats_pricechange_modsharpe': modsharpe, \n",
    "                    'stats_netprofit': netprofit,\n",
    "                    'stats_max_dd': max_dd, 'stats_recovery_factor': netprofit / np.abs(max_dd),\n",
    "                    'stats_profit_factor': profit_factor, 'stats_winrate': winrate, \n",
    "                     'equity_below_zero': df[strat].ix[rebalance_date_start] < 0}\n",
    "                \n",
    "                '''\n",
    "                d = {'strategy': strat,'rebalance_date_start': rebalance_date_start,\n",
    "                    'rebalance_date_end': reb_idx, 'rebalance_index': rebalance_index,\n",
    "                    'stats_pricechange_modsharpe': modsharpe, \n",
    "                    'stats_recovery_factor': netprofit / np.abs(max_dd)}\n",
    "                '''\n",
    "                \n",
    "                temp_l.append(d)\n",
    "    \n",
    "    rebalance_index += 1\n",
    "    rebalance_date_start = reb_idx # set new start rebalance date to current rebalance trigger date"
   ]
  },
  {
   "cell_type": "markdown",
   "metadata": {},
   "source": [
    "### Data cleaning"
   ]
  },
  {
   "cell_type": "code",
   "execution_count": null,
   "metadata": {
    "collapsed": false,
    "scrolled": false
   },
   "outputs": [],
   "source": [
    "# Replacing 0 values with NaNs\n",
    "# If strategy stats is 0 means that no trades were made\n",
    "stats_df = pd.DataFrame(temp_l).replace(0, np.nan)\n",
    "\n",
    "# Filling NaNs with last avaible values\n",
    "for s in stats_df.strategy.unique():\n",
    "    stats_df[stats_df.strategy == s] = stats_df[stats_df.strategy == s].fillna(method='pad')\n",
    "\n",
    "stats_df = stats_df.dropna(how='any')"
   ]
  },
  {
   "cell_type": "code",
   "execution_count": null,
   "metadata": {
    "collapsed": false,
    "scrolled": false
   },
   "outputs": [],
   "source": [
    "stats_df.tail(10)"
   ]
  },
  {
   "cell_type": "markdown",
   "metadata": {},
   "source": [
    "## Statistics rank calculation"
   ]
  },
  {
   "cell_type": "code",
   "execution_count": null,
   "metadata": {
    "collapsed": false,
    "scrolled": false
   },
   "outputs": [],
   "source": [
    "ranks_d = {}\n",
    "ranks_rebidx_d = {}\n",
    "\n",
    "for i in stats_df.rebalance_index.unique():\n",
    "\n",
    "    for col in stats_df[stats_df.rebalance_index == i].columns:\n",
    "        \n",
    "        stats_col_flag = False\n",
    "    \n",
    "        if 'stats' in col:\n",
    "\n",
    "            # Define 0-10-20-30-40-50-60-70-80-90-100 quantiles values of certain strategy statistics\n",
    "            metric_quantile0 = stats_df[col].quantile(0.0)\n",
    "            metric_quantile10 = stats_df[col].quantile(0.1)\n",
    "            metric_quantile20 = stats_df[col].quantile(0.2)\n",
    "            metric_quantile30 = stats_df[col].quantile(0.3)\n",
    "            metric_quantile40 = stats_df[col].quantile(0.4)\n",
    "            metric_quantile50 = stats_df[col].quantile(0.5)\n",
    "            metric_quantile60 = stats_df[col].quantile(0.6)\n",
    "            metric_quantile70 = stats_df[col].quantile(0.7)\n",
    "            metric_quantile80 = stats_df[col].quantile(0.8)\n",
    "            metric_quantile90 = stats_df[col].quantile(0.9)\n",
    "            metric_quantile100 = stats_df[col].quantile(1)\n",
    "\n",
    "            stats_col_flag = True\n",
    "\n",
    "        if stats_col_flag == True:\n",
    "    \n",
    "            for strat in stats_df[stats_df.rebalance_index == i].strategy:\n",
    "\n",
    "                # Define strategy statistics rank of certain strategy\n",
    "\n",
    "                strategy_stats_metric = stats_df[(stats_df.rebalance_index == i) \n",
    "                                                 & (stats_df.strategy == strat)][col].values[0]\n",
    "\n",
    "                if strategy_stats_metric >= metric_quantile0 and strategy_stats_metric <= metric_quantile10:\n",
    "                    rank_score = 0\n",
    "\n",
    "                elif strategy_stats_metric >= metric_quantile10 and strategy_stats_metric <= metric_quantile20:\n",
    "                    rank_score = 1\n",
    "\n",
    "                elif strategy_stats_metric >= metric_quantile20 and strategy_stats_metric <= metric_quantile30:\n",
    "                    rank_score = 2\n",
    "\n",
    "                elif strategy_stats_metric >= metric_quantile30 and strategy_stats_metric <= metric_quantile40:\n",
    "                    rank_score = 3\n",
    "\n",
    "                elif strategy_stats_metric >= metric_quantile40 and strategy_stats_metric <= metric_quantile50:\n",
    "                    rank_score = 4\n",
    "\n",
    "                elif strategy_stats_metric >= metric_quantile50 and strategy_stats_metric <= metric_quantile60:\n",
    "                    rank_score = 5\n",
    "\n",
    "                elif strategy_stats_metric >= metric_quantile60 and strategy_stats_metric <= metric_quantile70:\n",
    "                    rank_score = 6\n",
    "\n",
    "                elif strategy_stats_metric >= metric_quantile70 and strategy_stats_metric <= metric_quantile80:\n",
    "                    rank_score = 7\n",
    "\n",
    "                elif strategy_stats_metric >= metric_quantile80 and strategy_stats_metric <= metric_quantile90:\n",
    "                    rank_score = 8\n",
    "\n",
    "                elif strategy_stats_metric >= metric_quantile90 and strategy_stats_metric <= metric_quantile100:\n",
    "                    rank_score = 9\n",
    "\n",
    "                elif strategy_stats_metric == metric_quantile100:\n",
    "                    rank_score = 10\n",
    "\n",
    "                    \n",
    "                if strat not in ranks_d.keys():               \n",
    "                    ranks_d[strat] = rank_score\n",
    "                    \n",
    "                elif strat in ranks_d.keys():                \n",
    "                    ranks_d[strat] = ranks_d[strat] + rank_score\n",
    "            #ranks_d['rebalance_idx_'+str(i)] = i\n",
    "\n",
    "                    \n",
    "                # For debugging purposes\n",
    "\n",
    "                #print('strategy---',strat,'\\n')\n",
    "                #print(col)\n",
    "                #print('10 quantile---',metric_quantile10)\n",
    "                #print(strategy_stats_metric)\n",
    "                #print('60 quantile---',metric_quantile60)\n",
    "                #print(strategy_stats_metric > metric_quantile40 and strategy_stats_metric < metric_quantile50)\n",
    "                #print('rank_score------', rank_score, '\\n')\n",
    "\n",
    "    \n",
    "    print('rebalance index ---', i)\n",
    "    #break\n",
    "    for k in ranks_d:\n",
    "\n",
    "        strat_index = stats_df[(stats_df.strategy == k) & ((stats_df.rebalance_index == i))].index\n",
    "        #print(strat_index)\n",
    "        stats_df = stats_df.set_value(strat_index, 'rank_score', ranks_d[k])\n",
    "        \n",
    "    ranks_d = {}"
   ]
  },
  {
   "cell_type": "code",
   "execution_count": null,
   "metadata": {
    "collapsed": false
   },
   "outputs": [],
   "source": [
    "stats_df.tail(10)"
   ]
  },
  {
   "cell_type": "markdown",
   "metadata": {},
   "source": [
    "### Strategies picker"
   ]
  },
  {
   "cell_type": "code",
   "execution_count": null,
   "metadata": {
    "collapsed": false,
    "scrolled": false
   },
   "outputs": [],
   "source": [
    "# Trade-by-trade pnl\n",
    "pnl_df = df.diff()\n",
    "\n",
    "summary_best_eqty = pd.Series()\n",
    "summary_worst_eqty = pd.Series()\n",
    "benchmark_eqty = pd.Series()\n",
    "\n",
    "rebalance_history_l = []\n",
    "\n",
    "# We can set start rebalance index value to \n",
    "for i in range(stats_df.rebalance_index.unique().min(),stats_df.rebalance_index.unique().max()):\n",
    "    \n",
    "    if i < 2:\n",
    "        # We must estimate strategies preformance at least on one rebalance window\n",
    "        continue\n",
    "        \n",
    "    else:\n",
    "\n",
    "        # Pick strats from previous rebalance, but trade them until next rebalance\n",
    "                        \n",
    "        start_date = stats_df[stats_df.rebalance_index == i].rebalance_date_start.values[0]  \n",
    "        end_date = stats_df[stats_df.rebalance_index == i].rebalance_date_end.values[0]\n",
    "        \n",
    "        # Number of picked strats defined by .strategy.values[:number]\n",
    "        # Remove -1 from 'i - 1' to get holy grail :D (future reference)\n",
    "        \n",
    "        picked_best_strats = stats_df[(stats_df.rebalance_index == i - 1) & (stats_df.equity_below_zero == False)].sort_values('rank_score', \n",
    "                                                                                ascending=False).strategy.values[:3]\n",
    "        \n",
    "        picked_worst_strats = stats_df[(stats_df.rebalance_index == i - 1) & (stats_df.equity_below_zero == False)].sort_values('rank_score', \n",
    "                                                                                ascending=False).strategy.values[-3:]\n",
    "        \n",
    "        all_strats = stats_df[stats_df.rebalance_index == i - 1].sort_values('rank_score', \n",
    "                                                                                ascending=False).strategy.values[:]\n",
    "        \n",
    "        if len(summary_best_eqty) == 0 and len(summary_worst_eqty) == 0 and len(benchmark_eqty) == 0:\n",
    "            summary_best_eqty = pnl_df[picked_best_strats].ix[start_date : end_date].sum(axis=1)           \n",
    "            summary_worst_eqty = pnl_df[picked_worst_strats].ix[start_date : end_date].sum(axis=1)\n",
    "            \n",
    "            benchmark_eqty = pnl_df[all_strats].ix[start_date : end_date].sum(axis=1)      \n",
    "            \n",
    "        else:\n",
    "            summary_best_eqty = summary_best_eqty.append(pnl_df[picked_best_strats].ix[start_date : end_date].sum(axis=1))\n",
    "            summary_worst_eqty = summary_worst_eqty.append(pnl_df[picked_worst_strats].ix[start_date : end_date].sum(axis=1))\n",
    "            \n",
    "            benchmark_eqty = benchmark_eqty.append(pnl_df[all_strats].ix[start_date : end_date].sum(axis=1))\n",
    "        \n",
    "        d = {'rebalance_index': i, 'best_strategies_list': picked_best_strats}\n",
    "        \n",
    "        for s in range(len(picked_best_strats)):\n",
    "            d['strategy_'+str(s)] = picked_best_strats[s]\n",
    "        \n",
    "        rebalance_history_l.append(d)\n",
    "        \n",
    "        \n",
    "best_portfolio = summary_best_eqty.cumsum()\n",
    "worst_portfolio = summary_worst_eqty.cumsum() * -1 # Reversed\n",
    "\n",
    "summary_portfolio = best_portfolio + worst_portfolio\n",
    "\n",
    "benchmark_portfolio = benchmark_eqty.cumsum()"
   ]
  },
  {
   "cell_type": "markdown",
   "metadata": {},
   "source": [
    "## Rebalance history\n"
   ]
  },
  {
   "cell_type": "code",
   "execution_count": null,
   "metadata": {
    "collapsed": false
   },
   "outputs": [],
   "source": [
    "rebalance_history_df = pd.DataFrame(rebalance_history_l)\n",
    "rebalance_history_df.index = rebalance_history_df.rebalance_index\n",
    "\n",
    "\n",
    "same_strats_counter = 0\n",
    "different_strats_counter = 0\n",
    "\n",
    "same_strats_counter_l = []\n",
    "different_strats_counter_l = []\n",
    "\n",
    "for i in rebalance_history_df.index:\n",
    "    \n",
    "    if i > rebalance_history_df.index[0]+1:\n",
    "        \n",
    "        for c in rebalance_history_df.columns:\n",
    "            \n",
    "            if 'strategy' in c:\n",
    "                \n",
    "                if rebalance_history_df[c][i] in rebalance_history_df.best_strategies_list[i-1]:\n",
    "                    same_strats_counter += 1\n",
    "                \n",
    "                if rebalance_history_df[c][i] not in rebalance_history_df.best_strategies_list[i-1]:\n",
    "                    different_strats_counter += 1\n",
    "    \n",
    "    same_strats_counter_l.append(same_strats_counter)\n",
    "    different_strats_counter_l.append(different_strats_counter)\n",
    "    \n",
    "    same_strats_counter = 0\n",
    "    different_strats_counter = 0\n",
    "\n",
    "rebalance_history_df['same_strategies'] = same_strats_counter_l\n",
    "rebalance_history_df['different_strategies'] = different_strats_counter_l\n",
    "rebalance_history_df = rebalance_history_df.fillna('No_Strategy')"
   ]
  },
  {
   "cell_type": "code",
   "execution_count": null,
   "metadata": {
    "collapsed": false
   },
   "outputs": [],
   "source": [
    "rebalance_history_df.ix[100:105]"
   ]
  },
  {
   "cell_type": "code",
   "execution_count": null,
   "metadata": {
    "collapsed": false
   },
   "outputs": [],
   "source": [
    "df.plot()\n",
    "axhline(0)"
   ]
  },
  {
   "cell_type": "code",
   "execution_count": null,
   "metadata": {
    "collapsed": false
   },
   "outputs": [],
   "source": [
    "#stats_df[(stats_df.rebalance_index >= 5) & (stats_df.rebalance_index <= 22)]\n",
    "stats_df[(stats_df.rebalance_index == 100)]"
   ]
  },
  {
   "cell_type": "code",
   "execution_count": null,
   "metadata": {
    "collapsed": false
   },
   "outputs": [],
   "source": [
    "rebalance_history_df.same_strategies.plot()"
   ]
  },
  {
   "cell_type": "code",
   "execution_count": null,
   "metadata": {
    "collapsed": false
   },
   "outputs": [],
   "source": [
    "rebalance_history_df.same_strategies[rebalance_history_df.same_strategies == 0].count() / rebalance_history_df.same_strategies.count()"
   ]
  },
  {
   "cell_type": "code",
   "execution_count": null,
   "metadata": {
    "collapsed": false
   },
   "outputs": [],
   "source": [
    "rebalance_history_df.same_strategies[rebalance_history_df.same_strategies == 1].count() / rebalance_history_df.same_strategies.count()"
   ]
  },
  {
   "cell_type": "code",
   "execution_count": null,
   "metadata": {
    "collapsed": false
   },
   "outputs": [],
   "source": [
    "rebalance_history_df.same_strategies[rebalance_history_df.same_strategies == 2].count() / rebalance_history_df.same_strategies.count()"
   ]
  },
  {
   "cell_type": "code",
   "execution_count": null,
   "metadata": {
    "collapsed": false
   },
   "outputs": [],
   "source": [
    "rebalance_history_df.same_strategies[rebalance_history_df.same_strategies == 3].count() / rebalance_history_df.same_strategies.count()"
   ]
  },
  {
   "cell_type": "markdown",
   "metadata": {},
   "source": [
    "## Comparing portfolios stats with benchmark(all strategies equity)"
   ]
  },
  {
   "cell_type": "code",
   "execution_count": null,
   "metadata": {
    "collapsed": false
   },
   "outputs": [],
   "source": [
    "def portfolio_stats(portfolio_ser,label):\n",
    "    input_data = portfolio_ser # This data is used in metrics calc\n",
    "                \n",
    "    price_change = input_data.diff()\n",
    "    max_dd = (input_data - input_data.expanding().max()).min()\n",
    "    netprofit = input_data.ix[input_data.index[-1]] - input_data.ix[input_data.index[0]]\n",
    "\n",
    "    # Since swarm PnL statistics is not trade-by-trade\n",
    "    # For PF calc I used cumulative values of positive and negatives price changes\n",
    "    # Same for winrate\n",
    "    profit_factor = price_change[price_change > 0].sum() / np.abs(price_change[price_change < 0].sum())\n",
    "\n",
    "    winrate = (price_change[price_change > 0].count() / price_change.count()) * 100               \n",
    "\n",
    "    modsharpe = np.mean(price_change) / np.std(price_change)\n",
    "\n",
    "    recovery_factor = netprofit / np.abs(max_dd)\n",
    "\n",
    "    print('Portfolio name ---', str(label))\n",
    "    print('\\n')\n",
    "    print('PriceChange Mod. Sharpe', modsharpe)\n",
    "    print('Netprofit',netprofit)\n",
    "    print('Max DD', max_dd)\n",
    "    print('Recovery Factor', recovery_factor)\n",
    "    print('Profit factor', profit_factor)\n",
    "    print('Winrate', winrate)\n",
    "\n",
    "    input_data.plot(kind='area', stacked=False)"
   ]
  },
  {
   "cell_type": "code",
   "execution_count": null,
   "metadata": {
    "collapsed": false,
    "scrolled": false
   },
   "outputs": [],
   "source": [
    "portfolio_stats(best_portfolio, 'Best')"
   ]
  },
  {
   "cell_type": "code",
   "execution_count": null,
   "metadata": {
    "collapsed": false
   },
   "outputs": [],
   "source": [
    "portfolio_stats(worst_portfolio, 'Worst(reversed)')"
   ]
  },
  {
   "cell_type": "code",
   "execution_count": null,
   "metadata": {
    "collapsed": false
   },
   "outputs": [],
   "source": [
    "portfolio_stats(summary_portfolio, 'Summary(Best + Worst)')"
   ]
  },
  {
   "cell_type": "code",
   "execution_count": null,
   "metadata": {
    "collapsed": false
   },
   "outputs": [],
   "source": [
    "portfolio_stats(benchmark_portfolio, 'Benchmark(Trade all strategies)')"
   ]
  },
  {
   "cell_type": "code",
   "execution_count": null,
   "metadata": {
    "collapsed": false
   },
   "outputs": [],
   "source": [
    "portfolio_stats(swarm.swarm_picked.sum(axis=1), 'Picked swarm with current approach')"
   ]
  },
  {
   "cell_type": "code",
   "execution_count": null,
   "metadata": {
    "collapsed": false
   },
   "outputs": [],
   "source": [
    "portfolio_stats(all_equities_sum, 'All equities')"
   ]
  },
  {
   "cell_type": "code",
   "execution_count": null,
   "metadata": {
    "collapsed": false,
    "scrolled": false
   },
   "outputs": [],
   "source": [
    "swarm.swarm.plot(legend=False)"
   ]
  },
  {
   "cell_type": "code",
   "execution_count": null,
   "metadata": {
    "collapsed": false
   },
   "outputs": [],
   "source": []
  }
 ],
 "metadata": {
  "kernelspec": {
   "display_name": "Python 3",
   "language": "python",
   "name": "python3"
  },
  "language_info": {
   "codemirror_mode": {
    "name": "ipython",
    "version": 3
   },
   "file_extension": ".py",
   "mimetype": "text/x-python",
   "name": "python",
   "nbconvert_exporter": "python",
   "pygments_lexer": "ipython3",
   "version": "3.5.2"
  }
 },
 "nbformat": 4,
 "nbformat_minor": 0
}
