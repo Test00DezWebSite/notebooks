{
 "cells": [
  {
   "cell_type": "code",
   "execution_count": null,
   "metadata": {
    "collapsed": false
   },
   "outputs": [],
   "source": [
    "import sys\n",
    "sys.path.append('../..')\n",
    "from backtester import matlab, backtester\n",
    "from backtester.analysis import *\n",
    "import pandas as pd\n",
    "import numpy as np\n",
    "import glob, os\n",
    "\n",
    "import itertools\n",
    "\n",
    "from backtester.exoinfo import EXOInfo\n",
    "from exobuilder.data.exostorage import EXOStorage\n",
    "from IPython.core.display import display, HTML\n",
    "\n",
    "import statsmodels.tsa.api as smt\n",
    "import statsmodels.api as sm\n",
    "\n",
    "import plotly.plotly as py  \n",
    "import plotly.tools as tls   \n",
    "import plotly.graph_objs as go\n",
    "\n",
    "import pandas as pd\n",
    "import numpy as np\n",
    "import scipy\n",
    "import pprint\n",
    "\n",
    "%pylab inline\n",
    "figsize(20,10)"
   ]
  },
  {
   "cell_type": "code",
   "execution_count": null,
   "metadata": {
    "collapsed": false,
    "scrolled": false
   },
   "outputs": [],
   "source": [
    "# Loading global setting for MongoDB etc.\n",
    "from scripts.settings import *\n",
    "\n",
    "try:\n",
    "    from scripts.settings_local import *\n",
    "except:\n",
    "    pass\n",
    "\n",
    "storage = EXOStorage(MONGO_CONNSTR, MONGO_EXO_DB)\n",
    "pp = pprint.PrettyPrinter(indent=4)\n",
    "\n",
    "exo_list = storage.exo_list()\n",
    "pp.pprint(exo_list)\n",
    "\n",
    "\n",
    "df = pd.DataFrame()\n",
    "\n",
    "for e in exo_list:\n",
    "    exo_series, exo_dict = storage.load_series(e)\n",
    "    \n",
    "    exo_series = exo_series[exo_series.columns[0]]\n",
    "    df[exo_dict['name']] = exo_series\n",
    "#exo_series.plot()"
   ]
  },
  {
   "cell_type": "code",
   "execution_count": null,
   "metadata": {
    "collapsed": false
   },
   "outputs": [],
   "source": [
    "df.tail()"
   ]
  },
  {
   "cell_type": "code",
   "execution_count": null,
   "metadata": {
    "collapsed": false
   },
   "outputs": [],
   "source": [
    "px_ser = df.ZN_PutSpread\n",
    "px_ser.asfreq('B').dropna().plot()"
   ]
  },
  {
   "cell_type": "code",
   "execution_count": null,
   "metadata": {
    "collapsed": false
   },
   "outputs": [],
   "source": [
    "def hurst(ts):\n",
    "    \"\"\"Returns the Hurst Exponent of the time series vector ts\"\"\"\n",
    "    # Create the range of lag values\n",
    "    lags = range(2, 20)\n",
    "    # Calculate the array of the variances of the lagged differences\n",
    "    tau = [sqrt(std(subtract(ts[lag:], ts[:-lag]))) for lag in lags]\n",
    "    # Use a linear fit to estimate the Hurst Exponent\n",
    "    poly = polyfit(log(lags), log(tau), 1)\n",
    "    # Return the Hurst exponent from the polyfit output\n",
    "    return poly[0]*2.0"
   ]
  },
  {
   "cell_type": "code",
   "execution_count": null,
   "metadata": {
    "collapsed": false,
    "scrolled": false
   },
   "outputs": [],
   "source": [
    "rolling_hurst = px_ser.dropna().rolling(40).apply(lambda x: hurst(x))"
   ]
  },
  {
   "cell_type": "code",
   "execution_count": null,
   "metadata": {
    "collapsed": false
   },
   "outputs": [],
   "source": [
    "px_ser.dropna().ix['2015'].plot()\n",
    "rolling_hurst.ix['2015'].plot(secondary_y=True)\n",
    "\n",
    "#rolling_adfteststats.ix[:'2015'].plot(secondary_y=True)\n",
    "#rstats.plot(secondary_y=True)\n",
    "#axhline(rolling_hurst.mean())\n",
    "#axhline(-1)"
   ]
  },
  {
   "cell_type": "code",
   "execution_count": null,
   "metadata": {
    "collapsed": false,
    "scrolled": false
   },
   "outputs": [],
   "source": [
    "px_ser.dropna().ix['2012'].plot()\n",
    "#px_ser.rolling(10).max().plot()\n",
    "#px_ser.rolling(10).min().plot()\n",
    "\n",
    "rolling_hurst.ix['2012'].plot(secondary_y=True)\n",
    "rolling_hurst.rolling(5).median().ix['2012'].plot(secondary_y=True)"
   ]
  },
  {
   "cell_type": "markdown",
   "metadata": {},
   "source": [
    "# Backtest"
   ]
  },
  {
   "cell_type": "code",
   "execution_count": null,
   "metadata": {
    "collapsed": false
   },
   "outputs": [],
   "source": [
    "#entry = signals_df.long_entry_signal\n",
    "#exit = signals_df.long_exit_signal\n",
    "\n",
    "entry = (rolling_hurst <= 0.3)\n",
    "\n",
    "exit = (rolling_hurst < rolling_hurst.rolling(20).median())\n",
    "#exit = CrossUp(px_ser, px_ser.rolling(10).median())\n",
    "\n",
    "exodf = pd.DataFrame()\n",
    "exodf['exo'] = px_ser.dropna()\n",
    "\n",
    "direction = -1\n",
    "pl, inposition = backtester.backtest(exodf.iloc[:], entry, exit, direction)\n",
    "equity, stats = backtester.stats(pl, inposition)\n",
    "\n",
    "\n",
    "equity.plot()\n",
    "\n",
    "(px_ser*-1).plot()\n",
    "\n",
    "stats"
   ]
  },
  {
   "cell_type": "code",
   "execution_count": null,
   "metadata": {
    "collapsed": false,
    "scrolled": false
   },
   "outputs": [],
   "source": [
    "(px_ser - px_ser.rolling(10).min())"
   ]
  },
  {
   "cell_type": "code",
   "execution_count": null,
   "metadata": {
    "collapsed": false
   },
   "outputs": [],
   "source": [
    "px_ser.rolling(20).std().plot()\n",
    "(rolling_hurst <= 0.).plot(secondary_y=True)"
   ]
  },
  {
   "cell_type": "code",
   "execution_count": null,
   "metadata": {
    "collapsed": false
   },
   "outputs": [],
   "source": []
  }
 ],
 "metadata": {
  "kernelspec": {
   "display_name": "Python 3",
   "language": "python",
   "name": "python3"
  },
  "language_info": {
   "codemirror_mode": {
    "name": "ipython",
    "version": 3
   },
   "file_extension": ".py",
   "mimetype": "text/x-python",
   "name": "python",
   "nbconvert_exporter": "python",
   "pygments_lexer": "ipython3",
   "version": "3.5.2"
  }
 },
 "nbformat": 4,
 "nbformat_minor": 0
}
