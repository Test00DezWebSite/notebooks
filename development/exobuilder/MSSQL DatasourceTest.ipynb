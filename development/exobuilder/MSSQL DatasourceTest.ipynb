{
 "cells": [
  {
   "cell_type": "code",
   "execution_count": null,
   "metadata": {
    "collapsed": false
   },
   "outputs": [],
   "source": [
    "import pymssql\n",
    "import _mssql\n",
    "from datetime import datetime, date\n",
    "from decimal import Decimal"
   ]
  },
  {
   "cell_type": "code",
   "execution_count": null,
   "metadata": {
    "collapsed": false
   },
   "outputs": [],
   "source": [
    "pymssql.__version__"
   ]
  },
  {
   "cell_type": "code",
   "execution_count": null,
   "metadata": {
    "collapsed": false
   },
   "outputs": [],
   "source": [
    "server = 'h9ggwlagd1.database.windows.net'\n",
    "user = 'modelread'\n",
    "password = '4fSHRXwd4u'"
   ]
  },
  {
   "cell_type": "code",
   "execution_count": null,
   "metadata": {
    "collapsed": false
   },
   "outputs": [],
   "source": [
    "conn = pymssql.connect(server, user+\"@\"+server, password, \"TMLDB\")"
   ]
  },
  {
   "cell_type": "code",
   "execution_count": null,
   "metadata": {
    "collapsed": false
   },
   "outputs": [],
   "source": []
  },
  {
   "cell_type": "code",
   "execution_count": null,
   "metadata": {
    "collapsed": false
   },
   "outputs": [],
   "source": [
    "contract = 4736\n",
    "date = datetime(2014, 1, 6, 10, 15, 0)\n",
    "\n",
    "c2 = conn.cursor(as_dict=True)\n",
    "c2.execute(\"SELECT TOP(1) * FROM cqgdb.tblbardata where idcontract = {0} AND datetime <= '{1}' ORDER BY datetime DESC\".format(4736, date.isoformat() ))\n",
    "\n",
    "for row in c2:\n",
    "    print(row)"
   ]
  },
  {
   "cell_type": "code",
   "execution_count": null,
   "metadata": {
    "collapsed": false
   },
   "outputs": [],
   "source": [
    "contract = 11489000\n",
    "date = datetime(2014, 1, 6, 10, 15, 0)\n",
    "\n",
    "c2 = conn.cursor(as_dict=True)\n",
    "c2.execute(\"SELECT TOP(1) * FROM cqgdb.tbloptiondata where idoption = {0} AND datetime <= '{1}' ORDER BY datetime DESC\".format(contract, date.isoformat() ))\n",
    "\n",
    "for row in c2:\n",
    "    print(row)"
   ]
  },
  {
   "cell_type": "code",
   "execution_count": null,
   "metadata": {
    "collapsed": false
   },
   "outputs": [],
   "source": [
    "contract = 11489000\n",
    "date = datetime(2013, 8, 28, 10, 15, 0) #datetime(2014, 1, 6, 10, 15, 0)\n",
    "\n",
    "c2 = conn.cursor(as_dict=True)\n",
    "c2.execute(\"SELECT TOP(1) * FROM cqgdb.tbloptioninputdata where idoptioninputsymbol = 15 AND optioninputdatetime < '{0}' ORDER BY optioninputdatetime DESC\".format(date.date().isoformat() ))\n",
    "\n",
    "for row in c2:\n",
    "    print(row)"
   ]
  },
  {
   "cell_type": "code",
   "execution_count": null,
   "metadata": {
    "collapsed": false
   },
   "outputs": [],
   "source": []
  }
 ],
 "metadata": {
  "anaconda-cloud": {},
  "kernelspec": {
   "display_name": "Python [Root]",
   "language": "python",
   "name": "Python [Root]"
  },
  "language_info": {
   "codemirror_mode": {
    "name": "ipython",
    "version": 3
   },
   "file_extension": ".py",
   "mimetype": "text/x-python",
   "name": "python",
   "nbconvert_exporter": "python",
   "pygments_lexer": "ipython3",
   "version": "3.5.2"
  }
 },
 "nbformat": 4,
 "nbformat_minor": 0
}
