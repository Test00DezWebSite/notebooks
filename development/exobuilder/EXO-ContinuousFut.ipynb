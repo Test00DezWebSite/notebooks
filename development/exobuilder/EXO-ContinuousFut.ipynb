{
 "cells": [
  {
   "cell_type": "code",
   "execution_count": null,
   "metadata": {
    "collapsed": false
   },
   "outputs": [],
   "source": [
    "from datetime import datetime"
   ]
  },
  {
   "cell_type": "code",
   "execution_count": null,
   "metadata": {
    "collapsed": false
   },
   "outputs": [],
   "source": [
    "%pylab inline"
   ]
  },
  {
   "cell_type": "code",
   "execution_count": null,
   "metadata": {
    "collapsed": false
   },
   "outputs": [],
   "source": [
    "%load_ext autoreload\n",
    "%autoreload 2"
   ]
  },
  {
   "cell_type": "code",
   "execution_count": null,
   "metadata": {
    "collapsed": false
   },
   "outputs": [],
   "source": [
    "import sys\n",
    "sys.path.append('/home/ubertrader/Dropbox/tmqrexo/tmqrv')\n",
    "sys.path.append('/home/ubertrader/Dropbox/tmqrexo/tmqrv/exobuilder/tests')"
   ]
  },
  {
   "cell_type": "code",
   "execution_count": null,
   "metadata": {
    "collapsed": false
   },
   "outputs": [],
   "source": [
    "from exobuilder.contracts.futureschain import FuturesChain\n",
    "from exobuilder.contracts.futurecontract import FutureContract\n",
    "from exobuilder.tests.assetindexdict import AssetIndexDicts\n",
    "from datetime import datetime, date\n",
    "from exobuilder.contracts.instrument import Instrument\n",
    "from exobuilder.data.datasource_mongo import DataSourceMongo\n",
    "from exobuilder.data.assetindex_mongo import AssetIndexMongo\n",
    "from exobuilder.data.exostorage import EXOStorage"
   ]
  },
  {
   "cell_type": "markdown",
   "metadata": {},
   "source": [
    "## Initializing the data source"
   ]
  },
  {
   "cell_type": "code",
   "execution_count": null,
   "metadata": {
    "collapsed": false
   },
   "outputs": [],
   "source": [
    "mongo_connstr = 'mongodb://localhost:27017/'\n",
    "mongo_db_name = 'tmldb'\n",
    "assetindex = AssetIndexMongo(mongo_connstr, mongo_db_name)\n",
    "exostorage = EXOStorage(mongo_connstr, mongo_db_name)\n",
    "\n",
    "date = datetime(2014, 1, 6, 10, 15, 0)\n",
    "futures_limit = 3\n",
    "options_limit = 10\n",
    "\n",
    "datasource = DataSourceMongo(mongo_connstr, mongo_db_name, assetindex, futures_limit, options_limit, exostorage)"
   ]
  },
  {
   "cell_type": "markdown",
   "metadata": {},
   "source": [
    "## EXO Graph"
   ]
  },
  {
   "cell_type": "code",
   "execution_count": null,
   "metadata": {
    "collapsed": false
   },
   "outputs": [],
   "source": [
    "exo = exostorage.load_series('ES_ContFut')"
   ]
  },
  {
   "cell_type": "code",
   "execution_count": null,
   "metadata": {
    "collapsed": false
   },
   "outputs": [],
   "source": [
    "exo.plot()"
   ]
  },
  {
   "cell_type": "markdown",
   "metadata": {},
   "source": [
    "### Get instrument object"
   ]
  },
  {
   "cell_type": "code",
   "execution_count": null,
   "metadata": {
    "collapsed": false
   },
   "outputs": [],
   "source": [
    "instrument = datasource['ES']"
   ]
  },
  {
   "cell_type": "code",
   "execution_count": null,
   "metadata": {
    "collapsed": false
   },
   "outputs": [],
   "source": [
    "exo_engine = ExoEngineBase(self.symbol, self.date, self.datasource)\n",
    "trans = Transaction(self.fut_contract, self.date, 4.0, 12.3)\n",
    "exo_engine.position.add(trans)\n",
    "\n",
    "tr_list = exo_engine._transactions.setdefault(self.date, [])\n",
    "tr_list.append(trans)\n",
    "\n",
    "date = pd.date_range(\"2015-01-01 00:00:00\", \"2015-01-01 00:00:10\", freq=\"1S\")\n",
    "price = np.array([1, 1, 1, 1, 1, 1, 1, 1, 1, 1, 1], dtype=np.float64)\n",
    "\n",
    "exo_engine._series = pd.DataFrame(price, index=date, columns=['exo'])\n",
    "exo_engine._series.index = pd.to_datetime(exo_engine._series.index)"
   ]
  },
  {
   "cell_type": "code",
   "execution_count": null,
   "metadata": {
    "collapsed": false
   },
   "outputs": [],
   "source": [
    "import pandas as pd\n",
    "import numpy as np\n",
    "date = pd.date_range(\"2015-01-01 00:00:00\", \"2015-01-01 00:00:10\", freq=\"1S\")\n",
    "price = np.array([1, 1, 1, 1, 1, 1, 1, 1, 1, 1, 1], dtype=np.float64)\n",
    "df = pd.DataFrame(price, index=date, columns=['exo'])"
   ]
  },
  {
   "cell_type": "code",
   "execution_count": null,
   "metadata": {
    "collapsed": false
   },
   "outputs": [],
   "source": [
    "df.to_dict('dict')"
   ]
  },
  {
   "cell_type": "code",
   "execution_count": null,
   "metadata": {
    "collapsed": false
   },
   "outputs": [],
   "source": [
    "df = pd.Series()\n",
    "from pandas import Timestamp"
   ]
  },
  {
   "cell_type": "code",
   "execution_count": null,
   "metadata": {
    "collapsed": false
   },
   "outputs": [],
   "source": [
    "df[Timestamp('2015-01-01 00:00:10', offset='S')] = 12\n",
    "df[Timestamp('2015-01-01 00:00:11', offset='S')] = 12\n",
    "df[Timestamp('2015-01-01 00:00:12', offset='S')] = 12"
   ]
  },
  {
   "cell_type": "code",
   "execution_count": null,
   "metadata": {
    "collapsed": false
   },
   "outputs": [],
   "source": []
  },
  {
   "cell_type": "code",
   "execution_count": null,
   "metadata": {
    "collapsed": false
   },
   "outputs": [],
   "source": [
    "df.index.strftime()"
   ]
  },
  {
   "cell_type": "code",
   "execution_count": null,
   "metadata": {
    "collapsed": false
   },
   "outputs": [],
   "source": [
    "x = {}"
   ]
  },
  {
   "cell_type": "code",
   "execution_count": null,
   "metadata": {
    "collapsed": false
   },
   "outputs": [],
   "source": [
    "x[sd]"
   ]
  },
  {
   "cell_type": "code",
   "execution_count": null,
   "metadata": {
    "collapsed": false
   },
   "outputs": [],
   "source": []
  }
 ],
 "metadata": {
  "kernelspec": {
   "display_name": "Python [Root]",
   "language": "python",
   "name": "Python [Root]"
  },
  "language_info": {
   "codemirror_mode": {
    "name": "ipython",
    "version": 3
   },
   "file_extension": ".py",
   "mimetype": "text/x-python",
   "name": "python",
   "nbconvert_exporter": "python",
   "pygments_lexer": "ipython3",
   "version": "3.5.2"
  }
 },
 "nbformat": 4,
 "nbformat_minor": 0
}
