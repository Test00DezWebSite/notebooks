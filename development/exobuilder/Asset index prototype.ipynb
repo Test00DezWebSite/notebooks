{
 "cells": [
  {
   "cell_type": "code",
   "execution_count": null,
   "metadata": {
    "collapsed": false
   },
   "outputs": [],
   "source": [
    "import pymongo\n",
    "from pymongo import MongoClient\n",
    "client = MongoClient('mongodb://localhost:27017/')\n",
    "db = client['tmldb']"
   ]
  },
  {
   "cell_type": "code",
   "execution_count": null,
   "metadata": {
    "collapsed": false
   },
   "outputs": [],
   "source": [
    "from datetime import datetime"
   ]
  },
  {
   "cell_type": "code",
   "execution_count": null,
   "metadata": {
    "collapsed": false
   },
   "outputs": [],
   "source": [
    "collection = db['instruments']"
   ]
  },
  {
   "cell_type": "code",
   "execution_count": null,
   "metadata": {
    "collapsed": false
   },
   "outputs": [],
   "source": [
    "from bson.son import SON\n",
    "fut_chains = collection.aggregate(\n",
    "[\n",
    "   {\n",
    "      '$lookup':\n",
    "        {\n",
    "          \"from\": \"contracts\",\n",
    "          \"localField\": 'idinstrument',\n",
    "          \"foreignField\": 'idinstrument',\n",
    "          \"as\": \"futures_chains\"\n",
    "        },\n",
    "   },\n",
    "   {   \n",
    "       \"$sort\": SON([(\"futures_chains.expirationdate\", -1)])\n",
    "   }\n",
    "   \n",
    "   \n",
    "])"
   ]
  },
  {
   "cell_type": "code",
   "execution_count": null,
   "metadata": {
    "collapsed": false
   },
   "outputs": [],
   "source": [
    "db.options.create_index([('idcontract', pymongo.ASCENDING),('expirationdate', pymongo.ASCENDING), ('strike', pymongo.ASCENDING),  ])"
   ]
  },
  {
   "cell_type": "code",
   "execution_count": null,
   "metadata": {
    "collapsed": false,
    "scrolled": false
   },
   "outputs": [],
   "source": [
    "import time\n",
    "start = time.time()\n",
    "\n",
    "def get_opt_chain(idcontract):\n",
    "    c = db.options.aggregate([\n",
    "    {'$match': { 'idcontract' : idcontract }},     \n",
    "    {'$sort': SON([('expirationdate', 1), ('strikeprice', 1)])},\n",
    "    {'$group': { \"_id\" : \"$expirationdate\",\n",
    "                \"strikes\": { \"$addToSet\": \"$strikeprice\" }}},\n",
    "\n",
    "    ])\n",
    "\n",
    "    expirations_values = []\n",
    "    for item in c:\n",
    "        c2 = db.options.aggregate([\n",
    "            {'$match': { 'idcontract' : idcontract }},     \n",
    "            {'$match': { 'expirationdate' : item['_id'] }},\n",
    "            {'$match': { 'strikeprice' : {\"$in\": item['strikes']} }},     \n",
    "            {'$group': { \"_id\" : \"$strikeprice\",\n",
    "                        'chain': { \"$push\": \"$$ROOT\" }}},\n",
    "            {'$sort': SON([('_id', 1)])},   ])\n",
    "\n",
    "        strikes_values = []\n",
    "        for s in c2:\n",
    "            #print(s)\n",
    "            strikes_values.append(s)\n",
    "            #pprint.pprint(s)\n",
    "        item['strikes'] = strikes_values\n",
    "\n",
    "        #pprint.pprint(item)\n",
    "        expirations_values.append(item)\n",
    "    \n",
    "    return expirations_values\n",
    "\n",
    "import pprint\n",
    "for instrument in  collection.find():\n",
    "    fut_chains = []\n",
    "    for contract in db.contracts.find({'idinstrument': instrument['idinstrument']}).sort('expirationdate'):\n",
    "        option_chains = []\n",
    "        \n",
    "        contract['option_chains'] = get_opt_chain(contract['idcontract'])        \n",
    "        #pprint.pprint(contract)\n",
    "        fut_chains.append(contract)\n",
    "        \n",
    "    instrument['fut_chains'] = fut_chains\n",
    "    \n",
    "    #pprint.pprint(instrument)\n",
    "    #instrument['_id'] = instrument['cqgsymbol']\n",
    "    del instrument['_id']\n",
    "    db.assetindex.insert_one(instrument)\n",
    "    \n",
    "\n",
    "    \n",
    "    \n",
    "end = time.time()\n",
    "print(end - start)"
   ]
  },
  {
   "cell_type": "code",
   "execution_count": null,
   "metadata": {
    "collapsed": false
   },
   "outputs": [],
   "source": [
    "for option in db.options.find({'idcontract': 7079}).sort([('expirationdate', 1)]):\n",
    "    print(option)"
   ]
  },
  {
   "cell_type": "code",
   "execution_count": null,
   "metadata": {
    "collapsed": false
   },
   "outputs": [],
   "source": [
    "db.options.create_index([('exchangesymbol', pymongo.ASCENDING)])\n",
    "    "
   ]
  },
  {
   "cell_type": "code",
   "execution_count": null,
   "metadata": {
    "collapsed": false
   },
   "outputs": [],
   "source": [
    "sym = db.instruments.find({'exchangesymbol':'CL'}).next()"
   ]
  },
  {
   "cell_type": "code",
   "execution_count": null,
   "metadata": {
    "collapsed": false
   },
   "outputs": [],
   "source": [
    "db.futures_data.find({'exchangesymbol':'CL'}).next()"
   ]
  },
  {
   "cell_type": "code",
   "execution_count": null,
   "metadata": {
    "collapsed": false
   },
   "outputs": [],
   "source": [
    "import json\n",
    "import pickle\n",
    "import gzip\n",
    "\n",
    "instr_name = 'EP'\n",
    "sym = db.instruments.find({'symbol':instr_name}).next()\n",
    "\n",
    "\n",
    "with gzip.GzipFile(instr_name+'_instrument.pgz', 'w') as f:\n",
    "    pickle.dump(sym, f)"
   ]
  },
  {
   "cell_type": "code",
   "execution_count": null,
   "metadata": {
    "collapsed": false
   },
   "outputs": [],
   "source": [
    "with gzip.GzipFile(instr_name+'_instrument.pgz', 'r') as f:\n",
    "    chain_data = pickle.load(f)"
   ]
  },
  {
   "cell_type": "code",
   "execution_count": null,
   "metadata": {
    "collapsed": false
   },
   "outputs": [],
   "source": [
    "sym"
   ]
  },
  {
   "cell_type": "code",
   "execution_count": null,
   "metadata": {
    "collapsed": false
   },
   "outputs": [],
   "source": [
    "import json\n",
    "import pickle\n",
    "import gzip\n",
    "\n",
    "fut_chains = []\n",
    "for contract in db.contracts.find({\n",
    "        'idinstrument': sym['idinstrument'], \n",
    "        'expirationdate': {'$gt': datetime(2014, 1, 1, 0,0,0)}}).sort('expirationdate').limit(12):    \n",
    "    fut_chains.append(contract)\n",
    "\n",
    "\n",
    "with gzip.GzipFile(instr_name+'_futures.pgz', 'w') as f:\n",
    "#with open('CL.data', 'bw') as f:\n",
    "    pickle.dump(fut_chains, f)"
   ]
  },
  {
   "cell_type": "code",
   "execution_count": null,
   "metadata": {
    "collapsed": false
   },
   "outputs": [],
   "source": [
    "fut_chains"
   ]
  },
  {
   "cell_type": "code",
   "execution_count": null,
   "metadata": {
    "collapsed": false
   },
   "outputs": [],
   "source": [
    "[x['expirationdate'] for x in fut_chains]"
   ]
  },
  {
   "cell_type": "code",
   "execution_count": null,
   "metadata": {
    "collapsed": false
   },
   "outputs": [],
   "source": [
    "fut_ids = []\n",
    "\n",
    "for f in fut_chains:\n",
    "    fut_ids.append(f['idcontract'])"
   ]
  },
  {
   "cell_type": "code",
   "execution_count": null,
   "metadata": {
    "collapsed": false
   },
   "outputs": [],
   "source": [
    "fut_ids"
   ]
  },
  {
   "cell_type": "code",
   "execution_count": null,
   "metadata": {
    "collapsed": false
   },
   "outputs": [],
   "source": [
    "import json\n",
    "import pickle\n",
    "import gzip\n",
    "\n",
    "opt_chains = []\n",
    "for contract in db.options.aggregate([\n",
    "    {'$match': {'idcontract': 4736}},\n",
    "    {'$sort': { 'strikeprice': 1} },    \n",
    "    {'$group': {\n",
    "        '_id': {'date': '$expirationdate'},\n",
    "        'chain': {'$push': '$$ROOT'},\n",
    "        }\n",
    "    },    \n",
    "    {'$sort':{\"_id.date\":1}}   \n",
    "    ]):\n",
    "    opt_chains.append(contract)\n",
    "\n",
    "with gzip.GzipFile(instr_name+'_options.pgz', 'w') as f:\n",
    "#with open('CL.data', 'bw') as f:\n",
    "    pickle.dump(opt_chains, f)"
   ]
  },
  {
   "cell_type": "code",
   "execution_count": null,
   "metadata": {
    "collapsed": false
   },
   "outputs": [],
   "source": [
    "opt_chains"
   ]
  },
  {
   "cell_type": "code",
   "execution_count": null,
   "metadata": {
    "collapsed": false
   },
   "outputs": [],
   "source": []
  },
  {
   "cell_type": "code",
   "execution_count": null,
   "metadata": {
    "collapsed": false
   },
   "outputs": [],
   "source": [
    "d = {}"
   ]
  },
  {
   "cell_type": "code",
   "execution_count": null,
   "metadata": {
    "collapsed": false
   },
   "outputs": [],
   "source": [
    "d['sd']"
   ]
  },
  {
   "cell_type": "code",
   "execution_count": null,
   "metadata": {
    "collapsed": false
   },
   "outputs": [],
   "source": [
    "db.futures_data.find({'datetime': datetime(2014, 1, 6, 10,15, 0), 'idcontract': 4736})"
   ]
  },
  {
   "cell_type": "code",
   "execution_count": null,
   "metadata": {
    "collapsed": false
   },
   "outputs": [],
   "source": [
    "db.futures_data.create_index([('idcontract', pymongo.ASCENDING),('datetime', pymongo.ASCENDING)])"
   ]
  }
 ],
 "metadata": {
  "kernelspec": {
   "display_name": "Python [Root]",
   "language": "python",
   "name": "Python [Root]"
  },
  "language_info": {
   "codemirror_mode": {
    "name": "ipython",
    "version": 3
   },
   "file_extension": ".py",
   "mimetype": "text/x-python",
   "name": "python",
   "nbconvert_exporter": "python",
   "pygments_lexer": "ipython3",
   "version": "3.5.2"
  }
 },
 "nbformat": 4,
 "nbformat_minor": 0
}
