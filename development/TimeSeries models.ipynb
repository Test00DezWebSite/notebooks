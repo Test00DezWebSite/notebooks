{
 "cells": [
  {
   "cell_type": "code",
   "execution_count": null,
   "metadata": {
    "collapsed": false
   },
   "outputs": [],
   "source": [
    "import sys\n",
    "sys.path.append('../..')\n",
    "from backtester import matlab, backtester\n",
    "from backtester.analysis import *\n",
    "import pandas as pd\n",
    "import numpy as np\n",
    "import glob, os\n",
    "\n",
    "import itertools\n",
    "\n",
    "from backtester.exoinfo import EXOInfo\n",
    "from exobuilder.data.exostorage import EXOStorage\n",
    "from IPython.core.display import display, HTML\n",
    "\n",
    "import statsmodels.tsa.api as smt\n",
    "import statsmodels.api as sm\n",
    "\n",
    "import plotly.plotly as py  \n",
    "import plotly.tools as tls   \n",
    "import plotly.graph_objs as go\n",
    "\n",
    "import pandas as pd\n",
    "import numpy as np\n",
    "import scipy\n",
    "import pprint\n",
    "\n",
    "%pylab inline\n",
    "figsize(20,10)"
   ]
  },
  {
   "cell_type": "code",
   "execution_count": null,
   "metadata": {
    "collapsed": false,
    "scrolled": false
   },
   "outputs": [],
   "source": [
    "# Loading global setting for MongoDB etc.\n",
    "from scripts.settings import *\n",
    "\n",
    "try:\n",
    "    from scripts.settings_local import *\n",
    "except:\n",
    "    pass\n",
    "\n",
    "storage = EXOStorage(MONGO_CONNSTR, MONGO_EXO_DB)\n",
    "pp = pprint.PrettyPrinter(indent=4)\n",
    "\n",
    "exo_list = storage.exo_list()\n",
    "pp.pprint(exo_list)\n",
    "\n",
    "\n",
    "df = pd.DataFrame()\n",
    "\n",
    "for e in exo_list:\n",
    "    exo_series, exo_dict = storage.load_series(e)\n",
    "    \n",
    "    exo_series = exo_series[exo_series.columns[0]]\n",
    "    df[exo_dict['name']] = exo_series\n",
    "#exo_series.plot()"
   ]
  },
  {
   "cell_type": "code",
   "execution_count": null,
   "metadata": {
    "collapsed": false
   },
   "outputs": [],
   "source": [
    "df.tail()"
   ]
  },
  {
   "cell_type": "code",
   "execution_count": null,
   "metadata": {
    "collapsed": false
   },
   "outputs": [],
   "source": [
    "px_ser = df.CL_PutSpread\n",
    "px_ser.asfreq('B').dropna().plot()"
   ]
  },
  {
   "cell_type": "markdown",
   "metadata": {},
   "source": [
    "# Data examination"
   ]
  },
  {
   "cell_type": "code",
   "execution_count": null,
   "metadata": {
    "collapsed": false
   },
   "outputs": [],
   "source": [
    "#ts = px_ser.asfreq('B').dropna()\n",
    "ts = px_ser.rolling(10).mean().diff().dropna()\n",
    "#ts = (px_ser - px_ser.ewm(10).mean()).dropna()\n",
    "#ts = px_ser.diff(1).dropna()\n",
    "\n",
    "#ts = (px_ser - px_ser.shift(1)).dropna()\n",
    "#ts = px_ser.pct_change(1).dropna()\n",
    "#ts = ((px_ser - px_ser.ewm(10).mean()) / px_ser.ewm(10).std()).dropna()"
   ]
  },
  {
   "cell_type": "code",
   "execution_count": null,
   "metadata": {
    "collapsed": false,
    "scrolled": false
   },
   "outputs": [],
   "source": [
    "#ts.cumsum().ix['2010':].plot()\n",
    "ts.ix[:'2016'].plot(secondary_y=True)\n",
    "\n",
    "#px_ser.ix['2010':].plot()\n",
    "px_ser.ix[:'2016'].plot()"
   ]
  },
  {
   "cell_type": "code",
   "execution_count": null,
   "metadata": {
    "collapsed": false
   },
   "outputs": [],
   "source": [
    "smt.adfuller(ts)"
   ]
  },
  {
   "cell_type": "code",
   "execution_count": null,
   "metadata": {
    "collapsed": false,
    "scrolled": false
   },
   "outputs": [],
   "source": [
    "sm.graphics.tsa.plot_acf(ts, lags=70)"
   ]
  },
  {
   "cell_type": "markdown",
   "metadata": {},
   "source": [
    "# Model"
   ]
  },
  {
   "cell_type": "code",
   "execution_count": null,
   "metadata": {
    "collapsed": false
   },
   "outputs": [],
   "source": [
    "model = smt.ARIMA(ts, order=(4,0,1)).fit()\n",
    "\n",
    "\n",
    "forecast_period = 10\n",
    "\n",
    "forecast_daterange = pd.date_range(start=ts.index[-1] + pd.DateOffset(1), periods=forecast_period)\n",
    "\n",
    "forecast_values = model.forecast(forecast_period)\n",
    "\n",
    "forecast_confint_df = pd.DataFrame(model.forecast(forecast_period)[2], \n",
    "                                   index=forecast_daterange, columns=['Low_ConfInterval_Boundary', 'High_ConfInterval_Boundary'])\n",
    "\n",
    "forecast_series = pd.Series(forecast_values[0], index=forecast_daterange)\n",
    "\n",
    "\n",
    "ts.ix['2015':].plot()\n",
    "\n",
    "forecast_confint_df.Low_ConfInterval_Boundary.ix['2015':].plot()\n",
    "forecast_confint_df.High_ConfInterval_Boundary.ix['2015':].plot()\n",
    "#forecast_series.cumsum().plot()\n",
    "#model_result.fittedvalues.ix['2015':].plot()\n",
    "#pd.concat([centered_ma, forecast_series]).ix['2015-12':].plot()\n",
    "forecast_series.ix['2015':].plot()\n",
    "#model.fittedvalues.ix['2015':].plot()"
   ]
  },
  {
   "cell_type": "markdown",
   "metadata": {},
   "source": [
    "\n",
    "# Streaming\n",
    "\n",
    "\n",
    "\n",
    "\n",
    "\n",
    "\n",
    "\n",
    "\n",
    "\n",
    "\n",
    "\n",
    "\n",
    "\n",
    "\n",
    "\n",
    "\n",
    "\n",
    "\n",
    "\n",
    "\n",
    "\n"
   ]
  },
  {
   "cell_type": "code",
   "execution_count": null,
   "metadata": {
    "collapsed": false
   },
   "outputs": [],
   "source": [
    "#py.sign_in('tmqr', '8rctfyu197')\n",
    "py.sign_in('dmveden', 'rzbs7xw8ft')\n",
    "\n",
    "tls.set_credentials_file(username='dmveden', api_key='rzbs7xw8ft')"
   ]
  },
  {
   "cell_type": "code",
   "execution_count": null,
   "metadata": {
    "collapsed": false
   },
   "outputs": [],
   "source": [
    "stream_ids = tls.get_credentials_file()['stream_ids']\n",
    "print(stream_ids)"
   ]
  },
  {
   "cell_type": "code",
   "execution_count": null,
   "metadata": {
    "collapsed": false,
    "scrolled": false
   },
   "outputs": [],
   "source": [
    "# Get stream id from stream id list \n",
    "stream_id1 = 'twfcm3v44s'\n",
    "stream_id2 = '5dnfr3e5d8'\n",
    "stream_id3 = '1ynb4ujpbt'\n",
    "stream_id4 = '8k95n9xp75'\n",
    "\n",
    "# Make instance of stream id object \n",
    "stream_1 = go.Stream(\n",
    "    token=stream_id1,  # link stream id to 'token' key\n",
    "    maxpoints=60      # keep a max of 80 pts on screen\n",
    ")\n",
    "\n",
    "# Make instance of stream id object \n",
    "stream_2 = go.Stream(\n",
    "    token=stream_id2,  # link stream id to 'token' key\n",
    "    maxpoints=60      # keep a max of 80 pts on screen\n",
    ")\n",
    "\n",
    "# Make instance of stream id object \n",
    "stream_3 = go.Stream(\n",
    "    token=stream_id3,  # link stream id to 'token' key\n",
    "    maxpoints=60      # keep a max of 80 pts on screen\n",
    ")\n",
    "\n",
    "# Make instance of stream id object \n",
    "stream_4 = go.Stream(\n",
    "    token=stream_id4,  # link stream id to 'token' key\n",
    "    maxpoints=60      # keep a max of 80 pts on screen\n",
    ")\n",
    "\n",
    "\n",
    "\n",
    "trace1 = go.Scatter(x=[], y=[], stream=stream_1, name='Time Series')\n",
    "trace2 = go.Scatter(x=[], y=[], stream=stream_2, name='Forecast Values', marker=dict(color='rgb(148, 103, 189)'))\n",
    "trace3 = go.Scatter(x=[], y=[], stream=stream_3, name='High Confidence Interval, 95%', marker=dict(color='rgb(0, 255, 0'))\n",
    "trace4 = go.Scatter(x=[], y=[], stream=stream_4, name='Low Confidence Interval, 95%', marker=dict(color='rgb(255, 0, 0'))\n",
    "\n",
    "data = go.Data([trace1, trace2, trace3, trace4])\n",
    "#data = go.Data([trace1, trace2])\n",
    "\n",
    "# Add title to layout object\n",
    "layout = go.Layout(title='ARIMA Calculation Process')\n",
    "\n",
    "# Make a figure object\n",
    "fig = go.Figure(data=data, layout=layout)\n",
    "\n",
    "# Send fig to Plotly, initialize streaming plot, open new tab\n",
    "py.iplot(fig, filename='python-streaming')"
   ]
  },
  {
   "cell_type": "code",
   "execution_count": null,
   "metadata": {
    "collapsed": false,
    "scrolled": false
   },
   "outputs": [],
   "source": [
    "# We will provide the stream link object the same token that's associated with the trace we wish to stream to\n",
    "s_1 = py.Stream(stream_id=stream_id1)\n",
    "s_2 = py.Stream(stream_id=stream_id2)\n",
    "s_3 = py.Stream(stream_id=stream_id3)\n",
    "s_4 = py.Stream(stream_id=stream_id4)\n",
    "\n",
    "# We then open a connection\n",
    "s_1.open()\n",
    "s_2.open()\n",
    "s_3.open()\n",
    "s_4.open()\n",
    "\n",
    "# (*) Import module keep track and format current time\n",
    "import datetime \n",
    "import time   \n",
    " \n",
    "i = 100  # a counter\n",
    "\n",
    "forecast_series = pd.Series()\n",
    "\n",
    "forecast_confint_df = pd.DataFrame()\n",
    "\n",
    "\n",
    "append_new_forecasts_flag = True\n",
    "\n",
    "\n",
    "while True:\n",
    "    if i >= px_ser.size:\n",
    "        break\n",
    "    \n",
    "    try:\n",
    "        model = smt.ARIMA(ts.iloc[:i], order=(4,1,0)).fit()\n",
    "    \n",
    "    except Exception:\n",
    "        i += forecast_period\n",
    "        continue\n",
    "\n",
    "    forecast_period = 1\n",
    "    \n",
    "    forecast_daterange = pd.date_range(start=ts.iloc[:i].index[-1] + pd.DateOffset(1), periods=forecast_period)\n",
    "    #forecast_daterange = pd.date_range(start=ts.iloc[:i].index[-1] + pd.DateOffset(1), freq='B')\n",
    "    \n",
    "    forecast_values = model.forecast(forecast_period)\n",
    "\n",
    "    if append_new_forecasts_flag == True:\n",
    "        \n",
    "        if forecast_confint_df.size == 0:    \n",
    "            forecast_confint_df = pd.DataFrame(model.forecast(forecast_period)[2], \n",
    "                                               index=forecast_daterange, \n",
    "                                               columns=['Low_ConfInterval_Boundary', 'High_ConfInterval_Boundary'])\n",
    "        else:\n",
    "            forecast_confint_df = pd.concat([forecast_confint_df, pd.DataFrame(model.forecast(forecast_period)[2], \n",
    "                                                                               index=forecast_daterange, \n",
    "                                                                               columns=['Low_ConfInterval_Boundary', \n",
    "                                                                                        'High_ConfInterval_Boundary'])])\n",
    "\n",
    "        if forecast_series.size == 0:    \n",
    "            forecast_series = pd.Series(forecast_values[0], index=forecast_daterange)\n",
    "\n",
    "        else:\n",
    "            forecast_series = pd.concat([forecast_series, pd.Series(forecast_values[0], index=forecast_daterange)])\n",
    "    \n",
    "    \n",
    "    if append_new_forecasts_flag == False:\n",
    "        forecast_confint_df = pd.DataFrame(model.forecast(forecast_period)[2], \n",
    "                                           index=forecast_daterange, \n",
    "                                           columns=['Low_ConfInterval_Boundary', 'High_ConfInterval_Boundary'])\n",
    "\n",
    "        forecast_series = pd.Series(forecast_values[0], index=forecast_daterange)\n",
    "\n",
    "\n",
    "    \n",
    "    # Current time on x-axis, random numbers on y-axis\n",
    "    x_1 = ts.iloc[:i].index\n",
    "    y_1 = ts.iloc[:i]\n",
    "     \n",
    "    x_2 = forecast_series.iloc[:i].index\n",
    "    y_2 = forecast_series.iloc[:i] \n",
    "    \n",
    "    x_3 = forecast_confint_df.High_ConfInterval_Boundary.iloc[:i].index\n",
    "    y_3 = forecast_confint_df.High_ConfInterval_Boundary.iloc[:i] \n",
    "    \n",
    "    x_4 = forecast_confint_df.Low_ConfInterval_Boundary.iloc[:i].index\n",
    "    y_4 = forecast_confint_df.Low_ConfInterval_Boundary.iloc[:i] \n",
    "    \n",
    "    \n",
    "    # Send data to your plot\n",
    "    s_1.write(dict(x=x_1, y=y_1))  \n",
    "\n",
    "    s_2.write(dict(x=x_2, y=y_2))  \n",
    " \n",
    "    s_3.write(dict(x=x_3, y=y_3))  \n",
    " \n",
    "    s_4.write(dict(x=x_4, y=y_4))  \n",
    " \n",
    "    #     Write numbers to stream to append current data on plot,\n",
    "    #     write lists to overwrite existing data on plot\n",
    "    \n",
    "    time.sleep(0.2)    \n",
    "    \n",
    "    x_1 = ts.iloc[:i+forecast_period].index\n",
    "    y_1 = ts.iloc[:i+forecast_period]\n",
    "    s_1.write(dict(x=x_1, y=y_1))  \n",
    "    \n",
    "        \n",
    "    time.sleep(0.1)  # plot a point every second    \n",
    "    i += forecast_period\n",
    "    \n",
    "   \n",
    "# Close the stream when done plotting\n",
    "s_1.close() \n",
    "s_2.close() \n",
    "s_3.close() \n",
    "s_4.close() "
   ]
  },
  {
   "cell_type": "code",
   "execution_count": null,
   "metadata": {
    "collapsed": false
   },
   "outputs": [],
   "source": []
  },
  {
   "cell_type": "code",
   "execution_count": null,
   "metadata": {
    "collapsed": false
   },
   "outputs": [],
   "source": []
  }
 ],
 "metadata": {
  "kernelspec": {
   "display_name": "Python 3",
   "language": "python",
   "name": "python3"
  },
  "language_info": {
   "codemirror_mode": {
    "name": "ipython",
    "version": 3
   },
   "file_extension": ".py",
   "mimetype": "text/x-python",
   "name": "python",
   "nbconvert_exporter": "python",
   "pygments_lexer": "ipython3",
   "version": "3.5.2"
  }
 },
 "nbformat": 4,
 "nbformat_minor": 0
}
