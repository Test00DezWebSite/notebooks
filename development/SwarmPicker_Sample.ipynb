{
 "cells": [
  {
   "cell_type": "code",
   "execution_count": null,
   "metadata": {
    "collapsed": false
   },
   "outputs": [],
   "source": [
    "import sys\n",
    "sys.path.append('..')\n",
    "from backtester import matlab, backtester\n",
    "from backtester.analysis import *\n",
    "import pandas as pd\n",
    "import numpy as np"
   ]
  },
  {
   "cell_type": "code",
   "execution_count": null,
   "metadata": {
    "collapsed": false
   },
   "outputs": [],
   "source": [
    "%pylab inline\n",
    "%load_ext autoreload\n",
    "%autoreload 2"
   ]
  },
  {
   "cell_type": "code",
   "execution_count": null,
   "metadata": {
    "collapsed": false
   },
   "outputs": [],
   "source": [
    "strategyname = 'strategy_270225'\n",
    "d, info = matlab.loaddata('../mat/'+strategyname+'.mat')"
   ]
  },
  {
   "cell_type": "code",
   "execution_count": null,
   "metadata": {
    "collapsed": false
   },
   "outputs": [],
   "source": [
    "d.exo.plot();"
   ]
  },
  {
   "cell_type": "code",
   "execution_count": null,
   "metadata": {
    "collapsed": false
   },
   "outputs": [],
   "source": [
    "info"
   ]
  },
  {
   "cell_type": "markdown",
   "metadata": {
    "collapsed": false
   },
   "source": [
    "# Init simple MA crossover swarming algo"
   ]
  },
  {
   "cell_type": "code",
   "execution_count": null,
   "metadata": {
    "collapsed": false
   },
   "outputs": [],
   "source": [
    "data = {}\n",
    "for slowp in np.arange(10, 20, 1):\n",
    "        for fastp in np.arange(2, 10, 2):\n",
    "            slow_ma = d.exo.rolling(slowp).mean()\n",
    "            fast_ma = d.exo.rolling(fastp).mean()\n",
    "\n",
    "            short_entry = CrossDown(fast_ma, slow_ma)\n",
    "            short_exit = CrossUp(fast_ma, slow_ma)\n",
    "\n",
    "            direction = -1\n",
    "            pl1, inposition1 = backtester.backtest(d, short_entry, short_exit, direction )\n",
    "            #trades = backtester.trades(pl1, inposition1)\n",
    "            equity, stats = backtester.stats(pl1, inposition1)\n",
    "            data[ str((slowp, fastp)) ] = equity"
   ]
  },
  {
   "cell_type": "code",
   "execution_count": null,
   "metadata": {
    "collapsed": false
   },
   "outputs": [],
   "source": [
    "df = pd.DataFrame.from_dict(data)"
   ]
  },
  {
   "cell_type": "code",
   "execution_count": null,
   "metadata": {
    "collapsed": false
   },
   "outputs": [],
   "source": [
    "class SwarmRank(object):\n",
    "    \"\"\"\n",
    "    Swarm ranking common class\n",
    "    \"\"\"\n",
    "    def __init__(self, reranktime):\n",
    "        self.reranktime = reranktime\n",
    "        \n",
    "    def rank_highestret(self, eqty):\n",
    "        \"\"\"\n",
    "        Ranking function\n",
    "        Calculate last 14 days equity returns, excluding out-of-market time\n",
    "        \"\"\"\n",
    "        \n",
    "        if len(self.reranktime) != len(eqty):\n",
    "            raise ValueError('Length of self.reranktime != equity length')\n",
    "            \n",
    "        result = np.full_like(eqty, np.nan)\n",
    "        \n",
    "        for i in range(len(self.reranktime)):            \n",
    "            # Skip 14 days\n",
    "            if i < 15:\n",
    "                continue\n",
    "                        \n",
    "            if self.reranktime[i]:\n",
    "                # We at the point of reranking\n",
    "                \n",
    "                # Skip periods without trades\n",
    "                e = np.unique(eqty[:i+1])\n",
    "                \n",
    "                if len(e) < 15:\n",
    "                    continue\n",
    "                    \n",
    "                # Recalculate last 14 period returns\n",
    "                result[i] = e[len(e) - 1] - e[len(e) - 14]\n",
    "                \n",
    "        return pd.Series(result, index=eqty.index)"
   ]
  },
  {
   "cell_type": "markdown",
   "metadata": {},
   "source": [
    "# Run swarm picking routine"
   ]
  },
  {
   "cell_type": "code",
   "execution_count": null,
   "metadata": {
    "collapsed": false
   },
   "outputs": [],
   "source": [
    "# Number of swarm members to pick\n",
    "nSystems = 5\n",
    "\n",
    "# Rebalance the swarm every Monday\n",
    "rerank_time = df.index.dayofweek == 0\n",
    "\n",
    "# Rank systems\n",
    "ranking_algo =  SwarmRank(rerank_time)\n",
    "\n",
    "# Last 14 days returns rank\n",
    "rets = df.apply(ranking_algo.rank_highestret)\n",
    "rnk = rets.rank(axis=1, pct=True)\n",
    "\n",
    "\n",
    "is_picked_df = pd.DataFrame(False, index=df.index, columns=df.columns)\n",
    "nbest = None\n",
    "\n",
    "for i in range(len(rerank_time)):\n",
    "    if i < 100:\n",
    "        continue \n",
    "    if rerank_time[i]:\n",
    "        # Select N best ranked systems to trade\n",
    "        nbest = rnk.iloc[i].sort_values()\n",
    "        \n",
    "        # Filter early trades\n",
    "        if nbest.sum() == 0:\n",
    "            nbest[:] = False\n",
    "            continue\n",
    "        \n",
    "        # Flagging picked trading systems\n",
    "        nbest[-nSystems:] = True\n",
    "        nbest[:-nSystems] = False\n",
    "        is_picked_df.iloc[i] = nbest        \n",
    "        \n",
    "    else:\n",
    "        # Flag last picked swarm members untill new rerank_time\n",
    "        if nbest is not None:\n",
    "            is_picked_df.iloc[i] = nbest       "
   ]
  },
  {
   "cell_type": "markdown",
   "metadata": {},
   "source": [
    "# Swarm picking results comparison\n"
   ]
  },
  {
   "cell_type": "code",
   "execution_count": null,
   "metadata": {
    "collapsed": false
   },
   "outputs": [],
   "source": [
    "figsize(15,15)\n",
    "\n",
    "#\n",
    "# Compose average equity for picked swarms members and all-in-one average\n",
    "#\n",
    "eq_changes = df.diff()\n",
    "avg_picked_equity = eq_changes[is_picked_df].mean(axis=1).cumsum()\n",
    "avg_all_equity = eq_changes.mean(axis=1).cumsum()\n",
    "\n",
    "\n",
    "avg_picked_equity.plot(label='Picked swarm')\n",
    "avg_all_equity.plot(c='g', label='Avg swarm')\n",
    "legend(loc=2)"
   ]
  },
  {
   "cell_type": "code",
   "execution_count": null,
   "metadata": {
    "collapsed": false
   },
   "outputs": [],
   "source": [
    "#\n",
    "# Compose average equity for picked swarms members and all-in-one average\n",
    "#\n",
    "eq_changes = df.diff()\n",
    "avg_all_equity = eq_changes.cumsum().plot()"
   ]
  },
  {
   "cell_type": "code",
   "execution_count": null,
   "metadata": {
    "collapsed": false
   },
   "outputs": [],
   "source": []
  }
 ],
 "metadata": {
  "kernelspec": {
   "display_name": "Python 3",
   "language": "python",
   "name": "python3"
  },
  "language_info": {
   "codemirror_mode": {
    "name": "ipython",
    "version": 3
   },
   "file_extension": ".py",
   "mimetype": "text/x-python",
   "name": "python",
   "nbconvert_exporter": "python",
   "pygments_lexer": "ipython3",
   "version": "3.5.1"
  }
 },
 "nbformat": 4,
 "nbformat_minor": 0
}
