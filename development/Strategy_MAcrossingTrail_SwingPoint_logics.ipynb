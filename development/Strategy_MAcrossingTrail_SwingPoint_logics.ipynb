{
 "cells": [
  {
   "cell_type": "code",
   "execution_count": null,
   "metadata": {
    "collapsed": false
   },
   "outputs": [],
   "source": [
    "import sys,os\n",
    "sys.path.append('..')\n",
    "from backtester import matlab, backtester\n",
    "from backtester.analysis import *\n",
    "from backtester.strategy import StrategyBase, OptParam\n",
    "from backtester.swarms import SwarmManager, SwarmRanker\n",
    "\n",
    "import pandas as pd\n",
    "import numpy as np\n",
    "import scipy"
   ]
  },
  {
   "cell_type": "code",
   "execution_count": null,
   "metadata": {
    "collapsed": false
   },
   "outputs": [],
   "source": [
    "%pylab inline\n",
    "%load_ext autoreload\n",
    "%autoreload 2"
   ]
  },
  {
   "cell_type": "code",
   "execution_count": null,
   "metadata": {
    "collapsed": false
   },
   "outputs": [],
   "source": [
    "strategyname_global = 'strategy_270225'\n",
    "d, info = matlab.loaddata('../mat/'+strategyname_global+'.mat')"
   ]
  },
  {
   "cell_type": "code",
   "execution_count": null,
   "metadata": {
    "collapsed": false
   },
   "outputs": [],
   "source": [
    "d.exo.plot()"
   ]
  },
  {
   "cell_type": "code",
   "execution_count": null,
   "metadata": {
    "collapsed": false
   },
   "outputs": [],
   "source": [
    "info"
   ]
  },
  {
   "cell_type": "markdown",
   "metadata": {},
   "source": [
    "# Class based strategy\n",
    "\n",
    "* Enter short when fast MA crosses down slow MA\n",
    "* Exit when fast MA crosses up slow MA + median trailing stop\n"
   ]
  },
  {
   "cell_type": "code",
   "execution_count": null,
   "metadata": {
    "collapsed": false
   },
   "outputs": [],
   "source": [
    "class StrategyMACrossTrail(StrategyBase):\n",
    "    def __init__(self):\n",
    "        # Initialize parent class\n",
    "        super().__init__()\n",
    "        \n",
    "        # Define system's name\n",
    "        self.name = 'MA Crossing with trailing stop'\n",
    "        \n",
    "        # This is a short strategy\n",
    "        self.direction = -1\n",
    "        \n",
    "        # Define optimized params\n",
    "        self.opts = [\n",
    "            #OptParam(name, default_value, min_value, max_value, step)\n",
    "            OptParam('SlowMAPeriod', 20, 10, 30, 2),\n",
    "            OptParam('FastMAPeriod', 2, 2, 20, 1),\n",
    "            OptParam('MedianPeriod', 5, 5, 20, 3)\n",
    "        ]\n",
    "        \n",
    "        self.initialize()\n",
    "        \n",
    "    def initialize(self):\n",
    "        #\n",
    "        #  Loading EXO quotes from .mat file\n",
    "        #\n",
    "        strategyname = strategyname_global\n",
    "        self.data, info = matlab.loaddata('../mat/'+strategyname+'.mat')\n",
    "        \n",
    "        #\n",
    "        # Estimating transaction costs in base points of price\n",
    "        #\n",
    "        \n",
    "        # No costs\n",
    "        self.costs = pd.Series(0, self.data.index)\n",
    "        \n",
    "        # Flat costs / 1 point of EXO price per side / 2 roundtrip\n",
    "        #self.costs = pd.Series(1, self.data.index)\n",
    "        \n",
    "        # Dynamic costs (we could utilize dynamic costs models)\n",
    "        #  Like slippage calculation on bid/ask data / etc\n",
    "        # Some meta code (just in my imagination)\n",
    "        # costmanager = CostManager('EXO.Ticker').LoadSlippageFromDB('2000-01-01', now)\n",
    "        # self.costs = costmanager.getslippage() + pd.Series(0.1, self.data.index) # Slippage + commission\n",
    "    \n",
    "    @property\n",
    "    def positionsize(self):\n",
    "        \"\"\"\n",
    "        Returns volatility adjuster positions size for strategy\n",
    "        :return:\n",
    "        \"\"\"\n",
    "        # Defining EXO price\n",
    "        px = self.data.exo\n",
    "\n",
    "        # Calculate position size adjusted to volatility of EXO\n",
    "        # Dollar risk per 1 volatility unit\n",
    "        risk_perunit = 100\n",
    "        risk_vola_period = 100\n",
    "\n",
    "        # Calculate volatility unit\n",
    "        # In this case we use 10-period rolling median of EXO changes\n",
    "        vola = abs(px.diff()).rolling(risk_vola_period).median()\n",
    "        # We want to risk 100$ per 1 volatility unit\n",
    "        #\n",
    "        # This type of position sizing used for calibration of swarm members\n",
    "        # After swarm generation and picking we will use portfolio based MM by Van Tharp\n",
    "        # Tailored for portfolio size and risks of particular client\n",
    "        return risk_perunit / vola\n",
    "    \n",
    "    def calculate(self, params=None):\n",
    "        #        \n",
    "        #\n",
    "        #  Params is a tripple like (50, 10, 15), where:\n",
    "        #   50 - slow MA period\n",
    "        #   10 - fast MA period\n",
    "        #   15 - median period\n",
    "        #\n",
    "        #  On every iteration of swarming algorithm, parameter set will be different.\n",
    "        #  For more information look inside: /notebooks/tmp/Swarming engine research.ipynb\n",
    "        #       \n",
    "        \n",
    "        if params is None:\n",
    "            # Return default parameters\n",
    "            period_slow, period_fast, period_median = self.default_opts()\n",
    "        else:\n",
    "            # Unpacking optimization params\n",
    "            #  in order in self.opts definition\n",
    "            period_slow, period_fast, period_median = params\n",
    "        \n",
    "        # Defining EXO price\n",
    "        px = self.data.exo\n",
    "        \n",
    "        #\n",
    "        #\n",
    "        # Indicator calculation\n",
    "        #\n",
    "        #\n",
    "        slow_ma = px.rolling(period_slow).mean()\n",
    "        fast_ma = px.rolling(period_fast).mean()\n",
    "        # Median based trailing stop\n",
    "        trailing_stop = px.rolling(period_median).median().shift(1)        \n",
    "    \n",
    "        # Enry/exit rules\n",
    "        entry_rule = CrossDown(fast_ma, slow_ma)\n",
    "        exit_rule = (CrossUp(fast_ma, slow_ma) ) | (CrossUp(px, trailing_stop))\n",
    "        \n",
    "        # Swarm_member_name must be *unique* for every swarm member\n",
    "        # We use params values for uniqueness \n",
    "        swarm_member_name = str((period_slow, period_fast, period_median))        \n",
    "        \n",
    "        return swarm_member_name, entry_rule, exit_rule"
   ]
  },
  {
   "cell_type": "markdown",
   "metadata": {},
   "source": [
    "<h1>Backtest results</h2>"
   ]
  },
  {
   "cell_type": "code",
   "execution_count": null,
   "metadata": {
    "collapsed": false
   },
   "outputs": [],
   "source": [
    "# Initiate the strategy\n",
    "\n",
    "strategy = StrategyMACrossTrail()"
   ]
  },
  {
   "cell_type": "code",
   "execution_count": null,
   "metadata": {
    "collapsed": false
   },
   "outputs": [],
   "source": [
    "strategy.positionsize.plot()"
   ]
  },
  {
   "cell_type": "code",
   "execution_count": null,
   "metadata": {
    "collapsed": false
   },
   "outputs": [],
   "source": [
    "# Running all parameters permutations in swarm\n",
    "swarm, swarm_stats, swarm_inposition = strategy.run_swarm()"
   ]
  },
  {
   "cell_type": "code",
   "execution_count": null,
   "metadata": {
    "collapsed": false
   },
   "outputs": [],
   "source": [
    "# Saving swarm for future use\n",
    "swarm.to_hdf('../swarms/macross_trailing.h5', 'swarm')"
   ]
  },
  {
   "cell_type": "markdown",
   "metadata": {},
   "source": [
    "# Analyze the swarm"
   ]
  },
  {
   "cell_type": "code",
   "execution_count": null,
   "metadata": {
    "collapsed": false
   },
   "outputs": [],
   "source": [
    "swarm = pd.read_hdf('../swarms/macross_trailing.h5', 'swarm')"
   ]
  },
  {
   "cell_type": "markdown",
   "metadata": {},
   "source": [
    "### Exploriong swarm bounds"
   ]
  },
  {
   "cell_type": "code",
   "execution_count": null,
   "metadata": {
    "collapsed": false
   },
   "outputs": [],
   "source": [
    "figsize(15,10)\n",
    "title(strategy.name)\n",
    "swarm.apply(lambda x: np.percentile(x, q=95), axis=1).plot(label='Top 5%', c='g')\n",
    "swarm.apply(lambda x: np.percentile(x, q=66), axis=1).plot(label='Top 66%', c='g', style='k--')\n",
    "swarm.apply(np.median, axis=1).plot(label='Median member')\n",
    "swarm.apply(lambda x: np.percentile(x, q=33), axis=1).plot(label='Bottom 33%', c='r', style='k--')\n",
    "swarm.apply(lambda x: np.percentile(x, q=5), axis=1).plot(label='Bottom 5%', c='r')\n",
    "\n",
    "legend(loc=2);"
   ]
  },
  {
   "cell_type": "markdown",
   "metadata": {},
   "source": [
    "## Picking the swarm members and compose a portfolio\n"
   ]
  },
  {
   "cell_type": "code",
   "execution_count": null,
   "metadata": {
    "collapsed": false
   },
   "outputs": [],
   "source": [
    "# Swarm Manager context (settings)\n",
    "context = {\n",
    "    'nsystems': 5, # Number of swarm members to pick\n",
    "}\n",
    "\n",
    "# Rebalance the swarm every Monday\n",
    "rebalance_time = swarm.index.dayofweek == 0\n",
    "# We can use smart rebalancing logics (like event driven logics)\n",
    "# rebalance_time = (5 days before contracts expiration)\n",
    "# rebalance_time = (rebalance if something changed in EXO behavior)\n",
    "# rebalance_time = (picked systems has shown degradation)\n",
    "\n",
    "\n",
    "#\n",
    "# Swarm ranking algorithm setup\n",
    "#\n",
    "\n",
    "# Rank systems by 14 days returns of equity\n",
    "# FYI: ranking_func must me assigned without () at the end of line!\n",
    "ranking_func =  SwarmRanker.highestreturns_14days\n",
    "# ranking_func = (any ranking logics we want!)\n",
    "# ranfing_func = (pick members with the best sharpe ratio)\n",
    "# ranfing_func = (pick most stable members all time)\n",
    "# ranfing_func = (pick most profitables members, which is currently in drawdown)"
   ]
  },
  {
   "cell_type": "markdown",
   "metadata": {},
   "source": [
    "### Setting up SwarmManager"
   ]
  },
  {
   "cell_type": "code",
   "execution_count": null,
   "metadata": {
    "collapsed": false
   },
   "outputs": [],
   "source": [
    "swarm_manager = SwarmManager(rebalancetime=rebalance_time,    # Every week\n",
    "                             rankerfunc=ranking_func,         # Rank - 14 days returns\n",
    "                             context=context,                 # Backtester settings / params\n",
    "                            )"
   ]
  },
  {
   "cell_type": "code",
   "execution_count": null,
   "metadata": {
    "collapsed": false
   },
   "outputs": [],
   "source": [
    "# Getting average swarm member equity\n",
    "avg_swarm = SwarmManager.get_average_swarm(swarm)"
   ]
  },
  {
   "cell_type": "markdown",
   "metadata": {},
   "source": [
    "### Swarm global filtering algorithms\n",
    "\n"
   ]
  },
  {
   "cell_type": "code",
   "execution_count": null,
   "metadata": {
    "collapsed": false
   },
   "outputs": [],
   "source": [
    "#\n",
    "# We can analyse avg_swarm equity or apply EXO based logics, everything we want\n",
    "#\n",
    "\n",
    "global_filter = None\n",
    "\n",
    "# Simple logic: trade if avg_swarm equity greater then moving_average(100)\n",
    "global_filter = avg_swarm < avg_swarm.rolling(100).mean()\n",
    "\n",
    "# For example\n",
    "# global_filter = (swing point global filter)\n",
    "# global_filter = (global volatility index (like VIX, for each asset) filter)"
   ]
  },
  {
   "cell_type": "code",
   "execution_count": null,
   "metadata": {
    "collapsed": false
   },
   "outputs": [],
   "source": [
    "price = avg_swarm #.ix['2015-06':]\n",
    "period = 10\n",
    "vola_offset = 1.0\n",
    " \n",
    "def swingpoint_filter(price, period, offset_factor):\n",
    "    #\n",
    "    # Using Hi/Lo offret as a factor of volatility\n",
    "    #\n",
    "    #offset = price.diff().abs().rolling(60).median()\n",
    "    offset = price.diff(period=5).abs().rolling(60).median()\n",
    "    hhv = price.rolling(period).max().shift() + offset_factor*offset\n",
    "    llv = price.rolling(period).min().shift() - offset_factor*offset\n",
    "    swing_point = pd.Series(np.nan, index=price.index)\n",
    "    swing_point_regime = pd.Series(0, index=price.index)\n",
    "    swing_switch = 0\n",
    "    for i in range(len(price)):\n",
    "        if price.values[i] >= hhv.values[i]:\n",
    "            swing_switch = 1\n",
    "        elif price.values[i] <= llv.values[i]:\n",
    "            swing_switch = -1\n",
    "        if swing_switch == 1:\n",
    "            swing_point.values[i] = llv.values[i]\n",
    "            swing_point_regime.values[i] = swing_switch\n",
    "        elif swing_switch == -1:\n",
    "            swing_point.values[i] = hhv.values[i]\n",
    "            swing_point_regime.values[i] = swing_switch\n",
    "    \n",
    "    return swing_point, swing_point_regime\n",
    "    \n",
    "swing_point, swing_point_regime = swingpoint_filter(price, period, vola_offset)\n",
    "\n",
    "price.plot()\n",
    "swing_point.plot()\n",
    "figure()\n",
    "\n",
    "swing_point_regime.plot.area(stacked=False)"
   ]
  },
  {
   "cell_type": "code",
   "execution_count": null,
   "metadata": {
    "collapsed": false
   },
   "outputs": [],
   "source": [
    "pd.Series((swing_point_regime != swing_point_regime.shift()), dtype=np.int32).sum()"
   ]
  },
  {
   "cell_type": "code",
   "execution_count": null,
   "metadata": {
    "collapsed": false
   },
   "outputs": [],
   "source": [
    "up_factor = 3.0\n",
    "down_factor = 10.0\n",
    "\n",
    "def swingpoint_filter_threshold(price, period, up_factor, down_factor):\n",
    "    vola = price.diff().abs().rolling(60).median()\n",
    "    \n",
    "    \n",
    "    swing_point = pd.Series(np.nan, index=price.index)\n",
    "    swing_point_regime = pd.Series(0, index=price.index)\n",
    "    \n",
    "    # Swing point bullish regime\n",
    "    swing_switch = 1\n",
    "    \n",
    "    # Swing point start index\n",
    "    sw_i = -1\n",
    "    \n",
    "    # Min/Max prices for swings\n",
    "    sw_h_max = price[0]\n",
    "    sw_l_min = price[0]\n",
    "    \n",
    "    \n",
    "    for i in range(len(price)):\n",
    "        if i == 0:\n",
    "            continue\n",
    "        if np.isnan(price[i]):\n",
    "            continue\n",
    "        if np.isnan(vola.values[i]):            \n",
    "            continue\n",
    "        elif sw_i == -1 and vola.values[i] > 0:     \n",
    "            sw_h_max = sw_l_min = price[i]\n",
    "            sw_i = i\n",
    "        \n",
    "        \n",
    "        if swing_switch == 1:\n",
    "            #\n",
    "            #  We have a bullish swing \n",
    "            #\n",
    "            sw_h_max = max(sw_h_max, price[i])\n",
    "            \n",
    "            \n",
    "            # Check for reversion\n",
    "            if price[i] <= sw_h_max-vola[sw_i]*down_factor:\n",
    "                # Reverse swing\n",
    "                swing_switch = -1\n",
    "                sw_l_min = price.values[i]\n",
    "                sw_h_max = price.values[i]\n",
    "                swing_point.values[i] = sw_l_min + vola[sw_i]*up_factor\n",
    "                \n",
    "                sw_i = i\n",
    "            else:\n",
    "                swing_point.values[i] = sw_h_max-vola[sw_i]*down_factor  \n",
    "                \n",
    "                \n",
    "        else:\n",
    "            #\n",
    "            #  We have a bearish swing\n",
    "            #\n",
    "            sw_l_min = min(sw_l_min, price.values[i])\n",
    "            \n",
    "            \n",
    "            # Check for reversion\n",
    "            if price.values[i] >= sw_l_min + vola[sw_i]*up_factor:\n",
    "                # Reverse swing\n",
    "                swing_switch = 1\n",
    "                sw_l_min = price.values[i]\n",
    "                sw_h_max = price.values[i]\n",
    "                sw_i = i\n",
    "                swing_point.values[i] = sw_h_max - vola[sw_i]*down_factor                  \n",
    "            else:\n",
    "                swing_point.values[i] = sw_l_min + vola[sw_i]*up_factor  \n",
    "                \n",
    "        swing_point_regime.values[i] = swing_switch                \n",
    "    return swing_point, swing_point_regime\n",
    "            \n",
    "            \n",
    "swing_point_threshold, swing_point_regime_threshold = swingpoint_filter_threshold(price, period, up_factor, down_factor)\n",
    "\n",
    "price.plot()\n",
    "swing_point_threshold.plot()\n",
    "figure()\n",
    "\n",
    "swing_point_regime_threshold.plot.area(stacked=False)"
   ]
  },
  {
   "cell_type": "markdown",
   "metadata": {},
   "source": [
    "### Applying global swingpoint factor"
   ]
  },
  {
   "cell_type": "code",
   "execution_count": null,
   "metadata": {
    "collapsed": false
   },
   "outputs": [],
   "source": [
    "# Simple swing point filter\n",
    "#global_filter = swing_point_regime == -1\n",
    "\n",
    "\n",
    "# Swing point filter with volatility threshold\n",
    "global_filter = swing_point_regime_threshold == -1"
   ]
  },
  {
   "cell_type": "markdown",
   "metadata": {},
   "source": [
    "### Comparing of swarms w/without global filter"
   ]
  },
  {
   "cell_type": "code",
   "execution_count": null,
   "metadata": {
    "collapsed": false
   },
   "outputs": [],
   "source": [
    "eq_changes = swarm.diff()\n",
    "\n",
    "figsize(20, 20)\n",
    "is_picked_df_no_filter = swarm_manager.backtest(swarm)\n",
    "is_picked_df_with_filter = swarm_manager.backtest(swarm, global_filter)\n",
    "\n",
    "avg_picked_equity_no_filter = eq_changes[is_picked_df_no_filter == 1.0].mean(axis=1).cumsum().ffill()\n",
    "avg_picked_equity_with_filter = eq_changes[is_picked_df_with_filter == 1.0].mean(axis=1).cumsum().ffill()\n",
    "\n",
    "avg_all_equity = avg_swarm\n",
    "\n",
    "\n",
    "avg_all_equity.plot(label='Avg Swarm equity');\n",
    "avg_picked_equity_no_filter.plot(label='Picked Swarm equity NO Filter')\n",
    "avg_picked_equity_with_filter.plot(label='Picked Swarm equity WITH Filter')\n",
    "#avg_swarm.rolling(100).mean().plot(label='Avg Swarm MovingAvg filter')\n",
    "swing_point.plot(label='SwingPoint')\n",
    "title('Average swarm member equity');\n",
    "legend(loc=2)"
   ]
  },
  {
   "cell_type": "code",
   "execution_count": null,
   "metadata": {
    "collapsed": false
   },
   "outputs": [],
   "source": [
    "reb_df = pd.DataFrame( is_picked_df_with_filter != is_picked_df_with_filter.shift(), dtype=np.int32).sum()"
   ]
  },
  {
   "cell_type": "code",
   "execution_count": null,
   "metadata": {
    "collapsed": false
   },
   "outputs": [],
   "source": [
    "reb_df.order(ascending=False).to_csv('MACross_Swarm_Rebalancing_stats.csv')"
   ]
  },
  {
   "cell_type": "code",
   "execution_count": null,
   "metadata": {
    "collapsed": false
   },
   "outputs": [],
   "source": [
    "mrg = is_picked_df_with_filter * info['margin']"
   ]
  },
  {
   "cell_type": "code",
   "execution_count": null,
   "metadata": {
    "collapsed": false
   },
   "outputs": [],
   "source": [
    "mrg.sum(axis=1).plot()"
   ]
  },
  {
   "cell_type": "code",
   "execution_count": null,
   "metadata": {
    "collapsed": false
   },
   "outputs": [],
   "source": []
  },
  {
   "cell_type": "code",
   "execution_count": null,
   "metadata": {
    "collapsed": false
   },
   "outputs": [],
   "source": [
    "import numpy as np"
   ]
  },
  {
   "cell_type": "code",
   "execution_count": null,
   "metadata": {
    "collapsed": false
   },
   "outputs": [],
   "source": [
    "np.arange(1,2,1)"
   ]
  },
  {
   "cell_type": "code",
   "execution_count": null,
   "metadata": {
    "collapsed": false
   },
   "outputs": [],
   "source": []
  }
 ],
 "metadata": {
  "kernelspec": {
   "display_name": "Python 3",
   "language": "python",
   "name": "python3"
  },
  "language_info": {
   "codemirror_mode": {
    "name": "ipython",
    "version": 3
   },
   "file_extension": ".py",
   "mimetype": "text/x-python",
   "name": "python",
   "nbconvert_exporter": "python",
   "pygments_lexer": "ipython3",
   "version": "3.5.1"
  }
 },
 "nbformat": 4,
 "nbformat_minor": 0
}
