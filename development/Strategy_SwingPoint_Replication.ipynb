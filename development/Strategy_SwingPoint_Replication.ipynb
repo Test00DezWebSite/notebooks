{
 "cells": [
  {
   "cell_type": "code",
   "execution_count": null,
   "metadata": {
    "collapsed": false
   },
   "outputs": [],
   "source": [
    "import sys,os\n",
    "sys.path.append('..')\n",
    "from backtester import matlab, backtester\n",
    "from backtester.analysis import *\n",
    "from backtester.strategy import StrategyBase, OptParam\n",
    "from backtester.swarms import SwarmManager, SwarmRanker\n",
    "\n",
    "import pandas as pd\n",
    "import numpy as np\n",
    "import scipy"
   ]
  },
  {
   "cell_type": "code",
   "execution_count": null,
   "metadata": {
    "collapsed": false
   },
   "outputs": [],
   "source": [
    "%pylab inline\n",
    "%load_ext autoreload\n",
    "%autoreload 2"
   ]
  },
  {
   "cell_type": "markdown",
   "metadata": {},
   "source": [
    "## Script settings"
   ]
  },
  {
   "cell_type": "code",
   "execution_count": null,
   "metadata": {
    "collapsed": false
   },
   "outputs": [],
   "source": [
    "# File name of exo strategy\n",
    "EXO_File = 'strategy_880131'\n",
    "\n",
    "\n",
    "#\n",
    "# Costs settings\n",
    "#\n",
    "costs_options = 3.0 # 3$ per side per option contract\n",
    "costs_futures = 3.0 # 3$ per side per futures contract\n",
    "\n",
    "\n",
    "\n",
    "#\n",
    "# Swarm settings\n",
    "#\n",
    "\n",
    "# number of strategies to pick  from the swarm\n",
    "NSwarm_Members = 5\n",
    "\n",
    "#\n",
    "# Swarm generation parameters\n",
    "#  MA Cross periods and Trailing stop size\n",
    "STRATEGY_PARAMS = [\n",
    "            #OptParam(name, default_value, min_value, max_value, step)\n",
    "            OptParam('SlowMAPeriod', 20, 10, 30, 2),\n",
    "            OptParam('FastMAPeriod', 2, 2, 20, 1),\n",
    "            OptParam('MedianPeriod', 5, 5, 20, 3)\n",
    "        ]\n",
    "\n",
    "\n",
    "\n",
    "#\n",
    "# Swingpoint global filter settings\n",
    "#\n",
    "\n",
    "# As a multiplier of volatility\n",
    "up_factor = 3.0\n",
    "down_factor = 10.0\n"
   ]
  },
  {
   "cell_type": "markdown",
   "metadata": {},
   "source": [
    "## Exo data"
   ]
  },
  {
   "cell_type": "code",
   "execution_count": null,
   "metadata": {
    "collapsed": false
   },
   "outputs": [],
   "source": [
    "strategyname_global = EXO_File\n",
    "d, info = matlab.loaddata('../mat/'+strategyname_global+'.mat')"
   ]
  },
  {
   "cell_type": "code",
   "execution_count": null,
   "metadata": {
    "collapsed": false,
    "scrolled": false
   },
   "outputs": [],
   "source": [
    "d.exo.plot()\n"
   ]
  },
  {
   "cell_type": "code",
   "execution_count": null,
   "metadata": {
    "collapsed": false
   },
   "outputs": [],
   "source": [
    "info"
   ]
  },
  {
   "cell_type": "markdown",
   "metadata": {},
   "source": [
    "# Getting original swingpoint levels from mat file\n"
   ]
  },
  {
   "cell_type": "code",
   "execution_count": null,
   "metadata": {
    "collapsed": false
   },
   "outputs": [],
   "source": [
    "from scipy.io import loadmat, savemat\n",
    "mat = loadmat('../mat/'+strategyname_global+'.mat')"
   ]
  },
  {
   "cell_type": "code",
   "execution_count": null,
   "metadata": {
    "collapsed": false
   },
   "outputs": [],
   "source": [
    "print(mat['optStr'].dtype.names)"
   ]
  },
  {
   "cell_type": "code",
   "execution_count": null,
   "metadata": {
    "collapsed": false
   },
   "outputs": [],
   "source": [
    "mat['optStr']['volumeSeries'][0][0][0]"
   ]
  },
  {
   "cell_type": "code",
   "execution_count": null,
   "metadata": {
    "collapsed": false
   },
   "outputs": [],
   "source": [
    "g_price =  pd.Series(mat['optStr']['entrySignalingSeries'][0][0][3], index=d.exo.index)\n",
    "\n",
    "g_sphLevel = pd.Series(mat['optStr']['sphLevel'][0][0][0], index=d.exo.index)\n",
    "g_splLevel = pd.Series(mat['optStr']['splLevel'][0][0][0], index=d.exo.index)"
   ]
  },
  {
   "cell_type": "code",
   "execution_count": null,
   "metadata": {
    "collapsed": false
   },
   "outputs": [],
   "source": [
    "figsize(15, 15)\n",
    "g_price.plot()\n",
    "g_sphLevel.plot()\n",
    "g_splLevel.plot()"
   ]
  },
  {
   "cell_type": "code",
   "execution_count": null,
   "metadata": {
    "collapsed": false
   },
   "outputs": [],
   "source": [
    "sphThreshold = 8 # ????\n",
    "splThreshold = 8 # ????\n",
    "\n",
    "\n",
    "signalArray = mat['optStr']['entrySignalingSeries'][0][0]\n",
    "volumeArray =  mat['optStr']['volumeSeries'][0][0][0]\n",
    "\n",
    "OPEN  = 0; HIGH  = 1; LOW   = 2;  CLOSE = 3;\n",
    "\n",
    "if len(signalArray) == 1:\n",
    "    OPEN  = HIGH  = LOW = CLOSE = 0\n",
    "    \n",
    "currentHigh  = -np.inf #intmin('int32');\n",
    "currentLow   = np.inf #intmax('int32');\n",
    "\n",
    "currentHVol  = 0\n",
    "currentLVol  = 0\n",
    "sphDays      = 0\n",
    "splDays      = 0\n",
    "sphStart     = 1\n",
    "splStart     = 1\n",
    "sphMaxDay    = 0\n",
    "splMinDay    = 0\n",
    "prevHigh     = signalArray[HIGH][0]\n",
    "prevLow      = signalArray[LOW][0]\n",
    "prevHVol     = volumeArray[0]\n",
    "prevLVol     = volumeArray[0]\n",
    "\n",
    "\n",
    "nDays        = len(signalArray[CLOSE])\n",
    "\n",
    "sphIndicator = np.zeros(nDays)\n",
    "splIndicator = np.zeros(nDays)\n",
    "\n",
    "sphLevel = np.zeros(nDays)\n",
    "splLevel = np.zeros(nDays)\n",
    "\n",
    "sphVolume = np.zeros(nDays)\n",
    "splVolume = np.zeros(nDays)\n",
    "\n",
    "for dday in range(nDays):\n",
    "    \n",
    "    if signalArray[HIGH][dday] > currentHigh:\n",
    "        currentHigh = signalArray[HIGH][dday]\n",
    "        currentHVol = volumeArray[dday]\n",
    "        sphMaxDay   = dday;\n",
    "        sphDays     = 0\n",
    "    else:\n",
    "        sphDays = sphDays+1;\n",
    "    \n",
    "    if signalArray[LOW][dday] < currentLow:\n",
    "        currentLow = signalArray[LOW][dday]\n",
    "        currentLVol = volumeArray[dday]\n",
    "        splMinDay  = dday\n",
    "        splDays    = 0\n",
    "    else:\n",
    "        splDays = splDays+1;\n",
    "        \n",
    "        \n",
    "            \n",
    "    if sphDays > sphThreshold:\n",
    "        sphLevel[dday] = currentHigh;\n",
    "        sphIndicator[dday] = 1;\n",
    "        sphVolume[dday] = currentHVol;\n",
    "        \n",
    "        for dd in range(sphStart, dday): #?? or dday-1\n",
    "            sphLevel[dd] = prevHigh\n",
    "            sphVolume[dd]= prevHVol\n",
    "        \n",
    "        prevHigh = currentHigh\n",
    "        prevHVol = currentHVol\n",
    "        sphStart = dday\n",
    "        sphDays = 0    \n",
    "        currentHigh = -np.inf #intmin('int32');\n",
    "\n",
    "    elif dday > 1:\n",
    "        sphVolume[dday] = sphVolume[dday-1]\n",
    "    elif dday == 1:\n",
    "        sphVolume[dday] = volumeArray[dday]\n",
    "        \n",
    "        \n",
    "        \n",
    "        \n",
    "    if splDays > splThreshold:\n",
    "        splLevel[dday] = currentLow;\n",
    "        splIndicator[dday] = 1;\n",
    "        splVolume[dday] = currentLVol;\n",
    "        \n",
    "        for dd in range(splStart, dday):  #??? or dday-1 \n",
    "            splLevel[dd] = prevLow\n",
    "            splVolume[dd] = prevLVol\n",
    "\n",
    "        prevLow = currentLow\n",
    "        prevLVol = currentLVol\n",
    "        splStart = dday\n",
    "        splDays = 0\n",
    "        currentLow =  np.inf #intmax('int32');\n",
    "    elif dday > 1:\n",
    "        splVolume[dday] = splVolume[dday-1]\n",
    "    elif dday == 1:\n",
    "        splVolume[dday] = volumeArray[dday]\n",
    "\n",
    "    # fill to the end\n",
    "    for dd in range(sphStart, nDays):\n",
    "        sphLevel[dd] = prevHigh;\n",
    "        sphVolume[dd] = prevHVol;\n",
    "\n",
    "    for dd in range(splStart, nDays):\n",
    "        splLevel[dd] = prevLow;\n",
    "        splVolume[dd] = prevLVol;\n"
   ]
  },
  {
   "cell_type": "code",
   "execution_count": null,
   "metadata": {
    "collapsed": false
   },
   "outputs": [],
   "source": [
    "sphLevel = pd.Series(sphLevel, index=d.exo.index)\n",
    "splLevel = pd.Series(splLevel, index=d.exo.index)"
   ]
  },
  {
   "cell_type": "markdown",
   "metadata": {},
   "source": [
    "## Checkin SphLevel Equality (sphThreshold = 8)\n"
   ]
  },
  {
   "cell_type": "code",
   "execution_count": null,
   "metadata": {
    "collapsed": false
   },
   "outputs": [],
   "source": [
    "figsize(15, 15)\n",
    "g_price.plot()\n",
    "g_sphLevel.plot()\n",
    "sphLevel.plot()"
   ]
  },
  {
   "cell_type": "markdown",
   "metadata": {},
   "source": [
    "## Checkin SplLevel equality (splThreshold = 8)"
   ]
  },
  {
   "cell_type": "code",
   "execution_count": null,
   "metadata": {
    "collapsed": false
   },
   "outputs": [],
   "source": [
    "figsize(15, 15)\n",
    "g_price.plot()\n",
    "g_splLevel.plot()\n",
    "splLevel.plot()"
   ]
  },
  {
   "cell_type": "code",
   "execution_count": null,
   "metadata": {
    "collapsed": false
   },
   "outputs": [],
   "source": []
  },
  {
   "cell_type": "code",
   "execution_count": null,
   "metadata": {
    "collapsed": false
   },
   "outputs": [],
   "source": []
  }
 ],
 "metadata": {
  "kernelspec": {
   "display_name": "Python 3",
   "language": "python",
   "name": "python3"
  },
  "language_info": {
   "codemirror_mode": {
    "name": "ipython",
    "version": 3
   },
   "file_extension": ".py",
   "mimetype": "text/x-python",
   "name": "python",
   "nbconvert_exporter": "python",
   "pygments_lexer": "ipython3",
   "version": "3.5.1"
  }
 },
 "nbformat": 4,
 "nbformat_minor": 0
}
