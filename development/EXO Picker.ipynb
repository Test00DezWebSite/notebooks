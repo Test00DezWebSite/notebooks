{
 "cells": [
  {
   "cell_type": "code",
   "execution_count": null,
   "metadata": {
    "collapsed": false
   },
   "outputs": [],
   "source": [
    "import sys\n",
    "sys.path.append('../..')\n",
    "from backtester import matlab, backtester\n",
    "from backtester.analysis import *\n",
    "import pandas as pd\n",
    "import numpy as np\n",
    "import glob, os\n",
    "\n",
    "import itertools\n",
    "\n",
    "import statsmodels.tsa.stattools as ts\n",
    "\n",
    "from backtester.exoinfo import EXOInfo\n",
    "from exobuilder.data.exostorage import EXOStorage\n",
    "from IPython.core.display import display, HTML\n",
    "\n",
    "import pandas as pd\n",
    "import numpy as np\n",
    "import scipy\n",
    "import pprint\n",
    "\n",
    "%pylab inline\n",
    "figsize(20,10)"
   ]
  },
  {
   "cell_type": "code",
   "execution_count": null,
   "metadata": {
    "collapsed": false
   },
   "outputs": [],
   "source": [
    "def hurst(ts):\n",
    "    \"\"\"Returns the Hurst Exponent of the time series vector ts\"\"\"\n",
    "    # Create the range of lag values\n",
    "    lags = range(2, 100)\n",
    "    # Calculate the array of the variances of the lagged differences\n",
    "    tau = [sqrt(std(subtract(ts[lag:], ts[:-lag]))) for lag in lags]\n",
    "    # Use a linear fit to estimate the Hurst Exponent\n",
    "    poly = polyfit(log(lags), log(tau), 1)\n",
    "    # Return the Hurst exponent from the polyfit output\n",
    "    return poly[0]*2.0\n",
    "\n",
    "#hurst(ticker)"
   ]
  },
  {
   "cell_type": "code",
   "execution_count": null,
   "metadata": {
    "collapsed": false
   },
   "outputs": [],
   "source": [
    "#\n",
    "# random time series\n",
    "#\n",
    "df = pd.DataFrame()\n",
    "for i in range(100):\n",
    "    \n",
    "    date = pd.date_range(start='2015-01', end='2016-10', freq='D')\n",
    "    price = np.random.randint(-100, 101, size=len(date))\n",
    "    \n",
    "    ser = pd.Series(price, index=date, name='rng_system'+str(i))\n",
    "    df['rng_system'+str(i)] = ser.cumsum()"
   ]
  },
  {
   "cell_type": "code",
   "execution_count": null,
   "metadata": {
    "collapsed": false
   },
   "outputs": [],
   "source": [
    "# Only Cont Fut Flag\n",
    "only_cont_fut = False"
   ]
  },
  {
   "cell_type": "code",
   "execution_count": null,
   "metadata": {
    "collapsed": false
   },
   "outputs": [],
   "source": [
    "# Loading global setting for MongoDB etc.\n",
    "from scripts.settings import *\n",
    "\n",
    "try:\n",
    "    from scripts.settings_local import *\n",
    "except:\n",
    "    pass\n",
    "\n",
    "storage = EXOStorage(MONGO_CONNSTR, MONGO_EXO_DB)\n",
    "pp = pprint.PrettyPrinter(indent=4)\n",
    "\n",
    "exo_list = storage.exo_list()\n",
    "pp.pprint(exo_list)\n",
    "\n",
    "\n",
    "df = pd.DataFrame()\n",
    "\n",
    "for e in exo_list:\n",
    "    exo_series, exo_dict = storage.load_series(e)\n",
    "    if only_cont_fut == True:   \n",
    "        if 'Fut' in exo_dict['name']:   \n",
    "            exo_series = exo_series[exo_series.columns[0]]\n",
    "            df[exo_dict['name']] = exo_series\n",
    "            \n",
    "    if only_cont_fut == False:\n",
    "        exo_series = exo_series[exo_series.columns[0]]\n",
    "        df[exo_dict['name']] = exo_series\n",
    "#exo_series.plot()"
   ]
  },
  {
   "cell_type": "code",
   "execution_count": null,
   "metadata": {
    "collapsed": false
   },
   "outputs": [],
   "source": [
    "df.head()"
   ]
  },
  {
   "cell_type": "markdown",
   "metadata": {},
   "source": [
    "# 2 legs spreads"
   ]
  },
  {
   "cell_type": "code",
   "execution_count": null,
   "metadata": {
    "collapsed": false
   },
   "outputs": [],
   "source": [
    "combinations_l = []\n",
    "for L in range(0, len(df.columns)+1):\n",
    "    for comb in itertools.combinations(df.columns, L):\n",
    "        combinations_l.append(comb)"
   ]
  },
  {
   "cell_type": "code",
   "execution_count": null,
   "metadata": {
    "collapsed": false,
    "scrolled": false
   },
   "outputs": [],
   "source": [
    "combination_ser = pd.Series(combinations_l)"
   ]
  },
  {
   "cell_type": "code",
   "execution_count": null,
   "metadata": {
    "collapsed": false,
    "scrolled": false
   },
   "outputs": [],
   "source": [
    "combination_ser = combination_ser[combination_ser.str.len() == 2].reset_index(drop=True)"
   ]
  },
  {
   "cell_type": "code",
   "execution_count": null,
   "metadata": {
    "collapsed": false,
    "scrolled": false
   },
   "outputs": [],
   "source": [
    "combination_ser.tail()"
   ]
  },
  {
   "cell_type": "code",
   "execution_count": null,
   "metadata": {
    "collapsed": false,
    "scrolled": false
   },
   "outputs": [],
   "source": [
    "for i in combination_ser:\n",
    "    spread_df = df[list(i)]\n",
    "    df[spread_df.columns[0] + '+' + spread_df.columns[1]] = spread_df[spread_df.columns[0]] + \\\n",
    "                                                                       spread_df[spread_df.columns[1]]\n",
    "\n",
    "    df[spread_df.columns[0] + '-' + spread_df.columns[1]] = spread_df[spread_df.columns[0]] - \\\n",
    "                                                                       spread_df[spread_df.columns[1]]   "
   ]
  },
  {
   "cell_type": "code",
   "execution_count": null,
   "metadata": {
    "collapsed": false
   },
   "outputs": [],
   "source": [
    "df.head()"
   ]
  },
  {
   "cell_type": "code",
   "execution_count": null,
   "metadata": {
    "collapsed": false
   },
   "outputs": [],
   "source": [
    "temp_data_l = []\n",
    "temp_name_l = []\n",
    "\n",
    "for col in df.columns:\n",
    "    ticker = df[col].dropna()\n",
    "        \n",
    "    price_change = ticker - ticker.shift(1)\n",
    "    max_dd = (ticker - ticker.expanding().max()).min()\n",
    "\n",
    "    period_end_price = ticker[-1]\n",
    "    period_start_price = ticker[0]\n",
    "\n",
    "    median_vola = (ticker - ticker.shift(1)).rolling(30).median()\n",
    "\n",
    "    \n",
    "    d = {}\n",
    "    \n",
    "    adf = ts.adfuller(ticker, 1)\n",
    "    adf_teststats = adf[0]\n",
    "    adf_pvalue = adf[1] \n",
    "    \n",
    "    d = {'hurst': hurst(ticker), 'adf_teststats': adf_teststats, 'adf_pvalue': np.round(adf_pvalue, decimals=4)}\n",
    "    \n",
    "    for period in [2,5,10]:\n",
    "        ema = ticker.ewm(period).mean()\n",
    "\n",
    "        crossup = CrossUp(ticker, ema)\n",
    "        crossdn = CrossDown(ticker, ema)\n",
    "\n",
    "        days_wo_crossings_count = np.zeros_like(ticker.values)\n",
    "        days_wo_crossings_counter = 0\n",
    "\n",
    "        for i in range(len(ticker)):\n",
    "            if (crossup[i] == False) | (crossdn[i] == False):\n",
    "                days_wo_crossings_counter += 1\n",
    "                days_wo_crossings_count[i] = days_wo_crossings_counter\n",
    "\n",
    "            if (crossup[i] == True) | (crossdn[i] == True):\n",
    "                days_wo_crossings_counter = 0\n",
    "                days_wo_crossings_count[i] = days_wo_crossings_counter\n",
    "\n",
    "        d['avg_days_wo_crossings_ema'+str(period)] = pd.Series(days_wo_crossings_count).mean()       \n",
    "\n",
    "    temp_data_l.append(d)\n",
    "    temp_name_l.append(ticker.name)"
   ]
  },
  {
   "cell_type": "code",
   "execution_count": null,
   "metadata": {
    "collapsed": false
   },
   "outputs": [],
   "source": [
    "np.round(adf_pvalue, decimals=2)"
   ]
  },
  {
   "cell_type": "code",
   "execution_count": null,
   "metadata": {
    "collapsed": false,
    "scrolled": false
   },
   "outputs": [],
   "source": [
    "ts.adfuller(df.ZN_ContFut.dropna())"
   ]
  },
  {
   "cell_type": "code",
   "execution_count": null,
   "metadata": {
    "collapsed": false,
    "scrolled": false
   },
   "outputs": [],
   "source": [
    "ticker_stats_df = pd.DataFrame(temp_data_l, index=temp_name_l).dropna()\n",
    "\n",
    "ticker_stats_df['avg_days_wo_crossings_sum'] = ticker_stats_df.filter(like='crossings', axis=1).sum(1)\n",
    "\n",
    "#ticker_stats_df.sort_values('avg_days_wo_crossings_sum', ascending=False)\n",
    "sorted_df = ticker_stats_df.sort_values('avg_days_wo_crossings_sum', ascending=False)#.reset_index()\n",
    "sorted_df.reset_index()"
   ]
  },
  {
   "cell_type": "code",
   "execution_count": null,
   "metadata": {
    "collapsed": false,
    "scrolled": false
   },
   "outputs": [],
   "source": [
    "#\n",
    "# Select an index of ticker or spread from DF above\n",
    "#\n",
    "i = 10\n",
    "\n",
    "print(sorted_df.index[i])\n",
    "df[sorted_df.index[i]].plot()"
   ]
  },
  {
   "cell_type": "code",
   "execution_count": null,
   "metadata": {
    "collapsed": false
   },
   "outputs": [],
   "source": [
    "ticker = df[ticker_stats_df.sort_values('avg_days_wo_crossings_sum', ascending=False).index[i]]\n",
    "\n",
    "ema = ticker.ewm(10).mean()\n",
    "\n",
    "ticker.plot()\n",
    "CrossUp(ticker, ema).plot(secondary_y=True)\n",
    "CrossDown(ticker, ema).plot(secondary_y=True)\n",
    "\n",
    "crossup = CrossUp(ticker, ema)\n",
    "crossdn = CrossDown(ticker, ema)\n",
    "\n",
    "days_wo_crossings_count = np.zeros_like(ticker.values)\n",
    "days_wo_crossings_counter = 0\n",
    "\n",
    "for i in range(len(ticker)):\n",
    "    if (crossup[i] == False) | (crossdn[i] == False):\n",
    "        days_wo_crossings_counter += 1\n",
    "        days_wo_crossings_count[i] = days_wo_crossings_counter\n",
    "                \n",
    "    if (crossup[i] == True) | (crossdn[i] == True):\n",
    "        days_wo_crossings_counter = 0\n",
    "        days_wo_crossings_count[i] = days_wo_crossings_counter\n",
    "        \n",
    "        \n",
    "ticker.plot()\n",
    "ticker.ewm(10).mean().plot()\n",
    "#CrossUp(ticker, ema).plot(secondary_y=True)\n",
    "#CrossDown(ticker, ema).plot(secondary_y=True)\n",
    "\n",
    "pd.Series(days_wo_crossings_count, index=ticker.index).plot(secondary_y=True)\n",
    "\n",
    "axhline(pd.Series(days_wo_crossings_count, index=ticker.index).mean())\n",
    "\n",
    "axhline(pd.Series(days_wo_crossings_count, index=ticker.index).quantile(0.8))"
   ]
  },
  {
   "cell_type": "code",
   "execution_count": null,
   "metadata": {
    "collapsed": false
   },
   "outputs": [],
   "source": []
  }
 ],
 "metadata": {
  "kernelspec": {
   "display_name": "Python 3",
   "language": "python",
   "name": "python3"
  },
  "language_info": {
   "codemirror_mode": {
    "name": "ipython",
    "version": 3
   },
   "file_extension": ".py",
   "mimetype": "text/x-python",
   "name": "python",
   "nbconvert_exporter": "python",
   "pygments_lexer": "ipython3",
   "version": "3.5.2"
  }
 },
 "nbformat": 4,
 "nbformat_minor": 0
}
