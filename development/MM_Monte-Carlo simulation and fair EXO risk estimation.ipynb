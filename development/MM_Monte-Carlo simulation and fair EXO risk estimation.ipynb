{
 "cells": [
  {
   "cell_type": "code",
   "execution_count": null,
   "metadata": {
    "collapsed": false
   },
   "outputs": [],
   "source": [
    "import sys,os\n",
    "sys.path.append('..')\n",
    "from backtester import matlab, backtester\n",
    "from backtester.analysis import *\n",
    "from backtester.strategy import StrategyBase, OptParam\n",
    "import pandas as pd\n",
    "import numpy as np\n",
    "import scipy"
   ]
  },
  {
   "cell_type": "code",
   "execution_count": null,
   "metadata": {
    "collapsed": false
   },
   "outputs": [],
   "source": [
    "%pylab inline\n",
    "%load_ext autoreload\n",
    "%autoreload 2"
   ]
  },
  {
   "cell_type": "code",
   "execution_count": null,
   "metadata": {
    "collapsed": false
   },
   "outputs": [],
   "source": [
    "strategyname = 'strategy_270225'\n",
    "d, info = matlab.loaddata('../mat/'+strategyname+'.mat')"
   ]
  },
  {
   "cell_type": "code",
   "execution_count": null,
   "metadata": {
    "collapsed": false
   },
   "outputs": [],
   "source": [
    "d.plot()\n"
   ]
  },
  {
   "cell_type": "code",
   "execution_count": null,
   "metadata": {
    "collapsed": false
   },
   "outputs": [],
   "source": [
    "info"
   ]
  },
  {
   "cell_type": "markdown",
   "metadata": {},
   "source": [
    "## Let we have a some champion system in our portfolio"
   ]
  },
  {
   "cell_type": "code",
   "execution_count": null,
   "metadata": {
    "collapsed": false
   },
   "outputs": [],
   "source": [
    "# Position size\n",
    "# Volatility adjusted\n",
    "volatility = d_slice.exo.diff().abs().rolling(60).median()\n",
    "R = 100.0 / volatility\n",
    "\n",
    "\n",
    "#Defining entry\\exit rules\n",
    "d_slice=d.ix['2010':]\n",
    "slow_ma = d_slice.exo.rolling(5).mean()\n",
    "fast_ma = d_slice.exo.rolling(6).mean()\n",
    "\n",
    "short_entry = CrossDown(fast_ma, slow_ma)\n",
    "short_exit = (CrossUp(fast_ma, slow_ma)) \n",
    "\n",
    "direction = -1\n",
    "pl, inposition = backtester.backtest(d_slice, short_entry, short_exit, direction )\n",
    "equity, stats = backtester.stats(pl, inposition, positionsize=R)\n",
    "\n",
    "#X axis, initial equity curve\n",
    "#Colored blue\n",
    "x=equity\n",
    "x.plot()"
   ]
  },
  {
   "cell_type": "code",
   "execution_count": null,
   "metadata": {
    "collapsed": false
   },
   "outputs": [],
   "source": [
    "stats"
   ]
  },
  {
   "cell_type": "markdown",
   "metadata": {
    "collapsed": false
   },
   "source": [
    "## The question is - does the system risk (drawdown) reflects fair risk of an asset or it underestimates fair risk ?"
   ]
  },
  {
   "cell_type": "code",
   "execution_count": null,
   "metadata": {
    "collapsed": false
   },
   "outputs": [],
   "source": [
    "#Trades count of our champion system\n",
    "ntrades = stats['count']\n",
    "\n",
    "\n",
    "#Average bars (days) in position\n",
    "avgbars = round(stats['avgbarsintrade'])\n",
    "\n",
    "# n monte-carlo simulations\n",
    "nmcsimulations = 10000\n",
    "\n",
    "# Position size for simulation\n",
    "size = R\n",
    "\n",
    "# Position direction\n",
    "direction = -1\n",
    "\n",
    "# Compare systems params and MC simulation results\n",
    "system_avgmae = stats['avgmae']\n",
    "system_tradesmdd = stats['tradesmaxdd'] # We compare closed trades max drawdown\n",
    "\n",
    "\n",
    "exo_returns = d_slice.exo.diff()\n",
    "\n",
    "print('Trades to simulate: {0}'.format(ntrades))\n",
    "print('Holding period to simulate: {0}'.format(avgbars))\n"
   ]
  },
  {
   "cell_type": "markdown",
   "metadata": {},
   "source": [
    "### How monte-carlo simulation works"
   ]
  },
  {
   "cell_type": "markdown",
   "metadata": {},
   "source": [
    "Let we have a random swarm (universe) of random picked trades on EXO price, duration of all trades equals average duration of analyzed trading system, trades count too.\n",
    "\n",
    "* At the first step we should generate 10000 (or more) random simulations, by 100 trades with 4 days holding period in each.\n",
    "\n",
    "* Next we should calculate stats based on every sample of random trades. We need only MaxDD and MAE (let’s call it in-trade drawdown, more info http://www.mypivots.com/dictionary/definition/409/maximum-adverse-excursion-mae) \n",
    "\n",
    "* Finally, we can compare results of particular trading system and distribution of random swarm. And make assumptions about its risks params.\n"
   ]
  },
  {
   "cell_type": "code",
   "execution_count": null,
   "metadata": {
    "collapsed": false
   },
   "outputs": [],
   "source": [
    "random_pool = np.random.randint(0, len(price)-avgbars,size=(nmcsimulations, ntrades))"
   ]
  },
  {
   "cell_type": "code",
   "execution_count": null,
   "metadata": {
    "collapsed": false
   },
   "outputs": [],
   "source": [
    "trade_results = np.full_like(random_pool, np.nan, dtype=np.float32)\n",
    "mae_results =  np.full_like(random_pool, np.nan, dtype=np.float32)\n",
    "\n",
    "# MC Sim results \n",
    "mc_mae = np.full(nmcsimulations, np.nan)\n",
    "mc_mdd = np.full(nmcsimulations, np.nan)"
   ]
  },
  {
   "cell_type": "code",
   "execution_count": null,
   "metadata": {
    "collapsed": false
   },
   "outputs": [],
   "source": [
    "\n",
    "for i,trade_series in enumerate(random_pool):\n",
    "    \n",
    "    # calculating equity for each pseudo trade\n",
    "    for j, price_idx in enumerate(trade_series):\n",
    "        entry_index = trade_series[j]\n",
    "        \n",
    "        if(np.isnan(size.values[entry_index])):\n",
    "            continue        \n",
    "        \n",
    "        px = exo_returns.values[entry_index:entry_index+avgbars] * direction * size.values[entry_index]\n",
    "        eq = np.cumsum(px)\n",
    "        # calculate Max Adverse Excursion\n",
    "        mae_results[i, j] = min(0.0, eq.min())\n",
    "        trade_results[i, j] = eq[-1]\n",
    "        \n",
    "    # Calculate stats for simulation\n",
    "    trades_equity = pd.Series(trade_results[i])\n",
    "    \n",
    "    mdd = (trades_equity - trades_equity.expanding().max()).min()\n",
    "    avgmae = pd.Series(mae_results[i]).mean()\n",
    "    \n",
    "    mc_mae[i] = avgmae\n",
    "    mc_mdd[i] = mdd"
   ]
  },
  {
   "cell_type": "code",
   "execution_count": null,
   "metadata": {
    "collapsed": false
   },
   "outputs": [],
   "source": [
    "df_mc = pd.DataFrame({'MAE': mc_mae, 'MDD': mc_mdd})"
   ]
  },
  {
   "cell_type": "markdown",
   "metadata": {},
   "source": [
    "## Comparing results of trading system and Monte-Carlo simulation"
   ]
  },
  {
   "cell_type": "markdown",
   "metadata": {},
   "source": [
    "Red dotted line is a ‘champion strategy’s’ MAE and DrawDown.\n",
    "\n",
    "As we can see MAE of the strategy not is so optimistic (that is good, we are not underestimating a risk in single trade). \n",
    "\n",
    "MaxDD of strategy lays near median/mean value of entire MC-simulation universe, at least we are not underestimating risks. But we should prepare for higher drawdowns in future, it is better to assume that maximum expected risk of strategy (even all strategies with similar params) will lay in range between -40 000 and -37 000 USD.\n"
   ]
  },
  {
   "cell_type": "code",
   "execution_count": null,
   "metadata": {
    "collapsed": false
   },
   "outputs": [],
   "source": [
    "import matplotlib.pyplot as plt\n",
    "figsize(15,10)\n",
    "\n",
    "df_mc.MAE.hist(bins=20, alpha=0.3);\n",
    "plt.axvline(system_avgmae, color='red', linestyle='dashed', linewidth=2)\n",
    "title('AvgMAE of simulated trades');\n",
    "\n",
    "figure()\n",
    "df_mc.MDD.hist(bins=20, alpha=0.3);\n",
    "plt.axvline(system_tradesmdd, color='red', linestyle='dashed', linewidth=2)\n",
    "title('AvgMaxDD of simulated trades');\n"
   ]
  },
  {
   "cell_type": "code",
   "execution_count": null,
   "metadata": {
    "collapsed": false
   },
   "outputs": [],
   "source": []
  }
 ],
 "metadata": {
  "kernelspec": {
   "display_name": "Python 3",
   "language": "python",
   "name": "python3"
  },
  "language_info": {
   "codemirror_mode": {
    "name": "ipython",
    "version": 3
   },
   "file_extension": ".py",
   "mimetype": "text/x-python",
   "name": "python",
   "nbconvert_exporter": "python",
   "pygments_lexer": "ipython3",
   "version": "3.5.1"
  }
 },
 "nbformat": 4,
 "nbformat_minor": 0
}
