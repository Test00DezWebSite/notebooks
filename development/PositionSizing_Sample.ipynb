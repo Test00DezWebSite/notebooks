{
 "cells": [
  {
   "cell_type": "code",
   "execution_count": null,
   "metadata": {
    "collapsed": false
   },
   "outputs": [],
   "source": [
    "import sys,os\n",
    "sys.path.append('..')\n",
    "from backtester import matlab, backtester\n",
    "from backtester.analysis import *\n",
    "from backtester.strategy import StrategyBase, OptParam\n",
    "import pandas as pd\n",
    "import numpy as np\n",
    "import scipy"
   ]
  },
  {
   "cell_type": "code",
   "execution_count": null,
   "metadata": {
    "collapsed": false
   },
   "outputs": [],
   "source": [
    "%pylab inline\n",
    "%load_ext autoreload\n",
    "%autoreload 2"
   ]
  },
  {
   "cell_type": "code",
   "execution_count": null,
   "metadata": {
    "collapsed": false
   },
   "outputs": [],
   "source": [
    "strategyname = 'strategy_270225'\n",
    "d, info = matlab.loaddata('../mat/'+strategyname+'.mat')"
   ]
  },
  {
   "cell_type": "code",
   "execution_count": null,
   "metadata": {
    "collapsed": false
   },
   "outputs": [],
   "source": [
    "d.plot()\n"
   ]
  },
  {
   "cell_type": "code",
   "execution_count": null,
   "metadata": {
    "collapsed": false
   },
   "outputs": [],
   "source": [
    "info"
   ]
  },
  {
   "cell_type": "markdown",
   "metadata": {},
   "source": [
    "<h1>Simple entry and exit rules based on MA crossing</h1>"
   ]
  },
  {
   "cell_type": "code",
   "execution_count": null,
   "metadata": {
    "collapsed": false
   },
   "outputs": [],
   "source": [
    "#Defining entry\\exit rules\n",
    "d_slice=d.ix['2010':]\n",
    "slow_ma = d_slice.exo.rolling(5).mean()\n",
    "fast_ma = d_slice.exo.rolling(6).mean()\n",
    "\n",
    "short_entry = CrossDown(fast_ma, slow_ma)\n",
    "short_exit = (CrossUp(fast_ma, slow_ma)) \n",
    "\n",
    "direction = -1\n",
    "pl, inposition = backtester.backtest(d_slice, short_entry, short_exit, direction )\n",
    "equity, stats = backtester.stats(pl, inposition)\n",
    "\n",
    "#X axis, initial equity curve\n",
    "#Colored blue\n",
    "x=equity\n",
    "x.plot()"
   ]
  },
  {
   "cell_type": "markdown",
   "metadata": {
    "collapsed": false
   },
   "source": [
    "# Step 1: volatility based sizing for normalizing risk for EXO"
   ]
  },
  {
   "cell_type": "code",
   "execution_count": null,
   "metadata": {
    "collapsed": false
   },
   "outputs": [],
   "source": [
    "# Risk per volatility unit\n",
    "risk_perunit = 10\n",
    "\n",
    "#\n",
    "# Median of EXO changes\n",
    "#\n",
    "vola = abs(d_slice.exo.shift(1) - d_slice.exo.shift(2)).rolling(10).median()\n",
    "volatility_metric = risk_perunit / vola\n",
    "\n",
    "values_a = []\n",
    "index_a = []\n",
    "\n",
    "for i in range(1, len(equity)):\n",
    "    #\n",
    "    # on opening of new position, we calculate position size\n",
    "    #\n",
    "    if inposition[i] == 1 and inposition[i - 1] == 0:\n",
    "        current_position_size = volatility_metric[i]\n",
    "\n",
    "    elif inposition[i] == 1 and inposition[i - 1] == 1:\n",
    "        current_position_size = current_position_size\n",
    "\n",
    "    else:\n",
    "        current_position_size = 0\n",
    "    values_a.append(current_position_size)\n",
    "    index_a.append(equity.index[i])\n",
    "\n",
    "possize_vola_median = pd.Series(values_a, index=[index_a])"
   ]
  },
  {
   "cell_type": "code",
   "execution_count": null,
   "metadata": {
    "collapsed": false
   },
   "outputs": [],
   "source": [
    "\n",
    "figsize(15,15)\n",
    "\n",
    "volatility_metric.plot(c='b', label='PosSize')\n",
    "vola.plot(secondary_y=True, c='g', label='Volatility')\n",
    "legend(loc=2)"
   ]
  },
  {
   "cell_type": "code",
   "execution_count": null,
   "metadata": {
    "collapsed": false
   },
   "outputs": [],
   "source": [
    "#X axis is initial equity curve\n",
    "#Colored blue\n",
    "x=equity\n",
    "x.plot(label='Base equity')\n",
    "\n",
    "#Y axis is equity curve with position management\n",
    "#Colored green\n",
    "y=pl * possize_vola_median\n",
    "y.dropna().cumsum().plot(secondary_y=True, label='Vola adj. size equity')\n",
    "legend(loc=2)"
   ]
  },
  {
   "cell_type": "markdown",
   "metadata": {},
   "source": [
    "# Step 2: deposit risk based position sizing"
   ]
  },
  {
   "cell_type": "code",
   "execution_count": null,
   "metadata": {
    "collapsed": false
   },
   "outputs": [],
   "source": [
    "# Initial deposit\n",
    "init_deposit = 100000\n",
    "\n",
    "# risk value in percents\n",
    "risk_value = 3  # Percent"
   ]
  },
  {
   "cell_type": "code",
   "execution_count": null,
   "metadata": {
    "collapsed": false
   },
   "outputs": [],
   "source": [
    "#\n",
    "# 1. Set deposit size\n",
    "#\n",
    "first_index = pl.index[0]\n",
    "\n",
    "\n",
    "# 2. Adjusting PnL to volatility\n",
    "system_pnl = pl * possize_vola_median\n",
    "pnl = system_pnl\n",
    "\n",
    "_equity = pnl.cumsum() + init_deposit\n",
    "#\n",
    "# 3. Calculating absolute and relative Drawdown\n",
    "#\n",
    "dd = (_equity - _equity.expanding().max())\n",
    "dd_percent = ((_equity - _equity.expanding().max()) / _equity.expanding().max()) * 100\n",
    "\n",
    "_equity.plot()\n",
    "dd_percent.plot(secondary_y=True)\n",
    "#\n",
    "# 4. Getting value of max DD in percents.\n",
    "#\n",
    "min_dd_percent = dd_percent.min() # !!! Looks into future, it is ok for raw exploration\n",
    "#\n",
    "# 5. Getting system weight multiplier. \n",
    "#\n",
    "system_portfolio_weight = abs(risk_value / min_dd_percent)\n",
    "\n",
    "print('max DD', dd_percent.min())"
   ]
  },
  {
   "cell_type": "code",
   "execution_count": null,
   "metadata": {
    "collapsed": false
   },
   "outputs": [],
   "source": [
    "#\n",
    "# 8. Multiply vola adjusted PnL on system weight. \n",
    "#    And after all we get adequate position size for this system which traded on 100k usd depo\n",
    "#    But weight is fixed.\n",
    "#\n",
    "system_pnl = (pl*possize_vola_median) * system_portfolio_weight\n",
    "\n",
    "pnl = system_pnl\n",
    "\n",
    "_equity = pnl.cumsum() + init_deposit\n",
    "\n",
    "dd = (_equity - _equity.expanding().max())\n",
    "dd_percent = ((_equity - _equity.expanding().max()) / _equity.expanding().max()) * 100\n",
    "\n",
    "_equity.plot()\n",
    "dd_percent.plot(secondary_y=True)\n",
    "\n",
    "print('system weight', system_portfolio_weight)\n",
    "print('max DD %', dd_percent.min())"
   ]
  },
  {
   "cell_type": "code",
   "execution_count": null,
   "metadata": {
    "collapsed": false
   },
   "outputs": [],
   "source": []
  }
 ],
 "metadata": {
  "kernelspec": {
   "display_name": "Python 3",
   "language": "python",
   "name": "python3"
  },
  "language_info": {
   "codemirror_mode": {
    "name": "ipython",
    "version": 3
   },
   "file_extension": ".py",
   "mimetype": "text/x-python",
   "name": "python",
   "nbconvert_exporter": "python",
   "pygments_lexer": "ipython3",
   "version": "3.5.2"
  }
 },
 "nbformat": 4,
 "nbformat_minor": 0
}
