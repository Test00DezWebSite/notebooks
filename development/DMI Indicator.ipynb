{
 "cells": [
  {
   "cell_type": "code",
   "execution_count": null,
   "metadata": {
    "collapsed": false
   },
   "outputs": [],
   "source": [
    "import sys\n",
    "sys.path.append('../..')\n",
    "from backtester import matlab, backtester\n",
    "from backtester.analysis import *\n",
    "import pandas as pd\n",
    "import numpy as np\n",
    "import glob, os\n",
    "\n",
    "import itertools\n",
    "\n",
    "from pandas.tseries.offsets import BDay\n",
    "\n",
    "from backtester.exoinfo import EXOInfo\n",
    "from exobuilder.data.exostorage import EXOStorage\n",
    "from IPython.core.display import display, HTML\n",
    "\n",
    "\n",
    "\n",
    "import pandas as pd\n",
    "import numpy as np\n",
    "import scipy\n",
    "import pprint\n",
    "\n",
    "%pylab inline\n",
    "figsize(20,10)"
   ]
  },
  {
   "cell_type": "code",
   "execution_count": null,
   "metadata": {
    "collapsed": false
   },
   "outputs": [],
   "source": [
    "# Only Cont Fut Flag\n",
    "only_cont_fut = False"
   ]
  },
  {
   "cell_type": "code",
   "execution_count": null,
   "metadata": {
    "collapsed": false,
    "scrolled": false
   },
   "outputs": [],
   "source": [
    "# Loading global setting for MongoDB etc.\n",
    "from scripts.settings import *\n",
    "\n",
    "try:\n",
    "    from scripts.settings_local import *\n",
    "except:\n",
    "    pass\n",
    "\n",
    "storage = EXOStorage(MONGO_CONNSTR, MONGO_EXO_DB)\n",
    "pp = pprint.PrettyPrinter(indent=4)\n",
    "\n",
    "exo_list = storage.exo_list()\n",
    "pp.pprint(exo_list)\n",
    "\n",
    "\n",
    "df = pd.DataFrame()\n",
    "\n",
    "for e in exo_list:\n",
    "    exo_series, exo_dict = storage.load_series(e)\n",
    "    if only_cont_fut == True:   \n",
    "        if 'Fut' in exo_dict['name']:   \n",
    "            exo_series = exo_series[exo_series.columns[0]]\n",
    "            df[exo_dict['name']] = exo_series\n",
    "            \n",
    "    if only_cont_fut == False:\n",
    "        exo_series = exo_series[exo_series.columns[0]]\n",
    "        df[exo_dict['name']] = exo_series\n",
    "#exo_series.plot()"
   ]
  },
  {
   "cell_type": "code",
   "execution_count": null,
   "metadata": {
    "collapsed": false
   },
   "outputs": [],
   "source": [
    "df.head()"
   ]
  },
  {
   "cell_type": "code",
   "execution_count": null,
   "metadata": {
    "collapsed": false
   },
   "outputs": [],
   "source": [
    "px_ser = df.ES_CallSpread.dropna()"
   ]
  },
  {
   "cell_type": "code",
   "execution_count": null,
   "metadata": {
    "collapsed": false,
    "scrolled": false
   },
   "outputs": [],
   "source": [
    "'''\n",
    "https://ru.tradingview.com/stock-charts-support/index.php/Directional_Movement_(DMI)\n",
    "\n",
    "Calculating the DMI can actually be broken down into two parts. \n",
    "First, calculating the +DI and -DI, and second, calculating the ADX.\n",
    " \n",
    "To calculate the +DI and -DI you need to find the +DM and -DM (Directional Movement). \n",
    "+DM and -DM are calculated using the High, Low and Close for each period. \n",
    "You can then calculate the following:\n",
    " \n",
    "Current High - Previous High = UpMove\n",
    "Current Low - Previous Low = DownMove\n",
    " \n",
    "If UpMove > DownMove and UpMove > 0, then +DM = UpMove, else +DM = 0\n",
    "If DownMove > Upmove and Downmove > 0, then -DM = DownMove, else -DM = 0\n",
    " \n",
    "Once you have the current +DM and -DM calculated, the +DM and -DM lines can be \n",
    "calculated and plotted based on the number of user defined periods.\n",
    " \n",
    "+DI = 100 times Exponential Moving Average of (+DM / Average True Range)\n",
    "-DI = 100 times Exponential Moving Average of (-DM / Average True Range)\n",
    " \n",
    "Now that -+DX and -DX have been calculated, the last step is calculating the ADX.\n",
    " \n",
    "ADX = 100 times the Exponential Moving Average of the Absolute Value of (+DI- -DI) / (+DI + -DI)'''\n",
    "\n",
    "hl_data_available = False\n",
    "\n",
    "C = px_ser\n",
    "\n",
    "if hl_data_available == False:\n",
    "    \n",
    "    H = C.rolling(2).max().dropna()\n",
    "    L = C.rolling(2).min().dropna()\n",
    "\n",
    "    C = C[H.index]\n",
    "\n",
    "prev_high = H.shift(1)\n",
    "prev_low = L.shift(1)\n",
    "\n",
    "dm_pos = pd.Series(0.0, index=C.index)\n",
    "dm_neg = pd.Series(0.0, index=C.index)\n",
    "\n",
    "atr = ATR(H,L,C,14)\n",
    "\n",
    "for i in range(C.size):\n",
    "    upmove = H[i] - prev_high[i]\n",
    "    downmove =  prev_low[i] - L[i]\n",
    "    #print(upmove > downmove)\n",
    "    \n",
    "    if (upmove > downmove) & (upmove > 0):\n",
    "        dm_pos[i] = upmove\n",
    "        #print(dm_pos.iloc[i])\n",
    "        \n",
    "    if (downmove > upmove) & (downmove > 0):\n",
    "        dm_neg[i] = downmove\n",
    "\n",
    "di_pos = ((dm_pos.ewm(14).mean() / atr).ewm(14).mean()) * 100\n",
    "di_neg = ((dm_neg.ewm(14).mean() / atr).ewm(14).mean()) * 100\n",
    "\n",
    "adx = ((di_pos - di_neg) / (di_pos + di_neg)).abs().ewm(20).mean() * 100"
   ]
  },
  {
   "cell_type": "code",
   "execution_count": null,
   "metadata": {
    "collapsed": false
   },
   "outputs": [],
   "source": [
    "px_ser.ix['2012':].plot()\n",
    "#px_ser.rolling(2).max().ix['2016'].plot()\n",
    "#px_ser.rolling(2).min().ix['2016'].plot()\n",
    "\n",
    "di_pos.ix['2012':].plot(secondary_y=True)\n",
    "di_neg.ix['2012':].plot(secondary_y=True)\n",
    "#((di_pos + di_neg)/2).ix['2012':].plot(secondary_y=True)\n",
    "#adx.ix['2012':].plot(secondary_y=True)"
   ]
  },
  {
   "cell_type": "code",
   "execution_count": null,
   "metadata": {
    "collapsed": false
   },
   "outputs": [],
   "source": [
    "px_ser.ix['2012':].plot()\n",
    "\n",
    "adx.ix['2012':].plot(secondary_y=True)"
   ]
  },
  {
   "cell_type": "markdown",
   "metadata": {
    "collapsed": false
   },
   "source": [
    "# Entry rules"
   ]
  },
  {
   "cell_type": "code",
   "execution_count": null,
   "metadata": {
    "collapsed": false
   },
   "outputs": [],
   "source": [
    "px_ser.plot()\n",
    "\n",
    "# Difference of DIs is lower/higher than some levels (10-20-40)\n",
    "(di_pos - di_neg).plot(secondary_y=True)\n",
    "\n",
    "axhline(40)\n",
    "axhline(-40)\n",
    "\n",
    "axhline(20)\n",
    "axhline(-20)"
   ]
  },
  {
   "cell_type": "code",
   "execution_count": null,
   "metadata": {
    "collapsed": false
   },
   "outputs": [],
   "source": [
    "px_ser.plot()\n",
    "\n",
    "\n",
    "#di_pos.ix['2012':].plot(secondary_y=True)\n",
    "#di_neg.ix['2012':].plot(secondary_y=True)\n",
    "\n",
    "adx.plot(secondary_y=True)\n",
    "adx.expanding(60).quantile(0.2).plot(secondary_y=True)\n",
    "adx.expanding(60).quantile(0.5).plot(secondary_y=True)\n",
    "adx.expanding(60).quantile(0.8).plot(secondary_y=True)"
   ]
  },
  {
   "cell_type": "code",
   "execution_count": null,
   "metadata": {
    "collapsed": false
   },
   "outputs": [],
   "source": [
    "px_ser.plot()\n",
    "\n",
    "adx.pct_change(10).rank(pct=True).plot()\n",
    "\n",
    "di_pos.ix['2012':].plot(secondary_y=True)\n",
    "di_neg.ix['2012':].plot(secondary_y=True)"
   ]
  },
  {
   "cell_type": "code",
   "execution_count": null,
   "metadata": {
    "collapsed": false
   },
   "outputs": [],
   "source": [
    "\n",
    "di_pos.plot()\n",
    "\n",
    "di_pos.expanding(60).quantile(0.1).plot()\n",
    "di_pos.expanding(60).quantile(0.5).plot()\n",
    "di_pos.expanding(60).quantile(0.9).plot()\n",
    "\n",
    "px_ser.plot(secondary_y=True)"
   ]
  },
  {
   "cell_type": "code",
   "execution_count": null,
   "metadata": {
    "collapsed": false
   },
   "outputs": [],
   "source": [
    "di_pos.rank(pct=True).plot()"
   ]
  },
  {
   "cell_type": "code",
   "execution_count": null,
   "metadata": {
    "collapsed": false
   },
   "outputs": [],
   "source": []
  }
 ],
 "metadata": {
  "kernelspec": {
   "display_name": "Python 3",
   "language": "python",
   "name": "python3"
  },
  "language_info": {
   "codemirror_mode": {
    "name": "ipython",
    "version": 3
   },
   "file_extension": ".py",
   "mimetype": "text/x-python",
   "name": "python",
   "nbconvert_exporter": "python",
   "pygments_lexer": "ipython3",
   "version": "3.5.2"
  }
 },
 "nbformat": 4,
 "nbformat_minor": 0
}
