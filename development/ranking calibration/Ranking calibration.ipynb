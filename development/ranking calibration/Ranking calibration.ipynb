{
 "cells": [
  {
   "cell_type": "code",
   "execution_count": null,
   "metadata": {
    "collapsed": false
   },
   "outputs": [],
   "source": [
    "%pylab inline\n",
    "%load_ext autoreload\n",
    "%autoreload 2\n",
    "%load_ext line_profiler\n",
    "%load_ext Cython\n",
    "figsize(20,10)"
   ]
  },
  {
   "cell_type": "code",
   "execution_count": null,
   "metadata": {
    "collapsed": false
   },
   "outputs": [],
   "source": [
    "import sys,os\n",
    "sys.path.append('..')\n",
    "sys.path.append('../..')\n",
    "from backtester import matlab, backtester\n",
    "from backtester.analysis import *\n",
    "from backtester.swarms.swarm import Swarm\n",
    "from backtester.exoinfo import EXOInfo\n",
    "from backtester.swarms.rankingclasses import RankingClassBase, RankerBestWithCorrel\n",
    "from exobuilder.data.exostorage import EXOStorage\n",
    "\n",
    "import pandas as pd\n",
    "import numpy as np\n",
    "import scipy\n",
    "import time\n",
    "import glob\n",
    "from pandas.tseries.offsets import *\n",
    "import pprint"
   ]
  },
  {
   "cell_type": "code",
   "execution_count": null,
   "metadata": {
    "collapsed": false
   },
   "outputs": [],
   "source": [
    "# Loading global setting for MongoDB etc.\n",
    "from scripts.settings import *\n",
    "\n",
    "try:\n",
    "    from scripts.settings_local import *\n",
    "except:\n",
    "    pass\n",
    "\n",
    "storage = EXOStorage(MONGO_CONNSTR, MONGO_EXO_DB)"
   ]
  },
  {
   "cell_type": "code",
   "execution_count": null,
   "metadata": {
    "collapsed": false
   },
   "outputs": [],
   "source": [
    "swm_info = storage.swarms_info()\n",
    "pp = pprint.PrettyPrinter(indent=4)\n",
    "pp.pprint(swm_info)"
   ]
  },
  {
   "cell_type": "markdown",
   "metadata": {},
   "source": [
    "## Getting swarms using filter"
   ]
  },
  {
   "cell_type": "code",
   "execution_count": null,
   "metadata": {
    "collapsed": false
   },
   "outputs": [],
   "source": [
    "instruments_filter = ['*']  # Select ALL\n",
    "#instruments_filter = ['ES', 'CL']\n",
    "\n",
    "exo_filter = ['*'] # Select ALL\n",
    "#exo_filter = ['BullishCollar']\n",
    "\n",
    "direction_filter = [0, -1, 1] # Select ALL\n",
    "#direction_filter = [1]\n",
    "\n",
    "alpha_filter = ['*']  # Select ALL\n",
    "#alpha_filter = ['MaCross', 'PointAndFigurePatterns']\n",
    "\n",
    "swmdf, swm_data = storage.swarms_list(instruments_filter, direction_filter, alpha_filter, exo_filter)"
   ]
  },
  {
   "cell_type": "markdown",
   "metadata": {},
   "source": [
    "## Set ranking params"
   ]
  },
  {
   "cell_type": "code",
   "execution_count": null,
   "metadata": {
    "collapsed": false
   },
   "outputs": [],
   "source": [
    "rank_correl_threshold = 0.5 # Default = 0.5\n",
    "rank_window_size = 10       # Default = -1"
   ]
  },
  {
   "cell_type": "markdown",
   "metadata": {},
   "source": [
    "## Processsing swarm ranks"
   ]
  },
  {
   "cell_type": "code",
   "execution_count": null,
   "metadata": {
    "collapsed": false
   },
   "outputs": [],
   "source": [
    "def process_swarm_rank(swarm_filename):    \n",
    "    swm = Swarm.load(filename=swarm_filename)\n",
    "    print(\"Loading: {0}\".format(swm.name))\n",
    "    swm.context['swarm']['ranking_class'] = RankerBestWithCorrel(window_size=rank_window_size,\n",
    "                                                                 correl_threshold=rank_correl_threshold)\n",
    "\n",
    "\n",
    "    old_picked_equity = swm.picked_equity\n",
    "    swm.pick()\n",
    "    new_picked_equity = swm.picked_equity\n",
    "    raw_equity = swm.raw_equity\n",
    "\n",
    "    eq_df = pd.DataFrame({'new': new_picked_equity, 'old': old_picked_equity, 'raw': raw_equity})\n",
    "    delta = eq_df['new'] - eq_df['old']\n",
    "    \n",
    "    eq_stats = {\n",
    "        'avg_delta': delta.mean()\n",
    "    }\n",
    "    \n",
    "    return swm.name, eq_df, eq_stats"
   ]
  },
  {
   "cell_type": "code",
   "execution_count": null,
   "metadata": {
    "collapsed": false
   },
   "outputs": [],
   "source": [
    "TMQRPATH = os.getenv(\"TMQRPATH\", '')\n",
    "print('Swarms List')\n",
    "\n",
    "swarms_equities = {}\n",
    "swarms_stats = {}\n",
    "for file in swmdf.columns:\n",
    "    swarm_name = file.replace('.swm','')\n",
    "    fn = os.path.join(TMQRPATH, 'swarms', file + '.swm')\n",
    "    try:\n",
    "        swarm_name, swarm_eq, swarm_stat = process_swarm_rank(fn)        \n",
    "        swarms_equities[swarm_name] = swarm_eq\n",
    "        swarms_stats[swarm_name] = swarm_stat\n",
    "    except FileNotFoundError:\n",
    "        print('{0} not found'.format(fn))\n",
    "        \n",
    "swarm_stats = pd.DataFrame(swarms_stats).T"
   ]
  },
  {
   "cell_type": "markdown",
   "metadata": {},
   "source": [
    "## Calculating difference between new and old equities"
   ]
  },
  {
   "cell_type": "markdown",
   "metadata": {},
   "source": [
    "##### Note: greater value of avg_delta means that NEW ranking parameters better than default"
   ]
  },
  {
   "cell_type": "markdown",
   "metadata": {},
   "source": [
    "delta = new_equity - old_equity\n",
    "\n",
    "avg_delta = mean(delta)"
   ]
  },
  {
   "cell_type": "code",
   "execution_count": null,
   "metadata": {
    "collapsed": false
   },
   "outputs": [],
   "source": [
    "pd.DataFrame(swarms_stats).T"
   ]
  },
  {
   "cell_type": "markdown",
   "metadata": {},
   "source": [
    "## Graph of equity deltas for each swarm"
   ]
  },
  {
   "cell_type": "markdown",
   "metadata": {},
   "source": [
    "##### Note: greater value of delta means that NEW ranking parameters better than default"
   ]
  },
  {
   "cell_type": "code",
   "execution_count": null,
   "metadata": {
    "collapsed": false
   },
   "outputs": [],
   "source": [
    "for s, eq_df in swarms_equities.items():\n",
    "    delta  = eq_df['new'] - eq_df['old']\n",
    "    \n",
    "    delta.plot(label=s)\n",
    "legend(loc=2);\n",
    "title('Graph of equity deltas for each swarm');"
   ]
  },
  {
   "cell_type": "markdown",
   "metadata": {
    "collapsed": false
   },
   "source": [
    "## Pairwise graphs for all swarms"
   ]
  },
  {
   "cell_type": "markdown",
   "metadata": {},
   "source": [
    "#### Note: 'raw' equity line (red) is an average of all swarm equities"
   ]
  },
  {
   "cell_type": "code",
   "execution_count": null,
   "metadata": {
    "collapsed": false
   },
   "outputs": [],
   "source": [
    "figsize(10, 6)\n",
    "fig_index = 1\n",
    "for s, eq_df in swarms_equities.items():\n",
    "    f = plt.figure(fig_index)\n",
    "    plt.plot(eq_df['new'], label='new');\n",
    "    plt.plot(eq_df['old'], label='old');\n",
    "    plt.plot(eq_df['raw'], label='raw');\n",
    "    plt.legend(loc=2)\n",
    "    plt.title(s);\n",
    "    fig_index += 1\n"
   ]
  },
  {
   "cell_type": "code",
   "execution_count": null,
   "metadata": {
    "collapsed": false
   },
   "outputs": [],
   "source": []
  }
 ],
 "metadata": {
  "anaconda-cloud": {},
  "kernelspec": {
   "display_name": "Python 3",
   "language": "python",
   "name": "python3"
  },
  "language_info": {
   "codemirror_mode": {
    "name": "ipython",
    "version": 3
   },
   "file_extension": ".py",
   "mimetype": "text/x-python",
   "name": "python",
   "nbconvert_exporter": "python",
   "pygments_lexer": "ipython3",
   "version": "3.5.1"
  }
 },
 "nbformat": 4,
 "nbformat_minor": 0
}
