{
 "cells": [
  {
   "cell_type": "code",
   "execution_count": null,
   "metadata": {
    "collapsed": false
   },
   "outputs": [],
   "source": [
    "import sys\n",
    "sys.path.append('../..')\n",
    "from backtester import matlab, backtester\n",
    "from backtester.analysis import *\n",
    "import pandas as pd\n",
    "import numpy as np\n",
    "import glob, os\n",
    "\n",
    "import itertools\n",
    "\n",
    "from backtester.exoinfo import EXOInfo\n",
    "from exobuilder.data.exostorage import EXOStorage\n",
    "from IPython.core.display import display, HTML\n",
    "\n",
    "import statsmodels.tsa.api as smt\n",
    "import statsmodels.api as sm\n",
    "\n",
    "import plotly.plotly as py  \n",
    "import plotly.tools as tls   \n",
    "import plotly.graph_objs as go\n",
    "\n",
    "import pandas as pd\n",
    "import numpy as np\n",
    "import scipy\n",
    "import pprint\n",
    "\n",
    "%pylab inline\n",
    "figsize(20,10)"
   ]
  },
  {
   "cell_type": "code",
   "execution_count": null,
   "metadata": {
    "collapsed": false,
    "scrolled": false
   },
   "outputs": [],
   "source": [
    "# Loading global setting for MongoDB etc.\n",
    "from scripts.settings import *\n",
    "\n",
    "try:\n",
    "    from scripts.settings_local import *\n",
    "except:\n",
    "    pass\n",
    "\n",
    "storage = EXOStorage(MONGO_CONNSTR, MONGO_EXO_DB)\n",
    "pp = pprint.PrettyPrinter(indent=4)\n",
    "\n",
    "exo_list = storage.exo_list()\n",
    "pp.pprint(exo_list)\n",
    "\n",
    "\n",
    "df = pd.DataFrame()\n",
    "\n",
    "for e in exo_list:\n",
    "    exo_series, exo_dict = storage.load_series(e)\n",
    "    \n",
    "    exo_series = exo_series[exo_series.columns[0]]\n",
    "    df[exo_dict['name']] = exo_series\n",
    "#exo_series.plot()"
   ]
  },
  {
   "cell_type": "code",
   "execution_count": null,
   "metadata": {
    "collapsed": false
   },
   "outputs": [],
   "source": [
    "df.tail()"
   ]
  },
  {
   "cell_type": "code",
   "execution_count": null,
   "metadata": {
    "collapsed": false
   },
   "outputs": [],
   "source": [
    "px_ser = df.ES_BearishCollarBW\n",
    "px_ser.asfreq('B').dropna().plot()"
   ]
  },
  {
   "cell_type": "markdown",
   "metadata": {},
   "source": [
    "# Data examination"
   ]
  },
  {
   "cell_type": "code",
   "execution_count": null,
   "metadata": {
    "collapsed": false
   },
   "outputs": [],
   "source": [
    "#ts = px_ser.asfreq('B').dropna()\n",
    "#ts = px_ser.ewm(2).mean().dropna() - px_ser.ewm(3).mean().dropna()\n",
    "#ts = ts - ts.ewm(1).mean().dropna()\n",
    "#ts = (px_ser - px_ser.ewm(10).mean()).dropna()\n",
    "#ts = px_ser.diff(10).dropna()\n",
    "\n",
    "#ts = (px_ser - px_ser.shift(1)).dropna()\n",
    "#ts = ((px_ser - px_ser.ewm(1).mean()) / px_ser.ewm(1).std()).dropna()\n",
    "ts = px_ser.rolling(10).mean().diff().dropna()"
   ]
  },
  {
   "cell_type": "code",
   "execution_count": null,
   "metadata": {
    "collapsed": false,
    "scrolled": false
   },
   "outputs": [],
   "source": [
    "#ts.cumsum().ix['2010':].plot()\n",
    "ts.ix['2015':].plot(secondary_y=True)\n",
    "\n",
    "#px_ser.ix['2010':].plot()\n",
    "px_ser.ix['2015':].plot()"
   ]
  },
  {
   "cell_type": "code",
   "execution_count": null,
   "metadata": {
    "collapsed": false
   },
   "outputs": [],
   "source": [
    "smt.adfuller(ts)"
   ]
  },
  {
   "cell_type": "code",
   "execution_count": null,
   "metadata": {
    "collapsed": false,
    "scrolled": false
   },
   "outputs": [],
   "source": [
    "sm.graphics.tsa.plot_acf(ts, lags=70)"
   ]
  },
  {
   "cell_type": "markdown",
   "metadata": {},
   "source": [
    "# Model"
   ]
  },
  {
   "cell_type": "code",
   "execution_count": null,
   "metadata": {
    "collapsed": false,
    "scrolled": false
   },
   "outputs": [],
   "source": [
    "i = 1\n",
    "\n",
    "empty_ser = pd.Series(False, index=px_ser.dropna().index)\n",
    "\n",
    "signals_df = pd.DataFrame()\n",
    "\n",
    "signals_df['long_entry_signal'] = empty_ser\n",
    "signals_df['long_exit_signal'] = empty_ser\n",
    "\n",
    "signals_df['short_entry_signal'] = empty_ser\n",
    "signals_df['short_exit_signal'] = empty_ser\n",
    "\n",
    "while True:\n",
    "    forecast_period = 2\n",
    "    \n",
    "    try:\n",
    "        model = smt.ARIMA(ts.iloc[:i], order=(1,1,0)).fit()\n",
    "    \n",
    "    except Exception:\n",
    "        i += forecast_period\n",
    "        continue\n",
    "\n",
    "\n",
    "    forecast_daterange = pd.date_range(start=ts.iloc[:i].index[-1] + BDay(1), periods=forecast_period)\n",
    "    #forecast_daterange = pd.date_range(start=ts.iloc[:i].index[-1] + pd.DateOffset(1), freq='B')\n",
    "    \n",
    "    # Handling missing dates\n",
    "    if (forecast_daterange.isin(px_ser.dropna().index).all() == False) & (forecast_daterange[-1] < ts.index[-1]):\n",
    "        i += forecast_period\n",
    "        print('DATES IS NOT EXIST', ts.iloc[:i].index[-4:])\n",
    "        continue\n",
    "    \n",
    "    # If daterange is out of TSeries index, break while loop\n",
    "    if forecast_daterange[-1] > ts.index[-1]:\n",
    "        break\n",
    "    \n",
    "    forecast_values = model.forecast(forecast_period)\n",
    "\n",
    "    forecast_series = pd.Series(forecast_values[0], index=forecast_daterange)\n",
    "    \n",
    "    if forecast_series[0] > forecast_series[-1]:\n",
    "    #if forecast_series[0] > ts.iloc[:i][-1]:\n",
    "        signals_df['long_entry_signal'].ix[ts.iloc[:i].index[-1]: \n",
    "                                           forecast_series.index[-1]] = True\n",
    "        \n",
    "        if (signals_df['long_entry_signal'].ix[forecast_series.index[-1]] == True):\n",
    "            signals_df['long_exit_signal'].ix[forecast_series.index[-1] + BDay(1)] = True\n",
    "            \n",
    "           \n",
    "    \n",
    "    if forecast_series[0] < forecast_series[-1]:\n",
    "    #if forecast_series[0] < ts.iloc[:i][-1]:\n",
    "        signals_df['short_entry_signal'].ix[ts.iloc[:i].index[-1]: \n",
    "                                           forecast_series.index[-1]] = True\n",
    "        \n",
    "        if (signals_df['short_entry_signal'].ix[forecast_series.index[-1]] == True):\n",
    "            signals_df['short_exit_signal'].ix[forecast_series.index[-1] + BDay(1)] = True\n",
    "            \n",
    "    print('last dates-', ts.iloc[:i].index[-3:])\n",
    "    i += forecast_period\n",
    "    \n",
    "    \n",
    "#signals_df.loc[(signals_df.long_exit_signal == True) & (signals_df.long_entry_signal == True), 'long_exit_signal'] = False\n",
    "#signals_df.loc[(signals_df.short_exit_signal == True) & (signals_df.short_entry_signal == True), 'short_exit_signal'] = False"
   ]
  },
  {
   "cell_type": "code",
   "execution_count": null,
   "metadata": {
    "collapsed": false
   },
   "outputs": [],
   "source": [
    "entry = signals_df.long_entry_signal\n",
    "exit = signals_df.long_exit_signal\n",
    "\n",
    "#entry = signals_df.short_entry_signal\n",
    "#exit = signals_df.short_exit_signal\n",
    "\n",
    "exodf = pd.DataFrame()\n",
    "exodf['exo'] = px_ser.dropna()\n",
    "\n",
    "direction = -1\n",
    "pl, inposition = backtester.backtest(exodf.iloc[:], entry, exit, direction)\n",
    "equity, stats = backtester.stats(pl, inposition)\n",
    "\n",
    "equity.plot()\n",
    "\n",
    "(px_ser*-1).plot()"
   ]
  },
  {
   "cell_type": "code",
   "execution_count": null,
   "metadata": {
    "collapsed": false
   },
   "outputs": [],
   "source": [
    "(equity.diff() - 6).cumsum().plot()"
   ]
  },
  {
   "cell_type": "code",
   "execution_count": null,
   "metadata": {
    "collapsed": false
   },
   "outputs": [],
   "source": [
    "#stats"
   ]
  },
  {
   "cell_type": "code",
   "execution_count": null,
   "metadata": {
    "collapsed": false
   },
   "outputs": [],
   "source": [
    "#entry = signals_df.long_entry_signal\n",
    "#exit = signals_df.long_exit_signal\n",
    "\n",
    "entry = signals_df.short_entry_signal\n",
    "exit = signals_df.short_exit_signal\n",
    "\n",
    "exodf = pd.DataFrame()\n",
    "exodf['exo'] = px_ser.asfreq('B').dropna()\n",
    "\n",
    "direction = -1\n",
    "pl, inposition = backtester.backtest(exodf.iloc[:], entry, exit, direction)\n",
    "equity, stats = backtester.stats(pl, inposition)\n",
    "\n",
    "equity.plot()\n",
    "\n",
    "(px_ser*-1).plot()"
   ]
  },
  {
   "cell_type": "code",
   "execution_count": null,
   "metadata": {
    "collapsed": false
   },
   "outputs": [],
   "source": []
  },
  {
   "cell_type": "code",
   "execution_count": null,
   "metadata": {
    "collapsed": false
   },
   "outputs": [],
   "source": []
  }
 ],
 "metadata": {
  "kernelspec": {
   "display_name": "Python 3",
   "language": "python",
   "name": "python3"
  },
  "language_info": {
   "codemirror_mode": {
    "name": "ipython",
    "version": 3
   },
   "file_extension": ".py",
   "mimetype": "text/x-python",
   "name": "python",
   "nbconvert_exporter": "python",
   "pygments_lexer": "ipython3",
   "version": "3.5.2"
  }
 },
 "nbformat": 4,
 "nbformat_minor": 0
}
