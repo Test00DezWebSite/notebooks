{
 "cells": [
  {
   "cell_type": "code",
   "execution_count": null,
   "metadata": {
    "collapsed": false
   },
   "outputs": [],
   "source": [
    "import sys,os\n",
    "sys.path.append('../..')\n",
    "from backtester import matlab, backtester\n",
    "from backtester.analysis import *\n",
    "import pandas as pd\n",
    "import numpy as np\n",
    "import scipy\n",
    "\n",
    "%pylab inline\n",
    "%load_ext autoreload\n",
    "%autoreload 2"
   ]
  },
  {
   "cell_type": "code",
   "execution_count": null,
   "metadata": {
    "collapsed": false
   },
   "outputs": [],
   "source": [
    "strategyname = 'strategy_270225'\n",
    "d, info = matlab.loaddata('../../mat/'+strategyname+'.mat')\n"
   ]
  },
  {
   "cell_type": "code",
   "execution_count": null,
   "metadata": {
    "collapsed": false
   },
   "outputs": [],
   "source": [
    "d_slice=d.ix['2000':]"
   ]
  },
  {
   "cell_type": "code",
   "execution_count": null,
   "metadata": {
    "collapsed": false,
    "scrolled": false
   },
   "outputs": [],
   "source": [
    "d_slice.plot()"
   ]
  },
  {
   "cell_type": "code",
   "execution_count": null,
   "metadata": {
    "collapsed": false
   },
   "outputs": [],
   "source": [
    "info"
   ]
  },
  {
   "cell_type": "markdown",
   "metadata": {},
   "source": [
    "# Simple entry and exit rules based on MA crossing"
   ]
  },
  {
   "cell_type": "code",
   "execution_count": null,
   "metadata": {
    "collapsed": false
   },
   "outputs": [],
   "source": [
    "#Defining entry\\exit rules\n",
    "slow_ma = d_slice.exo.rolling(15).mean()#try period == 5\n",
    "fast_ma = d_slice.exo.rolling(10).mean()#try period == 6\n",
    "\n",
    "\n",
    "short_entry = CrossDown(fast_ma, slow_ma)\n",
    "short_exit = (CrossUp(fast_ma, slow_ma)) \n",
    "\n",
    "direction = -1\n",
    "pl, inposition = backtester.backtest(d_slice, short_entry, short_exit, direction )\n",
    "equity, stats = backtester.stats(pl, inposition)\n",
    "\n",
    "\n",
    "print(stats)\n",
    "equity.plot()"
   ]
  },
  {
   "cell_type": "markdown",
   "metadata": {},
   "source": [
    "# Trailing stop exploration"
   ]
  },
  {
   "cell_type": "code",
   "execution_count": null,
   "metadata": {
    "collapsed": false
   },
   "outputs": [],
   "source": [
    "figsize(15, 10)\n",
    "\n",
    "\n",
    "#Trailing stop works better on trending markets.\n",
    "#On markets where mean-reversion regime prevails, TS will not performing well.\n",
    "#We need to determine size of TS according to underlying volatility. It will help us to not lose too much on volatility bursts\n",
    "\n",
    "#Rolling max\\min works quite well for raw exploration. Period of rolling window is a subject of optimization\n",
    "period=5\n",
    "trailing_stop_short =d_slice.exo.rolling(period).max().shift(1)\n",
    "trailing_stop_long = d_slice.exo.rolling(period).min().shift(1)\n",
    "\n",
    "#Simple vola metric. Based on previous px change\n",
    "# Median smoothing unlike averaging, is less resposive to volatility busts\n",
    "# I think is will be more useful in our case\n",
    "vola=d_slice.exo.shift(1)-d_slice.exo.shift(2)\n",
    "volatility_metric=abs(vola.rolling(10).median())\n",
    "\n",
    "d_slice.exo.plot()\n",
    "#slow_ma.plot(c='r')\n",
    "#fast_ma.plot(c='g')\n",
    "trailing_stop_short.plot()\n",
    "\n",
    "\n",
    "#We need to define stop size for median trailing. It must be either fixed value or dynamic value which adjusted by volatility\n",
    "median_trailstop=d_slice.exo.rolling(5).median().shift(1)\n",
    "median_trailstop.plot()"
   ]
  },
  {
   "cell_type": "code",
   "execution_count": null,
   "metadata": {
    "collapsed": false
   },
   "outputs": [],
   "source": [
    "volatility_metric.plot(secondary_y=True,kind='area',stacked=False)"
   ]
  },
  {
   "cell_type": "markdown",
   "metadata": {
    "collapsed": false
   },
   "source": [
    "# Optimizing"
   ]
  },
  {
   "cell_type": "markdown",
   "metadata": {},
   "source": [
    "### Rolling max trailing"
   ]
  },
  {
   "cell_type": "code",
   "execution_count": null,
   "metadata": {
    "collapsed": false
   },
   "outputs": [],
   "source": [
    "#We're going to optimize period of rolling windows and compare system perfomance  results\n",
    "#Index of DF is optimizing parameter value\n",
    "\n",
    "results_a=[]\n",
    "results_index_a=[]\n",
    "for p in range(5,200,5):\n",
    "    optimizing_period=p\n",
    "    trailing_stop_short =d_slice.exo.rolling(optimizing_period).max().shift(1) \n",
    "\n",
    "    short_entry = CrossDown(fast_ma, slow_ma)\n",
    "    short_exit = (CrossUp(fast_ma, slow_ma)) | (CrossUp(d_slice.exo,trailing_stop_short))\n",
    "\n",
    "    direction = -1\n",
    "    pl, inposition = backtester.backtest(d_slice, short_entry, short_exit, direction )\n",
    "    equity, stats = backtester.stats(pl, inposition)\n",
    "\n",
    "\n",
    "\n",
    "    results_a.append(stats)\n",
    "    results_index_a.append(p)\n"
   ]
  },
  {
   "cell_type": "code",
   "execution_count": null,
   "metadata": {
    "collapsed": false
   },
   "outputs": [],
   "source": [
    "rollingmax_results_df=pd.DataFrame(results_a,index=results_index_a)"
   ]
  },
  {
   "cell_type": "code",
   "execution_count": null,
   "metadata": {
    "collapsed": false
   },
   "outputs": [],
   "source": [
    "rollingmax_results_df.sort(['netprofit'],ascending=False)"
   ]
  },
  {
   "cell_type": "code",
   "execution_count": null,
   "metadata": {
    "collapsed": false
   },
   "outputs": [],
   "source": [
    "optimizing_period=5\n",
    "trailing_stop_short = pd.rolling_max(d_slice.exo,optimizing_period).shift(1)\n",
    "\n",
    "short_entry = CrossDown(fast_ma, slow_ma)\n",
    "short_exit = (CrossUp(fast_ma, slow_ma)) | (CrossUp(d_slice.exo,trailing_stop_short))\n",
    "\n",
    "direction = -1\n",
    "pl, inposition = backtester.backtest(d_slice, short_entry, short_exit, direction )\n",
    "equity, stats = backtester.stats(pl, inposition)\n",
    "\n",
    "print(stats)\n",
    "equity.plot()    \n",
    "\n",
    "#Seems good"
   ]
  },
  {
   "cell_type": "code",
   "execution_count": null,
   "metadata": {
    "collapsed": false
   },
   "outputs": [],
   "source": [
    "#We're going to optimize period of rolling windows, size of TS and compare systems perfomance  results\n",
    "#Index of DF is optimizing parameter value\n",
    "\n",
    "results_a=[]\n",
    "results_index_a=[]\n",
    "results_vola_optimization_a=[]\n",
    "\n",
    "vola=d_slice.exo.shift(1)-d_slice.exo.shift(2)\n",
    "volatility_metric=abs(vola.rolling(5).median())\n",
    "\n",
    "for p in range(5,200,5):\n",
    "    optimizing_period=p\n",
    "    trailing_stop_short = d_slice.exo.rolling(optimizing_period).max().shift(1)\n",
    "    \n",
    "    for v in np.arange(0,2,0.1):\n",
    "        vola_multiplier=v     \n",
    "        \n",
    "        trailing_stop_dynamicsize_short=trailing_stop_short+(volatility_metric*vola_multiplier)\n",
    "        \n",
    "        short_entry = CrossDown(fast_ma, slow_ma)\n",
    "        short_exit = (CrossUp(fast_ma, slow_ma)) | (CrossUp(d_slice.exo,trailing_stop_dynamicsize_short))\n",
    "\n",
    "        direction = -1\n",
    "        pl, inposition = backtester.backtest(d_slice, short_entry, short_exit, direction )\n",
    "        equity, stats = backtester.stats(pl, inposition)\n",
    "\n",
    "        results_a.append(stats)\n",
    "        results_index_a.append(p)\n",
    "        results_vola_optimization_a.append(vola_multiplier)"
   ]
  },
  {
   "cell_type": "code",
   "execution_count": null,
   "metadata": {
    "collapsed": false
   },
   "outputs": [],
   "source": [
    "rollingmax_dynamicsized_results_df=pd.DataFrame(results_a,index=[results_index_a,results_vola_optimization_a])"
   ]
  },
  {
   "cell_type": "code",
   "execution_count": null,
   "metadata": {
    "collapsed": false,
    "scrolled": false
   },
   "outputs": [],
   "source": [
    "rollingmax_dynamicsized_results_df.sort('netprofit',ascending=False)"
   ]
  },
  {
   "cell_type": "code",
   "execution_count": null,
   "metadata": {
    "collapsed": false
   },
   "outputs": [],
   "source": [
    "optimizing_period=5\n",
    "\n",
    "vola_multiplier=0.2\n",
    "\n",
    "trailing_stop_short = d_slice.exo.rolling(optimizing_period).max().shift(1)\n",
    "\n",
    "trailing_stop_dynamicsize_short=trailing_stop_short+(volatility_metric*vola_multiplier)\n",
    "\n",
    "short_entry = CrossDown(fast_ma, slow_ma)\n",
    "short_exit = (CrossUp(fast_ma, slow_ma)) | (CrossUp(d_slice.exo,trailing_stop_dynamicsize_short))\n",
    "\n",
    "direction = -1\n",
    "pl, inposition = backtester.backtest(d_slice, short_entry, short_exit, direction )\n",
    "equity, stats = backtester.stats(pl, inposition)\n",
    "\n",
    "print(stats)\n",
    "equity.plot()    \n",
    "\n",
    "#performance has improved"
   ]
  },
  {
   "cell_type": "markdown",
   "metadata": {},
   "source": [
    "## Median trailing stop\n"
   ]
  },
  {
   "cell_type": "markdown",
   "metadata": {},
   "source": [
    "### Fixed values"
   ]
  },
  {
   "cell_type": "code",
   "execution_count": null,
   "metadata": {
    "collapsed": false
   },
   "outputs": [],
   "source": [
    "#We're going to optimize period of rolling windows, size of TS and compare system perfomance  results\n",
    "#Index of DF is optimizing parameter value\n",
    "\n",
    "results_a=[]\n",
    "results_index_a=[]\n",
    "results_stop_size_a=[]\n",
    "\n",
    "for p in range(5,200,5):\n",
    "    optimizing_period=p\n",
    "    median_trailstop=d_slice.exo.rolling(p).median().shift(1)\n",
    "    \n",
    "    for s in range(0,100,5):\n",
    "        stop_size=s\n",
    "        \n",
    "        short_entry = CrossDown(fast_ma, slow_ma)\n",
    "        short_exit = (CrossUp(fast_ma, slow_ma)) | (CrossUp(d_slice.exo,median_trailstop+stop_size))\n",
    "\n",
    "        direction = -1\n",
    "        pl, inposition = backtester.backtest(d_slice, short_entry, short_exit, direction )\n",
    "        equity, stats = backtester.stats(pl, inposition)\n",
    "\n",
    "        results_a.append(stats)\n",
    "        results_index_a.append(p)\n",
    "        results_stop_size_a.append(stop_size)"
   ]
  },
  {
   "cell_type": "code",
   "execution_count": null,
   "metadata": {
    "collapsed": false
   },
   "outputs": [],
   "source": [
    "median_results_df=pd.DataFrame(results_a,index=[results_index_a,results_stop_size_a])"
   ]
  },
  {
   "cell_type": "code",
   "execution_count": null,
   "metadata": {
    "collapsed": false
   },
   "outputs": [],
   "source": [
    "median_results_df.sort(['netprofit'],ascending=False)"
   ]
  },
  {
   "cell_type": "code",
   "execution_count": null,
   "metadata": {
    "collapsed": false
   },
   "outputs": [],
   "source": [
    "optimizing_period=5\n",
    "median_trailstop=d_slice.exo.rolling(optimizing_period).median().shift(1)\n",
    "\n",
    "stop_size=5\n",
    "\n",
    "short_entry = CrossDown(fast_ma, slow_ma)\n",
    "short_exit = (CrossUp(fast_ma, slow_ma)) | (CrossUp(d_slice.exo,median_trailstop+stop_size))\n",
    "\n",
    "direction = -1\n",
    "pl, inposition = backtester.backtest(d_slice, short_entry, short_exit, direction )\n",
    "equity, stats = backtester.stats(pl, inposition)\n",
    "\n",
    "print(stats)\n",
    "equity.plot()    \n",
    "\n",
    "#Better than rolling max"
   ]
  },
  {
   "cell_type": "markdown",
   "metadata": {},
   "source": [
    "## Dynamic vola adjusted value "
   ]
  },
  {
   "cell_type": "code",
   "execution_count": null,
   "metadata": {
    "collapsed": false
   },
   "outputs": [],
   "source": [
    "#We're going to optimize period of rolling windows, size of TS and compare system perfomance  results\n",
    "#Index of DF is optimizing parameter value\n",
    "\n",
    "results_a=[]\n",
    "results_index_a=[]\n",
    "results_stop_size_a=[]\n",
    "results_vola_multiplier_a=[]\n",
    "\n",
    "vola=d_slice.exo.shift(1)-d_slice.exo.shift(2)\n",
    "volatility_metric=abs(vola.rolling(5).median())\n",
    "\n",
    "\n",
    "for p in range(5,200,5):\n",
    "    optimizing_period=p\n",
    "    median_trailstop=d_slice.exo.rolling(p).median().shift(1)\n",
    "    \n",
    "    for s in range(0,100,5):\n",
    "        stop_size=s\n",
    "        \n",
    "        for v in np.arange(0,2,0.1):\n",
    "            vola_multiplier=v \n",
    "            short_entry = CrossDown(fast_ma, slow_ma)\n",
    "            short_exit = (CrossUp(fast_ma, slow_ma)) | (CrossUp(d_slice.exo,median_trailstop+(stop_size*(volatility_metric*v))))\n",
    "\n",
    "            direction = -1\n",
    "            pl, inposition = backtester.backtest(d_slice, short_entry, short_exit, direction )\n",
    "            equity, stats = backtester.stats(pl, inposition)\n",
    "\n",
    "            results_a.append(stats)\n",
    "            results_index_a.append(p)\n",
    "            results_stop_size_a.append(stop_size)\n",
    "            results_vola_multiplier_a.append(vola_multiplier)"
   ]
  },
  {
   "cell_type": "code",
   "execution_count": null,
   "metadata": {
    "collapsed": false,
    "scrolled": false
   },
   "outputs": [],
   "source": [
    "median_dynamicsize_results_df=pd.DataFrame(results_a,index=[results_index_a,results_stop_size_a,results_vola_multiplier_a])\n",
    "median_dynamicsize_results_df.sort(['netprofit'],ascending=False)"
   ]
  },
  {
   "cell_type": "code",
   "execution_count": null,
   "metadata": {
    "collapsed": false
   },
   "outputs": [],
   "source": [
    "optimizing_period=5\n",
    "median_trailstop=d_slice.exo.rolling(optimizing_period).median().shift(1)\n",
    "\n",
    "vola=d_slice.exo.shift(1)-d_slice.exo.shift(2)\n",
    "volatility_metric=abs(vola.rolling(5).median())\n",
    "\n",
    "vola_multiplier=0.2\n",
    "\n",
    "stop_size=10\n",
    "\n",
    "median_trailstop_dynamic=median_trailstop+(stop_size*(volatility_metric*vola_multiplier))\n",
    "\n",
    "short_entry = CrossDown(fast_ma, slow_ma)\n",
    "short_exit = (CrossUp(fast_ma, slow_ma)) | (CrossUp(d_slice.exo,median_trailstop_dynamic))\n",
    "\n",
    "direction = -1\n",
    "pl, inposition = backtester.backtest(d_slice, short_entry, short_exit, direction )\n",
    "equity, stats = backtester.stats(pl, inposition)\n",
    "\n",
    "print(stats)\n",
    "equity.plot()    \n",
    "\n"
   ]
  },
  {
   "cell_type": "code",
   "execution_count": null,
   "metadata": {
    "collapsed": false
   },
   "outputs": [],
   "source": []
  }
 ],
 "metadata": {
  "kernelspec": {
   "display_name": "Python 3",
   "language": "python",
   "name": "python3"
  },
  "language_info": {
   "codemirror_mode": {
    "name": "ipython",
    "version": 3
   },
   "file_extension": ".py",
   "mimetype": "text/x-python",
   "name": "python",
   "nbconvert_exporter": "python",
   "pygments_lexer": "ipython3",
   "version": "3.5.1"
  }
 },
 "nbformat": 4,
 "nbformat_minor": 0
}
