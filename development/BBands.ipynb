{
 "cells": [
  {
   "cell_type": "code",
   "execution_count": null,
   "metadata": {
    "collapsed": false
   },
   "outputs": [],
   "source": [
    "import pandas as pd\n",
    "import numpy as np\n",
    "import scipy\n",
    "\n",
    "from pandas_datareader import data, wb\n",
    "\n",
    "import sys\n",
    "sys.path.append('../..')\n",
    "from backtester import matlab, backtester\n",
    "from backtester.analysis import *\n",
    "from pandas.tseries.offsets import *"
   ]
  },
  {
   "cell_type": "code",
   "execution_count": null,
   "metadata": {
    "collapsed": false
   },
   "outputs": [],
   "source": [
    "%pylab inline\n",
    "%load_ext autoreload\n",
    "%autoreload 2"
   ]
  },
  {
   "cell_type": "code",
   "execution_count": null,
   "metadata": {
    "collapsed": false
   },
   "outputs": [],
   "source": [
    "strategyname = 'strategy_310319'\n",
    "d, info = matlab.loaddata('../../mat/'+strategyname+'.mat')\n",
    "\n",
    "df = pd.DataFrame()\n",
    "df['close'] = d.exo\n",
    "#df['vol'] = d.volume"
   ]
  },
  {
   "cell_type": "code",
   "execution_count": null,
   "metadata": {
    "collapsed": false
   },
   "outputs": [],
   "source": [
    "bb_period = 20\n",
    "bb_k = 2\n",
    "df['bb_central_line'] = df.close.rolling(bb_period).mean()\n",
    "df['bb_upperband'] = df.bb_central_line + (bb_k * df.bb_central_line.rolling(bb_period).std())\n",
    "df['bb_lowerband'] = df.bb_central_line - (bb_k * df.bb_central_line.rolling(bb_period).std())\n",
    "\n",
    "#df['bb_%b'] = (df.close - df['bb_lowerband']) / (df['bb_upperband'] - df['bb_lowerband'])\n",
    "#df['bb_width'] = (df['bb_upperband'] - df['bb_lowerband'])"
   ]
  },
  {
   "cell_type": "code",
   "execution_count": null,
   "metadata": {
    "collapsed": false
   },
   "outputs": [],
   "source": [
    "for i in range(10,100,10):\n",
    "    \n",
    "    for k in range(10):\n",
    "\n",
    "        bb_period = i\n",
    "        bb_k = k\n",
    "        df['bb_central_line'+str(i)+'_'+str(k)] = df.close.rolling(bb_period).mean()\n",
    "        df['bb_upperband'+str(i)+'_'+str(k)] = df['bb_central_line'+str(i)+'_'+str(k)] + (bb_k * df['bb_central_line'+str(i)+'_'+str(k)].rolling(bb_period).std())\n",
    "        df['bb_lowerband'+str(i)+'_'+str(k)] = df['bb_central_line'+str(i)+'_'+str(k)] - (bb_k * df['bb_central_line'+str(i)+'_'+str(k)].rolling(bb_period).std())\n",
    "\n",
    "        #df['bb_%b'] = (df.close - df['bb_lowerband']) / (df['bb_upperband'] - df['bb_lowerband'])\n",
    "        df['bb_width'+str(i)+'_'+str(k)] = (df['bb_upperband'+str(i)+'_'+str(k)] - df['bb_lowerband'+str(i)+'_'+str(k)])"
   ]
  },
  {
   "cell_type": "code",
   "execution_count": null,
   "metadata": {
    "collapsed": false
   },
   "outputs": [],
   "source": [
    "for i in range(10,100,10):\n",
    "\n",
    "    bb_period = i\n",
    "    bb_k = 2\n",
    "    df['bb_central_line'+str(i)] = df.close.rolling(bb_period).mean()\n",
    "    df['bb_upperband'+str(i)] = df['bb_central_line'+str(i)] + (bb_k * df['bb_central_line'+str(i)].rolling(bb_period).std())\n",
    "    df['bb_lowerband'+str(i)] = df['bb_central_line'+str(i)] - (bb_k * df['bb_central_line'+str(i)].rolling(bb_period).std())\n",
    "\n",
    "    df['bb_%b'] = (df.close - df['bb_lowerband']) / (df['bb_upperband'] - df['bb_lowerband'])\n",
    "    df['bb_width'+str(i)] = (df['bb_upperband'+str(i)] - df['bb_lowerband'+str(i)])"
   ]
  },
  {
   "cell_type": "code",
   "execution_count": null,
   "metadata": {
    "collapsed": false,
    "scrolled": false
   },
   "outputs": [],
   "source": [
    "df.filter(like='upper').mean(axis=1).plot()\n",
    "df.filter(like='lowe').mean(axis=1).plot()\n",
    "df.close.plot()"
   ]
  },
  {
   "cell_type": "code",
   "execution_count": null,
   "metadata": {
    "collapsed": false
   },
   "outputs": [],
   "source": [
    "df.filter(like='width').mean(axis=1).plot()\n",
    "df.close.plot(secondary_y=True)"
   ]
  },
  {
   "cell_type": "code",
   "execution_count": null,
   "metadata": {
    "collapsed": false
   },
   "outputs": [],
   "source": [
    "figsize(20,10)\n",
    "df.bb_lowerband.ix['2014':'2015'].plot()\n",
    "df.bb_upperband.ix['2014':'2015'].plot()\n",
    "df.close.ix['2014':'2015'].plot()\n",
    "df.bb_central_line.ix['2014':'2015'].plot()\n"
   ]
  },
  {
   "cell_type": "code",
   "execution_count": null,
   "metadata": {
    "collapsed": false
   },
   "outputs": [],
   "source": [
    "\n",
    "df.close.ix['2014':'2015'].plot(secondary_y=True)\n",
    "(df.bb_lowerband -  df.close).ix['2014':'2015'].plot()\n",
    "\n",
    "(df.bb_lowerband -  df.close).rolling(10).median().ix['2014':'2015'].plot()"
   ]
  },
  {
   "cell_type": "code",
   "execution_count": null,
   "metadata": {
    "collapsed": false
   },
   "outputs": [],
   "source": [
    "df.close.ix['2014':'2015'].plot(secondary_y=True)\n",
    "\n",
    "#(df.close - df.bb_upperband).ix['2014':'2015'].plot()\n",
    "\n",
    "#(df.close - df.bb_upperband).rolling(10).median().ix['2014':'2015'].plot()\n",
    "\n",
    "((((df.close - df.bb_upperband).rolling(10).median()) <= (df.close - df.bb_upperband))+1).ix['2014':'2015'].plot()"
   ]
  },
  {
   "cell_type": "code",
   "execution_count": null,
   "metadata": {
    "collapsed": false
   },
   "outputs": [],
   "source": [
    "df.close.ix['2014':'2015'].plot(secondary_y=True)\n",
    "\n",
    "#(df.close - df.bb_upperband).ix['2014':'2015'].plot()\n",
    "\n",
    "#(df.close - df.bb_upperband).rolling(10).median().ix['2014':'2015'].plot()\n",
    "\n",
    "(down_trend+1).ix['2014':'2015'].plot()"
   ]
  },
  {
   "cell_type": "code",
   "execution_count": null,
   "metadata": {
    "collapsed": false
   },
   "outputs": [],
   "source": [
    "(df.bb_upperband -  df.close).ix['2014':'2015'].plot()\n",
    "\n",
    "(df.bb_upperband -  df.close).rolling(10).median().ix['2014':'2015'].plot()"
   ]
  },
  {
   "cell_type": "code",
   "execution_count": null,
   "metadata": {
    "collapsed": false
   },
   "outputs": [],
   "source": [
    "df.bb_lowerband.plot()\n",
    "df.bb_upperband.plot()\n",
    "df.close.plot()\n",
    "df.bb_central_line.plot()\n",
    "\n",
    "#df['bb_%b'].rank(pct=True).plot(secondary_y=True)"
   ]
  },
  {
   "cell_type": "code",
   "execution_count": null,
   "metadata": {
    "collapsed": false
   },
   "outputs": [],
   "source": [
    "df['bb_%b'].rank(pct=True).plot()\n",
    "axhline(y=0.1)"
   ]
  },
  {
   "cell_type": "code",
   "execution_count": null,
   "metadata": {
    "collapsed": false
   },
   "outputs": [],
   "source": [
    "df.bb_width.rank(pct=True).plot()\n",
    "axhline(y=0.1)"
   ]
  },
  {
   "cell_type": "markdown",
   "metadata": {
    "collapsed": false
   },
   "source": [
    "# Patterns"
   ]
  },
  {
   "cell_type": "code",
   "execution_count": null,
   "metadata": {
    "collapsed": false
   },
   "outputs": [],
   "source": [
    "up_trend = (((df.close - df.bb_upperband).rolling(10).median()) <= (df.close - df.bb_upperband))\n",
    "\n",
    "down_trend = (df.bb_lowerband -  df.close).rolling(10).median()  <= (df.bb_lowerband -  df.close)"
   ]
  },
  {
   "cell_type": "code",
   "execution_count": null,
   "metadata": {
    "collapsed": false
   },
   "outputs": [],
   "source": [
    "bb_width_pctrank_less_20 = df.bb_width.rank(pct=True) <= 0.2\n",
    "bb_width_pctrank_less_10 = df.bb_width.rank(pct=True) <= 0.1\n",
    "\n",
    "bb_width_pctrank_more_80 = df.bb_width.rank(pct=True) >= 0.8\n",
    "bb_width_pctrank_more_90 = df.bb_width.rank(pct=True) <= 0.9\n",
    "\n",
    "bb_width_pctrank_more_50 = df.bb_width.rank(pct=True) >= 0.5\n",
    "bb_width_pctrank_less_50 = df.bb_width.rank(pct=True) <= 0.5"
   ]
  },
  {
   "cell_type": "code",
   "execution_count": null,
   "metadata": {
    "collapsed": false
   },
   "outputs": [],
   "source": [
    "bb_pctb_pctrank_less_20 = df['bb_%b'].rank(pct=True) <= 0.2\n",
    "bb_pctb_pctrank_less_10 = df['bb_%b'].rank(pct=True) <= 0.1\n",
    "\n",
    "bb_pctb_pctrank_more_80 = df['bb_%b'].rank(pct=True) >= 0.8\n",
    "bb_pctb_pctrank_more_90 = df['bb_%b'].rank(pct=True) <= 0.9\n",
    "\n",
    "bb_pctb_pctrank_more_50 = df['bb_%b'].rank(pct=True) >= 0.5\n",
    "bb_pctb_pctrank_less_50 = df['bb_%b'].rank(pct=True) <= 0.5"
   ]
  }
 ],
 "metadata": {
  "kernelspec": {
   "display_name": "Python 3",
   "language": "python",
   "name": "python3"
  },
  "language_info": {
   "codemirror_mode": {
    "name": "ipython",
    "version": 3
   },
   "file_extension": ".py",
   "mimetype": "text/x-python",
   "name": "python",
   "nbconvert_exporter": "python",
   "pygments_lexer": "ipython3",
   "version": "3.5.1"
  }
 },
 "nbformat": 4,
 "nbformat_minor": 0
}
