{
 "cells": [
  {
   "cell_type": "code",
   "execution_count": null,
   "metadata": {
    "collapsed": false
   },
   "outputs": [],
   "source": [
    "import sys,os\n",
    "sys.path.append('../..')\n",
    "from backtester import matlab, backtester\n",
    "from backtester.analysis import *\n",
    "import pandas as pd\n",
    "import numpy as np\n",
    "import scipy\n",
    "\n",
    "%pylab inline\n",
    "%load_ext autoreload\n",
    "%autoreload 2"
   ]
  },
  {
   "cell_type": "code",
   "execution_count": null,
   "metadata": {
    "collapsed": false
   },
   "outputs": [],
   "source": [
    "strategyname = 'strategy_270225'\n",
    "d, info = matlab.loaddata('../../mat/'+strategyname+'.mat')\n"
   ]
  },
  {
   "cell_type": "code",
   "execution_count": null,
   "metadata": {
    "collapsed": false
   },
   "outputs": [],
   "source": [
    "figsize(10,5)\n",
    "d_slice=d.ix['2010':]\n",
    "d_slice.plot()"
   ]
  },
  {
   "cell_type": "markdown",
   "metadata": {},
   "source": [
    "## Initial strategy"
   ]
  },
  {
   "cell_type": "code",
   "execution_count": null,
   "metadata": {
    "collapsed": false
   },
   "outputs": [],
   "source": [
    "#Defining entry\\exit rules\n",
    "slow_ma = d_slice.exo.rolling(5).mean()#try period == 5\n",
    "fast_ma = d_slice.exo.rolling(6).mean()#try period == 6\n",
    "\n",
    "short_entry = CrossDown(fast_ma, slow_ma)\n",
    "short_exit = (CrossUp(fast_ma, slow_ma)) \n",
    "\n",
    "direction = -1\n",
    "pl, inposition = backtester.backtest(d_slice, short_entry, short_exit, direction )\n",
    "equity, stats = backtester.stats(pl, inposition)\n",
    "\n",
    "#X axis, initial equity curve\n",
    "#Colored blue\n",
    "x=equity\n",
    "x.plot()"
   ]
  },
  {
   "cell_type": "markdown",
   "metadata": {},
   "source": [
    "## Money management research"
   ]
  },
  {
   "cell_type": "markdown",
   "metadata": {},
   "source": [
    "## Volatility"
   ]
  },
  {
   "cell_type": "markdown",
   "metadata": {},
   "source": [
    "#### Median\n",
    "#### Fixed position size"
   ]
  },
  {
   "cell_type": "code",
   "execution_count": null,
   "metadata": {
    "collapsed": false,
    "scrolled": false
   },
   "outputs": [],
   "source": [
    "vola = d_slice.exo.shift(1) - d_slice.exo.shift(2)\n",
    "volatility_metric = abs(vola.rolling(10).median())\n",
    "\n",
    "values_a = []\n",
    "index_a = []\n",
    "\n",
    "for i in range(1, len(equity)):\n",
    "    #\n",
    "    # on opening of new position, we calculate position size\n",
    "    #\n",
    "    if inposition[i] == 1 and inposition[i - 1] == 0:\n",
    "        current_position_size = volatility_metric[i]\n",
    "\n",
    "    elif inposition[i] == 1 and inposition[i - 1] == 1:\n",
    "        current_position_size = current_position_size\n",
    "\n",
    "    else:\n",
    "        current_position_size = 0\n",
    "    values_a.append(current_position_size)\n",
    "    index_a.append(equity.index[i])\n",
    "\n",
    "possize_vola_median = pd.Series(values_a, index=[index_a])\n",
    "possize_vola_median.plot()"
   ]
  },
  {
   "cell_type": "markdown",
   "metadata": {},
   "source": [
    "#### Comparing equities"
   ]
  },
  {
   "cell_type": "code",
   "execution_count": null,
   "metadata": {
    "collapsed": false
   },
   "outputs": [],
   "source": [
    "#X axis is initial equity curve\n",
    "#Colored blue\n",
    "x=equity\n",
    "x.plot()\n",
    "\n",
    "#Y axis is equity curve with position management\n",
    "#Colored green\n",
    "y=pl*possize_vola_median\n",
    "y.dropna().cumsum().plot(secondary_y=True)"
   ]
  },
  {
   "cell_type": "markdown",
   "metadata": {},
   "source": [
    "#### Median\n",
    "#### Dynamic position size"
   ]
  },
  {
   "cell_type": "code",
   "execution_count": null,
   "metadata": {
    "collapsed": false
   },
   "outputs": [],
   "source": [
    "vola = d_slice.exo.shift(1) - d_slice.exo.shift(2)\n",
    "volatility_metric = abs(vola.rolling(10).median())\n",
    "\n",
    "values_a = []\n",
    "index_a = []\n",
    "\n",
    "# Set days in positions here, this value can be optimized\n",
    "days_in_position = 5\n",
    "\n",
    "for i in range(1, len(equity)):\n",
    "    #\n",
    "    # on opening of new position, we calculate position size\n",
    "    #\n",
    "    if inposition[i] == 1 and inposition[i - 1] == 0:\n",
    "        current_position_size = volatility_metric[i]\n",
    "        \n",
    "    elif inposition[i] == 1 and inposition[i - days_in_position] == 1:\n",
    "        current_position_size = volatility_metric[i]\n",
    "        \n",
    "    else:\n",
    "        current_position_size = 0\n",
    "        \n",
    "    values_a.append(current_position_size)\n",
    "    index_a.append(equity.index[i])\n",
    "\n",
    "possize_dynamic_vola_median = pd.Series(values_a, index=[index_a])\n",
    "possize_dynamic_vola_median.plot()"
   ]
  },
  {
   "cell_type": "markdown",
   "metadata": {},
   "source": [
    "#### Comparing equities"
   ]
  },
  {
   "cell_type": "code",
   "execution_count": null,
   "metadata": {
    "collapsed": false
   },
   "outputs": [],
   "source": [
    "#X axis is initial equity curve\n",
    "#Colored blue\n",
    "x=equity\n",
    "x.plot()\n",
    "\n",
    "#Y axis is equity curve with position management\n",
    "#Colored green\n",
    "y=pl*possize_dynamic_vola_median\n",
    "y.dropna().cumsum().plot(secondary_y=True)"
   ]
  },
  {
   "cell_type": "markdown",
   "metadata": {},
   "source": [
    "#### ATR\n",
    "#### Fixed position size"
   ]
  },
  {
   "cell_type": "code",
   "execution_count": null,
   "metadata": {
    "collapsed": false
   },
   "outputs": [],
   "source": [
    "vola = d_slice.exo.shift(1) - d_slice.exo.shift(2)\n",
    "volatility_metric = ATR(d_slice.exo,d_slice.exo,d_slice.exo,10)\n",
    "\n",
    "values_a = []\n",
    "index_a = []\n",
    "\n",
    "for i in range(1, len(equity)):\n",
    "    #\n",
    "    # on opening of new position, we calculate position size\n",
    "    #\n",
    "    if inposition[i] == 1 and inposition[i - 1] == 0:\n",
    "        current_position_size = volatility_metric[i]\n",
    "\n",
    "    elif inposition[i] == 1 and inposition[i - 1] == 1:\n",
    "        current_position_size = current_position_size\n",
    "\n",
    "    else:\n",
    "        current_position_size = 0\n",
    "    values_a.append(current_position_size)\n",
    "    index_a.append(equity.index[i])\n",
    "\n",
    "possize_vola_atr = pd.Series(values_a, index=[index_a])\n",
    "possize_vola_atr.plot()"
   ]
  },
  {
   "cell_type": "markdown",
   "metadata": {},
   "source": [
    "### Comparing equities"
   ]
  },
  {
   "cell_type": "code",
   "execution_count": null,
   "metadata": {
    "collapsed": false
   },
   "outputs": [],
   "source": [
    "#X axis is initial equity curve\n",
    "#Colored blue\n",
    "x=equity\n",
    "x.plot()\n",
    "\n",
    "#Y axis is equity curve with position management\n",
    "#Colored green\n",
    "y=pl*possize_vola_atr\n",
    "y.dropna().cumsum().plot(secondary_y=True)"
   ]
  },
  {
   "cell_type": "markdown",
   "metadata": {},
   "source": [
    "#### ATR\n",
    "#### Dynamic position size"
   ]
  },
  {
   "cell_type": "code",
   "execution_count": null,
   "metadata": {
    "collapsed": false
   },
   "outputs": [],
   "source": [
    "\n",
    "vola = d_slice.exo.shift(1) - d_slice.exo.shift(2)\n",
    "volatility_metric = ATR(d_slice.exo,d_slice.exo,d_slice.exo,10)\n",
    "\n",
    "values_a = []\n",
    "index_a = []\n",
    "\n",
    "# Set days in positions here, this value can be optimized\n",
    "days_in_position = 5\n",
    "\n",
    "for i in range(1, len(equity)):\n",
    "    #\n",
    "    # on opening of new position, we calculate position size\n",
    "    #\n",
    "    if inposition[i] == 1 and inposition[i - 1] == 0:\n",
    "        current_position_size = volatility_metric[i]\n",
    "        \n",
    "    elif inposition[i] == 1 and inposition[i - days_in_position] == 1:\n",
    "        current_position_size = volatility_metric[i]\n",
    "        \n",
    "    else:\n",
    "        current_position_size = 0\n",
    "        \n",
    "    values_a.append(current_position_size)\n",
    "    index_a.append(equity.index[i])\n",
    "\n",
    "possize_dynamic_vola_atr = pd.Series(values_a, index=[index_a])\n",
    "possize_dynamic_vola_atr.plot()"
   ]
  },
  {
   "cell_type": "markdown",
   "metadata": {},
   "source": [
    "#### Comparing equities"
   ]
  },
  {
   "cell_type": "code",
   "execution_count": null,
   "metadata": {
    "collapsed": false
   },
   "outputs": [],
   "source": [
    "#X axis is initial equity curve\n",
    "#Colored blue\n",
    "x=equity\n",
    "x.plot()\n",
    "\n",
    "#Y axis is equity curve with position management\n",
    "#Colored green\n",
    "y=pl*possize_dynamic_vola_atr\n",
    "y.dropna().cumsum().plot(secondary_y=True)"
   ]
  },
  {
   "cell_type": "markdown",
   "metadata": {},
   "source": [
    "## Equity based"
   ]
  },
  {
   "cell_type": "code",
   "execution_count": null,
   "metadata": {
    "collapsed": false,
    "scrolled": false
   },
   "outputs": [],
   "source": [
    "# Contracts per n$\n",
    "\n",
    "values_a = []\n",
    "index_a = []\n",
    "\n",
    "pnl = pl\n",
    "\n",
    "first_index = pnl.index[0]\n",
    "initial_deposit = pd.Series(1000, index=[first_index + pd.DateOffset(days=-1)])\n",
    "\n",
    "pnl = pnl.append(initial_deposit)\n",
    "pnl = pnl.sort_index()\n",
    "\n",
    "_equity = pnl.cumsum()\n",
    "\n",
    "for i in range(0, len(_equity)):\n",
    "    #\n",
    "    # on opening of new position, we calculate position size\n",
    "    #\n",
    "    current_position_size = round(_equity[i] / 100)\n",
    "\n",
    "    values_a.append(current_position_size)\n",
    "    index_a.append(_equity.index[i])\n",
    "\n",
    "possize_equity = pd.Series(values_a, index=[index_a])\n",
    "possize_equity.plot()\n"
   ]
  },
  {
   "cell_type": "markdown",
   "metadata": {},
   "source": [
    "#### Comparing equities"
   ]
  },
  {
   "cell_type": "code",
   "execution_count": null,
   "metadata": {
    "collapsed": false
   },
   "outputs": [],
   "source": [
    "#X axis is initial equity curve\n",
    "#Colored blue\n",
    "x=equity\n",
    "x.plot()\n",
    "\n",
    "#Y axis is equity curve with position management\n",
    "#Colored green\n",
    "y=pl*possize_equity\n",
    "y.dropna().cumsum().plot(secondary_y=True)"
   ]
  },
  {
   "cell_type": "markdown",
   "metadata": {},
   "source": [
    "## Percent risk "
   ]
  },
  {
   "cell_type": "markdown",
   "metadata": {},
   "source": [
    "#### We need to determine stop-loss level to calculate position size. It may be trailing stop or Fixed value or?"
   ]
  },
  {
   "cell_type": "markdown",
   "metadata": {},
   "source": [
    "## System risk weighting"
   ]
  },
  {
   "cell_type": "markdown",
   "metadata": {},
   "source": []
  },
  {
   "cell_type": "code",
   "execution_count": null,
   "metadata": {
    "collapsed": false
   },
   "outputs": [],
   "source": [
    "#\n",
    "# 1. Set deposit size\n",
    "#\n",
    "first_index = pnl.index[0]\n",
    "initial_deposit = pd.Series(100000, index=[first_index + pd.DateOffset(days=-1)])\n",
    "#\n",
    "# 2. Set system PnL\n",
    "#\n",
    "system_pnl = pl*possize_vola_median\n",
    "#\n",
    "# 3. Set risk value in percents\n",
    "#\n",
    "risk_value = 3  # Percent\n",
    "#\n",
    "# 4. Adding initial deposit \n",
    "#\n",
    "pnl = system_pnl\n",
    "pnl = pnl.append(initial_deposit)\n",
    "pnl = pnl.sort_index()\n",
    "\n",
    "_equity = pnl.cumsum()\n",
    "#\n",
    "# 5. Calculating absolute and relative Drawdown\n",
    "#\n",
    "dd = (_equity - _equity.expanding().max())\n",
    "dd_percent = ((_equity - _equity.expanding().max()) / _equity.expanding().max()) * 100\n",
    "\n",
    "_equity.plot()\n",
    "dd_percent.plot(secondary_y=True)\n",
    "#\n",
    "# 6. Getting value of max DD in percents.\n",
    "#\n",
    "min_dd_percent = dd_percent.min() # !!! Looks into future, it is ok for raw exploration\n",
    "#\n",
    "# 7. Getting system weight multiplier. \n",
    "#\n",
    "system_portfolio_weight = abs(risk_value / min_dd_percent)\n",
    "\n",
    "print('max DD', dd_percent.min())"
   ]
  },
  {
   "cell_type": "code",
   "execution_count": null,
   "metadata": {
    "collapsed": false
   },
   "outputs": [],
   "source": [
    "#\n",
    "# 8. Multiply vola adjusted PnL on system weight. \n",
    "#    And after all we get adequate position size for this system which traded on 100k usd depo\n",
    "#    But weight is fixed.\n",
    "#\n",
    "system_pnl = (pl*possize_vola_median) * system_portfolio_weight\n",
    "\n",
    "pnl = system_pnl\n",
    "pnl = pnl.append(initial_deposit)\n",
    "pnl = pnl.sort_index()\n",
    "\n",
    "_equity = pnl.cumsum()\n",
    "\n",
    "dd = (_equity - _equity.expanding().max())\n",
    "dd_percent = ((_equity - _equity.expanding().max()) / _equity.expanding().max()) * 100\n",
    "\n",
    "_equity.plot()\n",
    "dd_percent.plot(secondary_y=True)\n",
    "\n",
    "print('system weight', system_portfolio_size)\n",
    "print('max DD', dd_percent.min())"
   ]
  },
  {
   "cell_type": "code",
   "execution_count": null,
   "metadata": {
    "collapsed": false
   },
   "outputs": [],
   "source": [
    "initial_deposit[0]"
   ]
  },
  {
   "cell_type": "code",
   "execution_count": null,
   "metadata": {
    "collapsed": false
   },
   "outputs": [],
   "source": [
    "pnl = -pl\n",
    "\n",
    "#first_index = pnl.index[0]\n",
    "#initial_deposit = pd.Series(1000, index=[first_index + pd.DateOffset(days=-1)])\n",
    "\n",
    "#pnl = pnl.append(initial_deposit)\n",
    "#pnl = pnl.sort_index()\n",
    "\n",
    "_equity = pnl.cumsum()+100\n",
    "_equity"
   ]
  },
  {
   "cell_type": "code",
   "execution_count": null,
   "metadata": {
    "collapsed": false
   },
   "outputs": [],
   "source": []
  }
 ],
 "metadata": {
  "kernelspec": {
   "display_name": "Python 3",
   "language": "python",
   "name": "python3"
  },
  "language_info": {
   "codemirror_mode": {
    "name": "ipython",
    "version": 3
   },
   "file_extension": ".py",
   "mimetype": "text/x-python",
   "name": "python",
   "nbconvert_exporter": "python",
   "pygments_lexer": "ipython3",
   "version": "3.5.1"
  }
 },
 "nbformat": 4,
 "nbformat_minor": 0
}
