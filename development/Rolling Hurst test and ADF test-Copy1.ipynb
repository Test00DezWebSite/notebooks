{
 "cells": [
  {
   "cell_type": "code",
   "execution_count": null,
   "metadata": {
    "collapsed": false
   },
   "outputs": [],
   "source": [
    "import sys\n",
    "sys.path.append('../..')\n",
    "from backtester import matlab, backtester\n",
    "from backtester.analysis import *\n",
    "import pandas as pd\n",
    "import numpy as np\n",
    "import glob, os\n",
    "\n",
    "import itertools\n",
    "\n",
    "import statsmodels.tsa.stattools as ts\n",
    "\n",
    "from backtester.exoinfo import EXOInfo\n",
    "from exobuilder.data.exostorage import EXOStorage\n",
    "from IPython.core.display import display, HTML\n",
    "\n",
    "import pandas as pd\n",
    "import numpy as np\n",
    "import scipy\n",
    "import pprint\n",
    "\n",
    "%pylab inline\n",
    "figsize(20,10)"
   ]
  },
  {
   "cell_type": "code",
   "execution_count": null,
   "metadata": {
    "collapsed": false
   },
   "outputs": [],
   "source": [
    "def hurst(ts):\n",
    "    \"\"\"Returns the Hurst Exponent of the time series vector ts\"\"\"\n",
    "    # Create the range of lag values\n",
    "    lags = range(2, 20)\n",
    "    # Calculate the array of the variances of the lagged differences\n",
    "    tau = [sqrt(std(subtract(ts[lag:], ts[:-lag]))) for lag in lags]\n",
    "    # Use a linear fit to estimate the Hurst Exponent\n",
    "    poly = polyfit(log(lags), log(tau), 1)\n",
    "    # Return the Hurst exponent from the polyfit output\n",
    "    return poly[0]*2.0"
   ]
  },
  {
   "cell_type": "code",
   "execution_count": null,
   "metadata": {
    "collapsed": false
   },
   "outputs": [],
   "source": [
    "# Only Cont Fut Flag\n",
    "only_cont_fut = False"
   ]
  },
  {
   "cell_type": "code",
   "execution_count": null,
   "metadata": {
    "collapsed": false
   },
   "outputs": [],
   "source": [
    "# Loading global setting for MongoDB etc.\n",
    "from scripts.settings import *\n",
    "\n",
    "try:\n",
    "    from scripts.settings_local import *\n",
    "except:\n",
    "    pass\n",
    "\n",
    "storage = EXOStorage(MONGO_CONNSTR, MONGO_EXO_DB)\n",
    "pp = pprint.PrettyPrinter(indent=4)\n",
    "\n",
    "exo_list = storage.exo_list()\n",
    "pp.pprint(exo_list)\n",
    "\n",
    "\n",
    "df = pd.DataFrame()\n",
    "\n",
    "for e in exo_list:\n",
    "    exo_series, exo_dict = storage.load_series(e)\n",
    "    if only_cont_fut == True:   \n",
    "        if 'Fut' in exo_dict['name']:   \n",
    "            exo_series = exo_series[exo_series.columns[0]]\n",
    "            df[exo_dict['name']] = exo_series\n",
    "            \n",
    "    if only_cont_fut == False:\n",
    "        exo_series = exo_series[exo_series.columns[0]]\n",
    "        df[exo_dict['name']] = exo_series\n",
    "#exo_series.plot()"
   ]
  },
  {
   "cell_type": "code",
   "execution_count": null,
   "metadata": {
    "collapsed": false
   },
   "outputs": [],
   "source": [
    "df.head()"
   ]
  },
  {
   "cell_type": "code",
   "execution_count": null,
   "metadata": {
    "collapsed": false
   },
   "outputs": [],
   "source": [
    "px_ser = df.ES_SMART_Ichimoku_Straddle_Bullish"
   ]
  },
  {
   "cell_type": "code",
   "execution_count": null,
   "metadata": {
    "collapsed": false
   },
   "outputs": [],
   "source": [
    "hurst_stats = pd.Series(0.0, index=px_ser.index)\n",
    "\n",
    "window_start = 0\n",
    "for i in range(0, px_ser.size, 30):\n",
    "    hurst_stats.iloc[window_start : i] = hurst(px_ser.iloc[window_start : i])\n",
    "    window_start = i"
   ]
  },
  {
   "cell_type": "code",
   "execution_count": null,
   "metadata": {
    "collapsed": false
   },
   "outputs": [],
   "source": [
    "px_ser.dropna().plot()\n",
    "hurst_stats.plot(secondary_y=True)"
   ]
  },
  {
   "cell_type": "code",
   "execution_count": null,
   "metadata": {
    "collapsed": false
   },
   "outputs": [],
   "source": [
    "#rolling_adfteststats = px_ser.dropna().rolling(50).apply(lambda x: ts.adfuller(x)[0])\n",
    "rolling_hurst = px_ser.dropna().rolling(40).apply(lambda x: hurst(x))"
   ]
  },
  {
   "cell_type": "code",
   "execution_count": null,
   "metadata": {
    "collapsed": false
   },
   "outputs": [],
   "source": [
    "px_ser.dropna().ix[:'2016'].plot()\n",
    "rolling_hurst.ix[:'2016'].plot(secondary_y=True)\n",
    "\n",
    "#rolling_adfteststats.ix[:'2015'].plot(secondary_y=True)\n",
    "#rstats.plot(secondary_y=True)\n",
    "axhline(rolling_hurst.mean())\n",
    "#axhline(-1)"
   ]
  },
  {
   "cell_type": "code",
   "execution_count": null,
   "metadata": {
    "collapsed": false
   },
   "outputs": [],
   "source": [
    "ts.adfuller(rolling_hurst.dropna())"
   ]
  },
  {
   "cell_type": "code",
   "execution_count": null,
   "metadata": {
    "collapsed": false
   },
   "outputs": [],
   "source": [
    "rolling_hurst.rank(pct=True).plot()"
   ]
  },
  {
   "cell_type": "code",
   "execution_count": null,
   "metadata": {
    "collapsed": false,
    "scrolled": false
   },
   "outputs": [],
   "source": [
    "rolling_hurst_pctrank = rolling_hurst.rank(pct=True)\n",
    "\n",
    "after_high_ser = pd.Series(0.0, index=px_ser.index, name='hurst after high pct rank value')\n",
    "after_low_ser = pd.Series(0.0, index=px_ser.index, name='hurst after low pct rank value')\n",
    "\n",
    "for i in range(px_ser.size):\n",
    "    if rolling_hurst_pctrank[i] <= 0.1:\n",
    "        #ser.ix[ser.index[i]: ser.index[i] + pd.DateOffset(10)] = px_ser.diff().ix[ser.index[i]: ser.index[i] + pd.DateOffset(10)]\n",
    "        \n",
    "        after_low_ser.ix[px_ser.index[i]: px_ser.index[i] + pd.DateOffset(10)] = px_ser.rolling(10).std().ix[px_ser.index[i]: \n",
    "                                                                                            px_ser.index[i] + pd.DateOffset(10)]\n",
    "    \n",
    "    \n",
    "    if rolling_hurst_pctrank[i] >= 0.9:\n",
    "        #ser.ix[ser.index[i]: ser.index[i] + pd.DateOffset(10)] = px_ser.diff().ix[ser.index[i]: ser.index[i] + pd.DateOffset(10)]\n",
    "        \n",
    "        after_high_ser.ix[px_ser.index[i]: px_ser.index[i] + pd.DateOffset(10)] = px_ser.rolling(10).std().ix[px_ser.index[i]: \n",
    "                                                                                            px_ser.index[i] + pd.DateOffset(10)]"
   ]
  },
  {
   "cell_type": "code",
   "execution_count": null,
   "metadata": {
    "collapsed": false,
    "scrolled": false
   },
   "outputs": [],
   "source": [
    "after_low_ser.dropna().plot()\n",
    "\n",
    "\n",
    "after_high_ser.dropna().plot()\n",
    "\n",
    "axhline(after_high_ser.dropna().mean())\n",
    "\n",
    "axhline(after_low_ser.dropna().mean())"
   ]
  },
  {
   "cell_type": "code",
   "execution_count": null,
   "metadata": {
    "collapsed": false,
    "scrolled": false
   },
   "outputs": [],
   "source": [
    "#px_ser.diff().dropna().plot.kde()\n",
    "\n",
    "px_ser.rolling(10).std().dropna().plot.kde()\n",
    "#after_low_ser.dropna().plot.kde()\n",
    "after_high_ser.dropna().plot.kde()"
   ]
  },
  {
   "cell_type": "code",
   "execution_count": null,
   "metadata": {
    "collapsed": false
   },
   "outputs": [],
   "source": [
    "px_ser.diff().dropna().plot.kde()\n",
    "\n",
    "px_ser.diff().dropna().ix['2015-12'].plot.kde()"
   ]
  },
  {
   "cell_type": "code",
   "execution_count": null,
   "metadata": {
    "collapsed": false
   },
   "outputs": [],
   "source": [
    "ser.cumsum().plot()"
   ]
  },
  {
   "cell_type": "code",
   "execution_count": null,
   "metadata": {
    "collapsed": false,
    "scrolled": false
   },
   "outputs": [],
   "source": [
    "rolling_hurst_pctrank.ix[ rolling_hurst_pctrank.index[80]:\n",
    "                         rolling_hurst_pctrank.index[80] + pd.DateOffset(10)]"
   ]
  },
  {
   "cell_type": "code",
   "execution_count": null,
   "metadata": {
    "collapsed": false
   },
   "outputs": [],
   "source": [
    " rolling_hurst_pctrank.index[8] + pd.DateOffset(10)"
   ]
  },
  {
   "cell_type": "code",
   "execution_count": null,
   "metadata": {
    "collapsed": false
   },
   "outputs": [],
   "source": []
  },
  {
   "cell_type": "code",
   "execution_count": null,
   "metadata": {
    "collapsed": false
   },
   "outputs": [],
   "source": []
  },
  {
   "cell_type": "code",
   "execution_count": null,
   "metadata": {
    "collapsed": false
   },
   "outputs": [],
   "source": []
  },
  {
   "cell_type": "code",
   "execution_count": null,
   "metadata": {
    "collapsed": false
   },
   "outputs": [],
   "source": []
  },
  {
   "cell_type": "code",
   "execution_count": null,
   "metadata": {
    "collapsed": false
   },
   "outputs": [],
   "source": []
  }
 ],
 "metadata": {
  "kernelspec": {
   "display_name": "Python 3",
   "language": "python",
   "name": "python3"
  },
  "language_info": {
   "codemirror_mode": {
    "name": "ipython",
    "version": 3
   },
   "file_extension": ".py",
   "mimetype": "text/x-python",
   "name": "python",
   "nbconvert_exporter": "python",
   "pygments_lexer": "ipython3",
   "version": "3.5.2"
  }
 },
 "nbformat": 4,
 "nbformat_minor": 0
}
