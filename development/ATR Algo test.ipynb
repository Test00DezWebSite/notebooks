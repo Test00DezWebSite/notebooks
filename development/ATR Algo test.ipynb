{
 "cells": [
  {
   "cell_type": "code",
   "execution_count": null,
   "metadata": {
    "collapsed": false
   },
   "outputs": [],
   "source": [
    "import sys\n",
    "sys.path.append('../..')\n",
    "from backtester import matlab, backtester\n",
    "import pandas as pd\n",
    "import numpy as np"
   ]
  },
  {
   "cell_type": "code",
   "execution_count": null,
   "metadata": {
    "collapsed": false
   },
   "outputs": [],
   "source": [
    "%matplotlib inline"
   ]
  },
  {
   "cell_type": "code",
   "execution_count": null,
   "metadata": {
    "collapsed": false
   },
   "outputs": [],
   "source": [
    "d, info = matlab.loaddata('../../mat/strategy_270225.mat')"
   ]
  },
  {
   "cell_type": "code",
   "execution_count": null,
   "metadata": {
    "collapsed": false
   },
   "outputs": [],
   "source": [
    "d.exo.plot();"
   ]
  },
  {
   "cell_type": "code",
   "execution_count": null,
   "metadata": {
    "collapsed": false
   },
   "outputs": [],
   "source": [
    "info"
   ]
  },
  {
   "cell_type": "markdown",
   "metadata": {},
   "source": [
    "## Wells Wilders ATR with original smothing"
   ]
  },
  {
   "cell_type": "code",
   "execution_count": null,
   "metadata": {
    "collapsed": false
   },
   "outputs": [],
   "source": [
    "O = L = H = C = d.exo\n",
    "period = 15\n",
    "\n",
    "\n",
    "\n",
    "bc = len(C);\n",
    "val = pd.Series(index=C.index)\n",
    "v = 0.0\n",
    "SumTR = 0.0\n",
    "avg = 0.0\n",
    "\n",
    "for i in range(bc):\n",
    "    if i == 0:\n",
    "        SumTR = H.values[i] - L.values[i]\n",
    "    else:\n",
    "        v = max(H.values[i] - L.values[i],\n",
    "                max(abs(H.values[i] - C.values[i - 1]), abs(L[i] - C[i - 1]))\n",
    "               )\n",
    "        if i <= period-1:\n",
    "            # Skipping points < period\n",
    "            SumTR += v\n",
    "            \n",
    "            # First point is simple average\n",
    "            if i == period-1:\n",
    "                avg = SumTR / period;\n",
    "        else:\n",
    "            # Wilders smoothing\n",
    "            avg = ((1.0 / period) * v + (1.0 - 1.0 / period) * avg);\n",
    "            val[i] = avg\n"
   ]
  },
  {
   "cell_type": "code",
   "execution_count": null,
   "metadata": {
    "collapsed": false
   },
   "outputs": [],
   "source": [
    "val.plot()"
   ]
  },
  {
   "cell_type": "code",
   "execution_count": null,
   "metadata": {
    "collapsed": false
   },
   "outputs": [],
   "source": []
  }
 ],
 "metadata": {
  "kernelspec": {
   "display_name": "Python 3",
   "language": "python",
   "name": "python3"
  },
  "language_info": {
   "codemirror_mode": {
    "name": "ipython",
    "version": 3
   },
   "file_extension": ".py",
   "mimetype": "text/x-python",
   "name": "python",
   "nbconvert_exporter": "python",
   "pygments_lexer": "ipython3",
   "version": "3.5.1"
  }
 },
 "nbformat": 4,
 "nbformat_minor": 0
}
