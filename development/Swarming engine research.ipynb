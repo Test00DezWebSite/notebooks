{
 "cells": [
  {
   "cell_type": "code",
   "execution_count": null,
   "metadata": {
    "collapsed": false
   },
   "outputs": [],
   "source": [
    "import sys\n",
    "sys.path.append('../..')\n",
    "from backtester import matlab, backtester\n",
    "from backtester.analysis import *\n",
    "import pandas as pd\n",
    "import numpy as np"
   ]
  },
  {
   "cell_type": "code",
   "execution_count": null,
   "metadata": {
    "collapsed": false
   },
   "outputs": [],
   "source": [
    "%pylab inline\n",
    "%load_ext autoreload\n",
    "%autoreload 2"
   ]
  },
  {
   "cell_type": "code",
   "execution_count": null,
   "metadata": {
    "collapsed": false
   },
   "outputs": [],
   "source": [
    "d, info = matlab.loaddata('../../mat/strategy_270225.mat')"
   ]
  },
  {
   "cell_type": "code",
   "execution_count": null,
   "metadata": {
    "collapsed": false
   },
   "outputs": [],
   "source": [
    "d.exo.plot();"
   ]
  },
  {
   "cell_type": "code",
   "execution_count": null,
   "metadata": {
    "collapsed": false
   },
   "outputs": [],
   "source": [
    "info"
   ]
  },
  {
   "cell_type": "markdown",
   "metadata": {},
   "source": [
    "# Naive swarming\n"
   ]
  },
  {
   "cell_type": "code",
   "execution_count": null,
   "metadata": {
    "collapsed": false
   },
   "outputs": [],
   "source": [
    "def naive_swarm():\n",
    "    for slowp in np.arange(40, 100, 5):\n",
    "            for fastp in np.arange(5, 20, 2):\n",
    "                slow_ma = d.exo.rolling(slowp).mean()\n",
    "                fast_ma = d.exo.rolling(fastp).mean()\n",
    "\n",
    "                short_entry = CrossDown(fast_ma, slow_ma)\n",
    "                short_exit = CrossUp(fast_ma, slow_ma)\n",
    "\n",
    "                direction = -1\n",
    "                pl1, inposition1 = backtester.backtest(d, short_entry, short_exit, direction )\n",
    "                equity1, stats1 = backtester.stats(pl1, inposition1)\n",
    "                equity1.plot()\n"
   ]
  },
  {
   "cell_type": "code",
   "execution_count": null,
   "metadata": {
    "collapsed": false
   },
   "outputs": [],
   "source": [
    "%prun naive_swarm()"
   ]
  },
  {
   "cell_type": "markdown",
   "metadata": {},
   "source": [
    "# Cython optimized backtesting"
   ]
  },
  {
   "cell_type": "code",
   "execution_count": null,
   "metadata": {
    "collapsed": false
   },
   "outputs": [],
   "source": [
    "%load_ext Cython"
   ]
  },
  {
   "cell_type": "code",
   "execution_count": null,
   "metadata": {
    "collapsed": false
   },
   "outputs": [],
   "source": [
    "%%cython \n",
    "# --annotate\n",
    "\n",
    "import numpy as np\n",
    "cimport numpy as np\n",
    "cimport cython\n",
    "from libc.math cimport sqrt\n",
    "import pandas as pd\n",
    "\n",
    "DTYPE = np.int\n",
    "ctypedef np.double_t DTYPE_t_double\n",
    "ctypedef np.int8_t DTYPE_t_int8\n",
    "\n",
    "@cython.boundscheck(False) # turn of bounds-checking for entire function\n",
    "def stats(profitloss, inposition):\n",
    "    \"\"\"\n",
    "    Calculate equity and summary statistics, based on output of `backtest` method\n",
    "    :param pl: Profit-loss array (returned by backtest())\n",
    "    :param inposition: In-position array (returned by backtest())\n",
    "    :return: tuple (equity, stats)\n",
    "        - equity - is cumulative profits arrat\n",
    "        - stats - is a dict()\n",
    "    \"\"\"    \n",
    "    cdef int barcount = len(profitloss)\n",
    "    cdef np.ndarray[np.double_t, ndim=1] equity = np.zeros(barcount, dtype=np.double)\n",
    "    cdef np.ndarray[DTYPE_t_double, ndim=1] pl = profitloss.values\n",
    "    cdef np.ndarray[DTYPE_t_int8, ndim=1] inpos = inposition.values\n",
    "    cdef double profit = 0.0\n",
    "    \n",
    "    cdef double netprofit = 0.0\n",
    "    cdef double tradeprofit = 0.0\n",
    "    cdef double count = 0.0\n",
    "    cdef double winscount = 0.0\n",
    "    cdef double highesteqty = 0.0\n",
    "    cdef double maxdd = 0.0\n",
    "    cdef double p = 0.0\n",
    "    cdef double cumulativep = 0.0\n",
    "    # \n",
    "    \n",
    "    # Calculate trade-by-trade payoffs        \n",
    "    for i in range(barcount):\n",
    "        if i == 0:\n",
    "            continue\n",
    "        # Calculate cumulative profit inside particular trade\n",
    "        p = pl[i]\n",
    "        if np.isnan(p):\n",
    "            continue\n",
    "        \n",
    "        cumulativep += p\n",
    "        if inpos[i] == 1:\n",
    "            tradeprofit += p\n",
    "        # Store result\n",
    "        if inpos[i] == 0 and inpos[i-1] == 1:            \n",
    "            count += 1.0\n",
    "            if tradeprofit > 0:\n",
    "                winscount += 1.0         \n",
    "            netprofit += tradeprofit\n",
    "            tradeprofit = 0.0\n",
    "            \n",
    "        highesteqty = max(highesteqty, cumulativep)   \n",
    "        maxdd = min(maxdd, cumulativep - highesteqty)                \n",
    "        equity[i] = cumulativep \n",
    "    \n",
    "\n",
    "    # Calculate summary statistics\n",
    "    statistics = {\n",
    "        'netprofit': netprofit,\n",
    "        'avg': netprofit / count,\n",
    "        'count': count,\n",
    "        'winrate': winscount / count,\n",
    "        'maxdd': maxdd,\n",
    "    }\n",
    "    return pd.Series(equity, index=profitloss.index), statistics"
   ]
  },
  {
   "cell_type": "code",
   "execution_count": null,
   "metadata": {
    "collapsed": false
   },
   "outputs": [],
   "source": [
    "def optimized_swarm():\n",
    "    for slowp in np.arange(40, 100, 5):\n",
    "            for fastp in np.arange(5, 20, 2):\n",
    "                slow_ma = d.exo.rolling(slowp).mean()\n",
    "                fast_ma = d.exo.rolling(fastp).mean()\n",
    "\n",
    "                short_entry = CrossDown(fast_ma, slow_ma)\n",
    "                short_exit = CrossUp(fast_ma, slow_ma)\n",
    "\n",
    "                direction = -1\n",
    "                # Calling Cython optimized methods\n",
    "                pl2, inposition2 = backtest(d, short_entry, short_exit, direction )\n",
    "                equity2, stats2 = stats(pl2, inposition2)\n"
   ]
  },
  {
   "cell_type": "code",
   "execution_count": null,
   "metadata": {
    "collapsed": false
   },
   "outputs": [],
   "source": [
    "%prun optimized_swarm()"
   ]
  },
  {
   "cell_type": "code",
   "execution_count": null,
   "metadata": {
    "collapsed": false
   },
   "outputs": [],
   "source": [
    "slow_ma = d.exo.rolling(50).mean()\n",
    "fast_ma = d.exo.rolling(20).mean()\n",
    "short_entry = CrossDown(fast_ma, slow_ma)\n",
    "short_exit = CrossUp(fast_ma, slow_ma)\n",
    "direction = -1"
   ]
  },
  {
   "cell_type": "code",
   "execution_count": null,
   "metadata": {
    "collapsed": false,
    "scrolled": false
   },
   "outputs": [],
   "source": [
    "%%cython \n",
    "#--annotate\n",
    "\n",
    "import numpy as np\n",
    "cimport numpy as np\n",
    "cimport cython\n",
    "from libc.math cimport sqrt\n",
    "import pandas as pd\n",
    "\n",
    "DTYPE = np.int\n",
    "\n",
    "ctypedef np.double_t DTYPE_t_double\n",
    "\n",
    "@cython.boundscheck(False) # turn of bounds-checking for entire function\n",
    "def backtest(np.ndarray[np.double_t, ndim=1] price, \n",
    "             np.ndarray[np.uint8_t,cast=True, ndim=1] entry_rule, \n",
    "             np.ndarray[np.uint8_t,cast=True, ndim=1] exit_rule, \n",
    "             int direction,\n",
    "             date):\n",
    "    \"\"\"\n",
    "    Backtester routine calculate equity based on data['exo'] and entry/exit rules\n",
    "    :param data: raw data for backtesting\n",
    "    :param entry_rule: 1/0 array of entry points\n",
    "    :param exit_rule: 1/0 array of exit points\n",
    "    :param direction: Direction of trades, 1 - for long, -1 - for shorts\n",
    "    :return: tuple(pl, inposition)\n",
    "        pl - profit-loss inside a particular trade\n",
    "        inposition - 1/0 array indicating whether the EXO is in or out of the market at the end of the day\n",
    "    \"\"\"    \n",
    "    cdef int barcount = len(price)\n",
    "    cdef np.ndarray[np.double_t, ndim=1] pl = np.zeros(barcount, dtype=np.double)\n",
    "    cdef np.ndarray[np.int8_t,   ndim=1] inposition = np.zeros(barcount, dtype=np.int8)\n",
    "    \n",
    "    inpos = False\n",
    "\n",
    "    for i in range(barcount):\n",
    "        if not inpos:\n",
    "            # We have a signal, let's open position\n",
    "            if entry_rule[i] == 1:\n",
    "                pl[i] = 0\n",
    "                inpos = True\n",
    "                inposition[i] = 1\n",
    "            else:\n",
    "                inposition[i] = 0\n",
    "\n",
    "        else:\n",
    "            # Calculate pl\n",
    "            pl[i] = (price[i] - price[i-1])*direction\n",
    "            inposition[i] = 1\n",
    "\n",
    "            if exit_rule[i] == 1:\n",
    "                inpos = False\n",
    "                \n",
    "    return pd.Series(pl, index=date),  pd.Series(inposition, index=date)"
   ]
  },
  {
   "cell_type": "markdown",
   "metadata": {},
   "source": [
    "### Timing compare between naive python and cython optimized code"
   ]
  },
  {
   "cell_type": "code",
   "execution_count": null,
   "metadata": {
    "collapsed": false
   },
   "outputs": [],
   "source": [
    "# Naive python timings\n",
    "%timeit backtester.backtest(d, short_entry, short_exit, direction )"
   ]
  },
  {
   "cell_type": "code",
   "execution_count": null,
   "metadata": {
    "collapsed": false
   },
   "outputs": [],
   "source": [
    "# Cython optimized code\n",
    "%timeit backtest(d.exo.values, short_entry.values, short_exit.values, direction, d.exo.index)\n"
   ]
  },
  {
   "cell_type": "markdown",
   "metadata": {
    "collapsed": false
   },
   "source": [
    "# Recursion test for swarming algorithm"
   ]
  },
  {
   "cell_type": "code",
   "execution_count": null,
   "metadata": {
    "collapsed": false
   },
   "outputs": [],
   "source": [
    "class OptParam(object):\n",
    "    def __init__(self, name, default_value, min_value, max_value, step):\n",
    "        self.name = name\n",
    "        self.default = default_value\n",
    "        self.min = min_value\n",
    "        self.max = max_value\n",
    "        self.step = step       \n",
    "    \n",
    "        "
   ]
  },
  {
   "cell_type": "markdown",
   "metadata": {},
   "source": [
    "### I've tried a lot of approaches to optimal parameters scrambling, including nested loops, recursive functions, but the best solution is in use of built-in itertools module, it's fast and clean!\n"
   ]
  },
  {
   "cell_type": "code",
   "execution_count": null,
   "metadata": {
    "collapsed": false
   },
   "outputs": [],
   "source": [
    "opts = [\n",
    "OptParam('test1', 1, 1, 5, 1),\n",
    "OptParam('test2', 1, 10, 20, 2),\n",
    "OptParam('test3', .1, .10, 1, .2)\n",
    "]"
   ]
  },
  {
   "cell_type": "code",
   "execution_count": null,
   "metadata": {
    "collapsed": false
   },
   "outputs": [],
   "source": [
    "import itertools"
   ]
  },
  {
   "cell_type": "code",
   "execution_count": null,
   "metadata": {
    "collapsed": false
   },
   "outputs": [],
   "source": [
    "def slice_opts(opts):\n",
    "    result = []\n",
    "    for o in opts:\n",
    "        result.append(np.arange(o.min, o.max, o.step))\n",
    "        \n",
    "    return result"
   ]
  },
  {
   "cell_type": "code",
   "execution_count": null,
   "metadata": {
    "collapsed": false
   },
   "outputs": [],
   "source": [
    "#\n",
    "# Parameters scrambling for 3 sample optimize arrays\n",
    "#\n",
    "list(itertools.product(*[[2,3,4], [.2,0.3,.4], [.2,0.3,.4]]))"
   ]
  },
  {
   "cell_type": "code",
   "execution_count": null,
   "metadata": {
    "collapsed": false
   },
   "outputs": [],
   "source": [
    "slice_opts(opts)"
   ]
  },
  {
   "cell_type": "code",
   "execution_count": null,
   "metadata": {
    "collapsed": false,
    "scrolled": false
   },
   "outputs": [],
   "source": [
    "#\n",
    "# Slicing a list of  OptParam (proof of concept)\n",
    "#\n",
    "list(itertools.product(*slice_opts(opts)))"
   ]
  },
  {
   "cell_type": "markdown",
   "metadata": {},
   "source": [
    "# Creating prototype of strategy class"
   ]
  },
  {
   "cell_type": "code",
   "execution_count": null,
   "metadata": {
    "collapsed": false
   },
   "outputs": [],
   "source": [
    "class StrategyBase(object):\n",
    "    def __init__(self):\n",
    "        self.name = 'BaseStrategy'        \n",
    "        self.opts = [\n",
    "            OptParam('test1', 1, 1, 5, 1),\n",
    "            OptParam('test2', 1, 10, 20, 2),            \n",
    "            ]\n",
    "        \n",
    "    def slice_opts(self):\n",
    "        if self.opts is None:\n",
    "            return [None]\n",
    "        \n",
    "        result = []\n",
    "        for o in self.opts:\n",
    "            result.append(np.arange(o.min, o.max, o.step))\n",
    "        return itertools.product(*result)\n",
    "    \n",
    "    \n",
    "    def run_swarm(self):\n",
    "        '''\n",
    "        Brute force all steps of self.opts and calculate base stats\n",
    "        '''\n",
    "        \n",
    "        # loop through all steps of every OptParam\n",
    "        # Calculate algo\n",
    "        # Store the results\n",
    "        for opts in self.slice_opts():\n",
    "           equity, stats = self.calculate(opts)                        \n",
    "            \n",
    "    \n",
    "    def calculate(self,params):\n",
    "        '''\n",
    "        The main algorithm for trading logics calculation\n",
    "        params: tuple-like object with optimizations parameters\n",
    "        '''\n",
    "        print(params)\n",
    "        return None, None"
   ]
  },
  {
   "cell_type": "code",
   "execution_count": null,
   "metadata": {
    "collapsed": false
   },
   "outputs": [],
   "source": [
    "StrategyBase().run_swarm()"
   ]
  },
  {
   "cell_type": "code",
   "execution_count": null,
   "metadata": {
    "collapsed": false
   },
   "outputs": [],
   "source": [
    "opts = [OptParam('SlowMAPeriod', 50, 50, 100, 2),\n",
    "OptParam('FastMAPeriod', 10, 10, 50, 2),\n",
    "OptParam('MedianPeriod', 5, 5, 20, 5)]\n",
    "slice_opts(opts)"
   ]
  },
  {
   "cell_type": "markdown",
   "metadata": {
    "collapsed": false
   },
   "source": [
    "# Swarm picking algorithm"
   ]
  },
  {
   "cell_type": "code",
   "execution_count": null,
   "metadata": {
    "collapsed": false
   },
   "outputs": [],
   "source": [
    "data = {}\n",
    "for slowp in np.arange(10, 20, 1):\n",
    "        for fastp in np.arange(2, 10, 2):\n",
    "            slow_ma = d.exo.rolling(slowp).mean()\n",
    "            fast_ma = d.exo.rolling(fastp).mean()\n",
    "\n",
    "            short_entry = CrossDown(fast_ma, slow_ma)\n",
    "            short_exit = CrossUp(fast_ma, slow_ma)\n",
    "\n",
    "            direction = -1\n",
    "            pl1, inposition1 = backtester.backtest(d, short_entry, short_exit, direction )\n",
    "            #trades = backtester.trades(pl1, inposition1)\n",
    "            equity, stats = backtester.stats(pl1, inposition1)\n",
    "            data[ str((slowp, fastp)) ] = equity\n",
    "            "
   ]
  },
  {
   "cell_type": "code",
   "execution_count": null,
   "metadata": {
    "collapsed": false
   },
   "outputs": [],
   "source": [
    "trades.describe()"
   ]
  },
  {
   "cell_type": "code",
   "execution_count": null,
   "metadata": {
    "collapsed": false
   },
   "outputs": [],
   "source": [
    "df = pd.DataFrame.from_dict(data)"
   ]
  },
  {
   "cell_type": "code",
   "execution_count": null,
   "metadata": {
    "collapsed": false
   },
   "outputs": [],
   "source": [
    "df.apply(lambda x: x.rolling(10).mean())"
   ]
  },
  {
   "cell_type": "code",
   "execution_count": null,
   "metadata": {
    "collapsed": false
   },
   "outputs": [],
   "source": [
    "df"
   ]
  },
  {
   "cell_type": "code",
   "execution_count": null,
   "metadata": {
    "collapsed": false
   },
   "outputs": [],
   "source": [
    "class SwarmRank(object):\n",
    "    def __init__(self, reranktime):\n",
    "        self.reranktime = reranktime\n",
    "        \n",
    "    def rank_highestret(self, eqty):\n",
    "        \"\"\"\n",
    "        Ranking function\n",
    "        Calculate last 14 days equity returns, excluding out-of-market time\n",
    "        \"\"\"\n",
    "        \n",
    "        if len(self.reranktime) != len(eqty):\n",
    "            raise ValueError('Length of self.reranktime != equity length')\n",
    "            \n",
    "        result = np.full_like(eqty, np.nan)\n",
    "        \n",
    "        for i in range(len(self.reranktime)):            \n",
    "            # Skip 14 days\n",
    "            if i < 15:\n",
    "                continue\n",
    "                        \n",
    "            if self.reranktime[i]:\n",
    "                # We at the point of reranking\n",
    "                \n",
    "                # Skip periods without trades\n",
    "                e = np.unique(eqty[:i+1])\n",
    "                \n",
    "                if len(e) < 15:\n",
    "                    continue\n",
    "                    \n",
    "                # Recalculate last 14 day returns\n",
    "                result[i] = e[len(e) - 1] - e[len(e) - 14]\n",
    "                \n",
    "        return pd.Series(result, index=eqty.index)\n",
    "                \n",
    "       \n",
    "    \n",
    "    "
   ]
  },
  {
   "cell_type": "code",
   "execution_count": null,
   "metadata": {
    "collapsed": false,
    "scrolled": false
   },
   "outputs": [],
   "source": [
    "# Number of swarm members to pick\n",
    "nSystems = 5\n",
    "\n",
    "# Rebalance the swarm every Monday\n",
    "rerank_time = df.index.dayofweek == 0\n",
    "\n",
    "# Rank systems\n",
    "ranking_algo =  SwarmRank(rerank_time)\n",
    "\n",
    "# Last 14 days returns rank\n",
    "rets = df.apply(ranking_algo.rank_highestret)\n",
    "rnk = rets.rank(axis=1, pct=True)\n",
    "\n",
    "\n",
    "is_picked_df = pd.DataFrame(False, index=df.index, columns=df.columns)\n",
    "nbest = None\n",
    "\n",
    "for i in range(len(rerank_time)):\n",
    "    if i < 100:\n",
    "        continue \n",
    "    if rerank_time[i]:\n",
    "        # Select N best ranked systems to trade\n",
    "        nbest = rnk.iloc[i].sort_values()\n",
    "        \n",
    "        # Filter early trades\n",
    "        if nbest.sum() == 0:\n",
    "            nbest[:] = False\n",
    "            continue\n",
    "        \n",
    "        # Flagging picked trading systems\n",
    "        nbest[-nSystems:] = True\n",
    "        nbest[:-nSystems] = False\n",
    "        is_picked_df.iloc[i] = nbest        \n",
    "        \n",
    "    else:\n",
    "        # Flag last picked swarm members untill new rerank_time\n",
    "        if nbest is not None:\n",
    "            is_picked_df.iloc[i] = nbest        \n",
    "            \n",
    "               "
   ]
  },
  {
   "cell_type": "markdown",
   "metadata": {},
   "source": [
    "# Average equity comparison"
   ]
  },
  {
   "cell_type": "code",
   "execution_count": null,
   "metadata": {
    "collapsed": false
   },
   "outputs": [],
   "source": [
    "figsize(15,15)\n",
    "\n",
    "#\n",
    "# Compose average equity for picked swarms members and all-in-one average\n",
    "#\n",
    "eq_changes = df.diff()\n",
    "avg_picked_equity = eq_changes[is_picked_df].mean(axis=1).cumsum()\n",
    "avg_all_equity = eq_changes.mean(axis=1).cumsum()\n",
    "\n",
    "\n",
    "avg_picked_equity.plot(label='Picked swarm')\n",
    "avg_all_equity.plot(c='g', label='Avg swarm')\n",
    "legend(loc=2)"
   ]
  },
  {
   "cell_type": "code",
   "execution_count": null,
   "metadata": {
    "collapsed": false
   },
   "outputs": [],
   "source": []
  }
 ],
 "metadata": {
  "kernelspec": {
   "display_name": "Python 3",
   "language": "python",
   "name": "python3"
  },
  "language_info": {
   "codemirror_mode": {
    "name": "ipython",
    "version": 3
   },
   "file_extension": ".py",
   "mimetype": "text/x-python",
   "name": "python",
   "nbconvert_exporter": "python",
   "pygments_lexer": "ipython3",
   "version": "3.5.1"
  }
 },
 "nbformat": 4,
 "nbformat_minor": 0
}
