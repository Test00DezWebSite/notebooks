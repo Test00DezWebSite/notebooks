{
 "cells": [
  {
   "cell_type": "code",
   "execution_count": null,
   "metadata": {
    "collapsed": false
   },
   "outputs": [],
   "source": [
    "%pylab inline\n",
    "%load_ext autoreload\n",
    "%autoreload 2\n",
    "%load_ext line_profiler\n",
    "%load_ext Cython\n",
    "figsize(20,10)"
   ]
  },
  {
   "cell_type": "code",
   "execution_count": null,
   "metadata": {
    "collapsed": false
   },
   "outputs": [],
   "source": [
    "import sys,os\n",
    "sys.path.append('..')\n",
    "sys.path.append('../..')\n",
    "from backtester import matlab, backtester\n",
    "from backtester.analysis import *\n",
    "from backtester.swarms.swarm import Swarm\n",
    "from backtester.exoinfo import EXOInfo\n",
    "from backtester.swarms.rankingclasses import RankingClassBase\n",
    "\n",
    "import pandas as pd\n",
    "import numpy as np\n",
    "import scipy\n",
    "import time\n",
    "import glob\n",
    "from pandas.tseries.offsets import *"
   ]
  },
  {
   "cell_type": "code",
   "execution_count": null,
   "metadata": {
    "collapsed": false
   },
   "outputs": [],
   "source": [
    "swarm_file = 'EP_BearishCollarBrokenWing_Short_BollingerBands'\n",
    "\n",
    "# Real swarm from .swm\n",
    "swm = Swarm.load('/home/ubertrader/Dropbox/tmqrexo/tmqrv/notebooks/tmp/temp_swarms/'+swarm_file+'.swm')\n",
    "df = swm.raw_swarm"
   ]
  },
  {
   "cell_type": "code",
   "execution_count": null,
   "metadata": {
    "collapsed": false,
    "scrolled": false
   },
   "outputs": [],
   "source": [
    "%%cython -a\n",
    "cimport cython\n",
    "import numpy as np\n",
    "import pandas as pd\n",
    "cimport numpy as np\n",
    "DTYPE_float = np.float\n",
    "ctypedef np.float64_t DTYPE_t_float\n",
    "ctypedef np.uint64_t DTYPE_t_uint64\n",
    "ctypedef np.uint8_t DTYPE_t_uint8\n",
    "from libc.math cimport abs\n",
    "\n",
    "np.import_array()\n",
    "\n",
    "\n",
    "@cython.cdivision(True)\n",
    "@cython.boundscheck(False)\n",
    "def btfunc(df):\n",
    "    \n",
    "    # Calculate trade-by-trade payoffs\n",
    "    cdef float netprofit = 0.0    \n",
    "    cdef float sumwin = 0.0\n",
    "    cdef float sumloss = 0.0\n",
    "    cdef float wincount = 0.0\n",
    "    cdef float tradescount = 0.0\n",
    "    cdef float eqhigh = 0.0\n",
    "    cdef float maxdd = 0.0\n",
    "    cdef float px_chg = 0.0\n",
    "\n",
    "    \n",
    "    cdef np.ndarray[DTYPE_t_float, ndim=1] px = df.values\n",
    "    cdef int barcount = px.shape[0]\n",
    "\n",
    "    cdef int i = 1\n",
    "    \n",
    "    for i in range(1, barcount):\n",
    "        px_chg = px[i] - px[i-1]\n",
    "        \n",
    "        netprofit += px_chg\n",
    "        \n",
    "        eqhigh = max(eqhigh, netprofit)\n",
    "        maxdd = min(maxdd, netprofit - eqhigh)\n",
    "        \n",
    "        if px_chg > 0:\n",
    "            wincount += 1.0\n",
    "            sumwin += px_chg\n",
    "        else:\n",
    "            sumloss += px_chg                     \n",
    "        \n",
    "        tradescount += 1.0\n",
    "\n",
    "    try:\n",
    "        modsharpe = np.mean(px) / np.std(px)\n",
    "    except ZeroDivisionError:\n",
    "        modsharpe = np.nan\n",
    "    \n",
    "    return {'strategy': df.name,\n",
    "            'stats_pricechange_modsharpe': modsharpe, \n",
    "            'stats_netprofit': netprofit,\n",
    "            'stats_max_dd': maxdd, \n",
    "            'stats_recovery_factor': netprofit / abs(maxdd),\n",
    "            'stats_profit_factor': sumwin / abs(sumloss), \n",
    "            'stats_winrate': wincount / tradescount\n",
    "            }\n",
    "\n"
   ]
  },
  {
   "cell_type": "code",
   "execution_count": null,
   "metadata": {
    "collapsed": false
   },
   "outputs": [],
   "source": [
    "btfunc"
   ]
  },
  {
   "cell_type": "code",
   "execution_count": null,
   "metadata": {
    "collapsed": false
   },
   "outputs": [],
   "source": [
    "from scipy.stats.stats import pearsonr\n",
    "\n",
    "class RankerBestWithCorrel(RankingClassBase):\n",
    "    def __init__(self, window_size=-1, correl_threshold=0.5):\n",
    "        self.window_size = window_size\n",
    "        self.correl_threshold = correl_threshold\n",
    "\n",
    "    def clear(self):\n",
    "        pass\n",
    "         \n",
    "        \n",
    "    def rank(self, swarm_slice, nsystems):\n",
    "        result = []\n",
    "        rank_info = []\n",
    "\n",
    "        # Filter all negative equities\n",
    "        ss =  swarm_slice[(swarm_slice.iloc[-1][(swarm_slice.iloc[-1] > 0)]).index]      \n",
    "        if len(ss.columns) == 0:\n",
    "            return [], []\n",
    "\n",
    "        # Applying simple backtesting function\n",
    "        #bt_data = ss.apply(self.btfunc)\n",
    "        bt_data = ss.apply(btfunc)\n",
    "        \n",
    "        # Creating dataframe for new backtest metrics values\n",
    "        stats_df = pd.DataFrame([x for x in bt_data])\n",
    "        stats_df = stats_df.set_index('strategy')\n",
    "        \n",
    "        \n",
    "        # Calculating ranking for Sum(ranks)\n",
    "        best_stats = (stats_df.rank(pct=True)).sum(axis=1).sort_values(ascending=False)\n",
    "        \n",
    "        if not np.isnan(best_stats[0]) and best_stats[0] <= 0:\n",
    "            return [],[]\n",
    "\n",
    "        # Picking N best system with low correlation\n",
    "        best_systems = []\n",
    "        best_systems.append(best_stats.index[0])\n",
    "        \n",
    "        i = 1\n",
    "        corr_threshold = self.correl_threshold\n",
    "\n",
    "        while i < len(best_stats) and len(best_systems) < nsystems:\n",
    "            best = best_systems[-1]\n",
    "            candidate = best_stats.index[i]            \n",
    "            # Calculate Pearson correlation of equity lines\n",
    "            corr = pearsonr(ss[best].values, ss[candidate].values)[0]\n",
    "            \n",
    "            # If correlation between last and candidate system equity < threshold\n",
    "            if not np.isnan(corr) and corr < corr_threshold:\n",
    "                best_systems.append(candidate)\n",
    "            i += 1\n",
    "        \n",
    "        rank_info = {\n",
    "            'start_of_window': ss.index[0],\n",
    "            'end_of_window': ss.index[-1],\n",
    "            'corr_matrix': ss[best_systems].corr()\n",
    "        }\n",
    "        \n",
    "        return best_systems, rank_info\n",
    "    \n",
    "    "
   ]
  },
  {
   "cell_type": "code",
   "execution_count": null,
   "metadata": {
    "collapsed": false
   },
   "outputs": [],
   "source": [
    "title('Old ranking algo')\n",
    "swm.picked_equity.plot(label='Picked')\n",
    "swm.raw_equity.plot(label='Raw (Avg Swarm without ranking?)')\n",
    "legend(loc=2)"
   ]
  },
  {
   "cell_type": "code",
   "execution_count": null,
   "metadata": {
    "collapsed": false,
    "scrolled": false
   },
   "outputs": [],
   "source": [
    "begin_time = time.time()\n",
    "swm.context['swarm']['members_count'] = 3\n",
    "swm.context['swarm']['ranking_class'] = RankerBestWithCorrel()\n",
    "\n",
    "swm.pick()\n",
    "print(\"Elapsed: {0}\".format(time.time() - begin_time))\n",
    "swm.picked_equity.plot(label='Picked')\n",
    "swm.raw_equity.plot(label='Raw (Avg Swarm without ranking?)')"
   ]
  },
  {
   "cell_type": "code",
   "execution_count": null,
   "metadata": {
    "collapsed": false
   },
   "outputs": [],
   "source": [
    "swm.picked_swarm.iloc[-100000:]"
   ]
  },
  {
   "cell_type": "code",
   "execution_count": null,
   "metadata": {
    "collapsed": false
   },
   "outputs": [],
   "source": [
    "ranker = RankerBestWithCorrel()\n",
    "\n",
    "%lprun -f ranker.rank ranker.rank(swm.raw_swarm.iloc[0:500,:], 3)"
   ]
  },
  {
   "cell_type": "code",
   "execution_count": null,
   "metadata": {
    "collapsed": false
   },
   "outputs": [],
   "source": [
    "ranker.rank(swm.raw_swarm.iloc[0:500,:], 3)"
   ]
  },
  {
   "cell_type": "code",
   "execution_count": null,
   "metadata": {
    "collapsed": false
   },
   "outputs": [],
   "source": []
  }
 ],
 "metadata": {
  "anaconda-cloud": {},
  "kernelspec": {
   "display_name": "Python 3",
   "language": "python",
   "name": "python3"
  },
  "language_info": {
   "codemirror_mode": {
    "name": "ipython",
    "version": 3
   },
   "file_extension": ".py",
   "mimetype": "text/x-python",
   "name": "python",
   "nbconvert_exporter": "python",
   "pygments_lexer": "ipython3",
   "version": "3.5.2"
  }
 },
 "nbformat": 4,
 "nbformat_minor": 0
}
