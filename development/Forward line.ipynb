{
 "cells": [
  {
   "cell_type": "code",
   "execution_count": null,
   "metadata": {
    "collapsed": false
   },
   "outputs": [],
   "source": [
    "import sys\n",
    "sys.path.append('../..')\n",
    "from backtester import matlab, backtester\n",
    "from backtester.analysis import *\n",
    "import pandas as pd\n",
    "import numpy as np\n",
    "import glob, os\n",
    "\n",
    "import itertools\n",
    "\n",
    "from pandas.tseries.offsets import BDay\n",
    "\n",
    "from backtester.exoinfo import EXOInfo\n",
    "from exobuilder.data.exostorage import EXOStorage\n",
    "from IPython.core.display import display, HTML\n",
    "\n",
    "\n",
    "\n",
    "import pandas as pd\n",
    "import numpy as np\n",
    "import scipy\n",
    "import pprint\n",
    "\n",
    "%pylab inline\n",
    "figsize(20,10)"
   ]
  },
  {
   "cell_type": "code",
   "execution_count": null,
   "metadata": {
    "collapsed": false
   },
   "outputs": [],
   "source": [
    "# Only Cont Fut Flag\n",
    "only_cont_fut = False"
   ]
  },
  {
   "cell_type": "code",
   "execution_count": null,
   "metadata": {
    "collapsed": false,
    "scrolled": false
   },
   "outputs": [],
   "source": [
    "# Loading global setting for MongoDB etc.\n",
    "from scripts.settings import *\n",
    "\n",
    "try:\n",
    "    from scripts.settings_local import *\n",
    "except:\n",
    "    pass\n",
    "\n",
    "storage = EXOStorage(MONGO_CONNSTR, MONGO_EXO_DB)\n",
    "pp = pprint.PrettyPrinter(indent=4)\n",
    "\n",
    "exo_list = storage.exo_list()\n",
    "pp.pprint(exo_list)\n",
    "\n",
    "\n",
    "df = pd.DataFrame()\n",
    "\n",
    "for e in exo_list:\n",
    "    exo_series, exo_dict = storage.load_series(e)\n",
    "    if only_cont_fut == True:   \n",
    "        if 'Fut' in exo_dict['name']:   \n",
    "            exo_series = exo_series[exo_series.columns[0]]\n",
    "            df[exo_dict['name']] = exo_series\n",
    "            \n",
    "    if only_cont_fut == False:\n",
    "        exo_series = exo_series[exo_series.columns[0]]\n",
    "        df[exo_dict['name']] = exo_series\n",
    "#exo_series.plot()"
   ]
  },
  {
   "cell_type": "code",
   "execution_count": null,
   "metadata": {
    "collapsed": false
   },
   "outputs": [],
   "source": [
    "df.head()"
   ]
  },
  {
   "cell_type": "code",
   "execution_count": null,
   "metadata": {
    "collapsed": false
   },
   "outputs": [],
   "source": [
    "px_ser = df.ZW_SmartEXO_Bullish_Ichi_Short_Put_Spread_150Delta_Bi.dropna()"
   ]
  },
  {
   "cell_type": "code",
   "execution_count": null,
   "metadata": {
    "collapsed": false
   },
   "outputs": [],
   "source": [
    "forward_line = px_ser.rolling(30, center=True, win_type='barthann').mean().shift(30)\n",
    "forward_line.index += BDay(15)\n",
    "\n",
    "px_ser.plot()\n",
    "forward_line.plot()\n",
    "\n",
    "#px_ser.rolling(29, center=True, win_type='barthann').mean().shift(29).plot()\n",
    "#px_ser.rolling(100, center=True).mean().shift(100).plot()"
   ]
  },
  {
   "cell_type": "code",
   "execution_count": null,
   "metadata": {
    "collapsed": false
   },
   "outputs": [],
   "source": [
    "px_ser.plot()\n",
    "\n",
    "px_ser.rolling(30, center=True, win_type='barthann').mean().shift(30).plot()\n",
    "px_ser.rolling(30, center=False).mean().shift(0).plot()"
   ]
  },
  {
   "cell_type": "code",
   "execution_count": null,
   "metadata": {
    "collapsed": false
   },
   "outputs": [],
   "source": [
    "px_ser.plot()\n",
    "px_ser.rolling(30, center=True, win_type='barthann').mean().shift(30).plot()\n",
    "\n",
    "#px_ser.rolling(30*10, center=True, win_type='barthann').mean().plot()\n",
    "\n",
    "(px_ser - px_ser.rolling(30, center=True, win_type='barthann').mean().shift(30)).plot(secondary_y=True)"
   ]
  },
  {
   "cell_type": "code",
   "execution_count": null,
   "metadata": {
    "collapsed": false
   },
   "outputs": [],
   "source": [
    "px_diff = px_ser.rolling(20, win_type='hamming').mean().diff()\n",
    "#px_diff = px_ser.diff()\n",
    "\n",
    "threshold_diff_ser = pd.Series(0.0, index=px_diff.index)\n",
    "\n",
    "threshold_value = 1\n",
    "\n",
    "for i in range(px_ser.size):\n",
    "    if px_diff[i] > 0:\n",
    "        if px_diff[i] > threshold_value:\n",
    "            threshold_diff_ser[i] = threshold_value\n",
    "            \n",
    "        else:\n",
    "            threshold_diff_ser[i] = px_diff[i]\n",
    "            \n",
    "    if px_diff[i] < 0:\n",
    "        if px_diff[i] < -threshold_value:\n",
    "            threshold_diff_ser[i] = -threshold_value\n",
    "            \n",
    "        else:\n",
    "            threshold_diff_ser[i] = px_diff[i]"
   ]
  },
  {
   "cell_type": "code",
   "execution_count": null,
   "metadata": {
    "collapsed": false
   },
   "outputs": [],
   "source": [
    "px_ser.plot()\n",
    "px_ser.rolling(20, win_type='hamming').mean().plot()\n",
    "\n",
    "threshold_diff_ser.cumsum().plot(secondary_y=True)\n",
    "#(threshold_diff_ser.cumsum() - threshold_diff_ser.cumsum().rolling(20).mean()).plot()\n",
    "#axhline(0)"
   ]
  },
  {
   "cell_type": "code",
   "execution_count": null,
   "metadata": {
    "collapsed": false
   },
   "outputs": [],
   "source": [
    "threshold_px_ser = threshold_diff_ser.cumsum()\n",
    "\n",
    "threshold_px_ser.plot()\n",
    "threshold_px_ser.rolling(20).median().plot()"
   ]
  },
  {
   "cell_type": "code",
   "execution_count": null,
   "metadata": {
    "collapsed": false
   },
   "outputs": [],
   "source": [
    "threshold_px_ser.diff(10).plot()"
   ]
  },
  {
   "cell_type": "code",
   "execution_count": null,
   "metadata": {
    "collapsed": false
   },
   "outputs": [],
   "source": []
  }
 ],
 "metadata": {
  "kernelspec": {
   "display_name": "Python 3",
   "language": "python",
   "name": "python3"
  },
  "language_info": {
   "codemirror_mode": {
    "name": "ipython",
    "version": 3
   },
   "file_extension": ".py",
   "mimetype": "text/x-python",
   "name": "python",
   "nbconvert_exporter": "python",
   "pygments_lexer": "ipython3",
   "version": "3.5.2"
  }
 },
 "nbformat": 4,
 "nbformat_minor": 0
}
