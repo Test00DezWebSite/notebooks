{
 "cells": [
  {
   "cell_type": "code",
   "execution_count": null,
   "metadata": {
    "collapsed": false
   },
   "outputs": [],
   "source": [
    "import pandas as pd\n",
    "import numpy as np\n",
    "\n",
    "import sys, os\n",
    "\n",
    "sys.path.append('../..')\n",
    "from backtester import matlab, backtester\n",
    "from backtester.analysis import *\n",
    "from backtester.strategy import StrategyBase, OptParam\n",
    "from backtester.swarms.manager import SwarmManager\n",
    "from backtester.swarms.ranking import SwarmRanker\n",
    "from backtester.swarms.rebalancing import SwarmRebalance\n",
    "from backtester.swarms.filters import SwarmFilter\n",
    "from backtester.costs import CostsManagerEXOFixed\n",
    "from backtester.exoinfo import EXOInfo"
   ]
  },
  {
   "cell_type": "code",
   "execution_count": null,
   "metadata": {
    "collapsed": false
   },
   "outputs": [],
   "source": [
    "%pylab inline\n",
    "%load_ext autoreload\n",
    "%autoreload 2"
   ]
  },
  {
   "cell_type": "code",
   "execution_count": null,
   "metadata": {
    "collapsed": false
   },
   "outputs": [],
   "source": [
    "EXO_File = 'strategy_270225'\n",
    "\n",
    "strategyname_global = EXO_File\n",
    "d, info = matlab.loaddata('../../mat/'+strategyname_global+'.mat')"
   ]
  },
  {
   "cell_type": "code",
   "execution_count": null,
   "metadata": {
    "collapsed": false
   },
   "outputs": [],
   "source": [
    "px_ser = d['exo'].ix['2015':]"
   ]
  },
  {
   "cell_type": "markdown",
   "metadata": {},
   "source": [
    "### Ichi cloud indicator calc\n",
    "### New version"
   ]
  },
  {
   "cell_type": "code",
   "execution_count": null,
   "metadata": {
    "collapsed": false
   },
   "outputs": [],
   "source": [
    "'''\n",
    "Tenkan-sen (Conversion Line): (9-period high + 9-period low)/2)) \n",
    "\n",
    "The default setting is 9 periods and can be adjusted. On a daily \n",
    "chart, this line is the mid point of the 9 day high-low range, \n",
    "which is almost two weeks. \n",
    "'''\n",
    "conversion_line_period = 9 # subject of optimization\n",
    "\n",
    "conversion_line_high = px_ser.rolling(window=conversion_line_period).max()\n",
    "conversion_line_low = px_ser.rolling(window=conversion_line_period).min()\n",
    "\n",
    "conversion_line = (conversion_line_high + conversion_line_low) / 2\n",
    "\n",
    "'''\n",
    "Kijun-sen (Base Line): (26-period high + 26-period low)/2)) \n",
    "\n",
    "The default setting is 26 periods and can be adjusted. On a daily \n",
    "chart, this line is the mid point of the 26 day high-low range, \n",
    "which is almost one month).\n",
    "'''\n",
    "base_line_period = 26 # subject of optimization\n",
    "\n",
    "base_line_high = px_ser.rolling(window=base_line_period).max()\n",
    "base_line_low = px_ser.rolling(window=base_line_period).min()\n",
    "\n",
    "base_line = (base_line_high + base_line_low) / 2\n",
    "\n",
    "'''\n",
    "Senkou Span A (Leading Span A): (Conversion Line + Base Line)/2)) \n",
    "\n",
    "This is the midpoint between the Conversion Line and the Base Line. \n",
    "The Leading Span A forms one of the two Cloud boundaries. It is \n",
    "referred to as \"Leading\" because it is plotted 26 periods in the future\n",
    "and forms the faster Cloud boundary. \n",
    "'''\n",
    "leading_span_lookahead_period = 26 # subject of optimization\n",
    "leading_span_a = ((conversion_line + base_line) / 2).shift(leading_span_lookahead_period)\n",
    "\n",
    "# straightforward time shifting to 'leading_span_lookahead_period' number of days\n",
    "#leading_span_a.index = leading_span_a.index + pd.DateOffset(days=leading_span_lookahead_period)\n",
    "\n",
    "'''\n",
    "Senkou Span B (Leading Span B): (52-period high + 52-period low)/2)) \n",
    "\n",
    "On the daily chart, this line is the mid point of the 52 day high-low range, \n",
    "which is a little less than 3 months. The default calculation setting is \n",
    "52 periods, but can be adjusted. This value is plotted 26 periods in the future \n",
    "and forms the slower Cloud boundary.\n",
    "'''\n",
    "leading_span_b_period = 52 # subject of optimization\n",
    "leading_span_b = ((px_ser.rolling(window=leading_span_b_period).max() + \n",
    "                   px_ser.rolling(window=leading_span_b_period).min()) / 2).shift(leading_span_lookahead_period)\n",
    "\n",
    "# straightforward time shifting to 'leading_span_lookahead_period' number of days\n",
    "#leading_span_b.index = leading_span_b.index + pd.DateOffset(days=leading_span_lookahead_period)\n",
    "\n",
    "'''\n",
    "Chikou Span (Lagging Span): Close plotted 26 days in the past\n",
    "The default setting is 26 periods, but can be adjusted.\n",
    "'''\n",
    "lagging_span_periods = 26 # subject of optimization\n",
    "lagging_span = px_ser.shift(-lagging_span_periods)"
   ]
  },
  {
   "cell_type": "code",
   "execution_count": null,
   "metadata": {
    "collapsed": false
   },
   "outputs": [],
   "source": [
    "figsize(10,5)\n",
    "px_ser.plot()\n",
    "leading_span_a.plot()\n",
    "leading_span_b.plot()\n",
    "#lagging_span.plot()"
   ]
  },
  {
   "cell_type": "markdown",
   "metadata": {},
   "source": [
    "## Rules"
   ]
  },
  {
   "cell_type": "code",
   "execution_count": null,
   "metadata": {
    "collapsed": false
   },
   "outputs": [],
   "source": [
    "# Cloud top and bottom series are defined using leading span A and B\n",
    "cloud_top = leading_span_a.combine(leading_span_b, max, 0)\n",
    "cloud_bottom = leading_span_a.combine(leading_span_b, min, 0)"
   ]
  },
  {
   "cell_type": "code",
   "execution_count": null,
   "metadata": {
    "collapsed": false
   },
   "outputs": [],
   "source": [
    "# 1) cloud color red\n",
    "# 2) cloud color green\n",
    "cloud_color_green = leading_span_a > leading_span_b\n",
    "cloud_color_red = leading_span_a < leading_span_b"
   ]
  },
  {
   "cell_type": "code",
   "execution_count": null,
   "metadata": {
    "collapsed": false
   },
   "outputs": [],
   "source": [
    "# It must be a separate variables for rules or?\n",
    "\n",
    "# 3) price is above cloud top\n",
    "# 4) price is above cloud bottom\n",
    "\n",
    "# Style? rule_.... ?\n",
    "rule_price_above_cloud_top = px_ser > cloud_top \n",
    "rule_price_above_cloud_bottom = px_ser > cloud_bottom\n",
    "\n",
    "# 5) price is below cloud top\n",
    "# 6) price is below cloud bottom\n",
    "rule_price_below_cloud_top = px_ser < cloud_top\n",
    "rule_price_below_cloud_bottom = px_ser < cloud_bottom\n",
    "\n",
    "# 7) conversion and base line crossings\n",
    "rule_conv_crossup_base_line = CrossUp(conversion_line, base_line)\n",
    "rule_conv_crossdown_base_line = CrossDown(conversion_line, base_line)\n",
    "\n",
    "# 8) price and base line crossings\n",
    "rule_price_crossup_base_line = CrossUp(px_ser, base_line)\n",
    "rule_price_crossdown_base_line = CrossDown(px_ser, base_line)\n",
    "\n",
    "# 9) price and conversion line crossings\n",
    "rule_price_crossup_conv_line = CrossUp(px_ser, conversion_line)\n",
    "rule_price_crossdown_conv_line = CrossDown(px_ser, conversion_line)\n",
    "\n",
    "# 10) is price IN the cloud\n",
    "rule_price_in_cloud = (px_ser < cloud_top) & (px_ser > cloud_bottom)\n",
    "\n",
    "# 11) spans crossing\n",
    "rule_spans_crossup = CrossUp(leading_span_a, leading_span_b)\n",
    "rule_spans_crossdown = CrossDown(leading_span_a, leading_span_b)"
   ]
  },
  {
   "cell_type": "code",
   "execution_count": null,
   "metadata": {
    "collapsed": false
   },
   "outputs": [],
   "source": [
    "figsize(10,5)\n",
    "px_ser.plot()\n",
    "\n",
    "#conversion_line.plot()\n",
    "#base_line.plot()\n",
    "\n",
    "leading_span_a.plot()\n",
    "leading_span_b.plot()\n",
    "\n",
    "rule_spans_crossdown.plot(secondary_y=True)\n",
    "rule_spans_crossup.plot(secondary_y=True)\n",
    "#cloud_color_red.plot(secondary_y=True)"
   ]
  },
  {
   "cell_type": "markdown",
   "metadata": {},
   "source": [
    "## Old version"
   ]
  },
  {
   "cell_type": "code",
   "execution_count": null,
   "metadata": {
    "collapsed": false
   },
   "outputs": [],
   "source": [
    " print('Populating IchiMoku Cloud')\n",
    "        if params is None:\n",
    "            # Return default parameters\n",
    "            conversion_line_period, base_line_period, leading_spanB_period, median_period = self.default_opts()\n",
    "        else:\n",
    "            # Unpacking optimization params\n",
    "            #  in order in self.opts definition\n",
    "            conversion_line_period, base_line_period, leading_spanB_period, median_period = params\n",
    "\n",
    "        self.conversion_line_period = conversion_line_period\n",
    "        self.base_line_period = base_line_period\n",
    "        self.leading_spanB_period = leading_spanB_period\n",
    "        self.median_period = median_period\n",
    "\n",
    "        data = self.data\n",
    "\n",
    "        if False:\n",
    "            ldates = pd.Series.tolist(pd.to_datetime(data['Date']))\n",
    "            lclose = pd.Series.tolist(pd.to_numeric(data['Close']))\n",
    "            lhigh = pd.Series.tolist(pd.to_numeric(data['High']))\n",
    "            llow = pd.Series.tolist(pd.to_numeric(data['Low']))\n",
    "\n",
    "            self.dates = pd.Series(ldates)\n",
    "            self.close = pd.Series(lclose, ldates)\n",
    "            high = pd.Series(lhigh, ldates)\n",
    "            low = pd.Series(llow, ldates)\n",
    "\n",
    "        if True:\n",
    "            self.close = data['exo']\n",
    "            high = self.close\n",
    "            low = self.close\n",
    "\n",
    "        conversion_high = high.rolling(window=conversion_line_period).max()\n",
    "        conversion_low = low.rolling(window=conversion_line_period).min()\n",
    "        self.conversion_line = (conversion_high + conversion_low) / 2.0\n",
    "\n",
    "        base_high = high.rolling(window=base_line_period).max()\n",
    "        base_low = low.rolling(window=base_line_period).min()\n",
    "        self.base_line = (base_high + base_low) / 2.0\n",
    "\n",
    "        self.leading_spanA = ((self.conversion_line + self.base_line) / 2.0).shift(base_line_period)\n",
    "\n",
    "        leading_spanB_high = high.rolling(window=leading_spanB_period).max()\n",
    "        leading_spanB_low = low.rolling(window=leading_spanB_period).min()\n",
    "        leading_spanB_trace = (leading_spanB_high + leading_spanB_low) / 2.0\n",
    "        self.leading_spanB = leading_spanB_trace.shift(base_line_period)\n",
    "\n",
    "        self.lagging_span = self.close.shift(-base_line_period)\n",
    "\n",
    "        self.cloud_colour = self.leading_spanA > self.leading_spanB\n",
    "ef calculate(self, params=None):\n",
    "\n",
    "        self.populate(params)\n",
    "\n",
    "        dates = self.dates\n",
    "        close = self.close\n",
    "        conversion_line = self.conversion_line\n",
    "        base_line = self.base_line\n",
    "        leading_spanA = self.leading_spanA\n",
    "        leading_spanB = self.leading_spanB\n",
    "        lagging_span = self.lagging_span\n",
    "\n",
    "        # Cloud top and bottom series are defined using leading span A and B\n",
    "        cloud_top = leading_spanA.combine(leading_spanB, max, 0)\n",
    "        cloud_bottom = leading_spanA.combine(leading_spanB, min, 0)\n",
    "\n",
    "        # ENTRY CALCULATIONS\n",
    "\n",
    "        # cloud colour should be RED (leading span A is above leading span B)\n",
    "        cloud_red_cond = ~self.cloud_colour\n",
    "\n",
    "        # close price should be below cloud bottom (risky but very immediate signal)\n",
    "        price_cond = close.lt(cloud_bottom)\n",
    "\n",
    "        # convergence line should be below base line\n",
    "        conv_base_crossover_cond = conversion_line < base_line\n",
    "        # base line should be below cloud bottom\n",
    "        base_line_cond = base_line.lt(cloud_bottom)\n",
    "\n",
    "        # lagging line should be below cloud bottom (more confirmed but delayed signal)\n",
    "        lagging_span_cond = lagging_span.lt(cloud_bottom)\n",
    "\n",
    "        # BUY CONDITION based upon all the above conditions (STRONG BULLISH SIGNAL)\n",
    "        buy = cloud_red_cond & price_cond & conv_base_crossover_cond & base_line_cond & lagging_span_cond\n",
    "        # buy = price_cond & conv_base_crossover_cond\n",
    "\n",
    "\n",
    "        # ENTRY RULE: buy condition turn False to True\n",
    "        entry_rule = buy & ((~buy).shift(1))\n",
    "\n",
    "        # EXIT CALCULATIONS\n",
    "\n",
    "        # conv_base_counter_crossover_cond = conversion_line < base_line\n",
    "\n",
    "        # Median based trailing stop\n",
    "        period_median = self.median_period\n",
    "        trailing_stop = close.rolling(period_median).median().shift(1)\n",
    "\n",
    "        # EXIT RULE\n",
    "        exit_rule = ((CrossUp(conversion_line, base_line)) | (CrossUp(lagging_span, cloud_top)))\n",
    "        # | (CrossUp(close, trailing_stop)))\n",
    "\n",
    "        sell = exit_rule & buy.shift(1)\n",
    "        # entry price\n",
    "        self.buy_price = close.loc[entry_rule == True]\n",
    "        # exit price\n",
    "        self.sell_price = close.loc[sell == True]\n",
    "        # print (self.buy_price)\n",
    "        # print(price_cond, conv_base_crossover_cond , base_line_cond, lagging_span_cond , buy)\n",
    "        swarm_member_name = str((self.conversion_line_period, self.base_line_period,\n",
    "                                 self.leading_spanB_period, self.median_period))\n",
    "\n",
    "        return swarm_member_name, entry_rule, exit_rule"
   ]
  },
  {
   "cell_type": "code",
   "execution_count": null,
   "metadata": {
    "collapsed": false
   },
   "outputs": [],
   "source": [
    "figsize(10,5)\n",
    "px_ser.plot()\n",
    "leading_span_a.plot()\n",
    "leading_span_b.plot()\n",
    "#lagging_span.plot()"
   ]
  },
  {
   "cell_type": "code",
   "execution_count": null,
   "metadata": {
    "collapsed": false
   },
   "outputs": [],
   "source": [
    "np.arange(18)"
   ]
  },
  {
   "cell_type": "code",
   "execution_count": null,
   "metadata": {
    "collapsed": false
   },
   "outputs": [],
   "source": []
  }
 ],
 "metadata": {
  "kernelspec": {
   "display_name": "Python 3",
   "language": "python",
   "name": "python3"
  },
  "language_info": {
   "codemirror_mode": {
    "name": "ipython",
    "version": 3
   },
   "file_extension": ".py",
   "mimetype": "text/x-python",
   "name": "python",
   "nbconvert_exporter": "python",
   "pygments_lexer": "ipython3",
   "version": "3.5.2"
  }
 },
 "nbformat": 4,
 "nbformat_minor": 0
}
