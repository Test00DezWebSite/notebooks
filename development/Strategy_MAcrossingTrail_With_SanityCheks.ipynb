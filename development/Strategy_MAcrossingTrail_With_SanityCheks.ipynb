{
 "cells": [
  {
   "cell_type": "code",
   "execution_count": null,
   "metadata": {
    "collapsed": false
   },
   "outputs": [],
   "source": [
    "%pylab inline\n",
    "%load_ext autoreload\n",
    "%autoreload 2"
   ]
  },
  {
   "cell_type": "code",
   "execution_count": null,
   "metadata": {
    "collapsed": false
   },
   "outputs": [],
   "source": [
    "import sys,os\n",
    "sys.path.append('..')\n",
    "from backtester.analysis import *\n",
    "from backtester.strategy import StrategyBase, OptParam, OptParamArray\n",
    "from backtester.swarms.ranking import SwarmRanker\n",
    "from backtester.swarms.rebalancing import SwarmRebalance\n",
    "from backtester.swarms.filters import SwarmFilter\n",
    "from backtester.costs import CostsManagerEXOFixed\n",
    "from backtester.exoinfo import EXOInfo\n",
    "from backtester.swarms.rankingclasses import *\n",
    "from backtester.swarms.swarm import Swarm\n",
    "\n",
    "import pandas as pd\n",
    "import numpy as np\n",
    "import scipy"
   ]
  },
  {
   "cell_type": "code",
   "execution_count": null,
   "metadata": {
    "collapsed": false
   },
   "outputs": [],
   "source": [
    "from strategies.strategy_macross_with_trail import StrategyMACrossTrail"
   ]
  },
  {
   "cell_type": "code",
   "execution_count": null,
   "metadata": {
    "collapsed": false
   },
   "outputs": [],
   "source": [
    "from scripts.settings import *\n",
    "#try:\n",
    "#    from scripts.settings_local import *\n",
    "#except:\n",
    "#    pass\n",
    "\n",
    "from exobuilder.data.exostorage import EXOStorage\n",
    "\n",
    "storage = EXOStorage(MONGO_CONNSTR, MONGO_EXO_DB)\n",
    "\n",
    "\n",
    "exo_filter = '*'     # All \n",
    "#exo_filter = 'ES_'  # ES only\n",
    "#exo_filter = 'ES*Collar'  # ES Collars (incl Bearish, Bullish, BW and vanilla)\n",
    "\n",
    "#[print(exo) for exo in storage.exo_list(exo_filter)];"
   ]
  },
  {
   "cell_type": "markdown",
   "metadata": {},
   "source": [
    "# Valid alpha sanity check"
   ]
  },
  {
   "cell_type": "code",
   "execution_count": null,
   "metadata": {
    "collapsed": false
   },
   "outputs": [],
   "source": [
    "STRATEGY_CONTEXT = {\n",
    "    'strategy': { \n",
    "        'class': StrategyMACrossTrail,\n",
    "        'exo_name': 'ES_ContFut',        # <---- Select and paste EXO name from cell above\n",
    "        'exo_storage': storage,\n",
    "        'direction': -1,\n",
    "        'opt_params': [\n",
    "                #OptParam(name, default_value, min_value, max_value, step)\n",
    "                OptParamArray('Direction', [-1]),\n",
    "                OptParam('SlowMAPeriod', 20, 50, 70, 10),\n",
    "                OptParam('FastMAPeriod', 2, 5, 10, 5),\n",
    "                OptParam('MedianPeriod', 5, 20, 30, 1)\n",
    "            ],\n",
    "    },    \n",
    "    'swarm': {\n",
    "        'members_count': 2,\n",
    "        'ranking_class': RankerBestWithCorrel(window_size=-1, correl_threshold=0.75),\n",
    "        'rebalance_time_function': SwarmRebalance.every_friday,\n",
    "\n",
    "    },\n",
    "    'costs':{\n",
    "        'manager': CostsManagerEXOFixed,\n",
    "        'context': {\n",
    "            'costs_options': 3.0,\n",
    "            'costs_futures': 3.0,\n",
    "        }\n",
    "    }\n",
    "}"
   ]
  },
  {
   "cell_type": "code",
   "execution_count": null,
   "metadata": {
    "collapsed": false
   },
   "outputs": [],
   "source": [
    "smgr = Swarm(STRATEGY_CONTEXT)\n",
    "smgr.run_swarm()"
   ]
  },
  {
   "cell_type": "code",
   "execution_count": null,
   "metadata": {
    "collapsed": false,
    "scrolled": false
   },
   "outputs": [],
   "source": [
    "from backtester.reports.alpha_sanity_checks import AlphaSanityChecker\n",
    "\n",
    "asc = AlphaSanityChecker(smgr)\n",
    "asc.run()"
   ]
  },
  {
   "cell_type": "markdown",
   "metadata": {},
   "source": [
    "# Alpha algorithm with future reference issue"
   ]
  },
  {
   "cell_type": "code",
   "execution_count": null,
   "metadata": {
    "collapsed": false
   },
   "outputs": [],
   "source": [
    "from backtester.analysis import *\n",
    "from backtester.strategy import StrategyBase\n",
    "import pandas as pd\n",
    "import numpy as np\n",
    "\n",
    "class StrategyMACrossTrailFutRef(StrategyBase):\n",
    "    name = 'MACross'\n",
    "\n",
    "    def __init__(self, strategy_context):\n",
    "        # Initialize parent class\n",
    "        super().__init__(strategy_context)\n",
    "\n",
    "\n",
    "    @property\n",
    "    def positionsize(self):\n",
    "        \"\"\"\n",
    "        Returns volatility adjuster positions size for strategy\n",
    "        :return:\n",
    "        \"\"\"\n",
    "\n",
    "        # Defining EXO price\n",
    "        px = self.data.exo\n",
    "\n",
    "        # Test !!!!!!!!!!!!!!!!!!!!!!!!!!!!!!!!!!!!!\n",
    "        return pd.Series(1.0, index=px.index)\n",
    "\n",
    "        # Calculate position size adjusted to volatility of EXO\n",
    "        # Dollar risk per 1 volatility unit\n",
    "        risk_perunit = 100\n",
    "        risk_vola_period = 100\n",
    "\n",
    "        # Calculate volatility unit\n",
    "        # In this case we use 10-period rolling median of EXO changes\n",
    "        vola = abs(px.diff()).rolling(risk_vola_period).median()\n",
    "        # We want to risk 100$ per 1 volatility unit\n",
    "        #\n",
    "        # This type of position sizing used for calibration of swarm members\n",
    "        # After swarm generation and picking we will use portfolio based MM by Van Tharp\n",
    "        # Tailored for portfolio size and risks of particular client\n",
    "        return risk_perunit / vola\n",
    "\n",
    "    def calculate(self, params=None, save_info=False):\n",
    "        #\n",
    "        #\n",
    "        #  Params is a tripple like (50, 10, 15), where:\n",
    "        #   50 - slow MA period\n",
    "        #   10 - fast MA period\n",
    "        #   15 - median period\n",
    "        #\n",
    "        #  On every iteration of swarming algorithm, parameter set will be different.\n",
    "        #  For more information look inside: /notebooks/tmp/Swarming engine research.ipynb\n",
    "        #\n",
    "\n",
    "        if params is None:\n",
    "            # Return default parameters\n",
    "            direction, period_slow, period_fast, period_median = self.default_opts()\n",
    "        else:\n",
    "            # Unpacking optimization params\n",
    "            #  in order in self.opts definition\n",
    "            direction, period_slow, period_fast, period_median = params\n",
    "\n",
    "        # Defining EXO price\n",
    "        px = self.data.exo\n",
    "\n",
    "        #\n",
    "        #\n",
    "        # Indicator calculation\n",
    "        #\n",
    "        #\n",
    "        slow_ma = px.rolling(period_slow).mean()\n",
    "        fast_ma = px.rolling(period_fast).mean()\n",
    "        # Median based trailing stop\n",
    "        trailing_stop = px.rolling(period_median).median().shift(-1) # <------------------FUTURE REF!\n",
    "\n",
    "        # Enry/exit rules\n",
    "        entry_rule = CrossDown(fast_ma, slow_ma)\n",
    "        exit_rule = (CrossUp(fast_ma, slow_ma)) | (CrossUp(px, trailing_stop))\n",
    "\n",
    "        # Swarm_member_name must be *unique* for every swarm member\n",
    "        # We use params values for uniqueness\n",
    "        swarm_member_name = self.get_member_name(params)\n",
    "\n",
    "        #\n",
    "        # Calculation info\n",
    "        #\n",
    "        calc_info = None\n",
    "        if save_info:\n",
    "            calc_info = {'trailing_stop': trailing_stop, 'slow_ma': slow_ma, 'fast_ma': fast_ma}\n",
    "\n",
    "        return swarm_member_name, entry_rule, exit_rule, calc_info"
   ]
  },
  {
   "cell_type": "code",
   "execution_count": null,
   "metadata": {
    "collapsed": false
   },
   "outputs": [],
   "source": [
    "STRATEGY_CONTEXT = {\n",
    "    'strategy': { \n",
    "        'class': StrategyMACrossTrailFutRef,\n",
    "        'exo_name': 'ES_ContFut',        # <---- Select and paste EXO name from cell above\n",
    "        'exo_storage': storage,\n",
    "        'direction': -1,\n",
    "        'opt_params': [\n",
    "                #OptParam(name, default_value, min_value, max_value, step)\n",
    "                OptParamArray('Direction', [-1]),\n",
    "                OptParam('SlowMAPeriod', 20, 50, 70, 10),\n",
    "                OptParam('FastMAPeriod', 2, 5, 10, 5),\n",
    "                OptParam('MedianPeriod', 5, 20, 30, 1)\n",
    "            ],\n",
    "    },    \n",
    "    'swarm': {\n",
    "        'members_count': 2,\n",
    "        'ranking_class': RankerBestWithCorrel(window_size=-1, correl_threshold=0.75),\n",
    "        'rebalance_time_function': SwarmRebalance.every_friday,\n",
    "\n",
    "    },\n",
    "    'costs':{\n",
    "        'manager': CostsManagerEXOFixed,\n",
    "        'context': {\n",
    "            'costs_options': 3.0,\n",
    "            'costs_futures': 3.0,\n",
    "        }\n",
    "    }\n",
    "}"
   ]
  },
  {
   "cell_type": "code",
   "execution_count": null,
   "metadata": {
    "collapsed": false
   },
   "outputs": [],
   "source": [
    "smgr = Swarm(STRATEGY_CONTEXT)\n",
    "smgr.run_swarm()"
   ]
  },
  {
   "cell_type": "markdown",
   "metadata": {
    "collapsed": false
   },
   "source": [
    "# Sanity checks"
   ]
  },
  {
   "cell_type": "code",
   "execution_count": null,
   "metadata": {
    "collapsed": false
   },
   "outputs": [],
   "source": [
    "from backtester.reports.alpha_sanity_checks import AlphaSanityChecker\n",
    "asc = AlphaSanityChecker(smgr)\n",
    "asc.run()"
   ]
  },
  {
   "cell_type": "code",
   "execution_count": null,
   "metadata": {
    "collapsed": false
   },
   "outputs": [],
   "source": []
  }
 ],
 "metadata": {
  "anaconda-cloud": {},
  "kernelspec": {
   "display_name": "Python 3",
   "language": "python",
   "name": "python3"
  },
  "language_info": {
   "codemirror_mode": {
    "name": "ipython",
    "version": 3
   },
   "file_extension": ".py",
   "mimetype": "text/x-python",
   "name": "python",
   "nbconvert_exporter": "python",
   "pygments_lexer": "ipython3",
   "version": "3.5.2"
  },
  "widgets": {
   "state": {
    "00a8bf94d39546aeb4b6ba09d041ba9b": {
     "views": [
      {
       "cell_index": 32
      }
     ]
    },
    "014116373dad49cbbbc04ca3b1b73f47": {
     "views": [
      {
       "cell_index": 32
      }
     ]
    },
    "02832e92ff864a84b579c94f62696af0": {
     "views": [
      {
       "cell_index": 32
      }
     ]
    },
    "047b984d13ba4d6789a3039a36cc7cb1": {
     "views": [
      {
       "cell_index": 32
      }
     ]
    },
    "05b69d032c854a58a5a1ef2c333955b3": {
     "views": [
      {
       "cell_index": 32
      }
     ]
    },
    "07917d7e8c954d2c84a9114e53597e48": {
     "views": [
      {
       "cell_index": 32
      }
     ]
    },
    "07f6fd1a5aac4471911f54a95cdaefb0": {
     "views": [
      {
       "cell_index": 32
      }
     ]
    },
    "09f363c4f49848ab988f5b7fa3fb1635": {
     "views": [
      {
       "cell_index": 32
      }
     ]
    },
    "0e074a0fd7c646749569a460c42cb538": {
     "views": [
      {
       "cell_index": 32
      }
     ]
    },
    "0ff61122c1db46a780116cf204762392": {
     "views": [
      {
       "cell_index": 32
      }
     ]
    },
    "11eaa36fa6304d54861d8a4ab3b6ce98": {
     "views": [
      {
       "cell_index": 32
      }
     ]
    },
    "152ebaeb71404a249cae926d91f4124e": {
     "views": [
      {
       "cell_index": 32
      }
     ]
    },
    "1550213e8b4a49cfb9d092dfccd637fd": {
     "views": [
      {
       "cell_index": 32
      }
     ]
    },
    "1630a0f0e86e4db6924968536276c469": {
     "views": [
      {
       "cell_index": 32
      }
     ]
    },
    "165afd18e9464d2f81739d4859378762": {
     "views": [
      {
       "cell_index": 32
      }
     ]
    },
    "184e7bb58cf747c0a3d0e0b6ff397e62": {
     "views": [
      {
       "cell_index": 32
      }
     ]
    },
    "190bb95eab8c46f083fd7786d9cea551": {
     "views": [
      {
       "cell_index": 32
      }
     ]
    },
    "1969322b87944c49b617c6735a775395": {
     "views": [
      {
       "cell_index": 32
      }
     ]
    },
    "1a315bcc1ddc4f49b1642d9d9737cc12": {
     "views": [
      {
       "cell_index": 32
      }
     ]
    },
    "1ab89931d34f4af2868112d9b9d2c9eb": {
     "views": [
      {
       "cell_index": 32
      }
     ]
    },
    "1aba0555e8b34a4c911b66b580ec19ed": {
     "views": [
      {
       "cell_index": 32
      }
     ]
    },
    "1ac4b111f71847bca2e4576df1878a13": {
     "views": [
      {
       "cell_index": 32
      }
     ]
    },
    "1df38861384a4dd589a0800f5ce88f53": {
     "views": [
      {
       "cell_index": 32
      }
     ]
    },
    "1e30194890d949a8b48f85dd00587145": {
     "views": [
      {
       "cell_index": 32
      }
     ]
    },
    "20621025d7cf4223a8602438cce6bbac": {
     "views": [
      {
       "cell_index": 32
      }
     ]
    },
    "2644d61e3d444d54b5a600b4d2bb3ff1": {
     "views": [
      {
       "cell_index": 32
      }
     ]
    },
    "2653261ff69c4c04b83269124eb3a9aa": {
     "views": [
      {
       "cell_index": 32
      }
     ]
    },
    "28240eb729f54d51875f04f3a735d929": {
     "views": [
      {
       "cell_index": 32
      }
     ]
    },
    "28a4b816d9b54ec6b7d530a33cf8fec2": {
     "views": [
      {
       "cell_index": 32
      }
     ]
    },
    "28ac3dfc41e842b5ab8181957fa2e253": {
     "views": [
      {
       "cell_index": 32
      }
     ]
    },
    "2a663c32b46048aa800c4a6aa1cb8720": {
     "views": [
      {
       "cell_index": 32
      }
     ]
    },
    "2b92c0cd7cd84e4ea1a18571eb56a841": {
     "views": [
      {
       "cell_index": 32
      }
     ]
    },
    "2bd4ed121cf74a7384ef931a2a0243fc": {
     "views": [
      {
       "cell_index": 32
      }
     ]
    },
    "2c9e1d64fb944f2cbcd03592ce02a28a": {
     "views": [
      {
       "cell_index": 32
      }
     ]
    },
    "2cc6bfa443f64c74a1c69fd5f20e4fd9": {
     "views": [
      {
       "cell_index": 32
      }
     ]
    },
    "2e4215d495f344f88ddbec11611aecff": {
     "views": [
      {
       "cell_index": 32
      }
     ]
    },
    "2f1a3a15fa9247f6921629919222eddd": {
     "views": [
      {
       "cell_index": 32
      }
     ]
    },
    "2fbf4edff3c6458ba0792aeb637b4145": {
     "views": [
      {
       "cell_index": 32
      }
     ]
    },
    "30246823d53b436a83e24b06153c915b": {
     "views": [
      {
       "cell_index": 32
      }
     ]
    },
    "3150276477a742fcac4d79912a49b76d": {
     "views": [
      {
       "cell_index": 32
      }
     ]
    },
    "31c741424ed748e5b6f11fb50df1c214": {
     "views": [
      {
       "cell_index": 32
      }
     ]
    },
    "3227f489368c4d3a96cedef30577e965": {
     "views": [
      {
       "cell_index": 32
      }
     ]
    },
    "36107875a74c480195fd2b541352e842": {
     "views": [
      {
       "cell_index": 32
      }
     ]
    },
    "3797f817eb934eacb1a9800d09311c0e": {
     "views": [
      {
       "cell_index": 32
      }
     ]
    },
    "38fba1ecb77e421982f35069ec4ece29": {
     "views": [
      {
       "cell_index": 32
      }
     ]
    },
    "3b014ae2474d4ba4a5220d7ad23d62be": {
     "views": [
      {
       "cell_index": 32
      }
     ]
    },
    "3b129e8bf86c4b0bbb0e2318f90f18d4": {
     "views": [
      {
       "cell_index": 32
      }
     ]
    },
    "3d54fc13ff944a5db58c882c13183673": {
     "views": [
      {
       "cell_index": 32
      }
     ]
    },
    "3e08726ce2c241f8b785bc103f0970e2": {
     "views": [
      {
       "cell_index": 32
      }
     ]
    },
    "3ed19784001648a5aece47a3cac6b566": {
     "views": [
      {
       "cell_index": 32
      }
     ]
    },
    "41382f0771324c08abf03de0fc31644d": {
     "views": [
      {
       "cell_index": 32
      }
     ]
    },
    "432a05d3051e4040b2f26e747a46fe37": {
     "views": [
      {
       "cell_index": 32
      }
     ]
    },
    "4359730cc3f74444b03ca39095427650": {
     "views": [
      {
       "cell_index": 32
      }
     ]
    },
    "46ad887fb1b946cd88c136dac207b7ab": {
     "views": [
      {
       "cell_index": 32
      }
     ]
    },
    "46c687754c3048dea296578f63e2d400": {
     "views": [
      {
       "cell_index": 32
      }
     ]
    },
    "47649ff7cbeb4ff9b8745df8911e761c": {
     "views": [
      {
       "cell_index": 32
      }
     ]
    },
    "4995bd9ae8fc4a5c99ee89bd494f97f5": {
     "views": [
      {
       "cell_index": 32
      }
     ]
    },
    "4ab85b36774a49cbafb9b0725628f56c": {
     "views": [
      {
       "cell_index": 32
      }
     ]
    },
    "4b0ba0d540d64cf3936a67b8e5d66289": {
     "views": [
      {
       "cell_index": 32
      }
     ]
    },
    "4c6180c4d38a4b5abf71173f979337f4": {
     "views": [
      {
       "cell_index": 32
      }
     ]
    },
    "4cb8cd85961141dfafdfb0b1589aaec6": {
     "views": [
      {
       "cell_index": 32
      }
     ]
    },
    "4d2df5bc2cd040b7adcf16aa88607a83": {
     "views": [
      {
       "cell_index": 32
      }
     ]
    },
    "4dd0c275a7d64a168065c4b7cc873e14": {
     "views": [
      {
       "cell_index": 32
      }
     ]
    },
    "4dd9ef784331411b99571bafd7fb5c17": {
     "views": [
      {
       "cell_index": 32
      }
     ]
    },
    "4e9be473a329494082c19a1f249f981b": {
     "views": [
      {
       "cell_index": 32
      }
     ]
    },
    "4ec3238398c147ea8614f75705e13c80": {
     "views": [
      {
       "cell_index": 32
      }
     ]
    },
    "4fdae13e2aeb43dba0cbbb03d2d394ad": {
     "views": [
      {
       "cell_index": 32
      }
     ]
    },
    "50320e8cc0304bd088766c356016d0c0": {
     "views": [
      {
       "cell_index": 32
      }
     ]
    },
    "578c105e9a9f41f08a80a0af72d35473": {
     "views": [
      {
       "cell_index": 32
      }
     ]
    },
    "58471e89f4254b8a8097197723c5e1fb": {
     "views": [
      {
       "cell_index": 32
      }
     ]
    },
    "5949342f098a4948afa656c290a2b903": {
     "views": [
      {
       "cell_index": 32
      }
     ]
    },
    "5aae1ef847a3421eaf191088eb18bf62": {
     "views": [
      {
       "cell_index": 32
      }
     ]
    },
    "5ac5ad7334d54bb3b4a2df4f05d586f4": {
     "views": [
      {
       "cell_index": 32
      }
     ]
    },
    "5c0edc22f1004517b23ae9229b15a9f3": {
     "views": [
      {
       "cell_index": 32
      }
     ]
    },
    "5ee2401bc6d840218c3febf3c79a277c": {
     "views": [
      {
       "cell_index": 32
      }
     ]
    },
    "5f989c0e22674752a321d1b0af3c0c9b": {
     "views": [
      {
       "cell_index": 32
      }
     ]
    },
    "6047c70f7a824f6c9e3d93c735dd594e": {
     "views": [
      {
       "cell_index": 32
      }
     ]
    },
    "60ed590a15aa4bf19153486f080a5d9d": {
     "views": [
      {
       "cell_index": 32
      }
     ]
    },
    "611dc9acaeee4e0e903d77f4a64eb5b5": {
     "views": [
      {
       "cell_index": 32
      }
     ]
    },
    "618f15db1edf4b3ca24734ebcfb16659": {
     "views": [
      {
       "cell_index": 32
      }
     ]
    },
    "61beec98f35b4779b21aecc237260529": {
     "views": [
      {
       "cell_index": 32
      }
     ]
    },
    "620fb0e2bf4e4daea1fb56122b6affaa": {
     "views": [
      {
       "cell_index": 32
      }
     ]
    },
    "63a4ba8a49e04f42b622c150d35c37ec": {
     "views": [
      {
       "cell_index": 32
      }
     ]
    },
    "64af4b22894044eeac0e822748e0d510": {
     "views": [
      {
       "cell_index": 32
      }
     ]
    },
    "658f40d8c5064803adfdb9d4ef4257db": {
     "views": [
      {
       "cell_index": 32
      }
     ]
    },
    "68743b95734043479f17e3e830cb340b": {
     "views": [
      {
       "cell_index": 32
      }
     ]
    },
    "6af526c734554e469aef12c3203eb057": {
     "views": [
      {
       "cell_index": 32
      }
     ]
    },
    "6e850484196d4aec999f58cc40dbc8db": {
     "views": [
      {
       "cell_index": 32
      }
     ]
    },
    "6ea9be6ee28146c2ac51e732ffee72ca": {
     "views": [
      {
       "cell_index": 32
      }
     ]
    },
    "6f0e56e5ac20439fb6b42309f8dc2b0f": {
     "views": [
      {
       "cell_index": 32
      }
     ]
    },
    "6f2d832510f04368896c5e192f070392": {
     "views": [
      {
       "cell_index": 32
      }
     ]
    },
    "71c8868b6c95477b81311f07d60c129b": {
     "views": [
      {
       "cell_index": 32
      }
     ]
    },
    "72fc9b69e78a45518d597479848dcf67": {
     "views": [
      {
       "cell_index": 32
      }
     ]
    },
    "77eeab72afd0428f914de819f15c564d": {
     "views": [
      {
       "cell_index": 32
      }
     ]
    },
    "78eeb878a0c642b99293fba53ffb047d": {
     "views": [
      {
       "cell_index": 32
      }
     ]
    },
    "79628c4d78d94379850590fb68d99725": {
     "views": [
      {
       "cell_index": 32
      }
     ]
    },
    "79e6d699408f4c6b911049dbed75c098": {
     "views": [
      {
       "cell_index": 32
      }
     ]
    },
    "7c48054137f9468d82ca2151a7bc2995": {
     "views": [
      {
       "cell_index": 32
      }
     ]
    },
    "7d8bf7f5bbc946449374484799b75a27": {
     "views": [
      {
       "cell_index": 32
      }
     ]
    },
    "808e3c0c05e54b57b0d83966d7fc352d": {
     "views": [
      {
       "cell_index": 32
      }
     ]
    },
    "812c36f012f24a7eb41caab7c99d3a0d": {
     "views": [
      {
       "cell_index": 32
      }
     ]
    },
    "8144be8f13f64f4e8c4466ba10559f86": {
     "views": [
      {
       "cell_index": 32
      }
     ]
    },
    "81a4bba2df6549a29028712c954475a6": {
     "views": [
      {
       "cell_index": 32
      }
     ]
    },
    "81ab569505c0477f83d4471e46e3f0ca": {
     "views": [
      {
       "cell_index": 32
      }
     ]
    },
    "83168feca6dc48a6932c94bb796dd331": {
     "views": [
      {
       "cell_index": 32
      }
     ]
    },
    "83fbae61b5a34f44aff94565e2cfe9f8": {
     "views": [
      {
       "cell_index": 32
      }
     ]
    },
    "84d40a57eb96452f81a22f66113a15bb": {
     "views": [
      {
       "cell_index": 32
      }
     ]
    },
    "85a14af420f9494a9542f68db84b5f5e": {
     "views": [
      {
       "cell_index": 32
      }
     ]
    },
    "86cce06c32b34728877a5ec91def66ea": {
     "views": [
      {
       "cell_index": 32
      }
     ]
    },
    "883b5ca7577940f6b003b684fbcb4d70": {
     "views": [
      {
       "cell_index": 32
      }
     ]
    },
    "89affd0a825f40789326085fa58c0007": {
     "views": [
      {
       "cell_index": 32
      }
     ]
    },
    "8ad92214711243f181bff6d8c8ab25e6": {
     "views": [
      {
       "cell_index": 32
      }
     ]
    },
    "8cc54ea834de4cf7901f65c148cf914f": {
     "views": [
      {
       "cell_index": 32
      }
     ]
    },
    "8ceb5ee6a722426d93439f85a9efc70f": {
     "views": [
      {
       "cell_index": 32
      }
     ]
    },
    "905fdc3f47f045a59e5d8e45942c233b": {
     "views": [
      {
       "cell_index": 32
      }
     ]
    },
    "95b29fe121534308b4bff6f7a8d1f037": {
     "views": [
      {
       "cell_index": 32
      }
     ]
    },
    "95cbf4662f1c41a39ed0e32cfc781d81": {
     "views": [
      {
       "cell_index": 32
      }
     ]
    },
    "95d280db1cca4b4dbad16427ddfdedc4": {
     "views": [
      {
       "cell_index": 32
      }
     ]
    },
    "95ddf904af444033adbdacc301abac6e": {
     "views": [
      {
       "cell_index": 32
      }
     ]
    },
    "96491adc0f03472caae9038872e6622b": {
     "views": [
      {
       "cell_index": 32
      }
     ]
    },
    "98dc66252c7c47d281fda6704cf57da5": {
     "views": [
      {
       "cell_index": 32
      }
     ]
    },
    "992fc4297d8f4151b3879c152713dacd": {
     "views": [
      {
       "cell_index": 32
      }
     ]
    },
    "9a1fff29dadb45f7992171b903454ba6": {
     "views": [
      {
       "cell_index": 32
      }
     ]
    },
    "9ad629b001e24c0d8ada764e61e99542": {
     "views": [
      {
       "cell_index": 32
      }
     ]
    },
    "9c6694578ecd4bf39803ba1ecc8ff010": {
     "views": [
      {
       "cell_index": 32
      }
     ]
    },
    "9d8df9bd12894f4386ad6a2567375791": {
     "views": [
      {
       "cell_index": 32
      }
     ]
    },
    "9df5a74c23c64d478f10e15d29ef9503": {
     "views": [
      {
       "cell_index": 32
      }
     ]
    },
    "9e452ae37b0242549d3c2131eae98d7d": {
     "views": [
      {
       "cell_index": 32
      }
     ]
    },
    "9f16b2b95b8f453e9a0f7dfa127992d8": {
     "views": [
      {
       "cell_index": 32
      }
     ]
    },
    "9f3414a33235417c8a31ade306b58ca3": {
     "views": [
      {
       "cell_index": 32
      }
     ]
    },
    "a2bddd665ea74ba3964077c560c2b887": {
     "views": [
      {
       "cell_index": 32
      }
     ]
    },
    "a592114a6717429fa352920951733e4a": {
     "views": [
      {
       "cell_index": 32
      }
     ]
    },
    "a6796e8cd2014582abb27885016c42b8": {
     "views": [
      {
       "cell_index": 32
      }
     ]
    },
    "a9547af062a847178dda03c7b8e18d04": {
     "views": [
      {
       "cell_index": 32
      }
     ]
    },
    "a9bd3daa9dd547baa3a7c7b2a1e564a2": {
     "views": [
      {
       "cell_index": 32
      }
     ]
    },
    "aa458d15ca3e4963a940b55e5a92a9fb": {
     "views": [
      {
       "cell_index": 32
      }
     ]
    },
    "ab9570ae4afd463bae55f5a7b9d12f01": {
     "views": [
      {
       "cell_index": 32
      }
     ]
    },
    "ac9ba7d2676c47078323d873b0e22ee4": {
     "views": [
      {
       "cell_index": 32
      }
     ]
    },
    "ae46762fb329406598d754a507a83ce5": {
     "views": [
      {
       "cell_index": 32
      }
     ]
    },
    "aecf14b741c14d68a795e599d3477306": {
     "views": [
      {
       "cell_index": 32
      }
     ]
    },
    "b058faef109344259021acaf0298b212": {
     "views": [
      {
       "cell_index": 32
      }
     ]
    },
    "b1079cde482d4346b144b1315031c5ff": {
     "views": [
      {
       "cell_index": 32
      }
     ]
    },
    "b49e1107a22044da80400cbe7ffc6d17": {
     "views": [
      {
       "cell_index": 32
      }
     ]
    },
    "b4d50b67004e41eab6b9d8d8e1d1a0bb": {
     "views": [
      {
       "cell_index": 32
      }
     ]
    },
    "b57d24b198a34d8383888b5d3546d5a5": {
     "views": [
      {
       "cell_index": 32
      }
     ]
    },
    "b65e0b6f33b544b7a110535324b836b6": {
     "views": [
      {
       "cell_index": 6
      }
     ]
    },
    "b670e816415c451d9f5c39333bd96b38": {
     "views": [
      {
       "cell_index": 32
      }
     ]
    },
    "b7235e51cb554f49b932128666c90321": {
     "views": [
      {
       "cell_index": 32
      }
     ]
    },
    "b8c248f609884d61985b55ad9c0e18f7": {
     "views": [
      {
       "cell_index": 32
      }
     ]
    },
    "b8dfa501274740c58fdfe6aac38c8008": {
     "views": [
      {
       "cell_index": 32
      }
     ]
    },
    "bde6f10997c043e586592a7cd38208de": {
     "views": [
      {
       "cell_index": 32
      }
     ]
    },
    "be41d61431ad40a4994a0576c2ea989a": {
     "views": [
      {
       "cell_index": 32
      }
     ]
    },
    "c270a7ef78c34357baf747e2231d9480": {
     "views": [
      {
       "cell_index": 32
      }
     ]
    },
    "c62f8dc5b4314e22ae2e9d6891f27089": {
     "views": [
      {
       "cell_index": 32
      }
     ]
    },
    "c67e1ee99c8942e98c4488797866c302": {
     "views": [
      {
       "cell_index": 32
      }
     ]
    },
    "c73447a93cab4fdca67c5fe93705f7e6": {
     "views": [
      {
       "cell_index": 32
      }
     ]
    },
    "ca0606149d1940ce9475f4235d6af962": {
     "views": [
      {
       "cell_index": 32
      }
     ]
    },
    "caf3562e51604975939522e603092f1c": {
     "views": [
      {
       "cell_index": 32
      }
     ]
    },
    "cb8fdaea93164d10b2bec2df5ea47869": {
     "views": [
      {
       "cell_index": 32
      }
     ]
    },
    "cb9bd60088da4b37bccc00cafcd80fd6": {
     "views": [
      {
       "cell_index": 32
      }
     ]
    },
    "cffdf7f0f010448a99b335f556b83788": {
     "views": [
      {
       "cell_index": 32
      }
     ]
    },
    "d14db26a11a946ffb6efde0e3db83e1d": {
     "views": [
      {
       "cell_index": 32
      }
     ]
    },
    "d2858bf7610b40fd8b3f27f85a96f59f": {
     "views": [
      {
       "cell_index": 32
      }
     ]
    },
    "d3320acf9bd743f39335b39c355d4a44": {
     "views": [
      {
       "cell_index": 32
      }
     ]
    },
    "d34326728df14ff596c8668af0d14ed9": {
     "views": [
      {
       "cell_index": 32
      }
     ]
    },
    "d413410516e947b6b7fca67aeaa2cdd9": {
     "views": [
      {
       "cell_index": 32
      }
     ]
    },
    "d42ce2f433a7492daeaaf945f90c5f94": {
     "views": [
      {
       "cell_index": 32
      }
     ]
    },
    "d4e8a87bb263494692d09bcebc3bdba5": {
     "views": [
      {
       "cell_index": 32
      }
     ]
    },
    "d5f2df0e773c410da7a528399f0f558d": {
     "views": [
      {
       "cell_index": 32
      }
     ]
    },
    "d7f10114ed09472ca52135f65c8d53a4": {
     "views": [
      {
       "cell_index": 32
      }
     ]
    },
    "d886d5572a40420ca007ff425fc46a9f": {
     "views": [
      {
       "cell_index": 32
      }
     ]
    },
    "da0b8135991741b9969cc217d7922359": {
     "views": [
      {
       "cell_index": 32
      }
     ]
    },
    "dc5f40f17c3744748fee98cddacb1258": {
     "views": [
      {
       "cell_index": 32
      }
     ]
    },
    "dc8b3aa9651a431f9b378c35dc06922e": {
     "views": [
      {
       "cell_index": 32
      }
     ]
    },
    "dec4072dfe6e45e1a7b8375a3efd1f02": {
     "views": [
      {
       "cell_index": 32
      }
     ]
    },
    "e034447730744d8abf42c3b165b90f64": {
     "views": [
      {
       "cell_index": 32
      }
     ]
    },
    "e0a54b7dcb774106996e6e08394a5d3a": {
     "views": [
      {
       "cell_index": 32
      }
     ]
    },
    "e1c1d0bc994f4c45b36af136c1963bd8": {
     "views": [
      {
       "cell_index": 32
      }
     ]
    },
    "e3caeb2683d24b27b7cdd8247509c034": {
     "views": [
      {
       "cell_index": 32
      }
     ]
    },
    "e73a6c02dc864a289ad218ee85e7933d": {
     "views": [
      {
       "cell_index": 33
      }
     ]
    },
    "e797786486b849869f456eaf1992a080": {
     "views": [
      {
       "cell_index": 32
      }
     ]
    },
    "e7c7e7ae657b4bdbb5bc88a3624eccba": {
     "views": [
      {
       "cell_index": 32
      }
     ]
    },
    "ecdb3f37632b4aec8c339863fe91c1c2": {
     "views": [
      {
       "cell_index": 32
      }
     ]
    },
    "ef1a882804834cb4ade36bca86af2a2a": {
     "views": [
      {
       "cell_index": 32
      }
     ]
    },
    "ef847a94ad5444ad8db90022e9e48025": {
     "views": [
      {
       "cell_index": 32
      }
     ]
    },
    "ef8a94b6daf44703809e7a8f8563b942": {
     "views": [
      {
       "cell_index": 32
      }
     ]
    },
    "f11f5274d77c4bbba2d8498a86d1567c": {
     "views": [
      {
       "cell_index": 32
      }
     ]
    },
    "f408e468e8374b05b9b13216efba5d63": {
     "views": [
      {
       "cell_index": 32
      }
     ]
    },
    "f4a4f9e20364442880d26d79820d68bb": {
     "views": [
      {
       "cell_index": 32
      }
     ]
    },
    "f57a6eab365346bf895ad68cddb90c57": {
     "views": [
      {
       "cell_index": 32
      }
     ]
    },
    "f5e5a8b48c0c40a0a1476f09afabacb5": {
     "views": [
      {
       "cell_index": 32
      }
     ]
    },
    "fa8a50bf088f49db956e844145f2efac": {
     "views": [
      {
       "cell_index": 32
      }
     ]
    },
    "fba90cbdfdb64a4b94d6a09588835d3e": {
     "views": [
      {
       "cell_index": 32
      }
     ]
    },
    "fc48528dbc2646f3b3be72e3d3555da8": {
     "views": [
      {
       "cell_index": 32
      }
     ]
    },
    "fcd195fa84d343739ede8a6b77542fae": {
     "views": [
      {
       "cell_index": 32
      }
     ]
    },
    "fe10038d941542a4b4df303dfd5a1bff": {
     "views": [
      {
       "cell_index": 32
      }
     ]
    },
    "fe9db32cdce940ed972ea3968e0c3665": {
     "views": [
      {
       "cell_index": 32
      }
     ]
    },
    "fea6e31aa33f4170abaf794fb8ce4308": {
     "views": [
      {
       "cell_index": 32
      }
     ]
    },
    "ff1cf1a83e50413bb326d7f83d3f702c": {
     "views": [
      {
       "cell_index": 32
      }
     ]
    },
    "ffd1af6db48b43ec85ac3e447ad5c1a0": {
     "views": [
      {
       "cell_index": 32
      }
     ]
    }
   },
   "version": "1.2.0"
  }
 },
 "nbformat": 4,
 "nbformat_minor": 0
}
