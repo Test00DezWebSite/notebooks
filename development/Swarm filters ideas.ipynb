{
 "cells": [
  {
   "cell_type": "code",
   "execution_count": null,
   "metadata": {
    "collapsed": false
   },
   "outputs": [],
   "source": [
    "import sys,os\n",
    "sys.path.append('..')\n",
    "sys.path.append('../..')\n",
    "from backtester import matlab, backtester\n",
    "from backtester.analysis import *\n",
    "from backtester.swarms.swarm import Swarm\n",
    "from backtester.exoinfo import EXOInfo\n",
    "\n",
    "import pandas as pd\n",
    "import numpy as np\n",
    "import scipy\n",
    "\n",
    "import glob\n",
    "from pandas.tseries.offsets import *"
   ]
  },
  {
   "cell_type": "code",
   "execution_count": null,
   "metadata": {
    "collapsed": false,
    "scrolled": false
   },
   "outputs": [],
   "source": [
    "%pylab inline\n",
    "%load_ext autoreload\n",
    "%autoreload 2\n",
    "\n",
    "figsize(20,10)"
   ]
  },
  {
   "cell_type": "markdown",
   "metadata": {},
   "source": [
    "## Rng strategies"
   ]
  },
  {
   "cell_type": "code",
   "execution_count": null,
   "metadata": {
    "collapsed": false
   },
   "outputs": [],
   "source": [
    "#\n",
    "# random time series\n",
    "#\n",
    "df = pd.DataFrame()\n",
    "for i in range(10):\n",
    "    \n",
    "    date = pd.date_range(start='2015-01', end='2016-10', freq='D')\n",
    "    price = np.random.randint(-100, 102, size=len(date))\n",
    "    \n",
    "    ser = pd.Series(price, index=date, name='rng_system'+str(i))\n",
    "    df['rng_system'+str(i)] = ser.cumsum()"
   ]
  },
  {
   "cell_type": "code",
   "execution_count": null,
   "metadata": {
    "collapsed": false
   },
   "outputs": [],
   "source": [
    "eqty = df.sum(axis=1)\n",
    "eqty.plot()\n",
    "#eqty.rolling(5).max().plot()\n",
    "#eqty.rolling(5).min().plot()\n",
    "#(eqty - eqty.rolling().max()).plot(secondary_y=True)\n",
    "#(eqty.rolling(5).max() - eqty.rolling(5).min()).plot(secondary_y=True)\n",
    "(eqty.rolling(2).max() - eqty.rolling(2).min()).rank(pct=True).plot(secondary_y=True)"
   ]
  },
  {
   "cell_type": "code",
   "execution_count": null,
   "metadata": {
    "collapsed": false
   },
   "outputs": [],
   "source": [
    "swarm_filter = pd.DataFrame()\n",
    "\n",
    "for col in df.columns:\n",
    "    eqty = df[col]\n",
    "    \n",
    "    #eqty.plot()\n",
    "    #eqty.rolling(2).max().plot()\n",
    "    if swarm_filter.size == 0:    \n",
    "        #swarm_filter[col] = (eqty - eqty.rolling(10).max())\n",
    "        swarm_filter[col] = (eqty - eqty.rolling(10).mean())\n",
    "    else:\n",
    "        #swarm_filter[col] = (eqty - eqty.rolling(10).max())\n",
    "        swarm_filter[col] = (eqty - eqty.rolling(10).mean())"
   ]
  },
  {
   "cell_type": "code",
   "execution_count": null,
   "metadata": {
    "collapsed": false
   },
   "outputs": [],
   "source": [
    "df.plot()\n",
    "#swarm_filter.mean(1).plot(secondary_y=True)"
   ]
  },
  {
   "cell_type": "code",
   "execution_count": null,
   "metadata": {
    "collapsed": false
   },
   "outputs": [],
   "source": [
    "df.sum(axis=1).plot()\n",
    "df.sum(axis=1).rolling(10).median().plot()\n",
    "#swarm_filter.mean(1).rolling(10).mean().plot(secondary_y=True)\n",
    "#swarm_filter.mean(1).plot(secondary_y=True)\n",
    "axhline(0)"
   ]
  },
  {
   "cell_type": "code",
   "execution_count": null,
   "metadata": {
    "collapsed": false
   },
   "outputs": [],
   "source": [
    "eqty = df.sum(axis=1).diff()\n",
    "eqty_filter = swarm_filter.mean(1).bfill()\n",
    "\n",
    "filtered_eqty = eqty.copy()\n",
    "\n",
    "\n",
    "\n",
    "for i in range(len(eqty)):\n",
    "    if i > 0:\n",
    "        if eqty_filter.shift(1)[i] > 0:\n",
    "            filtered_eqty[i] = eqty[i]\n",
    "            last_value = eqty[i]\n",
    "            \n",
    "        elif eqty_filter.shift(1)[i] < 0:\n",
    "            filtered_eqty[i] = last_value\n",
    "            last_value = 0\n",
    "        "
   ]
  },
  {
   "cell_type": "code",
   "execution_count": null,
   "metadata": {
    "collapsed": false
   },
   "outputs": [],
   "source": [
    "filtered_eqty.plot()"
   ]
  },
  {
   "cell_type": "code",
   "execution_count": null,
   "metadata": {
    "collapsed": false
   },
   "outputs": [],
   "source": [
    "filtered_eqty.cumsum().plot()"
   ]
  },
  {
   "cell_type": "code",
   "execution_count": null,
   "metadata": {
    "collapsed": false
   },
   "outputs": [],
   "source": []
  }
 ],
 "metadata": {
  "kernelspec": {
   "display_name": "Python 3",
   "language": "python",
   "name": "python3"
  },
  "language_info": {
   "codemirror_mode": {
    "name": "ipython",
    "version": 3
   },
   "file_extension": ".py",
   "mimetype": "text/x-python",
   "name": "python",
   "nbconvert_exporter": "python",
   "pygments_lexer": "ipython3",
   "version": "3.5.2"
  }
 },
 "nbformat": 4,
 "nbformat_minor": 0
}
