{
 "cells": [
  {
   "cell_type": "code",
   "execution_count": null,
   "metadata": {
    "collapsed": false
   },
   "outputs": [],
   "source": [
    "import sys\n",
    "sys.path.append('../..')\n",
    "from backtester import matlab, backtester\n",
    "from backtester.analysis import *\n",
    "import pandas as pd\n",
    "import numpy as np\n",
    "import glob, os\n",
    "\n",
    "import itertools\n",
    "\n",
    "from backtester.exoinfo import EXOInfo\n",
    "from exobuilder.data.exostorage import EXOStorage\n",
    "from IPython.core.display import display, HTML\n",
    "\n",
    "import pandas as pd\n",
    "import numpy as np\n",
    "import scipy\n",
    "import pprint\n",
    "\n",
    "%pylab inline\n",
    "figsize(20,10)"
   ]
  },
  {
   "cell_type": "code",
   "execution_count": null,
   "metadata": {
    "collapsed": false
   },
   "outputs": [],
   "source": [
    "#\n",
    "# random time series\n",
    "#\n",
    "df = pd.DataFrame()\n",
    "for i in range(100):\n",
    "    \n",
    "    date = pd.date_range(start='2015-01', end='2016-10', freq='D')\n",
    "    price = np.random.randint(-100, 101, size=len(date))\n",
    "    \n",
    "    ser = pd.Series(price, index=date, name='rng_system'+str(i))\n",
    "    df['rng_system'+str(i)] = ser.cumsum()"
   ]
  },
  {
   "cell_type": "code",
   "execution_count": null,
   "metadata": {
    "collapsed": false
   },
   "outputs": [],
   "source": [
    "# Only Cont Fut Flag\n",
    "only_cont_fut = True"
   ]
  },
  {
   "cell_type": "code",
   "execution_count": null,
   "metadata": {
    "collapsed": false,
    "scrolled": false
   },
   "outputs": [],
   "source": [
    "# Loading global setting for MongoDB etc.\n",
    "from scripts.settings import *\n",
    "\n",
    "try:\n",
    "    from scripts.settings_local import *\n",
    "except:\n",
    "    pass\n",
    "\n",
    "storage = EXOStorage(MONGO_CONNSTR, MONGO_EXO_DB)\n",
    "pp = pprint.PrettyPrinter(indent=4)\n",
    "\n",
    "exo_list = storage.exo_list()\n",
    "pp.pprint(exo_list)\n",
    "\n",
    "\n",
    "df = pd.DataFrame()\n",
    "\n",
    "for e in exo_list:\n",
    "    exo_series, exo_dict = storage.load_series(e)\n",
    "    if only_cont_fut == True:   \n",
    "        if 'Fut' in exo_dict['name']:   \n",
    "            exo_series = exo_series[exo_series.columns[0]]\n",
    "            df[exo_dict['name']] = exo_series\n",
    "            \n",
    "    if only_cont_fut == False:\n",
    "        exo_series = exo_series[exo_series.columns[0]]\n",
    "        df[exo_dict['name']] = exo_series\n",
    "#exo_series.plot()"
   ]
  },
  {
   "cell_type": "code",
   "execution_count": null,
   "metadata": {
    "collapsed": false
   },
   "outputs": [],
   "source": [
    "df.head()"
   ]
  },
  {
   "cell_type": "code",
   "execution_count": null,
   "metadata": {
    "collapsed": false
   },
   "outputs": [],
   "source": [
    "px_ser = df.CL_ContFut"
   ]
  },
  {
   "cell_type": "code",
   "execution_count": null,
   "metadata": {
    "collapsed": false
   },
   "outputs": [],
   "source": [
    "'''\n",
    "Tenkan-sen (Conversion Line): (9-period high + 9-period low)/2)) \n",
    "\n",
    "The default setting is 9 periods and can be adjusted. On a daily \n",
    "chart, this line is the mid point of the 9 day high-low range, \n",
    "which is almost two weeks. \n",
    "'''\n",
    "conversion_line_period = 9 # subject of optimization\n",
    "\n",
    "conversion_line_high = px_ser.rolling(window=conversion_line_period).max()\n",
    "conversion_line_low = px_ser.rolling(window=conversion_line_period).min()\n",
    "\n",
    "conversion_line = (conversion_line_high + conversion_line_low) / 2\n",
    "\n",
    "'''\n",
    "Kijun-sen (Base Line): (26-period high + 26-period low)/2)) \n",
    "\n",
    "The default setting is 26 periods and can be adjusted. On a daily \n",
    "chart, this line is the mid point of the 26 day high-low range, \n",
    "which is almost one month).\n",
    "'''\n",
    "base_line_period = 26 # subject of optimization\n",
    "\n",
    "base_line_high = px_ser.rolling(window=base_line_period).max()\n",
    "base_line_low = px_ser.rolling(window=base_line_period).min()\n",
    "\n",
    "base_line = (base_line_high + base_line_low) / 2\n",
    "\n",
    "'''\n",
    "Senkou Span A (Leading Span A): (Conversion Line + Base Line)/2)) \n",
    "\n",
    "This is the midpoint between the Conversion Line and the Base Line. \n",
    "The Leading Span A forms one of the two Cloud boundaries. It is \n",
    "referred to as \"Leading\" because it is plotted 26 periods in the future\n",
    "and forms the faster Cloud boundary. \n",
    "'''\n",
    "leading_span_lookahead_period = 26 # subject of optimization\n",
    "leading_span_a = ((conversion_line + base_line) / 2).shift(leading_span_lookahead_period)\n",
    "\n",
    "# straightforward time shifting to 'leading_span_lookahead_period' number of days\n",
    "#leading_span_a.index = leading_span_a.index + pd.DateOffset(days=leading_span_lookahead_period)\n",
    "\n",
    "'''\n",
    "Senkou Span B (Leading Span B): (52-period high + 52-period low)/2)) \n",
    "\n",
    "On the daily chart, this line is the mid point of the 52 day high-low range, \n",
    "which is a little less than 3 months. The default calculation setting is \n",
    "52 periods, but can be adjusted. This value is plotted 26 periods in the future \n",
    "and forms the slower Cloud boundary.\n",
    "'''\n",
    "leading_span_b_period = 52 # subject of optimization\n",
    "leading_span_b = ((px_ser.rolling(window=leading_span_b_period).max() + \n",
    "                   px_ser.rolling(window=leading_span_b_period).min()) / 2).shift(leading_span_lookahead_period)\n",
    "\n",
    "# straightforward time shifting to 'leading_span_lookahead_period' number of days\n",
    "#leading_span_b.index = leading_span_b.index + pd.DateOffset(days=leading_span_lookahead_period)\n",
    "\n",
    "'''\n",
    "Chikou Span (Lagging Span): Close plotted 26 days in the past\n",
    "The default setting is 26 periods, but can be adjusted.\n",
    "'''\n",
    "lagging_span_periods = 26 # subject of optimization\n",
    "lagging_span = px_ser.shift(-lagging_span_periods)"
   ]
  },
  {
   "cell_type": "code",
   "execution_count": null,
   "metadata": {
    "collapsed": false
   },
   "outputs": [],
   "source": [
    "cloud_top = leading_span_b.rolling(1).min()\n",
    "cloud_bottom = leading_span_a.rolling(1).max()"
   ]
  },
  {
   "cell_type": "markdown",
   "metadata": {},
   "source": [
    "# Trend Down condition"
   ]
  },
  {
   "cell_type": "code",
   "execution_count": null,
   "metadata": {
    "collapsed": false
   },
   "outputs": [],
   "source": [
    "px_ser.plot()\n",
    "cloud_bottom.plot()\n",
    "\n",
    "down_trend_cond = px_ser < cloud_bottom\n",
    "\n",
    "down_trend_cond.plot(secondary_y=True)\n",
    "axhline(2)"
   ]
  },
  {
   "cell_type": "markdown",
   "metadata": {},
   "source": [
    "# Trend Up condition"
   ]
  },
  {
   "cell_type": "code",
   "execution_count": null,
   "metadata": {
    "collapsed": false
   },
   "outputs": [],
   "source": [
    "px_ser.plot()\n",
    "cloud_top.plot()\n",
    "\n",
    "up_trend_cond = px_ser > cloud_top\n",
    "\n",
    "up_trend_cond.plot(secondary_y=True)\n",
    "axhline(2)"
   ]
  },
  {
   "cell_type": "markdown",
   "metadata": {},
   "source": [
    "# Neutral condition"
   ]
  },
  {
   "cell_type": "code",
   "execution_count": null,
   "metadata": {
    "collapsed": false
   },
   "outputs": [],
   "source": [
    "px_ser.plot()\n",
    "cloud_top.plot()\n",
    "cloud_bottom.plot()\n",
    "\n",
    "neutral_cond = ( (px_ser < cloud_top) & (px_ser > cloud_bottom) ) | ((px_ser > cloud_top) & (px_ser < cloud_bottom))\n",
    "\n",
    "neutral_cond.plot(secondary_y=True)\n",
    "axhline(2)"
   ]
  },
  {
   "cell_type": "markdown",
   "metadata": {},
   "source": [
    "# Long SmartEXO"
   ]
  },
  {
   "cell_type": "code",
   "execution_count": null,
   "metadata": {
    "collapsed": false
   },
   "outputs": [],
   "source": [
    "smartexo_ser = pd.Series(index=px_ser.index)\n",
    "\n",
    "px_1d_diff = px_ser.diff()\n",
    "\n",
    "for i in range(len(px_1d_diff)):\n",
    "    if up_trend_cond[i] == True:\n",
    "        smartexo_ser[i] = px_1d_diff[i] * 1.5\n",
    "    \n",
    "    elif down_trend_cond[i] == True:\n",
    "        smartexo_ser[i] = px_1d_diff[i] * 0.2\n",
    "        \n",
    "    elif neutral_cond[i] == True:\n",
    "        smartexo_ser[i] = px_1d_diff[i] * 0.5\n",
    "        \n",
    "    else:\n",
    "        smartexo_ser[i] = px_1d_diff[i]\n",
    "\n",
    "smartexo_ser = smartexo_ser.cumsum()"
   ]
  },
  {
   "cell_type": "code",
   "execution_count": null,
   "metadata": {
    "collapsed": false
   },
   "outputs": [],
   "source": [
    "#px_ser.diff().cumsum().plot()\n",
    "px_ser.plot()\n",
    "smartexo_ser.plot(label='SmartEXO')"
   ]
  },
  {
   "cell_type": "markdown",
   "metadata": {},
   "source": [
    "# Short SmartEXO"
   ]
  },
  {
   "cell_type": "code",
   "execution_count": null,
   "metadata": {
    "collapsed": false,
    "scrolled": false
   },
   "outputs": [],
   "source": [
    "smartexo_ser = pd.Series(index=px_ser.index)\n",
    "\n",
    "px_1d_diff = px_ser.diff()\n",
    "\n",
    "for i in range(len(px_1d_diff)):\n",
    "    if up_trend_cond[i] == True:\n",
    "        smartexo_ser[i] = px_1d_diff[i] * -0.2\n",
    "    \n",
    "    elif down_trend_cond[i] == True:\n",
    "        smartexo_ser[i] = px_1d_diff[i] * -1.5\n",
    "        \n",
    "    elif neutral_cond[i] == True:\n",
    "        smartexo_ser[i] = px_1d_diff[i] * 0.5\n",
    "        \n",
    "    else:\n",
    "        smartexo_ser[i] = px_1d_diff[i]\n",
    "\n",
    "smartexo_ser = smartexo_ser.cumsum()"
   ]
  },
  {
   "cell_type": "code",
   "execution_count": null,
   "metadata": {
    "collapsed": false
   },
   "outputs": [],
   "source": [
    "#px_ser.diff().cumsum().plot()\n",
    "px_ser.plot()\n",
    "smartexo_ser.plot(label='SmartEXO')"
   ]
  },
  {
   "cell_type": "code",
   "execution_count": null,
   "metadata": {
    "collapsed": false
   },
   "outputs": [],
   "source": []
  },
  {
   "cell_type": "code",
   "execution_count": null,
   "metadata": {
    "collapsed": false
   },
   "outputs": [],
   "source": []
  }
 ],
 "metadata": {
  "kernelspec": {
   "display_name": "Python 3",
   "language": "python",
   "name": "python3"
  },
  "language_info": {
   "codemirror_mode": {
    "name": "ipython",
    "version": 3
   },
   "file_extension": ".py",
   "mimetype": "text/x-python",
   "name": "python",
   "nbconvert_exporter": "python",
   "pygments_lexer": "ipython3",
   "version": "3.5.2"
  }
 },
 "nbformat": 4,
 "nbformat_minor": 0
}
