{
 "cells": [
  {
   "cell_type": "code",
   "execution_count": null,
   "metadata": {
    "collapsed": false
   },
   "outputs": [],
   "source": [
    "%pylab inline"
   ]
  },
  {
   "cell_type": "code",
   "execution_count": null,
   "metadata": {
    "collapsed": false
   },
   "outputs": [],
   "source": [
    "\n",
    "import pandas as pd\n",
    "import numpy as np\n",
    "import sys, os\n",
    "from scipy.io import loadmat, savemat "
   ]
  },
  {
   "cell_type": "code",
   "execution_count": null,
   "metadata": {
    "collapsed": false
   },
   "outputs": [],
   "source": [
    "figsize(8, 8)"
   ]
  },
  {
   "cell_type": "code",
   "execution_count": null,
   "metadata": {
    "collapsed": false
   },
   "outputs": [],
   "source": [
    "import sys,os\n",
    "sys.path.append('..')\n",
    "sys.path.append('../..')\n",
    "from backtester import matlab, backtester\n",
    "from backtester.analysis import *\n",
    "from backtester.strategy import StrategyBase, OptParam\n",
    "from backtester.swarms.manager import SwarmManager\n",
    "from backtester.swarms.ranking import SwarmRanker\n",
    "from backtester.swarms.rebalancing import SwarmRebalance\n",
    "from backtester.swarms.filters import SwarmFilter\n",
    "from backtester.costs import CostsManagerEXOFixed\n",
    "\n",
    "\n",
    "import pandas as pd\n",
    "import numpy as np\n",
    "import scipy\n",
    "\n",
    "\n",
    "from strategies.strategy_swingpoint import StrategySwingPoint\n",
    "from strategies.strategy_macross_with_trail import StrategyMACrossTrail"
   ]
  },
  {
   "cell_type": "code",
   "execution_count": null,
   "metadata": {
    "collapsed": false
   },
   "outputs": [],
   "source": [
    "# new 2tier ranking settings\n",
    "\n",
    "# TOP quantile of systems to pick\n",
    "# 1st tier: picking the best TOP-N quantile members \n",
    "ranking_2tier_quantile = 0.9\n",
    "# 2nd tier: picking the best performing N-periods members\n",
    "ranking_2tier_nperiods = 14\n",
    "\n",
    "STRATEGY_CONTEXT = {\n",
    "    'strategy': { \n",
    "        'class': StrategySwingPoint,\n",
    "        'exo_name': './mat/strategy_270201.mat',\n",
    "        'direction': -1,\n",
    "        'opt_params': [\n",
    "                        #OptParam(name, default_value, min_value, max_value, step)\n",
    "                        OptParam('sphTreshold', 2, 1, 20, 2),\n",
    "                        OptParam('splTreshold', 2, 1, 20, 2),\n",
    "                        OptParam('RulesIndex', 0, 0 , 3, 1),\n",
    "                        OptParam('MedianPeriod', 5, 5, 20, 3)\n",
    "            ],\n",
    "    },\n",
    "    'swarm': {\n",
    "        'members_count': 5,\n",
    "        'ranking_function': SwarmRanker.highestreturns_14days,\n",
    "        'rebalance_time_function': SwarmRebalance.every_monday,    \n",
    "        \n",
    "        #'global_filter_function': SwarmFilter.swingpoint_threshold,\n",
    "        'global_filter_params': {\n",
    "            'up_factor': 3.0,\n",
    "            'down_factor': 10.0,\n",
    "            'period': 5,\n",
    "        },\n",
    "        #'global_filter_function': filter_rolling_mean,\n",
    "        #'global_filter_params': {\n",
    "        #    'ma_period': 100,\n",
    "        #}\n",
    "    },\n",
    "    'costs':{\n",
    "        'manager': CostsManagerEXOFixed,\n",
    "        'context': {\n",
    "            'costs_options': 0.0,\n",
    "            'costs_futures': 0.0,\n",
    "        }\n",
    "    }\n",
    "}"
   ]
  },
  {
   "cell_type": "code",
   "execution_count": null,
   "metadata": {
    "collapsed": false
   },
   "outputs": [],
   "source": [
    "smgr = SwarmManager(STRATEGY_CONTEXT)\n",
    "smgr.run_swarm()\n",
    "smgr.pick()"
   ]
  },
  {
   "cell_type": "code",
   "execution_count": null,
   "metadata": {
    "collapsed": false
   },
   "outputs": [],
   "source": [
    "def backtest_byleg(matfilepath):\n",
    "    mat = loadmat(matfilepath)\n",
    "    \n",
    "    dollarpnl = pd.Series(mat['dollarPnl'][0])\n",
    "    pos = mat['optStr']['optPosition'][0][0]\n",
    "    inposition = np.mean(abs(pos), axis=0)\n",
    "    legs = mat['optStr']['priceLegSeries'][0][0]\n",
    "    tickincr = mat['optStr']['tickIncrement'][0][0][0][0]\n",
    "    tickvalue = mat['optStr']['tickValue'][0][0][0][0]\n",
    "    exo_price = pd.Series(mat['optStr']['entrySignalingSeries'][0][0][3]/tickincr*tickvalue)\n",
    "    \n",
    "    # Size is always = 1.0 according the matlab code\n",
    "    size = 1.0\n",
    "    \n",
    "    equity = np.zeros(len(exo_price))\n",
    "\n",
    "    RB_IN = 0        # dailyState(kk,RB_IN)\n",
    "    RB_RT_EXIT = 0   # dailyState(kk,RB_RT_EXIT)\n",
    "    RB_PNL = 0       # dailyState(kk,RB_PNL)\n",
    "\n",
    "    for dd in range(1, len(exo_price)):\n",
    "\n",
    "        if RB_RT_EXIT == 1:        \n",
    "            if RB_IN == 1:\n",
    "                #\n",
    "                # Exiting existing position\n",
    "                #\n",
    "                RB_PNL = np.sum(size * pos[:, dd-1]*(legs[:, dd] - legs[:, dd-1])) / tickincr * tickvalue            \n",
    "                equity[dd] += RB_PNL\n",
    "\n",
    "            RB_IN = 0\n",
    "            RB_RT_EXIT = 0\n",
    "\n",
    "        if RB_IN == 1:\n",
    "            #\n",
    "            # Already in position\n",
    "            #\n",
    "            RB_PNL = np.sum(size * pos[:, dd-1]*(legs[:, dd] - legs[:, dd-1])) / tickincr * tickvalue            \n",
    "            equity[dd] += RB_PNL\n",
    "\n",
    "            # System exit\n",
    "            if sum(abs(pos[:, dd])) == 0:\n",
    "                RB_IN = 0\n",
    "        else:\n",
    "            if sum(abs(pos[:, dd])) != 0:\n",
    "                RB_IN = 1\n",
    "        \n",
    "    return equity.cumsum(), {'dollarpnl': dollarpnl,\n",
    "                       'pos': pos,\n",
    "                       'inposition': inposition,\n",
    "                       'legs': legs,\n",
    "                       'tickincr': tickincr,\n",
    "                       'tickvalue': tickvalue,\n",
    "                       'exo_price': exo_price}\n",
    "    "
   ]
  },
  {
   "cell_type": "code",
   "execution_count": null,
   "metadata": {
    "collapsed": false
   },
   "outputs": [],
   "source": [
    "def backtest_byexoprice(matfilepath):\n",
    "    mat = loadmat(matfilepath)\n",
    "    \n",
    "    dollarpnl = pd.Series(mat['dollarPnl'][0])\n",
    "    pos = mat['optStr']['optPosition'][0][0]\n",
    "    inposition = np.mean(abs(pos), axis=0)\n",
    "    legs = mat['optStr']['priceLegSeries'][0][0]\n",
    "    tickincr = mat['optStr']['tickIncrement'][0][0][0][0]\n",
    "    tickvalue = mat['optStr']['tickValue'][0][0][0][0]\n",
    "    exo_price = pd.Series(mat['optStr']['entrySignalingSeries'][0][0][3]/tickincr*tickvalue)\n",
    "    \n",
    "    # Size is always = 1.0 according the matlab code\n",
    "    size = -1.0\n",
    "    \n",
    "    equity = np.zeros(len(exo_price))\n",
    "\n",
    "    RB_IN = 0        # dailyState(kk,RB_IN)\n",
    "    RB_RT_EXIT = 0   # dailyState(kk,RB_RT_EXIT)\n",
    "    RB_PNL = 0       # dailyState(kk,RB_PNL)\n",
    "\n",
    "    for dd in range(1, len(exo_price)):\n",
    "\n",
    "        if RB_RT_EXIT == 1:        \n",
    "            if RB_IN == 1:\n",
    "                #\n",
    "                # Exiting existing position\n",
    "                #\n",
    "                RB_PNL = (size * (exo_price[dd]-exo_price[dd-1]))\n",
    "                equity[dd] += RB_PNL\n",
    "\n",
    "            RB_IN = 0\n",
    "            RB_RT_EXIT = 0\n",
    "\n",
    "        if RB_IN == 1:\n",
    "            #\n",
    "            # Already in position\n",
    "            #\n",
    "            RB_PNL = (size * (exo_price[dd]-exo_price[dd-1]))\n",
    "            equity[dd] += RB_PNL\n",
    "\n",
    "            # System exit\n",
    "            if sum(abs(pos[:, dd])) == 0:\n",
    "                RB_IN = 0\n",
    "        else:\n",
    "            if sum(abs(pos[:, dd])) != 0:\n",
    "                RB_IN = 1\n",
    "        \n",
    "    return equity.cumsum(), {'dollarpnl': dollarpnl,\n",
    "                       'pos': pos,\n",
    "                       'inposition': inposition,\n",
    "                       'legs': legs,\n",
    "                       'tickincr': tickincr,\n",
    "                       'tickvalue': tickvalue,\n",
    "                       'exo_price': exo_price}"
   ]
  },
  {
   "cell_type": "markdown",
   "metadata": {},
   "source": [
    "# Swarm description"
   ]
  },
  {
   "cell_type": "code",
   "execution_count": null,
   "metadata": {
    "collapsed": false
   },
   "outputs": [],
   "source": [
    "data_dict = {}\n",
    "dollarpnl_dict = {}\n",
    "for fn in os.listdir('./mat/'):\n",
    "    equity, mat_info = backtest_byleg('./mat/'+fn)\n",
    "    \n",
    "    data_dict[fn] = equity\n",
    "    dollarpnl_dict[fn] = mat_info['dollarpnl']\n",
    "\n",
    "swarm = pd.DataFrame(data_dict)   \n",
    "df_dollarpnl = pd.DataFrame(dollarpnl_dict)"
   ]
  },
  {
   "cell_type": "markdown",
   "metadata": {},
   "source": [
    "### All swarm members  (TMQR swarm from strategy_xxxxxx.mat)"
   ]
  },
  {
   "cell_type": "code",
   "execution_count": null,
   "metadata": {
    "collapsed": false
   },
   "outputs": [],
   "source": [
    "swarm.plot(legend=False)"
   ]
  },
  {
   "cell_type": "markdown",
   "metadata": {},
   "source": [
    "### All swarm members from Alex's code (SWP Bearish confirmed breakouts)"
   ]
  },
  {
   "cell_type": "code",
   "execution_count": null,
   "metadata": {
    "collapsed": false
   },
   "outputs": [],
   "source": [
    "smgr.swarm"
   ]
  },
  {
   "cell_type": "code",
   "execution_count": null,
   "metadata": {
    "collapsed": false
   },
   "outputs": [],
   "source": [
    "smgr.swarm.plot(legend=False)"
   ]
  },
  {
   "cell_type": "markdown",
   "metadata": {
    "collapsed": false
   },
   "source": [
    "# Rebalancing comparison"
   ]
  },
  {
   "cell_type": "code",
   "execution_count": null,
   "metadata": {
    "collapsed": false
   },
   "outputs": [],
   "source": [
    "def is_rebalance_mod7(dateindex):\n",
    "    return np.mod(range(len(dateindex)), 7) == 0\n",
    "    \n",
    "def is_rebalance_monday(dateindex):\n",
    "    #return dateindex.dayofweek == 0\n",
    "    \n",
    "    # We have no datetime index in this script\n",
    "    # though we just use every 5 day\n",
    "    return np.mod(range(len(dateindex)), 5) == 0"
   ]
  },
  {
   "cell_type": "code",
   "execution_count": null,
   "metadata": {
    "collapsed": false
   },
   "outputs": [],
   "source": [
    "def ranking_highestreturns_14days(eqty, dollarpnl):       \n",
    "        return eqty.diff(periods=14)\n",
    "    \n",
    "def ranking_mavg_slope(eqty, dollarpnl):\n",
    "    rebalanceDays = 7\n",
    "    movAvgDays = 7\n",
    "    movAvgSpreadSeries = dollarpnl.rolling(movAvgDays).mean()\n",
    "\n",
    "    #\n",
    "    # MA slope calculation\n",
    "    #\n",
    "    spreadOverAvg = (dollarpnl / movAvgSpreadSeries);\n",
    "\n",
    "    # MA slope\n",
    "\n",
    "    slopeDivisor = rebalanceDays;\n",
    "    slopeLookBack = rebalanceDays;\n",
    "\n",
    "\n",
    "    movAvgSlope = (movAvgSpreadSeries - movAvgSpreadSeries.shift(slopeLookBack)) / slopeDivisor;\n",
    "\n",
    "    # Cleaning ratio data\n",
    "    lowerBoundRatio = 0\n",
    "    upperBoundRatio = 20\n",
    "    \n",
    "    # Ignoring bad values\n",
    "    spreadOverAvg[spreadOverAvg < lowerBoundRatio] = 0\n",
    "    spreadOverAvg[spreadOverAvg > upperBoundRatio] = 0\n",
    "    spreadOverAvg[movAvgSlope < 0] = 0\n",
    "    \n",
    "    return spreadOverAvg\n",
    "    \n",
    "def ranking_2tier(equity, dollarpnl):\n",
    "    q = equity.rank(axis=1, pct=True)\n",
    "    res = pd.DataFrame(0, index=equity.index, columns=equity.columns)\n",
    "\n",
    "    res[q > ranking_2tier_quantile] = 100\n",
    "\n",
    "    res += equity/equity.shift(ranking_2tier_nperiods)-1\n",
    "    \n",
    "    return res"
   ]
  },
  {
   "cell_type": "code",
   "execution_count": null,
   "metadata": {
    "collapsed": false
   },
   "outputs": [],
   "source": [
    "def pick(swarm, df_dollarpnl, rebalance_func, ranking_func, nSystems):  \n",
    "    rebalancetime = rebalance_func(swarm.index)\n",
    "    ranks = ranking_func(swarm, df_dollarpnl) #self.swarm.apply(lambda x: rankerfunc(x, self.rebalancetime))\n",
    "    is_picked_df = pd.DataFrame(0, index=swarm.index, columns=swarm.columns, dtype=np.int8)\n",
    "    nbest = None\n",
    "\n",
    "\n",
    "    def _get_nbest(ranked_results, nsystems):\n",
    "            # Select N best ranked systems to trade\n",
    "            nbest = ranked_results.sort_values()\n",
    "\n",
    "\n",
    "            results = pd.Series(0, index=nbest.index, dtype=np.int8)\n",
    "\n",
    "            nanless_nbest = nbest[nbest > 0].dropna()\n",
    "\n",
    "            #\n",
    "            # Every nbest member value is NaN\n",
    "            # Not enough data or something wrong with ranked_results\n",
    "            if len(nanless_nbest) == 0:\n",
    "                return results\n",
    "\n",
    "            # Flagging picked trading systems\n",
    "            results[nanless_nbest[-nsystems:].index] = 1\n",
    "            return results\n",
    "\n",
    "    for i in range(len(swarm)):\n",
    "        if i < 100:\n",
    "            continue\n",
    "\n",
    "\n",
    "        # == True - to avoid NaN values to pass condition\n",
    "        if rebalancetime[i] == True:\n",
    "            nbest = _get_nbest(ranks.iloc[i], nSystems)\n",
    "            is_picked_df.iloc[i] = nbest\n",
    "        else:\n",
    "            # Flag last picked swarm members until new self.rebalancetime\n",
    "            if nbest is not None:\n",
    "                is_picked_df.iloc[i] = nbest\n",
    "\n",
    "    # Litte bit future referencing but without entry point bug\n",
    "    eqty_chg = swarm.shift(-1) - swarm\n",
    "    return eqty_chg[is_picked_df == 1].sum(axis=1).cumsum().ffill()\n",
    "    "
   ]
  },
  {
   "cell_type": "markdown",
   "metadata": {},
   "source": [
    "# Swarm picking test"
   ]
  },
  {
   "cell_type": "markdown",
   "metadata": {},
   "source": [
    "### Swarm picking from Alex's swarm"
   ]
  },
  {
   "cell_type": "code",
   "execution_count": null,
   "metadata": {
    "collapsed": false
   },
   "outputs": [],
   "source": [
    "eqty_legacy = pick(smgr.swarm, smgr.swarm, is_rebalance_mod7, ranking_mavg_slope, nSystems=3)\n",
    "eqty_alex_14days = pick(smgr.swarm, smgr.swarm, is_rebalance_monday, ranking_highestreturns_14days, nSystems=3)\n",
    "eqty_alex_2tier = pick(smgr.swarm, smgr.swarm, is_rebalance_monday, ranking_2tier, nSystems=3)"
   ]
  },
  {
   "cell_type": "code",
   "execution_count": null,
   "metadata": {
    "collapsed": false
   },
   "outputs": [],
   "source": [
    "eqty_legacy.plot(label='Legacy picking MovAvg slope');\n",
    "eqty_alex_2tier.plot(label='New picking 2Tier Swarm pick (TOP-10+14day change)');\n",
    "eqty_alex_14days.plot(label='New picking 14-days returns');\n",
    "smgr.swarm_avg.plot(label='Average Alex\\'s swarm')\n",
    "\n",
    "title('Rebalancing methods comparison (Alex\\'s swarm )');\n",
    "legend(loc=2);\n"
   ]
  },
  {
   "cell_type": "code",
   "execution_count": null,
   "metadata": {
    "collapsed": false
   },
   "outputs": [],
   "source": []
  },
  {
   "cell_type": "code",
   "execution_count": null,
   "metadata": {
    "collapsed": false
   },
   "outputs": [],
   "source": []
  }
 ],
 "metadata": {
  "kernelspec": {
   "display_name": "Python 3",
   "language": "python",
   "name": "python3"
  },
  "language_info": {
   "codemirror_mode": {
    "name": "ipython",
    "version": 3
   },
   "file_extension": ".py",
   "mimetype": "text/x-python",
   "name": "python",
   "nbconvert_exporter": "python",
   "pygments_lexer": "ipython3",
   "version": "3.5.1"
  }
 },
 "nbformat": 4,
 "nbformat_minor": 0
}
