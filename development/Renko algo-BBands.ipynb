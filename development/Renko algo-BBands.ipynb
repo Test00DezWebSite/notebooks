{
 "cells": [
  {
   "cell_type": "code",
   "execution_count": null,
   "metadata": {
    "collapsed": false
   },
   "outputs": [],
   "source": [
    "import pandas as pd\n",
    "import numpy as np\n",
    "#from pandas_datareader import data, wb\n",
    "import datetime\n",
    "import pprint\n",
    "\n",
    "import sys,os\n",
    "sys.path.append('..')\n",
    "sys.path.append('../..')\n",
    "from backtester import matlab, backtester\n",
    "from backtester.analysis import *\n",
    "from backtester.swarms.swarm import Swarm\n",
    "from backtester.exoinfo import EXOInfo\n",
    "from exobuilder.data.exostorage import EXOStorage\n",
    "from IPython.core.display import display, HTML"
   ]
  },
  {
   "cell_type": "code",
   "execution_count": null,
   "metadata": {
    "collapsed": false
   },
   "outputs": [],
   "source": [
    "%pylab inline\n",
    "%load_ext autoreload\n",
    "%autoreload 2"
   ]
  },
  {
   "cell_type": "code",
   "execution_count": null,
   "metadata": {
    "collapsed": false
   },
   "outputs": [],
   "source": [
    "# Loading global setting for MongoDB etc.\n",
    "from scripts.settings import *\n",
    "\n",
    "try:\n",
    "    from scripts.settings_local import *\n",
    "except:\n",
    "    pass\n",
    "\n",
    "storage = EXOStorage(MONGO_CONNSTR, MONGO_EXO_DB)\n",
    "pp = pprint.PrettyPrinter(indent=4)\n",
    "\n",
    "exo_list = storage.exo_list()\n",
    "pp.pprint(exo_list)"
   ]
  },
  {
   "cell_type": "code",
   "execution_count": null,
   "metadata": {
    "collapsed": false
   },
   "outputs": [],
   "source": [
    "exo_series, exo_dict = storage.load_series('ES_CallSpread')\n",
    "#exo_series, exo_dict = storage.load_series('ZN_CallSpread')\n",
    "exo_series = exo_series[exo_series.columns[0]]"
   ]
  },
  {
   "cell_type": "code",
   "execution_count": null,
   "metadata": {
    "collapsed": false
   },
   "outputs": [],
   "source": [
    "figsize(20,10)\n",
    "exo_series.plot()\n",
    "exo_series.rolling(20).min().plot()"
   ]
  },
  {
   "cell_type": "markdown",
   "metadata": {},
   "source": [
    "## Renko calculation\n",
    "\n",
    "## High/Low of renko bricks is only needed for visual representation"
   ]
  },
  {
   "cell_type": "code",
   "execution_count": null,
   "metadata": {
    "collapsed": false,
    "scrolled": false
   },
   "outputs": [],
   "source": [
    "box_start = 0\n",
    "box_start_idx = None\n",
    "\n",
    "box_end = 0\n",
    "box_quantity = 0\n",
    "\n",
    "temp_l = []\n",
    "\n",
    "# Simple renko algorihtm\n",
    "\n",
    "df = pd.DataFrame()\n",
    "df['close'] = exo_series\n",
    "\n",
    "atr_period = 60\n",
    "\n",
    "O = L = H = C = df['close']\n",
    "period = atr_period\n",
    "\n",
    "atr = ATR(H, L, C, period)\n",
    "\n",
    "atr_multiplier = 4\n",
    "\n",
    "for i in range(len(df)):\n",
    "    box_size = (atr/atr_multiplier).shift(1)[i]\n",
    "    \n",
    "    if box_start == 0:\n",
    "        box_start = df.close[i]\n",
    "\n",
    "    else:\n",
    "        box_start = box_start\n",
    "        price_move = df.close[i] - box_start\n",
    "        \n",
    "        # First of all we need to set box size. \n",
    "        # Then calculate price movement. \n",
    "        # If price movement is more or equal than box size - renko bar(or bars) will be added\n",
    "        \n",
    "        if np.abs(price_move) >= box_size:\n",
    "            \n",
    "            # After we calculate box_quantity(price move divided by box size)\n",
    "            # This number defines how much renko bars will be registred\n",
    "            box_quantity = np.int32(np.floor(np.abs(price_move / box_size)))\n",
    "            box_index = df.close.index[i]\n",
    "\n",
    "            for b in range(int(box_quantity)):\n",
    "            # Let say, index is 2015-01-01, box_start = 100, box_quantity = 3, box size = 10, price move > 0\n",
    "            # So renko bar 1 will have next parameters - \n",
    "            # 1)index 2015-01-01\n",
    "            # 2)open = 100\n",
    "            # 3)close = 110(box_start + box_size)\n",
    "            # 4)type = up\n",
    "            \n",
    "            # Next renko bar will have next parameters -\n",
    "            # 1)index 2015-01-01\n",
    "            # 2)open = 110(previous renko bar close)\n",
    "            # 3)close = 120(open + box_size)\n",
    "            # 4)type = up\n",
    "            \n",
    "            # And so on..\n",
    "            \n",
    "            # After all we adding renko bars dict to list and convert it to DF\n",
    "            \n",
    "                if price_move > 0:\n",
    "                    if box_end == 0:\n",
    "                        d = {'date': box_index, 'open': box_start, 'close': box_start + box_size, 'type': 'up'}\n",
    "                        box_end = d['close']\n",
    "                        temp_l.append(d)\n",
    "                        \n",
    "                    else:\n",
    "                        d = {'date': box_index, 'open': box_end, 'close': box_end + box_size,\n",
    "                            'type': 'up'}\n",
    "                        \n",
    "                        box_end = d['close']\n",
    "                        temp_l.append(d)\n",
    "\n",
    "                if price_move < 0:\n",
    "                    if box_end == 0:\n",
    "                        d = {'date': box_index, 'open': box_start, 'close': box_start - box_size, 'type': 'down'}\n",
    "                        box_end = d['close']\n",
    "                        temp_l.append(d)\n",
    "                        \n",
    "                    else:           \n",
    "                        d = {'date': box_index, 'open': box_end, 'close': box_end - box_size, \n",
    "                             'type': 'down'}\n",
    "                        \n",
    "                        box_end = d['close']\n",
    "                        temp_l.append(d)\n",
    "                        \n",
    "            box_start = df.close[i]\n",
    "            \n",
    "renko_df = pd.DataFrame(temp_l)\n",
    "\n",
    "del temp_l"
   ]
  },
  {
   "cell_type": "code",
   "execution_count": null,
   "metadata": {
    "collapsed": false
   },
   "outputs": [],
   "source": [
    "bb_period = 20\n",
    "bb_k = 2\n",
    "renko_df['bb_central_line'] = renko_df.close.rolling(bb_period).mean()\n",
    "renko_df['bb_upperband'] = renko_df.bb_central_line + (bb_k * renko_df.bb_central_line.rolling(bb_period).std())\n",
    "renko_df['bb_lowerband'] = renko_df.bb_central_line - (bb_k * renko_df.bb_central_line.rolling(bb_period).std())\n",
    "\n",
    "renko_df['bb_%b'] = (renko_df.close - renko_df['bb_lowerband']) / (renko_df['bb_upperband'] - renko_df['bb_lowerband'])\n",
    "renko_df['bb_width'] = (renko_df['bb_upperband'] - renko_df['bb_lowerband'])"
   ]
  },
  {
   "cell_type": "code",
   "execution_count": null,
   "metadata": {
    "collapsed": false
   },
   "outputs": [],
   "source": [
    "renko_df.tail()"
   ]
  },
  {
   "cell_type": "code",
   "execution_count": null,
   "metadata": {
    "collapsed": false
   },
   "outputs": [],
   "source": [
    "renko_df.close.plot()\n",
    "renko_df.bb_lowerband.plot()\n",
    "renko_df.bb_upperband.plot()"
   ]
  },
  {
   "cell_type": "code",
   "execution_count": null,
   "metadata": {
    "collapsed": false
   },
   "outputs": [],
   "source": [
    "renko_df.close.plot()\n",
    "((renko_df.close - renko_df.bb_upperband).rolling(5).mean()).plot(secondary_y=True)\n",
    "(renko_df.close - renko_df.bb_upperband).plot(secondary_y=True)"
   ]
  },
  {
   "cell_type": "code",
   "execution_count": null,
   "metadata": {
    "collapsed": false
   },
   "outputs": [],
   "source": [
    "renko_df.close.plot()\n",
    "(bb_width_pctrank).plot(secondary_y=True)\n",
    "#(renko_df.close - renko_df.bb_upperband).plot(secondary_y=True)"
   ]
  },
  {
   "cell_type": "code",
   "execution_count": null,
   "metadata": {
    "collapsed": false
   },
   "outputs": [],
   "source": [
    "renko_df['up_trend'] = (((renko_df.close - renko_df.bb_upperband).rolling(5).median()) <= (renko_df.close - renko_df.bb_upperband))\n",
    "renko_df['down_trend'] = (renko_df.bb_lowerband -  renko_df.close).rolling(5).median()  <= (renko_df.bb_lowerband -  renko_df.close)\n",
    "\n",
    "bb_width_pctrank = renko_df.bb_width.rank(pct=True)\n",
    "bb_pctb_pctrank = renko_df['bb_%b'].rank(pct=True)\n",
    "\n",
    "renko_df['bb_width_pctrank_less_20'] = bb_width_pctrank <= 0.2\n",
    "renko_df['bb_width_pctrank_less_10'] = bb_width_pctrank <= 0.1\n",
    "\n",
    "renko_df['bb_width_pctrank_more_80'] = bb_width_pctrank >= 0.8\n",
    "renko_df['bb_width_pctrank_more_90'] = bb_width_pctrank <= 0.9\n",
    "\n",
    "renko_df['bb_width_pctrank_more_50'] = bb_width_pctrank >= 0.5\n",
    "renko_df['bb_width_pctrank_less_50'] = bb_width_pctrank <= 0.5\n",
    "\n",
    "renko_df['bb_pctb_pctrank_less_20'] = bb_pctb_pctrank <= 0.2\n",
    "renko_df['bb_pctb_pctrank_less_10'] = bb_pctb_pctrank <= 0.1\n",
    "\n",
    "renko_df['bb_pctb_pctrank_more_80'] = bb_pctb_pctrank >= 0.8\n",
    "renko_df['bb_pctb_pctrank_more_90'] = bb_pctb_pctrank <= 0.9\n",
    "\n",
    "renko_df['bb_pctb_pctrank_more_50'] = bb_pctb_pctrank >= 0.5\n",
    "renko_df['bb_pctb_pctrank_less_50'] = bb_pctb_pctrank <= 0.5"
   ]
  },
  {
   "cell_type": "code",
   "execution_count": null,
   "metadata": {
    "collapsed": false,
    "scrolled": false
   },
   "outputs": [],
   "source": [
    "renko_df['entry_signal']  = (renko_df.bb_pctb_pctrank_less_10)#.plot()#.reindex(renko_df.date)).plot()"
   ]
  },
  {
   "cell_type": "code",
   "execution_count": null,
   "metadata": {
    "collapsed": false,
    "scrolled": false
   },
   "outputs": [],
   "source": [
    "df = df.join(renko_df.set_index('date')[['up_trend','down_trend','bb_width_pctrank_less_20','bb_width_pctrank_less_10', \n",
    "                                    'bb_width_pctrank_less_50', 'bb_width_pctrank_more_80', 'bb_width_pctrank_more_90', \n",
    "                                   'bb_width_pctrank_more_50', 'bb_pctb_pctrank_less_20', 'bb_pctb_pctrank_less_10', \n",
    "                                    'bb_pctb_pctrank_less_50', 'bb_pctb_pctrank_more_80', 'bb_pctb_pctrank_more_90',\n",
    "                                   'bb_pctb_pctrank_more_50']])\n",
    "df = df.fillna(False)"
   ]
  },
  {
   "cell_type": "code",
   "execution_count": null,
   "metadata": {
    "collapsed": false,
    "scrolled": false
   },
   "outputs": [],
   "source": [
    "df.close.plot()\n",
    "df[df.columns[2]].plot(secondary_y=True)\n",
    "#df.crossup.plot(secondary_y=True)\n",
    "axhline(1.2)"
   ]
  },
  {
   "cell_type": "code",
   "execution_count": null,
   "metadata": {
    "collapsed": false,
    "scrolled": false
   },
   "outputs": [],
   "source": [
    "exo_series.plot()\n",
    "exo_series.rolling(20).min().plot()\n",
    "(exo_series > exo_series.rolling(20).min()+100).plot(secondary_y=True)\n",
    "axhline(2)"
   ]
  },
  {
   "cell_type": "code",
   "execution_count": null,
   "metadata": {
    "collapsed": false
   },
   "outputs": [],
   "source": [
    "(exo_series > exo_series.rolling(20).min()+100).rolling(10).sum().plot()"
   ]
  },
  {
   "cell_type": "code",
   "execution_count": null,
   "metadata": {
    "collapsed": false
   },
   "outputs": [],
   "source": []
  }
 ],
 "metadata": {
  "kernelspec": {
   "display_name": "Python 3",
   "language": "python",
   "name": "python3"
  },
  "language_info": {
   "codemirror_mode": {
    "name": "ipython",
    "version": 3
   },
   "file_extension": ".py",
   "mimetype": "text/x-python",
   "name": "python",
   "nbconvert_exporter": "python",
   "pygments_lexer": "ipython3",
   "version": "3.5.2"
  }
 },
 "nbformat": 4,
 "nbformat_minor": 0
}
