{
 "cells": [
  {
   "cell_type": "code",
   "execution_count": null,
   "metadata": {
    "collapsed": false
   },
   "outputs": [],
   "source": [
    "import sys,os\n",
    "sys.path.append('..')\n",
    "sys.path.append('../..')\n",
    "from backtester import matlab, backtester\n",
    "from backtester.analysis import *\n",
    "from backtester.swarms.manager import SwarmManager\n",
    "from backtester.exoinfo import EXOInfo\n",
    "\n",
    "import pandas as pd\n",
    "import numpy as np\n",
    "import scipy"
   ]
  },
  {
   "cell_type": "code",
   "execution_count": null,
   "metadata": {
    "collapsed": false
   },
   "outputs": [],
   "source": [
    "%pylab inline\n",
    "%load_ext autoreload\n",
    "%autoreload 2"
   ]
  },
  {
   "cell_type": "code",
   "execution_count": null,
   "metadata": {
    "collapsed": false
   },
   "outputs": [],
   "source": [
    "swarms = {}\n",
    "for file in os.listdir('./swarms/'):\n",
    "    swarm_name = file.replace('.swm','')\n",
    "    swarms[swarm_name] = SwarmManager.load(os.path.join('swarms', file))"
   ]
  },
  {
   "cell_type": "code",
   "execution_count": null,
   "metadata": {
    "collapsed": false
   },
   "outputs": [],
   "source": [
    "swarms"
   ]
  },
  {
   "cell_type": "code",
   "execution_count": null,
   "metadata": {
    "collapsed": false
   },
   "outputs": [],
   "source": [
    "passive_exo = {}\n",
    "\n",
    "exos_mat_files = [\n",
    "    './exo/strategy_2010348.mat',\n",
    "    './exo/strategy_2060248.mat',    \n",
    "]\n",
    "\n",
    "print('Passive EXO list')\n",
    "for matfile in exos_mat_files:    \n",
    "    exo = EXOInfo.from_matfile(matfile)\n",
    "    passive_exo[exo.exo_name()] = exo.exo_price_index()\n",
    "    \n",
    "    print(exo.exo_name())"
   ]
  },
  {
   "cell_type": "code",
   "execution_count": null,
   "metadata": {
    "collapsed": false
   },
   "outputs": [],
   "source": [
    "exo.data.fut_price.plot()"
   ]
  },
  {
   "cell_type": "code",
   "execution_count": null,
   "metadata": {
    "collapsed": false
   },
   "outputs": [],
   "source": [
    "\n",
    "campaign_exposure = {\n",
    "     'ZLE_BearishCollar_MACross_Long': 1,\n",
    "     'ZLE_BearishCollar_MACross_Short': 1,\n",
    "     'ZLE_BearishCollar_SwingPoint_Short': 1,\n",
    "     'ZLE_BearishPut_MACross_Long': 1,\n",
    "     'ZLE_BearishPut_MACross_Short': 1,\n",
    "     'ZLE_BullishCall_MACross_Long': 1,\n",
    "     'ZLE_BullishCall_MACross_Short': 1,\n",
    "     'ZLE_BullishCollar_MACross_Long': 1,\n",
    "     'ZLE_BullishCollar_MACross_Short': 1,\n",
    "     #\n",
    "     # Passive EXO positions\n",
    "     #\n",
    "     'ZLE_BullishCall_EXO': -1, # Short 1 EXO units\n",
    "     'ZLE_BearishCollar_EXO': 1, # Long 1 EXO units\n",
    "     \n",
    "}"
   ]
  },
  {
   "cell_type": "code",
   "execution_count": null,
   "metadata": {
    "collapsed": false
   },
   "outputs": [],
   "source": [
    "#def campaign_equity(swarms, exposure):\n",
    "\n",
    "campaign_dict = {}\n",
    "\n",
    "for camp_name, exposure in campaign_exposure.items():\n",
    "    if camp_name in swarms:\n",
    "        swarm_name = camp_name\n",
    "        smgr = swarms[swarm_name]\n",
    "        campaign_dict[swarm_name] = smgr.swarm_picked.diff().sum(axis=1) * exposure\n",
    "    elif camp_name in passive_exo:\n",
    "        exo_equity = passive_exo[camp_name]\n",
    "        campaign_dict[camp_name] = exo_equity.diff() * exposure\n",
    "    \n",
    "    \n",
    "campaign_portfolio = pd.DataFrame(campaign_dict).cumsum()\n",
    "campaign_equity = campaign_portfolio.sum(axis=1)"
   ]
  },
  {
   "cell_type": "code",
   "execution_count": null,
   "metadata": {
    "collapsed": false
   },
   "outputs": [],
   "source": [
    "figsize(10,10)\n",
    "campaign_portfolio.plot()"
   ]
  },
  {
   "cell_type": "code",
   "execution_count": null,
   "metadata": {
    "collapsed": false
   },
   "outputs": [],
   "source": [
    "campaign_portfolio.sum(axis=1).plot()"
   ]
  },
  {
   "cell_type": "markdown",
   "metadata": {
    "collapsed": false
   },
   "source": [
    "## Campaign results"
   ]
  },
  {
   "cell_type": "code",
   "execution_count": null,
   "metadata": {
    "collapsed": false
   },
   "outputs": [],
   "source": [
    "size_futures_long = 80\n",
    "size_futures_short = -80\n",
    "size_campaign = 40"
   ]
  },
  {
   "cell_type": "code",
   "execution_count": null,
   "metadata": {
    "collapsed": false
   },
   "outputs": [],
   "source": [
    "futures_index = exo.data.fut_price.diff().cumsum()"
   ]
  },
  {
   "cell_type": "markdown",
   "metadata": {},
   "source": [
    "## long/short futures"
   ]
  },
  {
   "cell_type": "code",
   "execution_count": null,
   "metadata": {
    "collapsed": false
   },
   "outputs": [],
   "source": [
    "(futures_index*-1*size_futures_short).plot(label='Short futures')\n",
    "(futures_index*size_futures_long).plot(label='Long futures')\n",
    "\n",
    "legend(loc=2)"
   ]
  },
  {
   "cell_type": "markdown",
   "metadata": {},
   "source": [
    "## Futures and bidirectional campaign"
   ]
  },
  {
   "cell_type": "code",
   "execution_count": null,
   "metadata": {
    "collapsed": false
   },
   "outputs": [],
   "source": [
    "(futures_index*size_futures_short).plot(label='Short futures')\n",
    "(futures_index*size_futures_long).plot(label='Long futures')\n",
    "(campaign_equity*size_campaign).plot(label='Campaign')\n",
    "\n",
    "legend(loc=2)"
   ]
  },
  {
   "cell_type": "code",
   "execution_count": null,
   "metadata": {
    "collapsed": false
   },
   "outputs": [],
   "source": [
    "results_dict = {\n",
    "    'long_futures_equity': futures_index*size_futures_long,\n",
    "    'short_futures_equity': futures_index*size_futures_short,\n",
    "    'campaign_equity': campaign_equity*size_campaign\n",
    "}\n",
    "\n",
    "pd.DataFrame(results_dict).to_csv('./results/campaign_results.csv')\n"
   ]
  },
  {
   "cell_type": "code",
   "execution_count": null,
   "metadata": {
    "collapsed": false
   },
   "outputs": [],
   "source": [
    "import json\n",
    "campaign_info = {\n",
    "    'structure': campaign_exposure,\n",
    "    'sizes': {\n",
    "        'long_futures': size_futures_long,\n",
    "        'short_futures': size_futures_short,\n",
    "        'campaign_units': size_campaign\n",
    "    }\n",
    "}\n",
    "\n",
    "with open('./results/campaign_info.json', 'w') as f:\n",
    "    json.dump(campaign_info, f, indent=4)"
   ]
  },
  {
   "cell_type": "code",
   "execution_count": null,
   "metadata": {
    "collapsed": false
   },
   "outputs": [],
   "source": []
  }
 ],
 "metadata": {
  "kernelspec": {
   "display_name": "Python 3",
   "language": "python",
   "name": "python3"
  },
  "language_info": {
   "codemirror_mode": {
    "name": "ipython",
    "version": 3
   },
   "file_extension": ".py",
   "mimetype": "text/x-python",
   "name": "python",
   "nbconvert_exporter": "python",
   "pygments_lexer": "ipython3",
   "version": "3.5.1"
  }
 },
 "nbformat": 4,
 "nbformat_minor": 0
}
