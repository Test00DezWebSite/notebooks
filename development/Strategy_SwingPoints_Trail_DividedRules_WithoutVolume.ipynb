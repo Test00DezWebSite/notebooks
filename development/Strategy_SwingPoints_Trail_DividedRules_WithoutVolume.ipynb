{
 "cells": [
  {
   "cell_type": "code",
   "execution_count": null,
   "metadata": {
    "collapsed": false
   },
   "outputs": [],
   "source": [
    "import sys,os\n",
    "sys.path.append('..')\n",
    "from backtester import matlab, backtester\n",
    "from backtester.analysis import *\n",
    "from backtester.strategy import StrategyBase, OptParam\n",
    "from backtester.swarms import SwarmManager, SwarmRanker\n",
    "\n",
    "import pandas as pd\n",
    "import numpy as np\n",
    "import scipy\n",
    "from scipy.io import loadmat, savemat"
   ]
  },
  {
   "cell_type": "code",
   "execution_count": null,
   "metadata": {
    "collapsed": false
   },
   "outputs": [],
   "source": [
    "%pylab inline\n",
    "%load_ext autoreload\n",
    "%autoreload 2"
   ]
  },
  {
   "cell_type": "markdown",
   "metadata": {},
   "source": [
    "## Script settings"
   ]
  },
  {
   "cell_type": "code",
   "execution_count": null,
   "metadata": {
    "collapsed": false
   },
   "outputs": [],
   "source": [
    "# File name of exo strategy\n",
    "EXO_File = 'strategy_270225'\n",
    "\n",
    "\n",
    "#\n",
    "# Costs settings\n",
    "#\n",
    "costs_options = 3.0 # 3$ per side per option contract\n",
    "costs_futures = 3.0 # 3$ per side per futures contract\n",
    "\n",
    "\n",
    "\n",
    "#\n",
    "# Swarm settings\n",
    "#\n",
    "\n",
    "# number of strategies to pick  from the swarm\n",
    "NSwarm_Members = 5\n",
    "\n",
    "#\n",
    "# Swarm generation parameters\n",
    "#  MA Cross periods and Trailing stop size\n",
    "STRATEGY_PARAMS = [\n",
    "            #OptParam(name, default_value, min_value, max_value, step)\n",
    "            OptParam('sphTreshold', 2, 1, 20, 2),\n",
    "            OptParam('splTreshold', 2, 1, 20, 2),\n",
    "            OptParam('RulesIndex', 0, 0 , 1, 1),\n",
    "            OptParam('MedianPeriod', 5, 5, 20, 3)\n",
    "    \n",
    "        ]\n",
    "\n",
    "\n",
    "STRATEGY_DIRECTION = -1\n",
    "\n",
    "#\n",
    "# Swingpoint global filter settings\n",
    "#\n",
    "\n",
    "# As a multiplier of volatility\n",
    "up_factor = 3.0\n",
    "down_factor = 10.0\n"
   ]
  },
  {
   "cell_type": "markdown",
   "metadata": {},
   "source": [
    "## Exo data"
   ]
  },
  {
   "cell_type": "code",
   "execution_count": null,
   "metadata": {
    "collapsed": false
   },
   "outputs": [],
   "source": [
    "strategyname_global = EXO_File\n",
    "d, info = matlab.loaddata('../mat/'+strategyname_global+'.mat')"
   ]
  },
  {
   "cell_type": "code",
   "execution_count": null,
   "metadata": {
    "collapsed": false,
    "scrolled": false
   },
   "outputs": [],
   "source": [
    "d.exo.plot()\n"
   ]
  },
  {
   "cell_type": "code",
   "execution_count": null,
   "metadata": {
    "collapsed": false
   },
   "outputs": [],
   "source": [
    "info"
   ]
  },
  {
   "cell_type": "markdown",
   "metadata": {},
   "source": [
    "### Swing points function"
   ]
  },
  {
   "cell_type": "code",
   "execution_count": null,
   "metadata": {
    "collapsed": false
   },
   "outputs": [],
   "source": [
    "mat_file = loadmat('../mat/'+strategyname_global+'.mat')\n",
    "def SwingPoints(sphThreshold, splThreshold, prices_index, mat_file):\n",
    "    \n",
    "    '''\n",
    "    !Required for mat file loading! from scipy.io import loadmat, savemat \n",
    "    \n",
    "    sphTreshold - int number of days from breakout\n",
    "    splTreshold - int number of days from breakout\n",
    "    prices_index - pd series of exo prices index\n",
    "    mat_file - .mat file like - mat_file = loadmat('../mat/'+strategyname_global+'.mat')\n",
    "    \n",
    "    returns -> df with sphLevel/volume and splLevel/volume pd series with exo prices index. \n",
    "                Plus VolumeSeries and price with exo prices index\n",
    "    '''\n",
    "    \n",
    "    mat = mat_file ############## Temp! Path must be an argument\n",
    "\n",
    "    signalArray = mat['optStr']['entrySignalingSeries'][0][0]\n",
    "    volumeArray = mat['optStr']['volumeSeries'][0][0][0]\n",
    "\n",
    "    OPEN  = 0; HIGH  = 1; LOW   = 2;  CLOSE = 3;\n",
    "\n",
    "    if len(signalArray) == 1:\n",
    "        OPEN  = HIGH  = LOW = CLOSE = 0\n",
    "\n",
    "    currentHigh  = -np.inf #intmin('int32');\n",
    "    currentLow   = np.inf #intmax('int32');\n",
    "\n",
    "    currentHVol  = 0\n",
    "    currentLVol  = 0\n",
    "    sphDays      = 0\n",
    "    splDays      = 0\n",
    "    sphStart     = 1\n",
    "    splStart     = 1\n",
    "    sphMaxDay    = 0\n",
    "    splMinDay    = 0\n",
    "    prevHigh     = signalArray[HIGH][0]\n",
    "    prevLow      = signalArray[LOW][0]\n",
    "    prevHVol     = volumeArray[0]\n",
    "    prevLVol     = volumeArray[0]\n",
    "\n",
    "\n",
    "    nDays        = len(signalArray[CLOSE])\n",
    "\n",
    "    sphIndicator = np.zeros(nDays)\n",
    "    splIndicator = np.zeros(nDays)\n",
    "\n",
    "    sphLevel = np.zeros(nDays)\n",
    "    splLevel = np.zeros(nDays)\n",
    "\n",
    "    sphVolume = np.zeros(nDays)\n",
    "    splVolume = np.zeros(nDays)\n",
    "\n",
    "    for dday in range(nDays):\n",
    "\n",
    "        if signalArray[HIGH][dday] > currentHigh:\n",
    "            currentHigh = signalArray[HIGH][dday]\n",
    "            currentHVol = volumeArray[dday]\n",
    "            sphMaxDay   = dday;\n",
    "            sphDays     = 0\n",
    "        else:\n",
    "            sphDays = sphDays+1;\n",
    "\n",
    "        if signalArray[LOW][dday] < currentLow:\n",
    "            currentLow = signalArray[LOW][dday]\n",
    "            currentLVol = volumeArray[dday]\n",
    "            splMinDay  = dday\n",
    "            splDays    = 0\n",
    "        else:\n",
    "            splDays = splDays+1;\n",
    "\n",
    "\n",
    "\n",
    "        if sphDays > sphThreshold:\n",
    "            sphLevel[dday] = currentHigh;\n",
    "            sphIndicator[dday] = 1;\n",
    "            sphVolume[dday] = currentHVol;\n",
    "\n",
    "            for dd in range(sphStart, dday): #?? or dday-1\n",
    "                sphLevel[dd] = prevHigh\n",
    "                sphVolume[dd]= prevHVol\n",
    "\n",
    "            prevHigh = currentHigh\n",
    "            prevHVol = currentHVol\n",
    "            sphStart = dday\n",
    "            sphDays = 0    \n",
    "            currentHigh = -np.inf #intmin('int32');\n",
    "\n",
    "        elif dday > 1:\n",
    "            sphVolume[dday] = sphVolume[dday-1]\n",
    "        elif dday == 1:\n",
    "            sphVolume[dday] = volumeArray[dday]\n",
    "\n",
    "\n",
    "\n",
    "\n",
    "        if splDays > splThreshold:\n",
    "            splLevel[dday] = currentLow;\n",
    "            splIndicator[dday] = 1;\n",
    "            splVolume[dday] = currentLVol;\n",
    "\n",
    "            for dd in range(splStart, dday):  #??? or dday-1 \n",
    "                splLevel[dd] = prevLow\n",
    "                splVolume[dd] = prevLVol\n",
    "\n",
    "            prevLow = currentLow\n",
    "            prevLVol = currentLVol\n",
    "            splStart = dday\n",
    "            splDays = 0\n",
    "            currentLow =  np.inf #intmax('int32');\n",
    "        elif dday > 1:\n",
    "            splVolume[dday] = splVolume[dday-1]\n",
    "        elif dday == 1:\n",
    "            splVolume[dday] = volumeArray[dday]\n",
    "\n",
    "        # fill to the end\n",
    "        for dd in range(sphStart, nDays):\n",
    "            sphLevel[dd] = prevHigh;\n",
    "            sphVolume[dd] = prevHVol;\n",
    "\n",
    "        for dd in range(splStart, nDays):\n",
    "            splLevel[dd] = prevLow;\n",
    "            splVolume[dd] = prevLVol;\n",
    "            \n",
    "    return pd.DataFrame({'sphLevel' : pd.Series(sphLevel, index=prices_index),'splLevel' : pd.Series(splLevel, index=prices_index), \n",
    "            'sphVolume': pd.Series(sphVolume, index=prices_index), 'splVolume': pd.Series(splVolume, index=prices_index), \n",
    "            'volumeSeries': pd.Series(volumeArray, index=prices_index), \n",
    "            'price': pd.Series(mat['optStr']['entrySignalingSeries'][0][0][3], index=d.exo.index)}, index=prices_index)"
   ]
  },
  {
   "cell_type": "code",
   "execution_count": null,
   "metadata": {
    "collapsed": false
   },
   "outputs": [],
   "source": [
    "# Df test\n",
    "sp_df = SwingPoints(8, 8, d.exo.index, mat_file)"
   ]
  },
  {
   "cell_type": "code",
   "execution_count": null,
   "metadata": {
    "collapsed": false
   },
   "outputs": [],
   "source": [
    "figsize(15, 15)\n",
    "sp_df.price.plot()\n",
    "sp_df.splLevel.plot()\n",
    "sp_df.splVolume.plot(secondary_y=True)\n",
    "sp_df.volumeSeries.plot(secondary_y=True)"
   ]
  },
  {
   "cell_type": "markdown",
   "metadata": {},
   "source": [
    "# Class based strategy"
   ]
  },
  {
   "cell_type": "code",
   "execution_count": null,
   "metadata": {
    "collapsed": false
   },
   "outputs": [],
   "source": [
    "class StrategySwingPointsTrail(StrategyBase):\n",
    "    def __init__(self):\n",
    "        # Initialize parent class\n",
    "        super().__init__()\n",
    "        \n",
    "        # Define system's name\n",
    "        self.name = 'Swing points breakouts with trailing stop'\n",
    "        \n",
    "        # This is a short strategy\n",
    "        self.direction = STRATEGY_DIRECTION\n",
    "        \n",
    "        # Define optimized params\n",
    "        self.opts = STRATEGY_PARAMS\n",
    "        \n",
    "        self.initialize()\n",
    "        \n",
    "    def initialize(self):\n",
    "        #\n",
    "        #  Loading EXO quotes from .mat file\n",
    "        #\n",
    "        strategyname = strategyname_global\n",
    "        self.data, info = matlab.loaddata('../mat/'+strategyname+'.mat')\n",
    "        \n",
    "        #\n",
    "        # Estimating transaction costs in base points of price\n",
    "        #\n",
    "        \n",
    "        # No costs\n",
    "        self.costs = pd.Series(0, self.data.index)\n",
    "        \n",
    "        # Flat costs / 1 point of EXO price per side / 2 roundtrip\n",
    "        #self.costs = pd.Series(12.0, self.data.index)\n",
    "        \n",
    "        # Dynamic costs (we could utilize dynamic costs models)\n",
    "        #  Like slippage calculation on bid/ask data / etc\n",
    "        # Some meta code (just in my imagination)\n",
    "        # costmanager = CostManager('EXO.Ticker').LoadSlippageFromDB('2000-01-01', now)\n",
    "        # self.costs = costmanager.getslippage() + pd.Series(0.1, self.data.index) # Slippage + commission\n",
    "    \n",
    "    @property\n",
    "    def positionsize(self):\n",
    "        \"\"\"\n",
    "        Returns volatility adjuster positions size for strategy\n",
    "        :return:\n",
    "        \"\"\"\n",
    "            \n",
    "        # Defining EXO price\n",
    "        px = self.data.exo\n",
    "        \n",
    "        #Test !!!!!!!!!!!!!!!!!!!!!!!!!!!!!!!!!!!!!\n",
    "        return pd.Series(1.0, index=px.index)\n",
    "\n",
    "        # Calculate position size adjusted to volatility of EXO\n",
    "        # Dollar risk per 1 volatility unit\n",
    "        risk_perunit = 100\n",
    "        risk_vola_period = 100\n",
    "\n",
    "        # Calculate volatility unit\n",
    "        # In this case we use 10-period rolling median of EXO changes\n",
    "        vola = abs(px.diff()).rolling(risk_vola_period).median()\n",
    "        # We want to risk 100$ per 1 volatility unit\n",
    "        #\n",
    "        # This type of position sizing used for calibration of swarm members\n",
    "        # After swarm generation and picking we will use portfolio based MM by Van Tharp\n",
    "        # Tailored for portfolio size and risks of particular client\n",
    "        return risk_perunit / vola\n",
    "    \n",
    "    def calculate(self, params=None):\n",
    "        #        \n",
    "        #  On every iteration of swarming algorithm, parameter set will be different.\n",
    "        #  For more information look inside: /notebooks/tmp/Swarming engine research.ipynb\n",
    "        #       \n",
    "        \n",
    "        if params is None:\n",
    "            # Return default parameters\n",
    "            sphTreshold_value, splTreshold_value, rules_index, period_median = self.default_opts()\n",
    "        else:\n",
    "            # Unpacking optimization params\n",
    "            #  in order in self.opts definition\n",
    "            sphTreshold_value, splTreshold_value, rules_index, period_median = params\n",
    "        \n",
    "        # Defining EXO price\n",
    "        px = self.data.exo\n",
    "        \n",
    "        #\n",
    "        #\n",
    "        # Swing poins rules calculation\n",
    "        #\n",
    "        #\n",
    "        '''     \n",
    "        testHPrice = optStr.entrySignalingSeries(CLOSE,dd);   Note OPEN=1, HIGH=2, LOW=3, CLOSE=4\n",
    "        testLPrice = optStr.entrySignalingSeries(CLOSE,dd);\n",
    "\n",
    "        longSignalPrice      = sphLevel(dd-1);    % swing point high value on the previous day\n",
    "        shortSignalPrice     = splLevel(dd-1);    % swing point low value on the previous day\n",
    "\n",
    "        optStr.sphVolume     = the volume on the last swing-point-high day\n",
    "        optStr.splVolume     = the volume on the last swing-point-low  day\n",
    "        '''\n",
    "        epsilon = 1.0000e-012\n",
    "        \n",
    "        # Setting Swing point DF\n",
    "        sp_df = SwingPoints(sphTreshold_value, splTreshold_value, d.exo.index, mat_file)\n",
    "        \n",
    "        \n",
    "        '''\n",
    "        Bullish Breakout Confirmed \n",
    "        --------------------------\n",
    "        not in position\n",
    "        &&\n",
    "        testHPrice > longSignalPrice , i.e. testHPrice - longSignalPrice >= EPSILON\n",
    "        &&\n",
    "        optStr.volumeSeries(dd) > optStr.sphVolume(dd-1)\n",
    "        '''\n",
    "        bullish_breakout_confirmed = (sp_df.price > sp_df.sphLevel.shift(1)) & ((sp_df.price - sp_df.sphLevel.shift(1)) >= epsilon)\n",
    "            \n",
    "        '''\n",
    "        Bullish Breakout Suspected\n",
    "        --------------------------\n",
    "        not in position\n",
    "        &&\n",
    "        testHPrice > longSignalPrice , i.e. testHPrice - longSignalPrice >= EPSILON\n",
    "        &&\n",
    "        optStr.volumeSeries(dd) <= optStr.sphVolume(dd-1)\n",
    "        '''\n",
    "        # Without volume Confirmed and Suspected are the same rules\n",
    "        #bullish_breakout_suspected = (sp_df.price > sp_df.sphLevel.shift(1)) & ((sp_df.price - sp_df.sphLevel.shift(1)) >= epsilon) & (sp_df.volumeSeries > sp_df.sphVolume.shift(1))\n",
    "        \n",
    "        '''\n",
    "        Bearish Breakout Confirmed \n",
    "        --------------------------\n",
    "        not in position\n",
    "        &&\n",
    "        testLPrice < shortSignalPrice , i.e. testLPrice - shortSignalPrice <= -EPSILON\n",
    "        &&\n",
    "        optStr.volumeSeries(dd) > optStr.splVolume(dd-1)\n",
    "        '''\n",
    "        bearish_breakout_confirmed = (sp_df.price < sp_df.splLevel.shift(1)) & ((sp_df.price - sp_df.splLevel.shift(1)) <= -epsilon) \n",
    "        \n",
    "            \n",
    "        '''\n",
    "        Bearish Breakout Suspected\n",
    "        --------------------------\n",
    "        not in position\n",
    "        &&\n",
    "        testLPrice < shortSignalPrice , i.e. testLPrice - shortSignalPrice <= -EPSILON\n",
    "        &&\n",
    "        optStr.volumeSeries(dd) <= optStr.splVolume(dd-1)\n",
    "        '''\n",
    "        # Without volume Confirmed and Suspected are the same rules\n",
    "        #bearish_breakout_suspected = (sp_df.price < sp_df.splLevel.shift(1)) & ((sp_df.price - sp_df.splLevel.shift(1)) <= -epsilon) & (sp_df.volumeSeries <= sp_df.splVolume.shift(1))            \n",
    "        \n",
    "        # Days after breakout calc\n",
    "        ##\n",
    "        ## Bullish\n",
    "        ##\n",
    "        confirmationTimeThreshold = 0 # Days after breakout\n",
    "        temp_a = np.zeros(len(sp_df))\n",
    "        bullish_breakout_confirmed_prev = bullish_breakout_confirmed.shift(1)\n",
    "        for i in range(len(sp_df)):\n",
    "            if bullish_breakout_confirmed_prev[i] == 1 and bullish_breakout_confirmed[i] == 0 :\n",
    "                confirmationTimeThreshold = confirmationTimeThreshold + 1 \n",
    "            elif bullish_breakout_confirmed[i] == 0:\n",
    "                confirmationTimeThreshold = confirmationTimeThreshold + 1 \n",
    "            elif bullish_breakout_confirmed[i] == 1:\n",
    "                confirmationTimeThreshold = 0\n",
    "            temp_a[i] = confirmationTimeThreshold\n",
    "        sp_df['confirmationTimeThresholdBullish'] = pd.Series(temp_a, index=sp_df.index)\n",
    "        ##\n",
    "        ## Bearish\n",
    "        ##\n",
    "        confirmationTimeThreshold = 0 # Days after breakout\n",
    "        temp_a = np.zeros(len(sp_df))\n",
    "        bearish_breakout_confirmed_prev = bearish_breakout_confirmed.shift(1)\n",
    "        for i in range(len(sp_df)):\n",
    "            if bearish_breakout_confirmed_prev[i] == 1 and bearish_breakout_confirmed[i] == 0:\n",
    "                confirmationTimeThreshold = confirmationTimeThreshold + 1 \n",
    "            elif bearish_breakout_confirmed[i] == 0:\n",
    "                confirmationTimeThreshold = confirmationTimeThreshold + 1 \n",
    "            elif bearish_breakout_confirmed[i] == 1:\n",
    "                confirmationTimeThreshold = 0\n",
    "            temp_a[i] = confirmationTimeThreshold\n",
    "        sp_df['confirmationTimeThresholdBearish'] = pd.Series(temp_a, index=sp_df.index)\n",
    "        \n",
    "        # Failure flags calc\n",
    "        ##\n",
    "        ## Bullish\n",
    "        ##\n",
    "        bullish_failureflag = 0\n",
    "        failureLongLine = sp_df.price.shift(1)\n",
    "        longPenetrationCount = 0\n",
    "        temp_a = np.zeros(len(sp_df))\n",
    "        for i in range(len(sp_df)):\n",
    "            if (sp_df.price[i] < failureLongLine[i]) & (longPenetrationCount <= sp_df.confirmationTimeThresholdBullish[i]):\n",
    "                bullish_failureflag = 1\n",
    "            elif (longPenetrationCount > sp_df.confirmationTimeThresholdBullish[i]):\n",
    "                bullish_failureflag = 0\n",
    "            else:\n",
    "                longPenetrationCount = longPenetrationCount + 1\n",
    "            temp_a[i] = bullish_failureflag\n",
    "        sp_df['bullish_failureflag'] = pd.Series(temp_a, index=sp_df.index)   \n",
    "        ##\n",
    "        ## Bearish\n",
    "        ##\n",
    "        bearish_failureflag = 0\n",
    "        failureShortLine = sp_df.price.shift(1)\n",
    "        shortPenetrationCount = 0\n",
    "        temp_a = np.zeros(len(sp_df))\n",
    "        for i in range(len(sp_df)):\n",
    "            if (sp_df.price[i] > failureShortLine[i]) & (shortPenetrationCount <= sp_df.confirmationTimeThresholdBearish[i]):\n",
    "                bearish_failureflag = 1\n",
    "            elif (shortPenetrationCount > sp_df.confirmationTimeThresholdBearish[i]):\n",
    "\n",
    "                bearish_failureflag = 0\n",
    "            else:\n",
    "                shortPenetrationCount = shortPenetrationCount + 1\n",
    "            temp_a[i] = bearish_failureflag\n",
    "        sp_df['bearish_failureflag'] = pd.Series(temp_a, index=sp_df.index)   \n",
    "        \n",
    "        '''\n",
    "        Bullish Failure Confirmed\n",
    "        ------------------------\n",
    "        not in position\n",
    "        &&\n",
    "        if testHPrice > longSignalPrice , i.e. testHPrice - longSignalPrice >= EPSILON\n",
    "        &&\n",
    "        optStr.volumeSeries(dd) > optStr.sphVolume(dd-1)\n",
    "        {\n",
    "             set the failure flag \n",
    "             reset the longPenetrationCount = 0 \n",
    "             set the failure line to the previous day close:\n",
    "                  failureLongLine = optStr.entrySignalingSeries(CLOSE,max(dd-1,1))\n",
    "        }\n",
    "\n",
    "\n",
    "        if failure flag, for the next  \"confirmationTimeThreshold\" days do the following\n",
    "        {\n",
    "           if testHPrice < failureLongLine && longPenetrationCount <= confirmationTimeThreshold\n",
    "            we have failure signal\n",
    "           else\n",
    "            increment longPenetrationCount\n",
    "            if longPenetrationCount > confirmationTimeThreshold\n",
    "               reset the failure flag as the failure setup expired\n",
    "                end\n",
    "           end\n",
    "        }\n",
    "        '''    \n",
    "        bullish_failure_confirmed = (bullish_breakout_confirmed == 1) & (sp_df.bullish_failureflag == 1)\n",
    "        \n",
    "        '''\n",
    "        Bearish Failure Confirmed\n",
    "        -------------------------\n",
    "        not in position\n",
    "        &&\n",
    "        testLPrice < shortSignalPrice , i.e. testLPrice - shortSignalPrice <= -EPSILON\n",
    "        &&\n",
    "        optStr.volumeSeries(dd) > optStr.splVolume(dd-1)\n",
    "        {\n",
    "             set the failure flag\n",
    "             reset the shortPenetrationCount = 0 \n",
    "             set the failure line to the previous day close:\n",
    "                  failureShortLine= optStr.entrySignalingSeries(CLOSE,max(dd-1,1))\n",
    "        }\n",
    "\n",
    "        if failure flag is set, for the next  \"confirmationTimeThreshold\" days do the following\n",
    "        {\n",
    "             if testLPrice > failureShortLine && shortPenetrationCount <= confirmationTimeThreshold\n",
    "            we have failure signal\n",
    "           else\n",
    "            increment shortPenetrationCount\n",
    "            if shortPenetrationCount > confirmationTimeThreshold\n",
    "               reset the failure flag as the failure setup expired\n",
    "                end\n",
    "           end\n",
    "        }\n",
    "        '''\n",
    "        bearish_failure_confirmed = (bearish_breakout_confirmed == 1) & (sp_df.bearish_failureflag == 1)\n",
    "        \n",
    "        if self.direction == 1:     \n",
    "            rules_list = [bullish_breakout_confirmed, bullish_failure_confirmed]\n",
    "            \n",
    "        elif self.direction == -1:\n",
    "            rules_list = [bearish_breakout_confirmed, bearish_failure_confirmed]    \n",
    "        \n",
    "\n",
    "        # Median based trailing stop\n",
    "        trailing_stop = px.rolling(period_median).median().shift(1)        \n",
    "    \n",
    "        # Enry/exit rules\n",
    "        entry_rule = rules_list[rules_index]\n",
    "        \n",
    "        if self.direction == 1:     \n",
    "            exit_rule = (CrossDown(px, trailing_stop)) # Cross down for longs\n",
    "            \n",
    "        elif self.direction == -1:\n",
    "            exit_rule = (CrossUp(px, trailing_stop)) # Cross up for shorts, Cross down for longs\n",
    "        \n",
    "        # Swarm_member_name must be *unique* for every swarm member\n",
    "        # We use params values for uniqueness \n",
    "        swarm_member_name = str((sphTreshold_value, splTreshold_value, rules_index, period_median))        \n",
    "        \n",
    "        return swarm_member_name, entry_rule, exit_rule\n",
    "        "
   ]
  },
  {
   "cell_type": "markdown",
   "metadata": {},
   "source": [
    "<h1>Backtest results</h2>"
   ]
  },
  {
   "cell_type": "code",
   "execution_count": null,
   "metadata": {
    "collapsed": false
   },
   "outputs": [],
   "source": [
    "# Initiate the strategy\n",
    "\n",
    "strategy = StrategySwingPointsTrail()"
   ]
  },
  {
   "cell_type": "code",
   "execution_count": null,
   "metadata": {
    "collapsed": false
   },
   "outputs": [],
   "source": [
    "strategy.positionsize.plot()"
   ]
  },
  {
   "cell_type": "code",
   "execution_count": null,
   "metadata": {
    "collapsed": false,
    "scrolled": false
   },
   "outputs": [],
   "source": [
    "# Running all parameters permutations in swarm\n",
    "swarm, swarm_stats, swarm_inposition = strategy.run_swarm()"
   ]
  },
  {
   "cell_type": "code",
   "execution_count": null,
   "metadata": {
    "collapsed": false
   },
   "outputs": [],
   "source": [
    "len(swarm)"
   ]
  },
  {
   "cell_type": "markdown",
   "metadata": {
    "collapsed": false
   },
   "source": [
    "# Analyze the swarm"
   ]
  },
  {
   "cell_type": "markdown",
   "metadata": {},
   "source": [
    "### Exploriong swarm bounds"
   ]
  },
  {
   "cell_type": "code",
   "execution_count": null,
   "metadata": {
    "collapsed": false
   },
   "outputs": [],
   "source": [
    "figsize(15,10)\n",
    "title(strategy.name)\n",
    "swarm.apply(lambda x: np.percentile(x, q=95), axis=1).plot(label='Top 5%', c='g')\n",
    "swarm.apply(lambda x: np.percentile(x, q=66), axis=1).plot(label='Top 66%', c='g', style='k--')\n",
    "swarm.apply(np.median, axis=1).plot(label='Median member')\n",
    "swarm.apply(lambda x: np.percentile(x, q=33), axis=1).plot(label='Bottom 33%', c='r', style='k--')\n",
    "swarm.apply(lambda x: np.percentile(x, q=5), axis=1).plot(label='Bottom 5%', c='r')\n",
    "\n",
    "legend(loc=2);\n",
    "\n",
    "avg_no_costs = swarm.apply(np.mean, axis=1)"
   ]
  },
  {
   "cell_type": "markdown",
   "metadata": {},
   "source": [
    "## Picking the swarm members and compose a portfolio\n"
   ]
  },
  {
   "cell_type": "code",
   "execution_count": null,
   "metadata": {
    "collapsed": false
   },
   "outputs": [],
   "source": [
    "# Swarm Manager context (settings)\n",
    "context = {\n",
    "    'nsystems': NSwarm_Members, # Number of swarm members to pick\n",
    "}\n",
    "\n",
    "# Rebalance the swarm every Monday\n",
    "rebalance_time = swarm.index.dayofweek == 0\n",
    "\n",
    "# Rank systems by 14 days returns of equity\n",
    "# FYI: ranking_func must me assigned without () at the end of line!\n",
    "ranking_func =  SwarmRanker.highestreturns_14days"
   ]
  },
  {
   "cell_type": "markdown",
   "metadata": {},
   "source": [
    "### Setting up SwarmManager"
   ]
  },
  {
   "cell_type": "code",
   "execution_count": null,
   "metadata": {
    "collapsed": false
   },
   "outputs": [],
   "source": [
    "swarm_manager = SwarmManager(rebalancetime=rebalance_time,    # Every week\n",
    "                             rankerfunc=ranking_func,         # Rank - 14 days returns\n",
    "                             context=context,                 # Backtester settings / params\n",
    "                            )"
   ]
  },
  {
   "cell_type": "code",
   "execution_count": null,
   "metadata": {
    "collapsed": false
   },
   "outputs": [],
   "source": [
    "# Getting average swarm member equity\n",
    "avg_swarm = SwarmManager.get_average_swarm(swarm)"
   ]
  },
  {
   "cell_type": "markdown",
   "metadata": {},
   "source": [
    "### Swarm global filtering algorithms\n",
    "\n"
   ]
  },
  {
   "cell_type": "code",
   "execution_count": null,
   "metadata": {
    "collapsed": false
   },
   "outputs": [],
   "source": [
    "price = avg_swarm\n",
    "period = 10\n",
    "vola_offset = 1.0"
   ]
  },
  {
   "cell_type": "code",
   "execution_count": null,
   "metadata": {
    "collapsed": false,
    "scrolled": false
   },
   "outputs": [],
   "source": [
    "\n",
    "def swingpoint_filter_threshold(price, period, up_factor, down_factor):\n",
    "    #vola = price.diff(period=5).abs().rolling(60).median()\n",
    "    vola = price.diff(period=1).abs().rolling(60).median()\n",
    "    \n",
    "    \n",
    "    swing_point = pd.Series(np.nan, index=price.index)\n",
    "    swing_point_regime = pd.Series(0, index=price.index)\n",
    "    \n",
    "    # Swing point bullish regime\n",
    "    swing_switch = 1\n",
    "    \n",
    "    # Swing point start index\n",
    "    sw_i = -1\n",
    "    \n",
    "    # Min/Max prices for swings\n",
    "    sw_h_max = price[0]\n",
    "    sw_l_min = price[0]\n",
    "    \n",
    "    \n",
    "    for i in range(len(price)):\n",
    "        if i == 0:\n",
    "            continue\n",
    "        if np.isnan(price[i]):\n",
    "            continue\n",
    "        if np.isnan(vola.values[i]):            \n",
    "            continue\n",
    "        elif sw_i == -1 and vola.values[i] > 0:     \n",
    "            sw_h_max = sw_l_min = price[i]\n",
    "            sw_i = i\n",
    "        \n",
    "        \n",
    "        if swing_switch == 1:\n",
    "            #\n",
    "            #  We have a bullish swing \n",
    "            #\n",
    "            sw_h_max = max(sw_h_max, price[i])\n",
    "            \n",
    "            \n",
    "            # Check for reversion\n",
    "            if price[i] <= sw_h_max-vola[sw_i]*down_factor:\n",
    "                # Reverse swing\n",
    "                swing_switch = -1\n",
    "                sw_l_min = price.values[i]\n",
    "                sw_h_max = price.values[i]\n",
    "                swing_point.values[i] = sw_l_min + vola[sw_i]*up_factor\n",
    "                \n",
    "                sw_i = i\n",
    "            else:\n",
    "                swing_point.values[i] = sw_h_max-vola[sw_i]*down_factor  \n",
    "                \n",
    "                \n",
    "        else:\n",
    "            #\n",
    "            #  We have a bearish swing\n",
    "            #\n",
    "            sw_l_min = min(sw_l_min, price.values[i])\n",
    "            \n",
    "            \n",
    "            # Check for reversion\n",
    "            if price.values[i] >= sw_l_min + vola[sw_i]*up_factor:\n",
    "                # Reverse swing\n",
    "                swing_switch = 1\n",
    "                sw_l_min = price.values[i]\n",
    "                sw_h_max = price.values[i]\n",
    "                sw_i = i\n",
    "                swing_point.values[i] = sw_h_max - vola[sw_i]*down_factor                  \n",
    "            else:\n",
    "                swing_point.values[i] = sw_l_min + vola[sw_i]*up_factor  \n",
    "                \n",
    "        swing_point_regime.values[i] = swing_switch                \n",
    "    return swing_point, swing_point_regime\n",
    "            \n",
    "            \n",
    "swing_point_threshold, swing_point_regime_threshold = swingpoint_filter_threshold(price, period, up_factor, down_factor)\n",
    "\n",
    "price.plot()\n",
    "swing_point_threshold.plot()\n",
    "figure()\n",
    "\n",
    "swing_point_regime_threshold.plot.area(stacked=False)    \n",
    "    "
   ]
  },
  {
   "cell_type": "markdown",
   "metadata": {},
   "source": [
    "### Applying global swingpoint factor"
   ]
  },
  {
   "cell_type": "code",
   "execution_count": null,
   "metadata": {
    "collapsed": false
   },
   "outputs": [],
   "source": [
    "# Simple swing point filter\n",
    "#global_filter = swing_point_regime == -1\n",
    "\n",
    "\n",
    "# Swing point filter with volatility threshold\n",
    "global_filter = swing_point_regime_threshold == -1\n",
    "\n"
   ]
  },
  {
   "cell_type": "code",
   "execution_count": null,
   "metadata": {
    "collapsed": false
   },
   "outputs": [],
   "source": [
    "is_picked_df_no_filter = swarm_manager.backtest(swarm)\n",
    "is_picked_df_with_filter = swarm_manager.backtest(swarm, global_filter)"
   ]
  },
  {
   "cell_type": "markdown",
   "metadata": {},
   "source": [
    "# Estimating swarm rebalance and global_filter costs"
   ]
  },
  {
   "cell_type": "code",
   "execution_count": null,
   "metadata": {
    "collapsed": false
   },
   "outputs": [],
   "source": [
    "swarm_picked_inposition_wfilter  = swarm_inposition & is_picked_df_with_filter\n",
    "swarm_picked_inposition_wofilter  = swarm_inposition & is_picked_df_no_filter\n"
   ]
  },
  {
   "cell_type": "markdown",
   "metadata": {},
   "source": [
    "## Transaction count for swarm (in + outs) * swarm_members"
   ]
  },
  {
   "cell_type": "code",
   "execution_count": null,
   "metadata": {
    "collapsed": false
   },
   "outputs": [],
   "source": [
    "swarm_picked_inposition_wfilter.sum().sum()"
   ]
  },
  {
   "cell_type": "code",
   "execution_count": null,
   "metadata": {
    "collapsed": false
   },
   "outputs": [],
   "source": [
    "swarm_picked_inposition_wofilter.sum().sum()"
   ]
  },
  {
   "cell_type": "markdown",
   "metadata": {},
   "source": [
    "### Calculating costs for swarm"
   ]
  },
  {
   "cell_type": "code",
   "execution_count": null,
   "metadata": {
    "collapsed": false
   },
   "outputs": [],
   "source": [
    "def calc_costs_per_side(exo_info, options_costs, futures_costs):\n",
    "    \"\"\"\n",
    "    Calculates costs per one EXO unit\n",
    "    \"\"\"\n",
    "    pcf = exo_info['pcf']\n",
    "    pcfqty = exo_info['pcfqty']\n",
    "    \n",
    "    costs = 0.0\n",
    "    \n",
    "    for i, c in enumerate(pcf):\n",
    "        if c == 2: # Futures contract\n",
    "            costs += abs(pcfqty[i] * futures_costs)\n",
    "        elif c == 0: # Call contract\n",
    "            costs += abs(pcfqty[i] * options_costs)\n",
    "        elif c == 1: # Put contract\n",
    "            costs += abs(pcfqty[i] * options_costs)\n",
    "        else:\n",
    "            #Unexpected error\n",
    "            raise ValueError(\"Unexpected contact type: {0}\".format(c))        \n",
    "        \n",
    "    return costs"
   ]
  },
  {
   "cell_type": "code",
   "execution_count": null,
   "metadata": {
    "collapsed": false,
    "scrolled": false
   },
   "outputs": [],
   "source": [
    "swarm_transactions_wfilter = (swarm_picked_inposition_wfilter != swarm_picked_inposition_wfilter.shift()).astype(np.int8)\n",
    "swarm_entries_wfilter = ( (swarm_picked_inposition_wfilter == 1) & (swarm_picked_inposition_wfilter.shift() == 0))\n",
    "\n",
    "swarm_transactions_wofilter = (swarm_picked_inposition_wofilter != swarm_picked_inposition_wofilter.shift()).astype(np.int8)\n",
    "swarm_entries_wofilter = ( (swarm_picked_inposition_wofilter == 1) & (swarm_picked_inposition_wofilter.shift() == 0))\n",
    "\n",
    "\n",
    "costs = calc_costs_per_side(info, costs_options, costs_futures)\n",
    "\n",
    "print('Estimated costs ${0}'.format(costs))\n",
    "info"
   ]
  },
  {
   "cell_type": "code",
   "execution_count": null,
   "metadata": {
    "collapsed": false
   },
   "outputs": [],
   "source": [
    "swarm.columns"
   ]
  },
  {
   "cell_type": "code",
   "execution_count": null,
   "metadata": {
    "collapsed": false
   },
   "outputs": [],
   "source": [
    "[1, 2, 3, 4, 5, 6]\n",
    "+1 "
   ]
  },
  {
   "cell_type": "markdown",
   "metadata": {},
   "source": [
    "### Prepearing swarm data with rebalancing costs"
   ]
  },
  {
   "cell_type": "code",
   "execution_count": null,
   "metadata": {
    "collapsed": false
   },
   "outputs": [],
   "source": [
    "eq_changes_wfilter = swarm.diff()\n",
    "eq_changes_wofilter = swarm.diff()\n",
    "\n",
    "\n",
    "\n",
    "# Fixin costs and 1st bar bug\n",
    "eq_changes_wfilter[swarm_entries_wfilter == 1] = 0\n",
    "eq_changes_wofilter[swarm_entries_wofilter == 1] = 0\n",
    "\n",
    "\n",
    "\n",
    "\n",
    "# Applying costs\n",
    "eq_changes_wfilter[swarm_transactions_wfilter == 1] = -costs\n",
    "eq_changes_wofilter[swarm_transactions_wofilter == 1] = -costs\n",
    "\n",
    "\n",
    "figsize(20, 20)\n",
    "\n",
    "\n",
    "avg_picked_equity_no_filter = eq_changes_wofilter[is_picked_df_no_filter == 1.0].mean(axis=1).cumsum().ffill()\n",
    "avg_picked_equity_with_filter = eq_changes_wfilter[is_picked_df_with_filter == 1.0].mean(axis=1).cumsum().ffill()\n",
    "\n",
    "#avg_all_equity = avg_swarm\n",
    "avg_all_equity = swarm.diff().mean(axis=1).cumsum().ffill()\n",
    "\n",
    "\n",
    "\n",
    "avg_all_equity.plot(label='Avg Swarm equity');\n",
    "avg_picked_equity_no_filter.plot(label='Picked Swarm equity NO Filter')\n",
    "avg_picked_equity_with_filter.plot(label='Picked Swarm equity WITH Filter')\n",
    "#avg_swarm.rolling(100).mean().plot(label='Avg Swarm MovingAvg filter')\n",
    "#swing_point.plot(label='SwingPoint')\n",
    "title('Average swarm member equity');\n",
    "legend(loc=2)"
   ]
  },
  {
   "cell_type": "markdown",
   "metadata": {
    "collapsed": false
   },
   "source": [
    "## Margin graphs"
   ]
  },
  {
   "cell_type": "markdown",
   "metadata": {},
   "source": [
    "### Margin without global filter"
   ]
  },
  {
   "cell_type": "code",
   "execution_count": null,
   "metadata": {
    "collapsed": false
   },
   "outputs": [],
   "source": [
    "figsize(10, 10)\n",
    "mrg = (swarm_picked_inposition_wofilter * info['margin']).sum(axis=1)\n",
    "\n",
    "mrg.rolling(20).mean().plot(label=\"Mean Margin\")\n",
    "mrg.rolling(20).max().plot(label=\"Mean Margin\")"
   ]
  },
  {
   "cell_type": "markdown",
   "metadata": {},
   "source": [
    "### Margin with global filter"
   ]
  },
  {
   "cell_type": "code",
   "execution_count": null,
   "metadata": {
    "collapsed": false
   },
   "outputs": [],
   "source": [
    "figsize(10, 10)\n",
    "mrg = (swarm_picked_inposition_wfilter * info['margin']).sum(axis=1)\n",
    "\n",
    "mrg.rolling(20).mean().plot(label=\"Mean Margin\")\n",
    "mrg.rolling(20).max().plot(label=\"Mean Margin\")"
   ]
  },
  {
   "cell_type": "code",
   "execution_count": null,
   "metadata": {
    "collapsed": false
   },
   "outputs": [],
   "source": [
    "pd.__version__"
   ]
  },
  {
   "cell_type": "code",
   "execution_count": null,
   "metadata": {
    "collapsed": false
   },
   "outputs": [],
   "source": [
    "d.exo.diff(periods=2)"
   ]
  },
  {
   "cell_type": "code",
   "execution_count": null,
   "metadata": {
    "collapsed": false
   },
   "outputs": [],
   "source": []
  }
 ],
 "metadata": {
  "kernelspec": {
   "display_name": "Python 3",
   "language": "python",
   "name": "python3"
  },
  "language_info": {
   "codemirror_mode": {
    "name": "ipython",
    "version": 3
   },
   "file_extension": ".py",
   "mimetype": "text/x-python",
   "name": "python",
   "nbconvert_exporter": "python",
   "pygments_lexer": "ipython3",
   "version": "3.5.1"
  }
 },
 "nbformat": 4,
 "nbformat_minor": 0
}
