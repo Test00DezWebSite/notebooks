{
 "cells": [
  {
   "cell_type": "code",
   "execution_count": null,
   "metadata": {
    "collapsed": false
   },
   "outputs": [],
   "source": [
    "import pandas as pd\n",
    "import numpy as np\n",
    "from pandas_datareader import data, wb\n",
    "import datetime\n",
    "\n",
    "import sys\n",
    "sys.path.append('../..')\n",
    "from backtester import matlab, backtester\n",
    "from backtester.analysis import *\n",
    "from pandas.tseries.offsets import *"
   ]
  },
  {
   "cell_type": "code",
   "execution_count": null,
   "metadata": {
    "collapsed": false
   },
   "outputs": [],
   "source": [
    "%pylab inline\n",
    "%load_ext autoreload\n",
    "%autoreload 2"
   ]
  },
  {
   "cell_type": "code",
   "execution_count": null,
   "metadata": {
    "collapsed": false
   },
   "outputs": [],
   "source": [
    "#\n",
    "# random time series\n",
    "#\n",
    "date = pd.date_range(start='2015-01', end='2015-05', freq='D')\n",
    "price = np.random.randint(-100, 100, size=len(date))\n",
    "df = pd.DataFrame(price, index=date, columns=['close'])\n",
    "df = df.cumsum()"
   ]
  },
  {
   "cell_type": "code",
   "execution_count": null,
   "metadata": {
    "collapsed": false
   },
   "outputs": [],
   "source": [
    "#\n",
    "# Real ticker data\n",
    "#\n",
    "start = datetime.datetime(2010, 1, 1)\n",
    "end = datetime.datetime.now()\n",
    "\n",
    "price_data = data.DataReader('SPY', 'yahoo', start, end)\n",
    "adjclose_series = price_data['Adj Close']\n",
    "adjclose_series.name = 'close'\n",
    "\n",
    "df = pd.DataFrame(adjclose_series)"
   ]
  },
  {
   "cell_type": "code",
   "execution_count": null,
   "metadata": {
    "collapsed": false,
    "scrolled": false
   },
   "outputs": [],
   "source": [
    "strategyname = 'strategy_180113'\n",
    "d, info = matlab.loaddata('../../mat/'+strategyname+'.mat')\n",
    "\n",
    "df = pd.DataFrame()\n",
    "df['close'] = d.exo"
   ]
  },
  {
   "cell_type": "code",
   "execution_count": null,
   "metadata": {
    "collapsed": false
   },
   "outputs": [],
   "source": [
    "figsize(5,5)\n",
    "d.exo.plot()"
   ]
  },
  {
   "cell_type": "code",
   "execution_count": null,
   "metadata": {
    "collapsed": false
   },
   "outputs": [],
   "source": [
    "info"
   ]
  },
  {
   "cell_type": "markdown",
   "metadata": {},
   "source": [
    "## Renko calculation\n",
    "\n",
    "## High/Low of renko bricks is only needed for visual representation"
   ]
  },
  {
   "cell_type": "code",
   "execution_count": null,
   "metadata": {
    "collapsed": false,
    "scrolled": false
   },
   "outputs": [],
   "source": [
    "box_size = 100\n",
    "\n",
    "box_start = 0\n",
    "box_start_idx = None\n",
    "\n",
    "box_end = 0\n",
    "box_quantity = 0\n",
    "\n",
    "temp_l = []\n",
    "\n",
    "# Simple renko algorihtm\n",
    "\n",
    "\n",
    "# \n",
    "for i in range(len(df)):\n",
    "    if box_start == 0:\n",
    "        box_start = df.close[i]\n",
    "\n",
    "    else:\n",
    "        box_start = box_start\n",
    "        price_move = df.close[i] - box_start\n",
    "        \n",
    "        # First of all we need to set box size. \n",
    "        # Then calculate price movement. \n",
    "        # If price movement is more or equal than box size - renko bar(or bars) will be added\n",
    "        \n",
    "        if np.abs(price_move) >= box_size:\n",
    "            \n",
    "            # After we calculate box_quantity(price move divided by box size)\n",
    "            # This number defines how much renko bars will be registred\n",
    "            box_quantity = np.int32(np.floor(np.abs(price_move / box_size)))\n",
    "            box_index = df.close.index[i]\n",
    "\n",
    "            for b in range(int(box_quantity)):\n",
    "            # Let say, index is 2015-01-01, box_start = 100, box_quantity = 3, box size = 10, price move > 0\n",
    "            # So renko bar 1 will have next parameters - \n",
    "            # 1)index 2015-01-01\n",
    "            # 2)open = 100\n",
    "            # 3)close = 110(box_start + box_size)\n",
    "            # 4)type = up\n",
    "            \n",
    "            # Next renko bar will have next parameters -\n",
    "            # 1)index 2015-01-01\n",
    "            # 2)open = 110(previous renko bar close)\n",
    "            # 3)close = 120(open + box_size)\n",
    "            # 4)type = up\n",
    "            \n",
    "            # And so on..\n",
    "            \n",
    "            # After all we adding renko bars dict to list and convert it to DF\n",
    "            \n",
    "                if price_move > 0:\n",
    "                    if box_end == 0:\n",
    "                        d = {'date': box_index, 'open': box_start, 'close': box_start + box_size, 'type': 'up'}\n",
    "                        box_end = d['close']\n",
    "                        temp_l.append(d)\n",
    "                        \n",
    "                    else:\n",
    "                        d = {'date': box_index, 'open': box_end, 'close': box_end + box_size,\n",
    "                            'type': 'up'}\n",
    "                        \n",
    "                        box_end = d['close']\n",
    "                        temp_l.append(d)\n",
    "\n",
    "                if price_move < 0:\n",
    "                    if box_end == 0:\n",
    "                        d = {'date': box_index, 'open': box_start, 'close': box_start - box_size, 'type': 'down'}\n",
    "                        box_end = d['close']\n",
    "                        temp_l.append(d)\n",
    "                        \n",
    "                    else:           \n",
    "                        d = {'date': box_index, 'open': box_end, 'close': box_end - box_size, \n",
    "                             'type': 'down'}\n",
    "                        \n",
    "                        box_end = d['close']\n",
    "                        temp_l.append(d)\n",
    "                        \n",
    "            box_start = df.close[i]\n",
    "            \n",
    "renko_df = pd.DataFrame(temp_l)\n",
    "\n",
    "del temp_l\n",
    "\n",
    "high_l = []\n",
    "low_l = []\n",
    "for i in range(len(renko_df)):\n",
    "    if renko_df.close[i] > renko_df.open[i]:\n",
    "        high_l.append(renko_df.close[i])\n",
    "        low_l.append(renko_df.open[i])\n",
    "        \n",
    "    if renko_df.close[i] < renko_df.open[i]:\n",
    "        high_l.append(renko_df.open[i])\n",
    "        low_l.append(renko_df.close[i])\n",
    "        \n",
    "renko_df['low'] = low_l\n",
    "renko_df['high'] = high_l\n",
    "\n",
    "del low_l\n",
    "del high_l"
   ]
  },
  {
   "cell_type": "markdown",
   "metadata": {},
   "source": [
    "## Defining peaks and falls and their prices"
   ]
  },
  {
   "cell_type": "code",
   "execution_count": null,
   "metadata": {
    "collapsed": false
   },
   "outputs": [],
   "source": [
    "# Peaks\n",
    "renko_peak = ((renko_df.type == 'down') & (renko_df.type.shift(1) == 'down') \n",
    "          & (renko_df.type.shift(2) == 'up') & (renko_df.type.shift(3) == 'up'))\n",
    "\n",
    "renko_df['peak'] = renko_peak\n",
    "\n",
    "# Adding underlying_pick_price column\n",
    "ul_peak_price = df.close[df.close.index.isin(renko_df[renko_df.peak.shift(-2) == True].date)]\n",
    "ul_peak_price.name = 'underlying_peak_price'\n",
    "\n",
    "renko_df = renko_df.join(ul_peak_price, on=['date'])\n",
    "renko_df.underlying_peak_price = renko_df.underlying_peak_price.shift(2) #This needed for avoiding future reference problem\n",
    "\n",
    "renko_df.loc[renko_df.peak == False, 'underlying_peak_price'] = np.NaN # Drop all values which available earlier than peak/fall occurs\n",
    "\n",
    "renko_df['renko_peak_price'] = renko_df.close[renko_df.peak.shift(-2) == True]\n",
    "renko_df.renko_peak_price = renko_df.renko_peak_price.shift(2) #This needed for avoiding future reference problem"
   ]
  },
  {
   "cell_type": "code",
   "execution_count": null,
   "metadata": {
    "collapsed": false
   },
   "outputs": [],
   "source": [
    "# Falls\n",
    "renko_fall = ((renko_df.type == 'up') & (renko_df.type.shift(1) == 'up') \n",
    "          & (renko_df.type.shift(2) == 'down') & (renko_df.type.shift(3) == 'down'))\n",
    "\n",
    "renko_df['fall'] = renko_fall\n",
    "\n",
    "# Adding underlying_fall_price column \n",
    "ul_fall_price = df.close[df.close.index.isin(renko_df[renko_df.fall.shift(-2) == True].date)]\n",
    "ul_fall_price.name = 'underlying_fall_price'\n",
    "\n",
    "renko_df = renko_df.join(ul_fall_price, on=['date'])\n",
    "renko_df.underlying_fall_price = renko_df.underlying_fall_price.shift(2) #This needed for avoiding future reference problem\n",
    "\n",
    "renko_df.loc[renko_df.fall == False, 'underlying_fall_price'] = np.NaN # Drop all values which available earlier than peak/fall occurs\n",
    "\n",
    "renko_df['renko_fall_price'] = renko_df.close[renko_df.fall.shift(-2) == True]\n",
    "renko_df.renko_fall_price = renko_df.renko_fall_price.shift(2) #This needed for avoiding future reference problem"
   ]
  },
  {
   "cell_type": "code",
   "execution_count": null,
   "metadata": {
    "collapsed": false,
    "scrolled": false
   },
   "outputs": [],
   "source": [
    "renko_df.renko_peak_price = renko_df.renko_peak_price.fillna(method='ffill')\n",
    "renko_df.renko_fall_price = renko_df.renko_fall_price.fillna(method='ffill')"
   ]
  },
  {
   "cell_type": "markdown",
   "metadata": {},
   "source": [
    "## Flat and trend patterns"
   ]
  },
  {
   "cell_type": "code",
   "execution_count": null,
   "metadata": {
    "collapsed": false
   },
   "outputs": [],
   "source": [
    "renko_flat = (((renko_df.type == 'up') & (renko_df.type.shift(1) == 'down') \n",
    "                & (renko_df.type.shift(2) == 'up') & (renko_df.type.shift(3) == 'down')) | \n",
    "              ((renko_df.type == 'down') & (renko_df.type.shift(1) == 'up') & (renko_df.type.shift(2) == 'down') \n",
    "             & (renko_df.type.shift(3) == 'up')))\n",
    "\n",
    "renko_df['flat'] = renko_flat\n",
    "\n",
    "renko_trend_up = ((renko_df.type == 'up') & (renko_df.type.shift(1) == 'up') & (renko_df.type.shift(2) == 'up'))\n",
    "renko_trend_down = ((renko_df.type == 'down') & (renko_df.type.shift(1) == 'down') & (renko_df.type.shift(2) == 'down'))\n",
    "\n",
    "renko_df['trend_up'] = renko_trend_up\n",
    "renko_df['trend_down'] = renko_trend_down"
   ]
  },
  {
   "cell_type": "markdown",
   "metadata": {},
   "source": [
    "## Small double top/bottom pattern"
   ]
  },
  {
   "cell_type": "code",
   "execution_count": null,
   "metadata": {
    "collapsed": false,
    "scrolled": false
   },
   "outputs": [],
   "source": [
    "renko_small_double_top = ((renko_df.type == 'down') & (renko_df.type.shift(1) == 'down') & (renko_df.type.shift(2) == 'up')\n",
    "                         & (renko_df.type.shift(3) == 'down') & (renko_df.type.shift(4) == 'up') & (renko_df.type.shift(5) == 'up'))\n",
    "\n",
    "renko_df['small_double_top'] = renko_small_double_top\n",
    "\n",
    "renko_small_double_bottom = ((renko_df.type == 'up') & (renko_df.type.shift(1) == 'up') & (renko_df.type.shift(2) == 'down')\n",
    "                         & (renko_df.type.shift(3) == 'up') & (renko_df.type.shift(4) == 'down') & (renko_df.type.shift(5) == 'down'))\n",
    "\n",
    "renko_df['small_double_bottom'] = renko_small_double_bottom"
   ]
  },
  {
   "cell_type": "markdown",
   "metadata": {},
   "source": [
    "## Trend correction pattern( no.7 in renko patterns.pdf)"
   ]
  },
  {
   "cell_type": "code",
   "execution_count": null,
   "metadata": {
    "collapsed": false
   },
   "outputs": [],
   "source": [
    "renko_up_trend_correction = ((renko_df.type == 'up') & (renko_df.type.shift(1) == 'up') & (renko_df.type.shift(2) == 'down')\n",
    "                            & (renko_df.type.shift(3) == 'up') & (renko_df.type.shift(4) == 'up'))\n",
    "\n",
    "renko_df['up_trend_correction'] = renko_up_trend_correction\n",
    "\n",
    "renko_down_trend_correction = ((renko_df.type == 'down') & (renko_df.type.shift(1) == 'down') & (renko_df.type.shift(2) == 'up')\n",
    "                            & (renko_df.type.shift(3) == 'down') & (renko_df.type.shift(4) == 'down'))\n",
    "\n",
    "renko_df['down_trend_correction'] = renko_down_trend_correction"
   ]
  },
  {
   "cell_type": "markdown",
   "metadata": {},
   "source": [
    "# Peak/fall prices combinations"
   ]
  },
  {
   "cell_type": "markdown",
   "metadata": {},
   "source": [
    "### Defining peak/fall price direction relative to previous peak/fall price"
   ]
  },
  {
   "cell_type": "code",
   "execution_count": null,
   "metadata": {
    "collapsed": false
   },
   "outputs": [],
   "source": [
    "renko_peak_df = renko_df[renko_df.peak == True]\n",
    "\n",
    "renko_peak_price_move = np.array([None] * len(renko_peak_df.type))\n",
    "#renko_peak_price_move = np.empty_like(renko_peak_df.type) # This code crashes the python...\n",
    "\n",
    "for i in range(len(renko_peak_df)):\n",
    "    if i > 0:\n",
    "        if renko_peak_df.renko_peak_price.values[i] > renko_peak_df.renko_peak_price.values[i-1]: \n",
    "            renko_peak_price_move[i] = 'up'\n",
    "            \n",
    "        elif renko_peak_df.renko_peak_price.values[i] < renko_peak_df.renko_peak_price.values[i-1]:\n",
    "            renko_peak_price_move[i] = 'down'\n",
    "            \n",
    "        elif renko_peak_df.renko_peak_price.values[i-1] == renko_peak_df.renko_peak_price.values[i]:\n",
    "            renko_peak_price_move[i] = 'same'\n",
    "\n",
    "renko_df = renko_df.join(pd.Series(renko_peak_price_move, index=renko_peak_df.index, name='renko_peak_price_move').replace([None],np.NaN))\n",
    "\n",
    "del renko_peak_df"
   ]
  },
  {
   "cell_type": "code",
   "execution_count": null,
   "metadata": {
    "collapsed": false
   },
   "outputs": [],
   "source": [
    "renko_fall_df = renko_df[renko_df.fall == True]\n",
    "\n",
    "renko_fall_price_move = np.array([None] * len(renko_fall_df.type))\n",
    "\n",
    "for i in range(len(renko_fall_df)):\n",
    "    if i > 0:\n",
    "        if renko_fall_df.renko_fall_price.values[i] > renko_fall_df.renko_fall_price.values[i-1]: \n",
    "            renko_fall_price_move[i] = 'up'\n",
    "            \n",
    "        elif renko_fall_df.renko_fall_price.values[i] < renko_fall_df.renko_fall_price.values[i-1]:\n",
    "            renko_fall_price_move[i] = 'down'\n",
    "            \n",
    "        elif renko_fall_df.renko_fall_price.values[i-1] == renko_fall_df.renko_fall_price.values[i]:\n",
    "            renko_fall_price_move[i] = 'same'\n",
    "\n",
    "renko_df = renko_df.join(pd.Series(renko_fall_price_move, index=renko_fall_df.index, name='renko_fall_price_move').replace([None],np.NaN))\n",
    "\n",
    "del renko_fall_df"
   ]
  },
  {
   "cell_type": "markdown",
   "metadata": {},
   "source": [
    "## Patterns\n",
    "#### Peak\n",
    "#### Consecutive peak price movements count"
   ]
  },
  {
   "cell_type": "code",
   "execution_count": null,
   "metadata": {
    "collapsed": false,
    "scrolled": false
   },
   "outputs": [],
   "source": [
    "renko_peak_price_move_ser = renko_df.renko_peak_price_move.dropna()\n",
    "renko_peak_price_move_ser_prev = renko_df.renko_peak_price_move.dropna().shift(1)\n",
    "\n",
    "up_move_count = []\n",
    "up_move_counter = 0\n",
    "\n",
    "down_move_count = []\n",
    "down_move_counter = 0\n",
    "\n",
    "same_move_count = []\n",
    "same_move_counter = 0\n",
    "\n",
    "for i in renko_peak_price_move_ser.index:\n",
    "    \n",
    "    if i > 0:\n",
    "    # Consec Up peak price movements\n",
    "        if (renko_peak_price_move_ser[i] == 'up') & (renko_peak_price_move_ser_prev[i] != 'up'):\n",
    "            up_move_counter = 1\n",
    "            up_move_count.append(up_move_counter)\n",
    "            \n",
    "        elif (renko_peak_price_move_ser[i] == 'up') & (renko_peak_price_move_ser_prev[i] == 'up'):\n",
    "            up_move_counter += 1\n",
    "            up_move_count.append(up_move_counter)\n",
    "            \n",
    "        elif (renko_peak_price_move_ser[i] != 'up') & (renko_peak_price_move_ser_prev[i] == 'up'):\n",
    "            up_move_counter = 0\n",
    "            up_move_count.append(up_move_counter)\n",
    "            \n",
    "        elif (renko_peak_price_move_ser[i] != 'up') & (renko_peak_price_move_ser_prev[i] != 'up'):\n",
    "            up_move_counter = 0\n",
    "            up_move_count.append(up_move_counter)\n",
    "            \n",
    "    # Consec down peak price movements  \n",
    "        if (renko_peak_price_move_ser[i] == 'down') & (renko_peak_price_move_ser_prev[i] != 'down'):\n",
    "            down_move_counter = 1\n",
    "            down_move_count.append(down_move_counter)\n",
    "            \n",
    "        elif (renko_peak_price_move_ser[i] == 'down') & (renko_peak_price_move_ser_prev[i] == 'down'):\n",
    "            down_move_counter += 1\n",
    "            down_move_count.append(down_move_counter)\n",
    "            \n",
    "        elif (renko_peak_price_move_ser[i] != 'down') & (renko_peak_price_move_ser_prev[i] == 'down'):\n",
    "            down_move_counter = 0\n",
    "            down_move_count.append(down_move_counter)\n",
    "            \n",
    "        elif (renko_peak_price_move_ser[i] != 'down') & (renko_peak_price_move_ser_prev[i] != 'down'):\n",
    "            down_move_counter = 0\n",
    "            down_move_count.append(down_move_counter)\n",
    "            \n",
    "    # Consec same peak price movements\n",
    "        if (renko_peak_price_move_ser[i] == 'same') & (renko_peak_price_move_ser_prev[i] != 'same'):\n",
    "            same_move_counter = 1\n",
    "            same_move_count.append(same_move_counter)\n",
    "            \n",
    "        elif (renko_peak_price_move_ser[i] == 'same') & (renko_peak_price_move_ser_prev[i] == 'same'):\n",
    "            same_move_counter += 1\n",
    "            same_move_count.append(same_move_counter)\n",
    "            \n",
    "        elif (renko_peak_price_move_ser[i] != 'same') & (renko_peak_price_move_ser_prev[i] == 'same'):\n",
    "            same_move_counter = 0\n",
    "            same_move_count.append(same_move_counter)\n",
    "            \n",
    "        elif (renko_peak_price_move_ser[i] != 'same') & (renko_peak_price_move_ser_prev[i] != 'same'):\n",
    "            same_move_counter = 0\n",
    "            same_move_count.append(same_move_counter)\n",
    "\n",
    "renko_df['renko_peak_price_up_move_count'] = pd.Series(up_move_count, index=renko_peak_price_move_ser.index, \n",
    "                                                       name='renko_peak_price_up_move_count')\n",
    "  \n",
    "renko_df['renko_peak_price_down_move_count'] = pd.Series(down_move_count, index=renko_peak_price_move_ser.index, \n",
    "                                                         name='renko_peak_price_down_move_count')\n",
    "\n",
    "renko_df['renko_peak_price_same_move_count'] = pd.Series(same_move_count, index=renko_peak_price_move_ser.index, \n",
    "                                                         name='renko_peak_price_same_move_count')"
   ]
  },
  {
   "cell_type": "markdown",
   "metadata": {},
   "source": [
    "#### Fall\n",
    "#### Consecutive peak price movements count"
   ]
  },
  {
   "cell_type": "code",
   "execution_count": null,
   "metadata": {
    "collapsed": false
   },
   "outputs": [],
   "source": [
    "renko_fall_price_move_ser = renko_df.renko_fall_price_move.dropna()\n",
    "renko_fall_price_move_ser_prev = renko_df.renko_fall_price_move.dropna().shift(1)\n",
    "\n",
    "up_move_count = []\n",
    "up_move_counter = 0\n",
    "\n",
    "down_move_count = []\n",
    "down_move_counter = 0\n",
    "\n",
    "same_move_count = []\n",
    "same_move_counter = 0\n",
    "\n",
    "for i in renko_fall_price_move_ser.index:\n",
    "    \n",
    "    if i > 0:\n",
    "    # Consec Up fall price movements\n",
    "        if (renko_fall_price_move_ser[i] == 'up') & (renko_fall_price_move_ser_prev[i] != 'up'):\n",
    "            up_move_counter = 1\n",
    "            up_move_count.append(up_move_counter)\n",
    "            \n",
    "        elif (renko_fall_price_move_ser[i] == 'up') & (renko_fall_price_move_ser_prev[i] == 'up'):\n",
    "            up_move_counter += 1\n",
    "            up_move_count.append(up_move_counter)\n",
    "            \n",
    "        elif (renko_fall_price_move_ser[i] != 'up') & (renko_fall_price_move_ser_prev[i] == 'up'):\n",
    "            up_move_counter = 0\n",
    "            up_move_count.append(up_move_counter)\n",
    "            \n",
    "        elif (renko_fall_price_move_ser[i] != 'up') & (renko_fall_price_move_ser_prev[i] != 'up'):\n",
    "            up_move_counter = 0\n",
    "            up_move_count.append(up_move_counter)\n",
    "            \n",
    "    # Consec down fall price movements  \n",
    "        if (renko_fall_price_move_ser[i] == 'down') & (renko_fall_price_move_ser_prev[i] != 'down'):\n",
    "            down_move_counter = 1\n",
    "            down_move_count.append(down_move_counter)\n",
    "            \n",
    "        elif (renko_fall_price_move_ser[i] == 'down') & (renko_fall_price_move_ser_prev[i] == 'down'):\n",
    "            down_move_counter += 1\n",
    "            down_move_count.append(down_move_counter)\n",
    "            \n",
    "        elif (renko_fall_price_move_ser[i] != 'down') & (renko_fall_price_move_ser_prev[i] == 'down'):\n",
    "            down_move_counter = 0\n",
    "            down_move_count.append(down_move_counter)\n",
    "            \n",
    "        elif (renko_fall_price_move_ser[i] != 'down') & (renko_fall_price_move_ser_prev[i] != 'down'):\n",
    "            down_move_counter = 0\n",
    "            down_move_count.append(down_move_counter)\n",
    "            \n",
    "    # Consec same fall price movements\n",
    "        if (renko_fall_price_move_ser[i] == 'same') & (renko_fall_price_move_ser_prev[i] != 'same'):\n",
    "            same_move_counter = 1\n",
    "            same_move_count.append(same_move_counter)\n",
    "            \n",
    "        elif (renko_fall_price_move_ser[i] == 'same') & (renko_fall_price_move_ser_prev[i] == 'same'):\n",
    "            same_move_counter += 1\n",
    "            same_move_count.append(same_move_counter)\n",
    "            \n",
    "        elif (renko_fall_price_move_ser[i] != 'same') & (renko_fall_price_move_ser_prev[i] == 'same'):\n",
    "            same_move_counter = 0\n",
    "            same_move_count.append(same_move_counter)\n",
    "            \n",
    "        elif (renko_fall_price_move_ser[i] != 'same') & (renko_fall_price_move_ser_prev[i] != 'same'):\n",
    "            same_move_counter = 0\n",
    "            same_move_count.append(same_move_counter)\n",
    "\n",
    "renko_df['renko_fall_price_up_move_count'] = pd.Series(up_move_count, index=renko_fall_price_move_ser.index, \n",
    "                                                       name='renko_fall_price_up_move_count')\n",
    "  \n",
    "renko_df['renko_fall_price_down_move_count'] = pd.Series(down_move_count, index=renko_fall_price_move_ser.index, \n",
    "                                                         name='renko_fall_price_down_move_count')\n",
    "\n",
    "renko_df['renko_fall_price_same_move_count'] = pd.Series(same_move_count, index=renko_fall_price_move_ser.index, \n",
    "                                                         name='renko_fall_price_same_move_count')"
   ]
  },
  {
   "cell_type": "code",
   "execution_count": null,
   "metadata": {
    "collapsed": false
   },
   "outputs": [],
   "source": [
    "renko_df"
   ]
  },
  {
   "cell_type": "code",
   "execution_count": null,
   "metadata": {
    "collapsed": false,
    "scrolled": false
   },
   "outputs": [],
   "source": [
    "renko_df.renko_fall_price_down_move_count.dropna()"
   ]
  },
  {
   "cell_type": "markdown",
   "metadata": {},
   "source": [
    "## Consecutive up/down brick count"
   ]
  },
  {
   "cell_type": "code",
   "execution_count": null,
   "metadata": {
    "collapsed": false
   },
   "outputs": [],
   "source": [
    "up_count = np.zeros_like(renko_df.index)\n",
    "up_counter = 0\n",
    "\n",
    "down_count = np.zeros_like(renko_df.index)\n",
    "down_counter = 0\n",
    "\n",
    "\n",
    "for i in range(len(renko_df.index)):\n",
    "    if i > 0:\n",
    "    \n",
    "        if (renko_df.type[i] == 'up') & (renko_df.type[i-1] == 'down'):\n",
    "            up_counter = 1\n",
    "            up_count[i] = up_counter\n",
    "\n",
    "        elif (renko_df.type[i] == 'up') & (renko_df.type[i-1] == 'up'):\n",
    "            up_counter += 1\n",
    "            up_count[i] = up_counter\n",
    "\n",
    "        elif (renko_df.type[i] == 'down') & (renko_df.type[i-1] == 'up'):\n",
    "            up_counter = 0\n",
    "            up_count[i] = up_counter\n",
    "            \n",
    "        else:\n",
    "            up_counter = 0\n",
    "            up_count[i] = up_counter\n",
    "        \n",
    "        \n",
    "        \n",
    "        if (renko_df.type[i] == 'down') & (renko_df.type[i-1] == 'up'):\n",
    "            down_counter = 1\n",
    "            down_count[i] = down_counter\n",
    "\n",
    "        elif (renko_df.type[i] == 'down') & (renko_df.type[i-1] == 'down'):\n",
    "            down_counter += 1\n",
    "            down_count[i] = down_counter\n",
    "\n",
    "        elif (renko_df.type[i] == 'up') & (renko_df.type[i-1] == 'down'):\n",
    "            down_counter = 0\n",
    "            down_count[i] = down_counter\n",
    "            \n",
    "        else:\n",
    "            down_counter = 0\n",
    "            down_count[i] = down_counter\n",
    "            \n",
    "renko_df['up_count'] = up_count\n",
    "renko_df['down_count'] = down_count"
   ]
  },
  {
   "cell_type": "code",
   "execution_count": null,
   "metadata": {
    "collapsed": false,
    "scrolled": false
   },
   "outputs": [],
   "source": [
    "renko_df[renko_df.up_count != 0].groupby('up_count').count().div(len(renko_df[renko_df.up_count != 0])).close"
   ]
  },
  {
   "cell_type": "code",
   "execution_count": null,
   "metadata": {
    "collapsed": false
   },
   "outputs": [],
   "source": [
    "renko_df[renko_df.down_count != 0].groupby('down_count').count().div(len(renko_df[renko_df.down_count != 0])).close"
   ]
  },
  {
   "cell_type": "code",
   "execution_count": null,
   "metadata": {
    "collapsed": false,
    "scrolled": false
   },
   "outputs": [],
   "source": [
    "import plotly.plotly as py\n",
    "from plotly.tools import FigureFactory as FF\n",
    "from datetime import datetime\n",
    "import plotly.graph_objs as go\n",
    "\n",
    "py.sign_in('dmveden', 'rzbs7xw8ft')\n",
    "#py.sign_in('tmqr', '8rctfyu197')\n",
    "\n",
    "fig = FF.create_candlestick(renko_df.open, renko_df.high, renko_df.low, renko_df.close, dates=renko_df.index)\n",
    "py.iplot(fig)"
   ]
  },
  {
   "cell_type": "code",
   "execution_count": null,
   "metadata": {
    "collapsed": false
   },
   "outputs": [],
   "source": [
    "trace = go.Scatter(\n",
    "    x = df.index,\n",
    "    y = df.close\n",
    ")\n",
    "\n",
    "data = [trace]\n",
    "\n",
    "# Plot and embed in ipython notebook!\n",
    "py.iplot(data, filename='basic-line')"
   ]
  },
  {
   "cell_type": "code",
   "execution_count": null,
   "metadata": {
    "collapsed": false
   },
   "outputs": [],
   "source": [
    "figsize(20,10)\n",
    "renko_df.close[:].plot()\n",
    "#renko_df.low[:].plot()\n",
    "\n",
    "(renko_df.renko_fall_price_up_move_count==2).plot(secondary_y=True)\n",
    "\n",
    "#(renko_df.renko_fall_price_up_move_count==2).plot(secondary_y=True)\n",
    "\n",
    "#renko_df.small_double_bottom.plot(secondary_y=True)\n",
    "#renko_df.small_double_top.plot(secondary_y=True)"
   ]
  },
  {
   "cell_type": "code",
   "execution_count": null,
   "metadata": {
    "collapsed": false
   },
   "outputs": [],
   "source": [
    "strategyname = 'strategy_180113'\n",
    "d, info = matlab.loaddata('../../mat/'+strategyname+'.mat')"
   ]
  },
  {
   "cell_type": "code",
   "execution_count": null,
   "metadata": {
    "collapsed": false,
    "scrolled": false
   },
   "outputs": [],
   "source": [
    "df = pd.DataFrame()\n",
    "df['close'] = d.exo"
   ]
  },
  {
   "cell_type": "code",
   "execution_count": null,
   "metadata": {
    "collapsed": false
   },
   "outputs": [],
   "source": [
    "#renko_df.index = renko_df.date\n",
    "\n",
    "df = df.join(renko_df.set_index('date')[['peak','fall','flat','trend_up','trend_down','small_double_bottom',\n",
    "                                        'small_double_top','up_trend_correction', 'down_trend_correction']])\n",
    "df = df.fillna(False)\n",
    "\n",
    "df = df.join(renko_df.set_index('date')[['renko_peak_price_move','renko_fall_price_move']])\n",
    "df = df.join(renko_df.set_index('date')[['up_count', 'down_count', 'renko_peak_price_up_move_count',\n",
    "                                           'renko_peak_price_down_move_count', 'renko_peak_price_same_move_count',\n",
    "                                           'renko_fall_price_up_move_count', 'renko_fall_price_down_move_count',\n",
    "                                           'renko_fall_price_same_move_count']])\n",
    "#df = df.join(renko_df.fall, how='right')\n",
    "#df = df.join(renko_df.flat, how='right')\n",
    "#df = df.join(renko_df.trend_up)\n",
    "#df = df.join(renko_df.trend_down)\n",
    "#df = df.join(renko_df.small_double_bottom)\n",
    "#df = df.join(renko_df.small_double_top)\n",
    "#df = df.join(renko_df.up_trend_correction)\n",
    "#df = df.join(renko_df.down_trend_correction)\n",
    "\n",
    "#df = df.join(renko_peak_price_move)\n",
    "#df = df.join(renko_fall_price_move)"
   ]
  },
  {
   "cell_type": "code",
   "execution_count": null,
   "metadata": {
    "collapsed": false
   },
   "outputs": [],
   "source": [
    "signals_df[signals_df.peak == True]"
   ]
  },
  {
   "cell_type": "code",
   "execution_count": null,
   "metadata": {
    "collapsed": false
   },
   "outputs": [],
   "source": [
    "signals_df = d.join(df)\n",
    "\n",
    "trailing_stop = signals_df.exo.rolling(30).median().shift(1)\n",
    "\n",
    "short_entry = (signals_df.peak == True)\n",
    "short_exit = (signals_df.fall == True)\n",
    "#short_exit = CrossDown(temp_df.exo, trailing_stop)\n",
    "\n",
    "direction = -1\n",
    "pl, inposition = backtester.backtest(signals_df, short_entry, short_exit, direction)\n",
    "equity, stats = backtester.stats(pl, inposition)\n",
    "\n",
    "equity.plot()"
   ]
  },
  {
   "cell_type": "code",
   "execution_count": null,
   "metadata": {
    "collapsed": false
   },
   "outputs": [],
   "source": [
    "signals_df.columns"
   ]
  },
  {
   "cell_type": "code",
   "execution_count": null,
   "metadata": {
    "collapsed": false
   },
   "outputs": [],
   "source": [
    "d.join(renko_df, on=renko_df['date'])"
   ]
  },
  {
   "cell_type": "code",
   "execution_count": null,
   "metadata": {
    "collapsed": false
   },
   "outputs": [],
   "source": [
    "d.join(df)"
   ]
  },
  {
   "cell_type": "code",
   "execution_count": null,
   "metadata": {
    "collapsed": false
   },
   "outputs": [],
   "source": [
    "t.count(1)"
   ]
  },
  {
   "cell_type": "code",
   "execution_count": null,
   "metadata": {
    "collapsed": false
   },
   "outputs": [],
   "source": []
  }
 ],
 "metadata": {
  "kernelspec": {
   "display_name": "Python 3",
   "language": "python",
   "name": "python3"
  },
  "language_info": {
   "codemirror_mode": {
    "name": "ipython",
    "version": 3
   },
   "file_extension": ".py",
   "mimetype": "text/x-python",
   "name": "python",
   "nbconvert_exporter": "python",
   "pygments_lexer": "ipython3",
   "version": "3.5.1"
  }
 },
 "nbformat": 4,
 "nbformat_minor": 0
}
