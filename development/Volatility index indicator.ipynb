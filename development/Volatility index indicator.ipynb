{
 "cells": [
  {
   "cell_type": "code",
   "execution_count": null,
   "metadata": {
    "collapsed": false
   },
   "outputs": [],
   "source": [
    "import sys\n",
    "sys.path.append('../..')\n",
    "from backtester import matlab, backtester\n",
    "from backtester.analysis import *\n",
    "import pandas as pd\n",
    "import numpy as np\n",
    "import sys,os\n",
    "from sklearn import preprocessing\n",
    "\n",
    "sys.path.append('..')\n",
    "sys.path.append('../..')\n",
    "from backtester import matlab, backtester\n",
    "from backtester.analysis import *\n",
    "from backtester.swarms.swarm import Swarm\n",
    "from backtester.exoinfo import EXOInfo\n",
    "from exobuilder.data.exostorage import EXOStorage\n",
    "from IPython.core.display import display, HTML\n",
    "\n",
    "import pandas as pd\n",
    "import numpy as np\n",
    "import scipy\n",
    "import pprint\n",
    "\n",
    "%pylab inline\n",
    "figsize(20,10)"
   ]
  },
  {
   "cell_type": "code",
   "execution_count": null,
   "metadata": {
    "collapsed": false
   },
   "outputs": [],
   "source": [
    "# Loading global setting for MongoDB etc.\n",
    "from scripts.settings import *\n",
    "\n",
    "try:\n",
    "    from scripts.settings_local import *\n",
    "except:\n",
    "    pass"
   ]
  },
  {
   "cell_type": "code",
   "execution_count": null,
   "metadata": {
    "collapsed": false
   },
   "outputs": [],
   "source": [
    "storage = EXOStorage(MONGO_CONNSTR, MONGO_EXO_DB)\n",
    "pp = pprint.PrettyPrinter(indent=4)"
   ]
  },
  {
   "cell_type": "code",
   "execution_count": null,
   "metadata": {
    "collapsed": false
   },
   "outputs": [],
   "source": [
    "swm_info = storage.swarms_info()\n",
    "pp.pprint(swm_info)"
   ]
  },
  {
   "cell_type": "code",
   "execution_count": null,
   "metadata": {
    "collapsed": false
   },
   "outputs": [],
   "source": [
    "#instruments_filter = ['*']  # Select ALL\n",
    "instruments_filter = ['CL']\n",
    "\n",
    "#exo_filter = ['*'] # Select ALL\n",
    "exo_filter = ['CallSpread']\n",
    "\n",
    "#direction_filter = [0, -1, 1] # Select ALL\n",
    "direction_filter = [-1]\n",
    "\n",
    "#alpha_filter = ['*']  # Select ALL\n",
    "alpha_filter = ['PointAndFigurePatterns']\n",
    "\n",
    "swmdf, swm_data = storage.swarms_list(instruments_filter, direction_filter, alpha_filter, exo_filter)"
   ]
  },
  {
   "cell_type": "code",
   "execution_count": null,
   "metadata": {
    "collapsed": false,
    "scrolled": false
   },
   "outputs": [],
   "source": [
    "# Vola index indicator\n",
    "O = L = H = C = swmdf[swmdf.columns[0]]\n",
    "period = 15\n",
    "\n",
    "atr = ATR(H, L, C, period)\n",
    "\n",
    "close = swmdf[swmdf.columns[0]]\n",
    "\n",
    "swmdf.ix['2012':].plot()\n",
    "(close.shift(1) - atr * 0.5).ix['2012':].plot()\n",
    "((close > (close.shift(1) + atr * 0.5))+1).ix['2012':].plot(secondary_y=True)"
   ]
  },
  {
   "cell_type": "code",
   "execution_count": null,
   "metadata": {
    "collapsed": false
   },
   "outputs": [],
   "source": [
    "eqty = close.diff()\n",
    "eqty_filter = close.shift(1) - atr * 0.5\n",
    "\n",
    "filtered_eqty = eqty.copy()\n",
    "\n",
    "\n",
    "\n",
    "for i in range(len(eqty)):\n",
    "    if i > 0:\n",
    "        if eqty_filter.shift(10)[i] < close.shift(0)[i]:\n",
    "            filtered_eqty[i] = eqty[i]\n",
    "            last_value = eqty[i]\n",
    "            \n",
    "        elif eqty_filter.shift(10)[i] > close.shift(0)[i]:\n",
    "            filtered_eqty[i] = last_value\n",
    "            last_value = 0"
   ]
  },
  {
   "cell_type": "code",
   "execution_count": null,
   "metadata": {
    "collapsed": false
   },
   "outputs": [],
   "source": [
    "df = pd.DataFrame()\n",
    "filtered = pd.Series(preprocessing.scale(filtered_eqty.cumsum().dropna()), name='filtered')\n",
    "original = pd.Series(preprocessing.scale(close), name='original')\n",
    "\n",
    "#df.plot()\n",
    "pd.concat([filtered, original], axis=1).plot()"
   ]
  },
  {
   "cell_type": "code",
   "execution_count": null,
   "metadata": {
    "collapsed": false
   },
   "outputs": [],
   "source": [
    "df = pd.DataFrame()\n",
    "filtered = pd.Series(filtered_eqty.cumsum().dropna(), name='filtered')\n",
    "original = pd.Series(close, name='original')\n",
    "\n",
    "#df.plot()\n",
    "pd.concat([filtered, original], axis=1).plot()"
   ]
  },
  {
   "cell_type": "code",
   "execution_count": null,
   "metadata": {
    "collapsed": false
   },
   "outputs": [],
   "source": [
    "eqty.cumsum().plot()\n",
    "close.plot()"
   ]
  },
  {
   "cell_type": "code",
   "execution_count": null,
   "metadata": {
    "collapsed": false
   },
   "outputs": [],
   "source": [
    "(eqty.cumsum() - close).plot()"
   ]
  },
  {
   "cell_type": "code",
   "execution_count": null,
   "metadata": {
    "collapsed": false
   },
   "outputs": [],
   "source": [
    "%timeit (close.shift(1) - atr * 0.5)"
   ]
  },
  {
   "cell_type": "code",
   "execution_count": null,
   "metadata": {
    "collapsed": false
   },
   "outputs": [],
   "source": [
    "%timeit close.rolling(2).median()"
   ]
  },
  {
   "cell_type": "code",
   "execution_count": null,
   "metadata": {
    "collapsed": false
   },
   "outputs": [],
   "source": []
  }
 ],
 "metadata": {
  "kernelspec": {
   "display_name": "Python 3",
   "language": "python",
   "name": "python3"
  },
  "language_info": {
   "codemirror_mode": {
    "name": "ipython",
    "version": 3
   },
   "file_extension": ".py",
   "mimetype": "text/x-python",
   "name": "python",
   "nbconvert_exporter": "python",
   "pygments_lexer": "ipython3",
   "version": "3.5.2"
  }
 },
 "nbformat": 4,
 "nbformat_minor": 0
}
