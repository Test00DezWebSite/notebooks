{
 "cells": [
  {
   "cell_type": "code",
   "execution_count": null,
   "metadata": {
    "collapsed": false
   },
   "outputs": [],
   "source": [
    "import sys\n",
    "sys.path.append('../..')\n",
    "from backtester import matlab, backtester\n",
    "from backtester.analysis import *\n",
    "import pandas as pd\n",
    "import numpy as np\n",
    "import glob, os\n",
    "\n",
    "import itertools\n",
    "\n",
    "from backtester.exoinfo import EXOInfo\n",
    "from exobuilder.data.exostorage import EXOStorage\n",
    "from IPython.core.display import display, HTML\n",
    "\n",
    "import statsmodels.tsa.api as smt\n",
    "import statsmodels.tsa.filters as smfilters\n",
    "\n",
    "import plotly.plotly as py  \n",
    "import plotly.tools as tls   \n",
    "import plotly.graph_objs as go\n",
    "\n",
    "import pandas as pd\n",
    "import numpy as np\n",
    "import scipy\n",
    "import pprint\n",
    "\n",
    "%pylab inline\n",
    "figsize(20,10)"
   ]
  },
  {
   "cell_type": "code",
   "execution_count": null,
   "metadata": {
    "collapsed": false,
    "scrolled": false
   },
   "outputs": [],
   "source": [
    "# Loading global setting for MongoDB etc.\n",
    "from scripts.settings import *\n",
    "\n",
    "try:\n",
    "    from scripts.settings_local import *\n",
    "except:\n",
    "    pass\n",
    "\n",
    "storage = EXOStorage(MONGO_CONNSTR, MONGO_EXO_DB)\n",
    "pp = pprint.PrettyPrinter(indent=4)\n",
    "\n",
    "exo_list = storage.exo_list()\n",
    "pp.pprint(exo_list)\n",
    "\n",
    "\n",
    "df = pd.DataFrame()\n",
    "\n",
    "for e in exo_list:\n",
    "    exo_series, exo_dict = storage.load_series(e)\n",
    "    \n",
    "    exo_series = exo_series[exo_series.columns[0]]\n",
    "    df[exo_dict['name']] = exo_series\n",
    "#exo_series.plot()"
   ]
  },
  {
   "cell_type": "code",
   "execution_count": null,
   "metadata": {
    "collapsed": false
   },
   "outputs": [],
   "source": [
    "df.tail()"
   ]
  },
  {
   "cell_type": "code",
   "execution_count": null,
   "metadata": {
    "collapsed": false
   },
   "outputs": [],
   "source": [
    "px_ser = df.ES_CallSpread.dropna()\n",
    "#px_ser = (px_ser - px_ser.ewm(2).mean()).dropna()\n",
    "\n",
    "sd = smt.seasonal_decompose(px_ser.asfreq('B').ffill().dropna().iloc[:])#.plot()\n",
    "\n",
    "resid = sd.resid"
   ]
  },
  {
   "cell_type": "code",
   "execution_count": null,
   "metadata": {
    "collapsed": false,
    "scrolled": false
   },
   "outputs": [],
   "source": [
    "#px_ser.plot()\n",
    "\n",
    "px_ser.ewm(10).mean().ewm(10).mean().ewm(10).mean().ewm(10).mean().ewm(10).mean().plot()\n",
    "px_ser.ewm(50).mean().plot()\n",
    "fixed_hpfilt.plot()\n",
    "#px_ser.ewm(10).mean().ewm(10).mean().plot()\n",
    "#px_ser.ewm(10).mean().ewm(10).mean().ewm(10).mean().plot()\n",
    "#px_ser.ewm(10).mean().ewm(10).mean().ewm(10).mean().ewm(10).mean().plot()\n",
    "#px_ser.rolling(50, center=True, win_type='blackmanharris').mean().plot()"
   ]
  },
  {
   "cell_type": "code",
   "execution_count": null,
   "metadata": {
    "collapsed": false
   },
   "outputs": [],
   "source": [
    "centered_ma = px_ser.rolling(100, center=True, win_type='blackmanharris').mean()\n",
    "centered_ma[-1] = px_ser[-1]\n",
    "\n",
    "centered_ma_trend = centered_ma.interpolate('cubic')\n",
    "\n",
    "centered_ma_trend.ix['2016'].plot()\n",
    "\n",
    "px_ser.rolling(100, center=True, win_type='blackmanharris').mean().ix['2016'].plot()\n",
    "px_ser.ix['2016'].plot()"
   ]
  },
  {
   "cell_type": "code",
   "execution_count": null,
   "metadata": {
    "collapsed": false,
    "scrolled": false
   },
   "outputs": [],
   "source": [
    "maema_trend = (px_ser.rolling(50, center=True, win_type='blackmanharris').mean().ewm(10).mean())\n",
    "\n",
    "px_ser.plot()\n",
    "maema_trend.plot()\n",
    "#(px_ser - px_ser.ewm(30).mean()).plot()\n",
    "#(px_ser - px_ser.shift(10)).plot()\n",
    "#resid.plot()"
   ]
  },
  {
   "cell_type": "code",
   "execution_count": null,
   "metadata": {
    "collapsed": false
   },
   "outputs": [],
   "source": [
    "#smfilters.hp_filter.hpfilter(px_ser)[1]#.plot()\n",
    "hpfilt = smfilters.api.hpfilter(px_ser, lamb=50000)[1]#.plot()\n",
    "\n",
    "#smt.filters.\n",
    "hpfilt.plot()\n",
    "\n",
    "#resid.plot()\n",
    "(px_ser - hpfilt).plot()\n",
    "px_ser.plot()"
   ]
  },
  {
   "cell_type": "code",
   "execution_count": null,
   "metadata": {
    "collapsed": false
   },
   "outputs": [],
   "source": [
    "hpfilt.ix['2015'].plot()\n",
    "\n",
    "px_ser.ix['2015'].plot()"
   ]
  },
  {
   "cell_type": "code",
   "execution_count": null,
   "metadata": {
    "collapsed": false
   },
   "outputs": [],
   "source": [
    "maema_trend.plot()\n",
    "\n",
    "centered_ma_trend.plot()\n",
    "hpfilt.plot()"
   ]
  },
  {
   "cell_type": "code",
   "execution_count": null,
   "metadata": {
    "collapsed": false
   },
   "outputs": [],
   "source": [
    "#smfilters.hp_filter.hpfilter(px_ser)[1]#.plot()\n",
    "cycle, trend = smfilters.bk_filter.bkfilter(px_ser, low=2, high=60)#.plot()\n",
    "\n",
    "trend.plot()\n",
    "\n",
    "#resid.plot()\n",
    "#(px_ser - filt).plot()\n",
    "px_ser.plot()"
   ]
  },
  {
   "cell_type": "code",
   "execution_count": null,
   "metadata": {
    "collapsed": false
   },
   "outputs": [],
   "source": [
    "smfilters.bk_filter.bkfilter(px_ser, low=2, high=60)"
   ]
  },
  {
   "cell_type": "code",
   "execution_count": null,
   "metadata": {
    "collapsed": false
   },
   "outputs": [],
   "source": [
    "smfilters.bk_filter.bkfilter(px_ser, low=2, high=60).plot()"
   ]
  },
  {
   "cell_type": "code",
   "execution_count": null,
   "metadata": {
    "collapsed": false
   },
   "outputs": [],
   "source": [
    "#smfilters.hp_filter.hpfilter(px_ser)[1]#.plot()\n",
    "cycle, trend = smfilters.cf_filter.cffilter(px_ser, low=2, high=60, drift=False)#.plot()\n",
    "\n",
    "trend.plot()\n",
    "#trend.expanding().mean().plot()\n",
    "\n",
    "cycle.plot()\n",
    "resid.plot()\n",
    "#(px_ser - filt).plot()\n",
    "px_ser.plot()"
   ]
  },
  {
   "cell_type": "code",
   "execution_count": null,
   "metadata": {
    "collapsed": false
   },
   "outputs": [],
   "source": [
    "#resid.plot()\n",
    "(px_ser - px_ser.shift(1)).plot()\n",
    "px_ser.plot()\n",
    "#axhline(0)"
   ]
  },
  {
   "cell_type": "code",
   "execution_count": null,
   "metadata": {
    "collapsed": false,
    "scrolled": false
   },
   "outputs": [],
   "source": [
    "# Detrend func makes a px series pretty stationary\n",
    "detrended_px = pd.Series(smt.tsatools.detrend(px_ser, order=1))\n",
    "detrended_px.plot()\n",
    "detrended_px.expanding().mean().plot()\n",
    "detrended_px.expanding().std().plot()\n",
    "\n",
    "detrended_px.expanding().max().plot()\n",
    "detrended_px.expanding().min().plot()"
   ]
  },
  {
   "cell_type": "code",
   "execution_count": null,
   "metadata": {
    "collapsed": false
   },
   "outputs": [],
   "source": [
    "resid.plot()\n",
    "resid.expanding().mean().plot()\n",
    "resid.expanding().std().plot()\n",
    "\n",
    "resid.expanding().max().plot()\n",
    "resid.expanding().min().plot()"
   ]
  },
  {
   "cell_type": "code",
   "execution_count": null,
   "metadata": {
    "collapsed": false,
    "scrolled": false
   },
   "outputs": [],
   "source": [
    "sd = smt.seasonal_decompose(px_ser.asfreq('W').ffill().dropna().iloc[:])#.plot()\n",
    "sd.plot()"
   ]
  },
  {
   "cell_type": "code",
   "execution_count": null,
   "metadata": {
    "collapsed": false
   },
   "outputs": [],
   "source": [
    "pd.Series((sd.trend + sd.resid), name='Trend+Resid.').plot(legend=True)\n",
    "pd.Series((sd.observed), name='Observed').plot(legend=True)"
   ]
  },
  {
   "cell_type": "markdown",
   "metadata": {},
   "source": [
    "# Entry Rules\n",
    "# Exit rules - resid got back to 0, seasonal cycle got back to min/max\n",
    "# Also Monthly or Weekly TF may be useful\n",
    "# Resid is a detrended price series"
   ]
  },
  {
   "cell_type": "code",
   "execution_count": null,
   "metadata": {
    "collapsed": false
   },
   "outputs": [],
   "source": [
    "resid = sd.resid\n",
    "seas = sd.seasonal\n",
    "\n",
    "resid.plot()\n",
    "sd.observed.plot(secondary_y=True)"
   ]
  },
  {
   "cell_type": "code",
   "execution_count": null,
   "metadata": {
    "collapsed": false
   },
   "outputs": [],
   "source": [
    "resid.cumsum().plot()\n",
    "resid.plot()"
   ]
  },
  {
   "cell_type": "code",
   "execution_count": null,
   "metadata": {
    "collapsed": false,
    "scrolled": false
   },
   "outputs": [],
   "source": [
    "# Observed - Trend\n",
    "(sd.observed - sd.trend).plot()"
   ]
  },
  {
   "cell_type": "code",
   "execution_count": null,
   "metadata": {
    "collapsed": false
   },
   "outputs": [],
   "source": [
    "## Persent rank >= value or <= value\n",
    "resid_pctrank = resid.rank(pct=True)\n",
    "\n",
    "resid.plot()\n",
    "resid_pctrank.plot(secondary_y=True)\n",
    "\n",
    "axhline(0.5)\n",
    "axhline(0.9)\n",
    "axhline(0.1)"
   ]
  },
  {
   "cell_type": "code",
   "execution_count": null,
   "metadata": {
    "collapsed": false
   },
   "outputs": [],
   "source": [
    "## Z Score >= value or <= value\n",
    "# value, and period are subjects of optimization\n",
    "\n",
    "resid_zscore = (resid - resid.rolling(20).mean()) / resid.rolling(20).std()\n",
    "\n",
    "resid.plot()\n",
    "resid_zscore.plot(secondary_y=True)\n",
    "\n",
    "axhline(0)\n",
    "axhline(3)\n",
    "axhline(-2)"
   ]
  },
  {
   "cell_type": "code",
   "execution_count": null,
   "metadata": {
    "collapsed": false
   },
   "outputs": [],
   "source": [
    "seas.plot()"
   ]
  },
  {
   "cell_type": "code",
   "execution_count": null,
   "metadata": {
    "collapsed": false
   },
   "outputs": [],
   "source": [
    "sd.observed.plot()\n",
    "(seas == seas.max()).plot(secondary_y=True)"
   ]
  },
  {
   "cell_type": "code",
   "execution_count": null,
   "metadata": {
    "collapsed": false
   },
   "outputs": [],
   "source": [
    "#df.join(pd.Series(seas == seas.max(), name='sig'))"
   ]
  },
  {
   "cell_type": "code",
   "execution_count": null,
   "metadata": {
    "collapsed": false
   },
   "outputs": [],
   "source": [
    "sd.observed.plot()\n",
    "(seas == seas.min()).plot(secondary_y=True)\n",
    "#((seas.shift(1) < 0) & ((seas >= 0))).plot(secondary_y=True)"
   ]
  },
  {
   "cell_type": "code",
   "execution_count": null,
   "metadata": {
    "collapsed": false
   },
   "outputs": [],
   "source": [
    "sd.observed.plot()\n",
    "(seas == seas.max()).plot(secondary_y=True)\n",
    "(seas == seas.min()).plot(secondary_y=True)"
   ]
  },
  {
   "cell_type": "markdown",
   "metadata": {},
   "source": [
    "\n",
    "# Streaming\n",
    "\n",
    "\n",
    "\n",
    "\n",
    "\n",
    "\n",
    "\n",
    "\n",
    "\n",
    "\n",
    "\n",
    "\n",
    "\n",
    "\n",
    "\n",
    "\n",
    "\n",
    "\n",
    "\n",
    "\n",
    "\n"
   ]
  },
  {
   "cell_type": "code",
   "execution_count": null,
   "metadata": {
    "collapsed": false
   },
   "outputs": [],
   "source": [
    "#py.sign_in('tmqr', '8rctfyu197')\n",
    "py.sign_in('dmveden', 'rzbs7xw8ft')\n",
    "\n",
    "tls.set_credentials_file(username='dmveden', api_key='rzbs7xw8ft')"
   ]
  },
  {
   "cell_type": "code",
   "execution_count": null,
   "metadata": {
    "collapsed": false
   },
   "outputs": [],
   "source": [
    "stream_ids = tls.get_credentials_file()['stream_ids']\n",
    "print(stream_ids)"
   ]
  },
  {
   "cell_type": "code",
   "execution_count": null,
   "metadata": {
    "collapsed": false
   },
   "outputs": [],
   "source": [
    "# Get stream id from stream id list \n",
    "stream_id1 = 'twfcm3v44s'\n",
    "stream_id2 = '5dnfr3e5d8'\n",
    "stream_id3 = '1ynb4ujpbt'\n",
    "\n",
    "# Make instance of stream id object \n",
    "stream_1 = go.Stream(\n",
    "    token=stream_id1,  # link stream id to 'token' key\n",
    "    maxpoints=200      # keep a max of 80 pts on screen\n",
    ")\n",
    "\n",
    "# Make instance of stream id object \n",
    "stream_2 = go.Stream(\n",
    "    token=stream_id2,  # link stream id to 'token' key\n",
    "    maxpoints=200      # keep a max of 80 pts on screen\n",
    ")\n",
    "\n",
    "# Make instance of stream id object \n",
    "stream_3 = go.Stream(\n",
    "    token=stream_id3,  # link stream id to 'token' key\n",
    "    maxpoints=200      # keep a max of 80 pts on screen\n",
    ")\n",
    "\n",
    "# Initialize trace of streaming plot by embedding the unique stream_id\n",
    "trace1 = go.Scatter(\n",
    "    x=[],\n",
    "    y=[],\n",
    "    mode='lines+markers',\n",
    "    stream=stream_1         # (!) embed stream id, 1 per trace\n",
    ")\n",
    "\n",
    "trace1 = go.Scatter(x=[], y=[], stream=stream_1, name='Fixed_filter')\n",
    "trace2 = go.Scatter(x=[], y=[], stream=stream_2, name='Price', marker=dict(color='rgb(148, 103, 189)'))\n",
    "trace3 = go.Scatter(x=[], y=[], stream=stream_3, name='Standard filter', marker=dict(color='rgb(255, 0, 0'))\n",
    "\n",
    "data = go.Data([trace1, trace2, trace3])\n",
    "\n",
    "# Add title to layout object\n",
    "layout = go.Layout(title='Hodrick Prescott Filter Calculation Process')\n",
    "\n",
    "# Make a figure object\n",
    "fig = go.Figure(data=data, layout=layout)\n",
    "\n",
    "# Send fig to Plotly, initialize streaming plot, open new tab\n",
    "py.iplot(fig, filename='python-streaming')"
   ]
  },
  {
   "cell_type": "code",
   "execution_count": null,
   "metadata": {
    "collapsed": false
   },
   "outputs": [],
   "source": [
    "# We will provide the stream link object the same token that's associated with the trace we wish to stream to\n",
    "s_1 = py.Stream(stream_id=stream_id1)\n",
    "s_2 = py.Stream(stream_id=stream_id2)\n",
    "s_3 = py.Stream(stream_id=stream_id3)\n",
    "\n",
    "# We then open a connection\n",
    "s_1.open()\n",
    "s_2.open()\n",
    "s_3.open()"
   ]
  },
  {
   "cell_type": "code",
   "execution_count": null,
   "metadata": {
    "collapsed": false,
    "scrolled": false
   },
   "outputs": [],
   "source": [
    "# (*) Import module keep track and format current time\n",
    "import datetime \n",
    "import time   \n",
    " \n",
    "i = 10   # a counter\n",
    "k = 5    # some shape parameter\n",
    "\n",
    "# Delay start of stream by 5 sec (time to switch tabs)\n",
    "#time.sleep(2) \n",
    "\n",
    "#hpfilt = smfilters.api.hpfilter(px_ser, lamb=50000)[1]#.plot()\n",
    "#resid = (px_ser - hpfilt)\n",
    "fixed_hpfilt = pd.Series(NaN, index=px_ser.index)\n",
    "first_time_calc_flag = True\n",
    "\n",
    "while True:\n",
    "    if i > px_ser.size:\n",
    "        break\n",
    "        \n",
    "    hpfilt = smfilters.api.hpfilter(px_ser.iloc[:i], lamb=50000)[1]#.plot()\n",
    "    #filt = smfilters.cf_filter.cffilter(px_ser.iloc[:i], low=2, high=60, drift=False)[1]\n",
    "    #hpfilt = px_ser.iloc[:i].rolling(30, center=True).mean()\n",
    "    #filt[-1] = px_ser.iloc[:i][-1]\n",
    "    #filt.interpolate(inplace=True)\n",
    "    \n",
    "    \n",
    "     \n",
    "    hpfilt_slice = smfilters.api.hpfilter(px_ser.iloc[:i], lamb=50000)[1]\n",
    "    fixed_hpfilt.iloc[i] = np.mean(hpfilt_slice[-1:])\n",
    "    \n",
    "    filt = fixed_hpfilt\n",
    "    \n",
    "    # Current time on x-axis, random numbers on y-axis\n",
    "    x_1 = filt.iloc[:i].index\n",
    "    y_1 = filt.iloc[:i]\n",
    "     \n",
    "    x_2 = px_ser.iloc[:i].index\n",
    "    y_2 = px_ser.iloc[:i] \n",
    "    \n",
    "    x_3 = hpfilt.iloc[:i].index\n",
    "    y_3 = hpfilt.iloc[:i] \n",
    "    \n",
    "    # Send data to your plot\n",
    "    s_1.write(dict(x=x_1, y=y_1))  \n",
    "    s_1.write(dict(x=x_1, y=y_1)) \n",
    "    \n",
    "    s_2.write(dict(x=x_2, y=y_2))  \n",
    "    s_2.write(dict(x=x_2, y=y_2)) \n",
    "    \n",
    "    s_3.write(dict(x=x_3, y=y_3))  \n",
    "    s_3.write(dict(x=x_3, y=y_3)) \n",
    "    #     Write numbers to stream to append current data on plot,\n",
    "    #     write lists to overwrite existing data on plot\n",
    "            \n",
    "    time.sleep(0.1)  # plot a point every second    \n",
    "    i += 1\n",
    "    \n",
    "   \n",
    "# Close the stream when done plotting\n",
    "s_1.close() \n",
    "s_2.close() "
   ]
  },
  {
   "cell_type": "code",
   "execution_count": null,
   "metadata": {
    "collapsed": false
   },
   "outputs": [],
   "source": [
    "hpfilt = smfilters.api.hpfilter(px_ser, lamb=50000)[0]\n",
    "\n",
    "def x():\n",
    "    fixed_hpfilt = pd.Series(NaN, index=px_ser.index)\n",
    "\n",
    "    window = 10\n",
    "    first_time_calc_flag = True\n",
    "\n",
    "    for i in range(window, len(px_ser)):\n",
    "        hpfilt_slice = smfilters.api.hpfilter(px_ser.iloc[:i], lamb=50000)[0]\n",
    "        fixed_hpfilt.iloc[i] = np.mean(hpfilt_slice[-1:])\n",
    "        \n",
    "    return fixed_hpfilt"
   ]
  },
  {
   "cell_type": "code",
   "execution_count": null,
   "metadata": {
    "collapsed": false,
    "scrolled": false
   },
   "outputs": [],
   "source": [
    "%timeit x()"
   ]
  },
  {
   "cell_type": "code",
   "execution_count": null,
   "metadata": {
    "collapsed": false,
    "scrolled": false
   },
   "outputs": [],
   "source": [
    "px_ser.ix[:].plot()\n",
    "#px_ser.rolling(100).std().ix[\"2011\":].plot()\n",
    "#hpfilt.ix['2011':].plot()\n",
    "fixed_hpfilt.plot()\n",
    "fixedfilter_resid.plot()"
   ]
  },
  {
   "cell_type": "code",
   "execution_count": null,
   "metadata": {
    "collapsed": false,
    "scrolled": false
   },
   "outputs": [],
   "source": [
    "fixedfilter_resid = px_ser - fixed_hpfilt\n",
    "\n",
    "fixedfilter_resid.plot()\n",
    "fixedfilter_resid.expanding().mean().plot()\n",
    "fixedfilter_resid.expanding().std().plot()\n",
    "\n",
    "fixedfilter_resid.expanding().max().plot()\n",
    "fixedfilter_resid.expanding().min().plot()"
   ]
  },
  {
   "cell_type": "code",
   "execution_count": null,
   "metadata": {
    "collapsed": false
   },
   "outputs": [],
   "source": [
    "hpfilt_resid = px_ser - hpfilt\n",
    "\n",
    "hpfilt_resid.plot()\n",
    "hpfilt_resid.expanding().mean().plot()\n",
    "hpfilt_resid.expanding().std().plot()\n",
    "\n",
    "hpfilt_resid.expanding().max().plot()\n",
    "hpfilt_resid.expanding().min().plot()"
   ]
  },
  {
   "cell_type": "code",
   "execution_count": null,
   "metadata": {
    "collapsed": false,
    "scrolled": false
   },
   "outputs": [],
   "source": [
    "hpfilt_resid.plot()\n",
    "fixedfilter_resid.plot()"
   ]
  },
  {
   "cell_type": "code",
   "execution_count": null,
   "metadata": {
    "collapsed": false
   },
   "outputs": [],
   "source": [
    "(fixedfilter_resid - hpfilt_resid).plot()"
   ]
  },
  {
   "cell_type": "code",
   "execution_count": null,
   "metadata": {
    "collapsed": false
   },
   "outputs": [],
   "source": []
  },
  {
   "cell_type": "code",
   "execution_count": null,
   "metadata": {
    "collapsed": false
   },
   "outputs": [],
   "source": []
  },
  {
   "cell_type": "code",
   "execution_count": null,
   "metadata": {
    "collapsed": false
   },
   "outputs": [],
   "source": []
  },
  {
   "cell_type": "code",
   "execution_count": null,
   "metadata": {
    "collapsed": false
   },
   "outputs": [],
   "source": []
  }
 ],
 "metadata": {
  "kernelspec": {
   "display_name": "Python 3",
   "language": "python",
   "name": "python3"
  },
  "language_info": {
   "codemirror_mode": {
    "name": "ipython",
    "version": 3
   },
   "file_extension": ".py",
   "mimetype": "text/x-python",
   "name": "python",
   "nbconvert_exporter": "python",
   "pygments_lexer": "ipython3",
   "version": "3.5.2"
  }
 },
 "nbformat": 4,
 "nbformat_minor": 0
}
