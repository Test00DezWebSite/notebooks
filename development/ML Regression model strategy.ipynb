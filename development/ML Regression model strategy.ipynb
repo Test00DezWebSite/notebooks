{
 "cells": [
  {
   "cell_type": "code",
   "execution_count": null,
   "metadata": {
    "collapsed": false
   },
   "outputs": [],
   "source": [
    "import sys\n",
    "sys.path.append('../..')\n",
    "from backtester import matlab, backtester\n",
    "from backtester.analysis import *\n",
    "import pandas as pd\n",
    "import numpy as np\n",
    "import glob, os\n",
    "\n",
    "import itertools\n",
    "\n",
    "from backtester.exoinfo import EXOInfo\n",
    "from exobuilder.data.exostorage import EXOStorage\n",
    "from IPython.core.display import display, HTML\n",
    "\n",
    "from sklearn import linear_model, svm, cross_validation, naive_bayes, ensemble, tree, neighbors, decomposition, preprocessing\n",
    "from pandas.tseries.offsets import BDay\n",
    "\n",
    "import pandas as pd\n",
    "import numpy as np\n",
    "import scipy\n",
    "import pprint\n",
    "\n",
    "%pylab inline\n",
    "figsize(20,10)"
   ]
  },
  {
   "cell_type": "code",
   "execution_count": null,
   "metadata": {
    "collapsed": false,
    "scrolled": false
   },
   "outputs": [],
   "source": [
    "# Loading global setting for MongoDB etc.\n",
    "from scripts.settings import *\n",
    "\n",
    "try:\n",
    "    from scripts.settings_local import *\n",
    "except:\n",
    "    pass\n",
    "\n",
    "storage = EXOStorage(MONGO_CONNSTR, MONGO_EXO_DB)\n",
    "pp = pprint.PrettyPrinter(indent=4)\n",
    "\n",
    "exo_list = storage.exo_list()\n",
    "pp.pprint(exo_list)\n",
    "\n",
    "\n",
    "df = pd.DataFrame()\n",
    "\n",
    "for e in exo_list:\n",
    "    exo_series, exo_dict = storage.load_series(e)\n",
    "    \n",
    "    exo_series = exo_series[exo_series.columns[0]]\n",
    "    df[exo_dict['name']] = exo_series\n",
    "#exo_series.plot()"
   ]
  },
  {
   "cell_type": "code",
   "execution_count": null,
   "metadata": {
    "collapsed": false
   },
   "outputs": [],
   "source": [
    "df.tail()"
   ]
  },
  {
   "cell_type": "code",
   "execution_count": null,
   "metadata": {
    "collapsed": false
   },
   "outputs": [],
   "source": [
    "px_ser = df.NG_BearishCollarBW\n",
    "px_ser.dropna().plot()"
   ]
  },
  {
   "cell_type": "markdown",
   "metadata": {},
   "source": [
    "# Model"
   ]
  },
  {
   "cell_type": "code",
   "execution_count": null,
   "metadata": {
    "collapsed": false,
    "scrolled": false
   },
   "outputs": [],
   "source": [
    "i = 100\n",
    "\n",
    "empty_ser = pd.Series(False, index=px_ser.dropna().index)\n",
    "\n",
    "signals_df = pd.DataFrame()\n",
    "\n",
    "signals_df['long_entry_signal'] = empty_ser\n",
    "signals_df['long_exit_signal'] = empty_ser\n",
    "\n",
    "signals_df['short_entry_signal'] = empty_ser\n",
    "signals_df['short_exit_signal'] = empty_ser\n",
    "\n",
    "while True:\n",
    "    dataset_df = pd.DataFrame(index=px_ser.dropna().iloc[:i].index)\n",
    "    \n",
    "    px_ser_slice = px_ser[dataset_df.index].rolling(10).median()\n",
    "    \n",
    "    dataset_df['target'] = px_ser_slice.shift(-1)\n",
    "    \n",
    "    #dataset_df['features_px'] = px_ser_slice\n",
    "    dataset_df['features_shift1'] = px_ser_slice.shift(1)\n",
    "    dataset_df['features_shift2'] = px_ser_slice.shift(2)\n",
    "    #dataset_df['features_shift3'] = px_ser_slice.shift(3)\n",
    "    #dataset_df['features_shift5'] = px_ser_slice.shift(5)\n",
    "    #dataset_df['features_shift10'] = px_ser_slice.shift(10)\n",
    "\n",
    "    dataset_df['features_ma5'] = px_ser_slice.rolling(5).mean()\n",
    "    #dataset_df['features_ma10'] = px_ser_slice.rolling(10).mean()\n",
    "    #dataset_df['features_ma20'] = px_ser_slice.rolling(20).mean()\n",
    "    #dataset_df['features_ma30'] = px_ser_slice.rolling(30).mean()\n",
    "\n",
    "    dataset_df['features_relstr5'] = px_ser_slice - px_ser_slice.rolling(5).mean()\n",
    "    #dataset_df['features_relstr10'] = px_ser_slice - px_ser_slice.rolling(10).mean()\n",
    "    #dataset_df['features_relstr20'] = px_ser_slice - px_ser_slice.rolling(20).mean()\n",
    "    #dataset_df['features_relstra30'] = px_ser_slice - px_ser_slice.rolling(30).mean()\n",
    "    \n",
    "    predict_features = dataset_df.filter(like='features').dropna()\n",
    "    \n",
    "    dataset_df.dropna(inplace=True)\n",
    "\n",
    "    #dataset_df = pd.DataFrame(data=preprocessing.StandardScaler().fit_transform(dataset_df.values), \n",
    "    #                          index=dataset_df.index, columns=dataset_df.columns)\n",
    "\n",
    "    #dataset_df = pd.DataFrame(data=preprocessing.RobustScaler().fit_transform(dataset_df.values), \n",
    "    #                          index=dataset_df.index, columns=dataset_df.columns)\n",
    "\n",
    "    target = dataset_df.target\n",
    "\n",
    "    features = dataset_df.filter(like='features')\n",
    "    \n",
    "    #rf = ensemble.RandomForestRegressor(n_estimators=50).fit(features.iloc[:i], target.iloc[:i])\n",
    "    #features = features[pd.Series(rf.feature_importances_, index=features.columns).sort_values()[-3:].index]\n",
    "    \n",
    "    \n",
    "    #model = linear_model.LinearRegression()\n",
    "    #model = linear_model.ElasticNet()\n",
    "    #model = linear_model.RANSACRegressor()\n",
    "    \n",
    "    #knn = neighbors.KNeighborsRegressor(5)\n",
    "    #lr = linear_model.LinearRegression()\n",
    "    #model = ensemble.BaggingRegressor(base_estimator=None, n_estimators=50)\n",
    "    \n",
    "    #model = linear_model.RANSACRegressor()\n",
    "    #model = tree.DecisionTreeRegressor(max_depth=4)\n",
    "    #model = svm.NuSVR()\n",
    "    #model = ensemble.AdaBoostRegressor(n_estimators=10)\n",
    "    #model = ensemble.GradientBoostingRegressor()\n",
    "    #model = ensemble.RandomForestRegressor(n_estimators=50, max_depth=5, n_jobs=-1)\n",
    "    model = neighbors.KNeighborsRegressor(5, algorithm='auto')\n",
    "    #model = neighbors.RadiusNeighborsRegressor(5, n_jobs=1, algorithm='auto')\n",
    "    \n",
    "    model.fit(features.iloc[:i], target.iloc[:i])\n",
    "        \n",
    "    '''if i <= px_ser.size/4:\n",
    "        model = neighbors.KNeighborsRegressor(5, n_jobs=-1)\n",
    "        model.fit(features.iloc[:i], target.iloc[:i])\n",
    "        print('NO FITTING FROM',  px_ser[dataset_df.index].iloc[:i].index[-1])'''\n",
    "    \n",
    "    '''if prediction_series.size == 0:    \n",
    "        prediction_series = pd.Series(model.predict(predict_features.iloc[:i]), index=predict_features.iloc[:i].index, name='Prediction')\n",
    "    \n",
    "    else:\n",
    "        prediction_series = pd.concat([prediction_series,\n",
    "                                       pd.Series(model.predict(predict_features.iloc[:i])[-1], \n",
    "                                                 index=[predict_features.iloc[:i].index[-1] + pd.DateOffset(1)])])'''\n",
    "    \n",
    "        \n",
    "    prediction_series = pd.Series(model.predict(features.iloc[:i]), \n",
    "                                  index=features.iloc[:i].index, name='Prediction') \n",
    "    \n",
    "    #if prediction_series[-1] > prediction_series.rolling(5).mean()[-1]:\n",
    "    if prediction_series[-1] > prediction_series[-2]:\n",
    "        signals_df['long_entry_signal'].ix[px_ser_slice.index[-1]] = True\n",
    "        \n",
    "        \n",
    "        signals_df['long_exit_signal'].ix[px_ser_slice.index[-1] + BDay(1)] = True\n",
    "            \n",
    "           \n",
    "    #if prediction_series[-1] < prediction_series.rolling(5).mean()[-1]:\n",
    "    if prediction_series[-1] < prediction_series[-2]:\n",
    "        signals_df['short_entry_signal'].ix[px_ser_slice.index[-1]] = True\n",
    "        \n",
    "        \n",
    "        signals_df['short_exit_signal'].ix[px_ser_slice.index[-1]+ BDay(1)] = True\n",
    "            \n",
    "    print('last date-', prediction_series.iloc[:i].index[-1])\n",
    "    \n",
    "    if i >= px_ser.dropna().size:\n",
    "        break\n",
    "        \n",
    "    i += 1\n",
    "    \n",
    "#signals_df.loc[(signals_df.long_exit_signal == True) & (signals_df.long_entry_signal == True), 'long_exit_signal'] = False\n",
    "#signals_df.loc[(signals_df.short_exit_signal == True) & (signals_df.short_entry_signal == True), 'short_exit_signal'] = False"
   ]
  },
  {
   "cell_type": "markdown",
   "metadata": {},
   "source": [
    "# Backtest"
   ]
  },
  {
   "cell_type": "code",
   "execution_count": null,
   "metadata": {
    "collapsed": false
   },
   "outputs": [],
   "source": [
    "entry = signals_df.long_entry_signal\n",
    "exit = signals_df.long_exit_signal\n",
    "\n",
    "#entry = signals_df.short_entry_signal\n",
    "#exit = signals_df.short_exit_signal\n",
    "\n",
    "exodf = pd.DataFrame()\n",
    "exodf['exo'] = px_ser.dropna()\n",
    "\n",
    "direction = 1\n",
    "pl, inposition = backtester.backtest(exodf.iloc[:], entry, exit, direction)\n",
    "equity, stats = backtester.stats(pl, inposition)\n",
    "\n",
    "equity.plot()\n",
    "(px_ser*-1).plot()\n",
    "\n",
    "stats"
   ]
  },
  {
   "cell_type": "code",
   "execution_count": null,
   "metadata": {
    "collapsed": false
   },
   "outputs": [],
   "source": [
    "#entry = signals_df.long_entry_signal\n",
    "#exit = signals_df.long_exit_signal\n",
    "\n",
    "entry = signals_df.short_entry_signal\n",
    "exit = signals_df.short_exit_signal\n",
    "\n",
    "exodf = pd.DataFrame()\n",
    "exodf['exo'] = px_ser.dropna()\n",
    "\n",
    "direction = -1\n",
    "pl, inposition = backtester.backtest(exodf.iloc[:], entry, exit, direction)\n",
    "equity, stats = backtester.stats(pl, inposition)\n",
    "\n",
    "equity.plot()\n",
    "\n",
    "(px_ser*-1).plot()\n",
    "\n",
    "stats"
   ]
  },
  {
   "cell_type": "code",
   "execution_count": null,
   "metadata": {
    "collapsed": false
   },
   "outputs": [],
   "source": []
  },
  {
   "cell_type": "code",
   "execution_count": null,
   "metadata": {
    "collapsed": false
   },
   "outputs": [],
   "source": []
  }
 ],
 "metadata": {
  "kernelspec": {
   "display_name": "Python 3",
   "language": "python",
   "name": "python3"
  },
  "language_info": {
   "codemirror_mode": {
    "name": "ipython",
    "version": 3
   },
   "file_extension": ".py",
   "mimetype": "text/x-python",
   "name": "python",
   "nbconvert_exporter": "python",
   "pygments_lexer": "ipython3",
   "version": "3.5.2"
  }
 },
 "nbformat": 4,
 "nbformat_minor": 0
}
